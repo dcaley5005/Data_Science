{
  "cells": [
    {
      "cell_type": "markdown",
      "metadata": {
        "id": "qYkPmO5zCYXL"
      },
      "source": [
        "# File Path Locations"
      ]
    },
    {
      "cell_type": "code",
      "execution_count": 1,
      "metadata": {
        "colab": {
          "base_uri": "https://localhost:8080/"
        },
        "id": "eZoprm54BQqJ",
        "outputId": "e037ebd9-7c50-4304-eb92-ab4bd319318f"
      },
      "outputs": [
        {
          "output_type": "stream",
          "name": "stdout",
          "text": [
            "Mounted at /content/drive\n"
          ]
        }
      ],
      "source": [
        "from google.colab import drive\n",
        "drive.mount('/content/drive')"
      ]
    },
    {
      "cell_type": "code",
      "execution_count": 2,
      "metadata": {
        "id": "FV2b4ZMSB4aP"
      },
      "outputs": [],
      "source": [
        "# Path to all the input data\n",
        "data_path = '/content/drive/MyDrive/IST 664 Project - DL/kagglemoviereviews/corpus/'"
      ]
    },
    {
      "cell_type": "markdown",
      "metadata": {
        "id": "Y7CZlQu3ArN4"
      },
      "source": [
        "# Library"
      ]
    },
    {
      "cell_type": "code",
      "execution_count": 3,
      "metadata": {
        "colab": {
          "base_uri": "https://localhost:8080/"
        },
        "id": "h_UXkI9EAnEB",
        "outputId": "b9d7f63f-3bb1-4ccd-aa55-4ae74c786d0d"
      },
      "outputs": [
        {
          "output_type": "stream",
          "name": "stdout",
          "text": [
            "[nltk_data] Downloading package punkt to /root/nltk_data...\n",
            "[nltk_data]   Unzipping tokenizers/punkt.zip.\n",
            "[nltk_data] Downloading package stopwords to /root/nltk_data...\n",
            "[nltk_data]   Unzipping corpora/stopwords.zip.\n",
            "[nltk_data] Downloading package wordnet to /root/nltk_data...\n",
            "[nltk_data]   Unzipping corpora/wordnet.zip.\n",
            "[nltk_data] Downloading package sentence_polarity to\n",
            "[nltk_data]     /root/nltk_data...\n",
            "[nltk_data]   Unzipping corpora/sentence_polarity.zip.\n",
            "[nltk_data] Downloading package averaged_perceptron_tagger to\n",
            "[nltk_data]     /root/nltk_data...\n",
            "[nltk_data]   Unzipping taggers/averaged_perceptron_tagger.zip.\n"
          ]
        }
      ],
      "source": [
        "# Stats Packages\n",
        "import pandas as pd\n",
        "import numpy as np\n",
        "import plotly.express as px\n",
        "\n",
        "# NLP Packages\n",
        "import os\n",
        "import sys\n",
        "import random\n",
        "import nltk\n",
        "from nltk.corpus import stopwords\n",
        "from nltk import FreqDist\n",
        "from string import punctuation\n",
        "\n",
        "# Sklearn Model Classifiers\n",
        "from sklearn.metrics import accuracy_score\n",
        "from nltk.classify.scikitlearn import SklearnClassifier\n",
        "from sklearn.ensemble import RandomForestClassifier\n",
        "from sklearn.svm import SVC, LinearSVC\n",
        "\n",
        "#Regular Expression\n",
        "import re\n",
        "\n",
        "## Downloadable\n",
        "nltk.download('punkt')\n",
        "nltk.download('stopwords')\n",
        "nltk.download('wordnet')\n",
        "\n",
        "## Steming and Lemmatizer\n",
        "porter = nltk.PorterStemmer()\n",
        "word_lemma = nltk.WordNetLemmatizer()\n",
        "\n",
        "# movie review sentences\n",
        "from nltk.corpus import sentence_polarity\n",
        "nltk.download('sentence_polarity')\n",
        "import random\n",
        "\n",
        "####   adding Bigram features   ####\n",
        "# set up for using bigrams\n",
        "from nltk.collocations import *\n",
        "bigram_measures = nltk.collocations.BigramAssocMeasures()\n",
        "\n",
        "\n",
        "###  POS tag counts\n",
        "# using the default pos tagger in NLTK (the Stanford tagger)\n",
        "nltk.download('averaged_perceptron_tagger')\n",
        "\n",
        "my_colorlist = ['#ffc800','#e98f42','#ca8478','#79af96','#48a8a6']\n",
        "my_colorlist2 = ['#e98f42','#ca8478','#79af96','#48a8a6']"
      ]
    },
    {
      "cell_type": "markdown",
      "metadata": {
        "id": "-QA_cD8ICkBq"
      },
      "source": [
        "# Reviewing the Data"
      ]
    },
    {
      "cell_type": "code",
      "execution_count": 4,
      "metadata": {
        "id": "XDEOZxYSCM_6"
      },
      "outputs": [],
      "source": [
        "df_train = pd.read_csv(data_path+'train.tsv', sep='\\t')\n",
        "df_test = pd.read_csv(data_path+'test.tsv', sep='\\t')"
      ]
    },
    {
      "cell_type": "code",
      "execution_count": 5,
      "metadata": {
        "colab": {
          "base_uri": "https://localhost:8080/"
        },
        "id": "koGlpWsdGg7q",
        "outputId": "63555806-5ba0-4d6a-85b5-5652ae751085"
      },
      "outputs": [
        {
          "output_type": "stream",
          "name": "stdout",
          "text": [
            "8529\n",
            "156060\n"
          ]
        },
        {
          "output_type": "execute_result",
          "data": {
            "text/plain": [
              "18.297572986282095"
            ]
          },
          "metadata": {},
          "execution_count": 5
        }
      ],
      "source": [
        "unique_sentence = len(np.unique(df_train[\"SentenceId\"]))\n",
        "total_sentence = len(df_train[\"SentenceId\"])\n",
        "\n",
        "print(unique_sentence)\n",
        "print(total_sentence)\n",
        "\n",
        "total_sentence/ unique_sentence"
      ]
    },
    {
      "cell_type": "code",
      "execution_count": 6,
      "metadata": {
        "colab": {
          "base_uri": "https://localhost:8080/",
          "height": 424
        },
        "id": "VIFyYSlaCZgw",
        "outputId": "18c55507-fe7f-4a17-ad78-e4993d355603"
      },
      "outputs": [
        {
          "output_type": "execute_result",
          "data": {
            "text/html": [
              "\n",
              "  <div id=\"df-06c85f39-cdb5-4523-bd67-1982ea16e0f9\">\n",
              "    <div class=\"colab-df-container\">\n",
              "      <div>\n",
              "<style scoped>\n",
              "    .dataframe tbody tr th:only-of-type {\n",
              "        vertical-align: middle;\n",
              "    }\n",
              "\n",
              "    .dataframe tbody tr th {\n",
              "        vertical-align: top;\n",
              "    }\n",
              "\n",
              "    .dataframe thead th {\n",
              "        text-align: right;\n",
              "    }\n",
              "</style>\n",
              "<table border=\"1\" class=\"dataframe\">\n",
              "  <thead>\n",
              "    <tr style=\"text-align: right;\">\n",
              "      <th></th>\n",
              "      <th>PhraseId</th>\n",
              "      <th>SentenceId</th>\n",
              "      <th>Phrase</th>\n",
              "      <th>Sentiment</th>\n",
              "      <th>FullSentenceId</th>\n",
              "    </tr>\n",
              "  </thead>\n",
              "  <tbody>\n",
              "    <tr>\n",
              "      <th>0</th>\n",
              "      <td>1</td>\n",
              "      <td>1</td>\n",
              "      <td>A series of escapades demonstrating the adage ...</td>\n",
              "      <td>1</td>\n",
              "      <td>1</td>\n",
              "    </tr>\n",
              "    <tr>\n",
              "      <th>1</th>\n",
              "      <td>2</td>\n",
              "      <td>1</td>\n",
              "      <td>A series of escapades demonstrating the adage ...</td>\n",
              "      <td>2</td>\n",
              "      <td>2</td>\n",
              "    </tr>\n",
              "    <tr>\n",
              "      <th>2</th>\n",
              "      <td>3</td>\n",
              "      <td>1</td>\n",
              "      <td>A series</td>\n",
              "      <td>2</td>\n",
              "      <td>3</td>\n",
              "    </tr>\n",
              "    <tr>\n",
              "      <th>3</th>\n",
              "      <td>4</td>\n",
              "      <td>1</td>\n",
              "      <td>A</td>\n",
              "      <td>2</td>\n",
              "      <td>4</td>\n",
              "    </tr>\n",
              "    <tr>\n",
              "      <th>4</th>\n",
              "      <td>5</td>\n",
              "      <td>1</td>\n",
              "      <td>series</td>\n",
              "      <td>2</td>\n",
              "      <td>5</td>\n",
              "    </tr>\n",
              "    <tr>\n",
              "      <th>...</th>\n",
              "      <td>...</td>\n",
              "      <td>...</td>\n",
              "      <td>...</td>\n",
              "      <td>...</td>\n",
              "      <td>...</td>\n",
              "    </tr>\n",
              "    <tr>\n",
              "      <th>70</th>\n",
              "      <td>71</td>\n",
              "      <td>2</td>\n",
              "      <td>introspective and entertaining</td>\n",
              "      <td>3</td>\n",
              "      <td>8</td>\n",
              "    </tr>\n",
              "    <tr>\n",
              "      <th>71</th>\n",
              "      <td>72</td>\n",
              "      <td>2</td>\n",
              "      <td>introspective and</td>\n",
              "      <td>3</td>\n",
              "      <td>9</td>\n",
              "    </tr>\n",
              "    <tr>\n",
              "      <th>72</th>\n",
              "      <td>73</td>\n",
              "      <td>2</td>\n",
              "      <td>introspective</td>\n",
              "      <td>2</td>\n",
              "      <td>10</td>\n",
              "    </tr>\n",
              "    <tr>\n",
              "      <th>73</th>\n",
              "      <td>74</td>\n",
              "      <td>2</td>\n",
              "      <td>and</td>\n",
              "      <td>2</td>\n",
              "      <td>11</td>\n",
              "    </tr>\n",
              "    <tr>\n",
              "      <th>74</th>\n",
              "      <td>75</td>\n",
              "      <td>2</td>\n",
              "      <td>entertaining</td>\n",
              "      <td>4</td>\n",
              "      <td>12</td>\n",
              "    </tr>\n",
              "  </tbody>\n",
              "</table>\n",
              "<p>75 rows × 5 columns</p>\n",
              "</div>\n",
              "      <button class=\"colab-df-convert\" onclick=\"convertToInteractive('df-06c85f39-cdb5-4523-bd67-1982ea16e0f9')\"\n",
              "              title=\"Convert this dataframe to an interactive table.\"\n",
              "              style=\"display:none;\">\n",
              "        \n",
              "  <svg xmlns=\"http://www.w3.org/2000/svg\" height=\"24px\"viewBox=\"0 0 24 24\"\n",
              "       width=\"24px\">\n",
              "    <path d=\"M0 0h24v24H0V0z\" fill=\"none\"/>\n",
              "    <path d=\"M18.56 5.44l.94 2.06.94-2.06 2.06-.94-2.06-.94-.94-2.06-.94 2.06-2.06.94zm-11 1L8.5 8.5l.94-2.06 2.06-.94-2.06-.94L8.5 2.5l-.94 2.06-2.06.94zm10 10l.94 2.06.94-2.06 2.06-.94-2.06-.94-.94-2.06-.94 2.06-2.06.94z\"/><path d=\"M17.41 7.96l-1.37-1.37c-.4-.4-.92-.59-1.43-.59-.52 0-1.04.2-1.43.59L10.3 9.45l-7.72 7.72c-.78.78-.78 2.05 0 2.83L4 21.41c.39.39.9.59 1.41.59.51 0 1.02-.2 1.41-.59l7.78-7.78 2.81-2.81c.8-.78.8-2.07 0-2.86zM5.41 20L4 18.59l7.72-7.72 1.47 1.35L5.41 20z\"/>\n",
              "  </svg>\n",
              "      </button>\n",
              "      \n",
              "  <style>\n",
              "    .colab-df-container {\n",
              "      display:flex;\n",
              "      flex-wrap:wrap;\n",
              "      gap: 12px;\n",
              "    }\n",
              "\n",
              "    .colab-df-convert {\n",
              "      background-color: #E8F0FE;\n",
              "      border: none;\n",
              "      border-radius: 50%;\n",
              "      cursor: pointer;\n",
              "      display: none;\n",
              "      fill: #1967D2;\n",
              "      height: 32px;\n",
              "      padding: 0 0 0 0;\n",
              "      width: 32px;\n",
              "    }\n",
              "\n",
              "    .colab-df-convert:hover {\n",
              "      background-color: #E2EBFA;\n",
              "      box-shadow: 0px 1px 2px rgba(60, 64, 67, 0.3), 0px 1px 3px 1px rgba(60, 64, 67, 0.15);\n",
              "      fill: #174EA6;\n",
              "    }\n",
              "\n",
              "    [theme=dark] .colab-df-convert {\n",
              "      background-color: #3B4455;\n",
              "      fill: #D2E3FC;\n",
              "    }\n",
              "\n",
              "    [theme=dark] .colab-df-convert:hover {\n",
              "      background-color: #434B5C;\n",
              "      box-shadow: 0px 1px 3px 1px rgba(0, 0, 0, 0.15);\n",
              "      filter: drop-shadow(0px 1px 2px rgba(0, 0, 0, 0.3));\n",
              "      fill: #FFFFFF;\n",
              "    }\n",
              "  </style>\n",
              "\n",
              "      <script>\n",
              "        const buttonEl =\n",
              "          document.querySelector('#df-06c85f39-cdb5-4523-bd67-1982ea16e0f9 button.colab-df-convert');\n",
              "        buttonEl.style.display =\n",
              "          google.colab.kernel.accessAllowed ? 'block' : 'none';\n",
              "\n",
              "        async function convertToInteractive(key) {\n",
              "          const element = document.querySelector('#df-06c85f39-cdb5-4523-bd67-1982ea16e0f9');\n",
              "          const dataTable =\n",
              "            await google.colab.kernel.invokeFunction('convertToInteractive',\n",
              "                                                     [key], {});\n",
              "          if (!dataTable) return;\n",
              "\n",
              "          const docLinkHtml = 'Like what you see? Visit the ' +\n",
              "            '<a target=\"_blank\" href=https://colab.research.google.com/notebooks/data_table.ipynb>data table notebook</a>'\n",
              "            + ' to learn more about interactive tables.';\n",
              "          element.innerHTML = '';\n",
              "          dataTable['output_type'] = 'display_data';\n",
              "          await google.colab.output.renderOutput(dataTable, element);\n",
              "          const docLink = document.createElement('div');\n",
              "          docLink.innerHTML = docLinkHtml;\n",
              "          element.appendChild(docLink);\n",
              "        }\n",
              "      </script>\n",
              "    </div>\n",
              "  </div>\n",
              "  "
            ],
            "text/plain": [
              "    PhraseId  SentenceId  ... Sentiment  FullSentenceId\n",
              "0          1           1  ...         1               1\n",
              "1          2           1  ...         2               2\n",
              "2          3           1  ...         2               3\n",
              "3          4           1  ...         2               4\n",
              "4          5           1  ...         2               5\n",
              "..       ...         ...  ...       ...             ...\n",
              "70        71           2  ...         3               8\n",
              "71        72           2  ...         3               9\n",
              "72        73           2  ...         2              10\n",
              "73        74           2  ...         2              11\n",
              "74        75           2  ...         4              12\n",
              "\n",
              "[75 rows x 5 columns]"
            ]
          },
          "metadata": {},
          "execution_count": 6
        }
      ],
      "source": [
        "df_train['FullSentenceId'] = df_train.sort_values(['PhraseId'], ascending=[True]) \\\n",
        "             .groupby(['SentenceId']) \\\n",
        "             .cumcount() + 1\n",
        "\n",
        "df_train[:75]\n"
      ]
    },
    {
      "cell_type": "code",
      "execution_count": 7,
      "metadata": {
        "id": "lxcCZWb0JSts"
      },
      "outputs": [],
      "source": [
        "parent_df = df_train[df_train[\"FullSentenceId\"]==\"1\"]"
      ]
    },
    {
      "cell_type": "code",
      "execution_count": 8,
      "metadata": {
        "colab": {
          "base_uri": "https://localhost:8080/",
          "height": 363
        },
        "id": "Q_43nuhCH3Rz",
        "outputId": "6883af5f-4a85-4d3f-e41d-46590c31f08c"
      },
      "outputs": [
        {
          "output_type": "execute_result",
          "data": {
            "text/html": [
              "\n",
              "  <div id=\"df-e41ebc0a-f67f-4597-8d8c-0c98394efbd5\">\n",
              "    <div class=\"colab-df-container\">\n",
              "      <div>\n",
              "<style scoped>\n",
              "    .dataframe tbody tr th:only-of-type {\n",
              "        vertical-align: middle;\n",
              "    }\n",
              "\n",
              "    .dataframe tbody tr th {\n",
              "        vertical-align: top;\n",
              "    }\n",
              "\n",
              "    .dataframe thead th {\n",
              "        text-align: right;\n",
              "    }\n",
              "</style>\n",
              "<table border=\"1\" class=\"dataframe\">\n",
              "  <thead>\n",
              "    <tr style=\"text-align: right;\">\n",
              "      <th></th>\n",
              "      <th>PhraseId</th>\n",
              "      <th>SentenceId</th>\n",
              "      <th>Phrase</th>\n",
              "      <th>FullSentenceId</th>\n",
              "    </tr>\n",
              "  </thead>\n",
              "  <tbody>\n",
              "    <tr>\n",
              "      <th>0</th>\n",
              "      <td>156061</td>\n",
              "      <td>8545</td>\n",
              "      <td>An intermittently pleasing but mostly routine ...</td>\n",
              "      <td>1</td>\n",
              "    </tr>\n",
              "    <tr>\n",
              "      <th>1</th>\n",
              "      <td>156062</td>\n",
              "      <td>8545</td>\n",
              "      <td>An intermittently pleasing but mostly routine ...</td>\n",
              "      <td>2</td>\n",
              "    </tr>\n",
              "    <tr>\n",
              "      <th>2</th>\n",
              "      <td>156063</td>\n",
              "      <td>8545</td>\n",
              "      <td>An</td>\n",
              "      <td>3</td>\n",
              "    </tr>\n",
              "    <tr>\n",
              "      <th>3</th>\n",
              "      <td>156064</td>\n",
              "      <td>8545</td>\n",
              "      <td>intermittently pleasing but mostly routine effort</td>\n",
              "      <td>4</td>\n",
              "    </tr>\n",
              "    <tr>\n",
              "      <th>4</th>\n",
              "      <td>156065</td>\n",
              "      <td>8545</td>\n",
              "      <td>intermittently pleasing but mostly routine</td>\n",
              "      <td>5</td>\n",
              "    </tr>\n",
              "    <tr>\n",
              "      <th>5</th>\n",
              "      <td>156066</td>\n",
              "      <td>8545</td>\n",
              "      <td>intermittently pleasing but</td>\n",
              "      <td>6</td>\n",
              "    </tr>\n",
              "    <tr>\n",
              "      <th>6</th>\n",
              "      <td>156067</td>\n",
              "      <td>8545</td>\n",
              "      <td>intermittently pleasing</td>\n",
              "      <td>7</td>\n",
              "    </tr>\n",
              "    <tr>\n",
              "      <th>7</th>\n",
              "      <td>156068</td>\n",
              "      <td>8545</td>\n",
              "      <td>intermittently</td>\n",
              "      <td>8</td>\n",
              "    </tr>\n",
              "    <tr>\n",
              "      <th>8</th>\n",
              "      <td>156069</td>\n",
              "      <td>8545</td>\n",
              "      <td>pleasing</td>\n",
              "      <td>9</td>\n",
              "    </tr>\n",
              "    <tr>\n",
              "      <th>9</th>\n",
              "      <td>156070</td>\n",
              "      <td>8545</td>\n",
              "      <td>but</td>\n",
              "      <td>10</td>\n",
              "    </tr>\n",
              "  </tbody>\n",
              "</table>\n",
              "</div>\n",
              "      <button class=\"colab-df-convert\" onclick=\"convertToInteractive('df-e41ebc0a-f67f-4597-8d8c-0c98394efbd5')\"\n",
              "              title=\"Convert this dataframe to an interactive table.\"\n",
              "              style=\"display:none;\">\n",
              "        \n",
              "  <svg xmlns=\"http://www.w3.org/2000/svg\" height=\"24px\"viewBox=\"0 0 24 24\"\n",
              "       width=\"24px\">\n",
              "    <path d=\"M0 0h24v24H0V0z\" fill=\"none\"/>\n",
              "    <path d=\"M18.56 5.44l.94 2.06.94-2.06 2.06-.94-2.06-.94-.94-2.06-.94 2.06-2.06.94zm-11 1L8.5 8.5l.94-2.06 2.06-.94-2.06-.94L8.5 2.5l-.94 2.06-2.06.94zm10 10l.94 2.06.94-2.06 2.06-.94-2.06-.94-.94-2.06-.94 2.06-2.06.94z\"/><path d=\"M17.41 7.96l-1.37-1.37c-.4-.4-.92-.59-1.43-.59-.52 0-1.04.2-1.43.59L10.3 9.45l-7.72 7.72c-.78.78-.78 2.05 0 2.83L4 21.41c.39.39.9.59 1.41.59.51 0 1.02-.2 1.41-.59l7.78-7.78 2.81-2.81c.8-.78.8-2.07 0-2.86zM5.41 20L4 18.59l7.72-7.72 1.47 1.35L5.41 20z\"/>\n",
              "  </svg>\n",
              "      </button>\n",
              "      \n",
              "  <style>\n",
              "    .colab-df-container {\n",
              "      display:flex;\n",
              "      flex-wrap:wrap;\n",
              "      gap: 12px;\n",
              "    }\n",
              "\n",
              "    .colab-df-convert {\n",
              "      background-color: #E8F0FE;\n",
              "      border: none;\n",
              "      border-radius: 50%;\n",
              "      cursor: pointer;\n",
              "      display: none;\n",
              "      fill: #1967D2;\n",
              "      height: 32px;\n",
              "      padding: 0 0 0 0;\n",
              "      width: 32px;\n",
              "    }\n",
              "\n",
              "    .colab-df-convert:hover {\n",
              "      background-color: #E2EBFA;\n",
              "      box-shadow: 0px 1px 2px rgba(60, 64, 67, 0.3), 0px 1px 3px 1px rgba(60, 64, 67, 0.15);\n",
              "      fill: #174EA6;\n",
              "    }\n",
              "\n",
              "    [theme=dark] .colab-df-convert {\n",
              "      background-color: #3B4455;\n",
              "      fill: #D2E3FC;\n",
              "    }\n",
              "\n",
              "    [theme=dark] .colab-df-convert:hover {\n",
              "      background-color: #434B5C;\n",
              "      box-shadow: 0px 1px 3px 1px rgba(0, 0, 0, 0.15);\n",
              "      filter: drop-shadow(0px 1px 2px rgba(0, 0, 0, 0.3));\n",
              "      fill: #FFFFFF;\n",
              "    }\n",
              "  </style>\n",
              "\n",
              "      <script>\n",
              "        const buttonEl =\n",
              "          document.querySelector('#df-e41ebc0a-f67f-4597-8d8c-0c98394efbd5 button.colab-df-convert');\n",
              "        buttonEl.style.display =\n",
              "          google.colab.kernel.accessAllowed ? 'block' : 'none';\n",
              "\n",
              "        async function convertToInteractive(key) {\n",
              "          const element = document.querySelector('#df-e41ebc0a-f67f-4597-8d8c-0c98394efbd5');\n",
              "          const dataTable =\n",
              "            await google.colab.kernel.invokeFunction('convertToInteractive',\n",
              "                                                     [key], {});\n",
              "          if (!dataTable) return;\n",
              "\n",
              "          const docLinkHtml = 'Like what you see? Visit the ' +\n",
              "            '<a target=\"_blank\" href=https://colab.research.google.com/notebooks/data_table.ipynb>data table notebook</a>'\n",
              "            + ' to learn more about interactive tables.';\n",
              "          element.innerHTML = '';\n",
              "          dataTable['output_type'] = 'display_data';\n",
              "          await google.colab.output.renderOutput(dataTable, element);\n",
              "          const docLink = document.createElement('div');\n",
              "          docLink.innerHTML = docLinkHtml;\n",
              "          element.appendChild(docLink);\n",
              "        }\n",
              "      </script>\n",
              "    </div>\n",
              "  </div>\n",
              "  "
            ],
            "text/plain": [
              "   PhraseId  ...  FullSentenceId\n",
              "0    156061  ...               1\n",
              "1    156062  ...               2\n",
              "2    156063  ...               3\n",
              "3    156064  ...               4\n",
              "4    156065  ...               5\n",
              "5    156066  ...               6\n",
              "6    156067  ...               7\n",
              "7    156068  ...               8\n",
              "8    156069  ...               9\n",
              "9    156070  ...              10\n",
              "\n",
              "[10 rows x 4 columns]"
            ]
          },
          "metadata": {},
          "execution_count": 8
        }
      ],
      "source": [
        "df_test['FullSentenceId'] = df_test.sort_values(['PhraseId'], ascending=[True]) \\\n",
        "             .groupby(['SentenceId']) \\\n",
        "             .cumcount() + 1\n",
        "df_test[:10]"
      ]
    },
    {
      "cell_type": "code",
      "execution_count": 9,
      "metadata": {
        "id": "UqEBhl_sDEp9"
      },
      "outputs": [],
      "source": [
        "imdb_df_hist = df_train.groupby([\"SentenceId\"]).agg({\"PhraseId\":len}).reset_index()\n",
        "imdb_df_box = df_train.groupby([\"SentenceId\",\"Sentiment\"]).agg({\"PhraseId\":len}).reset_index()"
      ]
    },
    {
      "cell_type": "code",
      "execution_count": 10,
      "metadata": {
        "colab": {
          "base_uri": "https://localhost:8080/",
          "height": 542
        },
        "id": "XJX7X2DK5_Xl",
        "outputId": "44a19fb1-5e9c-4642-ebfa-d04179292c69"
      },
      "outputs": [
        {
          "output_type": "display_data",
          "data": {
            "text/html": [
              "<html>\n",
              "<head><meta charset=\"utf-8\" /></head>\n",
              "<body>\n",
              "    <div>\n",
              "            <script src=\"https://cdnjs.cloudflare.com/ajax/libs/mathjax/2.7.5/MathJax.js?config=TeX-AMS-MML_SVG\"></script><script type=\"text/javascript\">if (window.MathJax) {MathJax.Hub.Config({SVG: {font: \"STIX-Web\"}});}</script>\n",
              "                <script type=\"text/javascript\">window.PlotlyConfig = {MathJaxConfig: 'local'};</script>\n",
              "        <script src=\"https://cdn.plot.ly/plotly-latest.min.js\"></script>    \n",
              "            <div id=\"125e7937-24ee-424f-94b7-67e833b6171d\" class=\"plotly-graph-div\" style=\"height:525px; width:100%;\"></div>\n",
              "            <script type=\"text/javascript\">\n",
              "                \n",
              "                    window.PLOTLYENV=window.PLOTLYENV || {};\n",
              "                    \n",
              "                if (document.getElementById(\"125e7937-24ee-424f-94b7-67e833b6171d\")) {\n",
              "                    Plotly.newPlot(\n",
              "                        '125e7937-24ee-424f-94b7-67e833b6171d',\n",
              "                        [{\"alignmentgroup\": \"True\", \"bingroup\": \"x\", \"hoverlabel\": {\"namelength\": 0}, \"hovertemplate\": \"# Phrases=%{x}<br>count=%{y}\", \"legendgroup\": \"\", \"marker\": {\"color\": \"#636efa\"}, \"name\": \"\", \"offsetgroup\": \"\", \"orientation\": \"v\", \"showlegend\": false, \"type\": \"histogram\", \"x\": [63, 18, 35, 40, 10, 32, 15, 34, 12, 12, 35, 46, 11, 44, 16, 35, 15, 43, 20, 15, 12, 56, 28, 39, 16, 23, 16, 45, 24, 29, 9, 33, 35, 28, 26, 32, 21, 27, 37, 12, 35, 30, 34, 17, 9, 33, 23, 24, 28, 36, 32, 45, 34, 26, 17, 8, 8, 30, 40, 19, 31, 28, 29, 19, 20, 44, 41, 6, 37, 35, 20, 28, 7, 11, 22, 7, 21, 37, 16, 15, 40, 53, 23, 17, 9, 30, 23, 18, 23, 31, 25, 20, 39, 20, 31, 16, 36, 25, 17, 16, 40, 24, 41, 8, 12, 38, 27, 37, 24, 30, 35, 42, 50, 43, 22, 12, 24, 28, 30, 45, 37, 2, 8, 32, 42, 21, 49, 54, 22, 23, 13, 22, 40, 19, 20, 13, 6, 38, 21, 5, 19, 28, 18, 22, 24, 24, 42, 15, 56, 33, 10, 50, 23, 41, 6, 40, 21, 9, 19, 22, 17, 26, 41, 18, 45, 44, 28, 20, 21, 20, 24, 11, 35, 10, 33, 26, 12, 18, 35, 10, 20, 34, 30, 15, 18, 13, 13, 6, 7, 27, 22, 14, 22, 21, 31, 8, 26, 41, 7, 17, 10, 13, 15, 19, 4, 28, 30, 27, 27, 24, 19, 10, 13, 7, 32, 30, 51, 37, 25, 27, 15, 13, 30, 38, 18, 34, 32, 19, 28, 2, 23, 6, 30, 20, 17, 41, 18, 11, 18, 55, 30, 10, 35, 31, 37, 41, 5, 28, 28, 5, 18, 47, 39, 40, 18, 16, 38, 4, 29, 21, 36, 9, 18, 40, 6, 18, 17, 7, 30, 28, 13, 16, 18, 34, 39, 44, 12, 14, 25, 33, 23, 16, 14, 4, 21, 10, 7, 14, 18, 5, 7, 10, 50, 29, 20, 7, 29, 25, 4, 42, 53, 30, 48, 24, 4, 27, 29, 40, 24, 42, 18, 7, 14, 16, 29, 25, 7, 34, 15, 28, 18, 27, 25, 20, 1, 7, 18, 29, 5, 6, 21, 30, 4, 20, 11, 35, 9, 22, 7, 23, 18, 36, 5, 7, 46, 20, 14, 16, 36, 18, 42, 43, 33, 26, 6, 7, 15, 36, 7, 21, 20, 12, 17, 23, 31, 22, 46, 9, 27, 14, 12, 33, 17, 35, 18, 15, 31, 9, 21, 27, 37, 19, 20, 18, 16, 40, 39, 25, 18, 40, 32, 30, 19, 20, 23, 20, 23, 31, 16, 23, 8, 22, 57, 30, 20, 26, 28, 5, 12, 14, 14, 22, 2, 23, 31, 6, 19, 22, 14, 8, 35, 12, 39, 26, 17, 38, 25, 8, 8, 39, 25, 8, 35, 26, 15, 11, 40, 27, 12, 17, 17, 17, 17, 26, 6, 17, 25, 22, 9, 22, 13, 25, 17, 23, 14, 10, 26, 19, 30, 31, 11, 8, 8, 16, 26, 10, 38, 27, 12, 15, 37, 21, 13, 9, 5, 9, 4, 28, 17, 4, 21, 30, 18, 23, 6, 29, 35, 45, 44, 7, 16, 8, 17, 17, 9, 28, 46, 14, 13, 13, 11, 35, 7, 35, 42, 14, 36, 11, 59, 40, 44, 22, 7, 12, 20, 30, 40, 36, 36, 26, 31, 24, 20, 9, 32, 31, 18, 31, 5, 11, 38, 17, 9, 15, 27, 22, 30, 19, 5, 20, 21, 18, 24, 16, 12, 21, 23, 18, 21, 23, 34, 42, 43, 18, 21, 13, 8, 15, 23, 27, 36, 24, 25, 21, 32, 24, 19, 7, 17, 47, 7, 20, 36, 23, 15, 17, 36, 29, 6, 19, 46, 40, 34, 31, 15, 14, 4, 5, 24, 20, 14, 30, 8, 11, 52, 41, 15, 20, 19, 18, 23, 18, 46, 25, 14, 21, 3, 18, 24, 32, 20, 17, 28, 39, 10, 22, 31, 22, 12, 39, 14, 31, 11, 15, 58, 21, 7, 15, 25, 17, 28, 24, 30, 17, 51, 41, 11, 21, 23, 35, 31, 24, 16, 11, 23, 27, 30, 17, 16, 33, 19, 24, 25, 52, 39, 27, 38, 41, 11, 5, 31, 21, 22, 22, 17, 19, 31, 36, 12, 15, 11, 26, 14, 16, 33, 42, 12, 22, 19, 19, 20, 27, 40, 14, 22, 27, 9, 21, 17, 8, 21, 22, 19, 16, 9, 15, 6, 14, 12, 38, 22, 49, 37, 34, 37, 11, 28, 24, 32, 28, 13, 12, 6, 24, 11, 23, 7, 18, 12, 25, 31, 21, 18, 18, 17, 20, 3, 8, 29, 31, 3, 22, 29, 15, 8, 7, 16, 43, 40, 20, 14, 9, 28, 31, 8, 41, 7, 17, 33, 17, 13, 45, 18, 17, 33, 41, 10, 34, 26, 35, 27, 27, 29, 14, 43, 6, 23, 14, 8, 11, 26, 26, 6, 23, 21, 7, 11, 7, 26, 16, 14, 2, 41, 18, 12, 21, 25, 15, 23, 21, 7, 31, 38, 3, 5, 26, 33, 22, 12, 46, 10, 17, 10, 9, 21, 5, 2, 14, 22, 23, 28, 21, 7, 29, 4, 8, 54, 32, 32, 16, 17, 24, 7, 15, 24, 37, 30, 33, 10, 7, 26, 19, 44, 23, 25, 26, 35, 13, 14, 32, 17, 29, 9, 18, 33, 9, 14, 17, 22, 13, 48, 46, 32, 7, 8, 34, 9, 16, 30, 7, 22, 14, 29, 2, 12, 14, 4, 12, 39, 24, 3, 20, 13, 21, 9, 19, 12, 12, 9, 15, 8, 6, 14, 29, 13, 31, 25, 7, 26, 20, 21, 12, 13, 11, 7, 21, 13, 27, 10, 26, 21, 25, 1, 10, 4, 12, 16, 12, 25, 11, 30, 42, 23, 5, 34, 12, 37, 34, 15, 27, 20, 16, 38, 22, 18, 17, 26, 14, 20, 35, 28, 24, 7, 21, 14, 19, 13, 9, 9, 36, 13, 20, 26, 10, 13, 35, 8, 29, 32, 22, 42, 21, 19, 23, 39, 13, 19, 8, 27, 5, 19, 27, 42, 7, 25, 33, 17, 9, 37, 45, 10, 37, 5, 26, 4, 5, 29, 43, 30, 19, 6, 13, 13, 8, 6, 17, 3, 28, 45, 24, 21, 19, 13, 19, 41, 9, 7, 17, 14, 3, 12, 33, 5, 10, 11, 14, 16, 19, 11, 21, 13, 9, 21, 13, 7, 7, 25, 14, 16, 49, 19, 22, 6, 12, 14, 26, 12, 38, 4, 28, 20, 50, 2, 21, 19, 37, 25, 39, 15, 3, 10, 16, 31, 20, 14, 22, 10, 28, 26, 34, 21, 10, 13, 27, 14, 25, 10, 16, 49, 7, 15, 11, 18, 42, 25, 43, 20, 8, 8, 20, 1, 9, 40, 6, 17, 17, 24, 3, 23, 29, 28, 31, 14, 31, 23, 18, 31, 26, 25, 23, 12, 12, 7, 41, 5, 21, 19, 33, 27, 9, 16, 32, 37, 17, 5, 23, 30, 13, 28, 16, 14, 7, 30, 32, 2, 21, 25, 4, 20, 30, 19, 16, 25, 6, 19, 20, 31, 10, 10, 29, 11, 14, 34, 26, 29, 28, 30, 5, 28, 9, 25, 6, 11, 5, 9, 11, 14, 27, 30, 23, 7, 49, 29, 8, 14, 24, 37, 13, 17, 5, 19, 6, 23, 35, 16, 25, 40, 28, 37, 25, 16, 19, 33, 15, 24, 14, 8, 1, 36, 15, 3, 8, 17, 27, 15, 11, 39, 34, 31, 33, 20, 7, 7, 34, 4, 7, 22, 16, 47, 8, 23, 27, 33, 35, 10, 11, 12, 11, 20, 12, 20, 27, 16, 29, 9, 19, 33, 16, 35, 18, 17, 17, 26, 28, 18, 24, 3, 19, 36, 25, 11, 30, 3, 36, 18, 9, 15, 14, 18, 19, 18, 15, 18, 20, 21, 4, 10, 22, 23, 8, 35, 21, 45, 34, 45, 12, 24, 29, 42, 5, 18, 7, 33, 11, 5, 40, 32, 36, 21, 18, 27, 13, 24, 15, 19, 28, 23, 21, 21, 15, 35, 24, 27, 23, 8, 16, 24, 9, 29, 9, 36, 9, 20, 26, 4, 9, 19, 8, 19, 17, 3, 19, 11, 3, 20, 13, 11, 18, 9, 11, 3, 21, 11, 17, 25, 18, 15, 41, 40, 27, 10, 11, 6, 25, 10, 9, 26, 9, 11, 14, 34, 2, 16, 8, 19, 41, 3, 36, 39, 20, 19, 20, 32, 26, 22, 42, 20, 21, 26, 15, 26, 21, 5, 31, 5, 16, 11, 3, 47, 39, 13, 5, 21, 35, 21, 13, 20, 35, 11, 21, 15, 16, 33, 35, 25, 10, 41, 2, 6, 15, 20, 20, 44, 16, 18, 14, 19, 24, 17, 16, 17, 11, 9, 27, 5, 47, 12, 15, 34, 20, 16, 9, 22, 41, 5, 13, 23, 26, 21, 44, 14, 24, 10, 22, 10, 15, 24, 8, 27, 27, 20, 11, 7, 13, 16, 11, 33, 17, 21, 12, 40, 27, 12, 10, 11, 26, 20, 14, 9, 13, 10, 22, 16, 27, 24, 13, 5, 13, 21, 17, 22, 9, 15, 14, 22, 15, 6, 28, 23, 15, 33, 9, 7, 21, 2, 31, 32, 14, 3, 14, 7, 22, 27, 26, 20, 11, 25, 5, 20, 16, 15, 12, 27, 4, 36, 18, 34, 13, 27, 21, 20, 43, 32, 22, 17, 30, 22, 26, 4, 28, 17, 15, 22, 11, 16, 25, 11, 34, 16, 8, 17, 3, 14, 36, 34, 27, 16, 13, 27, 16, 29, 32, 26, 13, 8, 4, 23, 29, 26, 31, 27, 4, 28, 16, 28, 37, 20, 26, 35, 6, 24, 25, 10, 36, 13, 15, 21, 15, 15, 13, 28, 16, 32, 22, 18, 33, 24, 27, 18, 18, 19, 24, 17, 11, 16, 14, 24, 14, 28, 12, 11, 26, 28, 24, 3, 14, 41, 14, 2, 24, 5, 26, 9, 2, 6, 29, 9, 36, 47, 33, 32, 11, 8, 24, 16, 6, 41, 15, 17, 22, 19, 27, 31, 6, 5, 25, 34, 16, 39, 26, 40, 21, 14, 16, 24, 9, 10, 32, 26, 17, 17, 5, 24, 11, 19, 43, 23, 15, 11, 14, 15, 21, 7, 22, 27, 8, 18, 18, 8, 31, 34, 14, 22, 20, 27, 20, 35, 28, 22, 30, 35, 6, 21, 17, 13, 38, 8, 39, 7, 29, 7, 36, 26, 14, 5, 1, 14, 33, 10, 26, 10, 9, 21, 22, 15, 3, 17, 48, 30, 7, 9, 16, 19, 2, 6, 11, 23, 23, 26, 14, 22, 2, 36, 26, 15, 13, 20, 14, 34, 41, 26, 7, 7, 17, 7, 12, 25, 15, 20, 1, 35, 15, 16, 26, 26, 23, 2, 10, 26, 21, 15, 16, 11, 30, 27, 19, 21, 15, 34, 5, 15, 4, 14, 22, 22, 9, 23, 23, 8, 10, 11, 37, 15, 35, 22, 7, 20, 16, 30, 16, 41, 27, 12, 21, 16, 7, 11, 26, 11, 25, 7, 29, 14, 13, 10, 3, 16, 26, 12, 44, 20, 38, 8, 7, 10, 15, 32, 30, 8, 11, 15, 6, 9, 37, 8, 27, 24, 18, 4, 26, 20, 12, 14, 6, 9, 35, 33, 25, 28, 13, 20, 15, 26, 21, 25, 26, 23, 15, 14, 31, 17, 19, 36, 18, 16, 14, 20, 10, 8, 14, 21, 27, 11, 20, 16, 17, 18, 28, 14, 11, 15, 18, 33, 4, 3, 22, 18, 41, 24, 20, 13, 9, 24, 34, 20, 16, 5, 4, 27, 9, 33, 16, 2, 40, 29, 19, 17, 7, 33, 19, 7, 23, 6, 16, 26, 33, 35, 15, 25, 8, 10, 27, 30, 16, 3, 25, 20, 27, 1, 18, 13, 23, 32, 19, 24, 24, 35, 17, 29, 19, 25, 7, 19, 25, 10, 19, 21, 13, 10, 6, 16, 29, 24, 30, 18, 19, 12, 13, 15, 14, 26, 6, 4, 8, 9, 20, 13, 10, 42, 4, 8, 31, 24, 4, 17, 4, 45, 33, 39, 18, 39, 36, 45, 21, 4, 23, 13, 8, 18, 21, 5, 13, 18, 32, 31, 4, 4, 20, 2, 30, 14, 25, 22, 17, 22, 35, 26, 15, 2, 25, 23, 4, 23, 17, 21, 16, 27, 23, 18, 30, 18, 13, 27, 22, 19, 11, 8, 20, 15, 6, 25, 17, 10, 5, 12, 6, 16, 13, 13, 23, 28, 8, 9, 19, 5, 16, 7, 13, 10, 25, 36, 23, 23, 19, 27, 15, 16, 14, 21, 1, 28, 33, 28, 15, 42, 26, 30, 26, 9, 2, 25, 12, 19, 15, 18, 31, 28, 21, 17, 7, 17, 8, 17, 41, 3, 20, 10, 13, 18, 22, 24, 5, 20, 29, 17, 17, 14, 17, 16, 36, 7, 7, 19, 18, 29, 22, 11, 3, 5, 20, 14, 34, 23, 20, 29, 7, 8, 18, 4, 13, 33, 13, 26, 37, 11, 42, 26, 27, 1, 16, 18, 13, 3, 18, 34, 22, 23, 10, 23, 29, 18, 7, 11, 21, 18, 20, 6, 13, 27, 31, 25, 23, 10, 12, 2, 5, 11, 18, 6, 37, 18, 13, 11, 1, 2, 18, 15, 21, 11, 19, 37, 17, 16, 53, 19, 1, 20, 25, 15, 31, 18, 7, 30, 31, 26, 22, 14, 14, 13, 12, 21, 14, 17, 20, 18, 9, 34, 42, 22, 33, 18, 6, 20, 32, 21, 21, 41, 25, 25, 4, 19, 4, 7, 35, 13, 11, 24, 11, 28, 14, 29, 7, 5, 14, 28, 27, 26, 24, 15, 12, 26, 14, 21, 8, 14, 7, 22, 12, 6, 30, 31, 13, 9, 20, 14, 12, 25, 10, 8, 5, 6, 23, 31, 34, 31, 27, 22, 24, 11, 7, 26, 47, 8, 14, 32, 15, 12, 20, 29, 5, 19, 8, 31, 23, 25, 17, 10, 9, 17, 30, 12, 27, 18, 8, 25, 34, 20, 36, 10, 40, 9, 8, 4, 9, 14, 21, 13, 25, 20, 32, 28, 25, 26, 33, 26, 11, 25, 31, 37, 2, 15, 10, 10, 12, 19, 8, 24, 26, 14, 14, 19, 41, 12, 10, 12, 19, 14, 27, 23, 13, 16, 5, 9, 8, 27, 33, 11, 22, 27, 8, 19, 9, 3, 10, 25, 43, 18, 38, 22, 19, 24, 16, 17, 18, 22, 8, 13, 19, 24, 29, 26, 34, 18, 15, 3, 20, 32, 8, 34, 13, 31, 3, 42, 26, 26, 7, 18, 21, 20, 22, 23, 13, 6, 19, 16, 26, 7, 20, 16, 26, 15, 21, 30, 22, 24, 3, 44, 26, 13, 3, 8, 3, 9, 31, 20, 14, 28, 30, 13, 9, 10, 19, 16, 21, 7, 9, 2, 34, 18, 20, 46, 35, 13, 16, 25, 33, 20, 9, 9, 23, 37, 10, 37, 19, 16, 11, 20, 43, 16, 41, 14, 1, 8, 26, 19, 8, 18, 11, 20, 18, 17, 13, 11, 26, 3, 15, 12, 14, 10, 12, 21, 13, 38, 14, 17, 19, 3, 10, 46, 8, 16, 25, 7, 23, 3, 18, 28, 11, 1, 18, 14, 19, 9, 9, 7, 31, 8, 23, 8, 20, 42, 16, 7, 16, 21, 20, 4, 16, 11, 40, 4, 25, 17, 10, 34, 8, 14, 7, 8, 20, 14, 28, 13, 9, 4, 29, 19, 4, 32, 7, 14, 3, 42, 10, 17, 24, 28, 20, 19, 8, 22, 16, 14, 34, 13, 18, 20, 19, 32, 28, 13, 10, 20, 18, 16, 23, 15, 28, 17, 19, 23, 5, 14, 5, 17, 33, 4, 25, 20, 25, 22, 11, 31, 31, 13, 21, 21, 19, 14, 22, 29, 10, 21, 14, 12, 19, 5, 30, 8, 18, 9, 48, 19, 21, 28, 4, 17, 25, 13, 2, 11, 13, 12, 21, 25, 12, 16, 23, 11, 21, 17, 10, 13, 27, 19, 14, 19, 16, 33, 2, 11, 27, 29, 39, 9, 12, 19, 6, 7, 4, 24, 32, 26, 5, 9, 11, 8, 37, 15, 14, 18, 5, 8, 7, 7, 23, 16, 26, 21, 9, 21, 6, 13, 20, 6, 27, 15, 14, 17, 16, 17, 15, 10, 15, 13, 34, 16, 30, 15, 17, 13, 19, 22, 19, 8, 3, 26, 10, 7, 23, 6, 31, 23, 22, 25, 16, 23, 18, 15, 3, 25, 4, 42, 6, 26, 17, 17, 6, 12, 25, 22, 13, 11, 38, 31, 19, 30, 41, 25, 25, 21, 21, 17, 6, 23, 6, 8, 5, 22, 11, 4, 21, 34, 18, 3, 23, 27, 18, 19, 14, 27, 29, 22, 20, 20, 11, 11, 15, 18, 10, 10, 10, 24, 16, 28, 17, 30, 23, 24, 33, 8, 9, 14, 24, 6, 11, 21, 19, 25, 28, 18, 5, 32, 12, 24, 12, 32, 14, 15, 17, 12, 8, 19, 7, 9, 24, 3, 18, 12, 19, 32, 10, 2, 25, 20, 3, 31, 5, 28, 13, 10, 14, 48, 5, 4, 25, 28, 5, 22, 30, 7, 4, 17, 21, 23, 8, 24, 14, 34, 33, 8, 21, 31, 11, 3, 22, 13, 10, 5, 16, 8, 12, 27, 19, 19, 20, 6, 33, 18, 11, 4, 36, 8, 20, 10, 13, 2, 6, 17, 4, 17, 12, 8, 10, 27, 20, 36, 4, 30, 25, 33, 27, 12, 10, 14, 7, 21, 22, 29, 17, 11, 11, 16, 3, 5, 11, 3, 11, 23, 10, 12, 9, 34, 8, 11, 13, 8, 23, 17, 15, 16, 32, 9, 32, 15, 16, 7, 1, 2, 6, 20, 14, 17, 4, 9, 30, 19, 28, 14, 9, 20, 18, 6, 14, 18, 20, 5, 23, 18, 15, 25, 15, 33, 3, 10, 17, 10, 9, 9, 11, 25, 9, 32, 17, 20, 11, 4, 6, 18, 12, 19, 6, 15, 26, 22, 18, 16, 25, 30, 4, 17, 6, 23, 23, 1, 19, 22, 8, 11, 25, 24, 14, 2, 13, 14, 15, 7, 32, 14, 16, 23, 33, 26, 38, 32, 6, 33, 24, 39, 23, 16, 19, 17, 12, 7, 15, 10, 47, 33, 2, 19, 43, 16, 8, 22, 34, 7, 9, 10, 38, 38, 4, 17, 7, 15, 16, 18, 31, 17, 28, 35, 15, 20, 26, 10, 33, 16, 18, 16, 28, 14, 19, 14, 4, 24, 4, 3, 43, 11, 27, 9, 23, 32, 13, 2, 15, 13, 15, 33, 25, 17, 9, 23, 3, 14, 18, 24, 25, 32, 7, 25, 10, 21, 21, 19, 5, 37, 27, 30, 22, 22, 26, 6, 16, 18, 29, 25, 28, 20, 16, 13, 24, 22, 12, 11, 18, 6, 49, 34, 24, 11, 14, 16, 9, 24, 21, 13, 9, 9, 5, 51, 24, 6, 7, 19, 39, 23, 7, 31, 31, 28, 13, 13, 7, 14, 11, 18, 5, 12, 8, 14, 26, 21, 17, 21, 22, 17, 21, 12, 27, 40, 6, 25, 22, 15, 27, 14, 4, 3, 39, 14, 3, 4, 38, 30, 25, 28, 29, 23, 32, 14, 9, 9, 17, 20, 25, 16, 2, 2, 28, 8, 49, 15, 22, 7, 6, 15, 26, 10, 10, 14, 29, 18, 35, 13, 17, 23, 18, 15, 25, 12, 30, 17, 6, 24, 6, 15, 40, 29, 29, 12, 14, 35, 31, 15, 2, 15, 25, 14, 35, 3, 28, 7, 21, 12, 5, 10, 22, 22, 17, 19, 12, 29, 29, 20, 33, 22, 7, 20, 27, 16, 31, 17, 19, 18, 24, 41, 10, 2, 15, 35, 19, 12, 19, 9, 10, 10, 9, 23, 37, 9, 27, 22, 8, 16, 31, 5, 31, 34, 26, 13, 5, 19, 15, 2, 8, 29, 25, 27, 5, 30, 13, 26, 10, 2, 17, 45, 31, 45, 38, 14, 10, 28, 7, 26, 17, 19, 14, 8, 7, 6, 23, 13, 35, 6, 27, 15, 29, 15, 34, 4, 9, 11, 9, 31, 2, 35, 26, 13, 9, 16, 22, 11, 40, 19, 10, 32, 40, 21, 36, 9, 14, 33, 20, 36, 19, 8, 21, 12, 27, 12, 21, 14, 23, 5, 14, 33, 16, 7, 24, 15, 3, 43, 9, 13, 19, 21, 18, 18, 13, 35, 25, 23, 27, 16, 28, 12, 23, 15, 8, 22, 4, 20, 13, 27, 9, 15, 26, 14, 19, 29, 24, 27, 26, 42, 9, 9, 34, 47, 19, 14, 27, 16, 15, 12, 14, 6, 30, 3, 29, 22, 6, 19, 9, 29, 18, 22, 2, 17, 9, 12, 10, 25, 31, 29, 14, 7, 22, 20, 3, 14, 9, 15, 31, 14, 13, 29, 5, 9, 22, 14, 29, 23, 2, 8, 11, 24, 20, 14, 34, 6, 19, 24, 5, 18, 15, 24, 15, 29, 19, 18, 46, 31, 20, 23, 8, 37, 2, 5, 10, 22, 23, 36, 7, 4, 18, 8, 9, 21, 17, 6, 34, 14, 29, 13, 23, 22, 16, 7, 3, 34, 34, 12, 35, 26, 16, 16, 31, 26, 19, 11, 9, 22, 7, 21, 13, 17, 3, 40, 11, 25, 22, 26, 15, 20, 39, 20, 32, 17, 13, 21, 8, 33, 14, 18, 22, 2, 18, 19, 37, 5, 13, 6, 20, 18, 20, 46, 23, 9, 12, 5, 9, 15, 32, 16, 6, 23, 18, 23, 21, 27, 38, 5, 32, 12, 15, 34, 29, 28, 45, 6, 22, 11, 21, 16, 9, 10, 26, 10, 14, 29, 26, 28, 27, 31, 19, 15, 19, 19, 29, 33, 21, 8, 18, 5, 14, 9, 22, 17, 19, 12, 12, 4, 4, 9, 14, 18, 16, 32, 10, 46, 28, 16, 17, 11, 7, 30, 23, 26, 16, 34, 6, 10, 22, 16, 48, 15, 3, 3, 20, 8, 30, 22, 11, 14, 21, 19, 11, 7, 4, 37, 8, 25, 18, 21, 21, 27, 7, 27, 27, 27, 17, 16, 8, 17, 6, 24, 22, 8, 15, 16, 6, 27, 39, 20, 8, 44, 18, 10, 24, 8, 15, 17, 10, 3, 22, 24, 1, 10, 20, 8, 9, 15, 25, 8, 14, 15, 24, 31, 13, 25, 11, 21, 32, 8, 15, 20, 5, 2, 10, 6, 20, 6, 37, 8, 13, 25, 11, 7, 7, 6, 33, 43, 25, 23, 7, 23, 25, 8, 26, 23, 39, 14, 6, 10, 17, 23, 31, 19, 18, 14, 17, 25, 13, 9, 19, 23, 24, 7, 24, 17, 6, 3, 16, 10, 11, 16, 21, 24, 22, 13, 12, 51, 24, 18, 29, 18, 12, 26, 31, 6, 23, 25, 17, 17, 10, 18, 9, 21, 24, 24, 8, 16, 15, 33, 11, 16, 23, 43, 5, 15, 30, 3, 9, 20, 13, 6, 14, 12, 12, 20, 4, 7, 18, 45, 34, 32, 7, 8, 7, 16, 22, 13, 10, 20, 16, 12, 13, 8, 6, 22, 20, 40, 13, 10, 16, 18, 26, 27, 18, 34, 37, 15, 2, 36, 38, 27, 9, 10, 23, 11, 27, 26, 32, 32, 10, 17, 19, 15, 31, 11, 18, 8, 28, 25, 17, 15, 26, 5, 13, 14, 9, 40, 35, 10, 37, 7, 21, 6, 16, 34, 11, 6, 7, 14, 21, 15, 10, 41, 4, 21, 20, 18, 4, 38, 4, 15, 16, 9, 11, 21, 3, 19, 29, 13, 19, 19, 36, 4, 21, 11, 17, 17, 6, 34, 35, 34, 11, 13, 27, 8, 23, 20, 14, 4, 13, 6, 17, 7, 3, 13, 33, 2, 6, 4, 23, 3, 8, 32, 28, 12, 21, 18, 9, 20, 18, 22, 3, 28, 7, 16, 35, 6, 19, 9, 5, 14, 30, 18, 16, 6, 18, 14, 22, 24, 29, 15, 24, 23, 18, 27, 25, 16, 20, 10, 12, 31, 12, 22, 16, 11, 15, 8, 19, 31, 14, 26, 31, 13, 21, 17, 10, 6, 20, 13, 10, 31, 9, 10, 20, 29, 29, 14, 47, 28, 26, 30, 12, 14, 6, 41, 22, 17, 18, 16, 30, 15, 27, 21, 15, 18, 18, 15, 6, 17, 2, 11, 20, 19, 9, 15, 29, 23, 4, 7, 19, 7, 45, 8, 26, 24, 22, 19, 30, 15, 11, 29, 3, 25, 6, 14, 14, 5, 9, 6, 14, 9, 15, 30, 19, 3, 9, 17, 28, 18, 19, 9, 10, 7, 12, 9, 13, 13, 5, 13, 23, 28, 19, 27, 20, 19, 5, 14, 25, 32, 1, 35, 20, 10, 20, 33, 23, 14, 13, 13, 21, 1, 24, 21, 16, 13, 8, 28, 33, 17, 8, 18, 39, 7, 14, 17, 14, 29, 33, 16, 18, 18, 21, 7, 30, 11, 36, 17, 18, 22, 12, 25, 14, 26, 35, 29, 15, 10, 13, 37, 17, 30, 11, 6, 13, 35, 7, 2, 35, 4, 7, 9, 15, 20, 7, 5, 25, 15, 14, 34, 36, 6, 30, 17, 31, 23, 28, 7, 23, 15, 36, 8, 14, 25, 47, 25, 22, 16, 2, 16, 37, 8, 23, 22, 11, 9, 15, 17, 16, 34, 23, 29, 7, 7, 21, 17, 24, 25, 12, 21, 34, 19, 29, 22, 11, 15, 20, 14, 9, 20, 9, 5, 3, 15, 16, 20, 19, 6, 26, 14, 26, 18, 30, 13, 26, 15, 21, 8, 2, 11, 34, 26, 21, 15, 42, 27, 26, 29, 25, 2, 27, 25, 11, 13, 12, 23, 12, 26, 6, 9, 4, 6, 24, 11, 32, 14, 30, 17, 22, 7, 34, 12, 17, 19, 6, 41, 12, 25, 11, 28, 19, 12, 15, 8, 23, 8, 5, 19, 40, 35, 27, 9, 18, 22, 28, 25, 45, 9, 12, 16, 40, 34, 12, 26, 12, 15, 2, 17, 29, 6, 12, 3, 7, 44, 18, 14, 10, 10, 4, 15, 19, 22, 36, 20, 12, 21, 35, 11, 18, 35, 36, 25, 5, 12, 15, 3, 27, 8, 13, 3, 25, 23, 26, 26, 24, 21, 10, 3, 17, 21, 11, 12, 20, 9, 11, 35, 14, 19, 16, 16, 12, 4, 17, 25, 12, 23, 14, 21, 33, 10, 13, 2, 29, 28, 15, 24, 11, 16, 22, 27, 26, 22, 15, 29, 17, 3, 27, 8, 17, 22, 15, 15, 16, 30, 9, 9, 26, 7, 10, 12, 27, 14, 20, 2, 5, 10, 46, 20, 28, 15, 23, 17, 32, 11, 23, 41, 2, 3, 18, 18, 24, 8, 9, 14, 15, 15, 33, 25, 24, 25, 32, 25, 12, 2, 35, 19, 41, 35, 7, 27, 18, 11, 21, 6, 21, 15, 2, 13, 26, 20, 11, 16, 28, 21, 13, 17, 19, 9, 9, 9, 11, 19, 23, 19, 9, 9, 13, 13, 11, 15, 32, 40, 6, 10, 6, 31, 5, 32, 18, 8, 17, 25, 19, 44, 22, 25, 10, 20, 33, 17, 30, 19, 21, 27, 30, 27, 14, 8, 18, 24, 9, 6, 14, 9, 16, 27, 24, 31, 9, 13, 17, 3, 5, 6, 10, 9, 29, 11, 34, 11, 4, 11, 23, 18, 27, 17, 20, 21, 5, 19, 33, 14, 37, 25, 21, 19, 24, 22, 29, 16, 42, 32, 11, 17, 20, 9, 3, 11, 9, 26, 30, 8, 28, 23, 8, 28, 37, 29, 20, 6, 17, 22, 4, 28, 25, 10, 19, 12, 20, 18, 19, 35, 26, 9, 18, 21, 15, 26, 25, 20, 13, 9, 10, 9, 25, 16, 12, 14, 17, 8, 22, 7, 11, 19, 26, 19, 35, 24, 11, 26, 18, 19, 3, 3, 23, 1, 32, 23, 8, 32, 9, 11, 14, 26, 5, 10, 18, 24, 35, 21, 14, 20, 28, 25, 18, 9, 12, 16, 18, 5, 31, 18, 13, 28, 9, 21, 1, 17, 4, 35, 9, 15, 15, 32, 6, 25, 20, 14, 27, 13, 10, 6, 13, 13, 14, 14, 7, 18, 22, 29, 21, 7, 18, 10, 12, 5, 1, 25, 19, 13, 28, 16, 12, 21, 35, 32, 12, 6, 15, 37, 6, 24, 22, 13, 10, 25, 2, 11, 18, 23, 20, 2, 26, 15, 3, 7, 9, 9, 14, 12, 25, 20, 15, 18, 18, 34, 21, 2, 11, 8, 12, 32, 3, 50, 8, 23, 10, 26, 15, 9, 11, 4, 38, 28, 13, 37, 9, 15, 43, 1, 11, 31, 14, 23, 19, 15, 15, 27, 13, 20, 6, 7, 9, 25, 16, 8, 7, 27, 29, 30, 32, 9, 4, 30, 25, 13, 27, 12, 36, 31, 4, 8, 43, 13, 18, 16, 17, 6, 19, 12, 23, 22, 12, 19, 21, 8, 19, 6, 21, 15, 4, 16, 43, 23, 24, 18, 28, 9, 7, 29, 11, 20, 7, 24, 18, 14, 11, 18, 29, 19, 18, 18, 17, 5, 16, 20, 18, 8, 15, 15, 21, 4, 11, 21, 6, 12, 6, 38, 18, 7, 25, 10, 22, 20, 19, 11, 25, 21, 8, 34, 13, 26, 29, 31, 15, 6, 13, 5, 20, 9, 11, 31, 31, 7, 20, 20, 21, 23, 4, 16, 25, 26, 36, 20, 9, 19, 12, 26, 9, 19, 23, 12, 17, 14, 23, 23, 23, 18, 24, 4, 19, 20, 33, 39, 26, 20, 20, 15, 41, 15, 26, 30, 11, 9, 21, 36, 18, 17, 10, 16, 12, 43, 14, 16, 13, 19, 14, 6, 21, 26, 33, 26, 24, 19, 11, 19, 24, 11, 15, 16, 10, 14, 29, 18, 22, 44, 20, 21, 10, 8, 19, 10, 24, 25, 2, 10, 17, 33, 25, 9, 33, 19, 35, 14, 9, 26, 16, 27, 3, 17, 3, 20, 29, 29, 22, 21, 4, 30, 17, 15, 15, 5, 29, 9, 26, 12, 7, 7, 9, 25, 19, 12, 26, 5, 4, 24, 20, 27, 14, 5, 12, 18, 8, 30, 12, 19, 14, 33, 33, 6, 35, 22, 17, 7, 28, 15, 25, 14, 25, 10, 16, 12, 22, 24, 26, 2, 9, 24, 11, 16, 29, 16, 10, 13, 26, 3, 6, 9, 7, 15, 15, 20, 5, 22, 14, 12, 5, 41, 16, 39, 24, 21, 27, 8, 21, 27, 4, 10, 19, 26, 13, 32, 10, 21, 20, 16, 19, 23, 7, 4, 27, 9, 16, 6, 25, 15, 14, 16, 23, 19, 6, 16, 16, 28, 26, 14, 17, 21, 23, 22, 6, 10, 23, 6, 13, 21, 23, 24, 19, 24, 4, 14, 41, 15, 15, 22, 3, 13, 21, 24, 31, 8, 14, 10, 15, 24, 37, 2, 26, 42, 28, 26, 19, 26, 29, 40, 3, 13, 3, 12, 13, 20, 45, 22, 7, 46, 24, 33, 12, 22, 22, 10, 13, 9, 26, 12, 14, 8, 22, 5, 9, 3, 17, 19, 26, 10, 18, 5, 6, 13, 18, 1, 18, 7, 31, 38, 38, 9, 19, 15, 8, 18, 26, 10, 6, 7, 26, 25, 15, 14, 29, 8, 7, 5, 30, 5, 23, 10, 34, 32, 11, 8, 29, 28, 9, 24, 33, 23, 5, 39, 3, 14, 25, 8, 27, 23, 22, 39, 26, 10, 4, 26, 23, 4, 23, 26, 9, 3, 17, 18, 26, 17, 31, 20, 30, 20, 43, 6, 14, 36, 5, 24, 13, 16, 14, 13, 3, 22, 4, 14, 6, 7, 13, 13, 3, 40, 20, 31, 16, 4, 36, 22, 3, 12, 16, 18, 25, 5, 27, 22, 11, 26, 31, 19, 7, 12, 16, 10, 14, 12, 17, 12, 26, 17, 10, 28, 12, 30, 36, 7, 13, 14, 9, 6, 23, 11, 9, 9, 6, 15, 4, 16, 10, 20, 9, 18, 22, 8, 26, 14, 27, 32, 6, 2, 16, 23, 21, 17, 9, 2, 13, 29, 5, 5, 22, 27, 20, 11, 24, 11, 28, 4, 4, 34, 7, 17, 5, 19, 18, 19, 28, 8, 23, 12, 20, 15, 19, 17, 27, 14, 15, 20, 14, 11, 38, 38, 9, 2, 20, 10, 3, 15, 14, 7, 16, 8, 28, 27, 12, 19, 13, 11, 26, 14, 13, 16, 37, 13, 17, 39, 18, 17, 14, 20, 7, 7, 22, 27, 31, 23, 25, 22, 25, 2, 24, 21, 15, 18, 26, 19, 30, 19, 21, 17, 23, 1, 21, 29, 16, 11, 8, 14, 8, 8, 14, 25, 24, 20, 11, 9, 20, 17, 36, 2, 23, 4, 38, 6, 23, 21, 31, 14, 12, 5, 19, 13, 24, 18, 22, 25, 17, 22, 22, 20, 20, 21, 14, 21, 19, 22, 5, 28, 32, 11, 12, 5, 32, 24, 32, 18, 13, 34, 3, 14, 3, 23, 16, 13, 7, 12, 7, 24, 4, 21, 9, 3, 7, 9, 22, 22, 7, 10, 21, 23, 20, 34, 9, 29, 29, 17, 25, 5, 4, 25, 13, 21, 14, 14, 12, 19, 7, 2, 14, 20, 26, 16, 16, 11, 10, 16, 10, 27, 36, 17, 23, 9, 4, 31, 7, 7, 2, 4, 25, 13, 31, 28, 8, 26, 9, 9, 10, 12, 3, 7, 9, 8, 24, 4, 12, 19, 18, 4, 15, 17, 23, 19, 27, 26, 19, 14, 29, 14, 17, 15, 34, 17, 11, 14, 28, 14, 19, 19, 22, 32, 23, 22, 8, 29, 27, 26, 6, 31, 5, 14, 3, 37, 31, 10, 14, 18, 17, 15, 27, 13, 3, 24, 28, 17, 12, 7, 17, 4, 8, 7, 9, 17, 13, 11, 14, 16, 18, 12, 15, 13, 9, 16, 20, 12, 10, 31, 31, 20, 31, 6, 8, 11, 7, 22, 21, 12, 24, 22, 3, 7, 6, 15, 7, 6, 23, 7, 21, 20, 24, 30, 27, 14, 35, 10, 32, 12, 29, 8, 14, 6, 9, 18, 26, 14, 16, 34, 21, 3, 14, 26, 32, 5, 14, 22, 32, 47, 16, 33, 11, 21, 20, 6, 5, 8, 16, 27, 14, 20, 18, 25, 16, 13, 30, 29, 21, 10, 20, 8, 5, 7, 25, 25, 12, 10, 18, 13, 15, 25, 9, 29, 13, 15, 16, 17, 6, 24, 3, 21, 16, 23, 7, 20, 12, 1, 10, 4, 20, 2, 22, 32, 9, 23, 14, 10, 5, 31, 25, 16, 42, 7, 16, 3, 27, 33, 8, 10, 2, 9, 33, 15, 11, 27, 8, 17, 21, 33, 14, 21, 19, 16, 63, 19, 19, 24, 28, 6, 8, 26, 7, 16, 14, 26, 21, 14, 32, 21, 17, 22, 31, 7, 15, 30, 41, 22, 16, 16, 12, 18, 26, 22, 43, 21, 17, 10, 16, 9, 13, 17, 15, 16, 3, 23, 39, 20, 11, 11, 4, 10, 21, 12, 27, 15, 15, 32, 26, 29, 13, 27, 18, 5, 35, 2, 5, 22, 6, 19, 17, 24, 35, 36, 9, 14, 6, 16, 26, 13, 27, 10, 10, 26, 28, 20, 5, 20, 11, 18, 29, 22, 28, 11, 38, 16, 6, 29, 35, 6, 9, 10, 5, 18, 20, 10, 8, 12, 22, 11, 18, 7, 14, 35, 18, 7, 24, 22, 10, 18, 13, 33, 16, 29, 22, 34, 7, 25, 1, 25, 3, 6, 31, 15, 14, 17, 8, 18, 19, 46, 16, 8, 25, 26, 9, 4, 10, 6, 13, 11, 16, 16, 15, 9, 19, 26, 18, 15, 2, 13, 12, 15, 25, 8, 26, 20, 1, 37, 28, 18, 13, 24, 17, 6, 14, 27, 13, 8, 11, 4, 23, 39, 6, 16, 25, 29, 7, 24, 24, 5, 21, 9, 10, 20, 38, 8, 11, 24, 16, 25, 11, 11, 20, 33, 9, 8, 4, 17, 22, 20, 27, 18, 14, 24, 21, 23, 18, 12, 7, 20, 6, 14, 9, 11, 39, 16, 21, 6, 24, 29, 24, 5, 18, 33, 13, 2, 15, 28, 14, 14, 27, 27, 8, 17, 19, 12, 13, 16, 17, 14, 12, 3, 17, 19, 10, 35, 12, 10, 25, 3, 17, 37, 26, 20, 19, 23, 35, 17, 23, 16, 14, 19, 44, 11, 33, 15, 14, 34, 11, 31, 13, 12, 24, 19, 7, 17, 30, 26, 12, 16, 14, 15, 18, 23, 8, 8, 25, 14, 15, 22, 11, 15, 6, 13, 11, 8, 17, 3, 15, 20, 10, 42, 41, 33, 26, 14, 30, 19, 4, 10, 16, 16, 14, 19, 15, 24, 37, 21, 9, 23, 2, 20, 8, 15, 10, 28, 16, 18, 10, 9, 22, 17, 17, 2, 10, 11, 22, 39, 2, 2, 25, 16, 12, 19, 10, 14, 15, 8, 2, 12, 35, 21, 3, 24, 19, 18, 15, 29, 12, 8, 4, 25, 24, 8, 18, 15, 7, 41, 29, 8, 7, 22, 21, 14, 10, 12, 27, 10, 34, 17, 12, 16, 33, 11, 18, 19, 3, 25, 16, 19, 8, 12, 9, 35, 19, 4, 8, 11, 34, 17, 10, 26, 10, 20, 17, 17, 8, 13, 17, 44, 7, 14, 18, 19, 29, 13, 31, 34, 10, 20, 29, 8, 15, 19, 25, 23, 19, 20, 17, 8, 14, 16, 15, 28, 1, 29, 31, 28, 13, 21, 14, 14, 21, 6, 12, 17, 8, 12, 20, 29, 11, 9, 11, 24, 24, 11, 7, 2, 15, 17, 30, 33, 12, 16, 4, 15, 14, 11, 4, 15, 4, 14, 23, 30, 13, 16, 19, 22, 25, 44, 6, 26, 29, 7, 27, 12, 31, 8, 3, 28, 10, 10, 25, 16, 18, 17, 20, 25, 5, 30, 9, 11, 36, 35, 4, 6, 2, 1, 33, 27, 4, 9, 17, 24, 14, 12, 11, 38, 17, 28, 7, 22, 8, 18, 5, 12, 16, 30, 7, 24, 18, 12, 4, 24, 22, 10, 18, 17, 12, 12, 18, 19, 10, 13, 25, 10, 21, 8, 19, 4, 6, 12, 6, 20, 5, 19, 14, 35, 14, 17, 3, 15, 11, 17, 8, 18, 9, 21, 32, 17, 20, 29, 11, 39, 4, 22, 8, 43, 9, 14, 4, 19, 7, 5, 12, 12, 31, 25, 26, 16, 19, 11, 11, 18, 5, 16, 18, 19, 15, 5, 32, 40, 3, 26, 12, 18, 25, 34, 23, 4, 11, 7, 9, 14, 28, 16, 9, 8, 23, 31, 28, 12, 11, 28, 32, 24, 23, 12, 14, 37, 8, 18, 16, 14, 4, 4, 9, 19, 15, 5, 26, 3, 26, 9, 22, 11, 22, 42, 18, 9, 14, 17, 20, 7, 23, 5, 23, 34, 26, 7, 9, 34, 5, 20, 10, 17, 10, 9, 26, 11, 16, 11, 19, 16, 33, 32, 19, 15, 9, 19, 21, 14, 9, 12, 33, 18, 13, 21, 19, 29, 3, 27, 7, 26, 18, 13, 18, 31, 13, 16, 14, 6, 26, 16, 13, 16, 7, 32, 20, 13, 35, 19, 21, 24, 9, 15, 6, 2, 1, 21, 18, 15, 14, 14, 5, 17, 7, 14, 34, 8, 14, 10, 4, 10, 27, 11, 25, 17, 16, 14, 26, 8, 25, 31, 15, 9, 9, 28, 31, 26, 9, 20, 2, 9, 14, 32, 18, 26, 33, 15, 7, 5, 23, 9, 16, 26, 8, 14, 11, 35, 19, 1, 15, 16, 8, 26, 12, 20, 14, 6, 28, 15, 6, 27, 19, 26, 22, 32, 42, 11, 3, 5, 22, 18, 25, 28, 8, 21, 14, 27, 22, 18, 14, 20, 20, 20, 17, 17, 15, 32, 11, 19, 16, 4, 12, 12, 9, 13, 7, 9, 32, 36, 13, 33, 15, 38, 12, 6, 14, 24, 7, 8, 5, 15, 9, 24, 14, 12, 37, 16, 17, 11, 16, 12, 16, 16, 19, 40, 17, 18, 21, 21, 7, 7, 23, 26, 28, 9, 16, 24, 30, 41, 6, 23, 30, 41, 19, 26, 11, 6, 18, 13, 7, 26, 24, 12, 22, 21, 17, 10, 13, 17, 21, 24, 21, 20, 14, 8, 15, 8, 17, 16, 3, 10, 8, 5, 26, 9, 25, 10, 9, 20, 21, 23, 22, 2, 5, 16, 11, 4, 3, 24, 2, 6, 11, 10, 5, 14, 41, 26, 11, 32, 16, 23, 32, 18, 20, 4, 31, 6, 11, 28, 11, 15, 8, 9, 16, 20, 8, 6, 29, 19, 21, 14, 24, 9, 10, 18, 7, 4, 13, 9, 18, 16, 44, 13, 26, 27, 5, 31, 12, 18, 21, 17, 16, 15, 20, 4, 20, 21, 9, 3, 17, 4, 27, 36, 27, 10, 34, 19, 21, 17, 9, 6, 6, 9, 15, 14, 44, 31, 19, 7, 24, 18, 7, 12, 11, 16, 2, 13, 26, 11, 12, 12, 5, 28, 16, 17, 7, 17, 31, 3, 17, 19, 6, 3, 11, 28, 24, 15, 26, 36, 23, 21, 4, 20, 11, 25, 16, 11, 4, 16, 5, 8, 11, 6, 29, 28, 27, 5, 3, 18, 38, 14, 15, 17, 8, 11, 9, 23, 30, 40, 2, 25, 20, 5, 15, 2, 5, 27, 27, 21, 22, 14, 5, 5, 21, 15, 25, 14, 10, 22, 19, 14, 17, 24, 17, 18, 29, 22, 28, 24, 7, 12, 5, 17, 24, 21, 22, 36, 33, 27, 10, 16, 20, 2, 22, 31, 18, 10, 29, 19, 13, 18, 6, 3, 20, 26, 22, 12, 19, 10, 27, 7, 8, 18, 16, 9, 13, 24, 1, 17, 21, 11, 13, 37, 6, 19, 19, 5, 19, 21, 20, 23, 8, 11, 25, 18, 14, 18, 26, 30, 19, 8, 18, 20, 9, 9, 11, 22, 20, 24, 35, 5, 18, 28, 18, 5, 14, 31, 41, 19, 30, 15, 2, 38, 20, 1, 16, 26, 9, 25, 28, 22, 30, 3, 14, 17, 13, 43, 29, 19, 7, 12, 23, 12, 18, 21, 17, 20, 22, 28, 27, 8, 27, 27, 24, 8, 13, 20, 9, 24, 19, 23, 6, 21, 30, 27, 1, 2, 15, 10, 27, 4, 28, 18, 6, 7, 20, 4, 8, 32, 16, 10, 18, 13, 5, 23, 10, 30, 21, 3, 6, 26, 10, 10, 19, 25, 26, 26, 20, 7, 34, 25, 4, 19, 20, 20, 30, 12, 25, 5, 9, 24, 25, 22, 22, 17, 26, 14, 12, 14, 10, 16, 16, 11, 11, 24, 5, 21, 13, 31, 26, 13, 19, 14, 23, 17, 10, 14, 19, 41, 18, 3, 17, 21, 8, 19, 14, 17, 16, 20, 5, 11, 31, 21, 27, 16, 14, 34, 16, 21, 19, 34, 20, 17, 13, 10, 21, 20, 7, 13, 15, 11, 8, 16, 28, 27, 21, 20, 18, 15, 9, 12, 24, 13, 12, 11, 23, 12, 24, 8, 19, 15, 36, 27, 7, 19, 22, 9, 29, 8, 34, 25, 14, 30, 23, 23, 26, 9, 42, 14, 8, 13, 32, 29, 10, 39, 9, 25, 15, 7, 12, 26, 26, 31, 32, 10, 34, 8, 11, 16, 13, 23, 22, 16, 38, 25, 21, 14, 10, 18, 23, 10, 27, 24, 24, 36, 14, 9, 15, 28, 19, 22, 5, 19, 14, 19, 31, 9, 7, 28, 4, 6, 11, 21, 25, 19, 15, 4, 9, 3, 15, 1, 6, 8, 6, 25, 20, 18, 4, 8, 9, 14, 5, 27, 29, 23, 14, 11, 14, 23, 4, 11, 4, 23, 9, 19, 15, 7, 43, 30, 20, 33, 4, 12, 11, 5, 13, 14, 14, 8, 9, 28, 21, 9, 23, 16, 8, 24, 3, 14, 10, 24, 27, 5, 33, 8, 16, 23, 31, 14, 29, 31, 7, 17, 28, 7, 16, 3, 6, 32, 2, 34, 12, 2, 8, 20, 11, 21, 22, 24, 12, 26, 21, 27, 14, 28, 13, 7, 19, 18, 7, 10, 28, 23, 30, 11, 42, 24, 18, 32, 35, 15, 10, 12, 25, 8, 8, 26, 10, 23, 10, 30, 25, 10, 5, 4, 18, 19, 23, 6, 2, 6, 24, 21, 32, 14, 10, 23, 4, 18, 20, 18, 35, 13, 21, 23, 24, 27, 5, 3, 8, 20, 7, 16, 37, 27, 6, 15, 24, 20, 21, 12, 25, 11, 17, 15, 11, 8, 22, 19, 14, 19, 11, 19, 22, 12, 20, 38, 14, 18, 16, 13, 15, 36, 33, 24, 21, 11, 3, 18, 24, 15, 18, 15, 30, 22, 11, 5, 10, 2, 20, 11, 32, 4, 13, 24, 23, 15, 22, 31, 18, 21, 14, 16, 13, 6, 8, 4, 15, 14, 24, 6, 12, 29, 10, 10, 7, 15, 32, 20, 11, 21, 43, 14, 22, 17, 31, 19, 33, 23, 8, 22, 21, 10, 16, 3, 14, 13, 29, 8, 7, 35, 15, 17, 16, 14, 19, 24, 1, 20, 36, 3, 13, 15, 14, 9, 23, 26, 28, 18, 10, 7, 17, 38, 25, 23, 38, 24, 24, 34, 26, 16, 10, 23, 14, 19, 2, 22, 25, 15, 19, 10, 8, 15, 7, 13, 23, 7, 12, 15, 9, 21, 17, 28, 2, 12, 24, 31, 12, 19, 26, 19, 17, 10, 23, 31, 6, 23, 8, 9, 5, 35, 21, 10, 17, 30, 21, 5, 24, 6, 26, 4, 4, 5, 19, 12, 19, 6, 15, 31, 19, 14, 26, 13, 7, 17, 29, 28, 4, 12, 36, 8, 7, 8, 19, 21, 16, 23, 9, 11, 1, 9, 19, 46, 38, 15, 39, 45, 5, 6, 23, 3, 7, 44, 12, 7, 8, 15, 24, 15, 18, 15, 11, 12, 5, 14, 12, 17, 7, 11, 14, 10, 10, 5, 23, 13, 20, 22, 18, 11, 24, 14, 9, 22, 14, 13, 24, 12, 17, 22, 20, 22, 17, 33, 17, 20, 16, 19, 4, 18, 13, 18, 22, 3, 15, 7, 15, 10, 7, 23, 27, 23, 20, 23, 2, 34, 5, 5, 45, 23, 4, 3, 15, 25, 28, 13, 31, 8, 32, 24, 11, 7, 5, 9, 8, 28, 10, 10, 4, 14, 19, 33, 14, 34, 24, 16, 2, 11, 34, 29, 6, 43, 10, 19, 14, 10, 24, 4, 2, 11, 18, 16, 11, 14, 26, 23, 22, 29, 15, 15, 27, 35, 17, 21, 26, 25, 32, 22, 9, 12, 13, 30, 17, 10, 11, 18, 12, 9, 20, 12, 4, 31, 5, 12, 16, 17, 11, 3, 17, 9, 40, 3, 5, 22, 2, 6, 12, 8, 19, 14, 28, 20, 7, 23, 2, 22, 14, 1, 15, 23, 11, 7, 8, 6, 19, 26, 15, 16, 3, 10, 11, 26, 22, 10, 41, 3, 19, 9, 32, 4, 15, 37, 19, 7, 22, 9, 12, 8, 21, 27, 20, 23, 5, 20, 31, 25, 10, 3, 18, 10, 6, 20, 16, 14, 25, 17, 4, 21, 12, 6, 22, 12, 6, 1, 2, 12, 18, 31, 7, 18, 19, 1, 33, 8, 38, 15, 20, 15, 1, 12, 19, 4, 24, 27, 9, 5, 38, 23, 36, 36, 8, 19, 9, 7, 17, 19, 13, 21, 33, 24, 4, 5, 17, 35, 11, 6, 17, 13, 22, 22, 8, 10, 21, 17, 16, 27, 20, 16, 15, 27, 10, 23, 10, 35, 19, 18, 24, 22, 23, 35, 14, 10, 31, 12, 29, 18, 20, 38, 32, 22, 11, 35, 31, 7, 19, 4, 13, 21, 41, 6, 5, 13, 28, 8, 18, 29, 21, 7, 26, 8, 29, 10, 28, 21, 11, 13, 19, 15, 10, 9, 38, 5, 7, 15, 6, 22, 35, 23, 8, 9, 20, 11, 28, 42, 8, 34, 25, 5, 4, 28, 9, 28, 23, 17, 28, 15, 14, 35, 26, 24, 10, 4, 2, 11, 54, 7, 4, 25, 24, 10, 22, 5, 9, 12, 45, 10, 12, 27, 25, 16, 10, 25, 2, 14, 8, 16, 25, 40, 6, 6, 1, 4, 4, 18, 15, 14, 17, 11, 3, 30, 38, 37, 19, 20, 2, 28, 25, 24, 15, 13, 23, 27, 11, 13, 19, 11, 12, 8, 25, 16, 25, 8, 24, 19, 17, 20, 18, 28, 8, 5, 29, 10, 11, 28, 14, 20, 29, 12, 23, 18, 30, 22, 12, 31, 11, 4, 33, 30, 9, 18, 14, 16, 14, 32, 23, 28, 18, 10, 16, 30, 16, 23, 16, 18, 11, 15, 34, 16, 5, 32, 20, 6, 10, 5, 12, 37, 24, 29, 3, 25, 13, 8, 15, 15, 19, 16, 29, 33, 15, 7, 2, 4, 19, 22, 12, 20, 18, 20, 19, 14, 2, 12, 30, 36, 13, 23, 37, 19, 12, 41, 19, 27, 24, 8, 4, 31, 15, 3, 19, 10, 20, 13, 5, 15, 10, 9, 15, 14, 13, 17, 35, 5, 4, 10, 3, 29, 13, 14, 16, 8, 13, 22, 5, 18, 17, 15, 19, 3, 9, 19, 16, 30, 18, 13, 27, 8, 20, 13, 28, 16, 47, 10, 1, 1, 2, 1, 20, 7, 21, 9, 15, 25, 21, 22, 22, 11, 15, 21, 23, 44, 7, 6, 32, 10, 16, 19, 2, 4, 15, 21, 33, 7, 11, 8, 7, 29, 3, 8, 17, 22, 20, 39, 15, 22, 10, 9, 26, 11, 21, 22, 33, 26, 14, 7, 7, 20, 18, 11, 12, 13, 13, 22, 6, 14, 9, 24, 15, 17, 5, 15, 38, 32, 8, 4, 30, 12, 20, 15, 28, 9, 23, 14, 7, 6, 22, 19, 25, 24, 6, 15, 12, 13, 13, 3, 14, 9, 15, 9, 34, 5, 10, 36, 18, 11, 34, 30, 36, 36, 8, 22, 11, 8, 19, 19, 19, 21, 22, 18, 17, 25, 16, 10, 16, 9, 13, 5, 36, 27, 21, 30, 3, 13, 11, 29, 16, 28, 22, 26, 25, 14, 22, 16, 17, 7, 17, 17, 17, 7, 16, 17, 5, 18, 18, 5, 12, 25, 33, 16, 18, 19, 35, 29, 13, 17, 23, 9, 10, 23, 18, 38, 10, 22, 19, 30, 17, 5, 32, 15, 22, 20, 19, 11, 25, 26, 31, 7, 34, 8, 29, 11, 20, 27, 6, 24, 19, 16, 24, 6, 27, 13, 21, 27, 5, 19, 9, 5, 30, 25, 27, 5, 8, 19, 15, 24, 15, 24, 6, 26, 7, 17, 18, 25, 19, 12, 4, 32, 31, 10, 16, 2, 8, 17, 6, 22, 22, 19, 14, 18, 17, 22, 24, 21, 10, 6, 17, 22, 12, 21, 9, 19, 23, 14, 10, 7, 20, 14, 5, 32, 8, 20, 16, 7, 10, 14, 4, 9, 39, 26, 9, 8, 11, 7, 36, 9, 6, 23, 21, 21, 11, 15, 24, 21, 26, 17, 34, 8, 20, 14, 14, 5, 10, 8, 12, 21, 20, 9, 10, 15, 17, 9, 18, 18, 18, 11, 5, 20, 11, 12, 28, 6, 13, 23, 7, 15, 26, 8, 30, 37, 11, 13, 14, 5, 7, 30, 17, 32, 10, 10, 24, 15, 20, 26, 18, 27, 7, 12, 18, 17, 10, 15, 12, 27, 27, 3, 28, 20, 10, 32, 4, 29, 8, 6, 18, 11, 24, 2, 17, 8, 16, 18, 19, 3, 16, 8, 16, 10, 25, 19, 15, 18, 10, 7, 17, 8, 14, 24, 9, 10, 17, 7, 32, 8, 20, 15, 19, 24, 27, 10, 23, 6, 11, 17, 25, 30, 17, 36, 15, 18, 15, 29, 16, 25, 20, 10, 5, 21, 17, 10, 15, 23, 20, 8, 24, 21, 9, 12, 22, 25, 9, 28, 19, 27, 6, 21, 2, 18, 20, 21, 10, 29, 32, 20, 19, 14, 12, 10, 21, 7, 22, 11, 20, 14, 7, 14, 7, 20, 19, 18, 9, 16, 8, 7, 9, 12, 15, 27, 12, 14, 3, 29, 19, 23, 8, 16, 2, 24, 28, 16, 7, 20, 15, 15, 17, 27, 13, 4, 18, 25, 29, 7, 19, 14, 33, 24, 29, 27, 21, 14, 8, 25, 20, 16, 13, 4, 10, 12, 16, 8, 20, 31, 19, 14, 4, 14, 19, 12, 4, 9, 27, 6, 33, 20, 21, 11, 37, 15, 17, 14, 16, 21, 12, 3, 2, 17, 31, 23, 25, 6, 5, 13, 9, 23, 15, 9, 15, 12, 18, 17, 11, 19, 15, 19, 14, 16, 38, 24, 2, 3, 13, 1, 29, 14, 25, 21, 13, 4, 9, 6, 7, 21, 14, 8, 4, 26, 5, 24, 26, 9, 34, 1, 20, 7, 12, 18, 32, 1, 27, 5, 10, 11, 12, 4, 13, 8, 22, 10, 18, 19, 13, 5, 18, 6, 16, 1, 34, 35, 23, 9, 25, 23, 23, 28, 17, 8, 11, 15, 23, 21, 8, 26, 22, 29, 14, 23, 19, 20, 13, 21, 27, 6, 4, 18, 12, 31, 16, 22, 16, 18, 13, 27, 24, 11, 3, 16, 19, 14, 21, 13, 24, 10, 8, 21], \"xaxis\": \"x\", \"yaxis\": \"y\"}],\n",
              "                        {\"barmode\": \"relative\", \"legend\": {\"tracegroupgap\": 0}, \"template\": {\"data\": {\"bar\": [{\"error_x\": {\"color\": \"#2a3f5f\"}, \"error_y\": {\"color\": \"#2a3f5f\"}, \"marker\": {\"line\": {\"color\": \"#E5ECF6\", \"width\": 0.5}}, \"type\": \"bar\"}], \"barpolar\": [{\"marker\": {\"line\": {\"color\": \"#E5ECF6\", \"width\": 0.5}}, \"type\": \"barpolar\"}], \"carpet\": [{\"aaxis\": {\"endlinecolor\": \"#2a3f5f\", \"gridcolor\": \"white\", \"linecolor\": \"white\", \"minorgridcolor\": \"white\", \"startlinecolor\": \"#2a3f5f\"}, \"baxis\": {\"endlinecolor\": \"#2a3f5f\", \"gridcolor\": \"white\", \"linecolor\": \"white\", \"minorgridcolor\": \"white\", \"startlinecolor\": \"#2a3f5f\"}, \"type\": \"carpet\"}], \"choropleth\": [{\"colorbar\": {\"outlinewidth\": 0, \"ticks\": \"\"}, \"type\": \"choropleth\"}], \"contour\": [{\"colorbar\": {\"outlinewidth\": 0, \"ticks\": \"\"}, \"colorscale\": [[0.0, \"#0d0887\"], [0.1111111111111111, \"#46039f\"], [0.2222222222222222, \"#7201a8\"], [0.3333333333333333, \"#9c179e\"], [0.4444444444444444, \"#bd3786\"], [0.5555555555555556, \"#d8576b\"], [0.6666666666666666, \"#ed7953\"], [0.7777777777777778, \"#fb9f3a\"], [0.8888888888888888, \"#fdca26\"], [1.0, \"#f0f921\"]], \"type\": \"contour\"}], \"contourcarpet\": [{\"colorbar\": {\"outlinewidth\": 0, \"ticks\": \"\"}, \"type\": \"contourcarpet\"}], \"heatmap\": [{\"colorbar\": {\"outlinewidth\": 0, \"ticks\": \"\"}, \"colorscale\": [[0.0, \"#0d0887\"], [0.1111111111111111, \"#46039f\"], [0.2222222222222222, \"#7201a8\"], [0.3333333333333333, \"#9c179e\"], [0.4444444444444444, \"#bd3786\"], [0.5555555555555556, \"#d8576b\"], [0.6666666666666666, \"#ed7953\"], [0.7777777777777778, \"#fb9f3a\"], [0.8888888888888888, \"#fdca26\"], [1.0, \"#f0f921\"]], \"type\": \"heatmap\"}], \"heatmapgl\": [{\"colorbar\": {\"outlinewidth\": 0, \"ticks\": \"\"}, \"colorscale\": [[0.0, \"#0d0887\"], [0.1111111111111111, \"#46039f\"], [0.2222222222222222, \"#7201a8\"], [0.3333333333333333, \"#9c179e\"], [0.4444444444444444, \"#bd3786\"], [0.5555555555555556, \"#d8576b\"], [0.6666666666666666, \"#ed7953\"], [0.7777777777777778, \"#fb9f3a\"], [0.8888888888888888, \"#fdca26\"], [1.0, \"#f0f921\"]], \"type\": \"heatmapgl\"}], \"histogram\": [{\"marker\": {\"colorbar\": {\"outlinewidth\": 0, \"ticks\": \"\"}}, \"type\": \"histogram\"}], \"histogram2d\": [{\"colorbar\": {\"outlinewidth\": 0, \"ticks\": \"\"}, \"colorscale\": [[0.0, \"#0d0887\"], [0.1111111111111111, \"#46039f\"], [0.2222222222222222, \"#7201a8\"], [0.3333333333333333, \"#9c179e\"], [0.4444444444444444, \"#bd3786\"], [0.5555555555555556, \"#d8576b\"], [0.6666666666666666, \"#ed7953\"], [0.7777777777777778, \"#fb9f3a\"], [0.8888888888888888, \"#fdca26\"], [1.0, \"#f0f921\"]], \"type\": \"histogram2d\"}], \"histogram2dcontour\": [{\"colorbar\": {\"outlinewidth\": 0, \"ticks\": \"\"}, \"colorscale\": [[0.0, \"#0d0887\"], [0.1111111111111111, \"#46039f\"], [0.2222222222222222, \"#7201a8\"], [0.3333333333333333, \"#9c179e\"], [0.4444444444444444, \"#bd3786\"], [0.5555555555555556, \"#d8576b\"], [0.6666666666666666, \"#ed7953\"], [0.7777777777777778, \"#fb9f3a\"], [0.8888888888888888, \"#fdca26\"], [1.0, \"#f0f921\"]], \"type\": \"histogram2dcontour\"}], \"mesh3d\": [{\"colorbar\": {\"outlinewidth\": 0, \"ticks\": \"\"}, \"type\": \"mesh3d\"}], \"parcoords\": [{\"line\": {\"colorbar\": {\"outlinewidth\": 0, \"ticks\": \"\"}}, \"type\": \"parcoords\"}], \"pie\": [{\"automargin\": true, \"type\": \"pie\"}], \"scatter\": [{\"marker\": {\"colorbar\": {\"outlinewidth\": 0, \"ticks\": \"\"}}, \"type\": \"scatter\"}], \"scatter3d\": [{\"line\": {\"colorbar\": {\"outlinewidth\": 0, \"ticks\": \"\"}}, \"marker\": {\"colorbar\": {\"outlinewidth\": 0, \"ticks\": \"\"}}, \"type\": \"scatter3d\"}], \"scattercarpet\": [{\"marker\": {\"colorbar\": {\"outlinewidth\": 0, \"ticks\": \"\"}}, \"type\": \"scattercarpet\"}], \"scattergeo\": [{\"marker\": {\"colorbar\": {\"outlinewidth\": 0, \"ticks\": \"\"}}, \"type\": \"scattergeo\"}], \"scattergl\": [{\"marker\": {\"colorbar\": {\"outlinewidth\": 0, \"ticks\": \"\"}}, \"type\": \"scattergl\"}], \"scattermapbox\": [{\"marker\": {\"colorbar\": {\"outlinewidth\": 0, \"ticks\": \"\"}}, \"type\": \"scattermapbox\"}], \"scatterpolar\": [{\"marker\": {\"colorbar\": {\"outlinewidth\": 0, \"ticks\": \"\"}}, \"type\": \"scatterpolar\"}], \"scatterpolargl\": [{\"marker\": {\"colorbar\": {\"outlinewidth\": 0, \"ticks\": \"\"}}, \"type\": \"scatterpolargl\"}], \"scatterternary\": [{\"marker\": {\"colorbar\": {\"outlinewidth\": 0, \"ticks\": \"\"}}, \"type\": \"scatterternary\"}], \"surface\": [{\"colorbar\": {\"outlinewidth\": 0, \"ticks\": \"\"}, \"colorscale\": [[0.0, \"#0d0887\"], [0.1111111111111111, \"#46039f\"], [0.2222222222222222, \"#7201a8\"], [0.3333333333333333, \"#9c179e\"], [0.4444444444444444, \"#bd3786\"], [0.5555555555555556, \"#d8576b\"], [0.6666666666666666, \"#ed7953\"], [0.7777777777777778, \"#fb9f3a\"], [0.8888888888888888, \"#fdca26\"], [1.0, \"#f0f921\"]], \"type\": \"surface\"}], \"table\": [{\"cells\": {\"fill\": {\"color\": \"#EBF0F8\"}, \"line\": {\"color\": \"white\"}}, \"header\": {\"fill\": {\"color\": \"#C8D4E3\"}, \"line\": {\"color\": \"white\"}}, \"type\": \"table\"}]}, \"layout\": {\"annotationdefaults\": {\"arrowcolor\": \"#2a3f5f\", \"arrowhead\": 0, \"arrowwidth\": 1}, \"coloraxis\": {\"colorbar\": {\"outlinewidth\": 0, \"ticks\": \"\"}}, \"colorscale\": {\"diverging\": [[0, \"#8e0152\"], [0.1, \"#c51b7d\"], [0.2, \"#de77ae\"], [0.3, \"#f1b6da\"], [0.4, \"#fde0ef\"], [0.5, \"#f7f7f7\"], [0.6, \"#e6f5d0\"], [0.7, \"#b8e186\"], [0.8, \"#7fbc41\"], [0.9, \"#4d9221\"], [1, \"#276419\"]], \"sequential\": [[0.0, \"#0d0887\"], [0.1111111111111111, \"#46039f\"], [0.2222222222222222, \"#7201a8\"], [0.3333333333333333, \"#9c179e\"], [0.4444444444444444, \"#bd3786\"], [0.5555555555555556, \"#d8576b\"], [0.6666666666666666, \"#ed7953\"], [0.7777777777777778, \"#fb9f3a\"], [0.8888888888888888, \"#fdca26\"], [1.0, \"#f0f921\"]], \"sequentialminus\": [[0.0, \"#0d0887\"], [0.1111111111111111, \"#46039f\"], [0.2222222222222222, \"#7201a8\"], [0.3333333333333333, \"#9c179e\"], [0.4444444444444444, \"#bd3786\"], [0.5555555555555556, \"#d8576b\"], [0.6666666666666666, \"#ed7953\"], [0.7777777777777778, \"#fb9f3a\"], [0.8888888888888888, \"#fdca26\"], [1.0, \"#f0f921\"]]}, \"colorway\": [\"#636efa\", \"#EF553B\", \"#00cc96\", \"#ab63fa\", \"#FFA15A\", \"#19d3f3\", \"#FF6692\", \"#B6E880\", \"#FF97FF\", \"#FECB52\"], \"font\": {\"color\": \"#2a3f5f\"}, \"geo\": {\"bgcolor\": \"white\", \"lakecolor\": \"white\", \"landcolor\": \"#E5ECF6\", \"showlakes\": true, \"showland\": true, \"subunitcolor\": \"white\"}, \"hoverlabel\": {\"align\": \"left\"}, \"hovermode\": \"closest\", \"mapbox\": {\"style\": \"light\"}, \"paper_bgcolor\": \"white\", \"plot_bgcolor\": \"#E5ECF6\", \"polar\": {\"angularaxis\": {\"gridcolor\": \"white\", \"linecolor\": \"white\", \"ticks\": \"\"}, \"bgcolor\": \"#E5ECF6\", \"radialaxis\": {\"gridcolor\": \"white\", \"linecolor\": \"white\", \"ticks\": \"\"}}, \"scene\": {\"xaxis\": {\"backgroundcolor\": \"#E5ECF6\", \"gridcolor\": \"white\", \"gridwidth\": 2, \"linecolor\": \"white\", \"showbackground\": true, \"ticks\": \"\", \"zerolinecolor\": \"white\"}, \"yaxis\": {\"backgroundcolor\": \"#E5ECF6\", \"gridcolor\": \"white\", \"gridwidth\": 2, \"linecolor\": \"white\", \"showbackground\": true, \"ticks\": \"\", \"zerolinecolor\": \"white\"}, \"zaxis\": {\"backgroundcolor\": \"#E5ECF6\", \"gridcolor\": \"white\", \"gridwidth\": 2, \"linecolor\": \"white\", \"showbackground\": true, \"ticks\": \"\", \"zerolinecolor\": \"white\"}}, \"shapedefaults\": {\"line\": {\"color\": \"#2a3f5f\"}}, \"ternary\": {\"aaxis\": {\"gridcolor\": \"white\", \"linecolor\": \"white\", \"ticks\": \"\"}, \"baxis\": {\"gridcolor\": \"white\", \"linecolor\": \"white\", \"ticks\": \"\"}, \"bgcolor\": \"#E5ECF6\", \"caxis\": {\"gridcolor\": \"white\", \"linecolor\": \"white\", \"ticks\": \"\"}}, \"title\": {\"x\": 0.05}, \"xaxis\": {\"automargin\": true, \"gridcolor\": \"white\", \"linecolor\": \"white\", \"ticks\": \"\", \"title\": {\"standoff\": 15}, \"zerolinecolor\": \"white\", \"zerolinewidth\": 2}, \"yaxis\": {\"automargin\": true, \"gridcolor\": \"white\", \"linecolor\": \"white\", \"ticks\": \"\", \"title\": {\"standoff\": 15}, \"zerolinecolor\": \"white\", \"zerolinewidth\": 2}}}, \"title\": {\"text\": \"Phrase Histogram\"}, \"xaxis\": {\"anchor\": \"y\", \"domain\": [0.0, 1.0], \"title\": {\"text\": \"# Phrases\"}}, \"yaxis\": {\"anchor\": \"x\", \"domain\": [0.0, 1.0], \"title\": {\"text\": \"count\"}}},\n",
              "                        {\"responsive\": true}\n",
              "                    ).then(function(){\n",
              "                            \n",
              "var gd = document.getElementById('125e7937-24ee-424f-94b7-67e833b6171d');\n",
              "var x = new MutationObserver(function (mutations, observer) {{\n",
              "        var display = window.getComputedStyle(gd).display;\n",
              "        if (!display || display === 'none') {{\n",
              "            console.log([gd, 'removed!']);\n",
              "            Plotly.purge(gd);\n",
              "            observer.disconnect();\n",
              "        }}\n",
              "}});\n",
              "\n",
              "// Listen for the removal of the full notebook cells\n",
              "var notebookContainer = gd.closest('#notebook-container');\n",
              "if (notebookContainer) {{\n",
              "    x.observe(notebookContainer, {childList: true});\n",
              "}}\n",
              "\n",
              "// Listen for the clearing of the current output cell\n",
              "var outputEl = gd.closest('.output');\n",
              "if (outputEl) {{\n",
              "    x.observe(outputEl, {childList: true});\n",
              "}}\n",
              "\n",
              "                        })\n",
              "                };\n",
              "                \n",
              "            </script>\n",
              "        </div>\n",
              "</body>\n",
              "</html>"
            ]
          },
          "metadata": {}
        }
      ],
      "source": [
        "px.histogram(imdb_df_hist, x = \"PhraseId\",\n",
        "             title = \"Phrase Histogram\",\n",
        "             labels={\"PhraseId\":\"# Phrases\"})"
      ]
    },
    {
      "cell_type": "code",
      "execution_count": 11,
      "metadata": {
        "colab": {
          "base_uri": "https://localhost:8080/",
          "height": 542
        },
        "id": "4MKuHSCi94No",
        "outputId": "2b9ac7d0-8974-4915-8ff3-5a2a72e6ae18"
      },
      "outputs": [
        {
          "output_type": "display_data",
          "data": {
            "text/html": [
              "<html>\n",
              "<head><meta charset=\"utf-8\" /></head>\n",
              "<body>\n",
              "    <div>\n",
              "            <script src=\"https://cdnjs.cloudflare.com/ajax/libs/mathjax/2.7.5/MathJax.js?config=TeX-AMS-MML_SVG\"></script><script type=\"text/javascript\">if (window.MathJax) {MathJax.Hub.Config({SVG: {font: \"STIX-Web\"}});}</script>\n",
              "                <script type=\"text/javascript\">window.PlotlyConfig = {MathJaxConfig: 'local'};</script>\n",
              "        <script src=\"https://cdn.plot.ly/plotly-latest.min.js\"></script>    \n",
              "            <div id=\"9c327cbe-1987-47ec-ae19-7b382c3caff3\" class=\"plotly-graph-div\" style=\"height:525px; width:100%;\"></div>\n",
              "            <script type=\"text/javascript\">\n",
              "                \n",
              "                    window.PLOTLYENV=window.PLOTLYENV || {};\n",
              "                    \n",
              "                if (document.getElementById(\"9c327cbe-1987-47ec-ae19-7b382c3caff3\")) {\n",
              "                    Plotly.newPlot(\n",
              "                        '9c327cbe-1987-47ec-ae19-7b382c3caff3',\n",
              "                        [{\"alignmentgroup\": \"True\", \"hoverlabel\": {\"namelength\": 0}, \"hovertemplate\": \"Sentiment=%{x}<br># of Phrases=%{y}\", \"legendgroup\": \"\", \"marker\": {\"color\": \"#636efa\"}, \"name\": \"\", \"notched\": false, \"offsetgroup\": \"\", \"orientation\": \"v\", \"showlegend\": false, \"type\": \"box\", \"x\": [1, 2, 3, 2, 3, 4, 0, 1, 2, 3, 1, 2, 3, 4, 0, 1, 2, 1, 2, 3, 4, 0, 1, 2, 2, 3, 1, 2, 0, 1, 2, 1, 2, 3, 4, 0, 1, 2, 3, 2, 3, 4, 1, 2, 3, 4, 1, 2, 3, 4, 0, 1, 2, 3, 4, 2, 3, 2, 3, 4, 1, 2, 3, 1, 2, 2, 3, 4, 1, 2, 3, 1, 2, 3, 1, 2, 3, 1, 2, 3, 1, 2, 3, 4, 1, 2, 1, 2, 3, 1, 2, 3, 1, 2, 3, 4, 1, 2, 3, 0, 1, 2, 3, 1, 2, 3, 4, 0, 1, 2, 3, 1, 2, 3, 4, 0, 1, 2, 3, 0, 1, 2, 3, 4, 0, 1, 2, 3, 1, 2, 3, 1, 2, 3, 4, 0, 1, 2, 3, 0, 2, 3, 1, 2, 3, 4, 1, 2, 3, 2, 1, 2, 3, 4, 1, 2, 3, 4, 0, 1, 2, 3, 2, 3, 4, 1, 2, 3, 4, 0, 1, 2, 3, 1, 2, 3, 0, 1, 2, 3, 0, 1, 2, 3, 1, 2, 3, 4, 2, 3, 4, 0, 2, 1, 2, 3, 1, 2, 3, 1, 2, 3, 4, 0, 1, 2, 3, 1, 2, 3, 0, 1, 2, 3, 2, 3, 1, 2, 3, 4, 0, 1, 2, 3, 0, 1, 2, 3, 4, 1, 2, 1, 2, 3, 1, 2, 3, 4, 1, 2, 3, 2, 3, 4, 2, 3, 1, 2, 3, 1, 2, 3, 1, 2, 1, 2, 3, 0, 1, 2, 3, 1, 2, 3, 4, 2, 3, 4, 2, 3, 4, 2, 3, 1, 2, 3, 1, 2, 3, 4, 2, 3, 4, 0, 1, 2, 2, 3, 4, 1, 2, 3, 4, 2, 3, 1, 2, 3, 0, 1, 2, 3, 1, 2, 3, 4, 0, 1, 2, 3, 4, 1, 2, 3, 0, 1, 2, 3, 2, 3, 4, 0, 1, 2, 3, 1, 2, 3, 0, 1, 2, 4, 1, 2, 0, 1, 2, 3, 2, 3, 4, 1, 2, 3, 1, 2, 3, 1, 2, 3, 1, 2, 3, 2, 3, 4, 0, 1, 2, 3, 2, 3, 4, 0, 1, 2, 4, 0, 1, 2, 3, 0, 1, 2, 3, 0, 1, 2, 3, 0, 1, 2, 3, 4, 1, 2, 3, 1, 2, 1, 2, 3, 4, 2, 3, 4, 0, 1, 2, 3, 4, 1, 2, 3, 4, 1, 2, 3, 4, 2, 0, 1, 2, 1, 2, 3, 4, 1, 2, 3, 4, 1, 2, 3, 4, 1, 2, 3, 4, 1, 2, 3, 0, 1, 2, 3, 4, 1, 2, 3, 4, 1, 2, 2, 3, 4, 1, 2, 3, 0, 1, 2, 3, 1, 2, 3, 1, 2, 3, 4, 2, 3, 4, 1, 2, 3, 4, 0, 1, 2, 3, 2, 3, 4, 0, 1, 2, 3, 1, 2, 3, 4, 0, 1, 2, 3, 1, 2, 3, 1, 2, 3, 1, 2, 1, 2, 3, 4, 1, 2, 3, 1, 2, 3, 0, 1, 2, 3, 2, 4, 0, 1, 2, 3, 1, 2, 3, 1, 2, 3, 0, 1, 2, 2, 3, 4, 1, 2, 3, 1, 2, 3, 0, 1, 2, 3, 1, 2, 3, 4, 0, 1, 2, 1, 2, 3, 4, 1, 2, 3, 0, 1, 2, 3, 4, 1, 2, 3, 4, 0, 1, 2, 3, 0, 1, 2, 3, 1, 2, 3, 4, 1, 2, 3, 1, 2, 3, 4, 0, 1, 2, 3, 0, 1, 3, 1, 2, 3, 1, 2, 3, 4, 1, 2, 3, 0, 1, 2, 2, 3, 4, 0, 1, 2, 2, 3, 4, 0, 1, 2, 1, 2, 3, 1, 2, 3, 4, 2, 3, 4, 2, 3, 4, 1, 2, 3, 1, 2, 0, 1, 2, 3, 1, 2, 3, 1, 2, 0, 1, 2, 3, 0, 1, 2, 3, 4, 0, 1, 2, 3, 1, 2, 3, 0, 1, 2, 3, 1, 2, 3, 0, 1, 2, 1, 2, 3, 0, 1, 2, 3, 4, 2, 3, 4, 0, 1, 2, 3, 1, 2, 1, 2, 3, 4, 1, 2, 3, 2, 3, 4, 1, 2, 1, 2, 3, 4, 2, 3, 4, 1, 2, 3, 4, 1, 2, 3, 0, 1, 2, 3, 2, 3, 1, 2, 3, 1, 2, 3, 4, 1, 2, 0, 1, 2, 0, 1, 2, 3, 0, 1, 2, 3, 2, 3, 4, 0, 1, 2, 3, 1, 2, 3, 1, 2, 3, 1, 2, 0, 1, 2, 0, 1, 2, 3, 0, 1, 2, 1, 2, 3, 0, 1, 2, 1, 2, 3, 1, 2, 3, 4, 2, 1, 2, 3, 1, 2, 0, 1, 2, 3, 0, 1, 2, 3, 0, 1, 2, 3, 1, 2, 3, 4, 2, 3, 4, 2, 3, 4, 2, 3, 4, 1, 2, 3, 2, 3, 4, 0, 1, 2, 0, 1, 2, 3, 4, 1, 2, 4, 1, 2, 3, 4, 1, 2, 3, 4, 1, 2, 1, 2, 3, 4, 1, 2, 3, 0, 1, 2, 2, 3, 4, 0, 1, 2, 3, 1, 2, 3, 1, 2, 3, 2, 3, 4, 2, 3, 1, 2, 3, 1, 2, 3, 1, 2, 3, 4, 2, 3, 4, 0, 1, 2, 3, 4, 1, 2, 1, 2, 3, 4, 1, 2, 3, 2, 3, 1, 2, 3, 1, 2, 3, 0, 1, 2, 3, 2, 3, 4, 2, 3, 4, 2, 3, 4, 1, 2, 3, 4, 0, 1, 2, 3, 0, 1, 2, 3, 4, 1, 2, 3, 1, 2, 3, 0, 1, 2, 1, 2, 3, 0, 1, 2, 3, 0, 1, 2, 0, 1, 2, 3, 4, 0, 1, 2, 1, 2, 1, 0, 1, 2, 3, 4, 0, 1, 2, 3, 4, 0, 1, 2, 1, 2, 3, 4, 2, 3, 4, 1, 2, 3, 2, 3, 2, 3, 1, 2, 3, 2, 3, 4, 0, 1, 2, 3, 2, 3, 2, 3, 4, 2, 3, 4, 0, 1, 2, 0, 1, 2, 3, 0, 1, 2, 3, 1, 2, 3, 4, 1, 2, 3, 2, 3, 4, 2, 3, 1, 2, 3, 1, 2, 3, 0, 1, 2, 1, 2, 3, 4, 0, 1, 2, 3, 4, 0, 1, 2, 3, 0, 1, 3, 2, 3, 4, 1, 2, 3, 0, 1, 2, 1, 2, 3, 2, 3, 4, 1, 2, 3, 4, 1, 2, 3, 1, 2, 3, 2, 4, 0, 1, 2, 1, 2, 3, 0, 1, 2, 3, 4, 1, 2, 1, 2, 3, 0, 1, 2, 3, 0, 1, 3, 2, 1, 2, 3, 1, 2, 3, 4, 1, 2, 2, 3, 4, 2, 3, 0, 1, 2, 4, 2, 3, 0, 1, 2, 3, 1, 2, 3, 4, 1, 2, 3, 1, 2, 3, 1, 2, 3, 4, 1, 2, 0, 1, 2, 3, 2, 3, 4, 0, 1, 2, 3, 1, 2, 3, 0, 1, 2, 1, 2, 3, 1, 2, 3, 0, 1, 2, 3, 1, 2, 3, 1, 2, 3, 0, 1, 2, 3, 4, 2, 3, 1, 2, 1, 2, 1, 2, 3, 1, 2, 3, 2, 3, 4, 1, 2, 3, 0, 1, 2, 0, 1, 2, 1, 2, 3, 0, 1, 2, 3, 2, 3, 4, 1, 2, 3, 2, 3, 4, 0, 1, 2, 3, 4, 1, 2, 3, 1, 2, 1, 2, 3, 4, 2, 3, 1, 2, 3, 4, 1, 2, 3, 4, 2, 3, 4, 1, 2, 3, 4, 1, 2, 3, 0, 1, 2, 3, 1, 2, 3, 4, 1, 2, 3, 4, 0, 1, 2, 3, 0, 1, 2, 3, 0, 1, 2, 3, 2, 3, 4, 1, 2, 3, 1, 2, 3, 4, 1, 2, 3, 4, 2, 3, 0, 1, 2, 3, 0, 1, 2, 3, 1, 2, 3, 1, 2, 3, 2, 3, 4, 1, 2, 3, 4, 0, 1, 2, 0, 1, 2, 0, 1, 2, 3, 1, 2, 3, 1, 2, 3, 4, 2, 1, 2, 3, 1, 2, 3, 4, 0, 1, 2, 3, 2, 3, 4, 0, 1, 2, 0, 1, 2, 3, 3, 4, 1, 2, 3, 1, 2, 3, 4, 1, 2, 3, 0, 1, 2, 3, 2, 1, 2, 3, 2, 3, 4, 2, 3, 1, 2, 3, 4, 0, 1, 2, 3, 4, 0, 1, 2, 1, 2, 1, 2, 3, 4, 1, 2, 3, 4, 0, 1, 2, 3, 1, 2, 3, 1, 2, 3, 1, 2, 3, 4, 0, 1, 2, 2, 3, 4, 1, 2, 3, 4, 0, 1, 2, 3, 0, 1, 2, 3, 4, 2, 1, 2, 3, 4, 0, 1, 2, 3, 2, 3, 4, 1, 2, 1, 2, 3, 2, 3, 4, 1, 2, 3, 1, 2, 1, 2, 3, 1, 2, 3, 1, 2, 3, 0, 1, 2, 3, 4, 2, 3, 2, 3, 4, 2, 3, 1, 2, 3, 0, 1, 2, 1, 2, 3, 1, 2, 3, 1, 2, 3, 1, 2, 3, 1, 2, 3, 4, 1, 2, 3, 2, 3, 1, 2, 3, 4, 1, 2, 0, 1, 2, 3, 0, 1, 2, 3, 2, 3, 0, 1, 2, 3, 2, 3, 4, 1, 2, 3, 1, 2, 3, 1, 2, 3, 1, 2, 3, 4, 0, 1, 2, 3, 1, 2, 3, 1, 2, 3, 4, 0, 1, 2, 3, 1, 2, 3, 4, 2, 3, 4, 2, 3, 4, 0, 1, 1, 2, 1, 2, 1, 2, 2, 3, 4, 3, 4, 1, 2, 1, 2, 3, 2, 3, 1, 2, 1, 2, 3, 0, 1, 2, 3, 0, 1, 2, 3, 0, 1, 2, 3, 1, 2, 3, 4, 2, 3, 4, 0, 1, 2, 3, 1, 2, 2, 3, 4, 0, 1, 2, 3, 2, 3, 4, 1, 2, 3, 1, 2, 3, 4, 2, 3, 4, 1, 2, 3, 0, 1, 2, 1, 2, 3, 4, 0, 1, 2, 1, 2, 1, 2, 3, 4, 1, 2, 3, 2, 3, 4, 0, 1, 2, 3, 4, 1, 2, 3, 4, 1, 2, 3, 4, 0, 1, 2, 3, 0, 1, 2, 3, 1, 2, 3, 1, 2, 2, 3, 0, 1, 2, 3, 4, 2, 3, 4, 1, 2, 3, 4, 0, 1, 2, 3, 2, 3, 4, 2, 3, 4, 0, 1, 2, 3, 2, 3, 4, 1, 2, 3, 4, 0, 1, 2, 1, 2, 3, 0, 1, 2, 3, 0, 1, 2, 3, 2, 3, 4, 3, 3, 4, 1, 2, 3, 2, 3, 4, 1, 2, 3, 1, 2, 3, 1, 2, 3, 1, 2, 1, 2, 3, 0, 1, 2, 3, 0, 1, 1, 2, 3, 1, 2, 3, 1, 2, 3, 0, 1, 2, 3, 1, 2, 3, 4, 2, 3, 1, 2, 3, 1, 2, 3, 0, 1, 2, 1, 2, 3, 1, 2, 3, 4, 1, 2, 3, 4, 0, 1, 2, 3, 1, 2, 3, 4, 1, 2, 3, 2, 3, 4, 1, 2, 0, 1, 2, 1, 2, 3, 1, 2, 3, 4, 2, 3, 4, 0, 1, 2, 3, 1, 2, 3, 0, 1, 2, 3, 0, 1, 2, 3, 4, 1, 2, 3, 4, 1, 2, 3, 4, 2, 3, 4, 2, 3, 4, 1, 2, 3, 0, 1, 2, 3, 4, 2, 3, 4, 2, 3, 4, 1, 2, 3, 0, 1, 2, 1, 2, 3, 0, 1, 2, 3, 4, 0, 1, 2, 3, 1, 2, 3, 4, 2, 3, 4, 2, 3, 4, 1, 2, 3, 1, 2, 3, 1, 2, 3, 1, 2, 3, 4, 1, 2, 3, 2, 3, 4, 0, 1, 2, 3, 1, 2, 3, 2, 3, 4, 0, 1, 2, 3, 2, 3, 4, 0, 1, 2, 3, 2, 3, 4, 1, 2, 3, 4, 2, 3, 4, 2, 3, 4, 0, 1, 2, 3, 0, 1, 2, 3, 2, 3, 4, 0, 1, 2, 1, 2, 3, 4, 2, 3, 4, 0, 1, 2, 3, 0, 1, 2, 2, 3, 2, 3, 1, 2, 3, 0, 1, 2, 3, 2, 3, 4, 1, 2, 3, 4, 2, 3, 1, 2, 3, 1, 2, 3, 0, 1, 2, 3, 0, 1, 2, 3, 2, 3, 4, 0, 1, 2, 3, 1, 2, 3, 2, 3, 4, 1, 2, 3, 1, 2, 3, 4, 2, 3, 4, 1, 2, 3, 0, 1, 2, 3, 1, 2, 3, 4, 0, 1, 0, 1, 2, 3, 2, 3, 4, 2, 3, 4, 1, 2, 3, 4, 1, 2, 3, 0, 1, 2, 3, 4, 2, 3, 1, 2, 3, 4, 1, 2, 3, 4, 2, 3, 4, 0, 1, 2, 3, 2, 3, 1, 2, 3, 0, 1, 2, 1, 2, 3, 4, 0, 1, 2, 3, 4, 2, 2, 3, 4, 1, 2, 3, 4, 0, 1, 2, 3, 1, 2, 3, 4, 0, 1, 2, 3, 0, 1, 2, 2, 3, 4, 2, 3, 4, 1, 2, 3, 2, 3, 4, 1, 2, 3, 0, 1, 2, 3, 1, 2, 3, 4, 1, 2, 3, 0, 1, 2, 0, 1, 2, 3, 1, 2, 3, 0, 1, 2, 3, 1, 2, 3, 4, 2, 3, 4, 1, 2, 3, 1, 2, 3, 1, 2, 1, 2, 3, 0, 1, 2, 3, 1, 2, 3, 0, 1, 2, 2, 3, 4, 2, 3, 4, 1, 2, 3, 2, 3, 4, 1, 2, 3, 4, 2, 3, 4, 2, 3, 4, 1, 2, 3, 4, 1, 2, 3, 4, 2, 3, 4, 0, 1, 2, 1, 2, 3, 4, 1, 2, 3, 2, 3, 4, 1, 2, 3, 2, 3, 2, 3, 0, 1, 2, 3, 1, 2, 3, 1, 2, 3, 4, 2, 3, 4, 1, 2, 3, 1, 2, 3, 4, 0, 1, 2, 3, 1, 2, 3, 4, 3, 4, 2, 3, 4, 0, 1, 2, 3, 1, 2, 3, 4, 1, 2, 3, 1, 2, 3, 4, 2, 3, 4, 0, 1, 2, 3, 4, 1, 2, 3, 4, 2, 3, 4, 2, 3, 4, 0, 1, 2, 1, 2, 3, 4, 0, 1, 2, 3, 2, 3, 4, 0, 1, 2, 2, 3, 4, 1, 2, 3, 2, 3, 0, 1, 2, 3, 2, 3, 4, 0, 1, 2, 1, 2, 3, 0, 1, 2, 3, 4, 1, 2, 3, 2, 3, 4, 1, 2, 3, 4, 2, 3, 4, 1, 2, 3, 1, 2, 3, 4, 1, 2, 1, 2, 0, 1, 2, 3, 0, 1, 2, 3, 2, 3, 1, 2, 3, 1, 2, 3, 4, 1, 2, 3, 2, 4, 1, 2, 1, 2, 3, 1, 2, 3, 0, 1, 2, 3, 1, 2, 3, 1, 2, 1, 2, 3, 0, 1, 2, 3, 1, 2, 3, 1, 2, 3, 1, 2, 3, 4, 1, 2, 0, 1, 2, 3, 1, 2, 3, 2, 3, 2, 3, 4, 0, 1, 2, 3, 0, 1, 2, 3, 4, 1, 2, 3, 1, 2, 3, 4, 1, 2, 3, 1, 2, 3, 1, 2, 3, 1, 2, 3, 1, 2, 3, 4, 1, 2, 3, 4, 2, 3, 4, 2, 3, 4, 1, 2, 3, 4, 2, 3, 4, 1, 2, 3, 0, 1, 2, 1, 2, 2, 3, 1, 2, 1, 2, 3, 2, 3, 4, 2, 3, 4, 1, 2, 3, 0, 1, 2, 3, 4, 1, 2, 2, 3, 1, 2, 3, 0, 1, 2, 3, 2, 3, 4, 1, 2, 3, 1, 2, 1, 2, 3, 4, 0, 1, 2, 3, 0, 1, 2, 1, 2, 3, 4, 1, 2, 3, 4, 2, 3, 1, 2, 3, 4, 1, 2, 3, 4, 2, 3, 4, 1, 2, 3, 1, 2, 3, 4, 1, 2, 2, 4, 2, 3, 2, 3, 4, 0, 1, 2, 3, 1, 2, 2, 3, 4, 2, 3, 1, 2, 3, 4, 2, 3, 4, 0, 1, 2, 0, 1, 2, 3, 4, 1, 2, 0, 2, 3, 1, 2, 3, 1, 2, 3, 1, 2, 3, 4, 1, 2, 3, 4, 1, 2, 3, 2, 3, 2, 3, 2, 3, 0, 1, 2, 3, 4, 1, 2, 2, 3, 4, 1, 2, 3, 1, 2, 3, 2, 3, 1, 2, 1, 2, 3, 0, 1, 2, 3, 1, 2, 3, 4, 0, 1, 2, 0, 1, 2, 1, 2, 2, 3, 2, 3, 1, 2, 0, 1, 2, 3, 4, 2, 3, 4, 0, 1, 2, 3, 2, 3, 4, 0, 1, 2, 3, 1, 2, 3, 2, 3, 4, 1, 2, 3, 2, 3, 4, 0, 1, 2, 0, 1, 2, 3, 1, 2, 3, 4, 1, 2, 3, 4, 2, 3, 0, 1, 2, 3, 2, 3, 4, 2, 3, 1, 2, 3, 0, 1, 2, 3, 4, 1, 2, 3, 2, 3, 0, 1, 2, 0, 1, 2, 0, 1, 2, 3, 1, 2, 3, 4, 1, 2, 3, 1, 2, 3, 2, 3, 0, 1, 2, 0, 1, 2, 3, 0, 1, 2, 3, 0, 1, 0, 1, 2, 3, 2, 3, 4, 1, 2, 1, 2, 3, 4, 1, 2, 3, 1, 2, 3, 4, 1, 2, 2, 3, 4, 2, 3, 1, 2, 3, 2, 3, 4, 1, 2, 3, 0, 1, 2, 3, 1, 3, 4, 0, 1, 2, 1, 2, 3, 0, 1, 2, 3, 4, 2, 3, 2, 3, 4, 0, 1, 2, 3, 4, 2, 3, 4, 1, 2, 3, 4, 2, 3, 4, 0, 1, 2, 3, 0, 1, 2, 3, 1, 2, 3, 4, 0, 1, 2, 2, 3, 0, 1, 2, 1, 2, 3, 0, 1, 2, 3, 4, 0, 1, 2, 3, 0, 1, 2, 3, 4, 1, 2, 3, 2, 3, 1, 2, 3, 0, 1, 2, 3, 2, 0, 1, 2, 3, 1, 2, 1, 2, 2, 3, 4, 1, 2, 0, 1, 2, 3, 2, 3, 4, 0, 1, 2, 3, 4, 1, 2, 3, 0, 1, 2, 3, 2, 4, 0, 1, 2, 3, 4, 2, 3, 4, 0, 1, 2, 3, 1, 2, 3, 2, 3, 4, 0, 1, 2, 0, 1, 2, 3, 4, 0, 1, 2, 3, 1, 2, 3, 4, 2, 3, 2, 3, 1, 2, 3, 4, 1, 2, 3, 0, 1, 2, 3, 0, 1, 2, 3, 1, 2, 3, 1, 2, 3, 4, 2, 3, 4, 2, 0, 1, 2, 3, 0, 1, 2, 3, 2, 3, 4, 1, 2, 1, 2, 2, 3, 4, 1, 2, 3, 2, 3, 0, 1, 2, 3, 1, 2, 3, 4, 2, 3, 2, 3, 4, 0, 1, 2, 3, 3, 4, 1, 2, 3, 2, 3, 4, 1, 2, 3, 4, 1, 2, 3, 1, 2, 3, 0, 1, 2, 3, 1, 2, 2, 3, 4, 1, 2, 3, 0, 1, 2, 2, 3, 2, 3, 4, 2, 3, 0, 1, 2, 3, 4, 0, 1, 2, 3, 2, 3, 4, 0, 1, 2, 3, 1, 2, 3, 1, 2, 3, 4, 0, 1, 2, 2, 3, 4, 1, 2, 3, 2, 3, 4, 0, 1, 1, 2, 3, 4, 1, 2, 1, 2, 3, 1, 2, 3, 1, 2, 2, 3, 4, 1, 2, 3, 4, 1, 2, 1, 2, 3, 4, 0, 1, 2, 1, 2, 2, 3, 4, 1, 2, 3, 4, 1, 2, 1, 2, 3, 1, 2, 0, 1, 2, 0, 1, 2, 3, 1, 2, 3, 4, 1, 2, 3, 1, 2, 3, 0, 1, 2, 1, 2, 3, 0, 1, 2, 3, 4, 0, 1, 2, 0, 2, 3, 1, 2, 3, 4, 2, 3, 1, 2, 1, 2, 0, 1, 2, 3, 1, 2, 0, 1, 2, 3, 4, 1, 2, 1, 2, 3, 0, 1, 2, 3, 1, 2, 3, 0, 1, 2, 3, 1, 2, 3, 0, 1, 2, 3, 1, 2, 1, 2, 3, 1, 2, 3, 1, 2, 3, 2, 1, 2, 3, 1, 2, 3, 4, 1, 2, 1, 2, 3, 4, 2, 3, 4, 1, 2, 3, 1, 2, 3, 1, 2, 3, 4, 0, 1, 2, 2, 3, 4, 0, 1, 2, 0, 1, 2, 3, 1, 2, 2, 3, 4, 0, 1, 2, 3, 0, 1, 2, 3, 4, 1, 2, 0, 1, 2, 0, 1, 2, 3, 1, 2, 3, 0, 1, 2, 3, 4, 1, 2, 3, 2, 3, 4, 2, 1, 2, 0, 1, 2, 3, 1, 2, 3, 2, 3, 1, 2, 3, 1, 2, 3, 4, 0, 1, 2, 0, 1, 2, 3, 0, 1, 2, 3, 0, 1, 2, 0, 1, 2, 3, 2, 3, 4, 0, 1, 2, 3, 1, 2, 3, 0, 1, 2, 3, 2, 3, 4, 2, 3, 0, 2, 3, 1, 2, 3, 4, 3, 4, 1, 2, 3, 0, 1, 2, 3, 0, 2, 3, 0, 1, 2, 3, 4, 1, 2, 3, 1, 2, 3, 0, 1, 2, 3, 1, 2, 3, 0, 1, 2, 1, 2, 3, 1, 2, 3, 4, 1, 2, 3, 4, 2, 3, 1, 2, 3, 2, 3, 4, 1, 2, 3, 4, 1, 2, 1, 2, 1, 2, 3, 0, 1, 2, 3, 0, 1, 2, 3, 1, 2, 1, 2, 3, 0, 1, 2, 3, 4, 2, 3, 4, 0, 1, 2, 3, 1, 2, 3, 4, 2, 3, 4, 1, 2, 3, 0, 2, 3, 1, 2, 2, 3, 1, 2, 3, 3, 4, 1, 2, 3, 2, 3, 4, 1, 2, 3, 0, 1, 2, 3, 1, 2, 0, 1, 2, 1, 2, 3, 1, 2, 3, 4, 2, 3, 1, 2, 2, 3, 4, 1, 2, 3, 4, 1, 2, 3, 0, 1, 2, 3, 0, 1, 2, 2, 3, 4, 0, 1, 2, 1, 2, 3, 4, 1, 2, 3, 4, 0, 2, 3, 4, 0, 1, 2, 3, 4, 1, 1, 2, 3, 0, 1, 2, 3, 0, 1, 2, 3, 0, 1, 2, 3, 0, 1, 2, 3, 3, 4, 2, 3, 4, 2, 3, 4, 1, 2, 3, 2, 3, 4, 1, 2, 3, 4, 2, 3, 2, 3, 4, 2, 3, 4, 1, 2, 3, 4, 1, 2, 3, 1, 2, 3, 1, 2, 3, 1, 2, 3, 1, 2, 3, 1, 2, 3, 4, 1, 2, 0, 1, 2, 3, 1, 2, 3, 1, 2, 3, 1, 2, 0, 1, 2, 2, 3, 1, 2, 2, 3, 4, 1, 2, 3, 1, 2, 3, 0, 1, 2, 3, 4, 0, 1, 2, 3, 0, 1, 2, 0, 1, 2, 1, 2, 3, 0, 1, 2, 3, 0, 1, 2, 2, 3, 4, 1, 2, 3, 1, 2, 3, 0, 1, 2, 0, 1, 2, 3, 1, 2, 3, 4, 2, 3, 1, 2, 3, 0, 1, 2, 3, 4, 0, 1, 2, 3, 4, 1, 2, 3, 4, 1, 2, 3, 0, 1, 2, 0, 1, 2, 3, 1, 2, 3, 1, 2, 3, 4, 1, 2, 3, 4, 1, 2, 3, 4, 1, 2, 4, 1, 2, 3, 2, 3, 4, 2, 3, 1, 2, 3, 1, 2, 2, 3, 1, 2, 3, 4, 2, 3, 0, 1, 2, 3, 2, 3, 4, 0, 1, 2, 3, 0, 1, 2, 1, 2, 3, 2, 3, 2, 3, 0, 1, 2, 3, 2, 3, 1, 2, 3, 2, 3, 4, 0, 1, 2, 3, 4, 1, 2, 3, 1, 2, 1, 2, 3, 4, 1, 2, 3, 0, 1, 2, 3, 4, 1, 2, 3, 4, 0, 1, 2, 3, 2, 3, 0, 1, 2, 0, 1, 2, 3, 1, 2, 3, 4, 0, 1, 2, 3, 2, 3, 4, 1, 2, 3, 1, 2, 3, 1, 2, 3, 2, 3, 4, 0, 1, 2, 3, 4, 1, 2, 3, 4, 1, 2, 3, 1, 2, 3, 4, 0, 1, 2, 3, 0, 1, 2, 1, 2, 3, 1, 2, 3, 2, 3, 4, 1, 2, 3, 1, 2, 3, 3, 4, 1, 2, 3, 2, 3, 1, 2, 3, 1, 2, 3, 4, 1, 2, 3, 4, 1, 2, 3, 4, 1, 2, 1, 2, 2, 3, 2, 3, 4, 1, 2, 3, 1, 2, 1, 2, 3, 4, 2, 3, 4, 1, 2, 3, 4, 2, 3, 4, 1, 2, 3, 4, 3, 4, 1, 2, 3, 4, 0, 1, 2, 3, 2, 3, 4, 2, 3, 0, 1, 2, 1, 2, 3, 1, 2, 3, 4, 1, 2, 3, 0, 1, 2, 3, 1, 2, 3, 1, 2, 3, 0, 1, 2, 1, 2, 3, 3, 4, 0, 1, 2, 2, 3, 4, 0, 1, 2, 3, 4, 0, 1, 2, 2, 3, 4, 1, 2, 3, 4, 1, 2, 3, 4, 0, 1, 2, 3, 2, 3, 1, 2, 3, 4, 1, 2, 3, 4, 2, 3, 4, 0, 1, 2, 3, 1, 2, 3, 4, 0, 1, 2, 1, 2, 3, 0, 1, 2, 0, 1, 2, 3, 1, 2, 3, 2, 3, 1, 2, 3, 0, 1, 2, 2, 3, 4, 1, 2, 3, 1, 2, 3, 0, 1, 2, 2, 3, 4, 0, 1, 2, 0, 1, 2, 3, 4, 1, 2, 3, 0, 1, 2, 3, 4, 0, 1, 2, 4, 0, 1, 2, 3, 1, 2, 3, 4, 2, 3, 1, 2, 3, 4, 2, 3, 4, 2, 3, 4, 0, 1, 2, 3, 0, 1, 2, 3, 2, 3, 1, 2, 3, 2, 3, 4, 2, 2, 3, 4, 2, 3, 2, 3, 4, 1, 2, 3, 4, 1, 2, 3, 2, 3, 4, 2, 3, 2, 3, 4, 2, 3, 2, 3, 4, 1, 2, 3, 1, 2, 3, 1, 2, 3, 2, 3, 0, 1, 2, 3, 2, 3, 2, 3, 1, 2, 3, 0, 1, 2, 0, 1, 2, 3, 4, 2, 3, 4, 0, 2, 3, 4, 2, 3, 4, 1, 2, 3, 2, 3, 4, 1, 2, 3, 0, 1, 2, 3, 2, 0, 1, 2, 3, 0, 1, 2, 2, 3, 0, 1, 2, 3, 3, 4, 1, 2, 3, 1, 2, 3, 0, 1, 2, 1, 2, 0, 1, 2, 3, 1, 2, 3, 0, 1, 2, 3, 1, 2, 1, 2, 3, 2, 3, 2, 3, 4, 0, 1, 2, 0, 1, 2, 3, 1, 2, 3, 4, 1, 2, 3, 2, 3, 4, 1, 2, 3, 4, 0, 1, 2, 3, 4, 0, 1, 2, 2, 1, 2, 3, 4, 0, 1, 2, 3, 0, 1, 2, 1, 3, 0, 1, 2, 3, 2, 3, 4, 2, 3, 4, 1, 2, 3, 1, 2, 3, 0, 1, 2, 3, 0, 1, 2, 2, 3, 4, 0, 1, 2, 2, 3, 0, 1, 2, 3, 2, 3, 4, 1, 2, 3, 1, 2, 1, 2, 3, 3, 0, 1, 2, 1, 2, 3, 4, 0, 1, 2, 3, 4, 1, 2, 1, 2, 3, 4, 0, 1, 2, 3, 2, 3, 4, 2, 3, 0, 1, 2, 3, 4, 1, 2, 3, 1, 2, 3, 1, 2, 3, 4, 1, 2, 3, 4, 1, 2, 3, 4, 1, 2, 2, 3, 4, 0, 2, 3, 2, 3, 4, 2, 3, 4, 1, 2, 3, 4, 1, 2, 3, 4, 2, 3, 1, 2, 2, 3, 0, 1, 2, 3, 1, 2, 4, 1, 2, 3, 1, 2, 3, 4, 2, 3, 4, 0, 1, 2, 3, 1, 2, 3, 4, 0, 1, 2, 1, 2, 3, 2, 3, 4, 2, 3, 4, 1, 2, 0, 1, 2, 3, 2, 3, 4, 1, 2, 0, 1, 2, 3, 1, 2, 3, 4, 2, 3, 4, 0, 1, 2, 3, 3, 4, 0, 1, 2, 1, 2, 3, 4, 1, 2, 3, 1, 2, 3, 0, 1, 2, 3, 4, 0, 1, 2, 0, 1, 2, 0, 1, 2, 3, 1, 2, 0, 1, 2, 3, 2, 3, 4, 2, 3, 4, 2, 3, 4, 1, 2, 3, 1, 2, 3, 1, 2, 3, 1, 2, 3, 1, 2, 1, 2, 3, 0, 1, 2, 1, 2, 3, 0, 1, 2, 3, 2, 3, 4, 3, 4, 2, 3, 1, 2, 3, 1, 2, 3, 0, 1, 2, 3, 4, 2, 3, 0, 1, 2, 3, 2, 3, 1, 2, 3, 4, 2, 3, 4, 0, 1, 2, 1, 2, 3, 1, 2, 3, 2, 3, 4, 1, 2, 3, 0, 1, 2, 0, 1, 3, 1, 2, 3, 1, 0, 1, 2, 0, 1, 2, 3, 2, 3, 4, 3, 4, 0, 1, 2, 3, 1, 2, 3, 1, 2, 3, 4, 0, 1, 2, 3, 1, 2, 3, 1, 2, 3, 0, 1, 2, 3, 0, 1, 2, 3, 2, 3, 2, 3, 2, 3, 4, 1, 2, 3, 4, 2, 3, 1, 2, 3, 4, 3, 1, 2, 3, 4, 0, 1, 2, 1, 2, 3, 4, 2, 3, 4, 2, 3, 4, 1, 2, 0, 1, 2, 3, 1, 2, 3, 4, 0, 1, 2, 3, 1, 2, 3, 1, 2, 3, 1, 2, 3, 1, 2, 3, 4, 1, 2, 3, 2, 3, 2, 3, 4, 0, 1, 2, 0, 1, 2, 3, 1, 2, 3, 2, 3, 4, 0, 1, 2, 0, 1, 2, 3, 1, 2, 3, 4, 1, 2, 3, 1, 2, 3, 2, 3, 2, 3, 4, 3, 4, 2, 3, 4, 1, 2, 3, 4, 1, 2, 3, 1, 2, 3, 4, 1, 2, 3, 4, 1, 2, 3, 4, 1, 2, 3, 4, 1, 2, 3, 4, 0, 1, 2, 3, 1, 2, 3, 4, 0, 1, 2, 3, 4, 1, 2, 3, 1, 2, 3, 1, 2, 1, 2, 3, 4, 1, 2, 3, 4, 1, 2, 3, 4, 0, 1, 2, 3, 4, 1, 2, 3, 1, 2, 0, 1, 2, 3, 2, 3, 4, 0, 1, 2, 3, 2, 3, 4, 1, 2, 3, 1, 2, 3, 4, 1, 2, 3, 0, 1, 1, 2, 3, 2, 3, 4, 1, 2, 0, 1, 2, 3, 0, 1, 2, 2, 3, 4, 1, 2, 3, 4, 0, 1, 2, 0, 1, 2, 3, 0, 1, 2, 0, 1, 2, 0, 1, 2, 1, 2, 3, 4, 1, 2, 3, 4, 1, 2, 3, 0, 1, 2, 3, 4, 1, 2, 3, 4, 1, 2, 3, 4, 2, 3, 4, 0, 1, 2, 3, 0, 1, 2, 1, 2, 3, 4, 2, 3, 4, 2, 3, 2, 3, 2, 3, 4, 2, 3, 4, 2, 3, 0, 1, 2, 0, 1, 2, 3, 0, 1, 2, 3, 0, 1, 2, 3, 2, 3, 4, 1, 2, 3, 4, 0, 2, 1, 2, 1, 2, 3, 4, 2, 3, 4, 3, 1, 2, 3, 4, 3, 4, 0, 1, 2, 3, 2, 3, 4, 1, 2, 3, 4, 1, 2, 3, 1, 3, 4, 0, 1, 2, 3, 1, 2, 3, 1, 2, 3, 0, 1, 2, 3, 4, 2, 3, 1, 2, 1, 2, 3, 2, 3, 2, 3, 4, 0, 1, 2, 1, 2, 3, 2, 3, 0, 1, 2, 3, 1, 2, 3, 0, 1, 2, 3, 1, 2, 3, 0, 1, 2, 1, 2, 3, 4, 0, 1, 2, 3, 1, 2, 3, 1, 2, 3, 0, 1, 2, 3, 4, 0, 1, 2, 3, 4, 1, 2, 3, 1, 2, 3, 4, 0, 1, 2, 3, 1, 2, 3, 0, 1, 2, 2, 3, 4, 0, 1, 2, 3, 0, 1, 2, 3, 0, 1, 2, 0, 1, 2, 1, 2, 0, 1, 2, 3, 2, 3, 4, 0, 1, 2, 3, 1, 2, 3, 4, 1, 2, 3, 1, 2, 3, 2, 3, 4, 2, 3, 4, 0, 1, 2, 3, 1, 2, 3, 2, 3, 4, 2, 3, 4, 1, 2, 3, 2, 3, 4, 2, 3, 4, 0, 1, 2, 3, 2, 3, 4, 1, 2, 3, 4, 1, 2, 3, 4, 1, 2, 3, 2, 3, 4, 2, 3, 4, 0, 1, 2, 0, 1, 2, 3, 1, 2, 3, 4, 1, 2, 3, 1, 2, 3, 2, 3, 4, 1, 2, 3, 4, 2, 0, 1, 2, 1, 2, 3, 2, 3, 4, 1, 2, 3, 1, 2, 3, 1, 2, 3, 4, 3, 4, 0, 1, 2, 3, 0, 1, 2, 0, 1, 2, 3, 0, 1, 2, 3, 2, 3, 4, 2, 3, 2, 2, 3, 4, 0, 1, 2, 3, 4, 1, 2, 2, 3, 4, 2, 3, 4, 2, 3, 0, 1, 2, 3, 0, 1, 2, 3, 0, 1, 2, 3, 0, 1, 2, 3, 2, 3, 4, 1, 2, 3, 2, 3, 4, 0, 1, 2, 1, 2, 3, 2, 3, 4, 4, 1, 2, 3, 1, 2, 3, 1, 2, 3, 4, 0, 1, 2, 3, 1, 2, 3, 4, 1, 2, 2, 3, 4, 0, 1, 2, 3, 4, 0, 1, 2, 1, 2, 3, 0, 1, 2, 3, 1, 2, 3, 4, 0, 1, 2, 3, 4, 1, 2, 3, 4, 0, 1, 2, 3, 4, 1, 2, 3, 4, 2, 3, 4, 1, 2, 1, 2, 3, 4, 1, 2, 3, 2, 1, 2, 3, 4, 1, 2, 3, 2, 3, 4, 3, 0, 1, 2, 3, 2, 3, 4, 1, 2, 1, 2, 3, 0, 1, 2, 3, 0, 1, 2, 3, 4, 2, 3, 2, 3, 0, 1, 2, 3, 0, 1, 2, 3, 0, 1, 2, 0, 2, 3, 2, 3, 4, 0, 1, 2, 3, 4, 1, 2, 3, 4, 2, 3, 4, 1, 2, 3, 4, 2, 3, 1, 2, 3, 2, 2, 3, 4, 0, 2, 3, 4, 2, 3, 4, 0, 1, 2, 3, 4, 1, 2, 3, 0, 1, 2, 3, 0, 1, 2, 3, 1, 2, 0, 1, 2, 3, 0, 1, 2, 0, 1, 2, 3, 0, 1, 2, 3, 1, 2, 3, 4, 0, 1, 2, 3, 2, 4, 0, 1, 2, 3, 1, 2, 3, 4, 2, 3, 4, 1, 2, 3, 4, 2, 3, 4, 1, 2, 3, 2, 3, 4, 1, 2, 0, 1, 2, 3, 1, 2, 3, 4, 2, 3, 2, 3, 4, 0, 1, 2, 0, 1, 2, 3, 0, 2, 3, 4, 1, 2, 3, 4, 0, 1, 2, 3, 0, 1, 2, 3, 1, 2, 2, 3, 4, 1, 2, 3, 2, 3, 4, 1, 3, 4, 1, 2, 3, 4, 0, 1, 2, 3, 1, 2, 3, 4, 2, 3, 4, 1, 2, 0, 1, 2, 3, 1, 2, 3, 4, 1, 2, 3, 4, 1, 2, 3, 4, 0, 1, 2, 0, 1, 2, 3, 1, 2, 3, 4, 1, 2, 0, 1, 2, 0, 1, 2, 3, 2, 3, 4, 1, 2, 3, 4, 1, 2, 3, 0, 1, 2, 2, 3, 4, 0, 1, 2, 1, 2, 3, 2, 3, 4, 2, 3, 0, 1, 0, 1, 1, 2, 3, 4, 1, 2, 1, 2, 3, 4, 0, 1, 2, 3, 2, 3, 4, 1, 2, 3, 1, 2, 3, 2, 3, 1, 2, 3, 0, 1, 2, 3, 4, 0, 1, 2, 3, 1, 2, 3, 4, 2, 3, 1, 2, 3, 4, 0, 1, 2, 3, 4, 0, 1, 2, 3, 2, 3, 2, 3, 4, 1, 2, 3, 4, 1, 2, 3, 2, 3, 1, 2, 3, 4, 1, 2, 3, 2, 0, 1, 2, 3, 4, 2, 3, 4, 1, 2, 3, 0, 1, 2, 3, 0, 1, 2, 0, 1, 2, 3, 1, 2, 3, 0, 1, 2, 3, 0, 1, 2, 0, 1, 2, 3, 2, 3, 1, 2, 3, 0, 1, 2, 3, 1, 2, 3, 4, 2, 3, 4, 2, 4, 1, 2, 3, 1, 2, 3, 2, 3, 4, 2, 3, 2, 3, 4, 1, 2, 3, 1, 2, 3, 1, 2, 3, 0, 1, 2, 3, 0, 1, 2, 3, 1, 2, 3, 2, 1, 2, 2, 3, 4, 2, 3, 4, 1, 2, 3, 4, 2, 3, 1, 2, 1, 2, 3, 4, 1, 2, 3, 0, 1, 2, 3, 1, 2, 0, 1, 2, 0, 1, 2, 3, 2, 1, 2, 3, 1, 2, 3, 4, 1, 3, 1, 2, 3, 2, 3, 4, 0, 1, 2, 3, 1, 2, 3, 4, 1, 2, 0, 1, 2, 3, 1, 2, 0, 1, 2, 3, 1, 2, 3, 4, 0, 1, 2, 3, 4, 1, 2, 3, 0, 1, 0, 1, 2, 3, 2, 3, 4, 1, 2, 3, 1, 0, 1, 2, 3, 4, 1, 2, 3, 0, 1, 2, 3, 0, 1, 2, 3, 1, 2, 3, 0, 1, 2, 2, 3, 4, 0, 1, 2, 3, 1, 2, 3, 4, 0, 1, 2, 3, 2, 3, 1, 2, 3, 1, 2, 3, 1, 2, 3, 4, 0, 1, 2, 0, 1, 2, 0, 1, 2, 4, 0, 1, 2, 3, 2, 3, 4, 2, 4, 2, 2, 3, 4, 0, 1, 2, 3, 0, 1, 2, 3, 4, 1, 2, 3, 1, 2, 3, 4, 0, 1, 2, 2, 0, 1, 2, 1, 2, 3, 4, 0, 1, 2, 3, 1, 2, 3, 3, 4, 1, 2, 1, 2, 0, 1, 2, 3, 1, 2, 3, 0, 1, 2, 2, 3, 4, 0, 1, 2, 3, 3, 4, 2, 3, 4, 0, 1, 2, 1, 2, 3, 2, 3, 4, 1, 2, 1, 2, 1, 2, 3, 4, 1, 2, 3, 2, 3, 4, 1, 2, 3, 4, 0, 1, 2, 3, 0, 1, 2, 3, 1, 2, 3, 4, 1, 2, 3, 0, 1, 2, 2, 3, 4, 1, 2, 3, 2, 3, 4, 2, 3, 4, 1, 2, 3, 0, 1, 2, 1, 2, 3, 4, 2, 3, 4, 1, 2, 3, 4, 2, 3, 4, 1, 2, 2, 3, 4, 2, 3, 4, 2, 3, 1, 2, 3, 0, 1, 2, 3, 1, 2, 3, 0, 1, 2, 3, 2, 3, 0, 1, 2, 3, 1, 2, 3, 4, 0, 1, 2, 3, 1, 2, 3, 4, 2, 0, 1, 2, 3, 4, 0, 1, 2, 1, 2, 1, 2, 1, 2, 3, 4, 0, 1, 2, 1, 2, 3, 4, 1, 2, 3, 4, 1, 2, 3, 0, 1, 2, 3, 2, 3, 4, 1, 2, 3, 1, 2, 0, 1, 2, 2, 3, 4, 2, 3, 3, 4, 2, 3, 0, 1, 2, 3, 2, 3, 2, 3, 0, 1, 2, 3, 1, 2, 0, 1, 3, 0, 2, 1, 2, 3, 1, 2, 0, 1, 2, 3, 2, 3, 4, 2, 3, 4, 0, 1, 2, 3, 4, 1, 2, 3, 2, 3, 4, 2, 3, 0, 1, 2, 3, 0, 1, 2, 0, 1, 2, 3, 1, 2, 3, 0, 1, 2, 2, 3, 2, 3, 4, 0, 1, 2, 3, 1, 2, 3, 1, 2, 3, 4, 1, 2, 1, 2, 3, 4, 1, 2, 3, 0, 1, 2, 3, 1, 2, 0, 1, 2, 2, 1, 2, 3, 1, 2, 3, 4, 2, 3, 4, 1, 2, 3, 1, 2, 3, 4, 1, 2, 3, 0, 1, 2, 1, 2, 3, 4, 1, 2, 3, 1, 3, 0, 1, 2, 3, 4, 1, 2, 3, 2, 3, 1, 2, 3, 4, 2, 3, 4, 1, 2, 3, 4, 2, 3, 4, 0, 1, 2, 1, 2, 3, 1, 2, 1, 2, 3, 1, 2, 3, 1, 2, 3, 1, 2, 3, 2, 3, 2, 3, 2, 2, 3, 4, 1, 2, 3, 1, 2, 3, 4, 1, 2, 3, 4, 1, 2, 0, 2, 3, 1, 2, 3, 4, 1, 2, 3, 4, 0, 1, 2, 2, 3, 4, 0, 1, 2, 3, 1, 2, 3, 4, 2, 3, 4, 1, 2, 3, 0, 1, 1, 2, 3, 4, 2, 3, 4, 0, 1, 2, 0, 1, 2, 3, 1, 2, 3, 1, 2, 3, 0, 1, 2, 0, 1, 2, 1, 2, 3, 0, 1, 2, 3, 2, 3, 4, 1, 2, 3, 4, 3, 4, 2, 3, 4, 1, 2, 3, 2, 3, 2, 3, 1, 2, 3, 4, 1, 2, 3, 0, 1, 2, 3, 4, 1, 2, 3, 2, 3, 0, 1, 2, 3, 4, 2, 3, 0, 1, 2, 2, 1, 2, 3, 2, 3, 2, 3, 4, 1, 2, 0, 1, 2, 3, 4, 1, 2, 3, 1, 2, 3, 4, 1, 2, 3, 2, 3, 4, 1, 2, 3, 4, 1, 2, 3, 1, 2, 3, 4, 1, 2, 3, 4, 2, 3, 1, 2, 3, 1, 2, 1, 2, 3, 1, 2, 3, 1, 2, 3, 4, 1, 2, 3, 4, 0, 1, 2, 3, 0, 1, 2, 3, 0, 1, 2, 3, 0, 1, 2, 3, 2, 3, 4, 2, 3, 1, 2, 3, 1, 2, 3, 0, 1, 2, 3, 4, 2, 3, 2, 3, 4, 2, 3, 4, 2, 2, 4, 1, 2, 3, 2, 3, 4, 2, 3, 0, 1, 2, 3, 0, 1, 2, 3, 0, 1, 2, 3, 0, 1, 2, 1, 2, 1, 2, 3, 2, 3, 4, 3, 1, 2, 3, 4, 1, 2, 3, 1, 2, 3, 4, 2, 3, 4, 2, 3, 4, 2, 3, 4, 1, 2, 3, 4, 0, 1, 2, 3, 1, 2, 3, 0, 1, 2, 2, 3, 0, 1, 2, 3, 1, 2, 3, 2, 3, 4, 1, 2, 3, 2, 3, 4, 1, 2, 3, 2, 3, 4, 1, 2, 3, 1, 2, 0, 1, 2, 3, 0, 1, 2, 3, 4, 0, 1, 2, 3, 0, 1, 2, 3, 0, 1, 2, 3, 1, 2, 1, 2, 3, 1, 2, 3, 4, 2, 3, 0, 1, 2, 3, 4, 1, 2, 3, 2, 3, 4, 1, 2, 3, 1, 2, 0, 1, 2, 3, 4, 0, 1, 2, 0, 1, 2, 3, 1, 2, 3, 1, 2, 3, 1, 2, 3, 4, 2, 3, 4, 0, 1, 2, 1, 2, 2, 3, 4, 2, 3, 2, 3, 1, 2, 3, 0, 1, 2, 3, 1, 2, 4, 0, 1, 2, 2, 3, 4, 2, 3, 2, 3, 4, 1, 2, 3, 4, 1, 2, 1, 2, 3, 1, 2, 3, 0, 1, 2, 3, 2, 4, 0, 1, 2, 1, 2, 2, 3, 4, 1, 2, 3, 4, 1, 2, 3, 0, 1, 2, 1, 2, 0, 1, 2, 3, 2, 3, 4, 0, 1, 2, 1, 2, 3, 2, 3, 4, 1, 3, 4, 1, 2, 3, 2, 3, 4, 1, 2, 3, 4, 1, 2, 3, 4, 1, 2, 3, 1, 2, 3, 4, 1, 2, 3, 4, 0, 1, 2, 3, 2, 3, 4, 2, 3, 3, 4, 0, 1, 2, 3, 1, 2, 3, 4, 2, 3, 2, 3, 4, 1, 2, 3, 4, 1, 2, 1, 2, 3, 4, 0, 1, 2, 3, 0, 1, 2, 3, 3, 4, 2, 3, 4, 1, 2, 3, 0, 1, 2, 3, 4, 0, 1, 2, 3, 0, 1, 2, 0, 1, 2, 3, 0, 2, 3, 4, 1, 2, 3, 0, 1, 3, 0, 1, 2, 3, 0, 1, 2, 1, 2, 3, 4, 0, 1, 2, 3, 2, 0, 1, 2, 3, 4, 2, 3, 4, 0, 1, 2, 0, 1, 2, 3, 1, 2, 3, 0, 1, 2, 3, 0, 1, 2, 3, 0, 1, 2, 1, 2, 3, 2, 3, 2, 3, 0, 1, 2, 3, 0, 1, 2, 1, 2, 3, 4, 2, 3, 4, 0, 1, 2, 3, 0, 1, 2, 3, 4, 0, 1, 2, 3, 0, 1, 2, 3, 1, 2, 3, 4, 0, 1, 2, 3, 4, 2, 3, 4, 2, 3, 4, 1, 2, 3, 0, 1, 2, 3, 1, 3, 0, 1, 2, 3, 1, 2, 4, 2, 3, 0, 1, 2, 1, 2, 3, 4, 2, 3, 4, 1, 2, 3, 1, 2, 3, 4, 2, 3, 4, 2, 3, 4, 0, 1, 2, 3, 0, 1, 2, 3, 4, 0, 1, 2, 2, 3, 1, 2, 3, 1, 2, 3, 4, 1, 2, 3, 1, 2, 3, 4, 0, 1, 2, 3, 4, 0, 1, 2, 0, 1, 2, 0, 1, 2, 1, 2, 3, 0, 1, 2, 3, 4, 1, 2, 3, 4, 0, 1, 2, 3, 0, 1, 2, 3, 0, 1, 2, 1, 2, 3, 3, 4, 1, 2, 2, 3, 4, 4, 0, 1, 2, 0, 1, 2, 3, 1, 2, 3, 4, 1, 2, 3, 2, 3, 4, 1, 2, 0, 1, 2, 3, 0, 1, 2, 3, 1, 2, 3, 4, 2, 3, 4, 1, 2, 3, 4, 0, 1, 2, 3, 2, 2, 3, 2, 3, 4, 0, 1, 2, 3, 1, 2, 3, 1, 2, 3, 1, 2, 3, 1, 2, 3, 4, 3, 4, 3, 4, 0, 1, 2, 0, 1, 2, 3, 4, 1, 2, 3, 1, 2, 3, 4, 2, 3, 1, 2, 3, 4, 0, 1, 2, 1, 2, 3, 4, 1, 2, 3, 0, 1, 2, 3, 3, 4, 2, 3, 0, 1, 2, 3, 0, 1, 2, 3, 2, 3, 4, 2, 3, 4, 1, 2, 2, 3, 1, 2, 3, 2, 3, 4, 0, 1, 2, 3, 2, 3, 2, 3, 4, 1, 2, 3, 4, 0, 2, 3, 1, 2, 1, 2, 3, 0, 1, 2, 3, 4, 2, 3, 4, 0, 2, 3, 1, 1, 2, 3, 1, 2, 3, 4, 0, 1, 2, 2, 1, 2, 2, 3, 2, 0, 1, 2, 3, 1, 2, 3, 4, 1, 2, 2, 3, 4, 0, 1, 2, 0, 1, 2, 0, 1, 2, 3, 1, 2, 3, 0, 1, 2, 3, 0, 1, 2, 3, 1, 2, 0, 1, 2, 2, 3, 4, 2, 1, 2, 3, 2, 3, 4, 0, 1, 2, 1, 2, 3, 0, 1, 2, 3, 0, 1, 2, 3, 0, 1, 2, 1, 2, 3, 4, 0, 1, 2, 3, 0, 1, 2, 3, 2, 3, 4, 0, 1, 2, 3, 4, 1, 2, 1, 2, 3, 0, 1, 2, 2, 3, 4, 0, 2, 3, 1, 2, 3, 2, 3, 4, 0, 1, 2, 3, 0, 1, 2, 3, 2, 3, 2, 3, 4, 1, 2, 0, 0, 1, 2, 3, 0, 1, 2, 3, 0, 2, 3, 4, 1, 2, 0, 1, 2, 3, 1, 2, 3, 4, 1, 2, 3, 4, 1, 2, 3, 1, 2, 3, 4, 2, 3, 4, 0, 1, 2, 0, 1, 2, 3, 4, 1, 2, 1, 2, 3, 4, 2, 3, 4, 0, 1, 2, 1, 2, 3, 1, 2, 3, 0, 1, 2, 1, 2, 3, 1, 2, 3, 2, 3, 4, 1, 2, 3, 0, 1, 2, 3, 2, 3, 1, 2, 3, 1, 2, 3, 2, 3, 4, 1, 2, 3, 4, 1, 2, 3, 3, 4, 2, 3, 2, 3, 1, 2, 3, 4, 2, 3, 4, 2, 3, 4, 3, 2, 3, 1, 2, 3, 2, 3, 0, 1, 2, 1, 2, 3, 4, 2, 3, 1, 2, 3, 4, 2, 3, 2, 3, 1, 2, 3, 1, 2, 3, 1, 2, 3, 4, 2, 3, 4, 0, 1, 1, 2, 3, 4, 0, 1, 2, 3, 0, 1, 2, 3, 0, 2, 1, 2, 3, 1, 2, 3, 1, 2, 3, 4, 1, 3, 0, 1, 2, 3, 0, 1, 2, 3, 1, 3, 4, 0, 1, 2, 3, 1, 2, 3, 4, 0, 1, 2, 2, 3, 2, 3, 0, 1, 2, 3, 0, 1, 2, 1, 2, 3, 0, 1, 2, 3, 4, 1, 2, 1, 2, 3, 1, 2, 2, 3, 2, 3, 4, 1, 2, 2, 3, 4, 1, 2, 0, 1, 2, 3, 1, 2, 3, 2, 3, 4, 1, 2, 3, 0, 1, 2, 1, 2, 3, 4, 2, 3, 4, 1, 2, 2, 3, 4, 1, 2, 3, 0, 1, 2, 1, 2, 3, 4, 1, 2, 3, 1, 2, 3, 2, 3, 4, 2, 3, 4, 1, 2, 3, 4, 1, 2, 3, 4, 0, 1, 2, 3, 1, 2, 3, 2, 3, 4, 1, 2, 3, 4, 1, 2, 3, 2, 3, 1, 2, 3, 1, 2, 3, 1, 2, 3, 2, 3, 4, 1, 2, 3, 2, 1, 2, 3, 4, 2, 4, 1, 2, 1, 2, 3, 1, 2, 3, 0, 1, 2, 3, 1, 2, 3, 4, 1, 2, 3, 0, 1, 2, 1, 2, 3, 0, 1, 2, 3, 0, 1, 2, 3, 4, 2, 3, 1, 2, 1, 2, 3, 0, 1, 2, 1, 2, 2, 3, 4, 2, 3, 1, 2, 3, 1, 2, 3, 1, 2, 3, 1, 2, 3, 0, 2, 3, 4, 1, 2, 1, 2, 3, 4, 0, 1, 2, 1, 2, 3, 3, 4, 0, 1, 2, 3, 0, 1, 2, 3, 2, 3, 4, 1, 2, 3, 4, 2, 3, 4, 0, 1, 2, 3, 1, 2, 3, 4, 1, 2, 2, 2, 3, 1, 2, 3, 0, 1, 2, 2, 3, 4, 1, 2, 3, 4, 0, 1, 2, 3, 1, 2, 3, 4, 2, 3, 4, 2, 3, 0, 1, 2, 2, 3, 1, 2, 3, 1, 2, 3, 4, 1, 2, 3, 4, 1, 2, 1, 2, 0, 1, 2, 3, 4, 1, 2, 3, 2, 3, 4, 4, 1, 2, 1, 2, 3, 4, 0, 1, 2, 3, 4, 0, 1, 2, 3, 2, 3, 4, 0, 1, 2, 1, 2, 3, 0, 1, 1, 2, 0, 1, 1, 2, 3, 4, 1, 2, 3, 1, 2, 3, 4, 2, 4, 0, 1, 1, 2, 1, 2, 3, 0, 1, 2, 3, 0, 1, 2, 3, 2, 3, 4, 0, 1, 2, 3, 2, 3, 2, 3, 2, 2, 3, 1, 2, 3, 2, 3, 4, 0, 1, 2, 3, 2, 3, 4, 1, 2, 0, 1, 2, 2, 4, 2, 3, 4, 0, 1, 2, 3, 2, 3, 4, 2, 3, 4, 0, 1, 2, 3, 1, 2, 3, 1, 2, 3, 0, 1, 2, 3, 4, 1, 2, 3, 4, 1, 2, 3, 1, 2, 3, 1, 2, 3, 0, 1, 2, 3, 1, 2, 3, 4, 2, 3, 0, 1, 2, 3, 1, 2, 3, 4, 1, 2, 3, 4, 2, 3, 4, 1, 2, 3, 1, 2, 3, 4, 0, 1, 2, 3, 2, 3, 4, 2, 3, 1, 2, 3, 2, 3, 4, 0, 1, 2, 3, 2, 3, 4, 2, 3, 0, 1, 2, 3, 2, 3, 1, 2, 3, 2, 3, 4, 0, 1, 2, 3, 0, 1, 2, 3, 0, 1, 2, 3, 4, 2, 3, 4, 0, 1, 2, 1, 2, 3, 4, 2, 3, 1, 2, 3, 2, 3, 4, 1, 2, 3, 1, 2, 3, 4, 1, 2, 3, 1, 2, 3, 0, 1, 2, 2, 3, 4, 1, 2, 3, 4, 2, 3, 2, 3, 4, 0, 1, 2, 3, 1, 2, 3, 4, 1, 2, 3, 4, 1, 2, 3, 4, 2, 3, 4, 2, 3, 1, 2, 3, 4, 1, 2, 3, 4, 1, 2, 3, 0, 1, 2, 3, 4, 2, 3, 4, 0, 1, 2, 3, 2, 3, 4, 0, 1, 2, 1, 2, 2, 3, 1, 2, 3, 0, 1, 2, 0, 1, 2, 3, 1, 2, 3, 1, 2, 3, 1, 2, 2, 3, 2, 3, 4, 2, 3, 4, 0, 1, 2, 3, 2, 3, 1, 2, 3, 0, 1, 2, 3, 0, 1, 2, 3, 2, 3, 1, 2, 3, 4, 1, 2, 3, 1, 2, 3, 0, 1, 2, 3, 4, 0, 1, 2, 1, 2, 3, 1, 2, 2, 3, 4, 1, 2, 3, 4, 0, 1, 2, 3, 1, 2, 3, 0, 1, 2, 0, 1, 2, 3, 4, 1, 2, 3, 2, 3, 4, 0, 1, 2, 3, 4, 0, 1, 2, 3, 1, 2, 3, 4, 1, 2, 3, 2, 3, 4, 1, 2, 2, 3, 1, 2, 3, 4, 0, 1, 2, 3, 2, 3, 4, 0, 1, 2, 3, 4, 0, 1, 2, 3, 3, 4, 2, 3, 4, 0, 1, 2, 1, 2, 3, 2, 3, 4, 1, 2, 3, 0, 1, 2, 2, 3, 4, 1, 2, 3, 2, 3, 1, 2, 3, 1, 2, 3, 4, 2, 3, 0, 1, 2, 2, 3, 4, 2, 2, 3, 4, 2, 3, 4, 0, 1, 2, 3, 0, 1, 2, 3, 0, 1, 2, 1, 2, 1, 2, 3, 1, 2, 3, 3, 1, 2, 3, 4, 1, 2, 0, 1, 2, 3, 2, 3, 4, 1, 2, 3, 2, 3, 1, 2, 3, 4, 1, 2, 3, 1, 2, 1, 2, 1, 2, 3, 2, 3, 4, 1, 2, 3, 4, 1, 2, 3, 2, 3, 0, 2, 1, 2, 3, 4, 2, 3, 0, 1, 2, 3, 1, 2, 3, 1, 2, 4, 1, 2, 3, 1, 2, 3, 1, 2, 3, 4, 0, 1, 2, 1, 2, 3, 4, 1, 2, 3, 4, 2, 3, 1, 2, 1, 2, 3, 1, 2, 3, 0, 1, 2, 2, 1, 2, 3, 0, 1, 2, 3, 4, 1, 2, 3, 1, 2, 3, 4, 0, 2, 3, 0, 1, 2, 3, 4, 0, 1, 2, 0, 1, 2, 3, 2, 3, 4, 2, 3, 2, 4, 0, 1, 2, 3, 2, 3, 4, 1, 2, 3, 0, 1, 2, 0, 1, 2, 3, 1, 2, 2, 3, 4, 2, 3, 4, 1, 2, 0, 1, 2, 3, 2, 3, 4, 0, 1, 2, 1, 2, 3, 0, 1, 2, 3, 0, 1, 2, 3, 0, 1, 2, 3, 4, 0, 1, 2, 1, 2, 3, 4, 1, 2, 3, 2, 3, 4, 0, 1, 2, 3, 4, 2, 3, 1, 2, 2, 3, 0, 2, 1, 2, 3, 4, 2, 3, 4, 0, 1, 2, 3, 0, 1, 2, 3, 1, 2, 3, 2, 3, 4, 0, 1, 2, 3, 1, 1, 2, 3, 1, 2, 3, 0, 1, 2, 0, 1, 2, 3, 4, 1, 2, 3, 2, 3, 2, 3, 1, 2, 0, 1, 2, 3, 4, 0, 1, 2, 2, 0, 1, 2, 3, 0, 1, 2, 2, 3, 4, 0, 1, 2, 2, 3, 4, 0, 1, 2, 3, 1, 2, 3, 0, 1, 2, 1, 2, 3, 4, 1, 2, 4, 0, 1, 2, 2, 3, 2, 1, 2, 3, 1, 2, 1, 2, 3, 1, 2, 1, 2, 1, 2, 3, 1, 2, 3, 0, 1, 2, 3, 1, 2, 3, 4, 2, 3, 1, 2, 3, 1, 2, 3, 4, 2, 3, 4, 2, 3, 4, 0, 1, 2, 0, 1, 2, 3, 4, 0, 1, 2, 3, 0, 1, 2, 0, 1, 2, 3, 0, 1, 2, 3, 2, 3, 4, 2, 3, 4, 0, 1, 2, 3, 1, 2, 3, 2, 1, 2, 3, 1, 2, 3, 4, 2, 3, 4, 2, 3, 2, 3, 0, 1, 2, 3, 0, 1, 2, 3, 1, 2, 0, 1, 2, 3, 1, 2, 3, 4, 2, 3, 4, 2, 3, 2, 1, 2, 3, 1, 2, 3, 4, 2, 3, 2, 3, 4, 1, 2, 0, 1, 2, 1, 2, 3, 0, 1, 2, 3, 4, 1, 2, 3, 0, 1, 2, 3, 4, 1, 2, 3, 0, 1, 2, 3, 0, 1, 2, 3, 4, 2, 3, 0, 1, 2, 3, 4, 1, 2, 3, 4, 1, 1, 2, 3, 4, 1, 2, 3, 4, 1, 2, 3, 0, 1, 2, 0, 1, 2, 0, 1, 2, 3, 2, 3, 4, 3, 4, 2, 4, 0, 1, 2, 3, 2, 3, 4, 1, 2, 1, 2, 3, 0, 1, 2, 3, 2, 3, 4, 1, 2, 3, 0, 1, 2, 3, 4, 1, 2, 3, 0, 1, 2, 3, 4, 1, 2, 3, 4, 1, 2, 1, 2, 3, 1, 2, 3, 4, 1, 2, 3, 2, 3, 0, 1, 2, 3, 1, 2, 3, 2, 3, 4, 2, 3, 4, 2, 0, 1, 2, 3, 2, 3, 4, 1, 2, 3, 2, 3, 4, 1, 2, 1, 2, 1, 2, 3, 4, 0, 1, 2, 0, 1, 2, 0, 1, 2, 1, 2, 3, 2, 3, 2, 0, 1, 2, 3, 1, 2, 3, 4, 2, 3, 1, 2, 0, 1, 2, 2, 2, 3, 4, 1, 2, 3, 4, 1, 2, 3, 4, 1, 2, 3, 4, 0, 1, 2, 2, 3, 4, 1, 2, 3, 4, 0, 1, 2, 3, 0, 1, 2, 3, 4, 1, 2, 3, 0, 1, 2, 3, 0, 1, 2, 3, 2, 3, 4, 1, 2, 3, 4, 1, 2, 3, 4, 1, 2, 3, 2, 3, 4, 1, 2, 3, 4, 0, 1, 2, 3, 0, 1, 2, 3, 0, 1, 2, 3, 0, 1, 2, 3, 4, 1, 2, 0, 1, 2, 3, 2, 3, 4, 2, 3, 4, 0, 1, 2, 3, 4, 1, 2, 3, 4, 0, 2, 1, 2, 2, 3, 4, 0, 1, 2, 1, 2, 3, 4, 2, 3, 4, 1, 2, 3, 2, 3, 4, 0, 1, 2, 3, 0, 1, 0, 1, 2, 3, 1, 2, 3, 0, 1, 2, 3, 0, 1, 2, 3, 4, 1, 2, 3, 4, 2, 3, 4, 1, 2, 3, 4, 2, 3, 1, 2, 1, 2, 3, 4, 1, 2, 3, 2, 3, 0, 1, 2, 3, 4, 1, 2, 3, 1, 2, 3, 4, 2, 3, 4, 1, 2, 3, 4, 0, 1, 2, 0, 1, 2, 2, 3, 4, 2, 3, 4, 1, 2, 3, 4, 0, 1, 2, 1, 2, 3, 4, 0, 1, 2, 1, 2, 3, 1, 2, 3, 0, 1, 2, 3, 1, 2, 3, 2, 3, 1, 2, 3, 0, 1, 2, 3, 0, 2, 3, 0, 1, 2, 3, 1, 2, 3, 0, 1, 2, 1, 2, 2, 3, 4, 0, 1, 2, 3, 4, 0, 1, 2, 1, 2, 3, 4, 2, 3, 4, 0, 1, 2, 4, 1, 2, 3, 2, 3, 4, 2, 3, 1, 2, 3, 4, 1, 2, 3, 0, 2, 3, 4, 1, 2, 3, 4, 0, 1, 2, 3, 4, 1, 2, 3, 4, 3, 4, 0, 1, 2, 3, 1, 2, 3, 0, 1, 2, 2, 3, 1, 2, 3, 1, 2, 3, 4, 2, 3, 4, 2, 3, 4, 2, 3, 4, 2, 3, 4, 2, 3, 2, 0, 1, 2, 1, 2, 3, 4, 0, 1, 2, 3, 0, 1, 2, 3, 1, 2, 0, 1, 2, 3, 0, 1, 2, 1, 2, 3, 0, 1, 2, 3, 0, 1, 2, 3, 4, 0, 1, 2, 3, 4, 1, 2, 3, 1, 2, 3, 4, 0, 1, 2, 3, 0, 1, 2, 3, 2, 3, 4, 1, 2, 3, 4, 1, 2, 1, 2, 3, 4, 1, 2, 1, 3, 4, 2, 3, 1, 2, 3, 1, 2, 3, 0, 1, 2, 3, 4, 0, 1, 2, 3, 0, 1, 2, 3, 4, 1, 2, 3, 4, 1, 2, 3, 4, 1, 2, 3, 4, 1, 2, 3, 4, 2, 3, 4, 0, 1, 2, 3, 2, 3, 4, 0, 1, 2, 3, 1, 2, 3, 3, 1, 1, 2, 3, 2, 3, 4, 1, 2, 3, 1, 2, 3, 4, 2, 3, 4, 1, 2, 3, 4, 2, 3, 4, 0, 1, 2, 3, 0, 1, 2, 3, 4, 2, 3, 4, 2, 3, 1, 2, 3, 1, 2, 3, 4, 2, 3, 4, 1, 2, 3, 2, 3, 1, 2, 3, 4, 1, 2, 3, 1, 2, 3, 4, 1, 2, 3, 0, 1, 2, 3, 0, 1, 2, 3, 1, 2, 3, 4, 1, 2, 2, 3, 4, 1, 2, 3, 4, 2, 2, 3, 4, 1, 2, 3, 4, 0, 1, 2, 3, 1, 2, 3, 4, 1, 2, 0, 1, 2, 1, 2, 3, 4, 1, 2, 3, 1, 2, 3, 1, 2, 1, 2, 0, 1, 2, 3, 1, 2, 3, 2, 3, 4, 2, 3, 1, 2, 3, 2, 4, 2, 3, 1, 2, 1, 2, 2, 3, 1, 2, 3, 4, 0, 1, 2, 0, 1, 2, 0, 1, 2, 1, 2, 3, 0, 1, 2, 3, 4, 1, 2, 3, 0, 1, 2, 3, 4, 1, 2, 3, 4, 2, 3, 2, 3, 4, 0, 1, 2, 3, 1, 2, 3, 2, 3, 4, 2, 3, 4, 0, 1, 2, 3, 1, 2, 3, 0, 1, 2, 0, 1, 2, 3, 4, 0, 1, 2, 3, 1, 2, 3, 3, 4, 2, 3, 4, 1, 2, 3, 1, 2, 3, 4, 1, 2, 0, 1, 2, 3, 4, 0, 1, 2, 3, 1, 3, 4, 0, 1, 2, 0, 1, 2, 0, 1, 2, 3, 0, 1, 2, 3, 4, 0, 1, 1, 2, 3, 4, 2, 3, 4, 2, 3, 4, 2, 3, 4, 0, 1, 2, 3, 0, 1, 2, 1, 2, 3, 1, 2, 3, 0, 1, 2, 3, 4, 1, 2, 3, 0, 1, 2, 2, 3, 4, 2, 3, 4, 3, 4, 0, 1, 2, 3, 4, 1, 2, 3, 4, 2, 3, 4, 1, 2, 3, 4, 2, 3, 4, 1, 2, 3, 1, 2, 3, 4, 1, 2, 3, 4, 2, 3, 4, 0, 1, 2, 3, 2, 3, 0, 1, 2, 3, 4, 1, 2, 3, 4, 0, 1, 2, 3, 4, 1, 2, 3, 4, 0, 1, 2, 3, 2, 3, 1, 2, 3, 4, 1, 2, 3, 4, 1, 2, 3, 3, 4, 0, 1, 2, 3, 2, 3, 4, 2, 3, 4, 1, 2, 3, 4, 1, 2, 3, 1, 2, 3, 1, 2, 1, 2, 3, 1, 2, 3, 1, 2, 3, 4, 1, 2, 3, 1, 2, 3, 4, 2, 3, 2, 4, 1, 2, 3, 4, 2, 3, 4, 1, 2, 3, 1, 2, 1, 2, 3, 0, 1, 2, 1, 2, 2, 3, 4, 2, 3, 2, 3, 4, 2, 3, 1, 2, 3, 2, 3, 4, 0, 1, 2, 3, 1, 2, 3, 1, 2, 3, 4, 0, 1, 2, 3, 4, 0, 1, 2, 3, 0, 1, 2, 3, 0, 1, 2, 3, 1, 2, 3, 0, 1, 2, 3, 0, 1, 2, 3, 4, 0, 1, 2, 0, 1, 2, 0, 1, 2, 3, 0, 1, 2, 1, 2, 3, 4, 0, 1, 2, 3, 2, 3, 4, 0, 1, 2, 0, 1, 2, 3, 3, 4, 1, 2, 3, 1, 2, 3, 1, 2, 3, 4, 1, 2, 2, 3, 4, 2, 3, 4, 2, 3, 4, 1, 2, 3, 4, 2, 3, 0, 1, 2, 3, 1, 2, 3, 1, 2, 3, 4, 0, 1, 2, 3, 1, 2, 3, 4, 2, 3, 4, 1, 2, 3, 2, 3, 4, 1, 2, 3, 1, 2, 3, 0, 1, 2, 3, 4, 0, 1, 2, 4, 1, 2, 3, 4, 1, 2, 3, 2, 3, 4, 2, 3, 1, 2, 0, 1, 2, 1, 2, 3, 1, 2, 1, 2, 3, 4, 3, 4, 1, 2, 3, 0, 1, 2, 3, 1, 2, 3, 4, 0, 1, 2, 3, 0, 1, 2, 3, 4, 0, 1, 2, 3, 0, 1, 2, 0, 1, 2, 3, 1, 2, 3, 2, 3, 4, 1, 2, 1, 2, 3, 0, 1, 2, 3, 1, 2, 3, 0, 1, 2, 0, 1, 2, 3, 1, 2, 1, 2, 3, 4, 1, 2, 3, 4, 0, 1, 2, 3, 2, 3, 4, 0, 1, 2, 0, 1, 2, 3, 1, 2, 3, 4, 2, 3, 0, 1, 2, 3, 1, 2, 3, 0, 1, 2, 3, 2, 3, 1, 2, 3, 0, 0, 1, 2, 3, 2, 3, 2, 3, 4, 2, 3, 1, 2, 0, 1, 2, 3, 0, 1, 2, 3, 0, 1, 2, 0, 1, 2, 1, 2, 3, 4, 0, 1, 2, 3, 2, 0, 1, 2, 3, 0, 1, 2, 0, 1, 2, 3, 0, 1, 2, 3, 1, 2, 3, 1, 2, 0, 1, 2, 3, 0, 1, 3, 1, 2, 2, 3, 4, 0, 1, 2, 2, 3, 4, 0, 1, 2, 3, 3, 4, 2, 3, 0, 1, 2, 3, 1, 2, 3, 4, 2, 3, 4, 2, 3, 0, 1, 2, 3, 2, 3, 4, 0, 1, 2, 1, 2, 3, 2, 3, 2, 3, 4, 2, 3, 4, 1, 2, 3, 4, 1, 2, 3, 1, 2, 3, 2, 3, 4, 0, 1, 2, 3, 4, 1, 2, 3, 0, 1, 2, 3, 1, 2, 3, 1, 2, 3, 0, 1, 2, 2, 3, 4, 1, 2, 1, 2, 1, 2, 3, 2, 3, 4, 1, 2, 3, 0, 1, 2, 3, 0, 2, 2, 2, 3, 4, 2, 3, 4, 2, 3, 4, 0, 2, 3, 0, 1, 2, 3, 2, 3, 0, 1, 2, 3, 2, 3, 0, 1, 2, 3, 0, 1, 2, 1, 2, 3, 4, 0, 1, 2, 3, 0, 1, 2, 3, 0, 1, 2, 1, 2, 0, 1, 2, 3, 0, 1, 2, 3, 0, 1, 2, 1, 2, 3, 2, 3, 4, 0, 1, 2, 3, 4, 1, 2, 3, 0, 1, 2, 1, 2, 3, 4, 1, 2, 3, 4, 1, 2, 3, 0, 2, 1, 2, 3, 3, 4, 1, 2, 3, 4, 1, 2, 3, 4, 1, 2, 3, 4, 1, 2, 3, 0, 1, 2, 0, 1, 2, 2, 3, 4, 1, 2, 3, 1, 2, 3, 0, 1, 2, 3, 0, 1, 2, 3, 0, 1, 2, 3, 0, 1, 2, 3, 4, 1, 2, 1, 2, 3, 4, 0, 1, 2, 3, 1, 2, 3, 0, 1, 2, 3, 4, 2, 3, 4, 0, 1, 2, 3, 4, 1, 2, 3, 2, 1, 2, 3, 1, 2, 3, 0, 1, 2, 3, 2, 3, 1, 2, 3, 2, 0, 1, 2, 3, 2, 3, 1, 2, 3, 2, 3, 4, 1, 2, 3, 0, 2, 3, 2, 3, 4, 3, 4, 1, 2, 3, 4, 0, 1, 2, 3, 4, 2, 3, 4, 0, 1, 2, 4, 1, 2, 1, 2, 3, 1, 2, 1, 2, 3, 1, 2, 3, 1, 2, 3, 1, 2, 3, 4, 1, 2, 0, 1, 2, 3, 2, 3, 4, 2, 3, 4, 0, 1, 2, 0, 1, 2, 0, 1, 2, 3, 1, 2, 3, 4, 2, 3, 1, 2, 3, 0, 1, 2, 1, 2, 3, 4, 0, 1, 2, 1, 2, 1, 2, 1, 2, 3, 0, 1, 2, 2, 3, 4, 1, 2, 3, 1, 2, 1, 2, 3, 4, 0, 1, 2, 3, 4, 1, 2, 3, 1, 2, 3, 2, 3, 1, 2, 3, 4, 1, 2, 1, 2, 3, 1, 2, 3, 1, 2, 3, 2, 3, 4, 2, 3, 4, 1, 2, 0, 1, 2, 2, 3, 4, 1, 2, 3, 1, 2, 3, 2, 3, 4, 1, 2, 3, 1, 2, 3, 4, 3, 4, 1, 3, 2, 3, 2, 3, 0, 1, 2, 3, 4, 1, 2, 3, 1, 2, 3, 4, 1, 2, 0, 1, 2, 3, 4, 1, 2, 3, 0, 1, 2, 3, 0, 1, 2, 3, 4, 1, 3, 4, 1, 2, 1, 2, 3, 1, 2, 3, 0, 1, 2, 3, 1, 2, 3, 4, 2, 3, 4, 2, 3, 0, 1, 2, 1, 2, 3, 2, 3, 4, 2, 3, 4, 0, 1, 2, 3, 2, 3, 4, 2, 1, 2, 3, 1, 2, 3, 4, 0, 1, 2, 3, 0, 1, 2, 3, 1, 2, 3, 2, 3, 4, 1, 2, 1, 2, 2, 3, 4, 2, 3, 0, 1, 0, 1, 2, 3, 2, 3, 4, 1, 2, 3, 2, 3, 4, 2, 3, 4, 1, 2, 3, 2, 3, 4, 2, 0, 1, 2, 3, 1, 2, 3, 4, 1, 2, 3, 4, 1, 2, 3, 1, 2, 3, 2, 3, 2, 3, 1, 2, 3, 1, 2, 3, 4, 0, 1, 2, 3, 2, 3, 4, 1, 2, 0, 1, 2, 3, 1, 2, 3, 2, 3, 4, 0, 1, 2, 3, 0, 1, 2, 2, 3, 1, 2, 3, 0, 1, 2, 3, 2, 3, 0, 1, 2, 3, 1, 2, 0, 1, 2, 3, 4, 0, 1, 2, 3, 2, 3, 0, 0, 1, 2, 1, 2, 3, 1, 3, 1, 2, 3, 1, 2, 3, 1, 2, 3, 2, 3, 1, 2, 3, 4, 2, 3, 0, 1, 2, 0, 1, 2, 3, 4, 1, 2, 3, 4, 0, 1, 2, 3, 1, 2, 3, 1, 2, 0, 1, 2, 3, 4, 0, 1, 2, 3, 0, 1, 2, 3, 2, 1, 2, 3, 4, 1, 2, 3, 4, 0, 1, 2, 3, 0, 1, 2, 1, 2, 2, 3, 4, 2, 3, 1, 2, 3, 4, 2, 3, 0, 1, 2, 3, 2, 3, 4, 0, 1, 2, 2, 3, 1, 2, 3, 2, 3, 4, 0, 1, 2, 3, 4, 2, 3, 2, 3, 4, 0, 1, 2, 3, 4, 2, 3, 4, 0, 1, 2, 1, 2, 3, 4, 2, 3, 4, 1, 2, 3, 4, 2, 3, 4, 1, 2, 3, 1, 2, 3, 4, 2, 0, 2, 3, 1, 2, 3, 1, 2, 3, 1, 2, 3, 4, 1, 2, 3, 1, 2, 3, 1, 2, 3, 1, 2, 3, 4, 2, 3, 4, 0, 1, 2, 3, 1, 2, 2, 3, 2, 3, 2, 3, 4, 1, 2, 1, 2, 3, 1, 2, 3, 4, 2, 3, 4, 0, 1, 0, 1, 2, 3, 4, 0, 1, 2, 2, 3, 4, 1, 2, 3, 2, 3, 1, 2, 3, 4, 1, 2, 3, 4, 2, 3, 4, 0, 1, 2, 0, 1, 2, 3, 4, 0, 1, 2, 3, 1, 2, 1, 2, 3, 2, 3, 4, 0, 1, 2, 3, 1, 2, 3, 1, 2, 3, 4, 2, 3, 1, 2, 3, 2, 3, 4, 0, 1, 2, 2, 3, 4, 1, 2, 3, 1, 2, 3, 0, 1, 2, 3, 2, 3, 4, 1, 2, 3, 4, 2, 3, 0, 1, 2, 1, 2, 3, 1, 2, 3, 4, 0, 1, 2, 3, 0, 1, 2, 2, 3, 4, 1, 2, 3, 4, 1, 2, 3, 4, 2, 3, 0, 1, 2, 0, 1, 2, 3, 3, 4, 1, 2, 3, 1, 2, 1, 2, 1, 2, 3, 4, 0, 1, 2, 3, 1, 2, 3, 4, 2, 3, 4, 0, 1, 2, 3, 2, 2, 3, 4, 2, 3, 4, 1, 2, 3, 4, 0, 1, 2, 3, 2, 3, 4, 2, 3, 1, 2, 3, 2, 3, 2, 3, 4, 1, 2, 3, 4, 1, 2, 3, 2, 3, 4, 2, 3, 4, 0, 1, 2, 3, 4, 1, 2, 3, 2, 3, 1, 2, 0, 1, 2, 3, 4, 2, 3, 4, 0, 1, 2, 3, 1, 2, 3, 2, 3, 4, 1, 2, 3, 4, 0, 1, 2, 3, 0, 1, 2, 3, 1, 2, 3, 4, 0, 1, 2, 3, 0, 1, 2, 3, 4, 1, 2, 3, 2, 3, 4, 3, 4, 2, 3, 4, 0, 1, 2, 3, 4, 2, 3, 1, 2, 3, 1, 2, 0, 1, 2, 3, 1, 2, 3, 2, 3, 1, 2, 3, 1, 2, 3, 4, 0, 1, 2, 3, 4, 0, 1, 2, 1, 2, 3, 0, 1, 2, 3, 4, 2, 3, 4, 1, 2, 3, 4, 1, 2, 0, 1, 2, 3, 1, 2, 3, 4, 1, 2, 3, 4, 1, 2, 3, 4, 0, 1, 2, 2, 3, 0, 1, 2, 3, 4, 3, 4, 1, 2, 0, 1, 2, 2, 3, 4, 0, 1, 2, 3, 1, 2, 3, 0, 1, 2, 3, 1, 2, 3, 4, 0, 1, 0, 1, 2, 3, 1, 2, 2, 3, 4, 0, 1, 2, 1, 2, 0, 1, 2, 1, 2, 1, 2, 3, 1, 2, 3, 4, 1, 2, 3, 2, 3, 0, 1, 2, 3, 1, 2, 2, 3, 4, 2, 3, 4, 0, 1, 2, 3, 4, 1, 2, 3, 1, 2, 3, 3, 4, 1, 2, 3, 0, 1, 2, 3, 4, 1, 2, 2, 3, 4, 1, 2, 3, 4, 2, 3, 2, 3, 4, 0, 1, 2, 3, 0, 1, 2, 3, 0, 1, 2, 3, 0, 1, 2, 3, 1, 2, 3, 4, 2, 3, 4, 0, 1, 2, 2, 3, 0, 1, 2, 0, 1, 2, 1, 2, 1, 2, 3, 4, 0, 1, 2, 3, 4, 1, 2, 3, 4, 1, 2, 3, 2, 3, 4, 0, 1, 2, 3, 4, 3, 4, 1, 2, 3, 4, 0, 1, 2, 1, 2, 3, 4, 0, 1, 2, 2, 3, 4, 1, 2, 2, 3, 0, 1, 2, 1, 2, 2, 3, 4, 0, 1, 2, 3, 1, 2, 2, 3, 0, 1, 0, 1, 2, 3, 0, 1, 2, 0, 1, 2, 0, 1, 2, 3, 1, 2, 3, 0, 1, 2, 3, 0, 1, 2, 3, 0, 1, 2, 3, 2, 3, 1, 2, 3, 4, 0, 1, 2, 3, 0, 1, 2, 1, 2, 3, 1, 2, 3, 0, 1, 2, 1, 2, 3, 0, 1, 2, 3, 4, 2, 3, 4, 2, 3, 4, 1, 2, 3, 4, 3, 2, 3, 0, 1, 2, 3, 4, 0, 1, 2, 3, 1, 2, 2, 3, 0, 1, 2, 3, 2, 3, 4, 1, 2, 3, 0, 1, 2, 3, 4, 0, 1, 2, 3, 4, 2, 3, 0, 1, 2, 3, 0, 1, 2, 3, 1, 2, 3, 1, 2, 3, 4, 1, 2, 3, 4, 1, 2, 0, 1, 2, 3, 4, 2, 3, 4, 2, 3, 4, 1, 2, 0, 1, 2, 2, 3, 4, 0, 1, 2, 3, 0, 1, 2, 1, 2, 1, 2, 1, 2, 3, 1, 2, 3, 4, 1, 2, 3, 4, 1, 2, 3, 4, 0, 1, 2, 0, 1, 2, 1, 2, 3, 4, 2, 3, 4, 2, 3, 2, 3, 4, 1, 2, 0, 1, 2, 0, 1, 2, 3, 1, 2, 3, 2, 3, 4, 3, 4, 2, 3, 4, 1, 2, 3, 1, 2, 3, 2, 3, 4, 0, 1, 2, 3, 1, 2, 3, 4, 0, 1, 2, 3, 0, 1, 2, 2, 3, 4, 2, 3, 4, 1, 2, 0, 1, 2, 3, 1, 2, 3, 4, 2, 3, 4, 2, 3, 1, 2, 3, 4, 0, 1, 2, 0, 1, 2, 0, 1, 2, 3, 1, 2, 2, 3, 2, 3, 0, 1, 2, 3, 1, 2, 3, 4, 1, 2, 2, 3, 4, 2, 3, 2, 3, 2, 3, 4, 0, 1, 2, 3, 4, 0, 1, 2, 1, 2, 3, 1, 2, 3, 1, 2, 3, 1, 2, 1, 2, 1, 2, 3, 2, 3, 0, 1, 2, 3, 0, 1, 2, 1, 2, 0, 1, 2, 3, 4, 0, 1, 2, 3, 0, 1, 2, 2, 3, 4, 1, 2, 3, 4, 2, 3, 4, 1, 2, 3, 2, 0, 1, 2, 3, 1, 1, 2, 3, 4, 0, 1, 0, 1, 2, 1, 2, 3, 0, 1, 2, 3, 0, 1, 2, 0, 1, 2, 1, 2, 3, 0, 1, 2, 0, 1, 2, 2, 4, 2, 3, 4, 0, 1, 2, 0, 1, 2, 3, 4, 1, 2, 3, 0, 1, 2, 3, 1, 2, 3, 1, 2, 3, 3, 2, 3, 4, 1, 2, 1, 2, 1, 2, 0, 1, 2, 2, 3, 4, 0, 1, 2, 3, 0, 1, 2, 3, 4, 2, 3, 4, 1, 2, 3, 4, 1, 2, 3, 4, 2, 3, 4, 1, 2, 2, 3, 4, 1, 2, 3, 0, 1, 2, 3, 3, 1, 2, 3, 4, 1, 2, 3, 1, 2, 3, 2, 3, 4, 1, 2, 3, 1, 2, 3, 1, 2, 3, 4, 0, 1, 2, 3, 2, 3, 4, 1, 2, 3, 4, 1, 2, 3, 4, 1, 2, 3, 4, 0, 1, 2, 0, 1, 2, 3, 4, 1, 2, 0, 1, 2, 3, 2, 3, 4, 1, 2, 3, 0, 1, 2, 1, 2, 3, 4, 1, 2, 3, 1, 3, 1, 2, 3, 4, 0, 1, 2, 3, 0, 1, 2, 0, 1, 2, 3, 2, 3, 4, 2, 3, 2, 3, 4, 0, 1, 2, 1, 2, 3, 4, 2, 1, 2, 3, 4, 1, 2, 3, 4, 0, 1, 2, 3, 0, 1, 2, 3, 2, 3, 0, 1, 2, 3, 4, 0, 1, 2, 1, 2, 3, 0, 1, 2, 3, 2, 3, 4, 1, 2, 3, 4, 1, 2, 3, 4, 1, 2, 3, 2, 3, 4, 2, 3, 1, 2, 3, 4, 0, 1, 2, 3, 0, 1, 2, 3, 4, 0, 1, 2, 3, 0, 1, 2, 3, 4, 2, 3, 4, 4, 0, 1, 2, 3, 4, 0, 2, 1, 2, 3, 2, 3, 4, 2, 3, 4, 0, 1, 2, 3, 1, 2, 3, 0, 2, 1, 2, 3, 4, 2, 3, 4, 1, 2, 3, 2, 3, 4, 1, 2, 3, 4, 2, 3, 0, 1, 2, 3, 0, 1, 2, 3, 2, 3, 4, 0, 1, 2, 3, 1, 2, 3, 4, 1, 2, 1, 2, 3, 1, 2, 3, 4, 1, 2, 3, 2, 3, 4, 0, 1, 2, 3, 1, 2, 3, 1, 2, 3, 1, 2, 3, 0, 1, 2, 2, 3, 3, 4, 0, 2, 3, 4, 0, 1, 2, 3, 0, 1, 2, 1, 2, 3, 1, 2, 3, 4, 1, 2, 3, 1, 2, 3, 2, 3, 4, 1, 2, 3, 4, 0, 1, 2, 0, 1, 2, 3, 2, 3, 4, 1, 2, 0, 1, 2, 1, 2, 3, 0, 1, 2, 3, 1, 2, 3, 0, 1, 2, 2, 3, 4, 1, 2, 0, 1, 2, 3, 0, 1, 2, 0, 1, 2, 1, 2, 3, 4, 1, 2, 3, 1, 2, 3, 1, 2, 3, 1, 2, 3, 4, 0, 1, 2, 3, 1, 2, 3, 2, 3, 1, 2, 3, 4, 2, 3, 4, 0, 2, 2, 3, 4, 2, 3, 4, 1, 2, 2, 3, 4, 2, 3, 4, 2, 3, 4, 1, 2, 3, 1, 2, 3, 4, 1, 2, 3, 1, 2, 3, 2, 3, 4, 1, 2, 3, 0, 1, 2, 3, 1, 2, 3, 2, 3, 4, 0, 2, 3, 4, 2, 3, 4, 1, 2, 3, 4, 0, 1, 2, 3, 0, 1, 2, 3, 0, 1, 2, 3, 1, 2, 3, 4, 2, 3, 4, 2, 3, 4, 1, 2, 3, 1, 3, 0, 1, 2, 1, 2, 3, 2, 3, 1, 2, 1, 2, 3, 2, 3, 4, 1, 2, 3, 4, 1, 2, 3, 4, 1, 2, 2, 1, 2, 3, 4, 1, 2, 3, 1, 2, 3, 1, 2, 3, 1, 2, 3, 4, 2, 3, 4, 2, 3, 2, 3, 4, 0, 1, 2, 0, 1, 2, 3, 0, 1, 2, 3, 4, 1, 2, 3, 4, 0, 1, 2, 3, 2, 1, 2, 3, 0, 1, 2, 1, 2, 3, 2, 3, 0, 1, 2, 3, 1, 2, 3, 0, 1, 2, 2, 3, 4, 1, 2, 2, 3, 1, 2, 0, 1, 0, 1, 2, 1, 2, 3, 4, 1, 2, 3, 4, 1, 2, 3, 4, 0, 1, 2, 1, 2, 0, 1, 2, 3, 1, 2, 3, 4, 0, 1, 2, 2, 3, 4, 2, 3, 4, 2, 3, 4, 1, 2, 3, 4, 1, 2, 3, 4, 1, 2, 0, 1, 2, 2, 2, 3, 4, 1, 2, 1, 1, 2, 3, 0, 1, 2, 3, 2, 3, 4, 2, 3, 4, 1, 3, 0, 1, 2, 3, 1, 2, 3, 4, 2, 3, 4, 2, 3, 4, 2, 3, 4, 2, 3, 1, 2, 0, 1, 2, 3, 0, 1, 2, 0, 1, 2, 0, 1, 2, 3, 2, 3, 0, 1, 2, 1, 2, 3, 0, 1, 2, 3, 1, 2, 3, 1, 2, 3, 1, 2, 3, 0, 1, 2, 3, 4, 2, 3, 4, 2, 3, 4, 0, 1, 2, 0, 1, 2, 3, 3, 4, 1, 2, 1, 2, 1, 2, 3, 4, 3, 4, 2, 3, 4, 0, 1, 2, 3, 0, 1, 2, 3, 0, 1, 2, 3, 2, 3, 4, 1, 2, 3, 4, 1, 2, 3, 2, 1, 2, 1, 2, 3, 2, 3, 4, 1, 2, 3, 2, 3, 4, 2, 2, 3, 4, 1, 2, 3, 4, 1, 2, 2, 3, 0, 1, 2, 2, 3, 4, 0, 1, 2, 2, 1, 2, 3, 4, 0, 1, 2, 3, 0, 1, 2, 0, 1, 2, 3, 1, 2, 0, 1, 2, 4, 1, 2, 3, 4, 1, 2, 3, 1, 2, 3, 2, 0, 1, 2, 1, 2, 3, 1, 2, 3, 1, 2, 3, 2, 3, 4, 1, 2, 3, 1, 2, 1, 2, 3, 1, 2, 3, 4, 1, 2, 3, 0, 1, 2, 3, 2, 3, 4, 2, 3, 4, 0, 1, 2, 1, 2, 3, 4, 2, 0, 1, 2, 3, 1, 2, 3, 2, 3, 4, 2, 3, 4, 0, 1, 2, 2, 3, 2, 3, 1, 2, 1, 2, 3, 1, 2, 3, 1, 2, 3, 4, 2, 3, 4, 2, 3, 4, 2, 3, 1, 2, 3, 2, 3, 1, 2, 0, 1, 2, 3, 0, 1, 2, 3, 0, 1, 2, 3, 2, 3, 4, 0, 1, 2, 3, 0, 2, 3, 4, 2, 3, 4, 0, 1, 2, 3, 4, 1, 2, 2, 3, 4, 0, 1, 2, 3, 4, 2, 2, 3, 2, 3, 4, 0, 1, 2, 3, 4, 0, 1, 2, 3, 0, 1, 0, 1, 2, 3, 0, 1, 2, 3, 1, 2, 3, 1, 2, 1, 2, 3, 1, 2, 3, 0, 1, 2, 3, 1, 2, 3, 4, 1, 2, 3, 4, 2, 3, 4, 1, 2, 3, 0, 2, 3, 4, 2, 3, 4, 0, 1, 2, 3, 1, 2, 3, 2, 1, 2, 3, 0, 1, 2, 3, 1, 2, 3, 1, 2, 3, 4, 1, 2, 3, 1, 2, 3, 2, 3, 2, 2, 3, 4, 0, 1, 2, 3, 0, 1, 2, 3, 0, 1, 2, 1, 2, 3, 0, 1, 2, 3, 4, 1, 2, 3, 4, 0, 1, 2, 2, 3, 4, 1, 2, 3, 0, 1, 2, 3, 1, 2, 3, 1, 2, 2, 3, 4, 0, 1, 2, 3, 4, 0, 1, 2, 3, 4, 1, 2, 3, 2, 3, 4, 2, 3, 0, 1, 2, 3, 0, 1, 2, 3, 4, 0, 1, 2, 3, 1, 2, 3, 4, 0, 1, 2, 3, 2, 2, 3, 1, 2, 3, 0, 1, 2, 3, 1, 3, 0, 1, 2, 3, 4, 0, 1, 2, 3, 1, 2, 3, 2, 3, 4, 1, 2, 3, 0, 1, 2, 3, 0, 1, 2, 3, 1, 2, 3, 1, 2, 3, 2, 3, 2, 3, 4, 2, 3, 0, 1, 2, 3, 4, 1, 2, 3, 4, 1, 2, 3, 0, 1, 2, 1, 2, 3, 4, 2, 3, 4, 2, 3, 4, 2, 3, 2, 3, 2, 3, 4, 0, 1, 2, 3, 2, 3, 2, 0, 1, 2, 3, 4, 0, 2, 0, 1, 2, 3, 4, 1, 2, 3, 4, 1, 2, 3, 4, 0, 1, 2, 3, 2, 3, 4, 3, 4, 0, 1, 2, 3, 1, 3, 4, 0, 1, 3, 4, 0, 1, 2, 1, 2, 3, 4, 2, 0, 1, 2, 3, 4, 0, 1, 2, 1, 2, 2, 3, 0, 1, 2, 3, 1, 2, 3, 4, 0, 1, 2, 2, 3, 0, 1, 2, 3, 0, 1, 2, 2, 0, 1, 2, 3, 2, 3, 4, 1, 2, 3, 1, 2, 3, 2, 3, 4, 0, 1, 2, 3, 1, 2, 3, 0, 1, 2, 3, 1, 2, 3, 1, 2, 3, 4, 0, 1, 2, 1, 2, 3, 4, 0, 1, 2, 3, 2, 3, 4, 1, 2, 3, 1, 2, 3, 2, 3, 3, 4, 2, 3, 0, 1, 4, 2, 3, 4, 0, 1, 2, 3, 1, 2, 3, 4, 1, 2, 3, 4, 2, 3, 4, 1, 2, 0, 1, 2, 3, 0, 1, 2, 3, 1, 2, 3, 4, 2, 3, 4, 1, 2, 1, 2, 3, 4, 1, 2, 3, 4, 1, 3, 0, 1, 2, 3, 4, 0, 1, 2, 3, 4, 0, 1, 2, 0, 1, 2, 1, 2, 3, 2, 3, 2, 3, 1, 2, 3, 4, 0, 1, 2, 3, 4, 1, 2, 3, 0, 1, 2, 2, 3, 4, 1, 2, 3, 1, 2, 3, 2, 3, 0, 1, 2, 3, 2, 3, 4, 2, 3, 0, 1, 2, 2, 3, 4, 1, 2, 1, 2, 3, 4, 0, 1, 2, 3, 2, 3, 0, 1, 2, 3, 2, 3, 3, 4, 1, 2, 3, 1, 2, 3, 2, 3, 4, 2, 3, 0, 1, 2, 3, 1, 2, 1, 2, 3, 4, 2, 3, 4, 1, 2, 3, 1, 2, 3, 4, 1, 2, 3, 2, 3, 4, 0, 1, 2, 3, 1, 2, 3, 4, 0, 1, 2, 3, 4, 1, 2, 3, 2, 3, 2, 3, 4, 2, 3, 0, 1, 2, 0, 1, 2, 0, 1, 2, 3, 2, 3, 1, 2, 3, 4, 0, 1, 2, 3, 1, 2, 3, 4, 2, 3, 4, 2, 3, 2, 2, 3, 4, 0, 1, 2, 3, 1, 2, 3, 4, 1, 2, 1, 2, 3, 4, 2, 3, 4, 2, 3, 1, 2, 1, 2, 1, 2, 3, 4, 0, 1, 2, 2, 3, 0, 1, 2, 2, 3, 1, 2, 3, 4, 4, 1, 2, 3, 0, 1, 2, 0, 1, 2, 1, 2, 0, 1, 2, 1, 2, 3, 1, 2, 3, 4, 2, 3, 4, 1, 2, 3, 1, 2, 3, 3, 4, 0, 1, 2, 3, 4, 1, 2, 3, 4, 1, 2, 3, 3, 4, 0, 1, 2, 2, 4, 1, 2, 3, 1, 2, 3, 4, 2, 3, 4, 1, 2, 3, 4, 1, 2, 3, 0, 1, 2, 3, 0, 1, 2, 2, 3, 4, 1, 2, 3, 2, 3, 4, 0, 1, 2, 3, 2, 3, 4, 1, 0, 1, 2, 0, 1, 2, 3, 2, 3, 4, 2, 0, 1, 2, 3, 2, 3, 4, 0, 1, 2, 3, 1, 2, 3, 1, 2, 3, 0, 1, 2, 1, 2, 1, 2, 3, 1, 2, 3, 4, 2, 3, 0, 1, 2, 3, 0, 1, 2, 3, 4, 1, 2, 2, 3, 4, 2, 3, 2, 1, 2, 1, 2, 1, 2, 3, 4, 2, 3, 4, 0, 1, 2, 3, 1, 2, 3, 4, 2, 3, 2, 3, 4, 2, 3, 4, 2, 3, 0, 1, 2, 3, 2, 3, 2, 3, 2, 3, 4, 1, 2, 3, 1, 2, 1, 2, 3, 1, 2, 3, 1, 2, 3, 4, 0, 1, 0, 1, 2, 2, 3, 4, 1, 2, 3, 4, 2, 3, 4, 2, 1, 2, 3, 4, 0, 1, 2, 0, 1, 2, 3, 4, 0, 1, 2, 3, 4, 1, 2, 3, 4, 1, 2, 3, 0, 1, 2, 0, 1, 2, 2, 3, 1, 2, 3, 4, 1, 2, 3, 0, 2, 1, 2, 3, 1, 2, 3, 0, 1, 2, 3, 2, 3, 4, 1, 1, 2, 3, 1, 2, 3, 2, 3, 0, 1, 2, 1, 2, 3, 0, 1, 2, 1, 2, 3, 2, 3, 4, 2, 3, 4, 1, 2, 3, 2, 3, 4, 1, 2, 3, 4, 0, 1, 2, 3, 0, 1, 2, 3, 2, 3, 2, 3, 4, 1, 2, 2, 3, 0, 1, 2, 3, 4, 2, 3, 4, 0, 1, 2, 3, 4, 3, 4, 1, 2, 3, 1, 2, 3, 4, 0, 1, 2, 3, 1, 2, 1, 2, 3, 2, 3, 4, 2, 3, 4, 1, 2, 3, 2, 3, 2, 3, 4, 2, 3, 4, 0, 1, 2, 3, 4, 1, 2, 3, 1, 2, 3, 1, 2, 3, 4, 2, 1, 2, 3, 1, 2, 4, 0, 1, 2, 3, 4, 1, 2, 3, 4, 1, 2, 3, 0, 1, 2, 3, 1, 2, 3, 2, 3, 4, 2, 3, 4, 0, 1, 2, 0, 1, 2, 3, 0, 1, 2, 3, 0, 2, 3, 1, 2, 2, 3, 4, 1, 2, 3, 4, 0, 1, 2, 3, 1, 2, 3, 4, 0, 1, 2, 3, 4, 2, 3, 4, 0, 1, 2, 2, 3, 4, 0, 1, 1, 2, 3, 4, 2, 3, 1, 2, 3, 0, 1, 2, 3, 1, 2, 3, 1, 2, 3, 1, 2, 3, 1, 2, 3, 4, 0, 1, 2, 3, 0, 1, 2, 0, 1, 2, 3, 0, 1, 2, 1, 2, 1, 2, 0, 1, 2, 0, 1, 2, 2, 2, 3, 1, 2, 3, 4, 1, 2, 3, 1, 2, 2, 3, 1, 2, 3, 4, 0, 1, 2, 0, 1, 2, 3, 4, 1, 2, 3, 1, 2, 3, 2, 3, 1, 2, 3, 4, 0, 1, 2, 3, 2, 3, 4, 0, 1, 2, 3, 2, 3, 4, 2, 4, 1, 2, 3, 0, 1, 2, 1, 2, 3, 1, 2, 3, 0, 1, 2, 1, 2, 3, 1, 2, 3, 1, 2, 3, 0, 1, 2, 2, 0, 1, 2, 3, 0, 1, 2, 1, 2, 3, 3, 4, 2, 3, 1, 2, 3, 0, 1, 2, 3, 2, 3, 1, 2, 3, 4, 1, 2, 3, 1, 2, 1, 2, 3, 3, 4, 1, 2, 3, 1, 2, 3, 4, 2, 3, 4, 0, 1, 2, 3, 1, 2, 3, 1, 2, 3, 0, 1, 2, 3, 1, 2, 3, 0, 1, 2, 3, 1, 2, 3, 0, 1, 2, 3, 4, 1, 2, 3, 4, 2, 3, 4, 1, 2, 3, 2, 3, 4, 0, 1, 2, 1, 2, 3, 0, 1, 2, 3, 4, 0, 1, 2, 3, 1, 2, 1, 2, 1, 2, 3, 4, 0, 1, 2, 2, 3, 1, 2, 3, 4, 0, 1, 2, 3, 4, 2, 3, 4, 0, 1, 2, 1, 2, 2, 3, 4, 2, 3, 0, 1, 2, 3, 1, 2, 3, 4, 2, 3, 4, 1, 2, 1, 2, 3, 0, 1, 2, 3, 2, 3, 4, 0, 1, 2, 3, 4, 1, 2, 1, 2, 3, 1, 2, 3, 4, 0, 1, 2, 3, 1, 2, 3, 1, 2, 3, 2, 3, 4, 2, 3, 1, 2, 3, 2, 3, 0, 1, 2, 0, 1, 2, 3, 1, 2, 3, 2, 3, 4, 1, 2, 3, 2, 3, 4, 0, 1, 2, 1, 2, 3, 1, 2, 3, 2, 3, 4, 1, 2, 1, 2, 3, 1, 2, 3, 1, 2, 3, 4, 2, 3, 4, 1, 2, 3, 1, 2, 3, 4, 1, 2, 3, 4, 0, 1, 2, 0, 1, 2, 3, 2, 3, 4, 2, 3, 4, 2, 3, 4, 1, 2, 0, 1, 2, 3, 1, 2, 3, 2, 3, 0, 1, 2, 2, 3, 4, 0, 1, 2, 3, 0, 1, 2, 3, 4, 2, 3, 0, 1, 2, 3, 4, 0, 1, 2, 1, 2, 3, 4, 1, 2, 3, 2, 3, 0, 1, 2, 3, 1, 2, 3, 2, 3, 4, 2, 3, 4, 1, 2, 0, 1, 2, 3, 4, 1, 2, 3, 4, 2, 3, 0, 1, 2, 3, 0, 1, 2, 3, 3, 4, 1, 2, 3, 4, 2, 3, 4, 2, 3, 2, 3, 4, 2, 3, 1, 2, 3, 4, 0, 1, 4, 1, 2, 3, 1, 2, 3, 4, 2, 3, 4, 0, 2, 3, 1, 2, 1, 2, 3, 2, 3, 4, 1, 2, 3, 4, 0, 1, 2, 3, 2, 1, 2, 1, 2, 3, 1, 2, 3, 2, 3, 4, 0, 1, 2, 1, 2, 1, 2, 3, 0, 1, 2, 3, 0, 1, 2, 0, 1, 2, 2, 3, 1, 2, 3, 4, 2, 3, 4, 1, 2, 1, 2, 3, 1, 3, 4, 1, 2, 3, 4, 1, 2, 3, 2, 3, 3, 4, 0, 1, 2, 3, 4, 2, 3, 4, 1, 2, 3, 0, 1, 2, 0, 1, 2, 3, 1, 2, 3, 2, 3, 4, 2, 3, 4, 0, 1, 2, 3, 0, 1, 2, 1, 2, 3, 2, 1, 2, 3, 0, 1, 2, 0, 1, 2, 2, 3, 4, 1, 2, 3, 0, 1, 2, 3, 0, 1, 2, 3, 0, 1, 2, 3, 0, 1, 2, 3, 1, 2, 1, 2, 3, 2, 3, 0, 1, 2, 1, 2, 1, 2, 3, 1, 2, 3, 4, 1, 2, 3, 2, 3, 4, 2, 0, 1, 2, 0, 1, 2, 0, 1, 2, 3, 4, 1, 2, 3, 1, 2, 3, 0, 1, 2, 3, 1, 2, 3, 4, 1, 2, 3, 3, 4, 1, 2, 3, 4, 0, 1, 2, 3, 2, 2, 3, 4, 2, 3, 4, 2, 3, 4, 1, 2, 1, 2, 3, 0, 1, 2, 2, 3, 4, 0, 1, 2, 3, 0, 1, 2, 2, 3, 4, 1, 2, 3, 2, 3, 3, 4, 1, 2, 3, 4, 2, 2, 3, 4, 0, 1, 2, 2, 3, 0, 1, 1, 2, 3, 0, 1, 2, 3, 1, 2, 3, 4, 1, 2, 1, 2, 1, 2, 3, 4, 1, 2, 3, 1, 2, 3, 4, 0, 1, 2, 3, 4, 2, 3, 0, 1, 2, 3, 4, 0, 1, 2, 3, 2, 3, 4, 0, 1, 2, 3, 0, 1, 2, 1, 2, 3, 0, 1, 2, 1, 2, 2, 3, 1, 2, 3, 0, 1, 2, 3, 4, 2, 3, 4, 1, 2, 3, 4, 2, 3, 4, 2, 3, 4, 0, 1, 2, 3, 0, 1, 2, 0, 1, 2, 0, 1, 2, 0, 1, 2, 3, 0, 1, 0, 1, 2, 3, 2, 3, 4, 0, 1, 2, 3, 0, 1, 2, 3, 2, 3, 2, 3, 4, 0, 1, 2, 1, 2, 3, 0, 1, 2, 0, 1, 2, 3, 4, 0, 1, 2, 3, 0, 1, 2, 3, 0, 1, 2, 3, 0, 1, 2, 3, 1, 2, 3, 0, 1, 2, 3, 4, 1, 2, 3, 4, 0, 1, 2, 3, 0, 1, 0, 1, 2, 3, 3, 4, 0, 1, 2, 3, 0, 1, 2, 3, 0, 1, 2, 3, 2, 3, 0, 1, 2, 3, 4, 1, 2, 3, 4, 0, 1, 2, 3, 1, 2, 3, 1, 2, 3, 0, 1, 2, 3, 0, 1, 2, 3, 1, 2, 2, 3, 1, 2, 3, 0, 1, 2, 3, 2, 3, 4, 1, 2, 3, 0, 1, 3, 4, 2, 3, 4, 2, 3, 1, 2, 3, 1, 2, 3, 0, 1, 2, 3, 0, 1, 2, 3, 4, 2, 3, 1, 2, 3, 2, 3, 2, 3, 2, 3, 2, 3, 4, 1, 1, 2, 3, 3, 4, 0, 1, 2, 3, 1, 2, 3, 0, 1, 2, 3, 0, 1, 2, 2, 3, 4, 2, 3, 4, 2, 3, 4, 0, 2, 3, 1, 2, 1, 2, 3, 4, 2, 3, 4, 1, 2, 3, 0, 1, 2, 3, 1, 2, 3, 2, 3, 4, 0, 2, 1, 2, 3, 4, 0, 1, 2, 4, 2, 3, 4, 2, 3, 4, 1, 2, 3, 4, 1, 2, 1, 2, 3, 4, 0, 2, 1, 2, 3, 4, 1, 2, 3, 1, 2, 3, 1, 2, 3, 2, 3, 4, 1, 2, 3, 4, 2, 3, 1, 2, 3, 1, 2, 3, 2, 3, 4, 0, 1, 2, 3, 0, 1, 2, 3, 4, 2, 3, 4, 0, 1, 4, 0, 1, 2, 3, 0, 1, 2, 3, 1, 2, 3, 4, 0, 1, 2, 1, 2, 2, 3, 4, 2, 3, 4, 1, 2, 3, 4, 0, 1, 2, 3, 1, 2, 0, 1, 2, 1, 2, 3, 1, 2, 2, 1, 2, 3, 4, 2, 3, 0, 1, 2, 3, 1, 2, 1, 2, 3, 1, 2, 3, 1, 2, 3, 2, 3, 0, 1, 2, 3, 2, 3, 0, 1, 2, 3, 0, 1, 2, 3, 2, 3, 0, 1, 2, 3, 1, 2, 3, 0, 1, 2, 3, 0, 1, 2, 0, 1, 2, 3, 3, 4, 0, 1, 2, 3, 1, 2, 1, 2, 3, 4, 2, 3, 3, 4, 0, 1, 2, 3, 4, 1, 2, 3, 4, 1, 2, 0, 1, 2, 3, 1, 2, 3, 0, 1, 2, 3, 4, 1, 2, 3, 0, 1, 1, 2, 3, 4, 1, 2, 2, 2, 3, 4, 1, 2, 3, 1, 2, 3, 1, 2, 3, 0, 1, 2, 0, 1, 2, 3, 2, 3, 4, 0, 1, 2, 1, 2, 3, 1, 2, 3, 4, 1, 2, 3, 2, 3, 4, 1, 2, 3, 2, 3, 4, 3, 4, 2, 3, 4, 1, 2, 3, 0, 1, 2, 3, 2, 1, 2, 3, 4, 0, 1, 2, 1, 2, 1, 2, 3, 4, 1, 2, 3, 2, 3, 2, 3, 4, 0, 1, 2, 2, 3, 4, 1, 2, 3, 1, 2, 3, 2, 1, 2, 3, 4, 1, 2, 3, 0, 1, 2, 3, 2, 3, 4, 1, 2, 3, 0, 1, 2, 3, 1, 2, 0, 1, 2, 0, 1, 2, 3, 2, 3, 4, 0, 1, 2, 3, 1, 2, 3, 2, 3, 4, 1, 2, 3, 1, 2, 3, 4, 0, 1, 2, 0, 1, 2, 3, 0, 1, 2, 3, 2, 3, 1, 2, 3, 4, 0, 1, 2, 3, 2, 4, 1, 2, 3, 4, 1, 2, 3, 3, 0, 1, 2, 3, 0, 1, 2, 3, 2, 3, 4, 3, 1, 2, 3, 1, 2, 3, 0, 1, 2, 3, 2, 3, 2, 3, 0, 1, 2, 0, 1, 2, 3, 2, 3, 2, 3, 4, 1, 2, 3, 0, 1, 1, 2, 0, 2, 3, 1, 2, 3, 1, 2, 3, 4, 1, 2, 3, 0, 1, 2, 2, 3, 1, 2, 1, 2, 3, 1, 2, 3, 0, 1, 2, 0, 1, 2, 3, 2, 3, 0, 1, 2, 3, 4, 0, 1, 2, 2, 3, 4, 0, 1, 2, 3, 0, 1, 2, 3, 4, 1, 2, 3, 4, 1, 2, 3, 4, 1, 2, 3, 4, 2, 3, 4, 3, 4, 0, 1, 2, 2, 3, 3, 4, 0, 1, 2, 3, 2, 3, 4, 1, 2, 1, 2, 3, 1, 2, 0, 1, 2, 3, 1, 2, 3, 4, 2, 3, 1, 2, 3, 4, 1, 2, 1, 2, 3, 2, 3, 2, 3, 4, 0, 1, 2, 3, 1, 2, 3, 4, 0, 1, 2, 3, 1, 2, 0, 1, 2, 3, 0, 1, 2, 3, 0, 1, 2, 1, 2, 3, 2, 3, 0, 1, 2, 3, 2, 3, 4, 2, 0, 1, 2, 3, 2, 3, 4, 1, 2, 3, 1, 2, 3, 0, 1, 2, 3, 1, 2, 3, 0, 1, 2, 3, 3, 4, 1, 2, 3, 4, 1, 2, 3, 1, 2, 3, 2, 3, 1, 2, 3, 4, 1, 2, 3, 2, 3, 4, 2, 3, 4, 2, 3, 4, 0, 1, 2, 2, 3, 3, 0, 1, 2, 3, 1, 2, 3, 4, 3, 4, 0, 1, 2, 2, 4, 1, 2, 3, 1, 2, 2, 3, 1, 2, 3, 0, 1, 2, 3, 4, 1, 2, 3, 4, 2, 3, 2, 3, 1, 2, 3, 4, 1, 2, 3, 0, 1, 2, 3, 4, 1, 2, 3, 1, 2, 1, 2, 3, 4, 2, 3, 4, 1, 2, 3, 4, 1, 2, 1, 2, 3, 4, 0, 1, 2, 0, 1, 2, 3, 2, 3, 4, 1, 2, 0, 1, 2, 1, 2, 3, 2, 3, 2, 3, 4, 0, 1, 2, 2, 3, 4, 1, 2, 3, 4, 0, 1, 2, 1, 2, 3, 0, 1, 2, 3, 1, 2, 3, 0, 1, 2, 3, 4, 1, 2, 3, 4, 1, 2, 3, 4, 0, 1, 2, 3, 4, 2, 3, 4, 0, 1, 2, 3, 0, 1, 2, 1, 2, 3, 0, 1, 2, 3, 4, 1, 2, 2, 3, 4, 3, 4, 1, 2, 3, 4, 2, 3, 4, 1, 2, 3, 2, 3, 4, 2, 3, 1, 2, 3, 4, 1, 2, 2, 3, 4, 1, 1, 2, 3, 0, 1, 2, 3, 0, 1, 3, 4, 1, 2, 0, 1, 2, 0, 1, 1, 2, 3, 3, 4, 1, 2, 3, 1, 2, 2, 0, 1, 2, 3, 1, 2, 3, 0, 1, 2, 3, 1, 2, 3, 3, 4, 0, 1, 2, 1, 2, 3, 4, 0, 1, 2, 3, 0, 1, 2, 1, 2, 3, 4, 1, 2, 3, 1, 2, 3, 1, 2, 3, 1, 2, 3, 2, 3, 4, 2, 3, 1, 1, 2, 2, 3, 4, 0, 1, 2, 3, 4, 2, 3, 1, 2, 3, 1, 2, 3, 0, 1, 2, 3, 3, 4, 1, 0, 2, 3, 0, 1, 2, 3, 0, 1, 2, 3, 1, 2, 0, 1, 2, 3, 0, 1, 2, 0, 1, 2, 3, 2, 3, 4, 1, 2, 3, 1, 2, 3, 1, 2, 3, 2, 3, 4, 0, 1, 2, 3, 4, 2, 3, 2, 3, 0, 1, 2, 3, 4, 1, 2, 3, 2, 3, 2, 1, 3, 4, 1, 2, 3, 2, 3, 0, 1, 2, 3, 4, 1, 2, 3, 4, 2, 2, 3, 2, 3, 1, 2, 1, 2, 3, 4, 1, 2, 3, 4, 2, 1, 2, 3, 2, 3, 4, 1, 2, 3, 4, 0, 1, 2, 3, 0, 1, 0, 1, 2, 1, 2, 3, 1, 2, 3, 3, 4, 1, 2, 3, 0, 1, 2, 0, 1, 2, 3, 1, 2, 3, 0, 1, 2, 3, 0, 1, 2, 3, 0, 1, 2, 3, 1, 2, 1, 2, 3, 4, 1, 2, 3, 0, 1, 2, 3, 0, 1, 2, 1, 2, 3, 1, 2, 3, 2, 3, 4, 1, 2, 3, 0, 1, 2, 3, 0, 1, 2, 1, 2, 3, 2, 3, 1, 2, 1, 2, 3, 4, 1, 2, 0, 1, 2, 2, 3, 1, 2, 3, 4, 0, 1, 2, 3, 1, 2, 3, 4, 2, 3, 1, 2, 3, 2, 0, 1, 2, 3, 4, 3, 1, 2, 3, 4, 0, 1, 2, 3, 0, 1, 2, 3, 1, 2, 0, 1, 2, 1, 2, 3, 0, 1, 2, 3, 4, 1, 2, 3, 4, 2, 3, 4, 2, 3, 2, 3, 4, 2, 3, 0, 1, 2, 3, 4, 0, 1, 2, 0, 1, 2, 0, 1, 2, 3, 3, 4, 0, 1, 2, 3, 0, 1, 2, 3, 2, 3, 2, 3, 4, 2, 3, 4, 2, 0, 1, 2, 3, 0, 1, 2, 3, 2, 3, 2, 3, 4, 2, 3, 2, 3, 4, 1, 2, 3, 2, 3, 4, 1, 2, 3, 4, 2, 3, 4, 1, 2, 3, 0, 1, 2, 3, 0, 1, 2, 3, 4, 2, 3, 4, 0, 1, 2, 3, 2, 3, 4, 2, 3, 1, 2, 3, 0, 1, 2, 0, 1, 2, 3, 1, 2, 3, 2, 3, 4, 2, 3, 4, 1, 2, 3, 2, 3, 4, 2, 3, 4, 2, 3, 2, 3, 4, 1, 2, 0, 1, 2, 1, 2, 3, 4, 2, 3, 4, 0, 1, 2, 3, 2, 3, 0, 1, 2, 3, 4, 1, 2, 3, 4, 1, 2, 3, 2, 3, 4, 1, 2, 3, 4, 0, 1, 2, 3, 1, 2, 3, 1, 2, 3, 4, 0, 1, 2, 3, 4, 0, 1, 2, 1, 2, 3, 2, 3, 4, 0, 1, 2, 3, 4, 1, 2, 3, 0, 1, 2, 3, 2, 3, 4, 1, 2, 3, 4, 0, 1, 2, 3, 4, 1, 2, 3, 1, 2, 3, 1, 2, 3, 0, 1, 2, 1, 3, 4, 0, 1, 2, 3, 4, 1, 2, 3, 4, 0, 1, 2, 3, 1, 2, 3, 1, 2, 3, 2, 3, 2, 3, 4, 0, 1, 2, 3, 2, 3, 1, 4, 1, 2, 3, 2, 3, 1, 2, 3, 2, 3, 4, 2, 3, 4, 2, 3, 1, 2, 3, 1, 2, 3, 0, 1, 2, 2, 3, 4, 0, 1, 2, 3, 2, 3, 0, 1, 2, 0, 1, 2, 3, 1, 2, 3, 1, 2, 2, 3, 0, 1, 2, 1, 2, 3, 4, 1, 2, 2, 1, 2, 3, 2, 3, 4, 3, 4, 1, 2, 3, 1, 2, 3, 2, 3, 4, 0, 1, 2, 3, 2, 3, 4, 2, 3, 4, 1, 2, 3, 4, 2, 3, 4, 2, 3, 0, 2, 3, 4, 2, 3, 4, 0, 1, 2, 3, 0, 1, 2, 0, 1, 2, 3, 1, 2, 3, 0, 1, 2, 3, 3, 4, 2, 3, 4, 0, 1, 1, 2, 3, 1, 2, 2, 3, 0, 1, 2, 3, 2, 3, 2, 3, 1, 2, 3, 2, 3, 4, 1, 2, 3, 4, 1, 2, 3, 0, 1, 2, 3, 0, 1, 2, 1, 2, 2, 4, 2, 3, 4, 0, 1, 2, 3, 1, 2, 3, 2, 3, 2, 3, 0, 1, 2, 3, 4, 0, 1, 2, 1, 2, 3, 1, 2, 3, 4, 0, 1, 2, 3, 1, 2, 3, 4, 1, 2, 3, 2, 3, 2, 3, 4, 0, 1, 2, 3, 2, 3, 4, 1, 2, 3, 4, 0, 1, 2, 3, 1, 2, 3, 2, 3, 4, 1, 2, 3, 4, 2, 3, 4, 1, 2, 3, 0, 1, 2, 3, 0, 1, 2, 3, 4, 2, 2, 3, 0, 1, 2, 3, 1, 2, 3, 4, 1, 2, 3, 4, 1, 2, 3, 1, 2, 3, 0, 1, 2, 3, 1, 2, 3, 0, 1, 2, 0, 1, 2, 3, 3, 4, 2, 3, 0, 1, 2, 3, 1, 2, 3, 1, 2, 3, 4, 1, 2, 3, 1, 2, 3, 0, 1, 2, 3, 2, 3, 4, 0, 1, 2, 3, 0, 1, 2, 3, 1, 2, 3, 4, 2, 3, 1, 2, 3, 4, 0, 1, 2, 3, 1, 2, 2, 3, 1, 2, 3, 4, 1, 2, 3, 4, 1, 2, 3, 1, 2, 3, 4, 0, 1, 0, 1, 2, 0, 1, 2, 3, 1, 2, 3, 4, 2, 3, 0, 1, 2, 0, 1, 2, 0, 1, 2, 3, 2, 3, 4, 1, 2, 1, 2, 3, 4, 1, 2, 3, 2, 3, 1, 2, 3, 4, 0, 1, 2, 3, 0, 1, 2, 3, 1, 2, 3, 0, 1, 2, 3, 1, 2, 3, 4, 0, 1, 2, 1, 2, 3, 4, 2, 3, 0, 1, 2, 2, 3, 2, 3, 1, 2, 3, 0, 1, 2, 3, 1, 2, 3, 0, 1, 2, 3, 4, 0, 1, 2, 3, 2, 3, 4, 1, 2, 3, 4, 0, 1, 2, 2, 3, 0, 1, 2, 3, 1, 2, 2, 3, 0, 1, 2, 3, 1, 2, 2, 3, 4, 0, 1, 2, 3, 1, 2, 3, 2, 3, 4, 0, 1, 2, 2, 3, 4, 1, 2, 3, 4, 2, 3, 4, 0, 1, 2, 1, 2, 3, 1, 2, 3, 1, 2, 3, 0, 1, 2, 2, 3, 2, 3, 4, 0, 1, 2, 3, 4, 2, 3, 4, 2, 3, 2, 3, 4, 0, 1, 2, 0, 1, 2, 3, 2, 3, 4, 2, 3, 4, 2, 3, 4, 0, 1, 2, 3, 4, 0, 1, 2, 3, 2, 3, 4, 2, 3, 4, 2, 3, 4, 2, 3, 2, 3, 4, 1, 2, 3, 4, 0, 1, 2, 3, 1, 2, 3, 2, 3, 2, 3, 4, 2, 3, 4, 1, 2, 4, 1, 2, 3, 2, 3, 4, 0, 1, 2, 3, 4, 0, 1, 2, 3, 4, 2, 3, 4, 3, 4, 2, 3, 4, 4, 1, 2, 3, 0, 1, 1, 2, 3, 4, 0, 1, 2, 3, 4, 2, 3, 0, 1, 2, 1, 2, 2, 3, 4, 1, 2, 3, 4, 2, 3, 4, 2, 3, 4, 0, 1, 2, 3, 2, 3, 4, 1, 2, 3, 2, 3, 4, 0, 1, 2, 3, 4, 2, 3, 2, 0, 1, 2, 1, 2, 3, 4, 0, 1, 2, 1, 2, 3, 4, 0, 1, 2, 0, 1, 2, 1, 2, 3, 4, 0, 1, 2, 0, 1, 2, 1, 2, 4, 1, 1, 2, 3, 4, 1, 2, 2, 3, 4, 1, 2, 3, 2, 3, 4, 1, 2, 3, 4, 1, 2, 3, 2, 0, 1, 2, 3, 1, 2, 3, 1, 2, 0, 1, 2, 2, 3, 4, 0, 1, 2, 3, 2, 3, 4, 0, 1, 2, 3, 1, 2, 1, 2, 3, 0, 1, 2, 3, 0, 1, 2, 1, 2, 2, 3, 4, 1, 2, 3, 4, 2, 3, 4, 1, 2, 3, 4, 0, 1, 2, 3, 4, 0, 1, 2, 3, 4, 2, 3, 4, 1, 2, 3, 4, 1, 2, 3, 4, 2, 0, 1, 2, 2, 4, 0, 1, 2, 3, 0, 1, 2, 1, 2, 3, 1, 2, 0, 1, 2, 3, 2, 3, 4, 2, 3, 4, 1, 2, 3, 2, 3, 4, 0, 1, 2, 2, 3, 4, 0, 1, 2, 3, 1, 2, 1, 2, 3, 0, 1, 0, 1, 2, 3, 1, 2, 3, 4, 1, 2, 3, 0, 1, 2, 3, 0, 1, 2, 3, 4, 1, 2, 1, 2, 3, 1, 2, 3, 4, 1, 2, 3, 4, 0, 1, 2, 3, 0, 1, 2, 3, 2, 3, 0, 1, 2, 1, 2, 1, 2, 3, 1, 2, 1, 2, 1, 2, 3, 2, 3, 1, 2, 1, 2, 3, 0, 1, 2, 3, 1, 2, 3, 1, 2, 3, 0, 1, 1, 2, 0, 1, 2, 0, 1, 2, 4, 2, 3, 4, 0, 1, 2, 3, 2, 3, 1, 2, 3, 4, 1, 2, 3, 2, 3, 4, 1, 2, 1, 2, 3, 1, 2, 3, 4, 1, 2, 0, 1, 2, 1, 2, 3, 4, 0, 1, 2, 1, 2, 3, 0, 1, 2, 0, 0, 1, 2, 3, 1, 2, 3, 1, 2, 3, 1, 2, 3, 4, 2, 3, 0, 1, 2, 1, 2, 3, 4, 0, 1, 2, 1, 2, 3, 0, 1, 2, 3, 1, 2, 3, 4, 0, 1, 2, 3, 1, 2, 3, 0, 1, 2, 3, 0, 1, 2, 3, 1, 2, 3, 2, 3, 4, 1, 2, 3, 1, 2, 3, 4, 1, 2, 3, 0, 1, 2, 3, 1, 2, 3, 4, 0, 1, 2, 1, 2, 3, 1, 2, 3, 4, 1, 2, 3, 4, 0, 1, 2, 1, 2, 3, 0, 1, 2, 2, 3, 4, 0, 1, 2, 1, 2, 3, 2, 4, 0, 1, 2, 3, 2, 3, 4, 1, 2, 3, 4, 0, 1, 2, 0, 1, 2, 3, 0, 1, 2, 1, 2, 3, 1, 2, 3, 2, 3, 4, 1, 2, 2, 4, 0, 1, 2, 3, 1, 2, 3, 4, 2, 3, 4, 1, 2, 3, 1, 2, 1, 2, 3, 4, 2, 3, 2, 3, 4, 0, 1, 2, 1, 2, 2, 3, 4, 4, 1, 2, 3, 0, 1, 2, 1, 2, 0, 1, 2, 0, 1, 2, 3, 1, 2, 3, 0, 1, 2, 3, 4, 0, 1, 2, 3, 0, 1, 2, 3, 2, 3, 4, 0, 1, 2, 2, 3, 4, 0, 1, 2, 3, 4, 1, 2, 3, 4, 2, 3, 4, 0, 1, 2, 1, 2, 3, 1, 2, 0, 1, 2, 0, 1, 2, 2, 3, 4, 0, 1, 2, 4, 0, 1, 2, 3, 1, 2, 4, 0, 1, 2, 3, 3, 4, 0, 1, 2, 3, 2, 3, 4, 2, 3, 0, 1, 2, 3, 2, 3, 1, 2, 1, 2, 3, 4, 1, 2, 3, 4, 1, 2, 3, 2, 3, 4, 1, 2, 3, 2, 3, 4, 1, 2, 1, 2, 3, 4, 0, 1, 2, 2, 3, 4, 1, 2, 3, 0, 1, 2, 3, 0, 1, 2, 2, 3, 4, 2, 3, 1, 2, 1, 2, 1, 2, 3, 4, 1, 2, 3, 3, 4, 1, 2, 0, 1, 2, 1, 2, 3, 1, 2, 3, 1, 2, 3, 2, 3, 4, 0, 1, 2, 1, 2, 2, 3, 4, 0, 1, 2, 3, 1, 2, 3, 4, 0, 1, 2, 3, 0, 1, 2, 3, 3, 4, 2, 3, 4, 1, 2, 3, 1, 2, 0, 1, 1, 2, 3, 1, 2, 3, 0, 1, 2, 3, 4, 1, 2, 1, 2, 3, 1, 2, 3, 1, 2, 1, 2, 3, 4, 0, 1, 2, 1, 2, 3, 4, 0, 1, 2, 3, 0, 1, 2, 2, 3, 4, 1, 2, 3, 2, 3, 1, 2, 0, 1, 2, 3, 2, 3, 4, 2, 3, 4, 0, 1, 2, 3, 1, 2, 3, 4, 2, 3, 4, 0, 1, 2, 3, 1, 2, 3, 2, 3, 4, 2, 3, 4, 1, 2, 3, 1, 2, 3, 4, 2, 3, 4, 0, 1, 2, 3, 1, 2, 3, 0, 1, 2, 0, 1, 2, 3, 0, 1, 2, 1, 2, 3, 3, 4, 0, 1, 2, 3, 4, 1, 2, 1, 2, 3, 0, 1, 2, 1, 2, 0, 1, 2, 3, 1, 2, 3, 1, 2, 3, 4, 1, 2, 1, 2, 3, 2, 3, 0, 1, 2, 2, 3, 4, 2, 3, 1, 2, 0, 1, 2, 2, 3, 4, 0, 1, 2, 3, 1, 2, 3, 0, 1, 2, 3, 1, 2, 3, 0, 1, 2, 3, 0, 1, 2, 3, 1, 2, 3, 1, 2, 3, 2, 3, 1, 2, 3, 2, 0, 1, 2, 3, 4, 1, 2, 3, 1, 2, 3, 4, 0, 1, 2, 0, 1, 2, 3, 1, 2, 1, 2, 3, 2, 3, 4, 1, 2, 1, 2, 3, 0, 1, 2, 2, 0, 1, 2, 1, 2, 3, 4, 2, 3, 4, 0, 1, 2, 3, 1, 2, 3, 4, 1, 2, 3, 1, 2, 3, 4, 1, 2, 3, 2, 3, 4, 1, 2, 3, 0, 0, 1, 2, 3, 4, 2, 3, 1, 2, 3, 0, 1, 2, 2, 3, 4, 1, 2, 1, 2, 2, 3, 4, 2, 3, 4, 0, 1, 2, 0, 1, 3, 1, 2, 3, 2, 3, 2, 3, 4, 0, 1, 2, 3, 1, 2, 3, 2, 3, 0, 2, 3, 4, 1, 2, 3, 4, 2, 3, 1, 2, 1, 2, 3, 4, 1, 2, 0, 1, 2, 3, 2, 3, 2, 3, 4, 0, 1, 2, 3, 2, 3, 4, 0, 1, 2, 3, 1, 2, 2, 1, 2, 2, 3, 0, 1, 2, 3, 1, 2, 3, 1, 2, 3, 4, 2, 3, 4, 0, 1, 2, 3, 0, 1, 2, 3, 4, 1, 2, 3, 4, 2, 3, 0, 1, 2, 3, 1, 2, 0, 1, 2, 3, 1, 2, 3, 0, 1, 2, 3, 3, 4, 1, 2, 1, 2, 3, 1, 2, 3, 1, 2, 3, 4, 2, 3, 1, 2, 1, 2, 2, 3, 4, 1, 2, 3, 1, 2, 3, 1, 2, 0, 1, 2, 3, 2, 3, 4, 1, 2, 3, 4, 1, 2, 1, 2, 3, 2, 3, 4, 1, 2, 3, 4, 1, 2, 0, 1, 2, 2, 3, 4, 1, 2, 3, 2, 3, 4, 1, 2, 3, 4, 0, 1, 2, 3, 1, 2, 3, 2, 3, 4, 0, 1, 2, 3, 1, 2, 3, 2, 3, 0, 1, 2, 0, 1, 2, 3, 1, 2, 2, 3, 4, 1, 2, 2, 3, 1, 2, 3, 1, 2, 3, 1, 2, 3, 4, 2, 3, 1, 2, 1, 2, 3, 1, 2, 3, 0, 1, 2, 2, 3, 4, 1, 2, 3, 0, 1, 2, 0, 1, 2, 3, 0, 1, 2, 3, 1, 2, 3, 2, 3, 1, 2, 3, 2, 3, 4, 2, 3, 4, 0, 1, 2, 3, 1, 2, 3, 4, 2, 3, 4, 0, 1, 2, 1, 2, 3, 4, 1, 2, 3, 2, 3, 0, 1, 2, 3, 4, 2, 3, 4, 0, 1, 2, 3, 0, 1, 2, 3, 0, 1, 2, 0, 1, 2, 1, 2, 3, 2, 3, 1, 2, 1, 2, 3, 3, 4, 2, 3, 4, 0, 1, 2, 1, 2, 3, 4, 0, 1, 2, 2, 3, 0, 1, 2, 2, 3, 4, 1, 2, 3, 4, 0, 1, 2, 3, 1, 2, 0, 1, 2, 3, 4, 0, 1, 2, 3, 1, 2, 3, 2, 3, 4, 0, 1, 2, 0, 1, 0, 1, 2, 3, 2, 3, 4, 1, 2, 3, 2, 3, 4, 4, 2, 3, 4, 1, 2, 3, 4, 3, 1, 2, 3, 4, 2, 3, 4, 1, 2, 3, 1, 2, 3, 4, 0, 1, 2, 3, 1, 2, 3, 4, 2, 2, 3, 0, 1, 2, 0, 1, 2, 2, 3, 4, 1, 2, 3, 2, 3, 4, 1, 2, 3, 1, 2, 3, 4, 0, 1, 2, 0, 1, 2, 3, 4, 1, 2, 3, 1, 2, 2, 3, 4, 1, 2, 3, 4, 0, 1, 2, 3, 0, 1, 2, 3, 2, 3, 2, 3, 0, 1, 2, 3, 1, 2, 3, 4, 3, 4, 2, 3, 4, 2, 3, 4, 2, 3, 4, 2, 3, 0, 1, 1, 2, 3, 0, 1, 2, 0, 1, 2, 3, 2, 3, 1, 2, 3, 4, 0, 1, 2, 2, 3, 0, 1, 2, 2, 3, 4, 0, 1, 2, 1, 2, 3, 0, 1, 2, 3, 2, 3, 1, 2, 3, 0, 1, 2, 3, 0, 1, 2, 2, 3, 4, 1, 2, 3, 4, 2, 3, 2, 3, 4, 1, 2, 3, 1, 2, 3, 2, 3, 4, 1, 2, 3, 0, 1, 2, 3, 2, 3, 4, 2, 3, 0, 1, 2, 3, 2, 3, 4, 2, 3, 3, 4, 2, 3, 4, 2, 3, 1, 2, 3, 4, 1, 2, 3, 4, 0, 1, 2, 3, 2, 3, 0, 1, 2, 3, 1, 2, 3, 4, 2, 3, 1, 2, 3, 2, 3, 4, 0, 1, 2, 0, 1, 2, 3, 4, 1, 2, 3, 2, 3, 4, 1, 2, 3, 4, 1, 2, 3, 4, 1, 2, 3, 4, 2, 3, 2, 3, 4, 1, 2, 3, 1, 2, 3, 4, 2, 4, 0, 1, 2, 0, 1, 2, 2, 3, 4, 2, 3, 4, 2, 3, 4, 2, 3, 4, 2, 3, 1, 2, 3, 0, 2, 3, 2, 3, 4, 0, 2, 0, 1, 2, 3, 1, 2, 3, 1, 2, 3, 4, 0, 1, 2, 2, 2, 3, 4, 0, 1, 2, 3, 1, 2, 3, 4, 0, 1, 2, 3, 0, 1, 2, 3, 4, 1, 2, 3, 0, 1, 2, 2, 3, 1, 2, 3, 2, 3, 4, 0, 2, 0, 1, 2, 3, 1, 2, 3, 2, 3, 4, 2, 3, 4, 2, 3, 4, 1, 2, 0, 1, 2, 3, 4, 0, 1, 2, 1, 2, 3, 0, 1, 2, 3, 1, 2, 4, 2, 3, 4, 1, 2, 3, 1, 2, 2, 3, 4, 2, 3, 4, 1, 2, 3, 4, 0, 1, 2, 3, 4, 0, 1, 2, 0, 1, 2, 3, 2, 3, 4, 2, 3, 4, 2, 3, 4, 1, 2, 3, 4, 2, 3, 4, 2, 3, 4, 1, 2, 3, 2, 3, 0, 1, 2, 3, 0, 1, 2, 3, 0, 1, 2, 3, 4, 0, 1, 2, 1, 2, 3, 3, 1, 2, 3, 2, 3, 4, 0, 1, 2, 3, 4, 1, 2, 3, 1, 2, 3, 1, 2, 3, 0, 1, 2, 3, 2, 2, 2, 3, 4, 2, 3, 4, 2, 3, 4, 1, 2, 3, 4, 4, 0, 1, 2, 3, 4, 0, 1, 2, 1, 2, 3, 4, 0, 1, 2, 3, 4, 0, 1, 2, 3, 0, 1, 2, 3, 1, 2, 1, 2, 3, 4, 2, 3, 4, 1, 2, 3, 1, 2, 3, 1, 2, 1, 2, 3, 4, 2, 3, 4, 0, 1, 2, 1, 2, 3, 4, 1, 2, 3, 4, 1, 2, 3, 4, 1, 2, 3, 0, 1, 2, 3, 4, 1, 2, 3, 4, 1, 2, 3, 3, 4, 1, 0, 1, 2, 3, 1, 2, 3, 4, 1, 2, 3, 0, 1, 2, 3, 1, 2, 3, 1, 2, 3, 4, 2, 3, 4, 0, 1, 2, 3, 4, 2, 1, 2, 3, 2, 3, 2, 3, 4, 2, 3, 1, 2, 3, 0, 1, 2, 3, 1, 2, 2, 3, 4, 1, 2, 3, 2, 3, 4, 0, 1, 2, 3, 1, 2, 3, 4, 2, 3, 0, 1, 2, 3, 1, 2, 3, 2, 3, 4, 0, 1, 2, 1, 2, 2, 3, 0, 1, 2, 3, 4, 1, 2, 3, 4, 1, 2, 3, 1, 2, 3, 4, 0, 1, 2, 3, 4, 0, 1, 2, 3, 4, 2, 3, 4, 0, 1, 2, 2, 3, 4, 2, 3, 4, 2, 3, 0, 1, 2, 2, 3, 1, 2, 3, 2, 3, 0, 1, 2, 3, 0, 1, 2, 0, 1, 2, 0, 1, 2, 3, 0, 1, 2, 1, 2, 3, 1, 2, 3, 4, 0, 1, 2, 3, 4, 0, 1, 2, 3, 1, 2, 3, 1, 2, 3, 0, 1, 2, 3, 4, 0, 1, 2, 3, 4, 0, 1, 2, 1, 2, 3, 4, 1, 2, 3, 0, 1, 2, 1, 2, 1, 2, 3, 0, 1, 2, 3, 0, 1, 2, 3, 3, 4, 2, 3, 4, 2, 3, 4, 2, 3, 4, 0, 1, 2, 3, 1, 2, 3, 4, 2, 3, 4, 1, 2, 3, 1, 2, 3, 2, 3, 1, 2, 3, 4, 2, 3, 4, 1, 2, 2, 3, 0, 1, 2, 1, 2, 1, 2, 3, 2, 3, 4, 1, 2, 3, 4, 2, 3, 4, 0, 1, 2, 3, 0, 1, 2, 3, 2, 3, 4, 0, 1, 2, 3, 1, 2, 3, 4, 0, 1, 2, 3, 1, 2, 3, 1, 2, 3, 4, 2, 3, 2, 3, 4, 1, 2, 0, 1, 2, 3, 4, 2, 3, 4, 0, 1, 2, 1, 2, 3, 4, 2, 3, 4, 0, 1, 2, 3, 0, 1, 2, 2, 3, 1, 2, 3, 4, 0, 1, 2, 3, 1, 2, 0, 1, 2, 1, 2, 3, 1, 2, 3, 1, 2, 3, 2, 3, 4, 1, 2, 2, 3, 4, 1, 2, 3, 4, 1, 2, 3, 0, 1, 1, 1, 2, 3, 4, 3, 4, 2, 3, 4, 2, 3, 4, 0, 1, 2, 2, 3, 4, 0, 1, 2, 3, 1, 2, 3, 4, 1, 2, 3, 4, 0, 1, 2, 3, 0, 1, 2, 2, 3, 2, 3, 0, 1, 2, 3, 1, 2, 3, 1, 2, 3, 4, 0, 1, 0, 1, 2, 3, 1, 2, 3, 4, 2, 3, 0, 1, 2, 3, 0, 1, 2, 3, 0, 1, 2, 2, 3, 4, 2, 3, 1, 2, 3, 2, 3, 4, 2, 3, 2, 3, 4, 1, 2, 3, 1, 2, 3, 2, 3, 4, 0, 1, 2, 3, 2, 3, 4, 2, 3, 1, 2, 3, 1, 2, 3, 0, 1, 0, 1, 2, 1, 2, 2, 3, 2, 3, 4, 1, 2, 0, 1, 2, 3, 0, 1, 2, 3, 1, 2, 3, 4, 1, 2, 3, 2, 3, 4, 1, 2, 3, 4, 1, 2, 3, 4, 0, 1, 2, 3, 1, 2, 3, 0, 1, 2, 1, 2, 3, 0, 1, 2, 3, 0, 1, 2, 2, 0, 1, 2, 3, 0, 1, 2, 3, 0, 1, 2, 1, 2, 0, 1, 2, 2, 0, 1, 2, 3, 2, 3, 4, 1, 2, 3, 4, 1, 2, 3, 2, 3, 4, 2, 3, 4, 0, 1, 2, 2, 3, 4, 0, 1, 2, 3, 1, 2, 2, 3, 4, 2, 3, 4, 0, 1, 2, 1, 2, 3, 4, 1, 2, 2, 3, 4, 2, 2, 3, 4, 1, 2, 3, 4, 1, 1, 2, 3, 4, 1, 2, 3, 2, 3, 4, 0, 1, 2, 3, 4, 1, 2, 3, 2, 3, 1, 2, 3, 1, 2, 3, 2, 3, 0, 1, 2, 3, 1, 2, 3, 2, 3, 2, 3, 1, 2, 3, 4, 0, 1, 2, 3, 4, 2, 2, 3, 4, 1, 2, 3, 1, 2, 3, 3, 2, 3, 4, 0, 1, 2, 3, 0, 1, 2, 3, 1, 2, 3, 0, 1, 2, 3, 4, 1, 2, 3, 4, 0, 1, 2, 3, 4, 1, 2, 3, 4, 2, 3, 1, 2, 3, 2, 3, 2, 3, 4, 1, 2, 3, 4, 1, 2, 3, 1, 2, 0, 1, 2, 1, 2, 0, 1, 2, 3, 1, 2, 3, 2, 0, 1, 2, 0, 1, 2, 3, 1, 2, 3, 3, 4, 1, 2, 1, 2, 3, 1, 2, 3, 2, 3, 4, 1, 2, 3, 4, 1, 2, 2, 4, 2, 3, 4, 2, 3, 0, 1, 2, 1, 2, 3, 1, 2, 3, 4, 3, 2, 3, 4, 1, 2, 3, 4, 3, 4, 1, 2, 3, 1, 2, 3, 4, 0, 1, 2, 3, 1, 2, 3, 4, 0, 1, 2, 3, 4, 1, 2, 3, 0, 1, 2, 0, 1, 1, 2, 0, 1, 2, 2, 3, 4, 1, 2, 3, 0, 1, 2, 2, 3, 2, 3, 1, 2, 0, 1, 2, 3, 4, 1, 2, 3, 0, 1, 2, 3, 0, 1, 2, 3, 4, 2, 1, 2, 3, 4, 1, 2, 3, 0, 1, 2, 3, 1, 2, 3, 4, 1, 2, 3, 1, 2, 3, 2, 3, 0, 1, 2, 3, 4, 1, 2, 1, 2, 3, 1, 2, 3, 0, 1, 2, 3, 4, 2, 3, 4, 1, 2, 3, 1, 2, 1, 2, 3, 4, 2, 3, 4, 2, 0, 1, 2, 3, 1, 2, 3, 1, 2, 3, 2, 3, 2, 3, 4, 1, 2, 3, 2, 3, 4, 1, 2, 3, 4, 1, 2, 0, 1, 3, 0, 1, 2, 3, 0, 1, 2, 0, 1, 2, 3, 4, 0, 1, 2, 3, 2, 3, 4, 0, 1, 2, 1, 2, 3, 1, 2, 3, 1, 2, 1, 2, 3, 4, 0, 1, 2, 2, 3, 2, 3, 4, 1, 2, 3, 4, 0, 2, 3, 4, 1, 2, 3, 1, 2, 3, 4, 2, 3, 1, 2, 3, 2, 3, 4, 0, 1, 2, 1, 2, 2, 1, 2, 3, 0, 1, 2, 3, 1, 2, 1, 2, 3, 2, 3, 0, 1, 2, 3, 1, 2, 3, 1, 2, 3, 2, 3, 4, 2, 3, 4, 0, 1, 2, 3, 4, 2, 3, 4, 2, 3, 4, 1, 2, 3, 1, 2, 3, 0, 1, 2, 3, 4, 0, 1, 2, 2, 1, 2, 3, 2, 3, 4, 1, 2, 3, 4, 0, 1, 2, 3, 4, 0, 1, 2, 3, 2, 1, 2, 0, 1, 2, 1, 2, 2, 3, 4, 0, 1, 2, 3, 1, 2, 3, 0, 1, 2, 1, 2, 0, 1, 2, 1, 2, 2, 2, 3, 4, 0, 1, 2, 3, 3, 1, 2, 3, 2, 3, 1, 2, 3, 1, 2, 3, 4, 0, 1, 2, 3, 1, 2, 3, 4, 1, 2, 3, 2, 1, 2, 3, 0, 2, 3, 0, 1, 2, 1, 2, 3, 4, 0, 1, 2, 1, 2, 3, 3, 4, 2, 3, 2, 3, 4, 2, 3, 1, 2, 3, 4, 1, 2, 3, 0, 1, 2, 3, 0, 1, 2, 3, 1, 2, 3, 4, 0, 1, 2, 1, 2, 3, 1, 2, 3, 1, 2, 3, 4, 1, 2, 3, 4, 1, 2, 3, 4, 0, 1, 2, 0, 1, 2, 3, 0, 1, 2, 3, 1, 1, 2, 3, 2, 3, 4, 0, 1, 2, 3, 1, 2, 1, 2, 3, 4, 0, 1, 2, 3, 4, 1, 2, 3, 0, 4, 1, 2, 3, 4, 1, 2, 0, 1, 2, 3, 3, 4, 0, 1, 2, 3, 4, 0, 1, 2, 2, 3, 4, 1, 2, 3, 1, 2, 3, 1, 2, 2, 3, 4, 1, 2, 3, 1, 2, 2, 3, 2, 3, 4, 0, 1, 2, 1, 2, 1, 2, 3, 4, 1, 2, 3, 1, 2, 3, 4, 0, 1, 2, 3, 2, 4, 1, 2, 3, 0, 1, 2, 3, 4, 1, 2, 2, 3, 4, 0, 1, 2, 3, 2, 3, 4, 0, 1, 2, 0, 1, 2, 3, 0, 1, 2, 3, 4, 1, 2, 3, 1, 2, 3, 4, 1, 2, 3, 2, 4, 0, 1, 2, 3, 4, 0, 1, 2, 3, 2, 3, 4, 1, 2, 3, 4, 1, 2, 0, 1, 2, 2, 3, 4, 2, 3, 4, 1, 2, 3, 1, 2, 3, 4, 0, 1, 2, 3, 0, 1, 2, 2, 3, 4, 2, 3, 4, 1, 2, 3, 4, 1, 2, 3, 0, 1, 2, 3, 1, 2, 3, 4, 2, 3, 1, 2, 3, 4, 1, 2, 3, 4, 0, 1, 2, 1, 2, 3, 1, 2, 3, 0, 1, 2, 3, 2, 3, 4, 1, 2, 3, 4, 2, 3, 4, 2, 3, 4, 2, 3, 4, 2, 3, 1, 2, 3, 4, 0, 1, 2, 3, 0, 1, 2, 3, 1, 2, 3, 4, 1, 2, 3, 4, 0, 1, 2, 3, 0, 1, 2, 3, 1, 2, 2, 3, 1, 2, 3, 2, 3, 4, 1, 2, 3, 4, 1, 2, 1, 2, 3, 4, 2, 3, 4, 2, 3, 2, 1, 2, 3, 1, 2, 3, 0, 1, 2, 3, 0, 1, 2, 3, 1, 2, 3, 4, 1, 2, 3, 0, 1, 2, 3, 4, 1, 2, 3, 4, 0, 1, 2, 3, 1, 2, 3, 1, 2, 3, 4, 2, 3, 1, 2, 1, 2, 3, 4, 2, 3, 4, 2, 3, 4, 2, 3, 4, 1, 2, 3, 4, 2, 3, 0, 1, 2, 1, 2, 3, 4, 2, 3, 4, 0, 1, 2, 3, 1, 2, 3, 4, 0, 1, 2, 3, 1, 2, 3, 0, 2, 3, 2, 3, 2, 3, 2, 3, 4, 0, 1, 2, 3, 0, 1, 2, 0, 1, 2, 3, 0, 1, 2, 1, 2, 3, 0, 1, 2, 3, 1, 2, 3, 4, 2, 3, 4, 2, 3, 0, 1, 2, 3, 4, 1, 2, 3, 4, 2, 3, 1, 2, 3, 4, 2, 3, 1, 2, 3, 0, 1, 2, 3, 4, 3, 1, 2, 3, 4, 0, 1, 2, 3, 0, 1, 2, 3, 1, 2, 3, 4, 2, 3, 4, 1, 2, 3, 4, 1, 2, 3, 2, 3, 4, 2, 3, 4, 0, 1, 2, 2, 3, 4, 0, 1, 2, 3, 1, 2, 3, 0, 1, 2, 3, 2, 3, 4, 1, 2, 3, 4, 1, 2, 1, 2, 3, 0, 1, 2, 3, 1, 2, 3, 2, 3, 4, 1, 2, 3, 0, 1, 2, 3, 4, 0, 1, 2, 3, 0, 1, 2, 3, 1, 2, 3, 4, 1, 2, 3, 2, 3, 1, 2, 3, 4, 1, 2, 3, 1, 2, 3, 4, 2, 3, 4, 1, 2, 0, 1, 2, 1, 2, 3, 1, 2, 3, 0, 1, 2, 3, 0, 1, 2, 3, 1, 2, 3, 4, 0, 1, 2, 3, 0, 1, 2, 3, 4, 0, 1, 2, 0, 1, 2, 3, 0, 1, 2, 3, 1, 2, 3, 1, 2, 3, 0, 1, 2, 0, 1, 2, 2, 3, 4, 0, 1, 2, 3, 1, 2, 3, 1, 2, 3, 3, 4, 1, 2, 3, 1, 2, 3, 1, 2, 3, 4, 1, 2, 3, 4, 2, 3, 4, 2, 3, 4, 2, 3, 4, 2, 3, 2, 3, 0, 2, 3, 1, 2, 0, 1, 2, 2, 3, 4, 1, 2, 3, 1, 2, 2, 3, 4, 2, 2, 3, 4, 4, 2, 3, 4, 0, 1, 2, 0, 1, 1, 2, 3, 4, 0, 1, 2, 1, 2, 3, 3, 4, 1, 2, 1, 2, 3, 4, 2, 3, 1, 2, 1, 2, 3, 1, 2, 3, 4, 1, 2, 3, 4, 0, 1, 2, 1, 2, 3, 4, 2, 3, 4, 1, 2, 3, 2, 3, 1, 2, 2, 3, 2, 3, 4, 0, 1, 2, 3, 0, 1, 2, 1, 2, 3, 0, 1, 2, 0, 1, 2, 3, 4, 0, 1, 2, 3, 1, 2, 3, 1, 2, 3, 3, 1, 2, 3, 4, 0, 1, 2, 2, 2, 3, 2, 3, 4, 2, 3, 4, 0, 1, 2, 3, 0, 1, 2, 0, 1, 2, 3, 2, 3, 4, 0, 1, 2, 0, 1, 2, 3, 2, 3, 4, 1, 2, 2, 3, 4, 1, 2, 2, 3, 4, 0, 1, 2, 0, 1, 2, 1, 2, 3, 2, 3, 4, 1, 2, 3, 0, 1, 2, 2, 3, 0, 1, 2, 3, 4, 1, 2, 3, 2, 3, 4, 1, 2, 3, 4, 2, 3, 0, 1, 2, 0, 1, 2, 3, 2, 3, 4, 1, 2, 1, 2, 3, 0, 1, 1, 2, 1, 2, 3, 4, 4, 0, 1, 2, 1, 2, 3, 2, 3, 0, 2, 1, 2, 3, 1, 2, 3, 0, 1, 2, 0, 1, 2, 3, 0, 1, 2, 3, 2, 3, 4, 0, 1, 2, 0, 1, 2, 0, 1, 2, 3, 0, 1, 2, 2, 3, 1, 2, 3, 4, 2, 3, 2, 3, 2, 3, 4, 1, 2, 3, 4, 1, 2, 3, 0, 1, 2, 3, 1, 2, 3, 0, 1, 2, 3, 1, 2, 3, 0, 1, 2, 3, 4, 2, 3, 4, 1, 2, 3, 0, 1, 2, 3, 0, 1, 2, 3, 4, 0, 1, 2, 3, 1, 2, 2, 3, 4, 1, 2, 3, 1, 2, 2, 3, 2, 3, 2, 3, 4, 0, 1, 2, 3, 1, 2, 3, 4, 1, 2, 3, 0, 1, 2, 0, 1, 2, 2, 3, 3, 4, 1, 2, 3, 0, 1, 2, 1, 2, 3, 1, 2, 2, 0, 1, 1, 2, 3, 4, 1, 2, 3, 4, 0, 1, 2, 3, 1, 2, 2, 3, 0, 1, 2, 3, 2, 0, 1, 2, 1, 2, 3, 1, 2, 3, 2, 3, 4, 2, 3, 1, 2, 3, 1, 2, 3, 0, 1, 2, 3, 0, 1, 2, 3, 4, 2, 3, 0, 1, 1, 2, 0, 1, 2, 0, 1, 2, 2, 3, 4, 1, 2, 3, 4, 0, 1, 2, 3, 4, 1, 2, 3, 1, 2, 3, 1, 2, 3, 0, 1, 2, 3, 1, 2, 3, 4, 2, 3, 0, 1, 2, 3, 2, 3, 2, 3, 4, 0, 1, 2, 3, 0, 1, 2, 0, 1, 2, 0, 1, 2, 3, 1, 2, 3, 4, 2, 3, 4, 1, 2, 3, 0, 1, 2, 3, 1, 2, 3, 4, 1, 2, 3, 1, 2, 3, 4, 1, 2, 3, 1, 2, 3, 4, 1, 2, 3, 4, 1, 2, 3, 4, 2, 3, 4, 2, 3, 4, 2, 3, 4, 0, 1, 2, 3, 1, 2, 3, 4, 0, 1, 2, 3, 0, 1, 2, 3, 2, 3, 1, 3, 2, 3, 4, 2, 3, 2, 3, 4, 2, 3, 4, 1, 2, 3, 4, 1, 2, 3, 2, 3, 4, 2, 3, 1, 2, 1, 2, 3, 3, 4, 0, 1, 2, 3, 0, 1, 2, 0, 1, 2, 3, 2, 3, 4, 1, 2, 3, 1, 2, 3, 1, 2, 3, 1, 2, 3, 0, 1, 2, 3, 2, 3, 4, 2, 3, 4, 0, 1, 2, 1, 2, 3, 2, 3, 0, 1, 2, 0, 1, 2, 3, 2, 3, 4, 3, 4, 3, 4, 2, 3, 4, 2, 3, 1, 2, 2, 3, 1, 2, 3, 1, 2, 3, 4, 2, 3, 4, 2, 3, 4, 0, 2, 3, 4, 2, 3, 4, 1, 2, 3, 4, 1, 2, 2, 3, 0, 1, 2, 3, 4, 2, 3, 4, 0, 1, 2, 2, 3, 4, 0, 1, 2, 3, 4, 2, 3, 4, 2, 3, 4, 2, 3, 4, 0, 1, 2, 1, 2, 3, 4, 2, 3, 4, 1, 2, 3, 4, 2, 3, 1, 2, 3, 4, 0, 1, 2, 3, 4, 1, 2, 3, 2, 3, 1, 2, 0, 1, 2, 1, 2, 3, 2, 3, 4, 0, 1, 2, 3, 1, 2, 3, 0, 1, 2, 3, 4, 0, 1, 2, 3, 1, 1, 2, 3, 4, 1, 2, 3, 1, 2, 0, 1, 2, 0, 1, 2, 2, 3, 4, 2, 3, 4, 1, 2, 3, 0, 1, 2, 0, 1, 2, 3, 4, 1, 2, 0, 1, 2, 1, 2, 0, 1, 2, 0, 1, 2, 2, 3, 4, 2, 3, 4, 1, 2, 3, 4, 1, 2, 3, 4, 1, 2, 3, 1, 2, 3, 0, 1, 2, 3, 1, 2, 3, 4, 2, 3, 0, 1, 2, 1, 2, 3, 1, 2, 3, 2, 1, 2, 2, 3, 4, 1, 2, 3, 0, 1, 2, 1, 2, 3, 2, 3, 4, 1, 2, 3, 4, 1, 2, 3, 0, 1, 2, 1, 2, 3, 1, 2, 1, 2, 3, 1, 2, 3, 0, 1, 2, 0, 1, 2, 3, 1, 2, 3, 1, 2, 3, 4, 3, 0, 1, 2, 0, 1, 2, 3, 4, 1, 2, 3, 4, 1, 2, 2, 3, 4, 0, 1, 2, 3, 1, 2, 3, 1, 2, 3, 4, 1, 2, 3, 2, 3, 4, 1, 2, 3, 1, 2, 2, 3, 4, 1, 2, 3, 4, 2, 3, 2, 0, 1, 2, 3, 0, 1, 2, 1, 2, 3, 1, 2, 1, 2, 3, 2, 3, 2, 3, 0, 1, 2, 3, 2, 3, 1, 2, 3, 4, 0, 1, 2, 1, 0, 1, 2, 0, 1, 2, 3, 1, 2, 3, 1, 2, 3, 3, 4, 1, 2, 3, 4, 1, 2, 3, 4, 2, 3, 1, 2, 3, 4, 2, 3, 4, 2, 3, 4, 3, 0, 1, 2, 4, 0, 1, 2, 0, 1, 2, 2, 3, 0, 1, 2, 3, 1, 2, 3, 0, 1, 2, 3, 2, 3, 4, 2, 3, 0, 1, 2, 3, 1, 2, 3, 2, 3, 4, 1, 2, 3, 4, 0, 1, 2, 2, 3, 2, 2, 3, 1, 2, 3, 1, 2, 3, 2, 3, 4, 1, 2, 3, 4, 0, 1, 2, 3, 4, 0, 1, 2, 3, 2, 3, 4, 0, 1, 0, 1, 2, 3, 4, 3, 4, 2, 3, 0, 1, 2, 3, 4, 1, 2, 3, 4, 1, 2, 1, 2, 1, 2, 3, 1, 2, 3, 1, 2, 3, 4, 1, 2, 3, 4, 1, 2, 3, 4, 1, 2, 2, 3, 2, 3, 4, 2, 3, 4, 2, 3, 4, 0, 1, 2, 3, 1, 2, 3, 0, 1, 2, 3, 4, 1, 2, 3, 4, 0, 1, 2, 1, 2, 3, 2, 3, 4, 0, 1, 2, 1, 2, 3, 0, 1, 2, 3, 4, 1, 2, 3, 0, 1, 2, 3, 4, 3, 4, 1, 2, 3, 2, 3, 4, 1, 2, 3, 0, 1, 2, 3, 2, 3, 4, 2, 3, 4, 1, 2, 3, 4, 1, 2, 3, 1, 2, 3, 0, 1, 2, 2, 3, 2, 3, 4, 1, 2, 1, 2, 3, 1, 2, 3, 0, 1, 2, 3, 1, 2, 3, 1, 2, 3, 0, 1, 1, 2, 3, 4, 1, 2, 1, 2, 3, 0, 1, 2, 3, 2, 3, 0, 1, 2, 3, 4, 1, 2, 1, 2, 3, 1, 2, 0, 2, 2, 3, 4, 0, 1, 2, 3, 0, 1, 2, 1, 2, 3, 2, 3, 4, 3, 0, 1, 2, 3, 2, 3, 4, 3, 4, 0, 1, 2, 3, 4, 0, 1, 2, 3, 1, 2, 0, 1, 2, 3, 2, 3, 4, 1, 2, 3, 4, 1, 2, 3, 0, 1, 2, 1, 2, 3, 0, 1, 2, 3, 1, 2, 3, 4, 2, 3, 4, 1, 2, 3, 4, 0, 1, 2, 0, 1, 2, 3, 0, 1, 2, 3, 0, 1, 2, 3, 4, 1, 2, 3, 2, 3, 1, 2, 3, 4, 1, 2, 3, 0, 1, 2, 3, 1, 2, 3, 1, 2, 3, 0, 1, 2, 2, 3, 4, 0, 0, 1, 2, 4, 0, 1, 2, 3, 4, 2, 3, 4, 0, 1, 2, 3, 1, 2, 3, 4, 0, 1, 2, 3, 0, 1, 2, 3, 2, 3, 0, 1, 3, 0, 1, 2, 3, 2, 3, 2, 4, 0, 1, 2, 3, 4, 1, 2, 3, 4, 1, 2, 3, 1, 2, 3, 0, 1, 2, 3, 0, 1, 2, 3, 1, 2, 1, 2, 3, 4, 2, 3, 1, 2, 3, 4, 2, 3, 2, 3, 4, 0, 1, 2, 3, 2, 3, 4, 0, 1, 2, 3, 1, 2, 3, 0, 1, 2, 3, 4, 1, 2, 3, 4, 0, 1, 2, 3, 4, 1, 2, 1, 2, 0, 1, 2, 3, 4, 1, 2, 3, 4, 0, 1, 2, 1, 2, 1, 2, 3, 2, 3, 4, 2, 3, 4, 2, 3, 4, 1, 2, 3, 4, 0, 1, 2, 3, 2, 4, 1, 2, 3, 3, 4, 2, 3, 2, 3, 4, 0, 1, 2, 3, 1, 2, 0, 1, 0, 1, 2, 3, 2, 3, 4, 2, 3, 4, 2, 3, 0, 1, 2, 2, 3, 4, 0, 1, 2, 4, 0, 1, 2, 3, 1, 2, 3, 2, 3, 4, 1, 2, 3, 0, 1, 2, 3, 4, 1, 2, 1, 2, 0, 1, 2, 3, 1, 1, 2, 3, 4, 1, 2, 3, 0, 2, 3, 4, 1, 2, 3, 1, 2, 3, 4, 0, 2, 1, 2, 0, 1, 2, 3, 4, 0, 1, 2, 3, 3, 4, 2, 3, 4, 1, 2, 1, 2, 3, 1, 2, 1, 2, 3, 4, 2, 3, 1, 2, 3, 0, 1, 2, 3, 0, 1, 0, 1, 2, 3, 1, 2, 3, 2, 3, 4, 1, 2, 3, 1, 2, 0, 1, 2, 3, 4, 1, 2, 3, 2, 3, 4, 0, 1, 2, 3, 1, 2, 3, 0, 1, 2, 3, 2, 3, 4, 0, 1, 2, 3, 1, 2, 3, 1, 2, 3, 2, 3, 2, 3, 2, 4, 0, 1, 2, 3, 1, 2, 3, 4, 1, 2, 4, 0, 1, 2, 2, 3, 4, 2, 3, 4, 2, 3, 4, 1, 2, 3, 1, 2, 3, 4, 2, 3, 4, 1, 2, 3, 3, 4, 1, 2, 1, 2, 3, 4, 3, 4, 2, 3, 4, 3, 4, 3, 1, 0, 3, 4, 2, 3, 4, 0, 1, 2, 3, 2, 3, 4, 1, 2, 3, 2, 3, 2, 0, 1, 2, 3, 4, 1, 2, 3, 0, 1, 2, 3, 1, 2, 3, 4, 2, 3, 1, 2, 3, 4, 4, 0, 1, 2, 2, 3, 0, 2, 3, 0, 1, 2, 3, 1, 2, 3, 4, 2, 3, 4, 0, 2, 2, 3, 4, 1, 2, 3, 4, 1, 2, 3, 4, 0, 1, 2, 3, 4, 1, 2, 1, 2, 3, 0, 1, 2, 3, 0, 2, 3, 2, 3, 4, 0, 1, 2, 3, 4, 2, 3, 4, 0, 1, 2, 3, 2, 3, 4, 1, 2, 3, 2, 3, 4, 1, 2, 3, 1, 2, 3, 4, 0, 1, 2, 2, 3, 0, 1, 2, 2, 3, 4, 2, 3, 4, 1, 2, 3, 4, 1, 2, 0, 1, 2, 3, 4, 1, 2, 3, 4, 1, 2, 3, 4, 2, 3, 0, 1, 2, 3, 4, 2, 3, 4, 1, 2, 3, 0, 1, 2, 3, 1, 2, 3, 4, 2, 3, 4, 1, 2, 3, 4, 2, 3, 4, 1, 2, 3, 4, 2, 3, 1, 2, 3, 1, 2, 3, 4, 1, 2, 3, 0, 1, 2, 3, 4, 0, 1, 2, 3, 4, 1, 2, 3, 2, 3, 0, 1, 2, 3, 0, 1, 2, 0, 1, 2, 3, 1, 2, 3, 1, 2, 3, 4, 0, 1, 2, 3, 0, 1, 2, 1, 2, 3, 4, 2, 3, 4, 0, 1, 2, 3, 2, 3, 4, 1, 2, 3, 4, 0, 1, 2, 1, 2, 1, 2, 3, 0, 1, 2, 3, 4, 0, 1, 2, 3, 1, 2, 2, 3, 4, 1, 2, 2, 3, 4, 1, 2, 3, 1, 2, 3, 4, 1, 2, 3, 1, 2, 3, 2, 3, 2, 3, 4, 0, 1, 2, 1, 2, 3, 4, 1, 2, 4, 1, 2, 3, 0, 1, 2, 1, 2, 0, 1, 2, 1, 2, 3, 2, 3, 4, 2, 3, 4, 1, 2, 3, 4, 1, 2, 3, 4, 1, 2, 1, 2, 3, 1, 2, 3, 0, 1, 1, 2, 3, 1, 2, 3, 0, 1, 2, 0, 1, 2, 1, 2, 3, 4, 1, 2, 3, 0, 1, 2, 3, 0, 1, 2, 3, 0, 1, 2, 3, 3, 4, 0, 1, 2, 3, 0, 1, 2, 4, 1, 2, 0, 1, 1, 2, 3, 2, 3, 4, 1, 2, 3, 4, 2, 3, 1, 2, 3, 1, 2, 3, 2, 3, 4, 2, 0, 1, 2, 3, 0, 1, 2, 1, 2, 3, 0, 1, 2, 3, 1, 2, 3, 3, 4, 2, 3, 2, 3, 4, 0, 1, 2, 1, 2, 3, 1, 2, 3, 1, 2, 3, 4, 2, 2, 3, 4, 2, 3, 4, 2, 3, 4, 1, 2, 3, 1, 2, 3, 0, 1, 2, 2, 3, 4, 0, 1, 2, 3, 4, 0, 1, 2, 3, 4, 1, 2, 3, 1, 2, 3, 0, 1, 2, 3, 4, 2, 3, 4, 0, 1, 2, 2, 3, 4, 0, 1, 2, 2, 3, 4, 1, 2, 3, 3, 4, 3, 1, 2, 1, 2, 0, 1, 2, 3, 2, 3, 4, 1, 2, 3, 2, 3, 4, 1, 2, 3, 4, 0, 1, 1, 2, 3, 0, 1, 2, 3, 1, 2, 3, 4, 0, 1, 2, 0, 1, 2, 3, 4, 1, 2, 3, 4, 1, 2, 3, 4, 1, 2, 3, 4, 1, 2, 3, 1, 2, 3, 0, 1, 2, 3, 1, 2, 3, 0, 1, 2, 0, 1, 2, 3, 4, 0, 1, 2, 3, 0, 1, 2, 3, 2, 3, 4, 2, 3, 0, 1, 2, 3, 1, 2, 3, 4, 1, 2, 3, 4, 2, 3, 4, 0, 1, 2, 3, 2, 3, 4, 1, 2, 1, 2, 1, 2, 3, 0, 1, 2, 3, 1, 2, 2, 3, 4, 0, 1, 2, 3, 4, 0, 1, 2, 2, 3, 4, 1, 2, 3, 4, 1, 2, 3, 2, 3, 4, 1, 2, 3, 4, 1, 2, 0, 1, 2, 0, 1, 2, 3, 1, 2, 3, 4, 0, 1, 2, 0, 1, 2, 3, 4, 0, 1, 2, 3, 0, 1, 2, 3, 1, 2, 1, 2, 3, 4, 0, 1, 2, 3, 4, 2, 3, 4, 1, 2, 0, 1, 2, 3, 1, 2, 1, 2, 1, 2, 3, 1, 2, 3, 4, 0, 1, 2, 3, 0, 1, 2, 3, 1, 2, 3, 1, 2, 3, 1, 2, 1, 2, 3, 4, 1, 2, 3, 1, 2, 3, 2, 3, 4, 0, 1, 2, 1, 2, 3, 0, 1, 2, 3, 1, 2, 0, 1, 2, 0, 1, 2, 0, 1, 2, 3, 2, 3, 1, 2, 3, 2, 3, 1, 2, 3, 0, 1, 2, 3, 4, 0, 1, 2, 3, 0, 1, 2, 3, 1, 2, 1, 2, 3, 4, 0, 2, 3, 0, 1, 2, 0, 1, 2, 3, 1, 2, 3, 1, 2, 3, 1, 2, 3, 2, 3, 4, 0, 1, 2, 3, 1, 2, 3, 1, 2, 4, 2, 3, 4, 0, 1, 2, 3, 1, 2, 3, 4, 1, 2, 3, 4, 1, 2, 3, 2, 3, 4, 1, 2, 3, 4, 0, 1, 2, 2, 3, 0, 1, 1, 2, 3, 2, 3, 2, 3, 4, 1, 2, 3, 4, 1, 2, 3, 1, 2, 3, 0, 1, 2, 1, 2, 3, 2, 3, 4, 1, 2, 3, 2, 3, 4, 1, 2, 3, 4, 1, 2, 3, 1, 2, 0, 1, 2, 3, 0, 1, 2, 3, 4, 1, 1, 2, 3, 2, 3, 4, 0, 1, 2, 3, 1, 2, 3, 4, 0, 1, 2, 2, 3, 4, 1, 2, 3, 4, 0, 1, 2, 3, 2, 3, 4, 0, 1, 2, 3, 1, 2, 3, 0, 1, 2, 3, 4, 0, 1, 2, 3, 4, 2, 0, 1, 2, 1, 2, 3, 3, 4, 1, 2, 3, 2, 3, 1, 2, 3, 1, 2, 3, 0, 1, 2, 2, 3, 4, 1, 2, 3, 4, 3, 4, 1, 2, 1, 2, 3, 4, 1, 2, 3, 1, 2, 3, 0, 1, 2, 2, 3, 0, 1, 2, 3, 1, 2, 3, 4, 2, 3, 4, 1, 2, 3, 4, 1, 2, 3, 1, 2, 3, 1, 2, 2, 3, 4, 0, 1, 2, 3, 4, 1, 2, 3, 4, 1, 2, 0, 1, 2, 3, 4, 1, 2, 3, 2, 2, 3, 1, 0, 1, 2, 3, 0, 1, 2, 3, 1, 2, 3, 4, 2, 3, 1, 2, 2, 3, 4, 0, 1, 2, 3, 4, 0, 1, 2, 3, 0, 1, 2, 3, 3, 4, 1, 2, 3, 1, 2, 3, 4, 1, 2, 1, 2, 3, 2, 3, 0, 1, 3, 0, 1, 2, 3, 0, 1, 2, 3, 1, 2, 3, 2, 3, 4, 4, 2, 3, 4, 2, 3, 2, 3, 4, 1, 2, 3, 4, 2, 3, 4, 2, 2, 3, 4, 3, 4, 1, 2, 3, 1, 2, 1, 2, 1, 2, 3, 1, 2, 3, 1, 2, 3, 4, 1, 2, 3, 4, 2, 3, 4, 1, 2, 3, 2, 3, 4, 2, 3, 2, 3, 4, 1, 2, 3, 4, 2, 3, 4, 2, 3, 4, 0, 1, 2, 3, 0, 1, 2, 1, 2, 3, 2, 0, 1, 2, 3, 1, 2, 3, 1, 2, 3, 2, 3, 4, 0, 1, 2, 3, 1, 2, 3, 0, 1, 2, 0, 1, 2, 3, 2, 3, 1, 2, 1, 2, 1, 2, 1, 2, 3, 1, 2, 3, 0, 1, 2, 0, 1, 2, 3, 0, 1, 2, 3, 1, 2, 3, 4, 1, 2, 3, 2, 0, 1, 2, 3, 2, 3, 4, 0, 1, 2, 1, 2, 0, 1, 2, 3, 1, 2, 3, 1, 2, 3, 4, 2, 3, 4, 1, 2, 2, 3, 1, 2, 3, 1, 2, 3, 4, 2, 3, 4, 1, 2, 3, 4, 2, 3, 4, 3, 4, 2, 3, 2, 3, 2, 3, 4, 2, 0, 1, 2, 1, 2, 3, 1, 2, 3, 1, 2, 3, 2, 3, 4, 1, 2, 3, 1, 2, 3, 1, 2, 3, 4, 1, 2, 2, 3, 4, 0, 1, 2, 3, 0, 1, 2, 3, 2, 3, 4, 0, 1, 2, 3, 2, 3, 1, 2, 3, 4, 1, 2, 3, 2, 1, 2, 2, 3, 4, 2, 3, 4, 1, 2, 3, 4, 0, 1, 2, 2, 3, 4, 1, 2, 3, 0, 1, 2, 3, 1, 2, 3, 1, 2, 3, 4, 1, 2, 3, 2, 3, 1, 2, 3, 1, 2, 1, 2, 3, 0, 1, 2, 3, 2, 3, 2, 3, 4, 2, 3, 0, 1, 2, 3, 2, 3, 4, 2, 3, 4, 1, 2, 3, 0, 1, 2, 3, 2, 3, 4, 0, 1, 2, 3, 1, 2, 3, 4, 0, 2, 3, 0, 1, 2, 3, 2, 3, 4, 1, 2, 3, 4, 2, 3, 1, 2, 3, 0, 1, 2, 1, 2, 3, 1, 2, 1, 2, 3, 4, 0, 1, 2, 3, 2, 3, 2, 3, 4, 1, 2, 3, 4, 2, 3, 4, 1, 2, 3, 4, 0, 1, 2, 3, 0, 1, 2, 3, 1, 2, 3, 4, 1, 2, 3, 1, 2, 3, 4, 1, 2, 3, 4, 0, 1, 2, 1, 2, 3, 0, 1, 2, 3, 4, 1, 2, 1, 2, 3, 2, 3, 4, 1, 2, 3, 2, 3, 4, 0, 1, 2, 2, 3, 4, 1, 2, 3, 1, 2, 3, 0, 1, 2, 2, 3, 4, 2, 3, 1, 2, 3, 1, 2, 4, 0, 1, 2, 3, 1, 2, 3, 2, 3, 4, 0, 1, 2, 0, 1, 2, 3, 4, 0, 1, 2, 0, 1, 2, 3, 0, 1, 2, 1, 2, 3, 4, 2, 3, 4, 1, 2, 3, 2, 3, 0, 1, 2, 2, 3, 4, 2, 3, 4, 1, 2, 3, 2, 3, 4, 0, 1, 2, 0, 1, 2, 3, 1, 2, 3, 4, 0, 1, 2, 3, 4, 2, 3, 0, 1, 2, 0, 1, 2, 3, 4, 0, 1, 2, 0, 1, 2, 0, 1, 2, 2, 3, 0, 1, 2, 3, 0, 1, 2, 3, 0, 1, 2, 1, 2, 2, 3, 4, 1, 2, 3, 4, 0, 1, 2, 3, 1, 2, 3, 1, 2, 3, 4, 0, 1, 2, 3, 1, 2, 1, 2, 3, 2, 3, 2, 3, 4, 2, 3, 1, 2, 3, 1, 2, 1, 2, 3, 3, 4, 1, 2, 3, 0, 1, 2, 2, 3, 0, 1, 2, 2, 2, 3, 4, 2, 3, 4, 1, 3, 2, 3, 1, 2, 3, 1, 2, 3, 4, 1, 2, 3, 4, 0, 1, 2, 3, 0, 1, 2, 0, 1, 2, 3, 2, 3, 4, 2, 3, 4, 2, 3, 4, 2, 3, 1, 2, 3, 1, 2, 3, 1, 2, 1, 2, 3, 1, 2, 3, 2, 3, 4, 0, 1, 2, 3, 2, 3, 4, 2, 2, 3, 4, 1, 2, 0, 1, 2, 1, 2, 3, 0, 1, 2, 3, 1, 2, 2, 3, 4, 0, 1, 2, 3, 2, 3, 1, 2, 3, 0, 1, 2, 3, 2, 3, 4, 2, 3, 4, 2, 3, 4, 0, 1, 2, 3, 0, 1, 2, 0, 1, 2, 0, 1, 2, 1, 2, 1, 2, 3, 4, 0, 1, 2, 1, 2, 0, 1, 2, 3, 0, 1, 2, 3, 0, 1, 2, 3, 0, 2, 3, 4, 2, 3, 4, 1, 2, 3, 4, 1, 2, 3, 0, 1, 2, 1, 2, 3, 4, 0, 1, 2, 3, 4, 0, 1, 2, 1, 2, 3, 2, 3, 4, 2, 3, 4, 3, 4, 0, 1, 2, 1, 2, 3, 2, 3, 4, 0, 1, 2, 1, 2, 3, 1, 2, 0, 1, 2, 0, 1, 2, 3, 0, 1, 2, 3, 2, 3, 4, 1, 2, 3, 4, 1, 2, 3, 2, 3, 4, 2, 3, 1, 2, 1, 2, 0, 1, 2, 0, 1, 2, 0, 1, 2, 2, 3, 4, 0, 1, 2, 0, 1, 2, 3, 0, 1, 0, 1, 2, 3, 4, 1, 2, 3, 4, 0, 1, 2, 1, 2, 3, 4, 1, 2, 3, 2, 3, 4, 1, 2, 3, 4, 2, 2, 1, 2, 1, 2, 3, 4, 1, 2, 3, 4, 1, 2, 3, 4, 1, 2, 3, 1, 2, 3, 1, 2, 3, 4, 1, 2, 1, 2, 3, 1, 2, 3, 4, 0, 1, 2, 3, 0, 1, 2, 0, 1, 2, 1, 2, 3, 2, 3, 4, 0, 1, 2, 3, 4, 0, 1, 2, 0, 1, 2, 3, 1, 2, 3, 0, 1, 2, 3, 4, 1, 2, 3, 4, 1, 2, 1, 2, 3, 4, 0, 1, 2, 3, 2, 3, 4, 1, 2, 3, 2, 3, 4, 0, 1, 2, 3, 4, 2, 3, 1, 2, 3, 2, 3, 4, 2, 3, 4, 1, 2, 3, 2, 1, 2, 0, 1, 2, 0, 1, 2, 3, 1, 2, 3, 2, 3, 4, 0, 2, 0, 1, 2, 1, 2, 3, 0, 1, 2, 3, 1, 2, 3, 4, 0, 1, 2, 1, 2, 3, 0, 1, 2, 3, 1, 2, 3, 1, 2, 2, 3, 4, 1, 2, 3, 4, 0, 1, 2, 0, 1, 2, 3, 0, 1, 2, 3, 4, 0, 1, 2, 3, 1, 2, 3, 1, 2, 3, 4, 0, 1, 2, 1, 2, 3, 2, 3, 1, 2, 3, 4, 2, 3, 4, 1, 2, 3, 0, 1, 2, 3, 0, 1, 2, 3, 4, 1, 3, 4, 0, 1, 2, 3, 0, 1, 2, 0, 1, 2, 4, 0, 1, 2, 3, 1, 2, 3, 4, 0, 1, 2, 3, 1, 2, 3, 4, 0, 1, 2, 2, 3, 4, 0, 1, 2, 2, 3, 4, 1, 2, 3, 4, 0, 1, 2, 3, 0, 1, 2, 3, 1, 2, 3, 0, 1, 2, 1, 2, 0, 1, 2, 3, 2, 3, 0, 1, 2, 3, 1, 2, 3, 0, 1, 2, 3, 4, 2, 3, 4, 0, 1, 0, 1, 2, 1, 2, 3, 1, 2, 1, 2, 3, 4, 1, 2, 3, 4, 2, 3, 4, 1, 2, 1, 2, 3, 0, 1, 2, 1, 2, 3, 2, 2, 3, 4, 3, 4, 0, 1, 2, 1, 2, 3, 2, 3, 4, 0, 1, 2, 3, 1, 2, 3, 0, 1, 2, 3, 0, 1, 2, 3, 1, 2, 3, 1, 2, 3, 0, 1, 2, 0, 1, 2, 3, 2, 3, 4, 1, 2, 0, 1, 2, 0, 1, 2, 3, 1, 2, 3, 1, 2, 3, 4, 2, 3, 1, 2, 3, 2, 3, 4, 0, 1, 2, 3, 2, 3, 4, 1, 2, 3, 4, 2, 3, 4, 0, 1, 2, 2, 3, 4, 2, 3, 0, 1, 2, 1, 2, 2, 3, 0, 1, 2, 3, 1, 2, 3, 4, 1, 2, 3, 2, 1, 2, 3, 0, 1, 2, 3, 1, 2, 3, 2, 3, 2, 3, 4, 3, 4, 0, 1, 2, 3, 1, 2, 0, 1, 2, 3, 0, 1, 1, 2, 3, 4, 1, 2, 3, 4, 2, 3, 2, 3, 4, 1, 2, 3, 1, 2, 3, 2, 3, 0, 1, 2, 3, 0, 1, 2, 1, 2, 3, 2, 3, 2, 3, 1, 2, 3, 0, 1, 2, 3, 1, 2, 3, 4, 0, 1, 2, 0, 1, 2, 3, 1, 2, 3, 1, 2, 3, 0, 1, 2, 0, 1, 2, 3, 4, 0, 1, 2, 3, 1, 2, 3, 0, 1, 2, 1, 3, 1, 2, 3, 1, 2, 3, 1, 2, 1, 2, 3, 2, 3, 0, 1, 2, 0, 2, 3, 1, 2, 3, 4, 2, 0, 1, 1, 2, 3, 1, 2, 3, 0, 1, 2, 2, 3, 0, 1, 2, 3, 2, 3, 4, 2, 3, 4, 1, 2, 3, 4, 1, 2, 3, 1, 2, 3, 4, 0, 1, 2, 3, 4, 2, 3, 2, 3, 4, 1, 2, 3, 4, 0, 1, 2, 3, 1, 2, 3, 2, 0, 1, 2, 3, 2, 3, 4, 1, 2, 3, 1, 2, 3, 4, 2, 3, 4, 1, 2, 3, 4, 0, 1, 2, 0, 1, 2, 0, 1, 2, 3, 0, 1, 2, 3, 1, 2, 3, 1, 2, 1, 2, 3, 0, 1, 2, 3, 1, 2, 3, 4, 0, 1, 2, 1, 2, 2, 3, 4, 0, 1, 2, 3, 0, 1, 2, 0, 1, 2, 3, 1, 2, 3, 4, 2, 3, 4, 2, 3, 0, 1, 0, 2, 3, 4, 1, 2, 3, 4, 1, 2, 3, 4, 1, 2, 3, 0, 1, 2, 3, 2, 3, 4, 1, 1, 2, 3, 2, 3, 0, 1, 2, 3, 0, 1, 2, 3, 1, 2, 3, 1, 2, 3, 3, 4, 1, 2, 3, 4, 0, 1, 2, 3, 2, 3, 4, 2, 3, 4, 1, 2, 3, 1, 0, 1, 2, 2, 3, 4, 2, 3, 4, 1, 2, 3, 0, 1, 2, 3, 1, 0, 1, 2, 3, 2, 3, 0, 1, 2, 3, 0, 1, 2, 1, 2, 3, 4, 0, 1, 2, 3, 2, 3, 4, 0, 1, 2, 1, 2, 3, 2, 3, 4, 1, 2, 3, 4, 2, 3, 4, 0, 1, 2, 1, 2, 3, 4, 2, 3, 4, 1, 2, 3, 4, 0, 1, 2, 3, 1, 2, 3, 2, 3, 1, 2, 3, 0, 1, 2, 3, 1, 2, 3, 4, 2, 3, 4, 1, 2, 3, 4, 1, 2, 3, 4, 2, 3, 1, 2, 3, 0, 1, 2, 3, 1, 2, 3, 1, 2, 3, 2, 3, 1, 2, 3, 1, 2, 3, 4, 0, 1, 2, 3, 2, 3, 4, 1, 2, 3, 4, 2, 3, 2, 3, 0, 1, 2, 3, 2, 3, 4, 2, 3, 4, 3, 4, 0, 1, 2, 3, 4, 1, 2, 3, 1, 2, 3, 0, 1, 2, 3, 0, 1, 2, 3, 4, 1, 2, 3, 4, 2, 3, 1, 2, 0, 1, 2, 3, 1, 2, 3, 0, 1, 1, 1, 2, 3, 0, 1, 2, 3, 4, 3, 4, 0, 1, 2, 3, 1, 2, 1, 2, 3, 4, 1, 2, 3, 1, 2, 1, 2, 3], \"x0\": \" \", \"xaxis\": \"x\", \"y\": [4, 56, 3, 8, 6, 4, 2, 7, 25, 1, 9, 19, 9, 3, 2, 4, 4, 1, 18, 7, 6, 3, 7, 5, 26, 8, 6, 6, 3, 3, 6, 12, 16, 5, 2, 1, 4, 38, 3, 5, 2, 4, 3, 32, 8, 1, 1, 12, 2, 1, 1, 5, 11, 13, 5, 9, 6, 32, 8, 3, 4, 14, 2, 4, 11, 6, 3, 3, 1, 51, 4, 6, 21, 1, 2, 30, 7, 1, 13, 2, 4, 16, 2, 1, 1, 15, 4, 31, 10, 4, 18, 2, 3, 16, 9, 1, 2, 6, 1, 2, 11, 18, 2, 2, 27, 5, 1, 1, 9, 17, 1, 1, 18, 5, 2, 1, 15, 14, 2, 1, 9, 5, 5, 1, 5, 10, 10, 2, 1, 27, 9, 1, 6, 4, 1, 2, 8, 15, 10, 1, 22, 7, 3, 17, 6, 8, 4, 10, 3, 9, 4, 18, 8, 3, 1, 15, 6, 1, 2, 8, 12, 2, 10, 12, 6, 4, 17, 2, 13, 1, 5, 23, 3, 11, 31, 3, 5, 4, 20, 5, 2, 6, 17, 1, 2, 5, 7, 3, 5, 2, 1, 2, 6, 2, 18, 10, 1, 27, 12, 3, 9, 4, 3, 1, 7, 22, 1, 1, 21, 6, 2, 10, 14, 3, 14, 5, 2, 8, 7, 3, 6, 12, 23, 3, 1, 11, 18, 4, 7, 2, 4, 4, 29, 4, 4, 26, 4, 1, 3, 15, 2, 15, 9, 4, 2, 5, 6, 4, 1, 5, 16, 1, 2, 5, 7, 13, 1, 1, 10, 25, 1, 7, 3, 4, 2, 3, 7, 5, 24, 11, 5, 45, 8, 2, 17, 4, 8, 1, 6, 2, 1, 5, 3, 1, 9, 20, 7, 9, 7, 1, 8, 5, 4, 14, 9, 9, 21, 1, 2, 8, 13, 2, 2, 9, 8, 1, 2, 11, 22, 3, 1, 2, 16, 2, 8, 7, 15, 1, 10, 3, 3, 11, 9, 12, 4, 9, 14, 2, 1, 6, 7, 3, 6, 10, 2, 10, 27, 1, 13, 10, 1, 5, 25, 11, 1, 6, 1, 2, 9, 1, 4, 27, 7, 17, 6, 4, 2, 7, 24, 4, 7, 5, 12, 1, 9, 19, 1, 4, 11, 18, 2, 1, 13, 26, 2, 13, 10, 25, 2, 1, 6, 21, 13, 2, 2, 16, 4, 4, 8, 2, 11, 5, 6, 14, 12, 2, 1, 3, 11, 14, 1, 2, 27, 14, 2, 4, 15, 11, 7, 2, 2, 4, 2, 2, 21, 6, 3, 3, 17, 18, 4, 2, 8, 7, 4, 6, 25, 14, 4, 1, 35, 18, 1, 1, 15, 4, 1, 1, 9, 9, 4, 2, 11, 6, 15, 1, 9, 25, 6, 2, 2, 12, 3, 3, 14, 3, 1, 8, 3, 1, 1, 2, 3, 5, 28, 4, 1, 2, 8, 10, 1, 2, 2, 1, 5, 6, 6, 2, 2, 17, 5, 4, 1, 3, 12, 2, 3, 15, 4, 2, 17, 5, 7, 17, 5, 30, 5, 2, 4, 5, 6, 8, 38, 10, 2, 9, 19, 3, 7, 3, 3, 15, 31, 1, 1, 10, 12, 12, 28, 1, 3, 2, 1, 18, 14, 8, 1, 12, 8, 1, 4, 4, 1, 7, 9, 2, 1, 9, 10, 2, 3, 5, 9, 1, 12, 11, 2, 4, 32, 5, 1, 3, 9, 4, 1, 9, 26, 5, 5, 1, 11, 28, 4, 1, 3, 22, 2, 3, 10, 4, 3, 1, 9, 11, 1, 10, 7, 2, 2, 6, 13, 3, 1, 3, 7, 12, 21, 2, 2, 5, 1, 2, 4, 25, 4, 8, 9, 9, 5, 6, 1, 5, 8, 5, 12, 16, 7, 1, 3, 6, 7, 12, 1, 2, 13, 14, 5, 17, 7, 6, 2, 9, 4, 5, 12, 1, 1, 12, 4, 4, 3, 2, 1, 2, 3, 1, 6, 5, 11, 10, 1, 1, 3, 10, 7, 1, 1, 2, 9, 2, 2, 14, 6, 1, 5, 13, 2, 5, 20, 6, 2, 4, 2, 10, 14, 2, 1, 6, 28, 5, 1, 1, 2, 4, 1, 9, 6, 1, 8, 2, 7, 2, 3, 1, 5, 9, 1, 9, 8, 2, 1, 3, 3, 15, 5, 5, 10, 14, 6, 2, 9, 14, 2, 4, 20, 3, 5, 8, 9, 2, 14, 5, 5, 3, 2, 1, 2, 9, 1, 4, 3, 2, 9, 21, 1, 5, 19, 5, 7, 11, 30, 3, 23, 13, 1, 2, 8, 13, 2, 13, 10, 4, 1, 10, 4, 5, 8, 7, 9, 14, 3, 11, 21, 3, 5, 4, 9, 9, 24, 1, 7, 10, 15, 5, 8, 6, 2, 20, 5, 1, 2, 3, 16, 4, 2, 4, 5, 14, 10, 1, 4, 5, 10, 1, 3, 7, 6, 1, 2, 26, 11, 2, 11, 6, 1, 4, 6, 1, 4, 5, 9, 4, 44, 7, 11, 10, 9, 2, 4, 4, 3, 3, 20, 7, 2, 9, 21, 1, 4, 20, 11, 2, 5, 16, 13, 7, 3, 2, 1, 16, 8, 3, 1, 10, 17, 1, 3, 1, 7, 10, 1, 7, 13, 25, 2, 2, 28, 9, 7, 19, 14, 10, 4, 4, 11, 5, 6, 22, 10, 1, 2, 1, 1, 12, 12, 4, 10, 7, 4, 1, 7, 20, 7, 1, 5, 4, 1, 7, 9, 1, 10, 29, 1, 1, 5, 3, 11, 4, 2, 12, 3, 2, 1, 1, 3, 13, 11, 6, 13, 13, 2, 7, 2, 4, 3, 9, 3, 1, 3, 3, 11, 1, 1, 6, 17, 8, 2, 2, 33, 4, 13, 26, 5, 2, 7, 3, 1, 9, 4, 7, 6, 11, 1, 7, 10, 16, 10, 6, 4, 2, 1, 1, 11, 4, 2, 12, 4, 2, 4, 10, 4, 1, 1, 1, 4, 2, 2, 1, 2, 4, 1, 5, 7, 1, 13, 4, 1, 1, 1, 3, 6, 1, 8, 2, 13, 32, 5, 12, 15, 2, 1, 1, 17, 1, 6, 1, 15, 11, 3, 15, 7, 3, 2, 1, 1, 3, 5, 30, 4, 2, 13, 29, 9, 2, 13, 11, 4, 2, 31, 15, 10, 13, 1, 3, 1, 6, 18, 3, 6, 17, 6, 3, 17, 20, 9, 5, 6, 4, 5, 3, 19, 10, 5, 1, 13, 3, 1, 5, 1, 1, 7, 4, 3, 1, 13, 2, 4, 8, 17, 2, 17, 6, 4, 2, 1, 2, 10, 9, 13, 4, 10, 1, 6, 14, 8, 16, 2, 6, 6, 15, 1, 18, 6, 1, 6, 8, 5, 1, 3, 4, 4, 12, 2, 8, 12, 6, 3, 3, 1, 1, 6, 2, 10, 9, 3, 21, 4, 2, 1, 3, 9, 7, 4, 7, 4, 11, 12, 8, 4, 5, 4, 3, 6, 12, 1, 3, 2, 1, 1, 8, 12, 3, 4, 11, 3, 3, 25, 7, 1, 3, 2, 1, 1, 2, 3, 29, 14, 3, 1, 2, 14, 3, 8, 5, 1, 1, 5, 10, 4, 28, 4, 4, 11, 3, 4, 6, 28, 4, 8, 32, 3, 3, 16, 14, 2, 2, 18, 3, 1, 4, 2, 2, 5, 5, 10, 4, 17, 15, 1, 4, 2, 16, 4, 1, 4, 7, 9, 1, 8, 3, 11, 4, 2, 3, 18, 2, 4, 8, 14, 5, 8, 8, 6, 7, 27, 12, 5, 3, 1, 1, 8, 14, 1, 3, 5, 6, 3, 5, 7, 2, 21, 7, 3, 15, 2, 1, 21, 11, 2, 2, 12, 3, 1, 5, 5, 5, 1, 17, 7, 6, 4, 4, 1, 1, 7, 12, 1, 1, 20, 5, 1, 1, 26, 8, 2, 2, 9, 3, 5, 2, 9, 6, 3, 5, 8, 4, 1, 6, 1, 9, 5, 34, 1, 4, 20, 14, 1, 1, 14, 5, 5, 14, 4, 1, 7, 18, 14, 2, 7, 17, 6, 1, 26, 3, 1, 17, 1, 13, 6, 1, 2, 10, 7, 4, 1, 5, 14, 5, 11, 7, 1, 5, 18, 7, 5, 7, 4, 1, 6, 11, 5, 8, 4, 12, 6, 2, 28, 19, 8, 3, 10, 13, 4, 7, 4, 9, 4, 11, 11, 5, 5, 16, 2, 3, 2, 1, 9, 2, 5, 7, 1, 1, 4, 8, 2, 2, 6, 12, 2, 2, 4, 12, 7, 16, 13, 2, 4, 2, 1, 13, 3, 2, 1, 1, 14, 4, 2, 1, 4, 9, 5, 3, 1, 19, 3, 12, 5, 5, 1, 1, 3, 17, 12, 7, 1, 16, 9, 6, 8, 3, 5, 16, 15, 2, 4, 10, 11, 3, 2, 3, 4, 2, 1, 1, 2, 9, 25, 3, 2, 2, 15, 4, 2, 8, 2, 20, 12, 1, 1, 8, 16, 1, 8, 5, 2, 4, 7, 8, 27, 5, 11, 10, 6, 4, 7, 1, 1, 16, 7, 8, 2, 2, 10, 5, 5, 10, 2, 1, 8, 13, 3, 1, 3, 3, 10, 6, 1, 22, 3, 1, 15, 6, 2, 2, 5, 4, 17, 1, 2, 10, 1, 5, 13, 7, 6, 9, 2, 4, 12, 6, 1, 2, 9, 3, 6, 4, 2, 12, 10, 2, 5, 14, 1, 11, 17, 1, 1, 12, 14, 4, 6, 5, 1, 3, 3, 1, 4, 2, 2, 3, 7, 6, 3, 16, 7, 1, 7, 2, 1, 15, 15, 7, 2, 14, 10, 1, 2, 9, 1, 1, 9, 4, 1, 1, 14, 19, 3, 3, 9, 7, 2, 4, 8, 1, 1, 5, 3, 4, 1, 1, 8, 1, 3, 3, 25, 7, 9, 1, 1, 3, 10, 11, 11, 14, 5, 13, 5, 5, 18, 3, 2, 1, 5, 8, 15, 1, 1, 7, 23, 4, 1, 10, 31, 3, 4, 23, 14, 3, 1, 4, 2, 6, 6, 3, 1, 5, 3, 6, 10, 1, 1, 5, 2, 9, 3, 5, 1, 3, 18, 7, 3, 34, 7, 2, 3, 8, 3, 1, 3, 9, 2, 7, 4, 1, 2, 2, 6, 5, 20, 10, 1, 6, 1, 18, 11, 5, 10, 22, 10, 9, 4, 1, 4, 3, 12, 10, 7, 4, 3, 3, 1, 4, 22, 20, 13, 3, 5, 22, 10, 2, 15, 26, 1, 2, 19, 1, 2, 5, 5, 7, 1, 6, 6, 6, 1, 23, 6, 1, 1, 24, 14, 1, 11, 11, 10, 4, 20, 9, 7, 16, 9, 1, 3, 9, 17, 2, 9, 9, 6, 1, 8, 8, 3, 2, 4, 3, 5, 24, 3, 2, 12, 15, 2, 2, 7, 6, 3, 24, 6, 1, 5, 3, 8, 3, 23, 12, 6, 10, 1, 1, 6, 2, 4, 10, 1, 3, 23, 1, 6, 16, 10, 19, 1, 2, 3, 9, 5, 4, 1, 2, 14, 4, 8, 11, 2, 6, 11, 1, 1, 5, 14, 4, 1, 8, 2, 5, 10, 2, 4, 14, 3, 7, 10, 6, 4, 4, 10, 9, 10, 2, 1, 10, 11, 1, 1, 17, 15, 1, 6, 9, 22, 5, 2, 22, 16, 3, 1, 15, 2, 13, 6, 2, 8, 5, 1, 3, 4, 9, 5, 1, 2, 12, 8, 1, 13, 6, 8, 7, 10, 17, 2, 1, 15, 8, 2, 10, 12, 1, 1, 2, 12, 5, 1, 1, 20, 6, 5, 3, 3, 16, 2, 11, 7, 1, 2, 3, 2, 3, 13, 1, 2, 5, 26, 13, 1, 1, 3, 3, 5, 10, 5, 1, 31, 4, 5, 8, 10, 5, 8, 2, 3, 2, 9, 2, 1, 2, 11, 22, 1, 1, 12, 12, 4, 1, 4, 1, 13, 5, 1, 3, 34, 9, 12, 26, 2, 6, 22, 6, 2, 25, 3, 1, 1, 12, 2, 2, 8, 4, 2, 2, 4, 1, 5, 16, 3, 10, 7, 3, 1, 5, 6, 2, 13, 13, 4, 1, 1, 5, 1, 3, 2, 6, 1, 20, 27, 4, 25, 15, 1, 7, 6, 2, 2, 7, 10, 1, 1, 3, 13, 2, 8, 8, 2, 6, 4, 13, 3, 12, 1, 2, 27, 15, 4, 1, 1, 17, 6, 5, 2, 7, 19, 2, 2, 1, 1, 13, 4, 1, 3, 16, 4, 25, 6, 1, 1, 11, 7, 1, 9, 8, 3, 23, 2, 3, 30, 6, 1, 7, 1, 1, 6, 5, 9, 2, 12, 10, 9, 5, 9, 6, 2, 2, 7, 3, 19, 14, 6, 1, 8, 5, 1, 11, 11, 8, 5, 3, 3, 3, 10, 2, 1, 11, 41, 5, 4, 5, 11, 1, 2, 5, 1, 3, 9, 2, 14, 6, 5, 9, 7, 1, 4, 22, 1, 1, 1, 16, 7, 2, 10, 13, 3, 2, 14, 3, 2, 28, 17, 4, 2, 29, 8, 2, 3, 3, 5, 1, 9, 10, 1, 13, 10, 5, 18, 12, 9, 8, 14, 1, 14, 6, 3, 1, 4, 6, 4, 1, 11, 13, 7, 3, 4, 11, 7, 5, 3, 4, 22, 1, 1, 12, 3, 1, 9, 4, 2, 1, 3, 9, 21, 12, 6, 1, 7, 10, 7, 4, 12, 9, 22, 19, 11, 5, 30, 4, 3, 10, 13, 1, 1, 19, 16, 2, 9, 29, 3, 5, 3, 3, 1, 2, 1, 1, 13, 15, 3, 1, 5, 12, 3, 1, 7, 8, 6, 8, 10, 4, 3, 12, 2, 7, 9, 3, 8, 23, 3, 29, 4, 3, 4, 4, 1, 6, 8, 1, 1, 7, 3, 12, 12, 2, 6, 6, 2, 1, 10, 5, 13, 11, 9, 7, 23, 10, 2, 5, 5, 2, 7, 1, 14, 3, 9, 6, 1, 4, 7, 7, 1, 12, 4, 4, 1, 14, 12, 2, 18, 12, 8, 1, 5, 8, 13, 8, 1, 1, 18, 8, 3, 6, 16, 5, 3, 7, 6, 1, 1, 6, 1, 3, 10, 7, 1, 9, 11, 2, 10, 8, 1, 1, 9, 4, 2, 3, 1, 4, 1, 1, 11, 2, 1, 4, 2, 8, 2, 4, 1, 2, 7, 2, 1, 23, 11, 3, 8, 9, 5, 3, 39, 6, 1, 17, 15, 5, 2, 6, 21, 4, 1, 1, 28, 7, 1, 1, 3, 7, 21, 6, 1, 2, 5, 17, 3, 8, 15, 6, 5, 8, 14, 1, 6, 6, 1, 1, 3, 8, 1, 2, 3, 2, 15, 7, 7, 4, 1, 4, 16, 2, 4, 1, 2, 3, 3, 12, 2, 9, 1, 1, 2, 11, 5, 6, 1, 28, 2, 12, 6, 3, 1, 8, 6, 3, 8, 4, 6, 7, 7, 3, 8, 9, 1, 2, 2, 1, 1, 7, 3, 10, 15, 1, 14, 5, 11, 1, 1, 2, 3, 16, 3, 1, 12, 14, 2, 4, 8, 3, 3, 5, 2, 5, 3, 12, 1, 10, 29, 4, 4, 2, 23, 11, 5, 14, 1, 1, 13, 3, 5, 1, 1, 9, 17, 1, 8, 20, 3, 2, 5, 1, 1, 22, 7, 11, 3, 4, 1, 5, 10, 1, 1, 24, 8, 13, 4, 7, 4, 2, 3, 7, 21, 14, 1, 4, 6, 5, 2, 1, 11, 5, 1, 7, 11, 14, 4, 26, 11, 3, 6, 1, 10, 22, 2, 3, 8, 15, 1, 17, 16, 1, 9, 15, 2, 1, 12, 12, 3, 21, 7, 1, 1, 3, 5, 5, 35, 7, 1, 1, 2, 3, 3, 6, 14, 4, 10, 3, 5, 4, 7, 11, 12, 3, 12, 12, 2, 1, 2, 3, 2, 17, 4, 2, 2, 8, 6, 3, 1, 6, 5, 6, 1, 1, 5, 2, 11, 12, 1, 9, 3, 4, 1, 12, 1, 1, 1, 1, 30, 9, 1, 2, 10, 5, 1, 2, 6, 4, 1, 10, 9, 1, 5, 18, 1, 1, 12, 3, 2, 11, 8, 2, 6, 13, 1, 1, 2, 3, 2, 2, 25, 4, 2, 22, 10, 4, 1, 2, 2, 3, 17, 9, 16, 16, 1, 6, 3, 12, 1, 4, 8, 23, 21, 2, 5, 5, 3, 6, 7, 1, 2, 7, 1, 1, 6, 2, 1, 9, 8, 2, 1, 2, 3, 2, 6, 8, 4, 9, 9, 3, 19, 1, 11, 10, 6, 1, 3, 10, 5, 3, 1, 3, 3, 23, 6, 1, 3, 7, 1, 2, 3, 34, 13, 2, 2, 30, 16, 13, 3, 2, 13, 1, 1, 13, 3, 10, 14, 6, 1, 4, 10, 1, 2, 6, 14, 2, 2, 23, 8, 4, 3, 10, 17, 3, 10, 20, 3, 7, 6, 1, 20, 6, 1, 18, 2, 8, 23, 6, 5, 11, 11, 1, 7, 4, 10, 4, 9, 5, 12, 2, 12, 13, 8, 2, 5, 6, 7, 6, 1, 1, 16, 15, 3, 10, 4, 6, 8, 15, 2, 3, 3, 1, 1, 8, 2, 7, 1, 18, 11, 3, 8, 1, 4, 3, 5, 2, 9, 7, 1, 15, 7, 2, 10, 1, 2, 14, 25, 6, 1, 4, 37, 5, 21, 11, 1, 3, 3, 1, 4, 3, 2, 7, 22, 3, 5, 1, 2, 1, 2, 8, 6, 7, 21, 2, 5, 2, 3, 12, 7, 1, 8, 4, 1, 1, 9, 12, 7, 1, 1, 1, 5, 4, 2, 4, 8, 2, 1, 3, 1, 7, 3, 1, 2, 30, 7, 1, 16, 6, 1, 1, 2, 11, 6, 3, 10, 3, 2, 12, 7, 3, 5, 1, 5, 9, 5, 3, 1, 7, 1, 3, 4, 5, 2, 2, 5, 4, 10, 1, 5, 2, 1, 1, 5, 11, 3, 6, 14, 9, 2, 4, 3, 3, 1, 21, 9, 1, 4, 17, 3, 1, 5, 1, 1, 1, 7, 17, 1, 1, 5, 12, 2, 2, 11, 7, 1, 5, 6, 1, 6, 7, 2, 5, 4, 1, 3, 3, 2, 5, 10, 3, 1, 1, 1, 9, 2, 1, 6, 11, 7, 2, 2, 5, 3, 20, 6, 9, 11, 1, 1, 12, 11, 1, 1, 1, 3, 5, 1, 3, 1, 1, 11, 8, 7, 1, 2, 10, 3, 10, 8, 4, 2, 1, 8, 4, 4, 15, 6, 1, 1, 33, 8, 1, 5, 14, 3, 2, 3, 1, 13, 8, 10, 2, 5, 4, 3, 1, 11, 19, 6, 4, 27, 3, 7, 4, 4, 8, 9, 10, 2, 3, 9, 3, 3, 2, 6, 6, 2, 3, 17, 16, 2, 13, 9, 13, 5, 8, 7, 1, 1, 9, 16, 1, 1, 8, 4, 1, 4, 1, 10, 5, 7, 23, 5, 1, 14, 10, 3, 17, 6, 1, 7, 2, 9, 8, 2, 1, 3, 9, 1, 9, 7, 3, 3, 10, 2, 7, 3, 5, 1, 2, 25, 9, 4, 9, 1, 5, 11, 3, 2, 11, 10, 3, 4, 6, 5, 6, 2, 1, 11, 21, 2, 2, 6, 5, 13, 11, 15, 9, 8, 3, 9, 9, 1, 6, 30, 6, 3, 13, 5, 1, 3, 13, 2, 10, 13, 22, 15, 2, 5, 4, 4, 1, 12, 6, 5, 3, 11, 12, 4, 4, 1, 4, 7, 5, 2, 1, 1, 5, 16, 5, 24, 10, 8, 2, 1, 3, 1, 5, 17, 3, 2, 13, 14, 4, 3, 4, 10, 4, 3, 2, 3, 30, 4, 28, 11, 6, 7, 3, 2, 17, 17, 1, 3, 2, 2, 22, 2, 1, 2, 1, 1, 4, 16, 11, 2, 4, 30, 8, 1, 10, 20, 2, 6, 9, 2, 1, 1, 4, 5, 8, 2, 9, 2, 1, 2, 4, 1, 4, 2, 4, 9, 4, 1, 2, 1, 7, 20, 1, 8, 31, 5, 3, 17, 3, 1, 6, 14, 1, 4, 7, 8, 1, 9, 3, 2, 14, 3, 5, 6, 23, 6, 1, 5, 2, 2, 3, 1, 3, 8, 4, 4, 1, 6, 8, 1, 2, 2, 10, 5, 12, 10, 6, 2, 3, 3, 3, 1, 2, 1, 3, 8, 5, 8, 1, 1, 3, 4, 8, 1, 17, 1, 1, 3, 4, 3, 8, 12, 1, 2, 5, 5, 1, 6, 3, 9, 11, 1, 2, 9, 2, 3, 3, 1, 7, 8, 12, 5, 1, 3, 7, 3, 11, 5, 4, 13, 21, 11, 6, 9, 4, 2, 17, 3, 1, 3, 2, 1, 7, 1, 3, 1, 11, 2, 11, 10, 5, 1, 7, 4, 2, 9, 24, 3, 3, 1, 9, 17, 2, 1, 5, 12, 2, 1, 2, 30, 16, 1, 1, 1, 3, 7, 11, 1, 10, 7, 1, 1, 26, 10, 5, 2, 15, 2, 1, 13, 25, 1, 7, 6, 2, 3, 5, 5, 1, 6, 8, 1, 5, 16, 10, 18, 2, 1, 12, 1, 1, 17, 1, 3, 3, 4, 3, 4, 6, 17, 1, 1, 6, 17, 2, 9, 9, 16, 1, 7, 12, 1, 1, 1, 8, 3, 2, 5, 3, 4, 19, 4, 2, 2, 9, 1, 8, 7, 10, 9, 1, 1, 14, 1, 3, 29, 15, 2, 6, 1, 2, 11, 2, 3, 2, 4, 2, 7, 9, 2, 2, 7, 24, 8, 1, 8, 14, 3, 11, 27, 5, 1, 7, 11, 1, 5, 2, 1, 1, 4, 3, 2, 12, 6, 1, 3, 3, 3, 3, 31, 5, 1, 3, 3, 5, 9, 3, 8, 3, 6, 1, 17, 5, 1, 2, 1, 5, 18, 9, 17, 3, 2, 9, 15, 2, 6, 5, 16, 4, 5, 9, 2, 19, 10, 1, 1, 11, 6, 4, 3, 9, 6, 10, 12, 4, 5, 1, 18, 5, 2, 9, 8, 8, 4, 18, 1, 3, 8, 1, 8, 4, 5, 2, 3, 31, 7, 3, 2, 4, 15, 2, 12, 5, 2, 8, 16, 9, 5, 11, 10, 1, 2, 7, 1, 5, 10, 5, 22, 5, 8, 13, 9, 7, 11, 6, 1, 4, 6, 16, 1, 3, 13, 13, 1, 1, 8, 4, 4, 9, 13, 2, 4, 3, 9, 7, 3, 4, 5, 1, 1, 1, 9, 17, 3, 1, 18, 8, 5, 2, 13, 6, 2, 3, 4, 9, 8, 1, 4, 2, 10, 8, 3, 7, 19, 1, 1, 5, 9, 4, 2, 5, 8, 1, 1, 9, 14, 1, 1, 5, 8, 8, 3, 7, 8, 5, 2, 24, 5, 4, 4, 2, 1, 2, 2, 5, 23, 6, 8, 2, 1, 6, 6, 2, 1, 19, 11, 3, 3, 9, 14, 5, 21, 3, 6, 17, 5, 2, 22, 6, 1, 2, 2, 9, 12, 6, 1, 4, 5, 3, 11, 10, 1, 1, 3, 2, 4, 7, 5, 4, 5, 3, 5, 3, 10, 4, 7, 20, 11, 13, 6, 1, 16, 6, 3, 3, 1, 3, 2, 30, 9, 5, 1, 7, 12, 9, 2, 3, 3, 1, 5, 8, 1, 17, 6, 4, 14, 17, 2, 2, 7, 4, 5, 9, 3, 1, 3, 1, 7, 11, 1, 1, 3, 2, 4, 5, 12, 2, 4, 19, 10, 2, 15, 1, 2, 20, 3, 1, 7, 22, 8, 2, 1, 11, 13, 1, 2, 4, 23, 6, 4, 4, 19, 2, 4, 9, 3, 5, 3, 9, 2, 5, 22, 6, 1, 7, 5, 2, 1, 16, 4, 3, 1, 6, 5, 2, 3, 5, 1, 6, 18, 12, 9, 5, 1, 1, 2, 1, 6, 1, 8, 9, 24, 3, 2, 2, 6, 5, 9, 2, 2, 2, 33, 2, 19, 11, 4, 1, 5, 19, 6, 9, 13, 11, 1, 10, 9, 4, 3, 5, 2, 1, 7, 25, 1, 1, 3, 2, 1, 4, 12, 9, 1, 1, 5, 3, 3, 4, 12, 34, 1, 4, 4, 2, 18, 2, 1, 4, 16, 7, 1, 3, 15, 13, 1, 2, 17, 14, 2, 1, 3, 5, 1, 2, 9, 1, 5, 6, 2, 4, 3, 2, 1, 12, 6, 1, 2, 3, 5, 2, 6, 10, 4, 7, 16, 4, 7, 8, 1, 3, 25, 1, 4, 4, 1, 3, 2, 8, 5, 1, 2, 23, 7, 1, 1, 14, 1, 1, 13, 10, 11, 6, 2, 9, 1, 1, 10, 6, 2, 14, 1, 6, 19, 1, 19, 7, 2, 6, 7, 5, 1, 13, 10, 2, 1, 6, 9, 4, 34, 2, 1, 17, 7, 2, 4, 4, 1, 1, 15, 13, 1, 3, 23, 11, 2, 13, 5, 2, 7, 12, 3, 2, 9, 3, 8, 8, 2, 12, 7, 1, 3, 11, 3, 8, 6, 1, 6, 10, 1, 1, 9, 8, 3, 2, 7, 9, 3, 2, 2, 2, 2, 3, 3, 5, 7, 9, 1, 12, 8, 3, 6, 2, 9, 11, 15, 5, 15, 1, 1, 28, 9, 7, 8, 25, 1, 1, 13, 26, 5, 1, 7, 4, 4, 19, 1, 2, 10, 17, 8, 27, 7, 3, 2, 5, 10, 3, 1, 3, 3, 3, 8, 11, 8, 3, 1, 4, 6, 1, 1, 3, 1, 22, 12, 5, 2, 21, 7, 2, 1, 8, 25, 2, 16, 5, 1, 5, 7, 5, 1, 14, 10, 2, 9, 3, 1, 2, 4, 17, 1, 5, 5, 4, 1, 7, 4, 8, 6, 17, 5, 2, 10, 11, 1, 8, 11, 1, 3, 17, 1, 13, 2, 9, 23, 3, 4, 5, 15, 18, 8, 1, 9, 12, 2, 3, 4, 1, 4, 6, 6, 15, 8, 1, 2, 2, 5, 1, 5, 16, 5, 2, 2, 6, 1, 3, 17, 14, 1, 1, 2, 4, 2, 1, 2, 6, 10, 2, 1, 9, 10, 6, 1, 3, 3, 2, 3, 1, 12, 5, 2, 1, 6, 1, 2, 5, 9, 3, 2, 9, 5, 1, 1, 2, 1, 16, 2, 5, 5, 1, 3, 7, 9, 4, 8, 5, 1, 8, 2, 3, 6, 7, 2, 1, 2, 6, 4, 6, 1, 2, 1, 9, 11, 1, 4, 7, 6, 5, 6, 1, 18, 6, 4, 13, 1, 1, 13, 1, 30, 11, 4, 7, 26, 3, 19, 8, 9, 1, 4, 6, 1, 2, 2, 2, 1, 4, 14, 4, 2, 1, 6, 3, 1, 3, 3, 2, 4, 18, 4, 4, 3, 2, 4, 6, 1, 6, 6, 2, 5, 4, 24, 1, 2, 1, 6, 8, 1, 2, 5, 1, 12, 7, 2, 10, 20, 9, 1, 2, 2, 26, 8, 6, 25, 8, 1, 2, 17, 2, 17, 1, 7, 8, 4, 3, 28, 1, 1, 5, 11, 9, 8, 14, 10, 29, 3, 11, 9, 5, 5, 11, 6, 9, 11, 2, 4, 8, 1, 3, 11, 5, 7, 5, 12, 4, 1, 3, 1, 10, 17, 3, 1, 3, 2, 6, 9, 1, 2, 2, 7, 3, 13, 20, 11, 3, 4, 13, 20, 2, 1, 1, 11, 1, 4, 1, 1, 17, 2, 29, 3, 3, 10, 10, 1, 3, 7, 3, 7, 8, 5, 8, 6, 18, 3, 2, 3, 6, 10, 10, 1, 6, 5, 4, 10, 6, 2, 4, 25, 2, 14, 18, 3, 6, 16, 3, 6, 4, 1, 37, 3, 2, 2, 1, 3, 1, 8, 4, 2, 6, 7, 5, 1, 1, 9, 11, 2, 28, 13, 1, 2, 10, 3, 1, 3, 14, 1, 11, 3, 4, 4, 8, 1, 2, 1, 8, 15, 3, 10, 4, 1, 7, 7, 1, 5, 3, 5, 4, 1, 4, 5, 1, 8, 1, 15, 11, 1, 5, 28, 19, 1, 5, 6, 5, 8, 2, 1, 16, 16, 1, 1, 13, 5, 1, 11, 5, 3, 6, 13, 9, 2, 5, 18, 16, 3, 1, 1, 3, 7, 3, 1, 7, 12, 3, 9, 12, 5, 4, 6, 10, 1, 6, 28, 9, 1, 3, 7, 4, 1, 13, 10, 7, 2, 1, 16, 5, 1, 5, 5, 1, 1, 7, 6, 13, 8, 3, 3, 5, 1, 6, 16, 4, 1, 19, 5, 2, 12, 7, 1, 1, 4, 5, 1, 1, 6, 1, 8, 4, 2, 10, 3, 1, 3, 5, 3, 10, 22, 1, 1, 4, 6, 5, 1, 2, 5, 14, 2, 6, 4, 5, 8, 26, 1, 6, 21, 1, 5, 5, 1, 4, 5, 1, 1, 5, 5, 13, 4, 9, 11, 8, 1, 2, 10, 2, 1, 5, 3, 2, 3, 8, 2, 8, 6, 9, 7, 4, 9, 3, 5, 21, 1, 14, 6, 3, 1, 1, 6, 6, 4, 1, 4, 9, 6, 12, 3, 4, 9, 4, 1, 3, 13, 4, 1, 4, 5, 2, 5, 6, 2, 9, 5, 1, 14, 6, 1, 5, 3, 7, 1, 4, 1, 5, 17, 6, 3, 18, 2, 9, 2, 4, 2, 25, 6, 2, 6, 1, 1, 5, 1, 4, 10, 7, 2, 7, 15, 9, 3, 4, 21, 4, 5, 4, 5, 2, 1, 1, 6, 4, 3, 1, 3, 3, 6, 10, 3, 3, 1, 2, 17, 7, 3, 22, 1, 5, 14, 1, 1, 3, 5, 2, 6, 9, 9, 1, 2, 3, 13, 7, 7, 8, 1, 3, 6, 1, 5, 6, 6, 1, 14, 6, 6, 4, 1, 14, 17, 4, 2, 8, 8, 1, 18, 13, 2, 4, 3, 6, 10, 10, 7, 7, 14, 1, 9, 7, 3, 5, 18, 19, 1, 4, 10, 13, 5, 1, 13, 8, 3, 8, 6, 8, 21, 1, 1, 4, 10, 7, 2, 15, 9, 1, 3, 8, 16, 4, 10, 3, 4, 2, 6, 5, 2, 4, 12, 6, 6, 4, 1, 5, 5, 6, 1, 9, 13, 2, 1, 4, 3, 3, 1, 17, 16, 4, 10, 2, 5, 3, 3, 10, 4, 2, 1, 4, 8, 2, 3, 18, 14, 1, 9, 21, 4, 6, 10, 8, 3, 1, 8, 5, 2, 9, 1, 1, 2, 5, 16, 5, 1, 3, 2, 5, 6, 2, 10, 15, 2, 3, 18, 7, 4, 2, 7, 10, 4, 3, 1, 8, 4, 3, 3, 2, 3, 1, 3, 6, 13, 1, 3, 14, 11, 1, 4, 15, 4, 3, 3, 5, 12, 9, 2, 12, 14, 1, 1, 3, 1, 11, 14, 2, 3, 6, 7, 1, 5, 18, 4, 16, 19, 2, 4, 15, 1, 1, 12, 10, 3, 2, 21, 12, 3, 3, 1, 13, 10, 7, 14, 4, 1, 9, 8, 10, 16, 2, 2, 3, 8, 8, 4, 3, 2, 5, 10, 4, 6, 8, 1, 1, 4, 8, 2, 3, 8, 2, 5, 4, 19, 1, 2, 13, 4, 18, 7, 3, 3, 10, 7, 2, 3, 9, 6, 3, 12, 10, 6, 2, 3, 14, 3, 4, 4, 20, 2, 1, 8, 3, 7, 5, 7, 5, 1, 3, 9, 7, 2, 13, 7, 2, 6, 6, 5, 9, 2, 9, 7, 6, 4, 4, 13, 7, 4, 8, 6, 8, 8, 12, 7, 1, 2, 2, 1, 3, 6, 1, 1, 11, 11, 3, 12, 14, 2, 4, 8, 5, 7, 2, 1, 3, 11, 1, 24, 10, 6, 8, 3, 3, 2, 1, 10, 11, 2, 4, 1, 2, 4, 15, 5, 5, 3, 1, 1, 1, 1, 5, 1, 19, 9, 1, 7, 1, 11, 9, 15, 1, 6, 33, 8, 1, 24, 8, 4, 11, 12, 4, 1, 9, 2, 4, 4, 1, 18, 5, 11, 5, 1, 2, 3, 2, 11, 28, 1, 12, 2, 12, 5, 1, 6, 14, 1, 7, 9, 3, 1, 11, 13, 2, 11, 15, 5, 2, 4, 5, 2, 13, 9, 1, 3, 11, 19, 1, 1, 12, 3, 8, 27, 4, 1, 2, 10, 10, 3, 1, 8, 18, 10, 3, 8, 12, 1, 1, 10, 2, 1, 1, 4, 9, 2, 1, 17, 6, 2, 6, 1, 3, 2, 5, 2, 10, 16, 4, 1, 9, 13, 3, 1, 8, 8, 1, 10, 6, 4, 1, 3, 8, 12, 1, 2, 6, 3, 1, 3, 11, 4, 5, 25, 11, 2, 8, 14, 1, 5, 9, 1, 2, 8, 1, 7, 2, 5, 3, 5, 6, 1, 3, 16, 2, 3, 1, 3, 6, 14, 2, 10, 16, 1, 4, 2, 2, 3, 8, 7, 3, 6, 8, 1, 1, 6, 1, 2, 13, 13, 3, 2, 17, 13, 2, 2, 8, 4, 9, 10, 3, 13, 5, 2, 6, 14, 7, 1, 7, 11, 1, 4, 15, 13, 3, 4, 15, 9, 5, 14, 3, 18, 8, 4, 10, 15, 9, 1, 6, 8, 4, 9, 5, 11, 1, 5, 4, 4, 8, 29, 1, 3, 1, 4, 4, 19, 15, 1, 6, 1, 4, 10, 10, 5, 2, 4, 1, 8, 7, 20, 1, 3, 4, 15, 4, 6, 3, 5, 3, 2, 1, 5, 8, 1, 2, 5, 18, 7, 1, 7, 3, 8, 12, 6, 4, 5, 1, 3, 6, 1, 4, 13, 3, 9, 4, 8, 1, 5, 8, 2, 3, 2, 8, 4, 3, 31, 15, 2, 2, 18, 10, 3, 3, 1, 3, 4, 2, 2, 13, 1, 14, 4, 1, 2, 3, 2, 1, 1, 8, 2, 1, 12, 2, 8, 6, 4, 10, 3, 3, 13, 8, 2, 6, 8, 9, 7, 6, 2, 2, 27, 5, 2, 8, 6, 12, 2, 8, 5, 3, 2, 5, 3, 1, 9, 7, 3, 1, 3, 5, 2, 3, 2, 17, 9, 6, 2, 5, 23, 10, 1, 1, 11, 12, 2, 1, 5, 1, 4, 3, 4, 5, 5, 3, 2, 4, 1, 12, 4, 19, 1, 1, 1, 7, 7, 8, 10, 2, 1, 4, 7, 22, 2, 6, 5, 4, 4, 12, 6, 16, 4, 3, 9, 10, 4, 1, 1, 2, 16, 3, 1, 1, 2, 8, 3, 9, 5, 9, 1, 4, 15, 1, 3, 5, 7, 1, 14, 1, 5, 4, 2, 3, 12, 12, 1, 2, 1, 12, 9, 5, 7, 8, 4, 5, 7, 8, 1, 7, 8, 7, 16, 11, 5, 6, 5, 4, 4, 10, 1, 3, 9, 11, 2, 2, 2, 6, 8, 4, 1, 7, 1, 9, 11, 2, 1, 1, 9, 9, 4, 2, 6, 2, 2, 5, 1, 1, 8, 2, 2, 5, 24, 6, 2, 6, 4, 3, 1, 19, 13, 2, 1, 1, 12, 8, 5, 2, 2, 8, 8, 2, 2, 6, 7, 1, 25, 2, 3, 6, 2, 2, 6, 22, 15, 4, 9, 13, 5, 3, 6, 3, 14, 7, 2, 3, 6, 5, 1, 2, 2, 2, 9, 2, 17, 7, 2, 2, 8, 1, 3, 3, 14, 5, 1, 3, 2, 1, 14, 5, 8, 2, 2, 2, 6, 4, 3, 4, 5, 1, 5, 5, 1, 1, 1, 11, 3, 2, 17, 7, 2, 1, 3, 8, 5, 25, 12, 2, 4, 5, 9, 2, 2, 9, 9, 18, 2, 1, 5, 1, 6, 1, 2, 5, 2, 3, 9, 2, 1, 7, 19, 4, 2, 1, 7, 5, 17, 1, 1, 6, 1, 1, 8, 1, 2, 8, 4, 1, 3, 3, 2, 2, 5, 1, 4, 24, 8, 3, 4, 1, 4, 6, 9, 8, 7, 14, 3, 4, 6, 8, 2, 1, 1, 1, 10, 15, 3, 11, 6, 6, 3, 3, 7, 7, 3, 3, 2, 7, 2, 15, 14, 4, 9, 24, 1, 15, 6, 3, 2, 13, 12, 1, 4, 5, 4, 4, 14, 2, 9, 5, 1, 23, 3, 4, 11, 6, 2, 3, 11, 5, 4, 8, 6, 11, 1, 3, 4, 13, 3, 8, 7, 3, 4, 5, 2, 1, 5, 18, 6, 1, 1, 6, 9, 1, 15, 4, 10, 14, 12, 5, 8, 3, 2, 6, 8, 2, 11, 3, 2, 8, 8, 2, 2, 6, 2, 8, 1, 2, 4, 6, 1, 12, 8, 1, 5, 18, 4, 1, 2, 7, 1, 4, 4, 12, 4, 5, 4, 3, 6, 10, 1, 3, 3, 10, 2, 2, 11, 15, 1, 3, 6, 4, 8, 3, 2, 8, 5, 1, 6, 9, 2, 1, 12, 18, 2, 1, 2, 1, 1, 2, 5, 14, 3, 5, 10, 3, 27, 13, 1, 22, 2, 8, 11, 1, 3, 7, 3, 2, 5, 2, 7, 11, 6, 3, 10, 18, 3, 7, 1, 10, 2, 1, 14, 1, 5, 3, 1, 8, 5, 14, 2, 6, 1, 8, 15, 8, 2, 15, 1, 1, 1, 1, 11, 21, 7, 5, 17, 7, 5, 3, 10, 1, 4, 13, 2, 3, 2, 3, 5, 20, 5, 19, 2, 4, 1, 1, 12, 5, 5, 5, 1, 1, 11, 4, 16, 9, 1, 9, 10, 13, 1, 1, 7, 15, 12, 7, 8, 5, 7, 9, 4, 5, 3, 1, 3, 5, 1, 1, 10, 13, 3, 1, 8, 10, 7, 4, 4, 9, 3, 2, 1, 2, 9, 13, 1, 9, 8, 3, 15, 9, 3, 1, 2, 7, 6, 1, 2, 6, 4, 3, 8, 6, 8, 1, 3, 8, 20, 1, 6, 12, 1, 1, 11, 12, 14, 7, 3, 1, 11, 21, 2, 6, 6, 4, 1, 4, 5, 17, 3, 10, 9, 3, 14, 8, 1, 5, 1, 1, 5, 12, 1, 1, 11, 13, 2, 4, 4, 4, 8, 6, 1, 2, 5, 10, 4, 3, 9, 1, 4, 6, 6, 10, 3, 3, 2, 5, 20, 2, 1, 7, 8, 5, 3, 8, 19, 3, 4, 5, 8, 1, 1, 7, 11, 12, 7, 5, 1, 3, 4, 7, 1, 1, 5, 7, 1, 4, 12, 10, 4, 2, 1, 3, 1, 7, 1, 2, 5, 1, 1, 8, 11, 1, 6, 6, 3, 5, 2, 8, 6, 22, 6, 2, 2, 2, 1, 5, 2, 6, 23, 6, 15, 3, 1, 2, 1, 1, 16, 1, 3, 2, 17, 23, 3, 6, 18, 9, 24, 13, 2, 2, 7, 8, 1, 1, 12, 19, 7, 1, 17, 13, 5, 2, 27, 15, 1, 1, 19, 1, 2, 1, 1, 8, 14, 1, 3, 9, 1, 4, 3, 1, 3, 11, 4, 3, 15, 3, 1, 1, 3, 1, 4, 5, 3, 11, 4, 3, 8, 16, 7, 1, 18, 10, 3, 3, 1, 1, 2, 1, 10, 6, 4, 1, 1, 8, 21, 1, 5, 4, 4, 1, 3, 16, 6, 1, 4, 15, 2, 12, 5, 5, 3, 13, 1, 4, 24, 6, 1, 1, 8, 11, 6, 1, 8, 3, 3, 2, 4, 7, 6, 7, 1, 1, 7, 15, 2, 2, 1, 22, 2, 2, 10, 3, 7, 4, 10, 1, 6, 8, 1, 3, 10, 8, 6, 4, 13, 6, 1, 3, 13, 1, 17, 9, 4, 6, 11, 1, 10, 3, 4, 3, 20, 13, 7, 2, 7, 12, 8, 3, 1, 7, 2, 8, 8, 2, 3, 12, 3, 3, 1, 10, 11, 3, 8, 9, 6, 2, 2, 4, 1, 1, 3, 8, 2, 4, 2, 6, 7, 1, 2, 8, 3, 2, 4, 7, 1, 5, 12, 4, 1, 2, 20, 6, 3, 4, 1, 7, 2, 5, 4, 7, 3, 2, 2, 1, 3, 6, 6, 1, 1, 2, 4, 1, 6, 6, 6, 4, 8, 10, 7, 2, 12, 21, 1, 7, 13, 3, 2, 19, 1, 1, 5, 14, 3, 19, 4, 1, 3, 11, 1, 2, 4, 7, 3, 8, 6, 6, 9, 6, 1, 1, 20, 7, 1, 28, 3, 1, 15, 7, 6, 7, 7, 1, 3, 23, 14, 2, 3, 21, 2, 10, 8, 12, 2, 14, 8, 2, 3, 4, 2, 1, 1, 3, 8, 11, 2, 1, 6, 5, 1, 14, 5, 1, 7, 4, 3, 10, 5, 3, 3, 17, 9, 2, 18, 7, 3, 8, 7, 6, 2, 14, 1, 2, 5, 5, 11, 1, 1, 4, 3, 1, 9, 7, 3, 29, 9, 1, 2, 19, 1, 10, 4, 6, 3, 1, 13, 4, 4, 6, 6, 6, 2, 13, 7, 2, 1, 4, 3, 8, 9, 1, 14, 13, 1, 1, 11, 4, 1, 2, 2, 13, 11, 2, 1, 5, 5, 6, 1, 4, 7, 3, 2, 11, 17, 8, 4, 2, 1, 4, 3, 3, 7, 7, 2, 6, 5, 7, 1, 7, 21, 1, 6, 13, 2, 4, 7, 3, 1, 1, 3, 2, 11, 7, 2, 8, 4, 4, 22, 8, 2, 6, 13, 2, 8, 10, 2, 2, 10, 16, 1, 1, 6, 3, 4, 1, 6, 10, 2, 1, 3, 10, 3, 2, 13, 13, 5, 3, 6, 4, 3, 5, 10, 3, 5, 8, 24, 5, 5, 6, 2, 11, 20, 8, 1, 14, 12, 3, 15, 9, 1, 4, 6, 6, 17, 1, 1, 9, 3, 1, 2, 3, 3, 8, 2, 2, 5, 19, 10, 1, 17, 3, 1, 5, 13, 5, 3, 2, 5, 2, 16, 4, 1, 3, 21, 5, 4, 11, 3, 7, 2, 2, 6, 1, 15, 6, 4, 11, 3, 2, 18, 1, 1, 4, 5, 7, 1, 3, 16, 7, 1, 1, 20, 9, 1, 2, 3, 14, 6, 2, 7, 13, 1, 1, 3, 5, 1, 1, 4, 7, 2, 2, 1, 2, 5, 6, 7, 8, 3, 1, 2, 3, 1, 4, 22, 8, 2, 9, 9, 2, 7, 4, 5, 5, 1, 1, 1, 1, 2, 9, 7, 8, 6, 1, 8, 13, 1, 2, 4, 4, 4, 7, 7, 1, 2, 12, 22, 1, 1, 7, 9, 9, 7, 15, 31, 7, 9, 9, 1, 1, 1, 5, 5, 9, 11, 10, 4, 3, 4, 7, 1, 14, 14, 3, 3, 8, 7, 1, 4, 2, 2, 12, 7, 9, 3, 2, 24, 2, 4, 17, 5, 3, 11, 8, 5, 9, 2, 1, 9, 2, 3, 9, 1, 4, 4, 4, 7, 13, 1, 6, 7, 1, 1, 12, 4, 10, 8, 2, 5, 10, 3, 2, 7, 1, 12, 20, 1, 1, 8, 14, 15, 4, 2, 6, 12, 2, 2, 7, 19, 5, 2, 5, 10, 1, 4, 2, 10, 9, 1, 5, 12, 9, 6, 9, 12, 1, 7, 7, 5, 1, 11, 21, 9, 8, 12, 5, 3, 11, 11, 2, 2, 3, 4, 11, 1, 4, 1, 2, 4, 1, 5, 16, 13, 3, 7, 3, 2, 4, 5, 1, 15, 3, 5, 5, 5, 1, 3, 8, 17, 3, 11, 20, 7, 2, 2, 5, 1, 4, 1, 9, 4, 1, 2, 13, 12, 5, 21, 1, 12, 5, 9, 13, 10, 1, 10, 5, 6, 5, 1, 2, 17, 4, 3, 3, 11, 4, 15, 2, 3, 3, 2, 1, 6, 4, 3, 2, 5, 2, 6, 14, 1, 11, 3, 1, 2, 3, 16, 10, 1, 3, 22, 6, 4, 4, 5, 4, 5, 2, 11, 6, 1, 4, 9, 1, 1, 9, 2, 6, 14, 5, 5, 1, 4, 2, 5, 1, 1, 1, 3, 2, 2, 2, 2, 5, 14, 2, 2, 17, 11, 1, 1, 26, 7, 1, 18, 9, 3, 1, 9, 16, 1, 1, 7, 12, 2, 5, 18, 1, 7, 4, 5, 2, 3, 11, 11, 1, 1, 34, 10, 2, 2, 6, 9, 3, 2, 10, 15, 5, 2, 3, 12, 4, 4, 3, 1, 8, 3, 8, 1, 11, 9, 8, 1, 3, 2, 10, 5, 4, 3, 3, 2, 1, 2, 9, 10, 9, 4, 7, 11, 1, 10, 5, 10, 1, 8, 7, 1, 1, 1, 7, 1, 1, 6, 2, 1, 2, 14, 2, 10, 15, 3, 9, 2, 1, 4, 16, 5, 2, 5, 4, 8, 1, 8, 1, 7, 12, 3, 2, 13, 15, 6, 4, 8, 8, 5, 9, 19, 3, 3, 4, 3, 2, 4, 17, 17, 3, 2, 3, 1, 1, 2, 5, 1, 2, 1, 5, 4, 9, 5, 1, 7, 10, 3, 1, 6, 6, 2, 19, 3, 1, 13, 3, 4, 5, 9, 15, 3, 4, 13, 7, 3, 1, 2, 11, 8, 4, 1, 2, 18, 5, 2, 14, 12, 5, 1, 3, 6, 8, 8, 4, 5, 2, 9, 5, 11, 6, 17, 8, 13, 11, 10, 3, 1, 1, 4, 6, 3, 2, 7, 2, 1, 7, 3, 1, 5, 6, 1, 8, 8, 2, 4, 2, 2, 3, 16, 5, 2, 8, 14, 2, 1, 11, 2, 6, 4, 4, 1, 8, 7, 3, 3, 7, 28, 2, 1, 1, 5, 6, 4, 6, 2, 9, 1, 3, 9, 6, 1, 1, 11, 2, 3, 12, 6, 6, 3, 1, 4, 11, 4, 1, 3, 9, 3, 6, 7, 2, 2, 1, 1, 2, 6, 1, 1, 1, 4, 1, 3, 12, 11, 1, 1, 8, 21, 3, 1, 6, 2, 2, 2, 10, 10, 6, 16, 5, 1, 7, 5, 14, 1, 1, 7, 3, 2, 6, 2, 2, 10, 11, 2, 3, 25, 14, 1, 4, 13, 1, 24, 12, 2, 11, 11, 1, 9, 5, 4, 2, 4, 16, 2, 1, 4, 4, 7, 8, 4, 5, 1, 4, 7, 6, 1, 4, 16, 1, 8, 6, 7, 4, 12, 3, 2, 6, 14, 2, 3, 22, 4, 1, 23, 2, 12, 20, 2, 1, 9, 4, 4, 5, 10, 2, 1, 5, 7, 8, 2, 3, 16, 8, 3, 1, 5, 2, 1, 16, 13, 4, 7, 6, 4, 18, 8, 1, 1, 1, 1, 4, 21, 7, 10, 1, 21, 4, 5, 4, 16, 1, 4, 3, 12, 6, 3, 8, 8, 2, 3, 8, 8, 1, 9, 12, 1, 5, 13, 5, 7, 6, 3, 3, 4, 11, 4, 10, 5, 1, 1, 15, 8, 2, 3, 4, 6, 12, 2, 1, 6, 5, 4, 1, 21, 4, 8, 7, 8, 10, 3, 2, 3, 15, 7, 3, 16, 5, 1, 12, 11, 1, 3, 5, 27, 12, 8, 14, 3, 1, 1, 2, 10, 3, 2, 6, 1, 2, 9, 1, 12, 12, 6, 2, 9, 5, 4, 5, 9, 17, 8, 3, 10, 9, 11, 4, 5, 4, 3, 1, 4, 1, 4, 5, 1, 6, 4, 7, 2, 4, 2, 9, 1, 9, 12, 1, 3, 3, 4, 3, 2, 2, 3, 25, 6, 6, 3, 9, 1, 8, 11, 1, 35, 10, 3, 6, 21, 5, 1, 5, 3, 4, 2, 4, 10, 5, 10, 7, 3, 1, 7, 16, 9, 4, 3, 9, 4, 1, 5, 3, 2, 2, 2, 1, 2, 7, 16, 4, 27, 6, 2, 5, 3, 8, 14, 15, 1, 12, 6, 1, 12, 3, 3, 6, 2, 7, 5, 5, 3, 2, 12, 26, 3, 12, 4, 15, 23, 3, 5, 9, 1, 1, 2, 4, 1, 1, 5, 18, 2, 1, 9, 8, 1, 1, 7, 1, 6, 9, 2, 1, 4, 4, 2, 1, 9, 7, 3, 1, 11, 6, 1, 12, 1, 3, 10, 2, 1, 2, 4, 5, 1, 5, 17, 1, 2, 1, 2, 1, 3, 10, 1, 3, 5, 4, 7, 3, 4, 3, 6, 1, 4, 3, 5, 2, 5, 14, 2, 6, 5, 2, 24, 12, 9, 2, 3, 1, 9, 7, 1, 3, 13, 2, 1, 2, 4, 4, 2, 5, 39, 2, 3, 1, 4, 3, 9, 2, 2, 6, 17, 2, 2, 5, 16, 7, 1, 2, 4, 6, 5, 3, 23, 1, 4, 3, 5, 3, 1, 10, 8, 3, 8, 3, 12, 7, 2, 3, 4, 2, 4, 1, 2, 6, 1, 6, 18, 6, 1, 1, 7, 11, 12, 1, 4, 3, 5, 11, 4, 2, 25, 10, 5, 7, 6, 3, 1, 6, 4, 7, 4, 1, 1, 7, 9, 4, 1, 3, 15, 1, 3, 1, 6, 7, 3, 3, 5, 3, 1, 20, 15, 4, 2, 2, 1, 5, 16, 3, 1, 7, 7, 2, 1, 2, 7, 1, 15, 15, 3, 2, 2, 3, 1, 5, 2, 7, 5, 2, 3, 5, 6, 7, 6, 1, 1, 8, 5, 9, 14, 5, 1, 6, 6, 2, 7, 1, 3, 11, 17, 1, 11, 8, 2, 2, 19, 5, 8, 1, 6, 4, 3, 7, 1, 2, 5, 9, 25, 3, 2, 6, 2, 5, 10, 2, 4, 18, 2, 4, 11, 13, 2, 14, 3, 1, 7, 2, 10, 5, 3, 7, 11, 4, 3, 12, 1, 2, 6, 6, 3, 11, 17, 3, 4, 7, 2, 6, 10, 2, 2, 7, 11, 13, 5, 1, 1, 15, 10, 6, 1, 13, 12, 2, 1, 6, 5, 1, 1, 5, 4, 13, 1, 6, 2, 5, 4, 7, 4, 11, 1, 16, 7, 4, 9, 2, 3, 16, 9, 1, 10, 6, 4, 8, 7, 5, 11, 7, 5, 2, 4, 6, 2, 1, 4, 5, 12, 10, 19, 4, 1, 2, 1, 7, 12, 5, 1, 1, 12, 6, 1, 3, 14, 8, 2, 10, 10, 3, 4, 4, 1, 10, 18, 2, 1, 10, 14, 5, 1, 8, 5, 7, 14, 6, 9, 6, 1, 5, 13, 7, 7, 12, 8, 2, 17, 12, 4, 4, 2, 9, 11, 1, 5, 8, 1, 2, 7, 3, 2, 9, 7, 1, 2, 3, 3, 23, 2, 2, 2, 2, 4, 1, 15, 2, 5, 4, 4, 17, 25, 2, 2, 5, 10, 2, 7, 9, 5, 2, 14, 7, 5, 1, 1, 2, 2, 6, 8, 1, 3, 7, 10, 5, 7, 6, 2, 6, 5, 3, 8, 2, 2, 7, 3, 9, 7, 5, 3, 6, 11, 5, 3, 4, 3, 2, 2, 3, 9, 2, 14, 8, 1, 8, 3, 4, 11, 6, 14, 3, 1, 6, 3, 1, 1, 5, 6, 1, 13, 11, 2, 3, 16, 1, 13, 5, 1, 11, 1, 1, 4, 10, 2, 15, 15, 3, 2, 1, 10, 10, 6, 10, 1, 1, 8, 12, 6, 2, 6, 7, 25, 1, 3, 1, 5, 3, 2, 7, 2, 14, 3, 3, 3, 3, 4, 2, 2, 2, 16, 5, 1, 8, 23, 1, 2, 14, 9, 1, 2, 3, 8, 1, 4, 7, 1, 4, 3, 1, 17, 15, 4, 1, 7, 5, 2, 8, 1, 5, 6, 4, 2, 6, 2, 3, 7, 1, 7, 4, 3, 1, 15, 7, 7, 7, 2, 2, 10, 12, 2, 8, 7, 6, 3, 6, 5, 11, 5, 1, 5, 4, 8, 1, 1, 6, 12, 1, 1, 1, 4, 7, 10, 10, 5, 4, 5, 1, 1, 8, 5, 4, 10, 3, 6, 2, 2, 2, 4, 1, 7, 7, 2, 1, 12, 2, 2, 5, 3, 4, 9, 2, 2, 3, 6, 2, 1, 24, 8, 1, 11, 5, 2, 8, 19, 1, 1, 8, 4, 2, 3, 10, 3, 1, 2, 8, 3, 1, 16, 2, 3, 13, 4, 2, 4, 3, 11, 1, 1, 5, 2, 2, 1, 6, 15, 5, 2, 6, 2, 1, 3, 1, 2, 9, 7, 7, 2, 4, 2, 6, 20, 3, 18, 5, 6, 10, 6, 18, 4, 3, 2, 5, 8, 1, 1, 7, 13, 2, 1, 2, 9, 5, 1, 10, 2, 3, 1, 1, 1, 2, 15, 7, 1, 1, 3, 7, 30, 5, 1, 2, 3, 5, 13, 8, 1, 1, 7, 8, 5, 3, 9, 2, 2, 2, 2, 8, 2, 9, 11, 5, 4, 15, 2, 1, 6, 7, 3, 7, 1, 3, 9, 20, 6, 1, 19, 7, 4, 4, 3, 11, 1, 3, 16, 10, 1, 21, 19, 1, 17, 8, 2, 15, 7, 1, 4, 10, 5, 2, 8, 11, 2, 2, 1, 8, 5, 1, 2, 2, 2, 1, 9, 11, 2, 1, 2, 3, 2, 4, 2, 1, 4, 16, 6, 7, 3, 1, 2, 1, 1, 7, 5, 8, 1, 9, 20, 5, 5, 8, 5, 1, 2, 14, 9, 16, 9, 2, 6, 8, 4, 3, 3, 8, 5, 10, 4, 3, 20, 4, 3, 4, 15, 7, 1, 9, 10, 2, 6, 14, 1, 6, 9, 4, 4, 5, 2, 4, 3, 4, 1, 1, 4, 7, 2, 6, 5, 7, 1, 8, 1, 1, 9, 4, 2, 4, 5, 13, 4, 2, 2, 5, 7, 2, 7, 10, 11, 4, 7, 6, 1, 8, 9, 11, 1, 5, 17, 1, 12, 10, 2, 1, 6, 14, 9, 3, 1, 5, 1, 1, 1, 5, 2, 1, 3, 9, 2, 16, 7, 1, 3, 3, 8, 3, 1, 9, 7, 4, 2, 7, 8, 2, 8, 13, 4, 2, 7, 11, 7, 1, 6, 7, 4, 1, 2, 3, 19, 8, 5, 3, 3, 6, 5, 17, 2, 7, 4, 1, 9, 19, 4, 3, 4, 7, 5, 8, 2, 5, 11, 1, 8, 4, 2, 5, 1, 1, 7, 7, 4, 4, 3, 2, 3, 4, 9, 13, 2, 3, 15, 2, 1, 2, 6, 4, 1, 7, 10, 1, 3, 8, 19, 2, 7, 2, 1, 1, 1, 3, 6, 16, 1, 11, 8, 3, 2, 17, 10, 2, 1, 4, 1, 8, 12, 7, 9, 3, 1, 3, 5, 2, 13, 1, 3, 29, 15, 1, 2, 2, 1, 2, 2, 6, 19, 5, 17, 6, 1, 2, 2, 3, 9, 6, 4, 3, 18, 9, 6, 1, 1, 3, 1, 9, 5, 2, 15, 6, 7, 11, 4, 1, 4, 3, 1, 6, 17, 1, 1, 12, 1, 3, 25, 6, 2, 15, 14, 2, 1, 2, 5, 5, 10, 5, 1, 3, 16, 11, 1, 9, 2, 2, 1, 2, 19, 1, 5, 5, 3, 2, 3, 5, 5, 5, 8, 3, 5, 3, 10, 1, 1, 2, 22, 3, 4, 6, 8, 1, 3, 15, 1, 1, 2, 12, 4, 1, 4, 1, 1, 1, 8, 13, 11, 9, 4, 5, 8, 3, 3, 1, 4, 17, 13, 2, 2, 4, 2, 5, 14, 1, 5, 4, 1, 2, 4, 3, 4, 1, 1, 1, 1, 4, 10, 6, 1, 3, 1, 1, 3, 7, 6, 6, 4, 2, 1, 2, 5, 3, 4, 3, 3, 8, 14, 2, 1, 6, 10, 3, 3, 6, 21, 3, 3, 2, 1, 1, 1, 11, 13, 5, 2, 18, 5, 13, 14, 6, 1, 9, 8, 8, 1, 8, 4, 4, 6, 10, 4, 4, 3, 3, 14, 3, 1, 15, 6, 1, 3, 11, 14, 1, 1, 6, 9, 1, 3, 7, 1, 6, 4, 1, 2, 4, 9, 1, 3, 2, 1, 2, 5, 4, 2, 1, 1, 1, 1, 2, 2, 5, 1, 4, 15, 4, 4, 6, 6, 6, 4, 5, 1, 3, 20, 8, 2, 4, 2, 2, 11, 2, 5, 5, 1, 1, 3, 4, 7, 10, 6, 2, 7, 8, 3, 6, 6, 2, 3, 10, 1, 8, 21, 3, 3, 3, 3, 5, 20, 5, 2, 3, 9, 3, 3, 7, 6, 3, 4, 1, 2, 3, 3, 8, 12, 1, 8, 5, 6, 11, 3, 1, 1, 7, 1, 2, 23, 5, 1, 4, 11, 3, 1, 17, 6, 4, 9, 5, 2, 6, 1, 4, 9, 6, 1, 10, 6, 2, 3, 2, 1, 2, 4, 8, 1, 4, 7, 5, 1, 3, 7, 9, 1, 1, 2, 2, 1, 4, 17, 1, 1, 4, 10, 3, 3, 11, 1, 11, 7, 7, 1, 6, 7, 1, 1, 29, 3, 3, 4, 3, 3, 6, 8, 2, 1, 3, 4, 3, 4, 5, 4, 5, 1, 2, 5, 3, 2, 4, 15, 4, 4, 5, 5, 11, 13, 3, 2, 11, 3, 1, 7, 10, 3, 7, 4, 4, 1, 2, 3, 2, 10, 5, 1, 7, 5, 4, 9, 6, 4, 2, 1, 5, 9, 4, 20, 2, 2, 3, 12, 3, 2, 6, 11, 1, 2, 6, 5, 2, 1, 7, 17, 1, 1, 11, 14, 4, 2, 2, 2, 8, 7, 4, 2, 1, 10, 7, 3, 2, 4, 9, 8, 2, 1, 2, 9, 6, 2, 5, 10, 6, 1, 1, 2, 5, 1, 5, 5, 7, 9, 9, 2, 5, 12, 5, 6, 7, 1, 1, 1, 7, 6, 1, 5, 7, 1, 7, 6, 2, 4, 3, 2, 20, 10, 1, 2, 6, 5, 9, 5, 2, 2, 16, 5, 2, 9, 12, 8, 2, 8, 17, 1, 1, 3, 6, 20, 8, 1, 8, 10, 13, 3, 3, 4, 27, 2, 4, 12, 3, 5, 1, 33, 5, 18, 5, 1, 4, 7, 4, 4, 10, 5, 7, 4, 6, 2, 7, 3, 7, 3, 5, 6, 1, 3, 6, 1, 6, 30, 11, 13, 18, 2, 1, 1, 5, 14, 2, 23, 8, 10, 5, 3, 8, 1, 1, 6, 8, 2, 12, 1, 28, 5, 5, 2, 9, 1, 5, 3, 1, 4, 16, 14, 4, 23, 15, 1, 3, 5, 4, 8, 7, 6, 7, 2, 1, 3, 10, 2, 10, 3, 4, 1, 1, 18, 5, 7, 2, 6, 9, 5, 8, 15, 1, 14, 12, 8, 3, 6, 3, 3, 2, 10, 5, 2, 1, 6, 19, 1, 1, 2, 4, 3, 6, 11, 13, 3, 8, 4, 4, 1, 8, 8, 1, 4, 4, 7, 1, 6, 17, 5, 4, 8, 2, 6, 8, 4, 1, 2, 3, 9, 4, 1, 4, 16, 3, 1, 3, 2, 1, 1, 6, 24, 8, 4, 6, 5, 7, 11, 8, 1, 3, 4, 2, 19, 2, 2, 10, 2, 12, 4, 4, 2, 6, 4, 1, 1, 1, 1, 14, 1, 8, 4, 3, 5, 7, 1, 11, 14, 7, 4, 10, 11, 7, 9, 1, 4, 4, 1, 3, 6, 11, 3, 1, 2, 3, 5, 5, 1, 2, 10, 6, 2, 2, 13, 7, 2, 10, 11, 1, 1, 1, 17, 12, 2, 2, 4, 1, 2, 8, 14, 1, 8, 2, 1, 20, 2, 12, 6, 1, 3, 9, 7, 1, 4, 3, 9, 20, 4, 1, 3, 16, 8, 2, 21, 6, 1, 14, 7, 1, 2, 5, 6, 9, 5, 10, 11, 1, 2, 3, 5, 8, 3, 5, 9, 4, 2, 14, 8, 5, 1, 11, 13, 1, 15, 9, 3, 7, 5, 8, 3, 10, 3, 3, 9, 1, 3, 6, 13, 2, 6, 15, 1, 8, 4, 1, 4, 6, 1, 4, 9, 4, 3, 1, 2, 12, 12, 23, 2, 2, 22, 10, 9, 13, 2, 2, 9, 6, 5, 3, 1, 5, 6, 3, 1, 2, 4, 3, 1, 11, 9, 3, 4, 13, 4, 2, 7, 3, 1, 1, 4, 4, 3, 3, 3, 2, 3, 7, 34, 8, 2, 8, 15, 1, 6, 2, 2, 3, 3, 10, 4, 2, 2, 5, 25, 6, 1, 1, 14, 7, 1, 4, 3, 2, 6, 17, 6, 1, 23, 7, 4, 15, 9, 11, 2, 3, 8, 2, 1, 2, 3, 1, 8, 5, 1, 8, 2, 1, 5, 10, 3, 2, 2, 1, 6, 6, 8, 3, 1, 10, 4, 14, 6, 2, 2, 5, 13, 1, 2, 5, 8, 2, 10, 11, 9, 5, 6, 2, 4, 1, 12, 2, 18, 1, 4, 4, 3, 1, 4, 9, 7, 5, 2, 4, 11, 22, 2, 1, 1, 4, 1, 5, 16, 3, 1, 7, 7, 7, 1, 1, 5, 8, 1, 11, 7, 9, 8, 6, 3, 1, 1, 2, 3, 25, 5, 6, 2, 12, 1, 1, 1, 2, 2, 11, 26, 1, 4, 21, 5, 1, 2, 19, 2, 1, 1, 11, 8, 8, 4, 11, 10, 3, 1, 2, 8, 8, 5, 1, 15, 13, 3, 2, 8, 3, 1, 1, 4, 2, 2, 4, 3, 2, 1, 6, 8, 2, 15, 4, 1, 1, 5, 18, 1, 1, 12, 3, 2, 2, 2, 18, 8, 2, 4, 2, 4, 35, 10, 4, 8, 2, 1, 11, 8, 3, 1, 2, 3, 1, 2, 2, 2, 1, 5, 8, 1, 2, 6, 4, 13, 1, 1, 4, 5, 2, 8, 6, 6, 2, 1, 11, 16, 1, 9, 5, 4, 7, 27, 1, 7, 6, 3, 5, 7, 2, 6, 9, 8, 1, 7, 8, 2, 3, 8, 4, 5, 11, 7, 2, 1, 6, 1, 4, 2, 21, 6, 1, 4, 13, 1, 2, 3, 1, 9, 12, 2, 6, 6, 7, 2, 1, 24, 7, 8, 4, 9, 14, 2, 1, 15, 8, 5, 2, 10, 2, 3, 9, 6, 19, 9, 1, 3, 22, 6, 3, 11, 1, 1, 1, 2, 13, 2, 9, 13, 1, 1, 12, 1, 15, 17, 3, 2, 1, 8, 15, 5, 1, 6, 16, 5, 7, 5, 1, 4, 4, 6, 3, 4, 10, 5, 3, 12, 7, 3, 6, 8, 5, 7, 7, 2, 5, 5, 1, 5, 9, 12, 2, 4, 22, 3, 1, 6, 8, 4, 1, 2, 12, 14, 5, 13, 9, 1, 1, 5, 1, 5, 9, 5, 2, 14, 11, 11, 3, 2, 19, 9, 3, 4, 2, 10, 1, 4, 11, 4, 1, 4, 13, 1, 7, 11, 4, 1, 3, 14, 23, 1, 3, 6, 1, 1, 1, 9, 4, 2, 9, 21, 5, 3, 7, 7, 2, 3, 9, 1, 3, 9, 1, 5, 2, 2, 4, 1, 3, 5, 2, 1, 4, 5, 1, 5, 3, 2, 7, 11, 3, 2, 11, 15, 7, 2, 1, 8, 2, 13, 9, 3, 8, 13, 1, 1, 1, 6, 6, 8, 2, 1, 4, 25, 1, 2, 2, 1, 2, 20, 9, 2, 21, 11, 1, 8, 8, 7, 2, 3, 6, 4, 1, 2, 2, 7, 8, 4, 2, 12, 1, 1, 1, 8, 2, 10, 13, 4, 2, 14, 1, 8, 11, 12, 4, 2, 1, 1, 1, 6, 19, 5, 3, 8, 2, 3, 7, 13, 3, 1, 9, 1, 1, 4, 10, 3, 24, 6, 13, 2, 14, 17, 2, 10, 19, 12, 2, 2, 22, 11, 3, 1, 5, 3, 3, 2, 3, 4, 1, 2, 1, 12, 14, 1, 2, 5, 2, 11, 9, 4, 1, 9, 5, 2, 7, 9, 3, 8, 6, 2, 4, 1, 1, 2, 2, 3, 1, 4, 1, 7, 11, 3, 2, 1, 10, 2, 3, 23, 9, 3, 3, 3, 19, 5, 3, 9, 3, 4, 13, 9, 3, 1, 10, 4, 3, 14, 15, 2, 3, 1, 1, 8, 1, 4, 4, 2, 4, 4, 1, 6, 23, 2, 1, 1, 2, 20, 13, 5, 9, 12, 5, 8, 2, 4, 3, 11, 5, 8, 13, 1, 6, 5, 12, 23, 5, 9, 8, 2, 1, 2, 6, 1, 2, 23, 7, 4, 27, 8, 1, 1, 2, 7, 10, 1, 1, 9, 24, 2, 1, 5, 2, 1, 1, 6, 5, 2, 1, 26, 6, 1, 5, 9, 5, 2, 4, 23, 6, 1, 9, 4, 6, 3, 3, 2, 3, 9, 7, 2, 3, 5, 4, 1, 12, 12, 2, 2, 2, 5, 3, 12, 8, 1, 1, 6, 7, 1, 3, 18, 1, 2, 3, 1, 11, 2, 3, 23, 7, 1, 8, 4, 3, 2, 5, 10, 7, 7, 6, 8, 1, 1, 1, 1, 5, 19, 9, 10, 6, 3, 1, 2, 9, 1, 1, 9, 9, 1, 11, 7, 2, 1, 6, 9, 2, 1, 11, 4, 2, 6, 3, 4, 3, 25, 7, 13, 10, 2, 5, 16, 2, 5, 21, 1, 1, 1, 2, 7, 5, 1, 8, 18, 1, 1, 4, 6, 1, 1, 19, 3, 4, 4, 7, 3, 5, 13, 9, 1, 2, 1, 3, 15, 2, 4, 9, 11, 13, 2, 1, 1, 8, 4, 8, 3, 3, 11, 11, 1, 1, 6, 4, 3, 2, 4, 12, 1, 1, 6, 13, 7, 2, 1, 7, 10, 6, 1, 8, 18, 2, 8, 12, 4, 1, 32, 9, 2, 1, 6, 8, 1, 2, 18, 14, 2, 8, 25, 12, 1, 17, 1, 3, 9, 2, 3, 4, 18, 2, 4, 12, 2, 5, 7, 1, 1, 3, 1, 7, 1, 5, 6, 2, 2, 3, 1, 2, 10, 18, 3, 5, 14, 10, 2, 12, 5, 3, 1, 5, 3, 8, 7, 1, 1, 7, 1, 1, 11, 16, 1, 14, 4, 2, 15, 5, 2, 1, 8, 7, 1, 5, 4, 5, 4, 3, 9, 1, 5, 20, 1, 7, 22, 1, 3, 9, 14, 3, 8, 4, 2, 3, 3, 1, 1, 13, 7, 1, 1, 6, 12, 1, 3, 5, 2, 6, 1, 5, 2, 2, 6, 2, 3, 4, 5, 9, 10, 7, 2, 10, 2, 6, 7, 2, 4, 17, 6, 1, 3, 1, 6, 3, 7, 3, 12, 10, 1, 3, 22, 6, 1, 1, 3, 16, 3, 1, 1, 4, 4, 1, 4, 2, 4, 1, 13, 9, 1, 8, 9, 3, 10, 4, 2, 10, 14, 8, 1, 3, 2, 1, 8, 10, 11, 12, 1, 3, 2, 11, 6, 1, 1, 5, 9, 3, 16, 4, 1, 1, 13, 1, 9, 12, 8, 7, 8, 4, 1, 4, 8, 4, 1, 2, 31, 13, 1, 11, 17, 2, 1, 12, 7, 6, 15, 2, 1, 4, 3, 28, 5, 4, 1, 1, 1, 4, 1, 5, 4, 6, 9, 7, 2, 13, 8, 2, 5, 23, 6, 3, 4, 4, 6, 8, 4, 1, 2, 5, 4, 4, 1, 2, 16, 3, 1, 4, 9, 3, 5, 1, 3, 5, 22, 4, 10, 4, 4, 4, 13, 8, 1, 5, 7, 5, 12, 5, 1, 2, 5, 14, 1, 6, 1, 7, 2, 2, 4, 1, 2, 1, 3, 14, 16, 1, 1, 9, 22, 2, 1, 1, 10, 8, 22, 5, 8, 9, 9, 1, 2, 3, 9, 1, 5, 10, 1, 6, 9, 16, 1, 10, 13, 2, 4, 7, 4, 4, 1, 8, 2, 7, 2, 3, 18, 1, 4, 3, 1, 14, 4, 2, 3, 4, 4, 2, 4, 11, 2, 3, 8, 25, 7, 1, 4, 6, 5, 8, 12, 12, 6, 4, 6, 18, 2, 4, 8, 3, 1, 8, 10, 1, 3, 12, 22, 2, 1, 9, 9, 1, 1, 5, 15, 9, 2, 5, 12, 3, 3, 5, 2, 2, 5, 13, 1, 3, 4, 1, 1, 4, 15, 5, 8, 4, 9, 1, 1, 3, 5, 5, 4, 10, 11, 1, 2, 12, 5, 1, 7, 8, 4, 3, 6, 25, 3, 2, 3, 3, 9, 1, 6, 8, 3, 8, 1, 12, 6, 4, 14, 2, 18, 24, 4, 2, 18, 3, 3, 1, 5, 7, 3, 2, 2, 3, 1, 4, 3, 1, 1, 2, 4, 6, 2, 18, 9, 5, 3, 2, 10, 1, 3, 3, 1, 12, 10, 7, 11, 8, 14, 1, 5, 15, 1, 8, 11, 8, 1, 18, 15, 4, 2, 3, 5, 11, 13, 3, 2, 6, 4, 7, 7, 1, 6, 13, 15, 8, 10, 11, 5, 9, 12, 2, 3, 27, 12, 3, 3, 3, 7, 12, 3, 3, 5, 3, 4, 11, 4, 2, 1, 9, 6, 3, 6, 5, 5, 10, 11, 5, 2, 4, 4, 2, 10, 2, 6, 18, 5, 12, 14, 3, 18, 6, 1, 1, 6, 15, 4, 1, 8, 21, 2, 6, 5, 8, 11, 4, 2, 6, 9, 2, 6, 13, 4, 23, 2, 1, 29, 3, 7, 13, 1, 2, 2, 4, 3, 5, 10, 1, 4, 5, 4, 5, 1, 5, 3, 1, 13, 8, 2, 8, 7, 1, 8, 10, 1, 9, 2, 7, 2, 2, 1, 3, 1, 3, 1, 4, 5, 13, 1, 2, 3, 8, 1, 4, 5, 10, 1, 4, 18, 6, 4, 2, 8, 2, 3, 24, 15, 2, 7, 14, 7, 1, 2, 7, 6, 1, 2, 2, 8, 4, 1, 6, 4, 2, 5, 5, 22, 3, 1, 13, 9, 1, 10, 13, 2, 1, 9, 5, 1, 17, 8, 9, 1, 5, 1, 7, 2, 4, 17, 1, 7, 8, 1, 30, 17, 1, 6, 7, 1, 1, 1, 1, 1, 3, 3, 12, 5, 1, 5, 1, 1, 4, 8, 17, 1, 3, 5, 11, 3, 5, 5, 1, 9, 4, 1, 8, 13, 8, 11, 4, 3, 4, 6, 1, 3, 1, 1, 11, 19, 6, 1, 5, 2, 6, 13, 6, 8, 5, 5, 3, 13, 5, 1, 16, 4, 18, 7, 2, 7, 5, 5, 16, 1, 4, 6, 13, 4, 1, 11, 13, 2, 2, 12, 3, 1, 8, 7, 5, 3, 9, 8, 3, 2, 1, 2, 6, 10, 6, 1, 7, 10, 4, 1, 5, 2, 11, 4, 1, 6, 8, 1, 1, 2, 3, 20, 5, 2, 2, 6, 23, 8, 3, 9, 8, 5, 3, 12, 26, 6, 1, 5, 11, 1, 5, 5, 6, 6, 11, 1, 1, 7, 1, 4, 2, 6, 2, 1, 2, 13, 1, 9, 1, 3, 1, 7, 14, 6, 18, 1, 6, 4, 2, 11, 7, 2, 3, 3, 1, 7, 1, 3, 12, 2, 14, 7, 2, 2, 6, 3, 7, 4, 4, 3, 4, 3, 1, 1, 18, 4, 1, 2, 18, 10, 1, 6, 5, 2, 6, 19, 4, 2, 3, 1, 1, 3, 4, 13, 1, 11, 14, 6, 1, 8, 2, 4, 7, 2, 1, 2, 10, 7, 1, 1, 2, 1, 1, 1, 10, 4, 2, 6, 12, 2, 4, 2, 5, 20, 11, 1, 4, 4, 2, 6, 4, 1, 13, 7, 5, 1, 5, 5, 5, 2, 2, 4, 1, 2, 3, 1, 4, 10, 11, 3, 5, 33, 10, 13, 11, 1, 4, 2, 12, 3, 2, 3, 3, 1, 2, 9, 12, 2, 10, 12, 1, 2, 3, 3, 2, 15, 6, 3, 9, 10, 4, 5, 26, 8, 1, 5, 6, 2, 6, 1, 8, 1, 4, 8, 5, 12, 9, 2, 2, 23, 4, 2, 5, 9, 5, 4, 10, 4, 5, 8, 1, 1, 12, 3, 1, 9, 14, 2, 2, 6, 4, 1, 2, 7, 16, 3, 16, 7, 2, 11, 11, 1, 6, 1, 18, 5, 2, 10, 4, 1, 2, 3, 1, 2, 1, 1, 2, 9, 3, 1, 5, 1, 4, 5, 4, 2, 2, 9, 5, 15, 6, 3, 19, 1, 1, 3, 9, 7, 3, 4, 3, 6, 1, 4, 7, 11, 8, 27, 4, 1, 3, 5, 8, 8, 9, 9, 4, 15, 10, 6, 7, 5, 1, 7, 2, 2, 6, 14, 6, 7, 16, 7, 1, 5, 1, 10, 12, 1, 8, 16, 1, 4, 1, 12, 1, 6, 10, 2, 3, 5, 5, 12, 1, 3, 3, 2, 1, 11, 4, 6, 1, 16, 6, 1, 22, 2, 2, 3, 3, 3, 12, 1, 2, 5, 7, 1, 2, 5, 24, 2, 1, 8, 2, 6, 2, 8, 1, 9, 12, 1, 1, 24, 17, 1, 1, 4, 2, 7, 6, 5, 10, 14, 1, 1, 2, 6, 2, 1, 8, 12, 1, 12, 1, 2, 2, 1, 1, 6, 6, 1, 3, 3, 5, 1, 3, 8, 1, 2, 10, 6, 2, 4, 3, 2, 2, 5, 11, 2, 3, 27, 14, 1, 14, 8, 11, 1, 9, 15, 8, 3, 4, 4, 3, 1, 2, 5, 11, 3, 2, 4, 11, 6, 1, 5, 7, 1, 5, 2, 3, 6, 7, 7, 1, 2, 8, 4, 1, 2, 6, 4, 5, 8, 6, 2, 1, 5, 5, 11, 6, 12, 7, 1, 2, 10, 26, 2, 6, 6, 1, 5, 4, 1, 1, 8, 6, 1, 5, 1, 9, 3, 2, 5, 14, 5, 6, 8, 9, 4, 7, 4, 6, 1, 4, 13, 12, 3, 2, 2, 24, 11, 4, 8, 3, 1, 1, 18, 10, 8, 3, 13, 16, 5, 1, 24, 3, 1, 3, 5, 3, 7, 1, 8, 12, 2, 2, 3, 6, 19, 8, 5, 19, 2, 1, 13, 14, 4, 1, 2, 11, 11, 7, 1, 6, 3, 4, 11, 2, 1, 3, 5, 8, 2, 4, 8, 3, 1, 21, 3, 6, 8, 3, 2, 3, 8, 5, 2, 3, 2, 1, 1, 6, 10, 11, 2, 14, 7, 2, 4, 7, 6, 10, 5, 3, 10, 5, 6, 2, 2, 3, 3, 10, 4, 7, 3, 5, 3, 1, 1, 11, 25, 3, 12, 21, 2, 2, 4, 3, 1, 2, 21, 12, 2, 6, 1, 3, 2, 15, 1, 1, 5, 6, 5, 5, 8, 14, 12, 4, 7, 3, 2, 1, 2, 5, 3, 7, 4, 2, 7, 10, 2, 4, 5, 6, 6, 4, 10, 6, 20, 5, 3, 1, 3, 13, 5, 9, 6, 5, 3, 6, 2, 5, 2, 1, 2, 1, 2, 32, 4, 1, 3, 1, 5, 9, 1, 8, 3, 2, 2, 4, 5, 5, 5, 1, 3, 12, 5, 1, 1, 2, 6, 10, 3, 6, 5, 13, 5, 1, 5, 6, 1, 3, 2, 13, 1, 2, 4, 11, 2, 4, 9, 19, 4, 1, 1, 2, 8, 6, 7, 10, 1, 1, 6, 10, 5, 5, 7, 4, 2, 5, 20, 8, 1, 13, 9, 9, 3, 1, 1, 17, 13, 3, 4, 2, 5, 3, 1, 9, 1, 4, 4, 11, 7, 4, 4, 1, 7, 10, 5, 3, 6, 11, 1, 1, 9, 3, 1, 2, 1, 9, 3, 1, 2, 4, 12, 5, 1, 4, 2, 1, 2, 4, 8, 1, 12, 7, 13, 1, 1, 1, 3, 3, 1, 3, 3, 7, 9, 4, 1, 1, 1, 4, 3, 1, 3, 9, 16, 4, 5, 16, 7, 7, 1, 3, 1, 1, 10, 9, 1, 4, 7, 6, 1, 3, 6, 6, 4, 9, 1, 1, 10, 4, 3, 1, 3, 18, 1, 1, 1, 5, 21, 2, 1, 5, 1, 4, 6, 6, 2, 8, 18, 5, 2, 1, 3, 2, 6, 12, 1, 2, 4, 2, 1, 5, 9, 5, 2, 6, 12, 9, 1, 3, 5, 9, 1, 7, 9, 1, 5, 4, 5, 8, 1, 8, 2, 4, 11, 8, 3, 2, 5, 14, 2, 1, 2, 4, 14, 5, 4, 11, 4, 1, 7, 13, 3, 1, 7, 9, 6, 4, 12, 2, 4, 9, 7, 7, 2, 11, 10, 2, 8, 8, 2, 7, 6, 4, 1, 4, 5, 1, 3, 6, 3, 11, 20, 1, 9, 2, 9, 12, 1, 2, 6, 3, 5, 2, 2, 7, 3, 12, 3, 5, 3, 14, 2, 3, 14, 7, 7, 1, 2, 9, 2, 1, 15, 8, 2, 1, 16, 14, 1, 4, 8, 3, 12, 4, 2, 10, 5, 2, 6, 4, 3, 1, 2, 5, 15, 4, 3, 6, 1, 6, 2, 1, 3, 21, 7, 5, 2, 2, 5, 5, 7, 7, 6, 2, 23, 4, 2, 17, 10, 7, 6, 1, 11, 2, 29, 5, 2, 16, 9, 1, 1, 3, 21, 1, 2, 14, 14, 5, 4, 3, 3, 6, 5, 1, 5, 2, 10, 26, 3, 2, 9, 5, 6, 5, 8, 4, 7, 11, 1, 7, 7, 1, 4, 15, 11, 2, 4, 9, 1, 6, 17, 3, 6, 15, 9, 6, 4, 14, 1, 3, 13, 1, 1, 3, 8, 3, 2, 4, 7, 8, 2, 1, 1, 7, 4, 8, 8, 4, 2, 2, 9, 5, 1, 1, 6, 2, 1, 11, 3, 3, 20, 6, 1, 10, 12, 2, 2, 1, 6, 5, 8, 6, 4, 3, 1, 8, 27, 9, 1, 2, 5, 3, 23, 1, 9, 11, 2, 1, 1, 6, 13, 2, 3, 5, 11, 23, 5, 2, 2, 6, 5, 2, 3, 3, 5, 2, 22, 5, 3, 3, 14, 4, 4, 6, 2, 7, 3, 2, 6, 8, 1, 1, 3, 4, 3, 2, 2, 2, 1, 1, 3, 5, 6, 3, 2, 4, 1, 8, 6, 2, 16, 12, 1, 5, 13, 1, 2, 1, 6, 2, 7, 4, 6, 1, 1, 8, 10, 8, 2, 10, 6, 1, 9, 7, 2, 2, 6, 1, 4, 3, 3, 7, 3, 3, 6, 8, 1, 2, 11, 5, 8, 2, 2, 1, 1, 8, 4, 7, 7, 8, 1, 1, 7, 13, 5, 2, 14, 4, 1, 2, 16, 8, 1, 1, 10, 7, 2, 11, 7, 1, 2, 3, 2, 10, 2, 4, 15, 6, 2, 14, 15, 1, 1, 2, 10, 13, 10, 2, 17, 1, 1, 8, 1, 2, 12, 6, 4, 21, 8, 3, 15, 5, 5, 4, 4, 1, 1, 5, 5, 2, 6, 5, 2, 1, 7, 6, 7, 1, 9, 10, 5, 1, 10, 6, 4, 1, 2, 13, 3, 4, 4, 1, 1, 5, 3, 1, 6, 20, 1, 25, 3, 5, 8, 7, 2, 1, 4, 3, 2, 7, 6, 3, 7, 23, 9, 6, 1, 1, 9, 3, 1, 3, 7, 5, 2, 2, 3, 9, 2, 14, 12, 1, 14, 18, 1, 14, 2, 3, 6, 9, 2, 7, 9, 1, 6, 12, 2, 7, 2, 24, 3, 1, 1, 4, 4, 2, 1, 10, 24, 1, 2, 8, 6, 1, 12, 6, 2, 2, 8, 9, 1, 1, 2, 9, 7, 16, 2, 5, 2, 6, 1, 14, 7, 5, 3, 15, 13, 4, 1, 19, 8, 1, 4, 7, 4, 5, 4, 1, 12, 1, 3, 20, 11, 3, 5, 5, 6, 1, 2, 15, 13, 10, 1, 2, 4, 11, 2, 1, 7, 17, 4, 6, 2, 3, 2, 2, 2, 11, 18, 3, 1, 1, 3, 2, 3, 2, 4, 4, 1, 6, 8, 1, 2, 2, 6, 10, 2, 4, 1, 1, 4, 1, 11, 10, 3, 1, 9, 5, 5, 5, 4, 17, 16, 1, 4, 21, 10, 1, 5, 1, 8, 7, 14, 1, 1, 2, 9, 5, 11, 15, 5, 9, 4, 8, 2, 2, 16, 8, 2, 2, 5, 7, 13, 3, 3, 6, 5, 1, 1, 25, 10, 2, 5, 1, 1, 3, 4, 6, 2, 21, 2, 14, 30, 3, 1, 9, 15, 11, 3, 8, 11, 5, 1, 1, 1, 12, 2, 1, 1, 2, 27, 7, 1, 3, 4, 3, 12, 8, 2, 7, 11, 2, 3, 7, 1, 4, 1, 4, 4, 9, 2, 6, 8, 1, 2, 1, 8, 7, 3, 4, 24, 3, 11, 11, 1, 11, 18, 3, 1, 3, 2, 4, 1, 3, 5, 12, 1, 3, 10, 4, 4, 8, 12, 11, 5, 9, 1, 11, 1, 6, 13, 1, 1, 10, 23, 4, 7, 8, 6, 16, 5, 2, 1, 14, 7, 3, 7, 1, 4, 10, 1, 1, 6, 5, 8, 4, 3, 6, 1, 2, 2, 5, 16, 4, 1, 1, 5, 2, 1, 3, 1, 1, 2, 3, 11, 1, 7, 5, 4, 16, 4, 8, 8, 3, 2, 2, 2, 11, 8, 7, 2, 11, 1, 5, 10, 10, 1, 3, 14, 1, 15, 13, 2, 3, 2, 8, 1, 15, 10, 2, 4, 8, 1, 6, 14, 1, 1, 2, 5, 2, 6, 3, 2, 21, 10, 3, 7, 13, 5, 1, 1, 5, 12, 3, 2, 3, 5, 5, 1, 13, 27, 1, 6, 9, 9, 3, 9, 13, 4, 15, 6, 8, 5, 19, 1, 1, 1, 16, 2, 9, 7, 17, 1, 9, 2, 9, 4, 1, 7, 4, 13, 5, 5, 1, 5, 5, 1, 1, 9, 12, 4, 2, 4, 9, 4, 1, 3, 2, 2, 20, 2, 2, 8, 1, 12, 13, 7, 1, 5, 6, 2, 12, 16, 2, 14, 3, 7, 10, 5, 1, 3, 3, 2, 13, 12, 7, 1, 5, 3, 2, 1, 1, 4, 10, 2, 2, 11, 5, 1, 6, 4, 31, 6, 7, 2, 3, 1, 13, 11, 10, 1, 3, 9, 15, 1, 2, 11, 6, 2, 5, 5, 5, 6, 4, 3, 5, 11, 12, 6, 2, 2, 3, 1, 11, 7, 2, 27, 9, 2, 3, 22, 8, 2, 3, 13, 7, 4, 5, 1, 3, 3, 15, 5, 7, 7, 3, 4, 15, 7, 2, 6, 2, 17, 36, 7, 2, 3, 3, 3, 4, 6, 2, 3, 8, 4, 1, 6, 22, 10, 2, 6, 28, 6, 2, 4, 26, 7, 4, 1, 3, 12, 2, 1, 13, 3, 5, 3, 20, 1, 1, 2, 3, 6, 3, 3, 2, 1, 2, 2, 2, 1, 1, 17, 22, 4, 6, 11, 1, 8, 4, 2, 7, 2, 1, 8, 2, 1, 3, 2, 10, 2, 1, 1, 2, 16, 4, 7, 11, 3, 16, 14, 3, 12, 8, 2, 7, 3, 3, 16, 2, 5, 11, 12, 7, 2, 8, 1, 6, 10, 2, 4, 24, 7, 1, 4, 19, 11, 1, 14, 10, 1, 1, 3, 1, 1, 5, 6, 1, 5, 7, 2, 2, 1, 10, 17, 7, 1, 1, 2, 7, 3, 1, 2, 12, 10, 3, 2, 9, 10, 2, 1, 3, 19, 3, 3, 13, 9, 1, 18, 5, 1, 2, 8, 10, 1, 2, 5, 3, 3, 6, 11, 6, 6, 9, 3, 5, 3, 1, 9, 2, 11, 6, 3, 9, 4, 4, 3, 2, 23, 9, 1, 9, 5, 10, 9, 3, 6, 7, 3, 7, 6, 6, 4, 2, 4, 2, 7, 2, 6, 2, 8, 12, 3, 4, 4, 4, 1, 9, 12, 1, 2, 12, 7, 7, 6, 1, 3, 11, 14, 5, 1, 5, 4, 1, 9, 3, 2, 6, 13, 10, 8, 17, 3, 6, 8, 1, 1, 11, 12, 3, 6, 2, 7, 8, 1, 8, 14, 1, 21, 5, 2, 9, 13, 2, 3, 17, 2, 3, 4, 4, 4, 14, 9, 6, 6, 9, 2, 1, 1, 1, 1, 17, 5, 4, 8, 1, 4, 9, 3, 1, 18, 3, 5, 7, 3, 8, 6, 1, 8, 3, 5, 21, 9, 7, 2, 4, 5, 2, 15, 9, 1, 3, 3, 1, 4, 4, 1, 4, 6, 2, 13, 10, 4, 12, 2, 1, 18, 1, 1, 1, 1, 4, 1, 2, 6, 1, 10, 9, 20, 7, 7, 6, 6, 1, 15, 12, 1, 1, 5, 8, 1, 1, 16, 5, 1, 8, 1, 8, 2, 5, 18, 6, 1, 4, 7, 18, 3, 2, 2, 6, 23, 3, 7, 2, 1, 2, 4, 7, 7, 1, 6, 8, 2, 1, 1, 2, 10, 11, 5, 3, 1, 6, 1, 1, 2, 4, 6, 2, 1, 10, 4, 2, 13, 9, 19, 5, 2, 15, 8, 3, 10, 9, 2, 1, 10, 11, 3, 6, 9, 15, 2, 14, 10, 1, 6, 5, 1, 2, 12, 21, 2, 8, 9, 2, 2, 20, 13, 6, 14, 18, 3, 7, 13, 10, 4, 4, 5, 7, 2, 1, 2, 8, 4, 12, 3, 2, 4, 1, 1, 4, 10, 7, 14, 1, 2, 5, 3, 5, 6, 6, 12, 2, 4, 7, 8, 1, 2, 5, 4, 3, 7, 6, 4, 4, 16, 3, 1, 4, 11, 3, 3, 1, 4, 8, 9, 6, 2, 6, 12, 1, 1, 1, 2, 5, 2, 3, 4, 5, 4, 2, 3, 6, 1, 6, 10, 1, 1, 1, 3, 12, 6, 1, 4, 8, 7, 3, 5, 1, 6, 3, 2, 2, 7, 2, 1, 1, 5, 5, 1, 6, 5, 12, 3, 1, 15, 13, 3, 6, 7, 22, 5, 6, 3, 7, 1, 3, 2, 2, 13, 14, 2, 4, 1, 4, 2, 14, 11, 1, 3, 4, 9, 2, 4, 2, 2, 3, 9, 5, 9, 15, 1, 7, 2, 9, 1, 2, 11, 24, 7, 7, 13, 2, 4, 13, 8, 3, 7, 15, 4, 1, 19, 14, 2, 5, 7, 1, 2, 7, 6, 6, 11, 3, 12, 4, 8, 6, 7, 4, 11, 11, 1, 21, 7, 2, 11, 15, 1, 6, 8, 3, 5, 5, 7, 6, 2, 4, 16, 2, 6, 3, 6, 1, 1, 8, 3, 1, 1, 8, 3, 4, 3, 5, 1, 3, 16, 7, 1, 2, 16, 5, 1, 1, 4, 25, 1, 2, 5, 2, 6, 7, 3, 5, 8, 1, 3, 2, 3, 4, 2, 3, 7, 2, 5, 2, 2, 10, 12, 5, 11, 1, 8, 13, 10, 2, 4, 4, 3, 1, 3, 8, 3, 1, 2, 14, 6, 4, 10, 3, 1, 1, 11, 15, 9, 8, 1, 6, 9, 4, 8, 3, 10, 5, 1, 6, 10, 2, 14, 5, 14, 1, 7, 6, 1, 35, 1, 16, 7, 2, 1, 6, 11, 3, 2, 13, 4, 1, 2, 20, 1, 2, 19, 1, 5, 19, 4, 1, 2, 7, 7, 11, 25, 5, 1, 1, 9, 19, 3, 5, 3, 3, 6, 10, 1, 3, 7, 10, 5, 4, 1, 2, 7, 4, 4, 4, 1, 5, 14, 7, 1, 6, 21, 2, 1, 3, 3, 1, 8, 16, 3, 1, 14, 7, 2, 3, 5, 2, 7, 17, 2, 6, 12, 18, 1, 1, 17, 6, 5, 7, 8, 5, 3, 3, 2, 10, 1, 4, 8, 11, 2, 1, 3, 1, 3, 8, 15, 1, 1, 1, 3, 10, 9, 2, 1, 5, 4, 1, 8, 10, 1, 6, 5, 14, 6, 14, 4, 1, 7, 5, 6, 1, 5, 13, 6, 10, 4, 17, 5, 1, 2, 6, 7, 3, 8, 6, 8, 7, 3, 9, 3, 19, 7, 2, 9, 13, 1, 7, 8, 5, 2, 11, 5, 1, 3, 1, 7, 2, 3, 6, 2, 19, 3, 1, 1, 7, 7, 1, 7, 5, 1, 6, 5, 2, 11, 6, 3, 5, 5, 10, 7, 1, 4, 2, 2, 6, 3, 17, 2, 1, 5, 18, 2, 3, 16, 1, 16, 11, 7, 7, 14, 3, 2, 7, 2, 3, 17, 5, 1, 4, 13, 1, 5, 11, 3, 1, 2, 1, 2, 3, 18, 2, 1, 2, 10, 14, 3, 3, 4, 17, 2, 7, 1, 14, 14, 4, 7, 2, 2, 1, 8, 4, 8, 2, 6, 6, 10, 4, 2, 3, 1, 2, 4, 3, 3, 9, 4, 2, 6, 14, 3, 1, 15, 12, 8, 17, 4, 14, 14, 4, 2, 5, 11, 11, 1, 6, 10, 8, 1, 3, 15, 2, 3, 3, 1, 8, 3, 1, 10, 6, 6, 12, 3, 2, 2, 22, 5, 2, 7, 4, 7, 9, 4, 2, 11, 15, 8, 1, 1, 10, 9, 1, 1, 9, 7, 1, 2, 1, 1, 2, 13, 20, 3, 6, 1, 3, 11, 1, 13, 1, 2, 16, 13, 1, 2, 3, 1, 1, 18, 6, 5, 12, 3, 7, 7, 3, 9, 8, 6, 1, 3, 5, 4, 1, 1, 6, 3, 3, 3, 1, 9, 3, 12, 1, 5, 6, 3, 1, 5, 5, 3, 3, 3, 1, 7, 5, 5, 1, 4, 16, 2, 1, 8, 13, 7, 5, 7, 9, 2, 3, 2, 7, 10, 1, 3, 5, 2, 1, 2, 7, 2, 1, 1, 3, 1, 4, 10, 11, 2, 5, 11, 1, 2, 7, 4, 28, 5, 7, 3, 1, 7, 4, 1, 3, 2, 13, 3, 5, 26, 4, 3, 22, 7, 1, 6, 5, 5, 1, 6, 7, 2, 1, 21, 8, 7, 1, 5, 4, 8, 9, 3, 3, 4, 8, 5, 2, 3, 10, 4, 3, 3, 11, 14, 2, 9, 2, 13, 5, 1, 12, 8, 2, 1, 12, 7, 2, 12, 11, 3, 1, 8, 4, 2, 1, 2, 1, 4, 2, 2, 1, 6, 7, 2, 2, 5, 5, 2, 11, 1, 22, 3, 3, 13, 4, 1, 12, 2, 3, 15, 4, 8, 6, 3, 25, 6, 2, 9, 9, 1, 1, 1, 4, 1, 6, 2, 5, 1, 2, 4, 3, 3, 21, 9, 2, 3, 2, 18, 9, 21, 1, 5, 2, 2, 3, 9, 4, 5, 1, 2, 2, 3, 2, 7, 14, 4, 1, 6, 5, 4, 1, 6, 2, 1, 2, 8, 3, 1, 1, 26, 8, 3, 1, 11, 16, 7, 6, 9, 23, 5, 3, 5, 1, 1, 2, 8, 4, 18, 20, 5, 1, 7, 3, 1, 2, 18, 11, 9, 5, 4, 7, 12, 2, 12, 5, 3, 8, 4, 7, 5, 3, 11, 9, 7, 11, 1, 1, 2, 8, 10, 2, 3, 1, 1, 2, 3, 1, 1, 2, 3, 3, 3, 8, 13, 1, 11, 5, 5, 2, 1, 6, 1, 22, 5, 4, 14, 6, 1, 4, 9, 13, 8, 1, 12, 16, 2, 1, 5, 4, 1, 2, 1, 1, 7, 16, 6, 3, 13, 8, 1, 4, 9, 6, 19, 2, 7, 3, 2, 23, 7, 6, 5, 21, 5, 3, 1, 3, 3, 2, 15, 18, 10, 2, 3, 1, 4, 3, 9, 6, 3, 7, 7, 2, 1, 6, 9, 1, 6, 4, 8, 7, 2, 8, 2, 1, 11, 6, 4, 1, 2, 13, 5, 2, 2, 9, 1, 6, 6, 5, 2, 3, 14, 4, 2, 5, 1, 5, 9, 5, 2, 2, 2, 1, 13, 6, 1, 2, 3, 9, 1, 1, 2, 1, 1, 15, 26, 16, 1, 4, 6, 9, 4, 2, 9, 11, 2, 2, 10, 4, 2, 1, 3, 11, 12, 1, 1, 6, 2, 3, 1, 3, 16, 9, 4, 6, 5, 3, 9, 7, 1, 3, 4, 2, 19, 3, 1, 3, 9, 5, 1, 9, 4, 3, 4, 4, 7, 7, 4, 5, 16, 7, 1, 2, 3, 11, 3, 3, 7, 8, 1, 4, 9, 4, 1, 9, 7, 1, 4, 6, 10, 4, 10, 6, 2, 7, 9, 8, 1, 14, 1, 7, 1, 6, 8, 8, 5, 1, 3, 3, 8, 2, 7, 6, 6, 3, 2, 1, 2, 6, 4, 1, 5, 11, 22, 5, 1, 6, 11, 3, 4, 1, 7, 8, 9, 1, 5, 3, 1, 14, 5, 3, 1, 8, 9, 2, 4, 10, 5, 3, 8, 4, 16, 5, 1, 7, 13, 2, 5, 1, 4, 21, 9, 1, 4, 8, 3, 19, 4, 4, 23, 2, 13, 17, 1, 7, 6, 2, 6, 1, 4, 6, 2, 1, 3, 1, 4, 15, 1, 4, 5, 6, 5, 1, 22, 8, 5, 5, 16, 5, 4, 3, 1, 8, 7, 4, 4, 9, 7, 5, 16, 7, 11, 5, 1, 3, 1, 10, 5, 1, 12, 9, 3, 12, 11, 3, 7, 7, 21, 1, 3, 11, 6, 4, 4, 1, 3, 9, 6, 1, 3, 8, 1, 2, 9, 14, 1, 1, 7, 1, 2, 3, 6, 5, 3, 2, 11, 8, 2, 2, 8, 2, 2, 13, 2, 6, 6, 2, 3, 12, 8, 2, 9, 12, 1, 7, 9, 5, 1, 3, 6, 8, 1, 1, 23, 3, 1, 3, 5, 6, 5, 1, 9, 10, 26, 7, 2, 22, 11, 4, 7, 4, 6, 5, 4, 12, 6, 2, 1, 9, 10, 10, 5, 23, 13, 5, 12, 3, 1, 13, 9, 3, 6, 11, 12, 1, 1, 5, 5, 2, 7, 6, 12, 3, 3, 10, 20, 3, 6, 9, 3, 1, 2, 3, 5, 6, 2, 8, 4, 6, 6, 1, 3, 6, 2, 10, 10, 22, 1, 2, 9, 3, 6, 9, 1, 3, 2, 8, 11, 8, 3, 9, 2, 5, 1, 2, 4, 15, 9, 6, 10, 1, 8, 20, 5, 10, 13, 3, 5, 17, 2, 9, 9, 1, 2, 7, 2, 1, 7, 11, 10, 11, 3, 1, 8, 2, 6, 9, 5, 5, 6, 1, 6, 3, 5, 6, 2, 1, 12, 9, 8, 2, 15, 1, 1, 16, 4, 1, 1, 24, 15, 4, 2, 8, 10, 1, 8, 11, 1, 8, 1, 1, 2, 3, 3, 8, 5, 6, 6, 4, 2, 10, 3, 9, 2, 17, 6, 1, 1, 1, 4, 5, 7, 7, 3, 4, 9, 17, 3, 1, 4, 8, 8, 4, 6, 3, 3, 13, 9, 6, 2, 2, 10, 7, 1, 18, 14, 2, 3, 9, 2, 1, 8, 15, 3, 6, 2, 1, 13, 2, 13, 11, 3, 1, 1, 1, 6, 11, 3, 6, 9, 3, 2, 7, 11, 10, 1, 16, 13, 3, 3, 15, 1, 1, 1, 13, 6, 3, 1, 1, 19, 9, 1, 6, 10, 1, 8, 7, 10, 4, 1, 2, 3, 4, 19, 5, 1, 5, 3, 1, 7, 16, 3, 2, 4, 2, 4, 2, 3, 2, 2, 3, 2, 1, 8, 8, 16, 1, 9, 9, 1, 7, 2, 2, 1, 2, 5, 16, 3, 5, 3, 1, 1, 12, 11, 8, 9, 3, 14, 11, 2, 1, 5, 8, 3, 2, 4, 3, 5, 2, 8, 7, 1, 4, 1, 3, 1, 18, 11, 11, 1, 1, 4, 13, 1, 4, 8, 2, 6, 27, 5, 23, 5, 2, 2, 2, 1, 23, 7, 4, 3, 16, 3, 11, 6, 6, 1, 1, 8, 12, 6, 1, 3, 7, 5, 1, 14, 10, 6, 5, 3, 2, 11, 11, 1, 2, 2, 6, 2, 9, 5, 6, 3, 3, 2, 5, 12, 3, 7, 5, 12, 2, 22, 2, 2, 3, 5, 1, 1, 10, 13, 4, 5, 2, 7, 7, 2, 6, 19, 4, 1, 3, 9, 3, 1, 5, 1, 3, 1, 2, 9, 1, 1, 7, 15, 3, 1, 2, 1, 4, 1, 8, 1, 2, 4, 1, 1, 14, 5, 6, 4, 2, 7, 7, 4, 2, 2, 1, 9, 11, 2, 14, 1, 2, 9, 1, 1, 3, 10, 12, 9, 9, 1, 6, 7, 3, 5, 25, 9, 1, 4, 16, 3, 2, 13, 3, 3, 5, 14, 8, 5, 3, 6, 8, 6, 1, 5, 13, 8, 1, 4, 3, 6, 1, 8, 10, 1, 7, 17, 2, 3, 10, 1, 20, 11, 5, 4, 1, 11, 7, 3, 2, 4, 11, 3, 1, 7, 8, 2, 12, 5, 6, 14, 3, 3, 4, 1, 3, 3, 16, 4, 4, 9, 3, 5, 8, 2, 1, 3, 12, 13, 12, 3, 3, 8, 3, 1, 3, 10, 2, 2, 9, 8, 4, 6, 13, 1, 5, 1, 8, 3, 4, 3, 10, 3, 4, 12, 10, 2, 4, 1, 7, 6, 8, 11, 3, 5, 5, 3, 3, 1, 4, 8, 8, 1, 8, 14, 1, 8, 8, 5, 1, 3, 2, 1, 5, 2, 3, 3, 6, 14, 4, 2, 4, 9, 9, 6, 6, 2, 7, 10, 2, 2, 14, 9, 1, 1, 6, 8, 4, 12, 10, 2, 1, 1, 2, 4, 7, 2, 1, 2, 10, 29, 3, 2, 10, 4, 6, 5, 1, 7, 8, 6, 1, 2, 2, 3, 7, 1, 14, 5, 2, 2, 3, 16, 3, 1, 8, 18, 4, 4, 4, 9, 3, 2, 4, 2, 4, 1, 9, 5, 1, 12, 11, 2, 5, 29, 1, 2, 4, 15, 5, 2, 1, 4, 24, 13, 4, 7, 15, 2, 5, 11, 6, 4, 5, 13, 1, 4, 11, 9, 1, 1, 4, 11, 12, 2, 8, 16, 15, 1, 1, 2, 2, 6, 3, 2, 2, 1, 1, 5, 4, 2, 1, 3, 8, 1, 3, 3, 12, 2, 34, 11, 2, 6, 14, 3, 4, 5, 31, 9, 1, 1, 4, 17, 2, 9, 22, 2, 6, 4, 2, 5, 10, 4, 3, 7, 4, 10, 1, 5, 5, 5, 8, 1, 7, 1, 2, 5, 17, 2, 8, 3, 1, 4, 9, 1, 1, 1, 5, 1, 5, 8, 9, 3, 2, 3, 6, 3, 9, 7, 1, 3, 7, 7, 2, 1, 9, 5, 8, 3, 6, 4, 2, 15, 1, 2, 3, 4, 2, 7, 6, 8, 7, 3, 1, 1, 13, 4, 2, 5, 10, 5, 13, 3, 11, 26, 1, 10, 11, 14, 3, 1, 4, 4, 3, 9, 7, 6, 8, 1, 4, 3, 1, 1, 16, 1, 11, 15, 4, 2, 3, 1, 3, 1, 2, 1, 4, 2, 1, 2, 8, 15, 11, 12, 2, 3, 8, 4, 4, 10, 5, 14, 9, 1, 3, 2, 2, 1, 2, 2, 3, 1, 2, 2, 1, 16, 11, 2, 1, 4, 2, 6, 12, 3, 3, 7, 1, 15, 17, 1, 3, 20, 9, 4, 1, 6, 4, 3, 1, 4, 9, 16, 2, 21, 4, 1, 4, 5, 3, 20, 1, 6, 26, 1, 9, 11, 3, 5, 7, 24, 8, 2, 1, 5, 6, 3, 9, 13, 3, 1, 5, 2, 1, 9, 16, 1, 3, 10, 6, 4, 1, 14, 6, 1, 1, 9, 29, 7, 19, 1, 6, 3, 1, 2, 1, 1, 12, 10, 3, 6, 8, 7, 2, 1, 3, 3, 6, 14, 9, 12, 5, 3, 6, 3, 3, 5, 8, 1, 12, 6, 7, 7, 11, 1, 4, 13, 2, 18, 11, 2, 16, 2, 2, 20, 8, 12, 8, 2, 15, 15, 11, 4, 2, 1, 4, 8, 1, 3, 12, 18, 3, 1, 4, 5, 4, 13, 2, 1, 6, 6, 2, 4, 9, 1, 1, 4, 9, 1, 10, 1, 1, 1, 2, 3, 9, 9, 1, 1, 3, 4, 5, 4, 1, 1, 5, 3, 4, 1, 2, 3, 2, 5, 3, 6, 3, 1, 2, 1, 1, 2, 28, 9, 2, 13, 5, 1, 2, 12, 12, 4, 5, 9, 2, 3, 1, 1, 17, 16, 2, 9, 13, 3, 8, 3, 1, 8, 6, 2, 2, 5, 11, 1, 19, 5, 3, 1, 1, 1, 9, 14, 3, 4, 14, 4, 5, 3, 3, 2, 15, 9, 6, 19, 5, 1, 4, 10, 5, 2, 4, 1, 3, 3, 6, 4, 3, 9, 6, 4, 4, 9, 1, 2, 9, 1, 1, 7, 8, 1, 12, 2, 14, 5, 5, 2, 7, 8, 7, 3, 3, 16, 8, 1, 3, 8, 1, 26, 4, 21, 11, 4, 2, 3, 2, 7, 5, 1, 2, 11, 1, 1, 4, 4, 6, 2, 11, 7, 3, 3, 6, 2, 1, 1, 5, 2, 1, 5, 3, 1, 4, 1, 2, 9, 3, 1, 2, 2, 5, 6, 5, 1, 2, 4, 3, 5, 9, 6, 2, 3, 1, 3, 5, 12, 1, 6, 11, 5, 1, 4, 3, 1, 21, 3, 1, 3, 8, 3, 1, 9, 16, 1, 1, 15, 14, 2, 3, 3, 2, 13, 2, 1, 1, 5, 15, 2, 12, 9, 1, 8, 4, 4, 1, 7, 1, 2, 3, 4, 5, 1, 12, 9, 6, 2, 2, 2, 1, 5, 2, 13, 7, 1, 21, 5, 3, 5, 7, 5, 6, 5, 18, 6, 1, 2, 8, 7, 8, 12, 1, 1, 3, 1, 1, 2, 8, 21, 5, 5, 2, 2, 15, 1, 3, 1, 10, 8, 1, 3, 8, 6, 1, 3, 12, 4, 12, 6, 10, 6, 2, 6, 17, 1, 9, 2, 1, 14, 5, 1, 7, 7, 3, 5, 10, 1, 12, 5, 1, 6, 10, 6, 4, 9, 3, 2, 8, 5, 2, 3, 7, 9, 1, 2, 5, 4, 2, 1, 3, 5, 1, 2, 2, 17, 15, 4, 1, 27, 9, 1, 3, 5, 1, 1, 1, 2, 13, 5, 9, 1, 1, 2, 1, 3, 9, 2, 4, 5, 5, 1, 6, 2, 7, 7, 4, 4, 2, 13, 10, 3, 2, 12, 10, 3, 8, 4, 3, 7, 4, 5, 2, 11, 2, 6, 3, 16, 10, 10, 3, 1, 2, 5, 5, 1, 3, 5, 6, 2, 6, 10, 20, 1, 5, 8, 1, 9, 6, 1, 2, 14, 22, 1, 9, 2, 7, 2, 13, 2, 7, 7, 1, 5, 13, 1, 2, 3, 2, 7, 11, 4, 6, 1, 18, 7, 2, 2, 25, 4, 1, 18, 4, 2, 8, 14, 1, 2, 12, 8, 4, 8, 10, 3, 1, 1, 3, 8, 10, 3, 3, 15, 3, 1, 8, 6, 11, 7, 1, 3, 10, 12, 1, 12, 6, 20, 8, 2, 3, 12, 4, 13, 4, 4, 5, 5, 7, 14, 9, 1, 2, 9, 4, 6, 1, 21, 6, 1, 7, 9, 6, 2, 3, 3, 5, 8, 3, 3, 3, 5, 7, 1, 5, 2, 7, 3, 4, 8, 9, 1, 2, 9, 8, 5, 18, 2, 6, 5, 1, 4, 3, 1, 4, 14, 2, 3, 5, 6, 1, 2, 17, 18, 1, 1, 1, 5, 10, 4, 4, 1, 2, 1, 2, 22, 6, 8, 2, 4, 5, 14, 3, 1, 2, 7, 12, 6, 7, 14, 4, 6, 5, 3, 2, 10, 3, 1, 1, 1, 16, 2, 7, 6, 11, 9, 4, 1, 6, 11, 6, 9, 7, 2, 15, 7, 1, 7, 6, 4, 2, 18, 2, 5, 4, 12, 1, 5, 14, 1, 1, 1, 6, 6, 6, 5, 10, 2, 4, 1, 6, 6, 1, 1, 2, 11, 6, 1, 13, 3, 3, 2, 2, 9, 9, 1, 3, 1, 4, 17, 7, 1, 4, 13, 10, 4, 1, 10, 3, 4, 5, 3, 2, 2, 7, 11, 12, 12, 6, 6, 1, 23, 8, 4, 10, 4, 5, 8, 4, 18, 9, 3, 2, 1, 6, 6, 2, 3, 3, 13, 7, 2, 3, 9, 2, 1, 1, 8, 3, 1, 6, 1, 6, 5, 1, 6, 3, 13, 8, 1, 3, 12, 5, 4, 8, 1, 3, 1, 2, 3, 1, 1, 4, 4, 3, 10, 7, 2, 4, 17, 1, 3, 4, 4, 4, 2, 5, 11, 4, 1, 4, 10, 7, 2, 2, 13, 5, 5, 20, 8, 1, 2, 5, 2, 2, 18, 9, 7, 18, 4, 2, 11, 4, 15, 7, 3, 2, 3, 4, 1, 24, 3, 2, 8, 4, 6, 6, 3, 2, 11, 3, 4, 9, 1, 3, 7, 2, 3, 8, 7, 1, 2, 5, 2, 1, 11, 2, 3, 5, 11, 1, 5, 4, 15, 2, 4, 12, 2, 3, 7, 4, 4, 6, 1, 2, 1, 3, 4, 5, 7, 4, 1, 8, 1, 1, 16, 10, 6, 26, 4, 10, 6, 1, 2, 8, 9, 3, 1, 6, 3, 2, 2, 4, 8, 14, 4, 1, 2, 1, 4, 6, 1, 2, 1, 1, 2, 8, 15, 2, 10, 3, 2, 7, 8, 11, 3, 6, 17, 4, 1, 8, 20, 6, 7, 2, 4, 5, 1, 2, 4, 3, 1, 6, 3, 2, 3, 2, 3, 2, 1, 6, 2, 1, 1, 1, 5, 1, 8, 12, 3, 1, 3, 1, 6, 5, 4, 14, 1, 6, 8, 4, 2, 2, 2, 7, 6, 3, 10, 4, 9, 10, 3, 1, 9, 8, 2, 8, 10, 8, 1, 5, 6, 10, 5, 1, 6, 10, 2, 4, 10, 1, 8, 15, 5, 2, 10, 2, 1, 5, 9, 2, 5, 5, 5, 2, 21, 11, 3, 11, 3, 4, 3, 4, 3, 10, 1, 2, 11, 10, 5, 1, 5, 8, 2, 9, 8, 11, 8, 4, 18, 5, 15, 8, 4, 1, 22, 3, 10, 9, 6, 2, 2, 16, 8, 3, 3, 6, 17, 1, 12, 11, 1, 2, 2, 4, 2, 16, 13, 5, 3, 1, 2, 7, 1, 3, 1, 22, 11, 3, 1, 8, 14, 8, 2, 1, 6, 1, 4, 10, 1, 7, 10, 5, 6, 6, 1, 1, 7, 3, 3, 1, 18, 7, 1, 5, 4, 4, 1, 2, 12, 10, 2, 26, 2, 1, 4, 8, 2, 2, 1, 3, 8, 1, 5, 1, 4, 3, 8, 2, 3, 1, 2, 1, 3, 2, 2, 1, 3, 1, 4, 5, 6, 7, 4, 4, 5, 4, 11, 1, 4, 8, 1, 3, 7, 4, 2, 16, 2, 9, 1, 2, 5, 10, 5, 6, 2, 3, 5, 1, 8, 5, 3, 1, 11, 5, 3, 2, 9, 1, 1, 7, 2, 1, 3, 25, 2, 4, 1, 20, 4, 2, 9, 9, 2, 1, 11, 17, 2, 1, 4, 1, 4, 4, 1, 9, 1, 3, 3, 1, 4, 7, 10, 1, 7, 13, 1, 3, 7, 2, 14, 5, 5, 9, 7, 6, 1, 1, 1, 1, 4, 2, 3, 3, 1, 7, 7, 1, 6, 1, 1, 4, 7, 9, 6, 1, 1, 4, 2, 1, 7, 12, 1, 12, 8, 3, 6, 8, 6, 1, 1, 13, 13, 3, 6, 20, 1, 5, 5, 4, 1, 21, 12, 1, 1, 6, 2, 1, 3, 24, 5, 1, 7, 3, 1, 2, 9, 13, 4, 1, 3, 3, 2, 3, 8, 3, 1, 2, 3, 2, 7, 6, 6, 6, 7, 16, 3, 4, 5, 3, 2, 9, 1, 6, 2, 13, 15, 4, 3, 7, 9, 2, 3, 4, 8, 2, 4, 21, 1, 1, 21, 10, 1, 3, 1, 5, 5, 4, 1, 2, 6, 11, 2, 1, 19, 11, 1, 1, 8, 35, 3, 2, 11, 3, 17, 14, 2, 6, 5, 5, 12, 4, 1, 7, 10, 2, 5, 1, 3, 2, 2, 4, 2, 8, 8, 8, 16, 3, 9, 3, 2, 3, 10, 7, 10, 8, 4, 19, 2, 4, 11, 1, 1, 4, 8, 12, 17, 1, 1, 6, 18, 4, 8, 13, 2, 5, 3, 1, 7, 6, 6, 2, 4, 2, 4, 1, 6, 1, 6, 11, 8, 1, 10, 10, 4, 1, 11, 10, 7, 8, 3, 4, 6, 3, 3, 12, 5, 15, 5, 4, 4, 1, 14, 8, 7, 3, 4, 5, 1, 9, 5, 1, 7, 8, 1, 5, 6, 5, 1, 1, 4, 1, 15, 9, 3, 13, 7, 1, 3, 11, 2, 5, 8, 8, 2, 5, 1, 1, 5, 4, 9, 2, 5, 3, 4, 1, 2, 5, 3, 3, 1, 14, 4, 2, 1, 1, 1, 19, 2, 2, 30, 7, 2, 4, 7, 9, 3, 11, 3, 9, 1, 1, 3, 1, 7, 6, 18, 8, 9, 7, 1, 2, 8, 6, 1, 12, 26, 3, 1, 5, 1, 4, 12, 1, 2, 24, 2, 1, 2, 16, 14, 1, 5, 2, 1, 7, 3, 1, 1, 3, 1, 3, 1, 1, 3, 7, 23, 1, 10, 4, 1, 7, 2, 1, 5, 7, 14, 1, 2, 4, 1, 1, 1, 12, 4, 19, 2, 15, 13, 5, 2, 2, 9, 1, 8, 3, 10, 1, 9, 6, 3, 2, 4, 8, 2, 3, 43, 17, 8, 7, 4, 2, 9, 7, 1, 10, 9, 5, 1, 22, 5, 5, 1, 5, 3, 2, 9, 8, 6, 1, 7, 14, 2, 1, 5, 3, 5, 2, 13, 10, 1, 1, 14, 5, 1, 6, 7, 1, 3, 27, 2, 2, 9, 9, 1, 1, 15, 1, 10, 7, 5, 2, 1, 21, 7, 6, 1, 9, 6, 4, 9, 16, 1, 2, 33, 6, 6, 9, 6, 1, 1, 5, 10, 2, 13, 1, 2, 2, 7, 1, 7, 8, 3, 2, 10, 13, 1, 8, 6, 4, 4, 3, 28, 10, 2, 19, 2, 1, 7, 5, 4, 1, 4, 4, 1, 5, 11, 3, 6, 3, 3, 3, 4, 4, 7, 5, 1, 5, 9, 1, 1, 8, 6, 1, 1, 2, 1, 5, 17, 5, 11, 22, 1, 1, 5, 10, 4, 8, 3, 5, 3, 3, 2, 1, 1, 3, 1, 1, 5, 1, 10, 10, 3, 9, 4, 11, 11, 1, 1, 11, 3, 6, 9, 2, 10, 15, 5, 2, 10, 12, 2, 2, 10, 12, 5, 1, 4, 8, 3, 11, 9, 4, 2, 6, 9, 1, 2, 2, 1, 3, 22, 9, 1, 1, 1, 3, 1, 1, 18, 4, 1, 5, 10, 3, 6, 1, 4, 6, 6, 1, 22, 1, 7, 6, 14, 6, 2, 5, 13, 17, 1, 3, 2, 4, 1, 7, 4, 2, 2, 2, 2, 10, 6, 3, 8, 12, 3, 5, 8, 20, 7, 1, 3, 5, 1, 2, 8, 19, 6, 1, 1, 7, 17, 3, 3, 11, 6, 1, 3, 1, 2, 5, 13, 1, 5, 5, 2, 5, 10, 1, 18, 5, 6, 2, 8, 12, 4, 17, 7, 6, 3, 2, 7, 26, 5, 1, 4, 11, 3, 3, 11, 14, 4, 1, 6, 20, 5, 3, 2, 1, 3, 8, 1, 2, 1, 7, 1, 3, 1, 1, 1, 10, 6, 11, 8, 1, 6, 2, 2, 2, 5, 1, 1, 3, 2, 5, 1, 6, 9, 6, 1, 3, 5, 3, 2, 10, 6, 2, 3, 2, 12, 2, 22, 12, 1, 4, 9, 4, 1, 1, 2, 3, 1, 2, 14, 8, 11, 11, 4, 4, 2, 10, 6, 2, 7, 5, 1, 4, 24, 5, 7, 8, 1, 3, 7, 12, 6, 1, 1, 1, 11, 7, 2, 12, 20, 2, 3, 4, 14, 7, 4, 1, 5, 18, 2, 1, 2, 2, 1, 2, 1, 2, 6, 15, 3, 5, 9, 6, 2, 5, 7, 9, 8, 4, 3, 1, 3, 8, 5, 2, 15, 3, 1, 31, 14, 1, 1, 10, 4, 1, 4, 3, 1, 1, 13, 11, 9, 10, 7, 1, 6, 2, 1, 3, 6, 4, 6, 6, 4, 3, 1, 4, 2, 4, 1, 3, 12, 3, 8, 3, 2, 9, 4, 2, 1, 6, 2, 1, 6, 3, 9, 1, 12, 13, 2, 10, 6, 7, 4, 4, 2, 2, 5, 4, 2, 1, 11, 1, 9, 5, 7, 15, 3, 1, 2, 5, 4, 11, 9, 2, 3, 13, 4, 1, 2, 3, 22, 10, 2, 19, 7, 10, 8, 2, 5, 6, 13, 10, 1, 2, 8, 3, 4, 1, 4, 1, 3, 4, 4, 3, 5, 22, 2, 9, 2, 3, 2, 2, 1, 2, 6, 3, 2, 2, 8, 7, 8, 5, 12, 20, 2, 2, 2, 2, 4, 5, 6, 1, 4, 8, 7, 5, 1, 5, 5, 14, 4, 1, 2, 3, 2, 3, 15, 4, 2, 1, 8, 13, 2, 5, 1, 6, 14, 5, 4, 1, 1, 7, 1, 5, 6, 9, 7, 25, 6, 6, 2, 4, 1, 2, 4, 10, 5, 9, 11, 4, 1, 12, 9, 4, 6, 3, 2, 2, 5, 4, 7, 4, 9, 4, 4, 20, 5, 2, 7, 2, 4, 2, 1, 3, 1, 8, 7, 1, 4, 12, 5, 1, 4, 15, 1, 1, 12, 13, 1, 1, 2, 3, 11, 1, 7, 7, 8, 14, 2, 2, 11, 7, 1, 1, 6, 10, 6, 1, 4, 10, 3, 1, 3, 7, 1, 4, 3, 2, 9, 9, 5, 1, 1, 9, 4, 1, 8, 3, 8, 1, 31, 7, 10, 6, 6, 15, 1, 4, 1, 13, 1, 9, 1, 3, 15, 11, 2, 15, 7, 4, 1, 4, 14, 2, 7, 24, 3, 3, 7, 2, 7, 4, 4, 1, 9, 12, 6, 9, 5, 3, 4, 6, 1, 6, 19, 2, 13, 13, 1, 5, 3, 9, 6, 2, 6, 8, 4, 1, 6, 6, 3, 4, 6, 1, 7, 5, 3, 3, 5, 9, 1, 9, 4, 1, 5, 6, 3, 1, 2, 9, 5, 5, 12, 2, 4, 4, 2, 6, 16, 11, 2, 10, 2, 3, 4, 3, 1, 4, 11, 9, 1, 1, 1, 8, 7, 2, 18, 12, 6, 1, 5, 14, 6, 1, 3, 7, 9, 1, 4, 14, 1, 3, 2, 10, 8, 3, 6, 24, 2, 5, 8, 4, 7, 14, 2, 5, 8, 3, 3, 5, 5, 1, 5, 12, 2, 2, 6, 27, 9, 3, 4, 3, 1, 5, 10, 18, 3, 7, 5, 3, 5, 4, 2, 3, 19, 10, 2, 2, 4, 5, 6, 15, 10, 2, 6, 5, 4, 5, 3, 6, 6, 12, 2, 12, 5, 6, 1, 5, 3, 7, 2, 13, 8, 9, 2, 19, 4, 1, 4, 3, 5, 7, 4, 1, 4, 5, 3, 6, 3, 11, 1, 4, 11, 3, 8, 13, 2, 1, 7, 2, 6, 2, 7, 13, 3, 3, 3, 3, 5, 1, 11, 3, 4, 14, 4, 5, 6, 1, 8, 5, 1, 5, 1, 2, 7, 4, 5, 4, 2, 2, 6, 9, 6, 2, 3, 2, 6, 7, 5, 4, 11, 3, 7, 1, 11, 30, 3, 19, 18, 1, 7, 23, 3, 3, 12, 6, 3, 2, 2, 5, 6, 1, 4, 11, 14, 1, 4, 9, 6, 1, 1, 2, 1, 2, 7, 1, 4, 7, 2, 2, 2, 4, 7, 3, 6, 5, 3, 1, 10, 8, 2, 9, 4, 6, 18, 2, 13, 22, 2, 10, 9, 1, 6, 2, 7, 9, 7, 2, 1, 5, 8, 6, 1, 2, 5, 3, 8, 3, 1, 6, 4, 3, 5, 15, 5, 8, 7, 1, 10, 8, 1, 4, 4, 1, 3, 6, 1, 21, 1, 9, 3, 4, 1, 14, 2, 2, 3, 6, 1, 3, 6, 2, 5, 14, 3, 19, 11, 9, 2, 2, 1, 16, 7, 1, 1, 5, 10, 3, 8, 1, 4, 14, 1, 3, 4, 2, 1, 3, 4, 7, 6, 4, 5, 5, 3, 1, 1, 3, 9, 2, 18, 12, 3, 4, 9, 8, 2, 1, 8, 16, 1, 7, 11, 4, 12, 2, 1, 12, 2, 9, 13, 7, 1, 2, 9, 2, 5, 1, 1, 3, 13, 7, 5, 3, 4, 16, 1, 1, 4, 2, 1, 7, 6, 3, 2, 1, 3, 9, 2, 3, 4, 19, 11, 11, 4, 17, 8, 4, 4, 3, 4, 10, 11, 1, 10, 10, 1, 1, 3, 8, 1, 1, 2, 8, 5, 6, 1, 5, 20, 2, 2, 8, 2, 18, 8, 6, 4, 6, 7, 3, 2, 5, 2, 2, 5, 7, 2, 2, 16, 15, 7, 1, 3, 6, 10, 2, 15, 4, 2, 1, 4, 10, 8, 3, 2, 5, 9, 8, 8, 3, 2, 1, 3, 2, 3, 2, 5, 2, 2, 3, 4, 3, 12, 17, 3, 7, 9, 3, 2, 1, 1, 2, 1, 5, 3, 6, 2, 1, 22, 7, 4, 7, 5, 5, 1, 6, 1, 2, 2, 18, 6, 3, 2, 5, 1, 7, 11, 1, 1, 7, 9, 1, 9, 7, 7, 1, 3, 1, 3, 5, 1, 9, 8, 3, 36, 5, 2, 4, 1, 8, 6, 1, 5, 9, 3, 6, 12, 1, 1, 12, 7, 9, 5, 8, 6, 16, 9, 24, 10, 1, 4, 5, 8, 7, 5, 23, 6, 4, 4, 1, 7, 7, 8, 6, 5, 1, 6, 14, 4, 4, 17, 2, 9, 4, 4, 2, 9, 10, 1, 1, 11, 4, 1, 1, 4, 2, 1, 5, 7, 2, 1, 10, 5, 8, 7, 3, 21, 4, 1, 9, 7, 9, 3, 1, 8, 17, 6, 9, 15, 2, 2, 1, 9, 3, 3, 6, 10, 2, 10, 4, 2, 10, 2, 9, 11, 1, 2, 4, 3, 6, 3, 1, 11, 5, 8, 3, 6, 3, 1, 10, 7, 2, 14, 9, 6, 2, 4, 4, 1, 1, 6, 1, 1, 1, 9, 1, 3, 12, 8, 1, 11, 8, 5, 5, 3, 3, 1, 3, 3, 2, 4, 5, 2, 3, 1, 10, 7, 7, 12, 11, 14, 7, 12, 3, 7, 2, 4, 12, 1, 3, 7, 6, 2, 7, 3, 4, 2, 6, 3, 2, 1, 1, 6, 8, 1, 2, 2, 4, 6, 4, 4, 5, 11, 3, 3, 21, 6, 5, 8, 1, 3, 10, 2, 4, 7, 7, 1, 11, 11, 5, 20, 6, 28, 8, 2, 1, 5, 2, 5, 15, 4, 23, 6, 3, 3, 1, 3, 7, 16, 1, 1, 3, 8, 1, 11, 17, 2, 2, 6, 3, 15, 13, 8, 2, 1, 2, 5, 2, 6, 16, 3, 1, 9, 4, 2, 11, 6, 1, 2, 4, 9, 2, 5, 2, 9, 3, 1, 7, 14, 3, 1, 3, 2, 7, 6, 16, 1, 2, 7, 1, 3, 6, 1, 7, 24, 5, 4, 11, 16, 4, 3, 1, 2, 4, 1, 1, 1, 4, 27, 2, 7, 18, 1, 1, 3, 1, 1, 8, 5, 12, 13, 10, 1, 4, 8, 2, 4, 6, 2, 6, 5, 1, 2, 32, 3, 10, 5, 2, 2, 11, 13, 2, 1, 6, 6, 10, 6, 1, 5, 2, 2, 13, 1, 2, 1, 4, 3, 6, 3, 7, 7, 2, 4, 24, 2, 2, 3, 2, 2, 10, 5, 7, 1, 9, 7, 1, 1, 6, 5, 1, 1, 2, 1, 9, 9, 5, 8, 10, 4, 6, 4, 9, 7, 2, 10, 4, 1, 2, 4, 8, 2, 6, 4, 6, 12, 10, 9, 1, 6, 3, 6, 6, 1, 2, 10, 12, 1, 9, 1, 9, 12, 1, 4, 3, 2, 11, 6, 1, 2, 1, 1, 3, 2, 3, 2, 7, 1, 2, 3, 1, 2, 16, 1, 1, 1, 1, 2, 3, 11, 5, 8, 6, 2, 23, 10, 5, 5, 4, 4, 5, 8, 3, 4, 9, 2, 4, 2, 4, 1, 5, 11, 1, 1, 6, 1, 4, 8, 5, 1, 2, 6, 1, 17, 4, 1, 7, 9, 12, 3, 4, 7, 6, 4, 5, 5, 6, 5, 6, 12, 6, 1, 7, 3, 2, 16, 21, 2, 1, 1, 21, 1, 2, 6, 1, 28, 14, 8, 1, 5, 5, 4, 1, 1, 2, 1, 6, 10, 2, 1, 2, 4, 3, 2, 2, 2, 8, 7, 2, 3, 1, 9, 13, 8, 9, 8, 6, 2, 9, 17, 1, 3, 5, 6, 1, 7, 4, 6, 2, 2, 5, 4, 3, 3, 5, 2, 7, 9, 3, 2, 2, 2, 8, 4, 6, 10, 2, 5, 13, 1, 6, 1, 8, 5, 15, 9, 8, 4, 21, 11, 4, 3, 1, 14, 6, 5, 3, 8, 1, 2, 11, 5, 2, 8, 13, 2, 1, 10, 17, 6, 3, 11, 7, 2, 4, 7, 4, 1, 4, 2, 1, 2, 6, 2, 7, 5, 10, 14, 4, 6, 3, 7, 1, 5, 3, 2, 3, 2, 1, 5, 10, 8, 2, 5, 14, 7, 3, 2, 23, 3, 3, 9, 2, 7, 2, 3, 17, 7, 1, 1, 7, 16, 8, 7, 6, 9, 2, 10, 13, 11, 1, 2, 6, 4, 2, 1, 11, 17, 8, 1, 7, 9, 7, 2, 7, 7, 2, 9, 4, 1, 2, 2, 3, 1, 6, 2, 1, 2, 9, 8, 1, 4, 8, 2, 2, 3, 1, 13, 12, 3, 3, 16, 7, 8, 1, 1, 9, 12, 6, 4, 1, 1, 8, 13, 10, 21, 11, 1, 2, 10, 5, 6, 3, 2, 7, 5, 5, 4, 5, 3, 1, 4, 15, 1, 4, 2, 8, 5, 7, 3, 1, 4, 14, 2, 7, 11, 22, 1, 1, 9, 16, 5, 1, 1, 1, 2, 6, 2, 12, 19, 1, 2, 1, 2, 14, 6, 1, 1, 6, 2, 4, 8, 5, 8, 2, 6, 3, 14, 10, 2, 5, 6, 1, 2, 10, 3, 2, 6, 1, 2, 4, 6, 7, 2, 10, 6, 1, 12, 15, 5, 7, 22, 2, 1, 11, 8, 2, 12, 1, 4, 4, 1, 3, 5, 11, 2, 2, 9, 4, 4, 3, 9, 2, 2, 4, 3, 1, 4, 4, 3, 2, 21, 9, 1, 1, 5, 9, 3, 8, 5, 8, 11, 2, 8, 9, 2, 7, 17, 3, 2, 1, 2, 3, 11, 13, 3, 3, 1, 6, 15, 5, 10, 7, 1, 5, 6, 2, 6, 11, 1, 22, 9, 4, 6, 3, 10, 4, 2, 10, 1, 3, 4, 2, 1, 8, 14, 3, 5, 10, 1, 1, 6, 5, 1, 1, 7, 8, 7, 15, 12, 5, 2, 4, 12, 2, 8, 3, 1, 1, 1, 10, 20, 4, 1, 5, 10, 2, 1, 1, 15, 5, 1, 7, 16, 5, 4, 3, 11, 1, 3, 2, 1, 2, 1, 4, 11, 5, 1, 3, 11, 4, 6, 1, 8, 6, 4, 4, 2, 6, 6, 2, 3, 1, 1, 10, 1, 4, 1, 3, 3, 2, 7, 5, 3, 9, 18, 4, 1, 5, 2, 6, 3, 5, 1, 6, 3, 1, 3, 4, 5, 1, 12, 14, 1, 5, 4, 1, 1, 1, 3, 3, 16, 2, 4, 4, 9, 3, 6, 6, 1, 8, 4, 2, 15, 10, 1, 2, 2, 4, 1, 11, 12, 1, 15, 9, 7, 8, 5, 2, 1, 6, 2, 5, 4, 1, 7, 19, 1, 3, 6, 20, 2, 1, 2, 11, 2, 10, 1, 4, 4, 1, 14, 5, 2, 1, 6, 2, 4, 2, 8, 1, 7, 8, 14, 2, 8, 6, 4, 2, 19, 5, 5, 25, 3, 2, 7, 5, 1, 7, 5, 7, 14, 2, 3, 3, 3, 7, 8, 1, 1, 14, 8, 3, 8, 1, 4, 4, 4, 1, 1, 6, 4, 1, 17, 11, 6, 1, 2, 8, 4, 4, 1, 2, 12, 1, 1, 6, 7, 2, 1, 7, 7, 12, 6, 1, 4, 6, 2, 4, 6, 10, 4, 8, 2, 1, 5, 2, 22, 3, 1, 1, 4, 10, 1, 1, 4, 2, 9, 11, 5, 1, 8, 3, 7, 2, 10, 9, 5, 6, 9, 7, 1, 3, 24, 3, 1, 3, 28, 8, 3, 1, 8, 2, 2, 1, 5, 5, 4, 11, 2, 2, 7, 4, 5, 1, 10, 14, 1, 9, 17, 1, 4, 3, 1, 5, 9, 6, 1, 1, 7, 6, 2, 8, 10, 6, 1, 22, 1, 16, 1, 10, 4, 9, 8, 3, 8, 12, 5, 11, 4, 2, 7, 7, 1, 10, 7, 9, 4, 2, 13, 14, 5, 6, 4, 1, 2, 7, 9, 1, 3, 8, 4, 1, 2, 2, 3, 4, 4, 1, 5, 5, 2, 2, 4, 3, 4, 5, 4, 3, 4, 7, 2, 1, 4, 16, 10, 1, 1, 24, 9, 2, 1, 8, 4, 1, 13, 17, 2, 1, 1, 7, 3, 3, 4, 1, 24, 6, 3, 6, 4, 2, 1, 4, 1, 8, 3, 3, 12, 9, 3, 4, 3, 1, 4, 3, 4, 1, 7, 7, 1, 6, 3, 5, 9, 8, 2, 8, 3, 3, 1, 2, 9, 6, 10, 20, 1, 5, 5, 6, 5, 11, 1, 1, 5, 4, 1, 1, 6, 9, 10, 2, 7, 2, 5, 2, 5, 10, 1, 4, 10, 5, 3, 9, 21, 6, 1, 1, 4, 5, 4, 3, 1, 6, 11, 2, 7, 11, 1, 2, 15, 4, 2, 3, 2, 5, 2, 9, 12, 2, 6, 5, 14, 1, 3, 12, 9, 4, 2, 7, 2, 4, 10, 14, 8, 2, 13, 13, 4, 5, 19, 12, 5, 1, 1, 1, 3, 6, 11, 6, 6, 14, 10, 9, 25, 7, 10, 9, 2, 21, 2, 1, 2, 5, 4, 3, 3, 13, 5, 1, 5, 7, 1, 6, 6, 17, 3, 9, 6, 9, 1, 4, 6, 1, 4, 9, 9, 1, 4, 8, 8, 5, 1, 9, 2, 3, 6, 1, 2, 5, 4, 2, 2, 10, 4, 1, 1, 8, 10, 2, 1, 17, 6, 3, 12, 5, 1, 18, 2, 8, 5, 1, 4, 4, 2, 3, 4, 4, 2, 4, 3, 1, 3, 10, 4, 6, 10, 1, 2, 3, 1, 6, 1, 2, 3, 2, 1, 3, 1, 24, 2, 2, 2, 4, 1, 7, 5, 11, 2, 1, 9, 1, 3, 5, 3, 9, 8, 5, 15, 1, 5, 11, 7, 13, 7, 2, 1, 1, 1, 3, 1, 3, 3, 9, 1, 7, 3, 1, 3, 1, 3, 1, 13, 7, 3, 1, 1, 2, 2, 2, 3, 7, 1, 1, 8, 1, 2, 2, 1, 2, 6, 2, 4, 10, 21, 9, 1, 1, 20, 2, 3, 2, 2, 6, 1, 3, 14, 15, 5, 11, 17, 6, 1, 4, 17, 10, 12, 4, 2, 5, 8, 5, 2, 3, 1, 1, 7, 12, 11, 1, 3, 1, 1, 1, 10, 8, 11, 8, 1, 4, 2, 4, 1, 2, 3, 10, 1, 5, 2, 4, 5, 3, 11, 2, 7, 11, 2, 3, 5, 1, 4, 1, 4, 23, 2, 2, 13, 4, 14, 5, 2, 1, 2, 10, 1, 6, 5, 13, 6, 3, 4, 4, 2, 1, 7, 10, 3, 4, 1, 2, 1, 4, 9, 4, 5, 12, 5, 1, 4, 12, 10, 10, 21, 3, 1, 6, 4, 2, 1, 18, 6, 1, 9, 14, 4, 1, 2, 2, 3, 10, 12, 6, 1, 3, 5, 3, 2, 1, 8, 7, 1, 16, 4, 6, 5, 6, 5, 3, 8, 6, 6, 2, 1, 4, 12, 4, 4, 1, 4, 12, 3, 5, 9, 6, 1, 1, 6, 2, 1, 2, 3, 7, 7, 4, 4, 9, 9, 5, 24, 10, 2, 3, 16, 6, 2, 1, 4, 5, 19, 13, 2, 7, 10, 2, 1, 1, 19, 6, 3, 8, 6, 1, 2, 6, 4, 2, 4, 4, 1, 6, 6, 3, 1, 6, 7, 4, 29, 9, 2, 5, 26, 7, 10, 2, 7, 10, 10, 4, 2, 10, 5, 1, 7, 3, 3, 3, 3, 3, 7, 1, 9, 6, 1, 1, 1, 6, 5, 2, 6, 15, 5, 5, 6, 3, 7, 2, 3, 7, 2, 3, 2, 2, 10, 14, 2, 7, 7, 2, 16, 1, 6, 1, 6, 6, 2, 3, 5, 13, 10, 2, 1, 3, 10, 4, 3, 2, 16, 1, 1, 3, 2, 3, 6, 4, 1, 1, 3, 18, 6, 1, 6, 13, 4, 3, 11, 1, 1, 4, 18, 2, 1, 3, 28, 4, 1, 1, 3, 9, 8, 2, 4, 12, 4, 1, 2, 2, 1, 17, 2, 9, 2, 9, 15, 1, 2, 10, 3, 1, 2, 5, 4, 3, 1, 3, 6, 7, 2, 3, 1, 4, 2, 1, 7, 3, 1, 6, 4, 15, 10, 2, 6, 18, 2, 3, 21, 3, 4, 1, 1, 2, 1, 16, 1, 3, 25, 10, 4, 8, 2, 2, 7, 3, 3, 3, 14, 2, 6, 4, 6, 1, 1, 8, 2, 2, 19, 8, 20, 2, 1, 30, 8, 1, 2, 12, 7, 6, 6, 11, 2, 1, 3, 2, 5, 8, 2, 2, 2, 1, 2, 7, 11, 8, 1, 6, 11, 9, 1, 1, 10, 7, 2, 1, 2, 16, 4, 4, 4, 6, 2, 3, 3, 2, 5, 4, 12, 8, 3, 4, 8, 16, 1, 4, 5, 5, 1, 9, 17, 5, 5, 14, 1, 6, 3, 2, 2, 8, 8, 1, 6, 10, 7, 1, 1, 1, 11, 3, 1, 18, 2, 14, 9, 4, 2, 13, 7, 3, 6, 18, 1, 5, 15, 3, 1, 3, 3, 1, 1, 10, 1, 3, 2, 1, 2, 8, 4, 2, 3, 21, 2, 11, 8, 5, 15, 2, 6, 12, 6, 10, 2, 5, 12, 16, 11, 10, 6, 6, 4, 1, 7, 6, 2, 6, 9, 5, 2, 1, 9, 10, 2, 9, 19, 3, 5, 11, 2, 9, 1, 15, 10, 4, 2, 5, 12, 8, 2, 3, 1, 6, 10, 1, 4, 2, 1, 1, 1, 3, 11, 5, 1, 2, 11, 13, 2, 5, 5, 8, 2, 3, 1, 2, 6, 9, 4, 6, 1, 7, 2, 4, 21, 2, 2, 4, 1, 2, 6, 1, 4, 11, 2, 3, 9, 4, 6, 3, 5, 6, 2, 1, 8, 7, 8, 1, 4, 5, 8, 9, 10, 2, 1, 4, 5, 1, 6, 7, 7, 21, 9, 2, 1, 3, 2, 7, 10, 15, 4, 5, 2, 12, 5, 1, 4, 15, 1, 4, 16, 6, 15, 2, 7, 1, 4, 3, 2, 2, 5, 17, 3, 5, 9, 4, 4, 8, 2, 2, 8, 8, 2, 5, 17, 1, 1, 2, 17, 11, 1, 10, 8, 3, 3, 2, 4, 12, 2, 1, 2, 12, 4, 1, 3, 2, 4, 9, 2, 3, 6, 9, 8, 5, 3, 7, 9, 1, 1, 10, 10, 2, 1, 1, 13, 19, 2, 5, 5, 13, 1, 6, 21, 3, 15, 2, 2, 1, 1, 8, 4, 1, 5, 18, 8, 7, 12, 22, 9, 10, 12, 9, 9, 11, 4, 2, 13, 21, 4, 2, 6, 9, 3, 1, 1, 10, 5, 19, 7, 4, 3, 2, 3, 17, 4, 1, 1, 7, 16, 4, 1, 13, 6, 2, 5, 22, 3, 3, 4, 6, 4, 1, 15, 1, 6, 6, 1, 8, 21, 12, 2, 7, 9, 13, 2, 11, 6, 6, 1, 6, 6, 8, 8, 7, 10, 2, 2, 11, 4, 1, 8, 12, 1, 2, 5, 7, 3, 2, 7, 7, 4, 3, 11, 7, 1, 1, 10, 17, 2, 15, 10, 5, 2, 1, 1, 9, 13, 4, 4, 8, 12, 3, 4, 13, 6, 1, 2, 5, 1, 1, 9, 2, 1, 2, 2, 9, 7, 9, 1, 22, 1, 7, 4, 8, 2, 7, 11, 3, 1, 5, 2, 9, 7, 3, 1, 11, 8, 7, 3, 12, 11, 4, 1, 2, 1, 6, 7, 1, 1, 9, 1, 6, 14, 6, 1, 3, 1, 2, 9, 13, 3, 2, 5, 11, 1, 2, 3, 1, 4, 2, 4, 13, 3, 3, 1, 1, 5, 2, 8, 21, 3, 2, 14, 4, 6, 3, 8, 7, 2, 4, 7, 2, 3, 1, 10, 9, 3, 2, 6, 2, 1, 20, 3, 6, 2, 5, 11, 3, 1, 2, 1, 2, 3, 1, 7, 12, 5, 1, 5, 5, 6, 1, 3, 7, 1, 10, 1, 11, 12, 2, 6, 6, 14, 4, 13, 8, 1, 2, 6, 6, 3, 3, 2, 4, 1, 1, 23, 5, 5, 6, 16, 3, 2, 2, 1, 1, 11, 5, 1, 4, 8, 6, 2, 4, 12, 4, 5, 12, 9, 4, 4, 8, 1, 8, 16, 1, 3, 1, 4, 4, 1, 3, 16, 5, 3, 11, 8, 3, 1, 4, 11, 6, 6, 10, 6, 7, 9, 1, 9, 10, 7, 6, 5, 2, 1, 1, 9, 2, 1, 6, 5, 2, 2, 2, 3, 3, 8, 8, 8, 5, 2, 1, 6, 3, 1, 1, 4, 6, 1, 3, 8, 13, 3, 1, 1, 2, 6, 12, 1, 7, 3, 3, 2, 21, 3, 5, 15, 10, 1, 2, 8, 3, 13, 5, 1, 5, 9, 2, 13, 6, 2, 1, 6, 6, 4, 6, 1, 2, 1, 2, 10, 1, 1, 1, 8, 7, 3, 3, 9, 23, 6, 1, 6, 8, 3, 1, 2, 8, 9, 1, 19, 1, 1, 4, 3, 1, 11, 6, 1, 5, 9, 1, 5, 10, 1, 2, 12, 2, 13, 7, 5, 5, 1, 5, 4, 20, 7, 1, 2, 15, 3, 1, 3, 17, 6, 3, 9, 3, 1, 3, 8, 3, 1, 3, 22, 6, 2, 6, 2, 5, 3, 3, 8, 5, 5, 8, 8, 3, 1, 10, 5, 18, 15, 5, 8, 9, 7, 6, 3, 7, 12, 8, 1, 14, 4, 2, 2, 3, 2, 1, 1, 5, 6, 12, 3, 5, 1, 5, 1, 2, 3, 2, 8, 6, 2, 1, 2, 24, 1, 1, 15, 9, 2, 4, 3, 13, 1, 4, 15, 1, 5, 11, 2, 14, 1, 5, 4, 1, 5, 6, 1, 7, 11, 5, 2, 8, 3, 2, 2, 2, 6, 1, 2, 8, 2, 18, 3, 1, 5, 4, 2, 14, 10, 6, 2, 10, 6, 3, 12, 3, 1, 1, 25, 8, 1, 1, 12, 11, 3, 5, 2, 4, 12, 2, 1, 20, 2, 1, 6, 2, 1, 10, 10, 7, 1, 8, 10, 19, 4, 1, 4, 4, 14, 3, 3, 8, 2, 1, 6, 15, 7, 2, 20, 2, 1, 2, 7, 8, 6, 3, 19, 4, 4, 4, 1, 22, 16, 4, 1, 6, 7, 3, 4, 1, 7, 4, 1, 1, 4, 14, 14, 2, 2, 23, 2, 4, 4, 2, 6, 20, 10, 3, 6, 3, 6, 12, 7, 1, 6, 7, 1, 1, 3, 3, 7, 4, 1, 2, 23, 1, 1, 3, 15, 5, 2, 1, 8, 19, 3, 1, 2, 17, 12, 2, 4, 2, 2, 7, 24, 3, 4, 4, 1, 1, 6, 3, 2, 9, 5, 1, 3, 7, 2, 9, 13, 1, 7, 15, 3, 9, 4, 7, 29, 2, 8, 15, 2, 1, 10, 5, 5, 1, 2, 10, 1, 1, 6, 2, 1, 9, 5, 3, 1, 4, 9, 7, 2, 1, 1, 2, 7, 3, 4, 19, 1, 3, 8, 12, 1, 1, 14, 9, 4, 29, 3, 1, 10, 3, 1, 5, 3, 4, 7, 4, 3, 8, 16, 1, 5, 7, 7, 5, 16, 1, 3, 2, 1, 11, 7, 4, 8, 2, 2, 13, 3, 1, 1, 19, 10, 1, 3, 4, 2, 2, 2, 3, 11, 12, 5, 2, 2, 3, 3, 1, 3, 7, 4, 17, 11, 5, 9, 6, 11, 2, 3, 11, 1, 3, 1, 4, 3, 2, 3, 4, 5, 6, 1, 4, 1, 1, 3, 2, 3, 5, 1, 1, 13, 9, 2, 3, 5, 12, 9, 7, 2, 2, 2, 3, 5, 2, 3, 2, 2, 13, 1, 4, 1, 11, 13, 3, 2, 15, 11, 1, 1, 15, 6, 1, 3, 6, 5, 3, 4, 3, 1, 3, 9, 2, 1, 17, 5, 3, 1, 3, 8, 2, 2, 9, 12, 2, 1, 1, 3, 4, 4, 6, 9, 8, 4, 3, 1, 4, 2, 3, 11, 17, 9, 3, 2, 5, 21, 2, 2, 16, 2, 7, 19, 7, 4, 1, 3, 5, 3, 5, 3, 3, 5, 10, 3, 6, 7, 1, 6, 7, 1, 1, 3, 3, 1, 4, 3, 2, 1, 3, 12, 12, 13, 7, 1, 5, 2, 2, 3, 11, 6, 3, 11, 4, 1, 2, 6, 1, 10, 13, 2, 1, 2, 10, 2, 4, 5, 1, 3, 7, 14, 8, 16, 3, 2, 2, 1, 8, 21, 4, 1, 2, 5, 13, 3, 2, 9, 7, 4, 1, 1, 27, 3, 8, 3, 3, 6, 16, 6, 1, 13, 18, 1, 5, 1, 1, 6, 9, 1, 11, 12, 5, 1, 6, 1, 8, 7, 2, 1, 3, 3, 1, 8, 14, 9, 2, 9, 12, 13, 5, 5, 2, 1, 1, 2, 6, 1, 18, 1, 2, 8, 1, 1, 8, 12, 2, 14, 5, 1, 3, 9, 10, 2, 3, 8, 1, 6, 7, 13, 3, 5, 13, 4, 12, 9, 2, 2, 4, 8, 14, 14, 3, 5, 2, 3, 4, 3, 12, 7, 2, 12, 4, 2, 1, 3, 1, 1, 8, 1, 9, 10, 8, 1, 9, 13, 1, 4, 15, 9, 2, 4, 1, 6, 3, 8, 22, 6, 3, 13, 8, 3, 5, 12, 1, 1, 2, 25, 4, 1, 14, 17, 2, 1, 4, 4, 5, 2, 3, 7, 2, 9, 1, 3, 10, 12, 1, 7, 6, 2, 23, 3, 2, 1, 7, 1, 4, 15, 3, 2, 5, 2, 1, 1, 21, 8, 4, 8, 13, 6, 1, 3, 4, 1, 2, 2, 4, 8, 6, 1, 8, 10, 4, 18, 1, 3, 3, 2, 1, 5, 10, 10, 2, 2, 6, 6, 7, 2, 1, 11, 16, 4, 5, 9, 2, 8, 5, 3, 14, 1, 4, 1, 10, 7, 3, 12, 5, 9, 5, 4, 18, 14, 3, 8, 5, 6, 12, 3, 1, 14, 8, 4, 4, 15, 1, 1, 5, 12, 5, 4, 3, 2, 2, 1, 4, 4, 1, 7, 12, 1, 3, 3, 8, 7, 1, 1, 23, 6, 7, 2, 1, 4, 9, 11, 1, 1, 4, 8, 6, 1, 2, 15, 7, 3, 4, 12, 1, 2, 9, 6, 4, 8, 4, 3, 9, 12, 1, 9, 2, 6, 8, 3, 3, 2, 9, 1, 2, 5, 4, 4, 2, 2, 1, 6, 13, 2, 4, 10, 4, 1, 4, 5, 5, 3, 15, 1, 2, 3, 5, 1, 1, 5, 8, 5, 2, 16, 4, 1, 4, 3, 4, 2, 8, 10, 5, 25, 7, 1, 5, 3, 3, 3, 2, 5, 7, 4, 3, 5, 8, 6, 6, 1, 11, 1, 3, 2, 11, 19, 4, 5, 16, 6, 6, 4, 8, 11, 1, 1, 8, 10, 2, 6, 5, 1, 2, 8, 4, 6, 18, 6, 6, 4, 5, 9, 7, 2, 1, 7, 6, 1, 3, 13, 14, 7, 8, 7, 4, 7, 3, 2, 5, 4, 1, 1, 1, 1, 8, 10, 1, 5, 5, 1, 1, 5, 20, 6, 1, 2, 1, 2, 10, 1, 6, 12, 6, 7, 12, 4, 7, 6, 2, 2, 8, 9, 3, 15, 14, 2, 8, 7, 3, 4, 5, 12, 2, 6, 6, 7, 9, 1, 1, 11, 3, 1, 1, 1, 2, 3, 3, 3, 1, 5, 10, 6, 7, 1, 18, 6, 2, 4, 9, 3, 4, 19, 6, 2, 1, 4, 3, 7, 2, 1, 4, 2, 1, 2, 8, 4, 1, 14, 14, 4, 1, 13, 4, 2, 1, 10, 15, 6, 1, 6, 23, 12, 1, 1, 12, 1, 1, 3, 18, 4, 12, 1, 2, 2, 20, 5, 2, 9, 9, 1, 15, 12, 6, 10, 11, 2, 1, 2, 5, 1, 9, 9, 3, 7, 12, 2, 1, 3, 5, 1, 9, 7, 3, 6, 6, 2, 1, 1, 9, 1, 1, 7, 21, 1, 4, 4, 2, 5, 3, 15, 17, 5, 8, 2, 11, 4, 2, 2, 7, 6, 1, 3, 4, 7, 4, 5, 3, 6, 1, 3, 6, 14, 1, 1, 3, 7, 9, 1, 18, 17, 1, 1, 2, 1, 4, 8, 4, 6, 5, 5, 7, 2, 6, 1, 2, 3, 19, 1, 6, 9, 11, 1, 3, 14, 8, 2, 6, 12, 4, 2, 4, 1, 6, 2, 5, 10, 3, 2, 33, 13, 6, 6, 2, 11, 10, 5, 23, 7, 3, 1, 10, 9, 4, 2, 17, 5, 1, 22, 11, 1, 10, 13, 2, 3, 8, 3, 2, 6, 4, 4, 11, 8, 10, 3, 1, 3, 9, 7, 2, 6, 16, 15, 7, 3, 2, 8, 5, 2, 9, 8, 5, 1, 4, 5, 1, 2, 1, 6, 7, 1, 1, 2, 4, 1, 5, 7, 5, 8, 10, 1, 6, 3, 6, 3, 7, 5, 3, 2, 4, 3, 1, 8, 10, 2, 5, 6, 6, 2, 15, 9, 2, 2, 2, 6, 4, 1, 5, 11, 5, 2, 3, 15, 12, 1, 2, 10, 10, 7, 2, 1, 3, 13, 9, 10, 8, 1, 5, 5, 6, 1, 1, 6, 3, 9, 10, 4, 15, 14, 2, 4, 2, 16, 6, 1, 2, 2, 3, 1, 5, 4, 5, 1, 1, 28, 5, 3, 6, 12, 4, 2, 4, 7, 10, 10, 16, 4, 15, 6, 2, 3, 9, 5, 8, 2, 4, 2, 8, 9, 4, 5, 1, 2, 1, 4, 2, 2, 1, 5, 5, 8, 1, 2, 5, 5, 4, 11, 4, 4, 2, 1, 5, 8, 1, 2, 8, 12, 9, 7, 12, 1, 8, 4, 1, 10, 11, 5, 8, 2, 3, 7, 1, 8, 7, 1, 5, 15, 9, 4, 3, 21, 2, 2, 1, 4, 6, 1, 3, 31, 2, 2, 1, 4, 1, 3, 3, 1, 7, 1, 2, 7, 9, 1, 5, 15, 1, 3, 1, 12, 9, 8, 5, 1, 1, 4, 4, 6, 5, 1, 7, 2, 1, 8, 10, 1, 36, 9, 14, 19, 5, 2, 8, 4, 1, 1, 3, 22, 11, 2, 2, 14, 28, 1, 2, 2, 1, 4, 2, 1, 3, 13, 5, 1, 1, 2, 4, 3, 4, 14, 15, 7, 4, 1, 4, 2, 5, 1, 6, 7, 1, 4, 10, 1, 3, 17, 4, 2, 5, 5, 3, 4, 6, 7, 1, 4, 4, 4, 3, 1, 10, 9, 3, 1, 3, 1, 9, 3, 2, 7, 4, 1, 1, 5, 9, 2, 1, 4, 2, 1, 1, 2, 6, 1, 1, 6, 5, 2, 2, 5, 3, 4, 5, 1, 1, 3, 1, 3, 9, 11, 1, 8, 4, 1, 1, 9, 3, 6, 3, 15, 4, 1, 7, 4, 5, 1, 3, 8, 2, 18, 4, 5, 7, 2, 2, 4, 3, 7, 11, 3, 1, 4, 8, 2, 1, 5, 7, 3, 8, 7, 6, 5, 4, 3, 1, 8, 8, 6, 6, 10, 15, 5, 12, 9, 1, 5, 12, 6, 16, 11, 3, 11, 3, 1, 11, 6, 2, 2, 8, 6, 6, 7, 6, 1, 3, 1, 7, 8, 2, 1, 12, 4, 10, 4, 1, 6, 10, 5, 1, 2, 5, 3, 4, 2, 1, 5, 2, 7, 4, 4, 3, 7, 5, 2, 6, 12, 5, 4, 6, 16, 1, 10, 10, 3, 2, 11, 7, 13, 9, 1, 2, 1, 5, 23, 5, 2, 2, 1, 4, 1, 1, 10, 22, 8, 4, 2, 14, 7, 4, 1, 2, 1, 5, 8, 1, 7, 14, 4, 7, 16, 4, 1, 5, 7, 1, 5, 7, 19, 1, 5, 2, 6, 11, 14, 1, 6, 15, 2, 1, 1, 3, 7, 4, 3, 1, 4, 3, 4, 2, 1, 3, 3, 1, 1, 13, 13, 1, 1, 2, 3, 2, 2, 3, 6, 1, 3, 1, 2, 9, 2, 1, 7, 11, 1, 3, 15, 14, 1, 4, 7, 3, 8, 24, 2, 9, 5, 10, 4, 8, 4, 2, 1, 3, 1, 6, 2, 1, 16, 14, 1, 16, 4, 9, 1, 2, 2, 1, 3, 30, 9, 1, 1, 7, 1, 1, 1, 9, 7, 2, 11, 3, 2, 6, 2, 3, 5, 15, 1, 3, 1, 1, 1, 1, 2, 2, 4, 2, 3, 9, 5, 1, 6, 7, 3, 1, 4, 6, 1, 3, 6, 4, 4, 2, 14, 6, 9, 14, 2, 12, 7, 1, 26, 3, 1, 1, 5, 8, 14, 1, 11, 10, 6, 1, 4, 23, 7, 6, 10, 1, 1, 4, 14, 2, 3, 15, 8, 2, 3, 10, 8, 2, 1, 18, 8, 5, 1, 4, 6, 8, 3, 1, 8, 1, 11, 1, 4, 1, 3, 4, 5, 7, 12, 6, 1, 9, 7, 1, 9, 1, 6, 4, 13, 3, 2, 3, 4, 5, 5, 1, 3, 3, 7, 7, 3, 1, 2, 8, 1, 1, 3, 6, 15, 10, 2, 3, 10, 2, 8, 7, 1, 1, 4, 10, 2, 3, 8, 2, 1, 1, 2, 13, 1, 1, 6, 2, 28, 9, 3, 1, 2, 1, 3, 1, 5, 10, 7, 1, 1, 1, 5, 3, 3, 5, 1, 1, 5, 2, 8, 8, 3, 1, 12, 1, 4, 14, 7, 1, 2, 15, 5, 1, 6, 2, 4, 16, 1, 2, 1, 12, 5, 4, 1, 11, 2, 1, 2, 11, 2, 6, 16, 1, 7, 4, 6, 1, 7, 1, 3, 3, 4, 5, 6, 3, 1, 4, 11, 10, 1, 7, 8, 6, 7, 3, 2, 1, 1, 8, 1, 4, 7, 8, 14, 3, 1, 19, 3, 4, 5, 1, 10, 13, 17, 1, 1, 2, 1, 7, 10, 1, 2, 5, 2, 6, 22, 4, 1, 1, 2, 5, 10, 1, 10, 18, 7, 1, 4, 6, 9, 1, 4, 2, 1, 1, 10, 10, 1, 6, 2, 3, 5, 3, 1, 2, 1, 5, 1, 6, 10, 4, 3, 23, 1, 5, 12, 3, 18, 5, 1, 4, 18, 2, 6, 12, 12, 1, 1, 12, 11, 1, 5, 5, 3, 6, 8, 4, 5, 3, 2, 2, 3, 1, 14, 2, 4, 3, 6, 7, 1, 8, 2, 3, 9, 11, 5, 8, 5, 4, 2, 2, 11, 10, 4, 2, 3, 3, 4, 2, 7, 9, 6, 5, 7, 6, 1, 2, 5, 7, 9, 6, 3, 1, 10, 19, 1, 4, 2, 1, 9, 8, 1, 8, 11, 1, 1, 1, 26, 3, 2, 1, 2, 5, 1, 12, 23, 2, 1, 5, 7, 2, 12, 8, 2, 4, 8, 1, 1, 3, 8, 1, 13, 6, 1, 2, 1, 3, 3, 14, 4, 2, 13, 9, 3, 1, 5, 3, 1, 4, 32, 5, 1, 1, 7, 10, 5, 1, 23, 11, 1, 1, 2, 14, 13, 6, 4, 4, 1, 11, 7, 2, 4, 2, 1, 1, 5, 1, 6, 10, 1, 2, 6, 6, 3, 2, 5, 4, 4, 1, 5, 11, 4, 20, 11, 2, 5, 17, 2, 4, 4, 1, 7, 7, 3, 5, 24, 5, 1, 1, 3, 7, 2, 4, 3, 9, 5, 3, 2, 8, 7, 11, 4, 1, 13, 7, 1, 3, 5, 1, 3, 2, 1, 3, 3, 14, 3, 1, 4, 7, 2, 4, 4, 12, 1, 1, 14, 8, 3, 9, 5, 6, 7, 8, 1, 1, 2, 11, 1, 7, 16, 3, 1, 2, 7, 1, 2, 14, 6, 1, 4, 4, 2, 4, 12, 6, 13, 15, 4, 5, 8, 5, 1, 10, 11, 2, 11, 8, 3, 1, 3, 9, 9, 1, 3, 8, 3, 12, 9, 7, 6, 1, 9, 1, 1, 6, 13, 11, 3, 7, 2, 1, 16, 11, 1, 5, 7, 6, 1, 6, 10, 3, 4, 11, 19, 4, 3, 18, 11, 2, 7, 10, 3, 5, 5, 1, 6, 11, 13, 5, 19, 8, 4, 2, 3, 1, 1, 1, 8, 10, 1, 3, 1, 11, 1, 1, 6, 6, 7, 1, 2, 11, 18, 10, 3, 3, 1, 2, 2, 6, 7, 11, 13, 4, 1, 5, 2, 1, 11, 5, 1, 1, 17, 11, 8, 12, 1, 1, 6, 11, 8, 7, 1, 6, 1, 2, 25, 1, 1, 2, 1, 7, 7, 18, 3, 1, 14, 6, 1, 10, 2, 5, 6, 3, 15, 1, 2, 9, 4, 4, 5, 1, 1, 3, 3, 2, 2, 15, 17, 4, 1, 4, 2, 2, 3, 3, 9, 3, 5, 1, 5, 15, 2, 2, 22, 11, 4, 7, 12, 1, 5, 2, 2, 1, 5, 1, 6, 12, 2, 1, 4, 2, 4, 1, 12, 10, 5, 2, 12, 21, 7, 5, 3, 6, 12, 14, 2, 2, 7, 14, 2, 2, 3, 1, 3, 5, 18, 5, 4, 4, 1, 4, 18, 5, 1, 17, 6, 5, 6, 6, 4, 21, 3, 2, 6, 7, 14, 4, 16, 14, 1, 3, 17, 6, 2, 19, 3, 2, 5, 1, 2, 1, 2, 1, 1, 1, 8, 3, 47, 5, 2, 3, 2, 2, 1, 2, 1, 3, 8, 14, 8, 11, 3, 2, 10, 10, 11, 1, 3, 1, 1, 1, 4, 4, 2, 8, 2, 17, 27, 1, 1, 4, 5, 2, 9, 1, 2, 3, 15, 6, 1, 2, 3, 10, 9, 1, 2, 10, 4, 2, 3, 5, 4, 4, 14, 3, 2, 8, 5, 1, 1, 4, 3, 5, 8, 3, 1, 11, 13, 13, 22, 5, 1, 1, 4, 3, 3, 1, 3, 1, 1, 3, 4, 5, 7, 2, 2, 8, 5, 2, 11, 1, 11, 5, 1, 1, 6, 3, 1, 2, 1, 2, 26, 2, 2, 15, 14, 7, 6, 16, 13, 2, 3, 11, 5, 1, 6, 13, 1, 1, 3, 14, 10, 1, 10, 10, 3, 2, 2, 9, 7, 6, 4, 7, 4, 2, 4, 7, 4, 9, 8, 2, 6, 19, 2, 1, 4, 6, 2, 2, 5, 3, 1, 2, 3, 9, 5, 1, 1, 8, 1, 4, 7, 1, 6, 2, 7, 11, 6, 1, 1, 6, 8, 1, 2, 6, 11, 6, 1, 4, 3, 7, 4, 12, 1, 3, 14, 2, 7, 10, 5, 15, 3, 6, 9, 1, 3, 19, 5, 2, 6, 2, 2, 1, 1, 5, 12, 10, 1, 1, 3, 6, 5, 4, 2, 1, 23, 3, 1, 1, 11, 2, 7, 6, 7, 1, 13, 11, 4, 7, 5, 5, 3, 15, 1, 7, 7, 3, 1, 15, 10, 4, 2, 5, 15, 1, 2, 1, 5, 3, 1, 11, 12, 7, 1, 5, 4, 1, 1, 3, 7, 17, 8, 1, 1, 5, 18, 4, 2, 1, 7, 1, 8, 10, 1, 6, 6, 1, 5, 11, 2, 12, 2, 20, 10, 4, 11, 6, 2, 6, 7, 14, 1, 6, 7, 4, 1, 1, 2, 7, 6, 9, 1, 9, 21, 1, 10, 2, 3, 3, 13, 7, 11, 3, 2, 11, 3, 4, 1, 5, 5, 3, 11, 1, 1, 5, 22, 6, 2, 14, 1, 1, 3, 2, 13, 17, 2, 8, 9, 1, 3, 3, 3, 1, 6, 3, 2, 2, 8, 2, 2, 4, 23, 6, 2, 8, 5, 10, 1, 1, 6, 19, 3, 1, 2, 10, 5, 7, 3, 4, 7, 2, 3, 4, 1, 2, 2, 6, 5, 1, 11, 3, 4, 4, 11, 1, 13, 2, 20, 8, 1, 1, 8, 20, 4, 4, 10, 1, 5, 2, 2, 1, 2, 1, 1, 7, 9, 2, 9, 11, 1, 1, 6, 4, 1, 1, 1, 12, 7, 9, 5, 4, 1, 9, 6, 4, 6, 6, 7, 10, 4, 1, 1, 6, 5, 1, 11, 19, 24, 10, 2, 1, 3, 6, 3, 3, 19, 1, 10, 24, 3, 2, 7, 10, 1, 8, 3, 25, 15, 1, 1, 12, 6, 9, 13, 5, 9, 8, 3, 4, 3, 3, 2, 3, 1, 1, 8, 15, 7, 1, 2, 2, 7, 3, 3, 6, 8, 5, 4, 3, 3, 3, 11, 3, 3, 1, 5, 6, 1, 3, 1, 1, 2, 3, 10, 1, 2, 6, 1, 3, 1, 4, 1, 8, 2, 5, 3, 1, 9, 1, 1, 6, 6, 1, 1, 8, 5, 2, 6, 8, 15, 4, 2, 5, 1, 2, 1, 1, 6, 3, 2, 1, 10, 13, 6, 4, 9, 3, 9, 2, 2, 10, 4, 1, 6, 1, 2, 9, 2, 1, 9, 10, 2, 2, 3, 13, 5, 2, 7, 5, 3, 1, 7, 7, 3, 14, 2, 1, 1, 1, 6, 3, 3, 2, 13, 1, 1, 5, 8, 2, 5, 18, 7, 1, 11, 3, 3, 2, 8, 3, 11, 14, 2, 1, 7, 10, 9, 1, 2, 1, 3, 4, 3, 1, 14, 9, 4, 6, 10, 1, 9, 23, 11, 3, 1, 7, 2, 1, 1, 2, 1, 1, 3, 15, 1, 1, 3, 2, 1, 2, 11, 7, 1, 7, 2, 1, 14, 13, 11, 1, 1, 7, 9, 3, 1, 2, 6, 13, 1, 3, 5, 11, 3, 5, 6, 5, 7, 3, 1, 9, 9, 2, 9, 14, 2, 33, 9, 4, 3, 1, 4, 1, 1, 10, 20, 1, 1, 4, 4, 1, 10, 4, 2, 11, 5, 3, 2, 1, 2, 1, 7, 8, 2, 8, 11, 2, 20, 6, 5, 1, 5, 1, 11, 1, 4, 3, 1, 6, 5, 23, 1, 1, 2, 4, 4, 4, 12, 1, 7, 13, 2, 7, 8, 2, 3, 1, 9, 18, 11, 6, 6, 3, 1, 16, 5, 1, 4, 5, 3, 6, 6, 9, 11, 1, 1, 7, 2, 13, 6, 2, 17, 4, 1, 4, 6, 20, 3, 7, 13, 6, 1, 6, 7, 7, 1, 2, 3, 1, 7, 12, 1, 8, 8, 2, 1, 7, 3, 2, 3, 5, 2, 1, 11, 1, 6, 6, 1, 4, 10, 6, 2, 3, 3, 10, 4, 4, 5, 6, 18, 7, 3, 5, 5, 11, 1, 1, 3, 1, 1, 4, 6, 4, 4, 14, 15, 5, 5, 20, 6, 1, 1, 4, 3, 4, 1, 5, 23, 1, 5, 2, 5, 1, 11, 8, 5, 10, 3, 10, 13, 2, 4, 4, 1, 1, 11, 10, 1, 5, 7, 2, 2, 5, 4, 2, 5, 15, 2, 3, 8, 6, 2, 17, 7, 1, 5, 9, 4, 6, 1, 3, 2, 11, 4, 5, 7, 12, 1, 2, 8, 3, 3, 3, 6, 5, 1, 7, 1, 2, 11, 2, 2, 3, 4, 14, 17, 3, 2, 2, 1, 7, 2, 1, 5, 20, 8, 3, 6, 12, 5, 3, 3, 9, 8, 15, 2, 6, 12, 9, 3, 19, 12, 5, 1, 12, 22, 1, 5, 3, 1, 11, 8, 2, 2, 5, 4, 8, 7, 12, 15, 3, 1, 4, 11, 4, 2, 8, 8, 3, 2, 9, 11, 6, 9, 3, 1, 12, 4, 7, 6, 11, 1, 3, 4, 9, 1, 3, 4, 2, 9, 6, 1, 4, 5, 5, 3, 5, 4, 1, 1, 27, 8, 3, 5, 9, 10, 9, 12, 10, 13, 7, 2, 1, 4, 2, 3, 4, 1, 4, 6, 6, 12, 11, 2, 13, 1, 1, 2, 19, 6, 13, 8, 1, 7, 13, 3, 3, 11, 8, 5, 1, 3, 6, 5, 3, 9, 9, 1, 11, 4, 1, 3, 6, 4, 4, 4, 3, 5, 8, 4, 1, 4, 12, 1, 9, 7, 3, 4, 6, 6, 3, 1, 7, 5, 2, 3, 4, 1, 11, 5, 2, 6, 7, 3, 2, 2, 2, 1, 1, 6, 3, 2, 4, 11, 9, 1, 1, 8, 22, 2, 4, 10, 1, 1, 2, 11, 5, 2, 9, 5, 3, 2, 24, 8, 1, 10, 12, 7, 2, 8, 3, 2, 6, 2, 4, 3, 9, 14, 1, 4, 4, 2, 6, 2, 3, 19, 1, 6, 7, 5, 3, 15, 20, 4, 3, 3, 1, 12, 9, 3, 13, 3, 3, 16, 11, 6, 3, 8, 4, 1, 1, 26, 5, 5, 9, 1, 1, 12, 4, 5, 10, 9, 1, 11, 6, 2, 2, 7, 2, 1, 5, 14, 4, 1, 3, 3, 20, 1, 14, 15, 1, 2, 2, 3, 3, 20, 9, 2, 2, 5, 1, 7, 11, 11, 4, 7, 5, 9, 6, 13, 13, 1, 1, 2, 3, 3, 13, 8, 7, 6, 6, 2, 7, 7, 1, 11, 11, 1, 3, 1, 1, 1, 2, 6, 11, 6, 2, 4, 9, 2, 9, 10, 2, 5, 10, 9, 1, 1, 3, 1, 1, 6, 12, 3, 5, 1, 4, 1, 1, 9, 13, 7, 6, 6, 11, 2, 1, 5, 21, 2, 3, 3, 4, 1, 3, 9, 5, 2, 2, 9, 2, 2, 3, 14, 7, 1, 9, 4, 1, 2, 6, 10, 6, 3, 3, 9, 14, 3, 5, 2, 9, 4, 4, 8, 10, 7, 16, 2, 10, 9, 1, 10, 1, 3, 1, 6, 22, 4, 3, 12, 16, 7, 3, 4, 6, 6, 2, 4, 1, 3, 5, 6, 6, 1, 5, 13, 9, 5, 9, 8, 6, 9, 3, 1, 4, 2, 5, 3, 1, 3, 10, 4, 2, 3, 12, 1, 3, 16, 2, 16, 6, 2, 10, 4, 7, 6, 3, 1, 2, 4, 4, 9, 4, 2, 9, 11, 4, 8, 2, 13, 6, 3, 5, 1, 13, 5, 1, 1, 10, 9, 3, 5, 8, 1, 10, 3, 2, 2, 10, 10, 4, 3, 7, 3, 1, 1, 6, 12, 13, 1, 2, 6, 9, 10, 1, 1, 12, 2, 1, 4, 3, 3, 5, 2, 3, 6, 4, 1, 1, 2, 1, 4, 1, 4, 11, 19, 9, 5, 7, 10, 4, 2, 6, 1, 4, 3, 1, 2, 5, 4, 4, 3, 4, 26, 5, 1, 2, 4, 3, 3, 3, 2, 7, 12, 2, 1, 8, 11, 1, 7, 9, 3, 2, 1, 5, 3, 2, 4, 3, 8, 4, 10, 9, 1, 5, 14, 2, 2, 8, 16, 5, 5, 6, 1, 1, 6, 24, 2, 1, 1, 4, 3, 10, 9, 1, 4, 6, 4, 4, 6, 4, 3, 2, 2, 6, 2, 2, 5, 1, 5, 5, 2, 3, 10, 8, 5, 9, 6, 7, 2, 1, 2, 7, 1, 2, 9, 3, 2, 8, 6, 1, 4, 3, 2, 6, 7, 3, 2, 4, 13, 1, 11, 6, 1, 4, 7, 1, 4, 5, 15, 2, 5, 4, 3, 1, 8, 3, 12, 13, 1, 4, 1, 4, 6, 3, 1, 11, 10, 1, 2, 5, 1, 1, 8, 1, 4, 2, 18, 5, 1, 5, 2, 1, 3, 19, 5, 3, 5, 22, 10, 2, 3, 6, 1, 4, 6, 2, 14, 5, 3, 4, 5, 17, 5, 3, 1, 1, 7, 8, 3, 12, 12, 5, 4, 5, 1, 1, 4, 5, 2, 10, 6, 6, 6, 9, 9, 9, 2, 2, 13, 10, 1, 6, 3, 8, 1, 2, 12, 13, 1, 3, 3, 1, 7, 4, 12, 5, 1, 1, 6, 6, 1, 3, 1, 2, 7, 1, 7, 6, 1, 4, 3, 5, 3, 3, 14, 6, 1, 2, 12, 12, 1, 1, 2, 1, 12, 7, 8, 1, 5, 11, 3, 2, 6, 2, 5, 15, 12, 1, 2, 1, 1, 6, 7, 7, 8, 6, 2, 1, 3, 2, 7, 6, 5, 2, 3, 6, 2, 15, 7, 2, 7, 10, 1, 3, 4, 1, 2, 12, 1, 4, 12, 2, 9, 7, 3, 1, 2, 4, 6, 6, 4, 2, 2, 3, 7, 4, 2, 1, 4, 3, 2, 4, 11, 10, 5, 8, 6, 3, 3, 8, 1, 3, 6, 9, 1, 9, 1, 5, 1, 1, 10, 5, 1, 1, 1, 6, 1, 8, 4, 1, 5, 3, 11, 4, 1, 1, 3, 4, 1, 1, 7, 2, 1, 6, 8, 2, 3, 2, 2, 3, 16, 13, 3, 5, 2, 14, 3, 1, 9, 5, 1, 1, 10, 8, 2, 6, 10, 6, 1, 7, 9, 6, 4, 1, 5, 4, 1, 7, 13, 2, 1, 2, 3, 1, 3, 5, 2, 1, 3, 6, 7, 1, 5, 14, 5, 1, 6, 19, 4, 1, 5, 10, 1, 3, 10, 23, 3, 3, 9, 3, 3, 12, 5, 7, 3, 2, 21, 5, 1, 1, 8, 5, 2, 12, 10, 2, 1, 2, 17, 1, 4, 2, 4, 1, 4, 4, 6, 9, 2, 11, 6, 1, 3, 5, 1, 5, 9, 1, 2, 2, 6, 10, 3, 13, 4, 3, 7, 1, 5, 5, 14, 8, 11, 2, 3, 6, 3, 7, 1, 1, 1, 17, 3, 1, 7, 7, 11, 2, 7, 9, 18, 1, 2, 11, 6, 1, 17, 9, 6, 11, 6, 4, 1, 1, 1, 7, 10, 1, 10, 9, 5, 5, 11, 1, 3, 2, 4, 3, 18, 8, 1, 10, 17, 4, 2, 5, 11, 2, 5, 11, 3, 2, 10, 2, 1, 1, 10, 4, 3, 1, 2, 7, 9, 5, 1, 6, 4, 11, 7, 1, 3, 6, 1, 6, 12, 2, 6, 4, 3, 1, 4, 3, 2, 9, 3, 1, 3, 3, 4, 5, 8, 3, 10, 8, 1, 3, 8, 6, 1, 5, 2, 2, 2, 4, 10, 3, 4, 1, 6, 1, 2, 2, 5, 4, 8, 12, 3, 1, 9, 16, 1, 2, 7, 2, 1, 5, 5, 4, 3, 2, 24, 3, 3, 8, 7, 1, 4, 15, 4, 4, 4, 8, 3, 5, 1, 1, 3, 5, 13, 3, 4, 24, 2, 5, 8, 1, 3, 4, 2, 13, 4, 1, 4, 4, 5, 2, 12, 3, 2, 9, 6, 3, 17, 7, 4, 8, 1, 1, 3, 3, 5, 9, 1, 5, 2, 18, 9, 17, 3, 6, 1, 18, 1, 1, 12, 1, 2, 9, 21, 1, 2, 13, 6, 3, 5, 16, 8, 8, 7, 10, 2, 5, 14, 2, 5, 8, 1, 1, 5, 2, 1, 8, 13, 2, 1, 1, 10, 7, 2, 5, 5, 6, 1, 7, 5, 1, 3, 3, 4, 3, 7, 4, 1, 5, 11, 3, 4, 1, 15, 5, 5, 14, 12, 7, 5, 7, 4, 4, 5, 1, 4, 7, 7, 2, 8, 9, 1, 10, 1, 2, 1, 1, 7, 2, 2, 9, 14, 2, 1, 4, 1, 17, 11, 5, 11, 6, 1, 2, 3, 17, 1, 1, 3, 6, 1, 2, 7, 15, 10, 3, 5, 10, 3, 11, 3, 3, 4, 1, 6, 4, 7, 4, 1, 1, 13, 7, 12, 1, 2, 1, 1, 7, 9, 1, 1, 22, 8, 3, 10, 9, 1, 10, 14, 1, 2, 4, 2, 3, 2, 7, 4, 1, 7, 1, 2, 3, 15, 3, 2, 5, 7, 1, 1, 7, 1, 3, 12, 5, 5, 2, 1, 2, 5, 10, 4, 4, 7, 2, 2, 3, 6, 2, 17, 3, 4, 8, 2, 3, 7, 7, 1, 8, 5, 3, 4, 7, 2, 3, 21, 10, 4, 16, 7, 1, 1, 1, 2, 1, 1, 4, 4, 4, 1, 15, 13, 1, 2, 3, 4, 5, 5, 15, 5, 1, 7, 10, 3, 6, 3, 4, 4, 2, 6, 1, 2, 4, 3, 1, 2, 1, 2, 1, 10, 8, 6, 6, 2, 3, 4, 1, 2, 2, 7, 17, 2, 5, 4, 10, 9, 1, 14, 6, 6, 1, 3, 5, 3, 26, 5, 1, 3, 13, 4, 2, 4, 1, 4, 7, 1, 5, 11, 2, 8, 14, 8, 2, 1, 4, 8, 11, 4, 4, 1, 1, 2, 5, 2, 3, 5, 3, 7, 3, 1, 1, 1, 3, 7, 6, 1, 2, 5, 1, 11, 10, 1, 4, 5, 9, 7, 2, 10, 4, 3, 2, 3, 7, 3, 1, 1, 3, 2, 5, 9, 2, 1, 4, 1, 2, 8, 5, 1, 1, 2, 28, 4, 2, 29, 4, 21, 2, 2, 6, 1, 2, 10, 11, 2, 9, 12, 1, 1, 10, 8, 5, 1, 19, 7, 1, 4, 13, 6, 2, 6, 5, 5, 9, 1, 4, 6, 12, 1, 7, 10, 4, 2, 3, 3, 24, 2, 7, 11, 4, 1, 13, 12, 3, 3, 1, 9, 1, 19, 2, 2, 2, 11, 1, 5, 13, 7, 6, 7, 2, 14, 3, 2, 15, 10, 2, 1, 3, 2, 1, 3, 3, 5, 6, 3, 1, 2, 7, 3, 5, 21, 5, 7, 7, 1, 1, 4, 6, 8, 3, 1, 1, 4, 9, 2, 12, 6, 7, 6, 1, 6, 18, 2, 5, 11, 8, 9, 2, 3, 4, 10, 2, 2, 3, 7, 6, 1, 12, 2, 6, 9, 5, 1, 6, 7, 2, 12, 8, 2, 5, 4, 1, 5, 3, 4, 15, 2], \"y0\": \" \", \"yaxis\": \"y\"}],\n",
              "                        {\"boxmode\": \"group\", \"legend\": {\"tracegroupgap\": 0}, \"template\": {\"data\": {\"bar\": [{\"error_x\": {\"color\": \"#2a3f5f\"}, \"error_y\": {\"color\": \"#2a3f5f\"}, \"marker\": {\"line\": {\"color\": \"#E5ECF6\", \"width\": 0.5}}, \"type\": \"bar\"}], \"barpolar\": [{\"marker\": {\"line\": {\"color\": \"#E5ECF6\", \"width\": 0.5}}, \"type\": \"barpolar\"}], \"carpet\": [{\"aaxis\": {\"endlinecolor\": \"#2a3f5f\", \"gridcolor\": \"white\", \"linecolor\": \"white\", \"minorgridcolor\": \"white\", \"startlinecolor\": \"#2a3f5f\"}, \"baxis\": {\"endlinecolor\": \"#2a3f5f\", \"gridcolor\": \"white\", \"linecolor\": \"white\", \"minorgridcolor\": \"white\", \"startlinecolor\": \"#2a3f5f\"}, \"type\": \"carpet\"}], \"choropleth\": [{\"colorbar\": {\"outlinewidth\": 0, \"ticks\": \"\"}, \"type\": \"choropleth\"}], \"contour\": [{\"colorbar\": {\"outlinewidth\": 0, \"ticks\": \"\"}, \"colorscale\": [[0.0, \"#0d0887\"], [0.1111111111111111, \"#46039f\"], [0.2222222222222222, \"#7201a8\"], [0.3333333333333333, \"#9c179e\"], [0.4444444444444444, \"#bd3786\"], [0.5555555555555556, \"#d8576b\"], [0.6666666666666666, \"#ed7953\"], [0.7777777777777778, \"#fb9f3a\"], [0.8888888888888888, \"#fdca26\"], [1.0, \"#f0f921\"]], \"type\": \"contour\"}], \"contourcarpet\": [{\"colorbar\": {\"outlinewidth\": 0, \"ticks\": \"\"}, \"type\": \"contourcarpet\"}], \"heatmap\": [{\"colorbar\": {\"outlinewidth\": 0, \"ticks\": \"\"}, \"colorscale\": [[0.0, \"#0d0887\"], [0.1111111111111111, \"#46039f\"], [0.2222222222222222, \"#7201a8\"], [0.3333333333333333, \"#9c179e\"], [0.4444444444444444, \"#bd3786\"], [0.5555555555555556, \"#d8576b\"], [0.6666666666666666, \"#ed7953\"], [0.7777777777777778, \"#fb9f3a\"], [0.8888888888888888, \"#fdca26\"], [1.0, \"#f0f921\"]], \"type\": \"heatmap\"}], \"heatmapgl\": [{\"colorbar\": {\"outlinewidth\": 0, \"ticks\": \"\"}, \"colorscale\": [[0.0, \"#0d0887\"], [0.1111111111111111, \"#46039f\"], [0.2222222222222222, \"#7201a8\"], [0.3333333333333333, \"#9c179e\"], [0.4444444444444444, \"#bd3786\"], [0.5555555555555556, \"#d8576b\"], [0.6666666666666666, \"#ed7953\"], [0.7777777777777778, \"#fb9f3a\"], [0.8888888888888888, \"#fdca26\"], [1.0, \"#f0f921\"]], \"type\": \"heatmapgl\"}], \"histogram\": [{\"marker\": {\"colorbar\": {\"outlinewidth\": 0, \"ticks\": \"\"}}, \"type\": \"histogram\"}], \"histogram2d\": [{\"colorbar\": {\"outlinewidth\": 0, \"ticks\": \"\"}, \"colorscale\": [[0.0, \"#0d0887\"], [0.1111111111111111, \"#46039f\"], [0.2222222222222222, \"#7201a8\"], [0.3333333333333333, \"#9c179e\"], [0.4444444444444444, \"#bd3786\"], [0.5555555555555556, \"#d8576b\"], [0.6666666666666666, \"#ed7953\"], [0.7777777777777778, \"#fb9f3a\"], [0.8888888888888888, \"#fdca26\"], [1.0, \"#f0f921\"]], \"type\": \"histogram2d\"}], \"histogram2dcontour\": [{\"colorbar\": {\"outlinewidth\": 0, \"ticks\": \"\"}, \"colorscale\": [[0.0, \"#0d0887\"], [0.1111111111111111, \"#46039f\"], [0.2222222222222222, \"#7201a8\"], [0.3333333333333333, \"#9c179e\"], [0.4444444444444444, \"#bd3786\"], [0.5555555555555556, \"#d8576b\"], [0.6666666666666666, \"#ed7953\"], [0.7777777777777778, \"#fb9f3a\"], [0.8888888888888888, \"#fdca26\"], [1.0, \"#f0f921\"]], \"type\": \"histogram2dcontour\"}], \"mesh3d\": [{\"colorbar\": {\"outlinewidth\": 0, \"ticks\": \"\"}, \"type\": \"mesh3d\"}], \"parcoords\": [{\"line\": {\"colorbar\": {\"outlinewidth\": 0, \"ticks\": \"\"}}, \"type\": \"parcoords\"}], \"pie\": [{\"automargin\": true, \"type\": \"pie\"}], \"scatter\": [{\"marker\": {\"colorbar\": {\"outlinewidth\": 0, \"ticks\": \"\"}}, \"type\": \"scatter\"}], \"scatter3d\": [{\"line\": {\"colorbar\": {\"outlinewidth\": 0, \"ticks\": \"\"}}, \"marker\": {\"colorbar\": {\"outlinewidth\": 0, \"ticks\": \"\"}}, \"type\": \"scatter3d\"}], \"scattercarpet\": [{\"marker\": {\"colorbar\": {\"outlinewidth\": 0, \"ticks\": \"\"}}, \"type\": \"scattercarpet\"}], \"scattergeo\": [{\"marker\": {\"colorbar\": {\"outlinewidth\": 0, \"ticks\": \"\"}}, \"type\": \"scattergeo\"}], \"scattergl\": [{\"marker\": {\"colorbar\": {\"outlinewidth\": 0, \"ticks\": \"\"}}, \"type\": \"scattergl\"}], \"scattermapbox\": [{\"marker\": {\"colorbar\": {\"outlinewidth\": 0, \"ticks\": \"\"}}, \"type\": \"scattermapbox\"}], \"scatterpolar\": [{\"marker\": {\"colorbar\": {\"outlinewidth\": 0, \"ticks\": \"\"}}, \"type\": \"scatterpolar\"}], \"scatterpolargl\": [{\"marker\": {\"colorbar\": {\"outlinewidth\": 0, \"ticks\": \"\"}}, \"type\": \"scatterpolargl\"}], \"scatterternary\": [{\"marker\": {\"colorbar\": {\"outlinewidth\": 0, \"ticks\": \"\"}}, \"type\": \"scatterternary\"}], \"surface\": [{\"colorbar\": {\"outlinewidth\": 0, \"ticks\": \"\"}, \"colorscale\": [[0.0, \"#0d0887\"], [0.1111111111111111, \"#46039f\"], [0.2222222222222222, \"#7201a8\"], [0.3333333333333333, \"#9c179e\"], [0.4444444444444444, \"#bd3786\"], [0.5555555555555556, \"#d8576b\"], [0.6666666666666666, \"#ed7953\"], [0.7777777777777778, \"#fb9f3a\"], [0.8888888888888888, \"#fdca26\"], [1.0, \"#f0f921\"]], \"type\": \"surface\"}], \"table\": [{\"cells\": {\"fill\": {\"color\": \"#EBF0F8\"}, \"line\": {\"color\": \"white\"}}, \"header\": {\"fill\": {\"color\": \"#C8D4E3\"}, \"line\": {\"color\": \"white\"}}, \"type\": \"table\"}]}, \"layout\": {\"annotationdefaults\": {\"arrowcolor\": \"#2a3f5f\", \"arrowhead\": 0, \"arrowwidth\": 1}, \"coloraxis\": {\"colorbar\": {\"outlinewidth\": 0, \"ticks\": \"\"}}, \"colorscale\": {\"diverging\": [[0, \"#8e0152\"], [0.1, \"#c51b7d\"], [0.2, \"#de77ae\"], [0.3, \"#f1b6da\"], [0.4, \"#fde0ef\"], [0.5, \"#f7f7f7\"], [0.6, \"#e6f5d0\"], [0.7, \"#b8e186\"], [0.8, \"#7fbc41\"], [0.9, \"#4d9221\"], [1, \"#276419\"]], \"sequential\": [[0.0, \"#0d0887\"], [0.1111111111111111, \"#46039f\"], [0.2222222222222222, \"#7201a8\"], [0.3333333333333333, \"#9c179e\"], [0.4444444444444444, \"#bd3786\"], [0.5555555555555556, \"#d8576b\"], [0.6666666666666666, \"#ed7953\"], [0.7777777777777778, \"#fb9f3a\"], [0.8888888888888888, \"#fdca26\"], [1.0, \"#f0f921\"]], \"sequentialminus\": [[0.0, \"#0d0887\"], [0.1111111111111111, \"#46039f\"], [0.2222222222222222, \"#7201a8\"], [0.3333333333333333, \"#9c179e\"], [0.4444444444444444, \"#bd3786\"], [0.5555555555555556, \"#d8576b\"], [0.6666666666666666, \"#ed7953\"], [0.7777777777777778, \"#fb9f3a\"], [0.8888888888888888, \"#fdca26\"], [1.0, \"#f0f921\"]]}, \"colorway\": [\"#636efa\", \"#EF553B\", \"#00cc96\", \"#ab63fa\", \"#FFA15A\", \"#19d3f3\", \"#FF6692\", \"#B6E880\", \"#FF97FF\", \"#FECB52\"], \"font\": {\"color\": \"#2a3f5f\"}, \"geo\": {\"bgcolor\": \"white\", \"lakecolor\": \"white\", \"landcolor\": \"#E5ECF6\", \"showlakes\": true, \"showland\": true, \"subunitcolor\": \"white\"}, \"hoverlabel\": {\"align\": \"left\"}, \"hovermode\": \"closest\", \"mapbox\": {\"style\": \"light\"}, \"paper_bgcolor\": \"white\", \"plot_bgcolor\": \"#E5ECF6\", \"polar\": {\"angularaxis\": {\"gridcolor\": \"white\", \"linecolor\": \"white\", \"ticks\": \"\"}, \"bgcolor\": \"#E5ECF6\", \"radialaxis\": {\"gridcolor\": \"white\", \"linecolor\": \"white\", \"ticks\": \"\"}}, \"scene\": {\"xaxis\": {\"backgroundcolor\": \"#E5ECF6\", \"gridcolor\": \"white\", \"gridwidth\": 2, \"linecolor\": \"white\", \"showbackground\": true, \"ticks\": \"\", \"zerolinecolor\": \"white\"}, \"yaxis\": {\"backgroundcolor\": \"#E5ECF6\", \"gridcolor\": \"white\", \"gridwidth\": 2, \"linecolor\": \"white\", \"showbackground\": true, \"ticks\": \"\", \"zerolinecolor\": \"white\"}, \"zaxis\": {\"backgroundcolor\": \"#E5ECF6\", \"gridcolor\": \"white\", \"gridwidth\": 2, \"linecolor\": \"white\", \"showbackground\": true, \"ticks\": \"\", \"zerolinecolor\": \"white\"}}, \"shapedefaults\": {\"line\": {\"color\": \"#2a3f5f\"}}, \"ternary\": {\"aaxis\": {\"gridcolor\": \"white\", \"linecolor\": \"white\", \"ticks\": \"\"}, \"baxis\": {\"gridcolor\": \"white\", \"linecolor\": \"white\", \"ticks\": \"\"}, \"bgcolor\": \"#E5ECF6\", \"caxis\": {\"gridcolor\": \"white\", \"linecolor\": \"white\", \"ticks\": \"\"}}, \"title\": {\"x\": 0.05}, \"xaxis\": {\"automargin\": true, \"gridcolor\": \"white\", \"linecolor\": \"white\", \"ticks\": \"\", \"title\": {\"standoff\": 15}, \"zerolinecolor\": \"white\", \"zerolinewidth\": 2}, \"yaxis\": {\"automargin\": true, \"gridcolor\": \"white\", \"linecolor\": \"white\", \"ticks\": \"\", \"title\": {\"standoff\": 15}, \"zerolinecolor\": \"white\", \"zerolinewidth\": 2}}}, \"title\": {\"text\": \"# of Phrases by Sentiment\"}, \"xaxis\": {\"anchor\": \"y\", \"domain\": [0.0, 1.0], \"title\": {\"text\": \"Sentiment\"}}, \"yaxis\": {\"anchor\": \"x\", \"domain\": [0.0, 1.0], \"title\": {\"text\": \"# of Phrases\"}}},\n",
              "                        {\"responsive\": true}\n",
              "                    ).then(function(){\n",
              "                            \n",
              "var gd = document.getElementById('9c327cbe-1987-47ec-ae19-7b382c3caff3');\n",
              "var x = new MutationObserver(function (mutations, observer) {{\n",
              "        var display = window.getComputedStyle(gd).display;\n",
              "        if (!display || display === 'none') {{\n",
              "            console.log([gd, 'removed!']);\n",
              "            Plotly.purge(gd);\n",
              "            observer.disconnect();\n",
              "        }}\n",
              "}});\n",
              "\n",
              "// Listen for the removal of the full notebook cells\n",
              "var notebookContainer = gd.closest('#notebook-container');\n",
              "if (notebookContainer) {{\n",
              "    x.observe(notebookContainer, {childList: true});\n",
              "}}\n",
              "\n",
              "// Listen for the clearing of the current output cell\n",
              "var outputEl = gd.closest('.output');\n",
              "if (outputEl) {{\n",
              "    x.observe(outputEl, {childList: true});\n",
              "}}\n",
              "\n",
              "                        })\n",
              "                };\n",
              "                \n",
              "            </script>\n",
              "        </div>\n",
              "</body>\n",
              "</html>"
            ]
          },
          "metadata": {}
        }
      ],
      "source": [
        "px.box(imdb_df_box, x = \"Sentiment\", y = \"PhraseId\", title = \"# of Phrases by Sentiment\", labels={\"PhraseId\":\"# of Phrases\"})"
      ]
    },
    {
      "cell_type": "code",
      "execution_count": 12,
      "metadata": {
        "colab": {
          "base_uri": "https://localhost:8080/"
        },
        "id": "3P_a3gbT7j_P",
        "outputId": "fdc22b32-74cf-4523-93e4-e90f8f0e9fa1"
      },
      "outputs": [
        {
          "output_type": "execute_result",
          "data": {
            "text/plain": [
              "count    8529.000000\n",
              "mean       18.297573\n",
              "std         9.950209\n",
              "min         1.000000\n",
              "25%        11.000000\n",
              "50%        17.000000\n",
              "75%        25.000000\n",
              "max        63.000000\n",
              "Name: PhraseId, dtype: float64"
            ]
          },
          "metadata": {},
          "execution_count": 12
        }
      ],
      "source": [
        "imdb_df_hist[\"PhraseId\"].describe()"
      ]
    },
    {
      "cell_type": "markdown",
      "metadata": {
        "id": "-Ek5P7UaDvuB"
      },
      "source": [
        "# Text Processing"
      ]
    },
    {
      "cell_type": "markdown",
      "metadata": {
        "id": "QAPav-C6D1dM"
      },
      "source": [
        "## Preprocessing Words"
      ]
    },
    {
      "cell_type": "markdown",
      "metadata": {
        "id": "0bGxl6_1k6Bd"
      },
      "source": [
        "### Ngrams"
      ]
    },
    {
      "cell_type": "code",
      "execution_count": 13,
      "metadata": {
        "colab": {
          "base_uri": "https://localhost:8080/"
        },
        "id": "CLClX8_zmKec",
        "outputId": "8f41e133-3bb0-405f-908d-12d2eb3c250a"
      },
      "outputs": [
        {
          "output_type": "stream",
          "name": "stdout",
          "text": [
            "981478\n",
            "['a', 'series', 'of', 'escapades', 'demonstrating', 'the', 'adage', 'that', 'what', 'is', 'good', 'for', 'the', 'goose', 'is', 'also', 'good', 'for', 'the', 'gander', ',', 'some', 'of', 'which', 'occasionally']\n"
          ]
        }
      ],
      "source": [
        "#Take the training dataset, tokenize it, and reduce the tokens to lowercase.\n",
        "# file0 = nltk.corpus.gutenberg.fileids( ) [0]\n",
        "# emmatext = nltk.corpus.gutenberg.raw(file0)\n",
        "\n",
        "\n",
        "testtext = ''.join(df_train[\"Phrase\"])\n",
        "testtokens = nltk.word_tokenize(testtext) \n",
        "testwords = [w.lower( ) for w in testtokens] \n",
        "\n",
        "df_filter = pd.DataFrame(columns=['filter_type','num_words'])\n",
        "\n",
        "\n",
        "# show some of the words\n",
        "total_words = len(testwords)\n",
        "\n",
        "filter_type = 'Filtering Nothing'\n",
        "df2 = pd.DataFrame([[filter_type, total_words]], columns=['filter_type','num_words'])\n",
        "df_filter = df_filter.append(df2, ignore_index=True)\n",
        "\n",
        "print(total_words)\n",
        "print(testwords[ :25])"
      ]
    },
    {
      "cell_type": "markdown",
      "metadata": {
        "id": "C4eX8NtTonZp"
      },
      "source": [
        "Need to get rid of punctuation and apostrophies"
      ]
    },
    {
      "cell_type": "markdown",
      "metadata": {
        "id": "GuGSrEUA0oAU"
      },
      "source": [
        "This is our Bag of words feature"
      ]
    },
    {
      "cell_type": "code",
      "execution_count": 14,
      "metadata": {
        "colab": {
          "base_uri": "https://localhost:8080/"
        },
        "id": "0XepjpHgk_O8",
        "outputId": "ef48c0f5-beda-4c8b-a99b-4c479fc27a2b"
      },
      "outputs": [
        {
          "output_type": "stream",
          "name": "stdout",
          "text": [
            ", \t 0.04279464236590122\n",
            "the \t 0.04151901519952561\n",
            "of \t 0.028987914145808667\n",
            "and \t 0.02846625191802567\n",
            "a \t 0.028286930527225265\n",
            "to \t 0.019897542278074495\n",
            "'s \t 0.01599220767047249\n",
            "in \t 0.012034910614399916\n",
            "that \t 0.010320149814871041\n",
            "is \t 0.009058786850036374\n",
            "it \t 0.008362897589146165\n",
            "as \t 0.007317535390502895\n",
            "with \t 0.006610438542687661\n",
            "for \t 0.006450475711121391\n",
            "its \t 0.00602356853643179\n",
            "film \t 0.005148357884741176\n",
            "an \t 0.004837602065456383\n",
            "movie \t 0.004518695273862481\n",
            "this \t 0.004342430497677992\n",
            "on \t 0.00412235424533204\n",
            "be \t 0.004100957943020628\n",
            "but \t 0.004079561640709216\n",
            "n't \t 0.003939976239915719\n",
            "you \t 0.003904315736063366\n",
            "-- \t 0.0034967671206078996\n"
          ]
        }
      ],
      "source": [
        "ndist = FreqDist(testwords)\n",
        "\n",
        "# print the top 25 tokens by frequency\n",
        "df_words = pd.DataFrame(columns=['word','frequency'])\n",
        "nitems = ndist.most_common(25)\n",
        "for item in nitems:\n",
        "    print (item[0], '\\t', item[1]/total_words)\n",
        "    df2 = pd.DataFrame([[item[0], item[1]/total_words]], columns=['word','frequency'])\n",
        "    df_words = df_words.append(df2, ignore_index=True)\n",
        "\n"
      ]
    },
    {
      "cell_type": "code",
      "execution_count": 15,
      "metadata": {
        "colab": {
          "base_uri": "https://localhost:8080/",
          "height": 542
        },
        "id": "iafl6ozDjr2k",
        "outputId": "878bbf76-801b-483f-c277-007eafdf6182"
      },
      "outputs": [
        {
          "output_type": "display_data",
          "data": {
            "text/html": [
              "<html>\n",
              "<head><meta charset=\"utf-8\" /></head>\n",
              "<body>\n",
              "    <div>\n",
              "            <script src=\"https://cdnjs.cloudflare.com/ajax/libs/mathjax/2.7.5/MathJax.js?config=TeX-AMS-MML_SVG\"></script><script type=\"text/javascript\">if (window.MathJax) {MathJax.Hub.Config({SVG: {font: \"STIX-Web\"}});}</script>\n",
              "                <script type=\"text/javascript\">window.PlotlyConfig = {MathJaxConfig: 'local'};</script>\n",
              "        <script src=\"https://cdn.plot.ly/plotly-latest.min.js\"></script>    \n",
              "            <div id=\"4adf64bd-fff6-4971-89b1-58c2df384c71\" class=\"plotly-graph-div\" style=\"height:525px; width:100%;\"></div>\n",
              "            <script type=\"text/javascript\">\n",
              "                \n",
              "                    window.PLOTLYENV=window.PLOTLYENV || {};\n",
              "                    \n",
              "                if (document.getElementById(\"4adf64bd-fff6-4971-89b1-58c2df384c71\")) {\n",
              "                    Plotly.newPlot(\n",
              "                        '4adf64bd-fff6-4971-89b1-58c2df384c71',\n",
              "                        [{\"alignmentgroup\": \"True\", \"hoverlabel\": {\"namelength\": 0}, \"hovertemplate\": \"Words=%{x}<br>Frequency=%{y}\", \"legendgroup\": \"Words=,\", \"marker\": {\"color\": \"#ffc800\"}, \"name\": \"Words=,\", \"offsetgroup\": \"Words=,\", \"orientation\": \"v\", \"showlegend\": true, \"textposition\": \"auto\", \"type\": \"bar\", \"x\": [\",\"], \"xaxis\": \"x\", \"y\": [0.04279464236590122], \"yaxis\": \"y\"}, {\"alignmentgroup\": \"True\", \"hoverlabel\": {\"namelength\": 0}, \"hovertemplate\": \"Words=%{x}<br>Frequency=%{y}\", \"legendgroup\": \"Words=the\", \"marker\": {\"color\": \"#e98f42\"}, \"name\": \"Words=the\", \"offsetgroup\": \"Words=the\", \"orientation\": \"v\", \"showlegend\": true, \"textposition\": \"auto\", \"type\": \"bar\", \"x\": [\"the\"], \"xaxis\": \"x\", \"y\": [0.04151901519952561], \"yaxis\": \"y\"}, {\"alignmentgroup\": \"True\", \"hoverlabel\": {\"namelength\": 0}, \"hovertemplate\": \"Words=%{x}<br>Frequency=%{y}\", \"legendgroup\": \"Words=of\", \"marker\": {\"color\": \"#ca8478\"}, \"name\": \"Words=of\", \"offsetgroup\": \"Words=of\", \"orientation\": \"v\", \"showlegend\": true, \"textposition\": \"auto\", \"type\": \"bar\", \"x\": [\"of\"], \"xaxis\": \"x\", \"y\": [0.028987914145808667], \"yaxis\": \"y\"}, {\"alignmentgroup\": \"True\", \"hoverlabel\": {\"namelength\": 0}, \"hovertemplate\": \"Words=%{x}<br>Frequency=%{y}\", \"legendgroup\": \"Words=and\", \"marker\": {\"color\": \"#79af96\"}, \"name\": \"Words=and\", \"offsetgroup\": \"Words=and\", \"orientation\": \"v\", \"showlegend\": true, \"textposition\": \"auto\", \"type\": \"bar\", \"x\": [\"and\"], \"xaxis\": \"x\", \"y\": [0.02846625191802567], \"yaxis\": \"y\"}, {\"alignmentgroup\": \"True\", \"hoverlabel\": {\"namelength\": 0}, \"hovertemplate\": \"Words=%{x}<br>Frequency=%{y}\", \"legendgroup\": \"Words=a\", \"marker\": {\"color\": \"#48a8a6\"}, \"name\": \"Words=a\", \"offsetgroup\": \"Words=a\", \"orientation\": \"v\", \"showlegend\": true, \"textposition\": \"auto\", \"type\": \"bar\", \"x\": [\"a\"], \"xaxis\": \"x\", \"y\": [0.028286930527225265], \"yaxis\": \"y\"}, {\"alignmentgroup\": \"True\", \"hoverlabel\": {\"namelength\": 0}, \"hovertemplate\": \"Words=%{x}<br>Frequency=%{y}\", \"legendgroup\": \"Words=to\", \"marker\": {\"color\": \"#ffc800\"}, \"name\": \"Words=to\", \"offsetgroup\": \"Words=to\", \"orientation\": \"v\", \"showlegend\": true, \"textposition\": \"auto\", \"type\": \"bar\", \"x\": [\"to\"], \"xaxis\": \"x\", \"y\": [0.019897542278074495], \"yaxis\": \"y\"}, {\"alignmentgroup\": \"True\", \"hoverlabel\": {\"namelength\": 0}, \"hovertemplate\": \"Words=%{x}<br>Frequency=%{y}\", \"legendgroup\": \"Words='s\", \"marker\": {\"color\": \"#e98f42\"}, \"name\": \"Words='s\", \"offsetgroup\": \"Words='s\", \"orientation\": \"v\", \"showlegend\": true, \"textposition\": \"auto\", \"type\": \"bar\", \"x\": [\"'s\"], \"xaxis\": \"x\", \"y\": [0.01599220767047249], \"yaxis\": \"y\"}, {\"alignmentgroup\": \"True\", \"hoverlabel\": {\"namelength\": 0}, \"hovertemplate\": \"Words=%{x}<br>Frequency=%{y}\", \"legendgroup\": \"Words=in\", \"marker\": {\"color\": \"#ca8478\"}, \"name\": \"Words=in\", \"offsetgroup\": \"Words=in\", \"orientation\": \"v\", \"showlegend\": true, \"textposition\": \"auto\", \"type\": \"bar\", \"x\": [\"in\"], \"xaxis\": \"x\", \"y\": [0.012034910614399916], \"yaxis\": \"y\"}, {\"alignmentgroup\": \"True\", \"hoverlabel\": {\"namelength\": 0}, \"hovertemplate\": \"Words=%{x}<br>Frequency=%{y}\", \"legendgroup\": \"Words=that\", \"marker\": {\"color\": \"#79af96\"}, \"name\": \"Words=that\", \"offsetgroup\": \"Words=that\", \"orientation\": \"v\", \"showlegend\": true, \"textposition\": \"auto\", \"type\": \"bar\", \"x\": [\"that\"], \"xaxis\": \"x\", \"y\": [0.010320149814871041], \"yaxis\": \"y\"}, {\"alignmentgroup\": \"True\", \"hoverlabel\": {\"namelength\": 0}, \"hovertemplate\": \"Words=%{x}<br>Frequency=%{y}\", \"legendgroup\": \"Words=is\", \"marker\": {\"color\": \"#48a8a6\"}, \"name\": \"Words=is\", \"offsetgroup\": \"Words=is\", \"orientation\": \"v\", \"showlegend\": true, \"textposition\": \"auto\", \"type\": \"bar\", \"x\": [\"is\"], \"xaxis\": \"x\", \"y\": [0.009058786850036374], \"yaxis\": \"y\"}, {\"alignmentgroup\": \"True\", \"hoverlabel\": {\"namelength\": 0}, \"hovertemplate\": \"Words=%{x}<br>Frequency=%{y}\", \"legendgroup\": \"Words=it\", \"marker\": {\"color\": \"#ffc800\"}, \"name\": \"Words=it\", \"offsetgroup\": \"Words=it\", \"orientation\": \"v\", \"showlegend\": true, \"textposition\": \"auto\", \"type\": \"bar\", \"x\": [\"it\"], \"xaxis\": \"x\", \"y\": [0.008362897589146165], \"yaxis\": \"y\"}, {\"alignmentgroup\": \"True\", \"hoverlabel\": {\"namelength\": 0}, \"hovertemplate\": \"Words=%{x}<br>Frequency=%{y}\", \"legendgroup\": \"Words=as\", \"marker\": {\"color\": \"#e98f42\"}, \"name\": \"Words=as\", \"offsetgroup\": \"Words=as\", \"orientation\": \"v\", \"showlegend\": true, \"textposition\": \"auto\", \"type\": \"bar\", \"x\": [\"as\"], \"xaxis\": \"x\", \"y\": [0.007317535390502895], \"yaxis\": \"y\"}, {\"alignmentgroup\": \"True\", \"hoverlabel\": {\"namelength\": 0}, \"hovertemplate\": \"Words=%{x}<br>Frequency=%{y}\", \"legendgroup\": \"Words=with\", \"marker\": {\"color\": \"#ca8478\"}, \"name\": \"Words=with\", \"offsetgroup\": \"Words=with\", \"orientation\": \"v\", \"showlegend\": true, \"textposition\": \"auto\", \"type\": \"bar\", \"x\": [\"with\"], \"xaxis\": \"x\", \"y\": [0.006610438542687661], \"yaxis\": \"y\"}, {\"alignmentgroup\": \"True\", \"hoverlabel\": {\"namelength\": 0}, \"hovertemplate\": \"Words=%{x}<br>Frequency=%{y}\", \"legendgroup\": \"Words=for\", \"marker\": {\"color\": \"#79af96\"}, \"name\": \"Words=for\", \"offsetgroup\": \"Words=for\", \"orientation\": \"v\", \"showlegend\": true, \"textposition\": \"auto\", \"type\": \"bar\", \"x\": [\"for\"], \"xaxis\": \"x\", \"y\": [0.006450475711121391], \"yaxis\": \"y\"}, {\"alignmentgroup\": \"True\", \"hoverlabel\": {\"namelength\": 0}, \"hovertemplate\": \"Words=%{x}<br>Frequency=%{y}\", \"legendgroup\": \"Words=its\", \"marker\": {\"color\": \"#48a8a6\"}, \"name\": \"Words=its\", \"offsetgroup\": \"Words=its\", \"orientation\": \"v\", \"showlegend\": true, \"textposition\": \"auto\", \"type\": \"bar\", \"x\": [\"its\"], \"xaxis\": \"x\", \"y\": [0.00602356853643179], \"yaxis\": \"y\"}, {\"alignmentgroup\": \"True\", \"hoverlabel\": {\"namelength\": 0}, \"hovertemplate\": \"Words=%{x}<br>Frequency=%{y}\", \"legendgroup\": \"Words=film\", \"marker\": {\"color\": \"#ffc800\"}, \"name\": \"Words=film\", \"offsetgroup\": \"Words=film\", \"orientation\": \"v\", \"showlegend\": true, \"textposition\": \"auto\", \"type\": \"bar\", \"x\": [\"film\"], \"xaxis\": \"x\", \"y\": [0.005148357884741176], \"yaxis\": \"y\"}, {\"alignmentgroup\": \"True\", \"hoverlabel\": {\"namelength\": 0}, \"hovertemplate\": \"Words=%{x}<br>Frequency=%{y}\", \"legendgroup\": \"Words=an\", \"marker\": {\"color\": \"#e98f42\"}, \"name\": \"Words=an\", \"offsetgroup\": \"Words=an\", \"orientation\": \"v\", \"showlegend\": true, \"textposition\": \"auto\", \"type\": \"bar\", \"x\": [\"an\"], \"xaxis\": \"x\", \"y\": [0.004837602065456383], \"yaxis\": \"y\"}, {\"alignmentgroup\": \"True\", \"hoverlabel\": {\"namelength\": 0}, \"hovertemplate\": \"Words=%{x}<br>Frequency=%{y}\", \"legendgroup\": \"Words=movie\", \"marker\": {\"color\": \"#ca8478\"}, \"name\": \"Words=movie\", \"offsetgroup\": \"Words=movie\", \"orientation\": \"v\", \"showlegend\": true, \"textposition\": \"auto\", \"type\": \"bar\", \"x\": [\"movie\"], \"xaxis\": \"x\", \"y\": [0.004518695273862481], \"yaxis\": \"y\"}, {\"alignmentgroup\": \"True\", \"hoverlabel\": {\"namelength\": 0}, \"hovertemplate\": \"Words=%{x}<br>Frequency=%{y}\", \"legendgroup\": \"Words=this\", \"marker\": {\"color\": \"#79af96\"}, \"name\": \"Words=this\", \"offsetgroup\": \"Words=this\", \"orientation\": \"v\", \"showlegend\": true, \"textposition\": \"auto\", \"type\": \"bar\", \"x\": [\"this\"], \"xaxis\": \"x\", \"y\": [0.004342430497677992], \"yaxis\": \"y\"}, {\"alignmentgroup\": \"True\", \"hoverlabel\": {\"namelength\": 0}, \"hovertemplate\": \"Words=%{x}<br>Frequency=%{y}\", \"legendgroup\": \"Words=on\", \"marker\": {\"color\": \"#48a8a6\"}, \"name\": \"Words=on\", \"offsetgroup\": \"Words=on\", \"orientation\": \"v\", \"showlegend\": true, \"textposition\": \"auto\", \"type\": \"bar\", \"x\": [\"on\"], \"xaxis\": \"x\", \"y\": [0.00412235424533204], \"yaxis\": \"y\"}, {\"alignmentgroup\": \"True\", \"hoverlabel\": {\"namelength\": 0}, \"hovertemplate\": \"Words=%{x}<br>Frequency=%{y}\", \"legendgroup\": \"Words=be\", \"marker\": {\"color\": \"#ffc800\"}, \"name\": \"Words=be\", \"offsetgroup\": \"Words=be\", \"orientation\": \"v\", \"showlegend\": true, \"textposition\": \"auto\", \"type\": \"bar\", \"x\": [\"be\"], \"xaxis\": \"x\", \"y\": [0.004100957943020628], \"yaxis\": \"y\"}, {\"alignmentgroup\": \"True\", \"hoverlabel\": {\"namelength\": 0}, \"hovertemplate\": \"Words=%{x}<br>Frequency=%{y}\", \"legendgroup\": \"Words=but\", \"marker\": {\"color\": \"#e98f42\"}, \"name\": \"Words=but\", \"offsetgroup\": \"Words=but\", \"orientation\": \"v\", \"showlegend\": true, \"textposition\": \"auto\", \"type\": \"bar\", \"x\": [\"but\"], \"xaxis\": \"x\", \"y\": [0.004079561640709216], \"yaxis\": \"y\"}, {\"alignmentgroup\": \"True\", \"hoverlabel\": {\"namelength\": 0}, \"hovertemplate\": \"Words=%{x}<br>Frequency=%{y}\", \"legendgroup\": \"Words=n't\", \"marker\": {\"color\": \"#ca8478\"}, \"name\": \"Words=n't\", \"offsetgroup\": \"Words=n't\", \"orientation\": \"v\", \"showlegend\": true, \"textposition\": \"auto\", \"type\": \"bar\", \"x\": [\"n't\"], \"xaxis\": \"x\", \"y\": [0.003939976239915719], \"yaxis\": \"y\"}, {\"alignmentgroup\": \"True\", \"hoverlabel\": {\"namelength\": 0}, \"hovertemplate\": \"Words=%{x}<br>Frequency=%{y}\", \"legendgroup\": \"Words=you\", \"marker\": {\"color\": \"#79af96\"}, \"name\": \"Words=you\", \"offsetgroup\": \"Words=you\", \"orientation\": \"v\", \"showlegend\": true, \"textposition\": \"auto\", \"type\": \"bar\", \"x\": [\"you\"], \"xaxis\": \"x\", \"y\": [0.003904315736063366], \"yaxis\": \"y\"}, {\"alignmentgroup\": \"True\", \"hoverlabel\": {\"namelength\": 0}, \"hovertemplate\": \"Words=%{x}<br>Frequency=%{y}\", \"legendgroup\": \"Words=--\", \"marker\": {\"color\": \"#48a8a6\"}, \"name\": \"Words=--\", \"offsetgroup\": \"Words=--\", \"orientation\": \"v\", \"showlegend\": true, \"textposition\": \"auto\", \"type\": \"bar\", \"x\": [\"--\"], \"xaxis\": \"x\", \"y\": [0.0034967671206078996], \"yaxis\": \"y\"}],\n",
              "                        {\"barmode\": \"relative\", \"legend\": {\"tracegroupgap\": 0}, \"template\": {\"data\": {\"bar\": [{\"error_x\": {\"color\": \"#2a3f5f\"}, \"error_y\": {\"color\": \"#2a3f5f\"}, \"marker\": {\"line\": {\"color\": \"#E5ECF6\", \"width\": 0.5}}, \"type\": \"bar\"}], \"barpolar\": [{\"marker\": {\"line\": {\"color\": \"#E5ECF6\", \"width\": 0.5}}, \"type\": \"barpolar\"}], \"carpet\": [{\"aaxis\": {\"endlinecolor\": \"#2a3f5f\", \"gridcolor\": \"white\", \"linecolor\": \"white\", \"minorgridcolor\": \"white\", \"startlinecolor\": \"#2a3f5f\"}, \"baxis\": {\"endlinecolor\": \"#2a3f5f\", \"gridcolor\": \"white\", \"linecolor\": \"white\", \"minorgridcolor\": \"white\", \"startlinecolor\": \"#2a3f5f\"}, \"type\": \"carpet\"}], \"choropleth\": [{\"colorbar\": {\"outlinewidth\": 0, \"ticks\": \"\"}, \"type\": \"choropleth\"}], \"contour\": [{\"colorbar\": {\"outlinewidth\": 0, \"ticks\": \"\"}, \"colorscale\": [[0.0, \"#0d0887\"], [0.1111111111111111, \"#46039f\"], [0.2222222222222222, \"#7201a8\"], [0.3333333333333333, \"#9c179e\"], [0.4444444444444444, \"#bd3786\"], [0.5555555555555556, \"#d8576b\"], [0.6666666666666666, \"#ed7953\"], [0.7777777777777778, \"#fb9f3a\"], [0.8888888888888888, \"#fdca26\"], [1.0, \"#f0f921\"]], \"type\": \"contour\"}], \"contourcarpet\": [{\"colorbar\": {\"outlinewidth\": 0, \"ticks\": \"\"}, \"type\": \"contourcarpet\"}], \"heatmap\": [{\"colorbar\": {\"outlinewidth\": 0, \"ticks\": \"\"}, \"colorscale\": [[0.0, \"#0d0887\"], [0.1111111111111111, \"#46039f\"], [0.2222222222222222, \"#7201a8\"], [0.3333333333333333, \"#9c179e\"], [0.4444444444444444, \"#bd3786\"], [0.5555555555555556, \"#d8576b\"], [0.6666666666666666, \"#ed7953\"], [0.7777777777777778, \"#fb9f3a\"], [0.8888888888888888, \"#fdca26\"], [1.0, \"#f0f921\"]], \"type\": \"heatmap\"}], \"heatmapgl\": [{\"colorbar\": {\"outlinewidth\": 0, \"ticks\": \"\"}, \"colorscale\": [[0.0, \"#0d0887\"], [0.1111111111111111, \"#46039f\"], [0.2222222222222222, \"#7201a8\"], [0.3333333333333333, \"#9c179e\"], [0.4444444444444444, \"#bd3786\"], [0.5555555555555556, \"#d8576b\"], [0.6666666666666666, \"#ed7953\"], [0.7777777777777778, \"#fb9f3a\"], [0.8888888888888888, \"#fdca26\"], [1.0, \"#f0f921\"]], \"type\": \"heatmapgl\"}], \"histogram\": [{\"marker\": {\"colorbar\": {\"outlinewidth\": 0, \"ticks\": \"\"}}, \"type\": \"histogram\"}], \"histogram2d\": [{\"colorbar\": {\"outlinewidth\": 0, \"ticks\": \"\"}, \"colorscale\": [[0.0, \"#0d0887\"], [0.1111111111111111, \"#46039f\"], [0.2222222222222222, \"#7201a8\"], [0.3333333333333333, \"#9c179e\"], [0.4444444444444444, \"#bd3786\"], [0.5555555555555556, \"#d8576b\"], [0.6666666666666666, \"#ed7953\"], [0.7777777777777778, \"#fb9f3a\"], [0.8888888888888888, \"#fdca26\"], [1.0, \"#f0f921\"]], \"type\": \"histogram2d\"}], \"histogram2dcontour\": [{\"colorbar\": {\"outlinewidth\": 0, \"ticks\": \"\"}, \"colorscale\": [[0.0, \"#0d0887\"], [0.1111111111111111, \"#46039f\"], [0.2222222222222222, \"#7201a8\"], [0.3333333333333333, \"#9c179e\"], [0.4444444444444444, \"#bd3786\"], [0.5555555555555556, \"#d8576b\"], [0.6666666666666666, \"#ed7953\"], [0.7777777777777778, \"#fb9f3a\"], [0.8888888888888888, \"#fdca26\"], [1.0, \"#f0f921\"]], \"type\": \"histogram2dcontour\"}], \"mesh3d\": [{\"colorbar\": {\"outlinewidth\": 0, \"ticks\": \"\"}, \"type\": \"mesh3d\"}], \"parcoords\": [{\"line\": {\"colorbar\": {\"outlinewidth\": 0, \"ticks\": \"\"}}, \"type\": \"parcoords\"}], \"pie\": [{\"automargin\": true, \"type\": \"pie\"}], \"scatter\": [{\"marker\": {\"colorbar\": {\"outlinewidth\": 0, \"ticks\": \"\"}}, \"type\": \"scatter\"}], \"scatter3d\": [{\"line\": {\"colorbar\": {\"outlinewidth\": 0, \"ticks\": \"\"}}, \"marker\": {\"colorbar\": {\"outlinewidth\": 0, \"ticks\": \"\"}}, \"type\": \"scatter3d\"}], \"scattercarpet\": [{\"marker\": {\"colorbar\": {\"outlinewidth\": 0, \"ticks\": \"\"}}, \"type\": \"scattercarpet\"}], \"scattergeo\": [{\"marker\": {\"colorbar\": {\"outlinewidth\": 0, \"ticks\": \"\"}}, \"type\": \"scattergeo\"}], \"scattergl\": [{\"marker\": {\"colorbar\": {\"outlinewidth\": 0, \"ticks\": \"\"}}, \"type\": \"scattergl\"}], \"scattermapbox\": [{\"marker\": {\"colorbar\": {\"outlinewidth\": 0, \"ticks\": \"\"}}, \"type\": \"scattermapbox\"}], \"scatterpolar\": [{\"marker\": {\"colorbar\": {\"outlinewidth\": 0, \"ticks\": \"\"}}, \"type\": \"scatterpolar\"}], \"scatterpolargl\": [{\"marker\": {\"colorbar\": {\"outlinewidth\": 0, \"ticks\": \"\"}}, \"type\": \"scatterpolargl\"}], \"scatterternary\": [{\"marker\": {\"colorbar\": {\"outlinewidth\": 0, \"ticks\": \"\"}}, \"type\": \"scatterternary\"}], \"surface\": [{\"colorbar\": {\"outlinewidth\": 0, \"ticks\": \"\"}, \"colorscale\": [[0.0, \"#0d0887\"], [0.1111111111111111, \"#46039f\"], [0.2222222222222222, \"#7201a8\"], [0.3333333333333333, \"#9c179e\"], [0.4444444444444444, \"#bd3786\"], [0.5555555555555556, \"#d8576b\"], [0.6666666666666666, \"#ed7953\"], [0.7777777777777778, \"#fb9f3a\"], [0.8888888888888888, \"#fdca26\"], [1.0, \"#f0f921\"]], \"type\": \"surface\"}], \"table\": [{\"cells\": {\"fill\": {\"color\": \"#EBF0F8\"}, \"line\": {\"color\": \"white\"}}, \"header\": {\"fill\": {\"color\": \"#C8D4E3\"}, \"line\": {\"color\": \"white\"}}, \"type\": \"table\"}]}, \"layout\": {\"annotationdefaults\": {\"arrowcolor\": \"#2a3f5f\", \"arrowhead\": 0, \"arrowwidth\": 1}, \"coloraxis\": {\"colorbar\": {\"outlinewidth\": 0, \"ticks\": \"\"}}, \"colorscale\": {\"diverging\": [[0, \"#8e0152\"], [0.1, \"#c51b7d\"], [0.2, \"#de77ae\"], [0.3, \"#f1b6da\"], [0.4, \"#fde0ef\"], [0.5, \"#f7f7f7\"], [0.6, \"#e6f5d0\"], [0.7, \"#b8e186\"], [0.8, \"#7fbc41\"], [0.9, \"#4d9221\"], [1, \"#276419\"]], \"sequential\": [[0.0, \"#0d0887\"], [0.1111111111111111, \"#46039f\"], [0.2222222222222222, \"#7201a8\"], [0.3333333333333333, \"#9c179e\"], [0.4444444444444444, \"#bd3786\"], [0.5555555555555556, \"#d8576b\"], [0.6666666666666666, \"#ed7953\"], [0.7777777777777778, \"#fb9f3a\"], [0.8888888888888888, \"#fdca26\"], [1.0, \"#f0f921\"]], \"sequentialminus\": [[0.0, \"#0d0887\"], [0.1111111111111111, \"#46039f\"], [0.2222222222222222, \"#7201a8\"], [0.3333333333333333, \"#9c179e\"], [0.4444444444444444, \"#bd3786\"], [0.5555555555555556, \"#d8576b\"], [0.6666666666666666, \"#ed7953\"], [0.7777777777777778, \"#fb9f3a\"], [0.8888888888888888, \"#fdca26\"], [1.0, \"#f0f921\"]]}, \"colorway\": [\"#636efa\", \"#EF553B\", \"#00cc96\", \"#ab63fa\", \"#FFA15A\", \"#19d3f3\", \"#FF6692\", \"#B6E880\", \"#FF97FF\", \"#FECB52\"], \"font\": {\"color\": \"#2a3f5f\"}, \"geo\": {\"bgcolor\": \"white\", \"lakecolor\": \"white\", \"landcolor\": \"#E5ECF6\", \"showlakes\": true, \"showland\": true, \"subunitcolor\": \"white\"}, \"hoverlabel\": {\"align\": \"left\"}, \"hovermode\": \"closest\", \"mapbox\": {\"style\": \"light\"}, \"paper_bgcolor\": \"white\", \"plot_bgcolor\": \"#E5ECF6\", \"polar\": {\"angularaxis\": {\"gridcolor\": \"white\", \"linecolor\": \"white\", \"ticks\": \"\"}, \"bgcolor\": \"#E5ECF6\", \"radialaxis\": {\"gridcolor\": \"white\", \"linecolor\": \"white\", \"ticks\": \"\"}}, \"scene\": {\"xaxis\": {\"backgroundcolor\": \"#E5ECF6\", \"gridcolor\": \"white\", \"gridwidth\": 2, \"linecolor\": \"white\", \"showbackground\": true, \"ticks\": \"\", \"zerolinecolor\": \"white\"}, \"yaxis\": {\"backgroundcolor\": \"#E5ECF6\", \"gridcolor\": \"white\", \"gridwidth\": 2, \"linecolor\": \"white\", \"showbackground\": true, \"ticks\": \"\", \"zerolinecolor\": \"white\"}, \"zaxis\": {\"backgroundcolor\": \"#E5ECF6\", \"gridcolor\": \"white\", \"gridwidth\": 2, \"linecolor\": \"white\", \"showbackground\": true, \"ticks\": \"\", \"zerolinecolor\": \"white\"}}, \"shapedefaults\": {\"line\": {\"color\": \"#2a3f5f\"}}, \"ternary\": {\"aaxis\": {\"gridcolor\": \"white\", \"linecolor\": \"white\", \"ticks\": \"\"}, \"baxis\": {\"gridcolor\": \"white\", \"linecolor\": \"white\", \"ticks\": \"\"}, \"bgcolor\": \"#E5ECF6\", \"caxis\": {\"gridcolor\": \"white\", \"linecolor\": \"white\", \"ticks\": \"\"}}, \"title\": {\"x\": 0.05}, \"xaxis\": {\"automargin\": true, \"gridcolor\": \"white\", \"linecolor\": \"white\", \"ticks\": \"\", \"title\": {\"standoff\": 15}, \"zerolinecolor\": \"white\", \"zerolinewidth\": 2}, \"yaxis\": {\"automargin\": true, \"gridcolor\": \"white\", \"linecolor\": \"white\", \"ticks\": \"\", \"title\": {\"standoff\": 15}, \"zerolinecolor\": \"white\", \"zerolinewidth\": 2}}}, \"title\": {\"text\": \"Top 25 Words Without Filtering\"}, \"xaxis\": {\"anchor\": \"y\", \"categoryarray\": [\",\", \"the\", \"of\", \"and\", \"a\", \"to\", \"'s\", \"in\", \"that\", \"is\", \"it\", \"as\", \"with\", \"for\", \"its\", \"film\", \"an\", \"movie\", \"this\", \"on\", \"be\", \"but\", \"n't\", \"you\", \"--\"], \"categoryorder\": \"array\", \"domain\": [0.0, 1.0], \"title\": {\"text\": \"Words\"}}, \"yaxis\": {\"anchor\": \"x\", \"domain\": [0.0, 1.0], \"title\": {\"text\": \"Frequency\"}}},\n",
              "                        {\"responsive\": true}\n",
              "                    ).then(function(){\n",
              "                            \n",
              "var gd = document.getElementById('4adf64bd-fff6-4971-89b1-58c2df384c71');\n",
              "var x = new MutationObserver(function (mutations, observer) {{\n",
              "        var display = window.getComputedStyle(gd).display;\n",
              "        if (!display || display === 'none') {{\n",
              "            console.log([gd, 'removed!']);\n",
              "            Plotly.purge(gd);\n",
              "            observer.disconnect();\n",
              "        }}\n",
              "}});\n",
              "\n",
              "// Listen for the removal of the full notebook cells\n",
              "var notebookContainer = gd.closest('#notebook-container');\n",
              "if (notebookContainer) {{\n",
              "    x.observe(notebookContainer, {childList: true});\n",
              "}}\n",
              "\n",
              "// Listen for the clearing of the current output cell\n",
              "var outputEl = gd.closest('.output');\n",
              "if (outputEl) {{\n",
              "    x.observe(outputEl, {childList: true});\n",
              "}}\n",
              "\n",
              "                        })\n",
              "                };\n",
              "                \n",
              "            </script>\n",
              "        </div>\n",
              "</body>\n",
              "</html>"
            ]
          },
          "metadata": {}
        }
      ],
      "source": [
        "px.bar(df_words, x = \"word\", y = \"frequency\", color = \"word\", color_discrete_sequence = my_colorlist, title = \"Top 25 Words Without Filtering\",\n",
        "       labels={\n",
        "           \"word\":\"Words\",\n",
        "           \"frequency\":\"Frequency\"\n",
        "       })#.update_layout(yaxis={\"tickformat\":',.0%'})"
      ]
    },
    {
      "cell_type": "markdown",
      "metadata": {
        "id": "C-2yEH8oHAEJ"
      },
      "source": [
        "### Remove Punctuation"
      ]
    },
    {
      "cell_type": "code",
      "execution_count": 16,
      "metadata": {
        "colab": {
          "base_uri": "https://localhost:8080/"
        },
        "id": "9BxO4h8FErfb",
        "outputId": "a780d31b-cd33-4ca2-a800-d00a6f7917af"
      },
      "outputs": [
        {
          "output_type": "stream",
          "name": "stdout",
          "text": [
            "930730\n",
            "['a', 'series', 'of', 'escapades', 'demonstrating', 'the', 'adage', 'that', 'what', 'is', 'good', 'for', 'the', 'goose', 'is', 'also', 'good', 'for', 'the', 'gander', 'some', 'of', 'which', 'occasionally', 'amuses']\n"
          ]
        }
      ],
      "source": [
        "punction_list = list(punctuation)\n",
        "punct_testwords = [testword for testword in testwords if testword not in punction_list]\n",
        "\n",
        "# show some of the words\n",
        "total_words = len(punct_testwords)\n",
        "filter_type = 'Filtering Punctuation'\n",
        "df2 = pd.DataFrame([[filter_type, total_words]], columns=['filter_type','num_words'])\n",
        "df_filter = df_filter.append(df2, ignore_index=True)\n",
        "\n",
        "print(total_words)\n",
        "print(punct_testwords[ :25])"
      ]
    },
    {
      "cell_type": "code",
      "execution_count": 17,
      "metadata": {
        "colab": {
          "base_uri": "https://localhost:8080/"
        },
        "id": "-bOUz4pSEeEL",
        "outputId": "f5bf65b2-2ebb-496f-ccb4-e694ae07bc2f"
      },
      "outputs": [
        {
          "output_type": "stream",
          "name": "stdout",
          "text": [
            "the \t 0.043782837127845885\n",
            "of \t 0.03056847850611885\n",
            "and \t 0.03001837267521193\n",
            "a \t 0.029829273795837677\n",
            "to \t 0.020982454632385333\n",
            "'s \t 0.016864181878740343\n",
            "in \t 0.012691113427094862\n",
            "that \t 0.010882855393078551\n",
            "is \t 0.009552716684752828\n",
            "it \t 0.008818884101726602\n",
            "as \t 0.007716523589010776\n",
            "with \t 0.006970872326023659\n",
            "for \t 0.006802187530218216\n",
            "its \t 0.006352003266253371\n",
            "film \t 0.005429071803852889\n",
            "an \t 0.005101372041300914\n",
            "movie \t 0.004765076875141019\n",
            "this \t 0.004579201272119734\n",
            "on \t 0.004347125374705876\n",
            "be \t 0.004324562440235084\n",
            "but \t 0.004301999505764292\n",
            "n't \t 0.0041548032189786515\n",
            "you \t 0.004117198328193998\n",
            "-- \t 0.0036874281477979652\n",
            "by \t 0.0035778367517969767\n"
          ]
        }
      ],
      "source": [
        "ndist = FreqDist(punct_testwords)\n",
        "\n",
        "# print the top 30 tokens by frequency\n",
        "nitems = ndist.most_common(25)\n",
        "for item in nitems:\n",
        "    print (item[0], '\\t', item[1]/total_words)"
      ]
    },
    {
      "cell_type": "markdown",
      "metadata": {
        "id": "rND2MenBHDB0"
      },
      "source": [
        "### Remove Stopwords"
      ]
    },
    {
      "cell_type": "markdown",
      "metadata": {
        "id": "IHhLRtF5HJD3"
      },
      "source": [
        "### Filtering Regex"
      ]
    },
    {
      "cell_type": "code",
      "execution_count": 18,
      "metadata": {
        "id": "zqKcXuKZnBHG"
      },
      "outputs": [],
      "source": [
        "#Now we want to remove non-alphabetical\n",
        "#   lower-case characters [^a-z]+\n",
        "# the beginning ^ and ending $ require the match to begin and end on a word boundary \n",
        "pattern = re.compile('^[^a-z]+$')"
      ]
    },
    {
      "cell_type": "code",
      "execution_count": 19,
      "metadata": {
        "id": "u7zkg76sera3"
      },
      "outputs": [],
      "source": [
        "#function that takes a word and returns true if it consists only\n",
        "#of non-alphabetic characters  (assumes import re)\n",
        "def alpha_filter(w):\n",
        "  #pattern to match word of non-alphabetical characters\n",
        "  pattern = re.compile('^[^a-z]+$')\n",
        "  if (pattern.match(w)):\n",
        "    return True\n",
        "  else:\n",
        "    return False"
      ]
    },
    {
      "cell_type": "code",
      "execution_count": 20,
      "metadata": {
        "colab": {
          "base_uri": "https://localhost:8080/"
        },
        "id": "foCFV5-6tE0P",
        "outputId": "a6635e26-1471-403e-cfe5-9c05c01cae4d"
      },
      "outputs": [
        {
          "output_type": "stream",
          "name": "stdout",
          "text": [
            "920174\n",
            "['a', 'series', 'of', 'escapades', 'demonstrating', 'the', 'adage', 'that', 'what', 'is', 'good', 'for', 'the', 'goose', 'is', 'also', 'good', 'for', 'the', 'gander', 'some', 'of', 'which', 'occasionally', 'amuses']\n"
          ]
        }
      ],
      "source": [
        "#apply the above function to testwords\n",
        "alphatestwords = [w for w in punct_testwords if not alpha_filter(w)]\n",
        "\n",
        "total_words = len(alphatestwords)\n",
        "filter_type = 'Filtering Regex Pt. 1'\n",
        "df2 = pd.DataFrame([[filter_type, total_words]], columns=['filter_type','num_words'])\n",
        "df_filter = df_filter.append(df2, ignore_index=True)\n",
        "\n",
        "\n",
        "print(total_words)\n",
        "print(alphatestwords[ :25])\n",
        "\n",
        "#10% of the words gone!"
      ]
    },
    {
      "cell_type": "code",
      "execution_count": 21,
      "metadata": {
        "colab": {
          "base_uri": "https://localhost:8080/"
        },
        "id": "drzTQRnKJiAX",
        "outputId": "9bdd3b99-dd4a-49b7-d104-e01ad5f50032"
      },
      "outputs": [
        {
          "output_type": "stream",
          "name": "stdout",
          "text": [
            "the \t 0.04428510260016041\n",
            "of \t 0.03091915224729236\n",
            "and \t 0.030362735743457214\n",
            "a \t 0.030171467570263885\n",
            "to \t 0.02122315996757135\n",
            "'s \t 0.01705764344569614\n",
            "in \t 0.012836702623634226\n",
            "that \t 0.011007700717473\n",
            "is \t 0.009662302999215366\n",
            "it \t 0.008920052077107155\n",
            "as \t 0.007805045567468761\n",
            "with \t 0.007050840384535968\n",
            "for \t 0.006880220480039645\n",
            "its \t 0.006424871817721431\n",
            "film \t 0.00549135272241989\n",
            "an \t 0.0051598936722837205\n",
            "movie \t 0.004819740614275126\n",
            "this \t 0.004631732694033955\n",
            "on \t 0.004396994481478503\n",
            "be \t 0.00437417271081339\n",
            "but \t 0.004351350940148276\n",
            "n't \t 0.0042024660553330135\n",
            "you \t 0.004164429770891157\n",
            "by \t 0.0036188807768965433\n",
            "his \t 0.0035612829747417338\n"
          ]
        }
      ],
      "source": [
        "ndist = FreqDist(alphatestwords)\n",
        "\n",
        "# print the top 30 tokens by frequency\n",
        "nitems = ndist.most_common(25)\n",
        "for item in nitems:\n",
        "    print (item[0], '\\t', item[1]/total_words)"
      ]
    },
    {
      "cell_type": "code",
      "execution_count": 22,
      "metadata": {
        "id": "-WdKqcw06-go"
      },
      "outputs": [],
      "source": [
        "#okay we still have periods, lets try to remove those before including stopwords\n",
        "#import re\n",
        "#line = 'Q: Do I write ;/.??? No!!!'\n",
        "#re.sub('\\ |\\?|\\.|\\!|\\/|\\;|\\:', '', line)\n",
        "#function that takes a word and returns true if it consists only\n",
        "#of non-alphabetic characters  (assumes import re)\n",
        "def alpha_filter(w):\n",
        "  #pattern to match word of non-alphabetical characters\n",
        "  pattern = re.compile('\\ |\\?|\\.|\\!|\\/|\\;|\\:')\n",
        "  if (pattern.match(w)):\n",
        "    return True\n",
        "  else:\n",
        "    return False"
      ]
    },
    {
      "cell_type": "code",
      "execution_count": 23,
      "metadata": {
        "colab": {
          "base_uri": "https://localhost:8080/"
        },
        "id": "ERk8oQedScrn",
        "outputId": "9e2b076a-7f80-46fb-8114-d73beb16c68d"
      },
      "outputs": [
        {
          "output_type": "stream",
          "name": "stdout",
          "text": [
            "904479\n",
            "['a', 'series', 'of', 'escapades', 'demonstrating', 'the', 'adage', 'that', 'what', 'is', 'good', 'for', 'the', 'goose', 'is', 'also', 'good', 'for', 'the', 'gander', 'some', 'of', 'which', 'occasionally', 'amuses']\n"
          ]
        }
      ],
      "source": [
        "#apply the above function to testwords\n",
        "alphatestwords = [w for w in alphatestwords if not alpha_filter(w)]\n",
        "\n",
        "total_words = len(alphatestwords)\n",
        "filter_type = 'Filtering Regex Pt. 2'\n",
        "df2 = pd.DataFrame([[filter_type, total_words]], columns=['filter_type','num_words'])\n",
        "df_filter = df_filter.append(df2, ignore_index=True)\n",
        "\n",
        "print(total_words)\n",
        "print(alphatestwords[ :25])\n",
        "\n",
        "#10% of the words gone!"
      ]
    },
    {
      "cell_type": "code",
      "execution_count": 24,
      "metadata": {
        "colab": {
          "base_uri": "https://localhost:8080/"
        },
        "id": "6Y5PFlrwSf45",
        "outputId": "bb500e1d-3336-4cd3-f73c-3e269bba5028"
      },
      "outputs": [
        {
          "output_type": "stream",
          "name": "stdout",
          "text": [
            "the \t 0.04505356122143245\n",
            "of \t 0.03145567779904232\n",
            "and \t 0.030889606060505552\n",
            "a \t 0.030695018900383536\n",
            "to \t 0.021591435511493357\n",
            "'s \t 0.017353636734517883\n",
            "in \t 0.013059451905461598\n",
            "that \t 0.01119871218679483\n",
            "is \t 0.009829968412754747\n",
            "it \t 0.009074837558417608\n",
            "as \t 0.007940482863615407\n",
            "with \t 0.0071731903117706435\n",
            "for \t 0.006999609720070891\n",
            "its \t 0.006536359605916776\n",
            "film \t 0.005586641591457624\n",
            "an \t 0.005249430887837086\n",
            "movie \t 0.004903375313301912\n",
            "this \t 0.004712104979772886\n",
            "on \t 0.004473293465077685\n",
            "be \t 0.004450075678926763\n",
            "but \t 0.004426857892775841\n",
            "n't \t 0.004275389478362682\n",
            "you \t 0.0042366931681111445\n",
            "by \t 0.00368167751821767\n",
            "his \t 0.0036230802484081997\n"
          ]
        }
      ],
      "source": [
        "ndist = FreqDist(alphatestwords)\n",
        "\n",
        "# print the top 30 tokens by frequency\n",
        "nitems = ndist.most_common(25)\n",
        "for item in nitems:\n",
        "    print (item[0], '\\t', item[1]/total_words)"
      ]
    },
    {
      "cell_type": "markdown",
      "metadata": {
        "id": "oASZYQ0ITGcY"
      },
      "source": [
        "### Filtering Stop Words"
      ]
    },
    {
      "cell_type": "code",
      "execution_count": 25,
      "metadata": {
        "colab": {
          "base_uri": "https://localhost:8080/"
        },
        "id": "iANDSF6utk9i",
        "outputId": "6a383ac6-acf7-434b-c65c-ec18a80c8d6d"
      },
      "outputs": [
        {
          "output_type": "stream",
          "name": "stdout",
          "text": [
            "179\n",
            "['i', 'me', 'my', 'myself', 'we', 'our', 'ours', 'ourselves', 'you', \"you're\", \"you've\", \"you'll\", \"you'd\", 'your', 'yours', 'yourself', 'yourselves', 'he', 'him', 'his', 'himself', 'she', \"she's\", 'her', 'hers', 'herself', 'it', \"it's\", 'its', 'itself', 'they', 'them', 'their', 'theirs', 'themselves', 'what', 'which', 'who', 'whom', 'this', 'that', \"that'll\", 'these', 'those', 'am', 'is', 'are', 'was', 'were', 'be', 'been', 'being', 'have', 'has', 'had', 'having', 'do', 'does', 'did', 'doing', 'a', 'an', 'the', 'and', 'but', 'if', 'or', 'because', 'as', 'until', 'while', 'of', 'at', 'by', 'for', 'with', 'about', 'against', 'between', 'into', 'through', 'during', 'before', 'after', 'above', 'below', 'to', 'from', 'up', 'down', 'in', 'out', 'on', 'off', 'over', 'under', 'again', 'further', 'then', 'once', 'here', 'there', 'when', 'where', 'why', 'how', 'all', 'any', 'both', 'each', 'few', 'more', 'most', 'other', 'some', 'such', 'no', 'nor', 'not', 'only', 'own', 'same', 'so', 'than', 'too', 'very', 's', 't', 'can', 'will', 'just', 'don', \"don't\", 'should', \"should've\", 'now', 'd', 'll', 'm', 'o', 're', 've', 'y', 'ain', 'aren', \"aren't\", 'couldn', \"couldn't\", 'didn', \"didn't\", 'doesn', \"doesn't\", 'hadn', \"hadn't\", 'hasn', \"hasn't\", 'haven', \"haven't\", 'isn', \"isn't\", 'ma', 'mightn', \"mightn't\", 'mustn', \"mustn't\", 'needn', \"needn't\", 'shan', \"shan't\", 'shouldn', \"shouldn't\", 'wasn', \"wasn't\", 'weren', \"weren't\", 'won', \"won't\", 'wouldn', \"wouldn't\"]\n"
          ]
        }
      ],
      "source": [
        "#get a list of stopwords from nltk\n",
        "nltkstopwords = nltk.corpus.stopwords.words('english')\n",
        "print(len(nltkstopwords))\n",
        "print(nltkstopwords)"
      ]
    },
    {
      "cell_type": "code",
      "execution_count": 26,
      "metadata": {
        "colab": {
          "base_uri": "https://localhost:8080/"
        },
        "id": "5AWOXsCLt2lL",
        "outputId": "7221bb02-e94d-4de3-e324-23fc418b936a"
      },
      "outputs": [
        {
          "output_type": "stream",
          "name": "stdout",
          "text": [
            "568580\n"
          ]
        }
      ],
      "source": [
        "stoppedtestwords = [w for w in alphatestwords if not w in nltkstopwords]\n",
        "total_words = len(stoppedtestwords)\n",
        "print(total_words)\n",
        "# a total of 335,889 characters removed after non-alphabetical and stopwords removed"
      ]
    },
    {
      "cell_type": "code",
      "execution_count": 27,
      "metadata": {
        "colab": {
          "base_uri": "https://localhost:8080/"
        },
        "id": "F33x0JUNuxIt",
        "outputId": "b4be1592-3cfc-4eec-87be-9134474abbab"
      },
      "outputs": [
        {
          "output_type": "stream",
          "name": "stdout",
          "text": [
            "'s \t 0.02760561398571881\n",
            "film \t 0.008887051953990643\n",
            "movie \t 0.007800133666326639\n",
            "n't \t 0.006801153751450983\n",
            "one \t 0.0045939005944634\n",
            "like \t 0.0042175243589292625\n",
            "story \t 0.0030549790706672765\n",
            "good \t 0.0029600056280558586\n",
            "much \t 0.0027542298357311197\n",
            "-rrb- \t 0.0026909142073235077\n",
            "-lrb- \t 0.00263111611382743\n",
            "characters \t 0.002363783460550846\n",
            "little \t 0.002356748390727778\n",
            "even \t 0.0022072531569875833\n",
            "funny \t 0.001990924759928242\n",
            "time \t 0.0019645432480917373\n",
            "new \t 0.0019557494108129025\n",
            "way \t 0.0019416792711667663\n",
            "make \t 0.0019135389918744944\n",
            "comedy \t 0.0018379119912765134\n",
            "love \t 0.0017658025255900664\n",
            "bad \t 0.0017482148510323966\n",
            "us \t 0.0016954518273593865\n",
            "enough \t 0.0016778641528017166\n",
            "never \t 0.0016567589433325125\n"
          ]
        }
      ],
      "source": [
        "#Test list for a better frequency distribution\n",
        "ndist = FreqDist(stoppedtestwords)\n",
        "\n",
        "# print the top 30 tokens by frequency\n",
        "\n",
        "filter_type = 'Filtering Stopwords Pt. 1'\n",
        "df2 = pd.DataFrame([[filter_type, total_words]], columns=['filter_type','num_words'])\n",
        "df_filter = df_filter.append(df2, ignore_index=True)\n",
        "\n",
        "nitems = ndist.most_common(25)\n",
        "for item in nitems:\n",
        "    print (item[0], '\\t', item[1]/total_words)\n",
        "\n",
        "  ##okay so there is still things that need to be removed\n",
        "  #example \"'s\" and \"-lrb-\"\n"
      ]
    },
    {
      "cell_type": "code",
      "execution_count": 28,
      "metadata": {
        "id": "UyFCIny_sddR"
      },
      "outputs": [],
      "source": [
        "morestopwords = ['could','would','might','must','need','sha','wo','y',\"'s\",\"'d\",\"'ll\",\"'t\",\"'m\",\"'re\",\"'ve\", \"n't\", \"-rrb-\", \"-lrb-\", \"like\",\"''\",\"--\",\"``\"]"
      ]
    },
    {
      "cell_type": "code",
      "execution_count": 29,
      "metadata": {
        "colab": {
          "base_uri": "https://localhost:8080/"
        },
        "id": "L6YPnMcWsksX",
        "outputId": "b1e29310-0ab1-47ce-f5a6-46d0d0348754"
      },
      "outputs": [
        {
          "output_type": "stream",
          "name": "stdout",
          "text": [
            "201\n",
            "['i', 'me', 'my', 'myself', 'we', 'our', 'ours', 'ourselves', 'you', \"you're\", \"you've\", \"you'll\", \"you'd\", 'your', 'yours', 'yourself', 'yourselves', 'he', 'him', 'his', 'himself', 'she', \"she's\", 'her', 'hers', 'herself', 'it', \"it's\", 'its', 'itself', 'they', 'them', 'their', 'theirs', 'themselves', 'what', 'which', 'who', 'whom', 'this', 'that', \"that'll\", 'these', 'those', 'am', 'is', 'are', 'was', 'were', 'be', 'been', 'being', 'have', 'has', 'had', 'having', 'do', 'does', 'did', 'doing', 'a', 'an', 'the', 'and', 'but', 'if', 'or', 'because', 'as', 'until', 'while', 'of', 'at', 'by', 'for', 'with', 'about', 'against', 'between', 'into', 'through', 'during', 'before', 'after', 'above', 'below', 'to', 'from', 'up', 'down', 'in', 'out', 'on', 'off', 'over', 'under', 'again', 'further', 'then', 'once', 'here', 'there', 'when', 'where', 'why', 'how', 'all', 'any', 'both', 'each', 'few', 'more', 'most', 'other', 'some', 'such', 'no', 'nor', 'not', 'only', 'own', 'same', 'so', 'than', 'too', 'very', 's', 't', 'can', 'will', 'just', 'don', \"don't\", 'should', \"should've\", 'now', 'd', 'll', 'm', 'o', 're', 've', 'y', 'ain', 'aren', \"aren't\", 'couldn', \"couldn't\", 'didn', \"didn't\", 'doesn', \"doesn't\", 'hadn', \"hadn't\", 'hasn', \"hasn't\", 'haven', \"haven't\", 'isn', \"isn't\", 'ma', 'mightn', \"mightn't\", 'mustn', \"mustn't\", 'needn', \"needn't\", 'shan', \"shan't\", 'shouldn', \"shouldn't\", 'wasn', \"wasn't\", 'weren', \"weren't\", 'won', \"won't\", 'wouldn', \"wouldn't\", 'could', 'would', 'might', 'must', 'need', 'sha', 'wo', 'y', \"'s\", \"'d\", \"'ll\", \"'t\", \"'m\", \"'re\", \"'ve\", \"n't\", '-rrb-', '-lrb-', 'like', \"''\", '--', '``']\n"
          ]
        }
      ],
      "source": [
        "stopwords = nltkstopwords + morestopwords\n",
        "print(len(stopwords))\n",
        "print(stopwords)"
      ]
    },
    {
      "cell_type": "code",
      "execution_count": 30,
      "metadata": {
        "id": "jBRvRQAmskiO"
      },
      "outputs": [],
      "source": [
        "stoppedtestwords = [w for w in alphatestwords if not w in stopwords]\n",
        "total_words = len(stoppedtestwords)"
      ]
    },
    {
      "cell_type": "code",
      "execution_count": 31,
      "metadata": {
        "colab": {
          "base_uri": "https://localhost:8080/"
        },
        "id": "BKAW3RnfT3EL",
        "outputId": "6e071ec8-23b4-41f5-b9f0-ed7e32f2bf42"
      },
      "outputs": [
        {
          "output_type": "stream",
          "name": "stdout",
          "text": [
            "film \t 0.009383681716212804\n",
            "movie \t 0.008236023829686084\n",
            "one \t 0.004850618769591895\n",
            "story \t 0.003225698622810536\n",
            "good \t 0.0031254178366091723\n",
            "much \t 0.0029081427998395508\n",
            "characters \t 0.0024958773454561664\n",
            "little \t 0.00248844913907088\n",
            "even \t 0.002330599753383548\n",
            "funny \t 0.002102182407035997\n",
            "time \t 0.0020743266330911737\n",
            "new \t 0.002065041375109566\n",
            "way \t 0.0020501849623389937\n",
            "make \t 0.002020472136797849\n",
            "comedy \t 0.001940618918156022\n",
            "love \t 0.0018644798027068383\n",
            "bad \t 0.001845909286743623\n",
            "us \t 0.0017901977388539764\n",
            "enough \t 0.0017716272228907608\n",
            "never \t 0.0017493426037349022\n",
            "many \t 0.0017474855521385805\n",
            "life \t 0.0017400573457532944\n",
            "movies \t 0.0017010592622305417\n",
            "best \t 0.0016657752819004322\n",
            "something \t 0.0016620611787077893\n"
          ]
        }
      ],
      "source": [
        "#Test list for a better frequency distribution\n",
        "ndist = FreqDist(stoppedtestwords)\n",
        "\n",
        "# print the top 25 tokens by frequency\n",
        "filter_type = 'Filtering Stopwords Pt. 2'\n",
        "df2 = pd.DataFrame([[filter_type, total_words]], columns=['filter_type','num_words'])\n",
        "df_filter = df_filter.append(df2, ignore_index=True)\n",
        "\n",
        "\n",
        "df_words = pd.DataFrame(columns=['word','frequency'])\n",
        "nitems = ndist.most_common(25)\n",
        "for item in nitems:\n",
        "    print (item[0], '\\t', item[1]/total_words)\n",
        "\n",
        "    df2 = pd.DataFrame([[item[0], item[1]/total_words]], columns=['word','frequency'])\n",
        "    df_words = df_words.append(df2, ignore_index=True)"
      ]
    },
    {
      "cell_type": "code",
      "execution_count": 32,
      "metadata": {
        "colab": {
          "base_uri": "https://localhost:8080/",
          "height": 542
        },
        "id": "WRvrvSEdir7b",
        "outputId": "43d4d9aa-c305-4ff8-ed20-663846b808bc"
      },
      "outputs": [
        {
          "output_type": "display_data",
          "data": {
            "text/html": [
              "<html>\n",
              "<head><meta charset=\"utf-8\" /></head>\n",
              "<body>\n",
              "    <div>\n",
              "            <script src=\"https://cdnjs.cloudflare.com/ajax/libs/mathjax/2.7.5/MathJax.js?config=TeX-AMS-MML_SVG\"></script><script type=\"text/javascript\">if (window.MathJax) {MathJax.Hub.Config({SVG: {font: \"STIX-Web\"}});}</script>\n",
              "                <script type=\"text/javascript\">window.PlotlyConfig = {MathJaxConfig: 'local'};</script>\n",
              "        <script src=\"https://cdn.plot.ly/plotly-latest.min.js\"></script>    \n",
              "            <div id=\"4fdee9a5-7ad2-43b8-a46f-a8b16d70c066\" class=\"plotly-graph-div\" style=\"height:525px; width:100%;\"></div>\n",
              "            <script type=\"text/javascript\">\n",
              "                \n",
              "                    window.PLOTLYENV=window.PLOTLYENV || {};\n",
              "                    \n",
              "                if (document.getElementById(\"4fdee9a5-7ad2-43b8-a46f-a8b16d70c066\")) {\n",
              "                    Plotly.newPlot(\n",
              "                        '4fdee9a5-7ad2-43b8-a46f-a8b16d70c066',\n",
              "                        [{\"alignmentgroup\": \"True\", \"hoverlabel\": {\"namelength\": 0}, \"hovertemplate\": \"Words=%{x}<br>Frequency=%{y}\", \"legendgroup\": \"Words=film\", \"marker\": {\"color\": \"#ffc800\"}, \"name\": \"Words=film\", \"offsetgroup\": \"Words=film\", \"orientation\": \"v\", \"showlegend\": true, \"textposition\": \"auto\", \"type\": \"bar\", \"x\": [\"film\"], \"xaxis\": \"x\", \"y\": [0.009383681716212804], \"yaxis\": \"y\"}, {\"alignmentgroup\": \"True\", \"hoverlabel\": {\"namelength\": 0}, \"hovertemplate\": \"Words=%{x}<br>Frequency=%{y}\", \"legendgroup\": \"Words=movie\", \"marker\": {\"color\": \"#e98f42\"}, \"name\": \"Words=movie\", \"offsetgroup\": \"Words=movie\", \"orientation\": \"v\", \"showlegend\": true, \"textposition\": \"auto\", \"type\": \"bar\", \"x\": [\"movie\"], \"xaxis\": \"x\", \"y\": [0.008236023829686084], \"yaxis\": \"y\"}, {\"alignmentgroup\": \"True\", \"hoverlabel\": {\"namelength\": 0}, \"hovertemplate\": \"Words=%{x}<br>Frequency=%{y}\", \"legendgroup\": \"Words=one\", \"marker\": {\"color\": \"#ca8478\"}, \"name\": \"Words=one\", \"offsetgroup\": \"Words=one\", \"orientation\": \"v\", \"showlegend\": true, \"textposition\": \"auto\", \"type\": \"bar\", \"x\": [\"one\"], \"xaxis\": \"x\", \"y\": [0.004850618769591895], \"yaxis\": \"y\"}, {\"alignmentgroup\": \"True\", \"hoverlabel\": {\"namelength\": 0}, \"hovertemplate\": \"Words=%{x}<br>Frequency=%{y}\", \"legendgroup\": \"Words=story\", \"marker\": {\"color\": \"#79af96\"}, \"name\": \"Words=story\", \"offsetgroup\": \"Words=story\", \"orientation\": \"v\", \"showlegend\": true, \"textposition\": \"auto\", \"type\": \"bar\", \"x\": [\"story\"], \"xaxis\": \"x\", \"y\": [0.003225698622810536], \"yaxis\": \"y\"}, {\"alignmentgroup\": \"True\", \"hoverlabel\": {\"namelength\": 0}, \"hovertemplate\": \"Words=%{x}<br>Frequency=%{y}\", \"legendgroup\": \"Words=good\", \"marker\": {\"color\": \"#48a8a6\"}, \"name\": \"Words=good\", \"offsetgroup\": \"Words=good\", \"orientation\": \"v\", \"showlegend\": true, \"textposition\": \"auto\", \"type\": \"bar\", \"x\": [\"good\"], \"xaxis\": \"x\", \"y\": [0.0031254178366091723], \"yaxis\": \"y\"}, {\"alignmentgroup\": \"True\", \"hoverlabel\": {\"namelength\": 0}, \"hovertemplate\": \"Words=%{x}<br>Frequency=%{y}\", \"legendgroup\": \"Words=much\", \"marker\": {\"color\": \"#ffc800\"}, \"name\": \"Words=much\", \"offsetgroup\": \"Words=much\", \"orientation\": \"v\", \"showlegend\": true, \"textposition\": \"auto\", \"type\": \"bar\", \"x\": [\"much\"], \"xaxis\": \"x\", \"y\": [0.0029081427998395508], \"yaxis\": \"y\"}, {\"alignmentgroup\": \"True\", \"hoverlabel\": {\"namelength\": 0}, \"hovertemplate\": \"Words=%{x}<br>Frequency=%{y}\", \"legendgroup\": \"Words=characters\", \"marker\": {\"color\": \"#e98f42\"}, \"name\": \"Words=characters\", \"offsetgroup\": \"Words=characters\", \"orientation\": \"v\", \"showlegend\": true, \"textposition\": \"auto\", \"type\": \"bar\", \"x\": [\"characters\"], \"xaxis\": \"x\", \"y\": [0.0024958773454561664], \"yaxis\": \"y\"}, {\"alignmentgroup\": \"True\", \"hoverlabel\": {\"namelength\": 0}, \"hovertemplate\": \"Words=%{x}<br>Frequency=%{y}\", \"legendgroup\": \"Words=little\", \"marker\": {\"color\": \"#ca8478\"}, \"name\": \"Words=little\", \"offsetgroup\": \"Words=little\", \"orientation\": \"v\", \"showlegend\": true, \"textposition\": \"auto\", \"type\": \"bar\", \"x\": [\"little\"], \"xaxis\": \"x\", \"y\": [0.00248844913907088], \"yaxis\": \"y\"}, {\"alignmentgroup\": \"True\", \"hoverlabel\": {\"namelength\": 0}, \"hovertemplate\": \"Words=%{x}<br>Frequency=%{y}\", \"legendgroup\": \"Words=even\", \"marker\": {\"color\": \"#79af96\"}, \"name\": \"Words=even\", \"offsetgroup\": \"Words=even\", \"orientation\": \"v\", \"showlegend\": true, \"textposition\": \"auto\", \"type\": \"bar\", \"x\": [\"even\"], \"xaxis\": \"x\", \"y\": [0.002330599753383548], \"yaxis\": \"y\"}, {\"alignmentgroup\": \"True\", \"hoverlabel\": {\"namelength\": 0}, \"hovertemplate\": \"Words=%{x}<br>Frequency=%{y}\", \"legendgroup\": \"Words=funny\", \"marker\": {\"color\": \"#48a8a6\"}, \"name\": \"Words=funny\", \"offsetgroup\": \"Words=funny\", \"orientation\": \"v\", \"showlegend\": true, \"textposition\": \"auto\", \"type\": \"bar\", \"x\": [\"funny\"], \"xaxis\": \"x\", \"y\": [0.002102182407035997], \"yaxis\": \"y\"}, {\"alignmentgroup\": \"True\", \"hoverlabel\": {\"namelength\": 0}, \"hovertemplate\": \"Words=%{x}<br>Frequency=%{y}\", \"legendgroup\": \"Words=time\", \"marker\": {\"color\": \"#ffc800\"}, \"name\": \"Words=time\", \"offsetgroup\": \"Words=time\", \"orientation\": \"v\", \"showlegend\": true, \"textposition\": \"auto\", \"type\": \"bar\", \"x\": [\"time\"], \"xaxis\": \"x\", \"y\": [0.0020743266330911737], \"yaxis\": \"y\"}, {\"alignmentgroup\": \"True\", \"hoverlabel\": {\"namelength\": 0}, \"hovertemplate\": \"Words=%{x}<br>Frequency=%{y}\", \"legendgroup\": \"Words=new\", \"marker\": {\"color\": \"#e98f42\"}, \"name\": \"Words=new\", \"offsetgroup\": \"Words=new\", \"orientation\": \"v\", \"showlegend\": true, \"textposition\": \"auto\", \"type\": \"bar\", \"x\": [\"new\"], \"xaxis\": \"x\", \"y\": [0.002065041375109566], \"yaxis\": \"y\"}, {\"alignmentgroup\": \"True\", \"hoverlabel\": {\"namelength\": 0}, \"hovertemplate\": \"Words=%{x}<br>Frequency=%{y}\", \"legendgroup\": \"Words=way\", \"marker\": {\"color\": \"#ca8478\"}, \"name\": \"Words=way\", \"offsetgroup\": \"Words=way\", \"orientation\": \"v\", \"showlegend\": true, \"textposition\": \"auto\", \"type\": \"bar\", \"x\": [\"way\"], \"xaxis\": \"x\", \"y\": [0.0020501849623389937], \"yaxis\": \"y\"}, {\"alignmentgroup\": \"True\", \"hoverlabel\": {\"namelength\": 0}, \"hovertemplate\": \"Words=%{x}<br>Frequency=%{y}\", \"legendgroup\": \"Words=make\", \"marker\": {\"color\": \"#79af96\"}, \"name\": \"Words=make\", \"offsetgroup\": \"Words=make\", \"orientation\": \"v\", \"showlegend\": true, \"textposition\": \"auto\", \"type\": \"bar\", \"x\": [\"make\"], \"xaxis\": \"x\", \"y\": [0.002020472136797849], \"yaxis\": \"y\"}, {\"alignmentgroup\": \"True\", \"hoverlabel\": {\"namelength\": 0}, \"hovertemplate\": \"Words=%{x}<br>Frequency=%{y}\", \"legendgroup\": \"Words=comedy\", \"marker\": {\"color\": \"#48a8a6\"}, \"name\": \"Words=comedy\", \"offsetgroup\": \"Words=comedy\", \"orientation\": \"v\", \"showlegend\": true, \"textposition\": \"auto\", \"type\": \"bar\", \"x\": [\"comedy\"], \"xaxis\": \"x\", \"y\": [0.001940618918156022], \"yaxis\": \"y\"}, {\"alignmentgroup\": \"True\", \"hoverlabel\": {\"namelength\": 0}, \"hovertemplate\": \"Words=%{x}<br>Frequency=%{y}\", \"legendgroup\": \"Words=love\", \"marker\": {\"color\": \"#ffc800\"}, \"name\": \"Words=love\", \"offsetgroup\": \"Words=love\", \"orientation\": \"v\", \"showlegend\": true, \"textposition\": \"auto\", \"type\": \"bar\", \"x\": [\"love\"], \"xaxis\": \"x\", \"y\": [0.0018644798027068383], \"yaxis\": \"y\"}, {\"alignmentgroup\": \"True\", \"hoverlabel\": {\"namelength\": 0}, \"hovertemplate\": \"Words=%{x}<br>Frequency=%{y}\", \"legendgroup\": \"Words=bad\", \"marker\": {\"color\": \"#e98f42\"}, \"name\": \"Words=bad\", \"offsetgroup\": \"Words=bad\", \"orientation\": \"v\", \"showlegend\": true, \"textposition\": \"auto\", \"type\": \"bar\", \"x\": [\"bad\"], \"xaxis\": \"x\", \"y\": [0.001845909286743623], \"yaxis\": \"y\"}, {\"alignmentgroup\": \"True\", \"hoverlabel\": {\"namelength\": 0}, \"hovertemplate\": \"Words=%{x}<br>Frequency=%{y}\", \"legendgroup\": \"Words=us\", \"marker\": {\"color\": \"#ca8478\"}, \"name\": \"Words=us\", \"offsetgroup\": \"Words=us\", \"orientation\": \"v\", \"showlegend\": true, \"textposition\": \"auto\", \"type\": \"bar\", \"x\": [\"us\"], \"xaxis\": \"x\", \"y\": [0.0017901977388539764], \"yaxis\": \"y\"}, {\"alignmentgroup\": \"True\", \"hoverlabel\": {\"namelength\": 0}, \"hovertemplate\": \"Words=%{x}<br>Frequency=%{y}\", \"legendgroup\": \"Words=enough\", \"marker\": {\"color\": \"#79af96\"}, \"name\": \"Words=enough\", \"offsetgroup\": \"Words=enough\", \"orientation\": \"v\", \"showlegend\": true, \"textposition\": \"auto\", \"type\": \"bar\", \"x\": [\"enough\"], \"xaxis\": \"x\", \"y\": [0.0017716272228907608], \"yaxis\": \"y\"}, {\"alignmentgroup\": \"True\", \"hoverlabel\": {\"namelength\": 0}, \"hovertemplate\": \"Words=%{x}<br>Frequency=%{y}\", \"legendgroup\": \"Words=never\", \"marker\": {\"color\": \"#48a8a6\"}, \"name\": \"Words=never\", \"offsetgroup\": \"Words=never\", \"orientation\": \"v\", \"showlegend\": true, \"textposition\": \"auto\", \"type\": \"bar\", \"x\": [\"never\"], \"xaxis\": \"x\", \"y\": [0.0017493426037349022], \"yaxis\": \"y\"}, {\"alignmentgroup\": \"True\", \"hoverlabel\": {\"namelength\": 0}, \"hovertemplate\": \"Words=%{x}<br>Frequency=%{y}\", \"legendgroup\": \"Words=many\", \"marker\": {\"color\": \"#ffc800\"}, \"name\": \"Words=many\", \"offsetgroup\": \"Words=many\", \"orientation\": \"v\", \"showlegend\": true, \"textposition\": \"auto\", \"type\": \"bar\", \"x\": [\"many\"], \"xaxis\": \"x\", \"y\": [0.0017474855521385805], \"yaxis\": \"y\"}, {\"alignmentgroup\": \"True\", \"hoverlabel\": {\"namelength\": 0}, \"hovertemplate\": \"Words=%{x}<br>Frequency=%{y}\", \"legendgroup\": \"Words=life\", \"marker\": {\"color\": \"#e98f42\"}, \"name\": \"Words=life\", \"offsetgroup\": \"Words=life\", \"orientation\": \"v\", \"showlegend\": true, \"textposition\": \"auto\", \"type\": \"bar\", \"x\": [\"life\"], \"xaxis\": \"x\", \"y\": [0.0017400573457532944], \"yaxis\": \"y\"}, {\"alignmentgroup\": \"True\", \"hoverlabel\": {\"namelength\": 0}, \"hovertemplate\": \"Words=%{x}<br>Frequency=%{y}\", \"legendgroup\": \"Words=movies\", \"marker\": {\"color\": \"#ca8478\"}, \"name\": \"Words=movies\", \"offsetgroup\": \"Words=movies\", \"orientation\": \"v\", \"showlegend\": true, \"textposition\": \"auto\", \"type\": \"bar\", \"x\": [\"movies\"], \"xaxis\": \"x\", \"y\": [0.0017010592622305417], \"yaxis\": \"y\"}, {\"alignmentgroup\": \"True\", \"hoverlabel\": {\"namelength\": 0}, \"hovertemplate\": \"Words=%{x}<br>Frequency=%{y}\", \"legendgroup\": \"Words=best\", \"marker\": {\"color\": \"#79af96\"}, \"name\": \"Words=best\", \"offsetgroup\": \"Words=best\", \"orientation\": \"v\", \"showlegend\": true, \"textposition\": \"auto\", \"type\": \"bar\", \"x\": [\"best\"], \"xaxis\": \"x\", \"y\": [0.0016657752819004322], \"yaxis\": \"y\"}, {\"alignmentgroup\": \"True\", \"hoverlabel\": {\"namelength\": 0}, \"hovertemplate\": \"Words=%{x}<br>Frequency=%{y}\", \"legendgroup\": \"Words=something\", \"marker\": {\"color\": \"#48a8a6\"}, \"name\": \"Words=something\", \"offsetgroup\": \"Words=something\", \"orientation\": \"v\", \"showlegend\": true, \"textposition\": \"auto\", \"type\": \"bar\", \"x\": [\"something\"], \"xaxis\": \"x\", \"y\": [0.0016620611787077893], \"yaxis\": \"y\"}],\n",
              "                        {\"barmode\": \"relative\", \"legend\": {\"tracegroupgap\": 0}, \"template\": {\"data\": {\"bar\": [{\"error_x\": {\"color\": \"#2a3f5f\"}, \"error_y\": {\"color\": \"#2a3f5f\"}, \"marker\": {\"line\": {\"color\": \"#E5ECF6\", \"width\": 0.5}}, \"type\": \"bar\"}], \"barpolar\": [{\"marker\": {\"line\": {\"color\": \"#E5ECF6\", \"width\": 0.5}}, \"type\": \"barpolar\"}], \"carpet\": [{\"aaxis\": {\"endlinecolor\": \"#2a3f5f\", \"gridcolor\": \"white\", \"linecolor\": \"white\", \"minorgridcolor\": \"white\", \"startlinecolor\": \"#2a3f5f\"}, \"baxis\": {\"endlinecolor\": \"#2a3f5f\", \"gridcolor\": \"white\", \"linecolor\": \"white\", \"minorgridcolor\": \"white\", \"startlinecolor\": \"#2a3f5f\"}, \"type\": \"carpet\"}], \"choropleth\": [{\"colorbar\": {\"outlinewidth\": 0, \"ticks\": \"\"}, \"type\": \"choropleth\"}], \"contour\": [{\"colorbar\": {\"outlinewidth\": 0, \"ticks\": \"\"}, \"colorscale\": [[0.0, \"#0d0887\"], [0.1111111111111111, \"#46039f\"], [0.2222222222222222, \"#7201a8\"], [0.3333333333333333, \"#9c179e\"], [0.4444444444444444, \"#bd3786\"], [0.5555555555555556, \"#d8576b\"], [0.6666666666666666, \"#ed7953\"], [0.7777777777777778, \"#fb9f3a\"], [0.8888888888888888, \"#fdca26\"], [1.0, \"#f0f921\"]], \"type\": \"contour\"}], \"contourcarpet\": [{\"colorbar\": {\"outlinewidth\": 0, \"ticks\": \"\"}, \"type\": \"contourcarpet\"}], \"heatmap\": [{\"colorbar\": {\"outlinewidth\": 0, \"ticks\": \"\"}, \"colorscale\": [[0.0, \"#0d0887\"], [0.1111111111111111, \"#46039f\"], [0.2222222222222222, \"#7201a8\"], [0.3333333333333333, \"#9c179e\"], [0.4444444444444444, \"#bd3786\"], [0.5555555555555556, \"#d8576b\"], [0.6666666666666666, \"#ed7953\"], [0.7777777777777778, \"#fb9f3a\"], [0.8888888888888888, \"#fdca26\"], [1.0, \"#f0f921\"]], \"type\": \"heatmap\"}], \"heatmapgl\": [{\"colorbar\": {\"outlinewidth\": 0, \"ticks\": \"\"}, \"colorscale\": [[0.0, \"#0d0887\"], [0.1111111111111111, \"#46039f\"], [0.2222222222222222, \"#7201a8\"], [0.3333333333333333, \"#9c179e\"], [0.4444444444444444, \"#bd3786\"], [0.5555555555555556, \"#d8576b\"], [0.6666666666666666, \"#ed7953\"], [0.7777777777777778, \"#fb9f3a\"], [0.8888888888888888, \"#fdca26\"], [1.0, \"#f0f921\"]], \"type\": \"heatmapgl\"}], \"histogram\": [{\"marker\": {\"colorbar\": {\"outlinewidth\": 0, \"ticks\": \"\"}}, \"type\": \"histogram\"}], \"histogram2d\": [{\"colorbar\": {\"outlinewidth\": 0, \"ticks\": \"\"}, \"colorscale\": [[0.0, \"#0d0887\"], [0.1111111111111111, \"#46039f\"], [0.2222222222222222, \"#7201a8\"], [0.3333333333333333, \"#9c179e\"], [0.4444444444444444, \"#bd3786\"], [0.5555555555555556, \"#d8576b\"], [0.6666666666666666, \"#ed7953\"], [0.7777777777777778, \"#fb9f3a\"], [0.8888888888888888, \"#fdca26\"], [1.0, \"#f0f921\"]], \"type\": \"histogram2d\"}], \"histogram2dcontour\": [{\"colorbar\": {\"outlinewidth\": 0, \"ticks\": \"\"}, \"colorscale\": [[0.0, \"#0d0887\"], [0.1111111111111111, \"#46039f\"], [0.2222222222222222, \"#7201a8\"], [0.3333333333333333, \"#9c179e\"], [0.4444444444444444, \"#bd3786\"], [0.5555555555555556, \"#d8576b\"], [0.6666666666666666, \"#ed7953\"], [0.7777777777777778, \"#fb9f3a\"], [0.8888888888888888, \"#fdca26\"], [1.0, \"#f0f921\"]], \"type\": \"histogram2dcontour\"}], \"mesh3d\": [{\"colorbar\": {\"outlinewidth\": 0, \"ticks\": \"\"}, \"type\": \"mesh3d\"}], \"parcoords\": [{\"line\": {\"colorbar\": {\"outlinewidth\": 0, \"ticks\": \"\"}}, \"type\": \"parcoords\"}], \"pie\": [{\"automargin\": true, \"type\": \"pie\"}], \"scatter\": [{\"marker\": {\"colorbar\": {\"outlinewidth\": 0, \"ticks\": \"\"}}, \"type\": \"scatter\"}], \"scatter3d\": [{\"line\": {\"colorbar\": {\"outlinewidth\": 0, \"ticks\": \"\"}}, \"marker\": {\"colorbar\": {\"outlinewidth\": 0, \"ticks\": \"\"}}, \"type\": \"scatter3d\"}], \"scattercarpet\": [{\"marker\": {\"colorbar\": {\"outlinewidth\": 0, \"ticks\": \"\"}}, \"type\": \"scattercarpet\"}], \"scattergeo\": [{\"marker\": {\"colorbar\": {\"outlinewidth\": 0, \"ticks\": \"\"}}, \"type\": \"scattergeo\"}], \"scattergl\": [{\"marker\": {\"colorbar\": {\"outlinewidth\": 0, \"ticks\": \"\"}}, \"type\": \"scattergl\"}], \"scattermapbox\": [{\"marker\": {\"colorbar\": {\"outlinewidth\": 0, \"ticks\": \"\"}}, \"type\": \"scattermapbox\"}], \"scatterpolar\": [{\"marker\": {\"colorbar\": {\"outlinewidth\": 0, \"ticks\": \"\"}}, \"type\": \"scatterpolar\"}], \"scatterpolargl\": [{\"marker\": {\"colorbar\": {\"outlinewidth\": 0, \"ticks\": \"\"}}, \"type\": \"scatterpolargl\"}], \"scatterternary\": [{\"marker\": {\"colorbar\": {\"outlinewidth\": 0, \"ticks\": \"\"}}, \"type\": \"scatterternary\"}], \"surface\": [{\"colorbar\": {\"outlinewidth\": 0, \"ticks\": \"\"}, \"colorscale\": [[0.0, \"#0d0887\"], [0.1111111111111111, \"#46039f\"], [0.2222222222222222, \"#7201a8\"], [0.3333333333333333, \"#9c179e\"], [0.4444444444444444, \"#bd3786\"], [0.5555555555555556, \"#d8576b\"], [0.6666666666666666, \"#ed7953\"], [0.7777777777777778, \"#fb9f3a\"], [0.8888888888888888, \"#fdca26\"], [1.0, \"#f0f921\"]], \"type\": \"surface\"}], \"table\": [{\"cells\": {\"fill\": {\"color\": \"#EBF0F8\"}, \"line\": {\"color\": \"white\"}}, \"header\": {\"fill\": {\"color\": \"#C8D4E3\"}, \"line\": {\"color\": \"white\"}}, \"type\": \"table\"}]}, \"layout\": {\"annotationdefaults\": {\"arrowcolor\": \"#2a3f5f\", \"arrowhead\": 0, \"arrowwidth\": 1}, \"coloraxis\": {\"colorbar\": {\"outlinewidth\": 0, \"ticks\": \"\"}}, \"colorscale\": {\"diverging\": [[0, \"#8e0152\"], [0.1, \"#c51b7d\"], [0.2, \"#de77ae\"], [0.3, \"#f1b6da\"], [0.4, \"#fde0ef\"], [0.5, \"#f7f7f7\"], [0.6, \"#e6f5d0\"], [0.7, \"#b8e186\"], [0.8, \"#7fbc41\"], [0.9, \"#4d9221\"], [1, \"#276419\"]], \"sequential\": [[0.0, \"#0d0887\"], [0.1111111111111111, \"#46039f\"], [0.2222222222222222, \"#7201a8\"], [0.3333333333333333, \"#9c179e\"], [0.4444444444444444, \"#bd3786\"], [0.5555555555555556, \"#d8576b\"], [0.6666666666666666, \"#ed7953\"], [0.7777777777777778, \"#fb9f3a\"], [0.8888888888888888, \"#fdca26\"], [1.0, \"#f0f921\"]], \"sequentialminus\": [[0.0, \"#0d0887\"], [0.1111111111111111, \"#46039f\"], [0.2222222222222222, \"#7201a8\"], [0.3333333333333333, \"#9c179e\"], [0.4444444444444444, \"#bd3786\"], [0.5555555555555556, \"#d8576b\"], [0.6666666666666666, \"#ed7953\"], [0.7777777777777778, \"#fb9f3a\"], [0.8888888888888888, \"#fdca26\"], [1.0, \"#f0f921\"]]}, \"colorway\": [\"#636efa\", \"#EF553B\", \"#00cc96\", \"#ab63fa\", \"#FFA15A\", \"#19d3f3\", \"#FF6692\", \"#B6E880\", \"#FF97FF\", \"#FECB52\"], \"font\": {\"color\": \"#2a3f5f\"}, \"geo\": {\"bgcolor\": \"white\", \"lakecolor\": \"white\", \"landcolor\": \"#E5ECF6\", \"showlakes\": true, \"showland\": true, \"subunitcolor\": \"white\"}, \"hoverlabel\": {\"align\": \"left\"}, \"hovermode\": \"closest\", \"mapbox\": {\"style\": \"light\"}, \"paper_bgcolor\": \"white\", \"plot_bgcolor\": \"#E5ECF6\", \"polar\": {\"angularaxis\": {\"gridcolor\": \"white\", \"linecolor\": \"white\", \"ticks\": \"\"}, \"bgcolor\": \"#E5ECF6\", \"radialaxis\": {\"gridcolor\": \"white\", \"linecolor\": \"white\", \"ticks\": \"\"}}, \"scene\": {\"xaxis\": {\"backgroundcolor\": \"#E5ECF6\", \"gridcolor\": \"white\", \"gridwidth\": 2, \"linecolor\": \"white\", \"showbackground\": true, \"ticks\": \"\", \"zerolinecolor\": \"white\"}, \"yaxis\": {\"backgroundcolor\": \"#E5ECF6\", \"gridcolor\": \"white\", \"gridwidth\": 2, \"linecolor\": \"white\", \"showbackground\": true, \"ticks\": \"\", \"zerolinecolor\": \"white\"}, \"zaxis\": {\"backgroundcolor\": \"#E5ECF6\", \"gridcolor\": \"white\", \"gridwidth\": 2, \"linecolor\": \"white\", \"showbackground\": true, \"ticks\": \"\", \"zerolinecolor\": \"white\"}}, \"shapedefaults\": {\"line\": {\"color\": \"#2a3f5f\"}}, \"ternary\": {\"aaxis\": {\"gridcolor\": \"white\", \"linecolor\": \"white\", \"ticks\": \"\"}, \"baxis\": {\"gridcolor\": \"white\", \"linecolor\": \"white\", \"ticks\": \"\"}, \"bgcolor\": \"#E5ECF6\", \"caxis\": {\"gridcolor\": \"white\", \"linecolor\": \"white\", \"ticks\": \"\"}}, \"title\": {\"x\": 0.05}, \"xaxis\": {\"automargin\": true, \"gridcolor\": \"white\", \"linecolor\": \"white\", \"ticks\": \"\", \"title\": {\"standoff\": 15}, \"zerolinecolor\": \"white\", \"zerolinewidth\": 2}, \"yaxis\": {\"automargin\": true, \"gridcolor\": \"white\", \"linecolor\": \"white\", \"ticks\": \"\", \"title\": {\"standoff\": 15}, \"zerolinecolor\": \"white\", \"zerolinewidth\": 2}}}, \"title\": {\"text\": \"Top 25 Words After Filtering\"}, \"xaxis\": {\"anchor\": \"y\", \"categoryarray\": [\"film\", \"movie\", \"one\", \"story\", \"good\", \"much\", \"characters\", \"little\", \"even\", \"funny\", \"time\", \"new\", \"way\", \"make\", \"comedy\", \"love\", \"bad\", \"us\", \"enough\", \"never\", \"many\", \"life\", \"movies\", \"best\", \"something\"], \"categoryorder\": \"array\", \"domain\": [0.0, 1.0], \"title\": {\"text\": \"Words\"}}, \"yaxis\": {\"anchor\": \"x\", \"domain\": [0.0, 1.0], \"title\": {\"text\": \"Frequency\"}}},\n",
              "                        {\"responsive\": true}\n",
              "                    ).then(function(){\n",
              "                            \n",
              "var gd = document.getElementById('4fdee9a5-7ad2-43b8-a46f-a8b16d70c066');\n",
              "var x = new MutationObserver(function (mutations, observer) {{\n",
              "        var display = window.getComputedStyle(gd).display;\n",
              "        if (!display || display === 'none') {{\n",
              "            console.log([gd, 'removed!']);\n",
              "            Plotly.purge(gd);\n",
              "            observer.disconnect();\n",
              "        }}\n",
              "}});\n",
              "\n",
              "// Listen for the removal of the full notebook cells\n",
              "var notebookContainer = gd.closest('#notebook-container');\n",
              "if (notebookContainer) {{\n",
              "    x.observe(notebookContainer, {childList: true});\n",
              "}}\n",
              "\n",
              "// Listen for the clearing of the current output cell\n",
              "var outputEl = gd.closest('.output');\n",
              "if (outputEl) {{\n",
              "    x.observe(outputEl, {childList: true});\n",
              "}}\n",
              "\n",
              "                        })\n",
              "                };\n",
              "                \n",
              "            </script>\n",
              "        </div>\n",
              "</body>\n",
              "</html>"
            ]
          },
          "metadata": {}
        }
      ],
      "source": [
        "\n",
        "px.bar(df_words, x = \"word\", y = \"frequency\", color = \"word\", color_discrete_sequence = my_colorlist, title = \"Top 25 Words After Filtering\",\n",
        "       labels={\n",
        "           \"word\":\"Words\",\n",
        "           \"frequency\":\"Frequency\"\n",
        "       })#.update_layout(yaxis={\"tickformat\":'0.00%'})"
      ]
    },
    {
      "cell_type": "markdown",
      "metadata": {
        "id": "oU25pU3awV5P"
      },
      "source": [
        "### Stemming and Lemmatize Words\n",
        "This is merging words together.  This should increase the frequency of words."
      ]
    },
    {
      "cell_type": "code",
      "execution_count": 33,
      "metadata": {
        "colab": {
          "base_uri": "https://localhost:8080/"
        },
        "id": "-GHzGp67t5S5",
        "outputId": "eb728bc8-95ce-45b6-d443-50126776cb0b"
      },
      "outputs": [
        {
          "output_type": "stream",
          "name": "stdout",
          "text": [
            "538488\n",
            "538488\n"
          ]
        }
      ],
      "source": [
        "# Stemming\n",
        "stemmedtestwords = [porter.stem(stoppedtestword) for stoppedtestword in stoppedtestwords]\n",
        "total_words = len(stemmedtestwords)\n",
        "print(total_words)\n",
        "\n",
        "# Lemmatize\n",
        "lemmatizetestwords = [word_lemma.lemmatize(stemmedtestword) for stemmedtestword in stemmedtestwords] \n",
        "total_words = len(lemmatizetestwords)\n",
        "print(total_words)\n"
      ]
    },
    {
      "cell_type": "code",
      "execution_count": 34,
      "metadata": {
        "colab": {
          "base_uri": "https://localhost:8080/"
        },
        "id": "4YNKACymuena",
        "outputId": "d9711eff-16de-403a-e1d6-0d2886af2e9e"
      },
      "outputs": [
        {
          "output_type": "stream",
          "name": "stdout",
          "text": [
            "film \t 0.010609335769785028\n",
            "movi \t 0.009937083091916626\n",
            "one \t 0.005067893806361516\n",
            "make \t 0.004133796853411776\n",
            "charact \t 0.003938806435798012\n",
            "stori \t 0.0035766813745153093\n",
            "good \t 0.003181129384498819\n",
            "much \t 0.0029081427998395508\n",
            "time \t 0.002898857541857943\n",
            "littl \t 0.00248844913907088\n",
            "work \t 0.0024253093847959473\n",
            "even \t 0.0024197382300069825\n",
            "way \t 0.0023825971980805513\n",
            "love \t 0.0022618888443196507\n",
            "comedi \t 0.002156036903329322\n",
            "feel \t 0.002152322800136679\n",
            "funni \t 0.0021188958714028912\n",
            "look \t 0.002115181768210248\n",
            "new \t 0.0020706125298985308\n",
            "get \t 0.0019276195569817712\n",
            "bad \t 0.0018681939058994815\n",
            "perform \t 0.0018626227511105169\n",
            "u \t 0.0018069112032208703\n",
            "see \t 0.0018031971000282271\n",
            "enough \t 0.0017716272228907608\n"
          ]
        }
      ],
      "source": [
        "#Test list for a better frequency distribution\n",
        "ndist = FreqDist(lemmatizetestwords)\n",
        "\n",
        "df_words = pd.DataFrame(columns=['word','frequency'])\n",
        "nitems = ndist.most_common(25)\n",
        "for item in nitems:\n",
        "    print (item[0], '\\t', item[1]/total_words)\n",
        "\n",
        "    df2 = pd.DataFrame([[item[0], item[1]/total_words]], columns=['word','frequency'])\n",
        "    df_words = df_words.append(df2, ignore_index=True)"
      ]
    },
    {
      "cell_type": "code",
      "execution_count": 35,
      "metadata": {
        "colab": {
          "base_uri": "https://localhost:8080/",
          "height": 542
        },
        "id": "bootTPcExSJH",
        "outputId": "ebb4b180-5b11-4202-cfd1-0dd3f48223bc"
      },
      "outputs": [
        {
          "output_type": "display_data",
          "data": {
            "text/html": [
              "<html>\n",
              "<head><meta charset=\"utf-8\" /></head>\n",
              "<body>\n",
              "    <div>\n",
              "            <script src=\"https://cdnjs.cloudflare.com/ajax/libs/mathjax/2.7.5/MathJax.js?config=TeX-AMS-MML_SVG\"></script><script type=\"text/javascript\">if (window.MathJax) {MathJax.Hub.Config({SVG: {font: \"STIX-Web\"}});}</script>\n",
              "                <script type=\"text/javascript\">window.PlotlyConfig = {MathJaxConfig: 'local'};</script>\n",
              "        <script src=\"https://cdn.plot.ly/plotly-latest.min.js\"></script>    \n",
              "            <div id=\"8f7eaa2e-c569-4497-8ece-8836783ce309\" class=\"plotly-graph-div\" style=\"height:525px; width:100%;\"></div>\n",
              "            <script type=\"text/javascript\">\n",
              "                \n",
              "                    window.PLOTLYENV=window.PLOTLYENV || {};\n",
              "                    \n",
              "                if (document.getElementById(\"8f7eaa2e-c569-4497-8ece-8836783ce309\")) {\n",
              "                    Plotly.newPlot(\n",
              "                        '8f7eaa2e-c569-4497-8ece-8836783ce309',\n",
              "                        [{\"alignmentgroup\": \"True\", \"hoverlabel\": {\"namelength\": 0}, \"hovertemplate\": \"Words=%{x}<br>Frequency=%{y}\", \"legendgroup\": \"Words=film\", \"marker\": {\"color\": \"#ffc800\"}, \"name\": \"Words=film\", \"offsetgroup\": \"Words=film\", \"orientation\": \"v\", \"showlegend\": true, \"textposition\": \"auto\", \"type\": \"bar\", \"x\": [\"film\"], \"xaxis\": \"x\", \"y\": [0.010609335769785028], \"yaxis\": \"y\"}, {\"alignmentgroup\": \"True\", \"hoverlabel\": {\"namelength\": 0}, \"hovertemplate\": \"Words=%{x}<br>Frequency=%{y}\", \"legendgroup\": \"Words=movi\", \"marker\": {\"color\": \"#e98f42\"}, \"name\": \"Words=movi\", \"offsetgroup\": \"Words=movi\", \"orientation\": \"v\", \"showlegend\": true, \"textposition\": \"auto\", \"type\": \"bar\", \"x\": [\"movi\"], \"xaxis\": \"x\", \"y\": [0.009937083091916626], \"yaxis\": \"y\"}, {\"alignmentgroup\": \"True\", \"hoverlabel\": {\"namelength\": 0}, \"hovertemplate\": \"Words=%{x}<br>Frequency=%{y}\", \"legendgroup\": \"Words=one\", \"marker\": {\"color\": \"#ca8478\"}, \"name\": \"Words=one\", \"offsetgroup\": \"Words=one\", \"orientation\": \"v\", \"showlegend\": true, \"textposition\": \"auto\", \"type\": \"bar\", \"x\": [\"one\"], \"xaxis\": \"x\", \"y\": [0.005067893806361516], \"yaxis\": \"y\"}, {\"alignmentgroup\": \"True\", \"hoverlabel\": {\"namelength\": 0}, \"hovertemplate\": \"Words=%{x}<br>Frequency=%{y}\", \"legendgroup\": \"Words=make\", \"marker\": {\"color\": \"#79af96\"}, \"name\": \"Words=make\", \"offsetgroup\": \"Words=make\", \"orientation\": \"v\", \"showlegend\": true, \"textposition\": \"auto\", \"type\": \"bar\", \"x\": [\"make\"], \"xaxis\": \"x\", \"y\": [0.004133796853411776], \"yaxis\": \"y\"}, {\"alignmentgroup\": \"True\", \"hoverlabel\": {\"namelength\": 0}, \"hovertemplate\": \"Words=%{x}<br>Frequency=%{y}\", \"legendgroup\": \"Words=charact\", \"marker\": {\"color\": \"#48a8a6\"}, \"name\": \"Words=charact\", \"offsetgroup\": \"Words=charact\", \"orientation\": \"v\", \"showlegend\": true, \"textposition\": \"auto\", \"type\": \"bar\", \"x\": [\"charact\"], \"xaxis\": \"x\", \"y\": [0.003938806435798012], \"yaxis\": \"y\"}, {\"alignmentgroup\": \"True\", \"hoverlabel\": {\"namelength\": 0}, \"hovertemplate\": \"Words=%{x}<br>Frequency=%{y}\", \"legendgroup\": \"Words=stori\", \"marker\": {\"color\": \"#ffc800\"}, \"name\": \"Words=stori\", \"offsetgroup\": \"Words=stori\", \"orientation\": \"v\", \"showlegend\": true, \"textposition\": \"auto\", \"type\": \"bar\", \"x\": [\"stori\"], \"xaxis\": \"x\", \"y\": [0.0035766813745153093], \"yaxis\": \"y\"}, {\"alignmentgroup\": \"True\", \"hoverlabel\": {\"namelength\": 0}, \"hovertemplate\": \"Words=%{x}<br>Frequency=%{y}\", \"legendgroup\": \"Words=good\", \"marker\": {\"color\": \"#e98f42\"}, \"name\": \"Words=good\", \"offsetgroup\": \"Words=good\", \"orientation\": \"v\", \"showlegend\": true, \"textposition\": \"auto\", \"type\": \"bar\", \"x\": [\"good\"], \"xaxis\": \"x\", \"y\": [0.003181129384498819], \"yaxis\": \"y\"}, {\"alignmentgroup\": \"True\", \"hoverlabel\": {\"namelength\": 0}, \"hovertemplate\": \"Words=%{x}<br>Frequency=%{y}\", \"legendgroup\": \"Words=much\", \"marker\": {\"color\": \"#ca8478\"}, \"name\": \"Words=much\", \"offsetgroup\": \"Words=much\", \"orientation\": \"v\", \"showlegend\": true, \"textposition\": \"auto\", \"type\": \"bar\", \"x\": [\"much\"], \"xaxis\": \"x\", \"y\": [0.0029081427998395508], \"yaxis\": \"y\"}, {\"alignmentgroup\": \"True\", \"hoverlabel\": {\"namelength\": 0}, \"hovertemplate\": \"Words=%{x}<br>Frequency=%{y}\", \"legendgroup\": \"Words=time\", \"marker\": {\"color\": \"#79af96\"}, \"name\": \"Words=time\", \"offsetgroup\": \"Words=time\", \"orientation\": \"v\", \"showlegend\": true, \"textposition\": \"auto\", \"type\": \"bar\", \"x\": [\"time\"], \"xaxis\": \"x\", \"y\": [0.002898857541857943], \"yaxis\": \"y\"}, {\"alignmentgroup\": \"True\", \"hoverlabel\": {\"namelength\": 0}, \"hovertemplate\": \"Words=%{x}<br>Frequency=%{y}\", \"legendgroup\": \"Words=littl\", \"marker\": {\"color\": \"#48a8a6\"}, \"name\": \"Words=littl\", \"offsetgroup\": \"Words=littl\", \"orientation\": \"v\", \"showlegend\": true, \"textposition\": \"auto\", \"type\": \"bar\", \"x\": [\"littl\"], \"xaxis\": \"x\", \"y\": [0.00248844913907088], \"yaxis\": \"y\"}, {\"alignmentgroup\": \"True\", \"hoverlabel\": {\"namelength\": 0}, \"hovertemplate\": \"Words=%{x}<br>Frequency=%{y}\", \"legendgroup\": \"Words=work\", \"marker\": {\"color\": \"#ffc800\"}, \"name\": \"Words=work\", \"offsetgroup\": \"Words=work\", \"orientation\": \"v\", \"showlegend\": true, \"textposition\": \"auto\", \"type\": \"bar\", \"x\": [\"work\"], \"xaxis\": \"x\", \"y\": [0.0024253093847959473], \"yaxis\": \"y\"}, {\"alignmentgroup\": \"True\", \"hoverlabel\": {\"namelength\": 0}, \"hovertemplate\": \"Words=%{x}<br>Frequency=%{y}\", \"legendgroup\": \"Words=even\", \"marker\": {\"color\": \"#e98f42\"}, \"name\": \"Words=even\", \"offsetgroup\": \"Words=even\", \"orientation\": \"v\", \"showlegend\": true, \"textposition\": \"auto\", \"type\": \"bar\", \"x\": [\"even\"], \"xaxis\": \"x\", \"y\": [0.0024197382300069825], \"yaxis\": \"y\"}, {\"alignmentgroup\": \"True\", \"hoverlabel\": {\"namelength\": 0}, \"hovertemplate\": \"Words=%{x}<br>Frequency=%{y}\", \"legendgroup\": \"Words=way\", \"marker\": {\"color\": \"#ca8478\"}, \"name\": \"Words=way\", \"offsetgroup\": \"Words=way\", \"orientation\": \"v\", \"showlegend\": true, \"textposition\": \"auto\", \"type\": \"bar\", \"x\": [\"way\"], \"xaxis\": \"x\", \"y\": [0.0023825971980805513], \"yaxis\": \"y\"}, {\"alignmentgroup\": \"True\", \"hoverlabel\": {\"namelength\": 0}, \"hovertemplate\": \"Words=%{x}<br>Frequency=%{y}\", \"legendgroup\": \"Words=love\", \"marker\": {\"color\": \"#79af96\"}, \"name\": \"Words=love\", \"offsetgroup\": \"Words=love\", \"orientation\": \"v\", \"showlegend\": true, \"textposition\": \"auto\", \"type\": \"bar\", \"x\": [\"love\"], \"xaxis\": \"x\", \"y\": [0.0022618888443196507], \"yaxis\": \"y\"}, {\"alignmentgroup\": \"True\", \"hoverlabel\": {\"namelength\": 0}, \"hovertemplate\": \"Words=%{x}<br>Frequency=%{y}\", \"legendgroup\": \"Words=comedi\", \"marker\": {\"color\": \"#48a8a6\"}, \"name\": \"Words=comedi\", \"offsetgroup\": \"Words=comedi\", \"orientation\": \"v\", \"showlegend\": true, \"textposition\": \"auto\", \"type\": \"bar\", \"x\": [\"comedi\"], \"xaxis\": \"x\", \"y\": [0.002156036903329322], \"yaxis\": \"y\"}, {\"alignmentgroup\": \"True\", \"hoverlabel\": {\"namelength\": 0}, \"hovertemplate\": \"Words=%{x}<br>Frequency=%{y}\", \"legendgroup\": \"Words=feel\", \"marker\": {\"color\": \"#ffc800\"}, \"name\": \"Words=feel\", \"offsetgroup\": \"Words=feel\", \"orientation\": \"v\", \"showlegend\": true, \"textposition\": \"auto\", \"type\": \"bar\", \"x\": [\"feel\"], \"xaxis\": \"x\", \"y\": [0.002152322800136679], \"yaxis\": \"y\"}, {\"alignmentgroup\": \"True\", \"hoverlabel\": {\"namelength\": 0}, \"hovertemplate\": \"Words=%{x}<br>Frequency=%{y}\", \"legendgroup\": \"Words=funni\", \"marker\": {\"color\": \"#e98f42\"}, \"name\": \"Words=funni\", \"offsetgroup\": \"Words=funni\", \"orientation\": \"v\", \"showlegend\": true, \"textposition\": \"auto\", \"type\": \"bar\", \"x\": [\"funni\"], \"xaxis\": \"x\", \"y\": [0.0021188958714028912], \"yaxis\": \"y\"}, {\"alignmentgroup\": \"True\", \"hoverlabel\": {\"namelength\": 0}, \"hovertemplate\": \"Words=%{x}<br>Frequency=%{y}\", \"legendgroup\": \"Words=look\", \"marker\": {\"color\": \"#ca8478\"}, \"name\": \"Words=look\", \"offsetgroup\": \"Words=look\", \"orientation\": \"v\", \"showlegend\": true, \"textposition\": \"auto\", \"type\": \"bar\", \"x\": [\"look\"], \"xaxis\": \"x\", \"y\": [0.002115181768210248], \"yaxis\": \"y\"}, {\"alignmentgroup\": \"True\", \"hoverlabel\": {\"namelength\": 0}, \"hovertemplate\": \"Words=%{x}<br>Frequency=%{y}\", \"legendgroup\": \"Words=new\", \"marker\": {\"color\": \"#79af96\"}, \"name\": \"Words=new\", \"offsetgroup\": \"Words=new\", \"orientation\": \"v\", \"showlegend\": true, \"textposition\": \"auto\", \"type\": \"bar\", \"x\": [\"new\"], \"xaxis\": \"x\", \"y\": [0.0020706125298985308], \"yaxis\": \"y\"}, {\"alignmentgroup\": \"True\", \"hoverlabel\": {\"namelength\": 0}, \"hovertemplate\": \"Words=%{x}<br>Frequency=%{y}\", \"legendgroup\": \"Words=get\", \"marker\": {\"color\": \"#48a8a6\"}, \"name\": \"Words=get\", \"offsetgroup\": \"Words=get\", \"orientation\": \"v\", \"showlegend\": true, \"textposition\": \"auto\", \"type\": \"bar\", \"x\": [\"get\"], \"xaxis\": \"x\", \"y\": [0.0019276195569817712], \"yaxis\": \"y\"}, {\"alignmentgroup\": \"True\", \"hoverlabel\": {\"namelength\": 0}, \"hovertemplate\": \"Words=%{x}<br>Frequency=%{y}\", \"legendgroup\": \"Words=bad\", \"marker\": {\"color\": \"#ffc800\"}, \"name\": \"Words=bad\", \"offsetgroup\": \"Words=bad\", \"orientation\": \"v\", \"showlegend\": true, \"textposition\": \"auto\", \"type\": \"bar\", \"x\": [\"bad\"], \"xaxis\": \"x\", \"y\": [0.0018681939058994815], \"yaxis\": \"y\"}, {\"alignmentgroup\": \"True\", \"hoverlabel\": {\"namelength\": 0}, \"hovertemplate\": \"Words=%{x}<br>Frequency=%{y}\", \"legendgroup\": \"Words=perform\", \"marker\": {\"color\": \"#e98f42\"}, \"name\": \"Words=perform\", \"offsetgroup\": \"Words=perform\", \"orientation\": \"v\", \"showlegend\": true, \"textposition\": \"auto\", \"type\": \"bar\", \"x\": [\"perform\"], \"xaxis\": \"x\", \"y\": [0.0018626227511105169], \"yaxis\": \"y\"}, {\"alignmentgroup\": \"True\", \"hoverlabel\": {\"namelength\": 0}, \"hovertemplate\": \"Words=%{x}<br>Frequency=%{y}\", \"legendgroup\": \"Words=u\", \"marker\": {\"color\": \"#ca8478\"}, \"name\": \"Words=u\", \"offsetgroup\": \"Words=u\", \"orientation\": \"v\", \"showlegend\": true, \"textposition\": \"auto\", \"type\": \"bar\", \"x\": [\"u\"], \"xaxis\": \"x\", \"y\": [0.0018069112032208703], \"yaxis\": \"y\"}, {\"alignmentgroup\": \"True\", \"hoverlabel\": {\"namelength\": 0}, \"hovertemplate\": \"Words=%{x}<br>Frequency=%{y}\", \"legendgroup\": \"Words=see\", \"marker\": {\"color\": \"#79af96\"}, \"name\": \"Words=see\", \"offsetgroup\": \"Words=see\", \"orientation\": \"v\", \"showlegend\": true, \"textposition\": \"auto\", \"type\": \"bar\", \"x\": [\"see\"], \"xaxis\": \"x\", \"y\": [0.0018031971000282271], \"yaxis\": \"y\"}, {\"alignmentgroup\": \"True\", \"hoverlabel\": {\"namelength\": 0}, \"hovertemplate\": \"Words=%{x}<br>Frequency=%{y}\", \"legendgroup\": \"Words=enough\", \"marker\": {\"color\": \"#48a8a6\"}, \"name\": \"Words=enough\", \"offsetgroup\": \"Words=enough\", \"orientation\": \"v\", \"showlegend\": true, \"textposition\": \"auto\", \"type\": \"bar\", \"x\": [\"enough\"], \"xaxis\": \"x\", \"y\": [0.0017716272228907608], \"yaxis\": \"y\"}],\n",
              "                        {\"barmode\": \"relative\", \"legend\": {\"tracegroupgap\": 0}, \"template\": {\"data\": {\"bar\": [{\"error_x\": {\"color\": \"#2a3f5f\"}, \"error_y\": {\"color\": \"#2a3f5f\"}, \"marker\": {\"line\": {\"color\": \"#E5ECF6\", \"width\": 0.5}}, \"type\": \"bar\"}], \"barpolar\": [{\"marker\": {\"line\": {\"color\": \"#E5ECF6\", \"width\": 0.5}}, \"type\": \"barpolar\"}], \"carpet\": [{\"aaxis\": {\"endlinecolor\": \"#2a3f5f\", \"gridcolor\": \"white\", \"linecolor\": \"white\", \"minorgridcolor\": \"white\", \"startlinecolor\": \"#2a3f5f\"}, \"baxis\": {\"endlinecolor\": \"#2a3f5f\", \"gridcolor\": \"white\", \"linecolor\": \"white\", \"minorgridcolor\": \"white\", \"startlinecolor\": \"#2a3f5f\"}, \"type\": \"carpet\"}], \"choropleth\": [{\"colorbar\": {\"outlinewidth\": 0, \"ticks\": \"\"}, \"type\": \"choropleth\"}], \"contour\": [{\"colorbar\": {\"outlinewidth\": 0, \"ticks\": \"\"}, \"colorscale\": [[0.0, \"#0d0887\"], [0.1111111111111111, \"#46039f\"], [0.2222222222222222, \"#7201a8\"], [0.3333333333333333, \"#9c179e\"], [0.4444444444444444, \"#bd3786\"], [0.5555555555555556, \"#d8576b\"], [0.6666666666666666, \"#ed7953\"], [0.7777777777777778, \"#fb9f3a\"], [0.8888888888888888, \"#fdca26\"], [1.0, \"#f0f921\"]], \"type\": \"contour\"}], \"contourcarpet\": [{\"colorbar\": {\"outlinewidth\": 0, \"ticks\": \"\"}, \"type\": \"contourcarpet\"}], \"heatmap\": [{\"colorbar\": {\"outlinewidth\": 0, \"ticks\": \"\"}, \"colorscale\": [[0.0, \"#0d0887\"], [0.1111111111111111, \"#46039f\"], [0.2222222222222222, \"#7201a8\"], [0.3333333333333333, \"#9c179e\"], [0.4444444444444444, \"#bd3786\"], [0.5555555555555556, \"#d8576b\"], [0.6666666666666666, \"#ed7953\"], [0.7777777777777778, \"#fb9f3a\"], [0.8888888888888888, \"#fdca26\"], [1.0, \"#f0f921\"]], \"type\": \"heatmap\"}], \"heatmapgl\": [{\"colorbar\": {\"outlinewidth\": 0, \"ticks\": \"\"}, \"colorscale\": [[0.0, \"#0d0887\"], [0.1111111111111111, \"#46039f\"], [0.2222222222222222, \"#7201a8\"], [0.3333333333333333, \"#9c179e\"], [0.4444444444444444, \"#bd3786\"], [0.5555555555555556, \"#d8576b\"], [0.6666666666666666, \"#ed7953\"], [0.7777777777777778, \"#fb9f3a\"], [0.8888888888888888, \"#fdca26\"], [1.0, \"#f0f921\"]], \"type\": \"heatmapgl\"}], \"histogram\": [{\"marker\": {\"colorbar\": {\"outlinewidth\": 0, \"ticks\": \"\"}}, \"type\": \"histogram\"}], \"histogram2d\": [{\"colorbar\": {\"outlinewidth\": 0, \"ticks\": \"\"}, \"colorscale\": [[0.0, \"#0d0887\"], [0.1111111111111111, \"#46039f\"], [0.2222222222222222, \"#7201a8\"], [0.3333333333333333, \"#9c179e\"], [0.4444444444444444, \"#bd3786\"], [0.5555555555555556, \"#d8576b\"], [0.6666666666666666, \"#ed7953\"], [0.7777777777777778, \"#fb9f3a\"], [0.8888888888888888, \"#fdca26\"], [1.0, \"#f0f921\"]], \"type\": \"histogram2d\"}], \"histogram2dcontour\": [{\"colorbar\": {\"outlinewidth\": 0, \"ticks\": \"\"}, \"colorscale\": [[0.0, \"#0d0887\"], [0.1111111111111111, \"#46039f\"], [0.2222222222222222, \"#7201a8\"], [0.3333333333333333, \"#9c179e\"], [0.4444444444444444, \"#bd3786\"], [0.5555555555555556, \"#d8576b\"], [0.6666666666666666, \"#ed7953\"], [0.7777777777777778, \"#fb9f3a\"], [0.8888888888888888, \"#fdca26\"], [1.0, \"#f0f921\"]], \"type\": \"histogram2dcontour\"}], \"mesh3d\": [{\"colorbar\": {\"outlinewidth\": 0, \"ticks\": \"\"}, \"type\": \"mesh3d\"}], \"parcoords\": [{\"line\": {\"colorbar\": {\"outlinewidth\": 0, \"ticks\": \"\"}}, \"type\": \"parcoords\"}], \"pie\": [{\"automargin\": true, \"type\": \"pie\"}], \"scatter\": [{\"marker\": {\"colorbar\": {\"outlinewidth\": 0, \"ticks\": \"\"}}, \"type\": \"scatter\"}], \"scatter3d\": [{\"line\": {\"colorbar\": {\"outlinewidth\": 0, \"ticks\": \"\"}}, \"marker\": {\"colorbar\": {\"outlinewidth\": 0, \"ticks\": \"\"}}, \"type\": \"scatter3d\"}], \"scattercarpet\": [{\"marker\": {\"colorbar\": {\"outlinewidth\": 0, \"ticks\": \"\"}}, \"type\": \"scattercarpet\"}], \"scattergeo\": [{\"marker\": {\"colorbar\": {\"outlinewidth\": 0, \"ticks\": \"\"}}, \"type\": \"scattergeo\"}], \"scattergl\": [{\"marker\": {\"colorbar\": {\"outlinewidth\": 0, \"ticks\": \"\"}}, \"type\": \"scattergl\"}], \"scattermapbox\": [{\"marker\": {\"colorbar\": {\"outlinewidth\": 0, \"ticks\": \"\"}}, \"type\": \"scattermapbox\"}], \"scatterpolar\": [{\"marker\": {\"colorbar\": {\"outlinewidth\": 0, \"ticks\": \"\"}}, \"type\": \"scatterpolar\"}], \"scatterpolargl\": [{\"marker\": {\"colorbar\": {\"outlinewidth\": 0, \"ticks\": \"\"}}, \"type\": \"scatterpolargl\"}], \"scatterternary\": [{\"marker\": {\"colorbar\": {\"outlinewidth\": 0, \"ticks\": \"\"}}, \"type\": \"scatterternary\"}], \"surface\": [{\"colorbar\": {\"outlinewidth\": 0, \"ticks\": \"\"}, \"colorscale\": [[0.0, \"#0d0887\"], [0.1111111111111111, \"#46039f\"], [0.2222222222222222, \"#7201a8\"], [0.3333333333333333, \"#9c179e\"], [0.4444444444444444, \"#bd3786\"], [0.5555555555555556, \"#d8576b\"], [0.6666666666666666, \"#ed7953\"], [0.7777777777777778, \"#fb9f3a\"], [0.8888888888888888, \"#fdca26\"], [1.0, \"#f0f921\"]], \"type\": \"surface\"}], \"table\": [{\"cells\": {\"fill\": {\"color\": \"#EBF0F8\"}, \"line\": {\"color\": \"white\"}}, \"header\": {\"fill\": {\"color\": \"#C8D4E3\"}, \"line\": {\"color\": \"white\"}}, \"type\": \"table\"}]}, \"layout\": {\"annotationdefaults\": {\"arrowcolor\": \"#2a3f5f\", \"arrowhead\": 0, \"arrowwidth\": 1}, \"coloraxis\": {\"colorbar\": {\"outlinewidth\": 0, \"ticks\": \"\"}}, \"colorscale\": {\"diverging\": [[0, \"#8e0152\"], [0.1, \"#c51b7d\"], [0.2, \"#de77ae\"], [0.3, \"#f1b6da\"], [0.4, \"#fde0ef\"], [0.5, \"#f7f7f7\"], [0.6, \"#e6f5d0\"], [0.7, \"#b8e186\"], [0.8, \"#7fbc41\"], [0.9, \"#4d9221\"], [1, \"#276419\"]], \"sequential\": [[0.0, \"#0d0887\"], [0.1111111111111111, \"#46039f\"], [0.2222222222222222, \"#7201a8\"], [0.3333333333333333, \"#9c179e\"], [0.4444444444444444, \"#bd3786\"], [0.5555555555555556, \"#d8576b\"], [0.6666666666666666, \"#ed7953\"], [0.7777777777777778, \"#fb9f3a\"], [0.8888888888888888, \"#fdca26\"], [1.0, \"#f0f921\"]], \"sequentialminus\": [[0.0, \"#0d0887\"], [0.1111111111111111, \"#46039f\"], [0.2222222222222222, \"#7201a8\"], [0.3333333333333333, \"#9c179e\"], [0.4444444444444444, \"#bd3786\"], [0.5555555555555556, \"#d8576b\"], [0.6666666666666666, \"#ed7953\"], [0.7777777777777778, \"#fb9f3a\"], [0.8888888888888888, \"#fdca26\"], [1.0, \"#f0f921\"]]}, \"colorway\": [\"#636efa\", \"#EF553B\", \"#00cc96\", \"#ab63fa\", \"#FFA15A\", \"#19d3f3\", \"#FF6692\", \"#B6E880\", \"#FF97FF\", \"#FECB52\"], \"font\": {\"color\": \"#2a3f5f\"}, \"geo\": {\"bgcolor\": \"white\", \"lakecolor\": \"white\", \"landcolor\": \"#E5ECF6\", \"showlakes\": true, \"showland\": true, \"subunitcolor\": \"white\"}, \"hoverlabel\": {\"align\": \"left\"}, \"hovermode\": \"closest\", \"mapbox\": {\"style\": \"light\"}, \"paper_bgcolor\": \"white\", \"plot_bgcolor\": \"#E5ECF6\", \"polar\": {\"angularaxis\": {\"gridcolor\": \"white\", \"linecolor\": \"white\", \"ticks\": \"\"}, \"bgcolor\": \"#E5ECF6\", \"radialaxis\": {\"gridcolor\": \"white\", \"linecolor\": \"white\", \"ticks\": \"\"}}, \"scene\": {\"xaxis\": {\"backgroundcolor\": \"#E5ECF6\", \"gridcolor\": \"white\", \"gridwidth\": 2, \"linecolor\": \"white\", \"showbackground\": true, \"ticks\": \"\", \"zerolinecolor\": \"white\"}, \"yaxis\": {\"backgroundcolor\": \"#E5ECF6\", \"gridcolor\": \"white\", \"gridwidth\": 2, \"linecolor\": \"white\", \"showbackground\": true, \"ticks\": \"\", \"zerolinecolor\": \"white\"}, \"zaxis\": {\"backgroundcolor\": \"#E5ECF6\", \"gridcolor\": \"white\", \"gridwidth\": 2, \"linecolor\": \"white\", \"showbackground\": true, \"ticks\": \"\", \"zerolinecolor\": \"white\"}}, \"shapedefaults\": {\"line\": {\"color\": \"#2a3f5f\"}}, \"ternary\": {\"aaxis\": {\"gridcolor\": \"white\", \"linecolor\": \"white\", \"ticks\": \"\"}, \"baxis\": {\"gridcolor\": \"white\", \"linecolor\": \"white\", \"ticks\": \"\"}, \"bgcolor\": \"#E5ECF6\", \"caxis\": {\"gridcolor\": \"white\", \"linecolor\": \"white\", \"ticks\": \"\"}}, \"title\": {\"x\": 0.05}, \"xaxis\": {\"automargin\": true, \"gridcolor\": \"white\", \"linecolor\": \"white\", \"ticks\": \"\", \"title\": {\"standoff\": 15}, \"zerolinecolor\": \"white\", \"zerolinewidth\": 2}, \"yaxis\": {\"automargin\": true, \"gridcolor\": \"white\", \"linecolor\": \"white\", \"ticks\": \"\", \"title\": {\"standoff\": 15}, \"zerolinecolor\": \"white\", \"zerolinewidth\": 2}}}, \"title\": {\"text\": \"Top 25 Words After Stemming and Lemmatizing\"}, \"xaxis\": {\"anchor\": \"y\", \"categoryarray\": [\"film\", \"movi\", \"one\", \"make\", \"charact\", \"stori\", \"good\", \"much\", \"time\", \"littl\", \"work\", \"even\", \"way\", \"love\", \"comedi\", \"feel\", \"funni\", \"look\", \"new\", \"get\", \"bad\", \"perform\", \"u\", \"see\", \"enough\"], \"categoryorder\": \"array\", \"domain\": [0.0, 1.0], \"title\": {\"text\": \"Words\"}}, \"yaxis\": {\"anchor\": \"x\", \"domain\": [0.0, 1.0], \"title\": {\"text\": \"Frequency\"}}},\n",
              "                        {\"responsive\": true}\n",
              "                    ).then(function(){\n",
              "                            \n",
              "var gd = document.getElementById('8f7eaa2e-c569-4497-8ece-8836783ce309');\n",
              "var x = new MutationObserver(function (mutations, observer) {{\n",
              "        var display = window.getComputedStyle(gd).display;\n",
              "        if (!display || display === 'none') {{\n",
              "            console.log([gd, 'removed!']);\n",
              "            Plotly.purge(gd);\n",
              "            observer.disconnect();\n",
              "        }}\n",
              "}});\n",
              "\n",
              "// Listen for the removal of the full notebook cells\n",
              "var notebookContainer = gd.closest('#notebook-container');\n",
              "if (notebookContainer) {{\n",
              "    x.observe(notebookContainer, {childList: true});\n",
              "}}\n",
              "\n",
              "// Listen for the clearing of the current output cell\n",
              "var outputEl = gd.closest('.output');\n",
              "if (outputEl) {{\n",
              "    x.observe(outputEl, {childList: true});\n",
              "}}\n",
              "\n",
              "                        })\n",
              "                };\n",
              "                \n",
              "            </script>\n",
              "        </div>\n",
              "</body>\n",
              "</html>"
            ]
          },
          "metadata": {}
        }
      ],
      "source": [
        "\n",
        "px.bar(df_words, x = \"word\", y = \"frequency\", color = \"word\", color_discrete_sequence = my_colorlist, title = \"Top 25 Words After Stemming and Lemmatizing\",\n",
        "       labels={\n",
        "           \"word\":\"Words\",\n",
        "           \"frequency\":\"Frequency\"\n",
        "       })#.update_layout(yaxis={\"tickformat\":'0.00%'})"
      ]
    },
    {
      "cell_type": "code",
      "execution_count": 36,
      "metadata": {
        "colab": {
          "base_uri": "https://localhost:8080/",
          "height": 238
        },
        "id": "A-LaLFdge_Gk",
        "outputId": "33fd80d5-dffb-45e3-ef89-d6aee02c1dae"
      },
      "outputs": [
        {
          "output_type": "execute_result",
          "data": {
            "text/html": [
              "\n",
              "  <div id=\"df-8935e33e-5739-44e8-b152-cc43b392b6b9\">\n",
              "    <div class=\"colab-df-container\">\n",
              "      <div>\n",
              "<style scoped>\n",
              "    .dataframe tbody tr th:only-of-type {\n",
              "        vertical-align: middle;\n",
              "    }\n",
              "\n",
              "    .dataframe tbody tr th {\n",
              "        vertical-align: top;\n",
              "    }\n",
              "\n",
              "    .dataframe thead th {\n",
              "        text-align: right;\n",
              "    }\n",
              "</style>\n",
              "<table border=\"1\" class=\"dataframe\">\n",
              "  <thead>\n",
              "    <tr style=\"text-align: right;\">\n",
              "      <th></th>\n",
              "      <th>filter_type</th>\n",
              "      <th>num_words</th>\n",
              "      <th>perc_filter</th>\n",
              "    </tr>\n",
              "  </thead>\n",
              "  <tbody>\n",
              "    <tr>\n",
              "      <th>0</th>\n",
              "      <td>Filtering Nothing</td>\n",
              "      <td>981478</td>\n",
              "      <td>1</td>\n",
              "    </tr>\n",
              "    <tr>\n",
              "      <th>1</th>\n",
              "      <td>Filtering Punctuation</td>\n",
              "      <td>930730</td>\n",
              "      <td>0.948294</td>\n",
              "    </tr>\n",
              "    <tr>\n",
              "      <th>2</th>\n",
              "      <td>Filtering Regex Pt. 1</td>\n",
              "      <td>920174</td>\n",
              "      <td>0.937539</td>\n",
              "    </tr>\n",
              "    <tr>\n",
              "      <th>3</th>\n",
              "      <td>Filtering Regex Pt. 2</td>\n",
              "      <td>904479</td>\n",
              "      <td>0.921548</td>\n",
              "    </tr>\n",
              "    <tr>\n",
              "      <th>4</th>\n",
              "      <td>Filtering Stopwords Pt. 1</td>\n",
              "      <td>568580</td>\n",
              "      <td>0.57931</td>\n",
              "    </tr>\n",
              "    <tr>\n",
              "      <th>5</th>\n",
              "      <td>Filtering Stopwords Pt. 2</td>\n",
              "      <td>538488</td>\n",
              "      <td>0.54865</td>\n",
              "    </tr>\n",
              "  </tbody>\n",
              "</table>\n",
              "</div>\n",
              "      <button class=\"colab-df-convert\" onclick=\"convertToInteractive('df-8935e33e-5739-44e8-b152-cc43b392b6b9')\"\n",
              "              title=\"Convert this dataframe to an interactive table.\"\n",
              "              style=\"display:none;\">\n",
              "        \n",
              "  <svg xmlns=\"http://www.w3.org/2000/svg\" height=\"24px\"viewBox=\"0 0 24 24\"\n",
              "       width=\"24px\">\n",
              "    <path d=\"M0 0h24v24H0V0z\" fill=\"none\"/>\n",
              "    <path d=\"M18.56 5.44l.94 2.06.94-2.06 2.06-.94-2.06-.94-.94-2.06-.94 2.06-2.06.94zm-11 1L8.5 8.5l.94-2.06 2.06-.94-2.06-.94L8.5 2.5l-.94 2.06-2.06.94zm10 10l.94 2.06.94-2.06 2.06-.94-2.06-.94-.94-2.06-.94 2.06-2.06.94z\"/><path d=\"M17.41 7.96l-1.37-1.37c-.4-.4-.92-.59-1.43-.59-.52 0-1.04.2-1.43.59L10.3 9.45l-7.72 7.72c-.78.78-.78 2.05 0 2.83L4 21.41c.39.39.9.59 1.41.59.51 0 1.02-.2 1.41-.59l7.78-7.78 2.81-2.81c.8-.78.8-2.07 0-2.86zM5.41 20L4 18.59l7.72-7.72 1.47 1.35L5.41 20z\"/>\n",
              "  </svg>\n",
              "      </button>\n",
              "      \n",
              "  <style>\n",
              "    .colab-df-container {\n",
              "      display:flex;\n",
              "      flex-wrap:wrap;\n",
              "      gap: 12px;\n",
              "    }\n",
              "\n",
              "    .colab-df-convert {\n",
              "      background-color: #E8F0FE;\n",
              "      border: none;\n",
              "      border-radius: 50%;\n",
              "      cursor: pointer;\n",
              "      display: none;\n",
              "      fill: #1967D2;\n",
              "      height: 32px;\n",
              "      padding: 0 0 0 0;\n",
              "      width: 32px;\n",
              "    }\n",
              "\n",
              "    .colab-df-convert:hover {\n",
              "      background-color: #E2EBFA;\n",
              "      box-shadow: 0px 1px 2px rgba(60, 64, 67, 0.3), 0px 1px 3px 1px rgba(60, 64, 67, 0.15);\n",
              "      fill: #174EA6;\n",
              "    }\n",
              "\n",
              "    [theme=dark] .colab-df-convert {\n",
              "      background-color: #3B4455;\n",
              "      fill: #D2E3FC;\n",
              "    }\n",
              "\n",
              "    [theme=dark] .colab-df-convert:hover {\n",
              "      background-color: #434B5C;\n",
              "      box-shadow: 0px 1px 3px 1px rgba(0, 0, 0, 0.15);\n",
              "      filter: drop-shadow(0px 1px 2px rgba(0, 0, 0, 0.3));\n",
              "      fill: #FFFFFF;\n",
              "    }\n",
              "  </style>\n",
              "\n",
              "      <script>\n",
              "        const buttonEl =\n",
              "          document.querySelector('#df-8935e33e-5739-44e8-b152-cc43b392b6b9 button.colab-df-convert');\n",
              "        buttonEl.style.display =\n",
              "          google.colab.kernel.accessAllowed ? 'block' : 'none';\n",
              "\n",
              "        async function convertToInteractive(key) {\n",
              "          const element = document.querySelector('#df-8935e33e-5739-44e8-b152-cc43b392b6b9');\n",
              "          const dataTable =\n",
              "            await google.colab.kernel.invokeFunction('convertToInteractive',\n",
              "                                                     [key], {});\n",
              "          if (!dataTable) return;\n",
              "\n",
              "          const docLinkHtml = 'Like what you see? Visit the ' +\n",
              "            '<a target=\"_blank\" href=https://colab.research.google.com/notebooks/data_table.ipynb>data table notebook</a>'\n",
              "            + ' to learn more about interactive tables.';\n",
              "          element.innerHTML = '';\n",
              "          dataTable['output_type'] = 'display_data';\n",
              "          await google.colab.output.renderOutput(dataTable, element);\n",
              "          const docLink = document.createElement('div');\n",
              "          docLink.innerHTML = docLinkHtml;\n",
              "          element.appendChild(docLink);\n",
              "        }\n",
              "      </script>\n",
              "    </div>\n",
              "  </div>\n",
              "  "
            ],
            "text/plain": [
              "                 filter_type num_words perc_filter\n",
              "0          Filtering Nothing    981478           1\n",
              "1      Filtering Punctuation    930730    0.948294\n",
              "2      Filtering Regex Pt. 1    920174    0.937539\n",
              "3      Filtering Regex Pt. 2    904479    0.921548\n",
              "4  Filtering Stopwords Pt. 1    568580     0.57931\n",
              "5  Filtering Stopwords Pt. 2    538488     0.54865"
            ]
          },
          "metadata": {},
          "execution_count": 36
        }
      ],
      "source": [
        "starting_words = df_filter['num_words'][0]\n",
        "df_filter[\"perc_filter\"] = df_filter[\"num_words\"] /starting_words\n",
        "df_filter"
      ]
    },
    {
      "cell_type": "code",
      "execution_count": 37,
      "metadata": {
        "colab": {
          "base_uri": "https://localhost:8080/",
          "height": 542
        },
        "id": "jWH3QgcEf5ue",
        "outputId": "c0752c3b-cbb7-4e5d-efea-53da84ff277a"
      },
      "outputs": [
        {
          "output_type": "display_data",
          "data": {
            "text/html": [
              "<html>\n",
              "<head><meta charset=\"utf-8\" /></head>\n",
              "<body>\n",
              "    <div>\n",
              "            <script src=\"https://cdnjs.cloudflare.com/ajax/libs/mathjax/2.7.5/MathJax.js?config=TeX-AMS-MML_SVG\"></script><script type=\"text/javascript\">if (window.MathJax) {MathJax.Hub.Config({SVG: {font: \"STIX-Web\"}});}</script>\n",
              "                <script type=\"text/javascript\">window.PlotlyConfig = {MathJaxConfig: 'local'};</script>\n",
              "        <script src=\"https://cdn.plot.ly/plotly-latest.min.js\"></script>    \n",
              "            <div id=\"32e4d0bb-76c1-497b-afae-45285368f7b0\" class=\"plotly-graph-div\" style=\"height:525px; width:100%;\"></div>\n",
              "            <script type=\"text/javascript\">\n",
              "                \n",
              "                    window.PLOTLYENV=window.PLOTLYENV || {};\n",
              "                    \n",
              "                if (document.getElementById(\"32e4d0bb-76c1-497b-afae-45285368f7b0\")) {\n",
              "                    Plotly.newPlot(\n",
              "                        '32e4d0bb-76c1-497b-afae-45285368f7b0',\n",
              "                        [{\"alignmentgroup\": \"True\", \"hoverlabel\": {\"namelength\": 0}, \"hovertemplate\": \"Filter Method=%{x}<br>% Filtered=%{y}\", \"legendgroup\": \"Filter Method=Filtering Nothing\", \"marker\": {\"color\": \"#ffc800\"}, \"name\": \"Filter Method=Filtering Nothing\", \"offsetgroup\": \"Filter Method=Filtering Nothing\", \"orientation\": \"v\", \"showlegend\": true, \"textposition\": \"auto\", \"type\": \"bar\", \"x\": [\"Filtering Nothing\"], \"xaxis\": \"x\", \"y\": [1.0], \"yaxis\": \"y\"}, {\"alignmentgroup\": \"True\", \"hoverlabel\": {\"namelength\": 0}, \"hovertemplate\": \"Filter Method=%{x}<br>% Filtered=%{y}\", \"legendgroup\": \"Filter Method=Filtering Punctuation\", \"marker\": {\"color\": \"#e98f42\"}, \"name\": \"Filter Method=Filtering Punctuation\", \"offsetgroup\": \"Filter Method=Filtering Punctuation\", \"orientation\": \"v\", \"showlegend\": true, \"textposition\": \"auto\", \"type\": \"bar\", \"x\": [\"Filtering Punctuation\"], \"xaxis\": \"x\", \"y\": [0.948294307157165], \"yaxis\": \"y\"}, {\"alignmentgroup\": \"True\", \"hoverlabel\": {\"namelength\": 0}, \"hovertemplate\": \"Filter Method=%{x}<br>% Filtered=%{y}\", \"legendgroup\": \"Filter Method=Filtering Regex Pt. 1\", \"marker\": {\"color\": \"#ca8478\"}, \"name\": \"Filter Method=Filtering Regex Pt. 1\", \"offsetgroup\": \"Filter Method=Filtering Regex Pt. 1\", \"orientation\": \"v\", \"showlegend\": true, \"textposition\": \"auto\", \"type\": \"bar\", \"x\": [\"Filtering Regex Pt. 1\"], \"xaxis\": \"x\", \"y\": [0.9375390991952952], \"yaxis\": \"y\"}, {\"alignmentgroup\": \"True\", \"hoverlabel\": {\"namelength\": 0}, \"hovertemplate\": \"Filter Method=%{x}<br>% Filtered=%{y}\", \"legendgroup\": \"Filter Method=Filtering Regex Pt. 2\", \"marker\": {\"color\": \"#79af96\"}, \"name\": \"Filter Method=Filtering Regex Pt. 2\", \"offsetgroup\": \"Filter Method=Filtering Regex Pt. 2\", \"orientation\": \"v\", \"showlegend\": true, \"textposition\": \"auto\", \"type\": \"bar\", \"x\": [\"Filtering Regex Pt. 2\"], \"xaxis\": \"x\", \"y\": [0.9215479103963614], \"yaxis\": \"y\"}, {\"alignmentgroup\": \"True\", \"hoverlabel\": {\"namelength\": 0}, \"hovertemplate\": \"Filter Method=%{x}<br>% Filtered=%{y}\", \"legendgroup\": \"Filter Method=Filtering Stopwords Pt. 1\", \"marker\": {\"color\": \"#48a8a6\"}, \"name\": \"Filter Method=Filtering Stopwords Pt. 1\", \"offsetgroup\": \"Filter Method=Filtering Stopwords Pt. 1\", \"orientation\": \"v\", \"showlegend\": true, \"textposition\": \"auto\", \"type\": \"bar\", \"x\": [\"Filtering Stopwords Pt. 1\"], \"xaxis\": \"x\", \"y\": [0.5793099794391724], \"yaxis\": \"y\"}, {\"alignmentgroup\": \"True\", \"hoverlabel\": {\"namelength\": 0}, \"hovertemplate\": \"Filter Method=%{x}<br>% Filtered=%{y}\", \"legendgroup\": \"Filter Method=Filtering Stopwords Pt. 2\", \"marker\": {\"color\": \"#ffc800\"}, \"name\": \"Filter Method=Filtering Stopwords Pt. 2\", \"offsetgroup\": \"Filter Method=Filtering Stopwords Pt. 2\", \"orientation\": \"v\", \"showlegend\": true, \"textposition\": \"auto\", \"type\": \"bar\", \"x\": [\"Filtering Stopwords Pt. 2\"], \"xaxis\": \"x\", \"y\": [0.5486500970984576], \"yaxis\": \"y\"}],\n",
              "                        {\"barmode\": \"relative\", \"legend\": {\"tracegroupgap\": 0}, \"template\": {\"data\": {\"bar\": [{\"error_x\": {\"color\": \"#2a3f5f\"}, \"error_y\": {\"color\": \"#2a3f5f\"}, \"marker\": {\"line\": {\"color\": \"#E5ECF6\", \"width\": 0.5}}, \"type\": \"bar\"}], \"barpolar\": [{\"marker\": {\"line\": {\"color\": \"#E5ECF6\", \"width\": 0.5}}, \"type\": \"barpolar\"}], \"carpet\": [{\"aaxis\": {\"endlinecolor\": \"#2a3f5f\", \"gridcolor\": \"white\", \"linecolor\": \"white\", \"minorgridcolor\": \"white\", \"startlinecolor\": \"#2a3f5f\"}, \"baxis\": {\"endlinecolor\": \"#2a3f5f\", \"gridcolor\": \"white\", \"linecolor\": \"white\", \"minorgridcolor\": \"white\", \"startlinecolor\": \"#2a3f5f\"}, \"type\": \"carpet\"}], \"choropleth\": [{\"colorbar\": {\"outlinewidth\": 0, \"ticks\": \"\"}, \"type\": \"choropleth\"}], \"contour\": [{\"colorbar\": {\"outlinewidth\": 0, \"ticks\": \"\"}, \"colorscale\": [[0.0, \"#0d0887\"], [0.1111111111111111, \"#46039f\"], [0.2222222222222222, \"#7201a8\"], [0.3333333333333333, \"#9c179e\"], [0.4444444444444444, \"#bd3786\"], [0.5555555555555556, \"#d8576b\"], [0.6666666666666666, \"#ed7953\"], [0.7777777777777778, \"#fb9f3a\"], [0.8888888888888888, \"#fdca26\"], [1.0, \"#f0f921\"]], \"type\": \"contour\"}], \"contourcarpet\": [{\"colorbar\": {\"outlinewidth\": 0, \"ticks\": \"\"}, \"type\": \"contourcarpet\"}], \"heatmap\": [{\"colorbar\": {\"outlinewidth\": 0, \"ticks\": \"\"}, \"colorscale\": [[0.0, \"#0d0887\"], [0.1111111111111111, \"#46039f\"], [0.2222222222222222, \"#7201a8\"], [0.3333333333333333, \"#9c179e\"], [0.4444444444444444, \"#bd3786\"], [0.5555555555555556, \"#d8576b\"], [0.6666666666666666, \"#ed7953\"], [0.7777777777777778, \"#fb9f3a\"], [0.8888888888888888, \"#fdca26\"], [1.0, \"#f0f921\"]], \"type\": \"heatmap\"}], \"heatmapgl\": [{\"colorbar\": {\"outlinewidth\": 0, \"ticks\": \"\"}, \"colorscale\": [[0.0, \"#0d0887\"], [0.1111111111111111, \"#46039f\"], [0.2222222222222222, \"#7201a8\"], [0.3333333333333333, \"#9c179e\"], [0.4444444444444444, \"#bd3786\"], [0.5555555555555556, \"#d8576b\"], [0.6666666666666666, \"#ed7953\"], [0.7777777777777778, \"#fb9f3a\"], [0.8888888888888888, \"#fdca26\"], [1.0, \"#f0f921\"]], \"type\": \"heatmapgl\"}], \"histogram\": [{\"marker\": {\"colorbar\": {\"outlinewidth\": 0, \"ticks\": \"\"}}, \"type\": \"histogram\"}], \"histogram2d\": [{\"colorbar\": {\"outlinewidth\": 0, \"ticks\": \"\"}, \"colorscale\": [[0.0, \"#0d0887\"], [0.1111111111111111, \"#46039f\"], [0.2222222222222222, \"#7201a8\"], [0.3333333333333333, \"#9c179e\"], [0.4444444444444444, \"#bd3786\"], [0.5555555555555556, \"#d8576b\"], [0.6666666666666666, \"#ed7953\"], [0.7777777777777778, \"#fb9f3a\"], [0.8888888888888888, \"#fdca26\"], [1.0, \"#f0f921\"]], \"type\": \"histogram2d\"}], \"histogram2dcontour\": [{\"colorbar\": {\"outlinewidth\": 0, \"ticks\": \"\"}, \"colorscale\": [[0.0, \"#0d0887\"], [0.1111111111111111, \"#46039f\"], [0.2222222222222222, \"#7201a8\"], [0.3333333333333333, \"#9c179e\"], [0.4444444444444444, \"#bd3786\"], [0.5555555555555556, \"#d8576b\"], [0.6666666666666666, \"#ed7953\"], [0.7777777777777778, \"#fb9f3a\"], [0.8888888888888888, \"#fdca26\"], [1.0, \"#f0f921\"]], \"type\": \"histogram2dcontour\"}], \"mesh3d\": [{\"colorbar\": {\"outlinewidth\": 0, \"ticks\": \"\"}, \"type\": \"mesh3d\"}], \"parcoords\": [{\"line\": {\"colorbar\": {\"outlinewidth\": 0, \"ticks\": \"\"}}, \"type\": \"parcoords\"}], \"pie\": [{\"automargin\": true, \"type\": \"pie\"}], \"scatter\": [{\"marker\": {\"colorbar\": {\"outlinewidth\": 0, \"ticks\": \"\"}}, \"type\": \"scatter\"}], \"scatter3d\": [{\"line\": {\"colorbar\": {\"outlinewidth\": 0, \"ticks\": \"\"}}, \"marker\": {\"colorbar\": {\"outlinewidth\": 0, \"ticks\": \"\"}}, \"type\": \"scatter3d\"}], \"scattercarpet\": [{\"marker\": {\"colorbar\": {\"outlinewidth\": 0, \"ticks\": \"\"}}, \"type\": \"scattercarpet\"}], \"scattergeo\": [{\"marker\": {\"colorbar\": {\"outlinewidth\": 0, \"ticks\": \"\"}}, \"type\": \"scattergeo\"}], \"scattergl\": [{\"marker\": {\"colorbar\": {\"outlinewidth\": 0, \"ticks\": \"\"}}, \"type\": \"scattergl\"}], \"scattermapbox\": [{\"marker\": {\"colorbar\": {\"outlinewidth\": 0, \"ticks\": \"\"}}, \"type\": \"scattermapbox\"}], \"scatterpolar\": [{\"marker\": {\"colorbar\": {\"outlinewidth\": 0, \"ticks\": \"\"}}, \"type\": \"scatterpolar\"}], \"scatterpolargl\": [{\"marker\": {\"colorbar\": {\"outlinewidth\": 0, \"ticks\": \"\"}}, \"type\": \"scatterpolargl\"}], \"scatterternary\": [{\"marker\": {\"colorbar\": {\"outlinewidth\": 0, \"ticks\": \"\"}}, \"type\": \"scatterternary\"}], \"surface\": [{\"colorbar\": {\"outlinewidth\": 0, \"ticks\": \"\"}, \"colorscale\": [[0.0, \"#0d0887\"], [0.1111111111111111, \"#46039f\"], [0.2222222222222222, \"#7201a8\"], [0.3333333333333333, \"#9c179e\"], [0.4444444444444444, \"#bd3786\"], [0.5555555555555556, \"#d8576b\"], [0.6666666666666666, \"#ed7953\"], [0.7777777777777778, \"#fb9f3a\"], [0.8888888888888888, \"#fdca26\"], [1.0, \"#f0f921\"]], \"type\": \"surface\"}], \"table\": [{\"cells\": {\"fill\": {\"color\": \"#EBF0F8\"}, \"line\": {\"color\": \"white\"}}, \"header\": {\"fill\": {\"color\": \"#C8D4E3\"}, \"line\": {\"color\": \"white\"}}, \"type\": \"table\"}]}, \"layout\": {\"annotationdefaults\": {\"arrowcolor\": \"#2a3f5f\", \"arrowhead\": 0, \"arrowwidth\": 1}, \"coloraxis\": {\"colorbar\": {\"outlinewidth\": 0, \"ticks\": \"\"}}, \"colorscale\": {\"diverging\": [[0, \"#8e0152\"], [0.1, \"#c51b7d\"], [0.2, \"#de77ae\"], [0.3, \"#f1b6da\"], [0.4, \"#fde0ef\"], [0.5, \"#f7f7f7\"], [0.6, \"#e6f5d0\"], [0.7, \"#b8e186\"], [0.8, \"#7fbc41\"], [0.9, \"#4d9221\"], [1, \"#276419\"]], \"sequential\": [[0.0, \"#0d0887\"], [0.1111111111111111, \"#46039f\"], [0.2222222222222222, \"#7201a8\"], [0.3333333333333333, \"#9c179e\"], [0.4444444444444444, \"#bd3786\"], [0.5555555555555556, \"#d8576b\"], [0.6666666666666666, \"#ed7953\"], [0.7777777777777778, \"#fb9f3a\"], [0.8888888888888888, \"#fdca26\"], [1.0, \"#f0f921\"]], \"sequentialminus\": [[0.0, \"#0d0887\"], [0.1111111111111111, \"#46039f\"], [0.2222222222222222, \"#7201a8\"], [0.3333333333333333, \"#9c179e\"], [0.4444444444444444, \"#bd3786\"], [0.5555555555555556, \"#d8576b\"], [0.6666666666666666, \"#ed7953\"], [0.7777777777777778, \"#fb9f3a\"], [0.8888888888888888, \"#fdca26\"], [1.0, \"#f0f921\"]]}, \"colorway\": [\"#636efa\", \"#EF553B\", \"#00cc96\", \"#ab63fa\", \"#FFA15A\", \"#19d3f3\", \"#FF6692\", \"#B6E880\", \"#FF97FF\", \"#FECB52\"], \"font\": {\"color\": \"#2a3f5f\"}, \"geo\": {\"bgcolor\": \"white\", \"lakecolor\": \"white\", \"landcolor\": \"#E5ECF6\", \"showlakes\": true, \"showland\": true, \"subunitcolor\": \"white\"}, \"hoverlabel\": {\"align\": \"left\"}, \"hovermode\": \"closest\", \"mapbox\": {\"style\": \"light\"}, \"paper_bgcolor\": \"white\", \"plot_bgcolor\": \"#E5ECF6\", \"polar\": {\"angularaxis\": {\"gridcolor\": \"white\", \"linecolor\": \"white\", \"ticks\": \"\"}, \"bgcolor\": \"#E5ECF6\", \"radialaxis\": {\"gridcolor\": \"white\", \"linecolor\": \"white\", \"ticks\": \"\"}}, \"scene\": {\"xaxis\": {\"backgroundcolor\": \"#E5ECF6\", \"gridcolor\": \"white\", \"gridwidth\": 2, \"linecolor\": \"white\", \"showbackground\": true, \"ticks\": \"\", \"zerolinecolor\": \"white\"}, \"yaxis\": {\"backgroundcolor\": \"#E5ECF6\", \"gridcolor\": \"white\", \"gridwidth\": 2, \"linecolor\": \"white\", \"showbackground\": true, \"ticks\": \"\", \"zerolinecolor\": \"white\"}, \"zaxis\": {\"backgroundcolor\": \"#E5ECF6\", \"gridcolor\": \"white\", \"gridwidth\": 2, \"linecolor\": \"white\", \"showbackground\": true, \"ticks\": \"\", \"zerolinecolor\": \"white\"}}, \"shapedefaults\": {\"line\": {\"color\": \"#2a3f5f\"}}, \"ternary\": {\"aaxis\": {\"gridcolor\": \"white\", \"linecolor\": \"white\", \"ticks\": \"\"}, \"baxis\": {\"gridcolor\": \"white\", \"linecolor\": \"white\", \"ticks\": \"\"}, \"bgcolor\": \"#E5ECF6\", \"caxis\": {\"gridcolor\": \"white\", \"linecolor\": \"white\", \"ticks\": \"\"}}, \"title\": {\"x\": 0.05}, \"xaxis\": {\"automargin\": true, \"gridcolor\": \"white\", \"linecolor\": \"white\", \"ticks\": \"\", \"title\": {\"standoff\": 15}, \"zerolinecolor\": \"white\", \"zerolinewidth\": 2}, \"yaxis\": {\"automargin\": true, \"gridcolor\": \"white\", \"linecolor\": \"white\", \"ticks\": \"\", \"title\": {\"standoff\": 15}, \"zerolinecolor\": \"white\", \"zerolinewidth\": 2}}}, \"title\": {\"text\": \"Filtering Words\"}, \"xaxis\": {\"anchor\": \"y\", \"categoryarray\": [\"Filtering Nothing\", \"Filtering Punctuation\", \"Filtering Regex Pt. 1\", \"Filtering Regex Pt. 2\", \"Filtering Stopwords Pt. 1\", \"Filtering Stopwords Pt. 2\"], \"categoryorder\": \"array\", \"domain\": [0.0, 1.0], \"title\": {\"text\": \"Filter Method\"}}, \"yaxis\": {\"anchor\": \"x\", \"domain\": [0.0, 1.0], \"tickformat\": \",.0%\", \"title\": {\"text\": \"% Filtered\"}}},\n",
              "                        {\"responsive\": true}\n",
              "                    ).then(function(){\n",
              "                            \n",
              "var gd = document.getElementById('32e4d0bb-76c1-497b-afae-45285368f7b0');\n",
              "var x = new MutationObserver(function (mutations, observer) {{\n",
              "        var display = window.getComputedStyle(gd).display;\n",
              "        if (!display || display === 'none') {{\n",
              "            console.log([gd, 'removed!']);\n",
              "            Plotly.purge(gd);\n",
              "            observer.disconnect();\n",
              "        }}\n",
              "}});\n",
              "\n",
              "// Listen for the removal of the full notebook cells\n",
              "var notebookContainer = gd.closest('#notebook-container');\n",
              "if (notebookContainer) {{\n",
              "    x.observe(notebookContainer, {childList: true});\n",
              "}}\n",
              "\n",
              "// Listen for the clearing of the current output cell\n",
              "var outputEl = gd.closest('.output');\n",
              "if (outputEl) {{\n",
              "    x.observe(outputEl, {childList: true});\n",
              "}}\n",
              "\n",
              "                        })\n",
              "                };\n",
              "                \n",
              "            </script>\n",
              "        </div>\n",
              "</body>\n",
              "</html>"
            ]
          },
          "metadata": {}
        }
      ],
      "source": [
        "my_colorlist = ['#ffc800','#e98f42','#ca8478','#79af96','#48a8a6']\n",
        "px.bar(df_filter, x = \"filter_type\", y = \"perc_filter\", color = \"filter_type\", color_discrete_sequence = my_colorlist, title = \"Filtering Words\",\n",
        "       labels={\n",
        "           \"filter_type\":\"Filter Method\",\n",
        "           \"perc_filter\":\"% Filtered\"\n",
        "       }).update_layout(yaxis={\"tickformat\":',.0%'})"
      ]
    },
    {
      "cell_type": "markdown",
      "metadata": {
        "id": "oh2cfkPeD8kz"
      },
      "source": [
        "## Processing Sentences"
      ]
    },
    {
      "cell_type": "code",
      "execution_count": 4,
      "metadata": {
        "id": "0ykyQlj1D75F"
      },
      "outputs": [],
      "source": [
        "# function to read kaggle training file, train and test a classifier\n",
        "def processkaggle(dirPath,limitStr):\n",
        "  # convert the limit argument from a string to an int\n",
        "  limit = int(limitStr)\n",
        "  os.chdir(dirPath)\n",
        "\n",
        "  f = open('./train.tsv', 'r')\n",
        "  # loop over lines in the file and use the first limit of them\n",
        "  phrasedata = []\n",
        "  for line in f:\n",
        "    # ignore the first line starting with Phrase and read all lines\n",
        "    if (not line.startswith('Phrase')):\n",
        "      # remove final end of line character\n",
        "      line = line.strip()\n",
        "      # each line has 4 items separated by tabs\n",
        "      # ignore the phrase and sentence ids, and keep the phrase and sentiment\n",
        "      phrasedata.append(line.split('\\t')[2:4])\n",
        "\n",
        "  # Pick a random sample of length\n",
        "  random.shuffle(phrasedata)\n",
        "  phraselist = phrasedata[:limit]\n",
        "\n",
        "  # Printing Phrase Data\n",
        "  # print('Read', len(phrasedata), 'phrases, using', len(phraselist), 'random phrases')\n",
        "  print('Read', len(phrasedata), 'phrases, using', len(phraselist), 'random phrases')\n",
        "\n",
        "\n",
        "  return phraselist\n"
      ]
    },
    {
      "cell_type": "markdown",
      "metadata": {
        "id": "9Goa7opXEbnw"
      },
      "source": [
        "## Cleaning Phrases"
      ]
    },
    {
      "cell_type": "markdown",
      "source": [
        "### Removing Punctuations"
      ],
      "metadata": {
        "id": "zhGFGJwhoO4I"
      }
    },
    {
      "cell_type": "code",
      "execution_count": 5,
      "metadata": {
        "id": "8aOWpgqzSsBh"
      },
      "outputs": [],
      "source": [
        "def cleaning_phrases(phrase_list):\n",
        "\n",
        "  # create list of phrase documents as (list of words, label)\n",
        "  phrasedocs = []\n",
        "  punction_list = list(punctuation)\n",
        "\n",
        "  # Loop through data to tokenize, make all lowercase, and expand contractions\n",
        "  for phrase in phrase_list:\n",
        "\n",
        "    # Tokenize\n",
        "    tokens = nltk.word_tokenize(phrase[0])\n",
        "\n",
        "    # Lowercase\n",
        "    tokens_lower = [w.lower( ) for w in tokens]\n",
        "\n",
        "    # Remove puncutation\n",
        "    tokens_punc = [token_lower for token_lower in tokens_lower if token_lower not in punction_list]\n",
        "\n",
        "\n",
        "    # Add to list\n",
        "    # Removing tokens less than 1\n",
        "    if len(tokens_punc) > 0: \n",
        "      phrasedocs.append((tokens_punc, int(phrase[1])))\n",
        "      \n",
        "  return phrasedocs"
      ]
    },
    {
      "cell_type": "markdown",
      "metadata": {
        "id": "cKI3Ips9WL1J"
      },
      "source": [
        "### Filtering Text"
      ]
    },
    {
      "cell_type": "code",
      "execution_count": 6,
      "metadata": {
        "id": "Yd11-iygWLU4"
      },
      "outputs": [],
      "source": [
        "def filter_phrases(phrase_list):\n",
        "\n",
        "  phrases_filtered = []\n",
        "  pattern = re.compile(r'^[^a-z]+$')\n",
        "\n",
        "  morestopwords = ['could','would','might','must','need','sha','wo','y',\"'s\",\"'d\",\"'ll\",\"'t\",\"'m\",\"'re\",\"'ve\", \"n't\", \"-rrb-\", \"-lrb-\", \"like\",\"''\",\"--\",\"``\"]\n",
        "\n",
        "  stopwords = nltk.corpus.stopwords.words('english')\n",
        "  complete_stopwords = stopwords + morestopwords\n",
        "\n",
        "  # Loop through data to tokenize, make all lowercase, and expand contractions\n",
        "\n",
        "  for phrase in phrase_list:\n",
        "    # Tokenize\n",
        "    tokens = phrase[0]\n",
        "\n",
        "    # Remove Non-alphabetical characters\n",
        "    tokens_chr = [token for token in tokens if not pattern.match(token)]\n",
        "\n",
        "    # Remove words under three characters\n",
        "    tokens_three = [token_chr for token_chr in tokens_chr if len(tokens_chr) > 2]\n",
        "\n",
        "    # Remove stopwords\n",
        "    tokens_stop = [token_three for token_three in tokens_three if not token_three in complete_stopwords]\n",
        "\n",
        "    # Add to list\n",
        "    # Removing tokens less than 1\n",
        "    if len(tokens_stop) > 0: \n",
        "      phrases_filtered.append((tokens_stop, int(phrase[1])))\n",
        "    \n",
        "      \n",
        "  return phrases_filtered"
      ]
    },
    {
      "cell_type": "markdown",
      "metadata": {
        "id": "rIsvsj7nqxvW"
      },
      "source": [
        "### Stem and Lemmatize"
      ]
    },
    {
      "cell_type": "code",
      "execution_count": 7,
      "metadata": {
        "id": "TzrCAyhpq36H"
      },
      "outputs": [],
      "source": [
        "# Combining Stemming and Lemmatize filter into a function.\n",
        "# Created a word call stemmatize that filters these out.\n",
        "\n",
        "porter = nltk.PorterStemmer()\n",
        "word_lemma = nltk.WordNetLemmatizer()\n",
        "\n",
        "def stemmatize_phrases(phrase_list):\n",
        "  token_list = []\n",
        "  # Loop through data to tokenize, make all lowercase, and expand contractions\n",
        "\n",
        "  for phrase in phrase_list:\n",
        "    # Tokenize\n",
        "    tokens = phrase[0]\n",
        "\n",
        "    # Stemming\n",
        "    stems = [porter.stem(token) for token in tokens]\n",
        "\n",
        "    # Lemmatize\n",
        "    lemmas = [word_lemma.lemmatize(stem) for stem in stems] \n",
        "\n",
        "    # Add to list\n",
        "    token_list.append((lemmas, int(phrase[1])))\n",
        "\n",
        "  return token_list"
      ]
    },
    {
      "cell_type": "markdown",
      "source": [
        "## Applying Functions"
      ],
      "metadata": {
        "id": "mxaKz5DwoUV7"
      }
    },
    {
      "cell_type": "code",
      "execution_count": 8,
      "metadata": {
        "colab": {
          "base_uri": "https://localhost:8080/"
        },
        "id": "-T-T6IKQYjUg",
        "outputId": "83666a2b-053b-4dc6-cafe-c7da65623a10"
      },
      "outputs": [
        {
          "output_type": "stream",
          "name": "stdout",
          "text": [
            "Read 156060 phrases, using 10000 random phrases\n"
          ]
        }
      ],
      "source": [
        "imbd_list = processkaggle(data_path, 10000)\n",
        "\n",
        "imbd_clean = cleaning_phrases(imbd_list)\n",
        "imbd_filter = filter_phrases(imbd_clean)\n",
        "imbd_stemma = stemmatize_phrases(imbd_filter)"
      ]
    },
    {
      "cell_type": "code",
      "execution_count": 9,
      "metadata": {
        "colab": {
          "base_uri": "https://localhost:8080/"
        },
        "id": "uFoXB1uo_Phm",
        "outputId": "0b4fa6f1-cfb7-42b6-87d3-66fb31de32b4"
      },
      "outputs": [
        {
          "output_type": "stream",
          "name": "stdout",
          "text": [
            "['The rollerball sequences', '2']\n",
            "(['the', 'rollerball', 'sequences'], 2)\n",
            "(['house', 'games'], 2)\n",
            "(['hous', 'game'], 2)\n"
          ]
        }
      ],
      "source": [
        "print(imbd_list[17])\n",
        "print(imbd_clean[17])\n",
        "print(imbd_filter[14])\n",
        "print(imbd_stemma[14])\n"
      ]
    },
    {
      "cell_type": "markdown",
      "metadata": {
        "id": "pe0YfXggCqwr"
      },
      "source": [
        "# Feature Engineering"
      ]
    },
    {
      "cell_type": "markdown",
      "source": [
        "## Subjectivity Feature Libraries"
      ],
      "metadata": {
        "id": "xlgd6AbO5lbH"
      }
    },
    {
      "cell_type": "code",
      "execution_count": 10,
      "metadata": {
        "id": "zdOd-fsRNFqK"
      },
      "outputs": [],
      "source": [
        "py_path = '/content/drive/MyDrive/IST 664 Project - DL/kagglemoviereviews/'\n",
        "\n",
        "import sys  \n",
        "sys.path.insert(0, py_path)"
      ]
    },
    {
      "cell_type": "code",
      "execution_count": 11,
      "metadata": {
        "id": "hAShXnjPPLho"
      },
      "outputs": [],
      "source": [
        "# from classifyKaggle.crossval import cross_validation_PRF\n",
        "from sentiment_read_subjectivity import readSubjectivity\n",
        "from sentiment_read_subjectivity import read_subjectivity_three_types\n",
        "import sentiment_read_LIWC_pos_neg_words\n",
        "import sentiment_read_LIWC_pos_neg_words"
      ]
    },
    {
      "cell_type": "markdown",
      "source": [
        "## Word List"
      ],
      "metadata": {
        "id": "yuom65oX5hDq"
      }
    },
    {
      "cell_type": "code",
      "source": [
        "# get all words from all movie_reviews and put into a frequency distribution\n",
        "# note lowercase, but no stemming or stopwords\n",
        "\n",
        "all_words_list = [word for (sent, cat) in imbd_stemma for word in sent]\n",
        "all_words = nltk.FreqDist(all_words_list)\n",
        "print(len(all_words))"
      ],
      "metadata": {
        "colab": {
          "base_uri": "https://localhost:8080/"
        },
        "id": "ySEYdVPLyL0c",
        "outputId": "49270841-f4de-4d70-b9a9-6420a1c03ee9"
      },
      "execution_count": 12,
      "outputs": [
        {
          "output_type": "stream",
          "name": "stdout",
          "text": [
            "7140\n"
          ]
        }
      ]
    },
    {
      "cell_type": "markdown",
      "source": [
        "## Unigram Feature"
      ],
      "metadata": {
        "id": "Oo3yavCx9BUu"
      }
    },
    {
      "cell_type": "code",
      "execution_count": 224,
      "metadata": {
        "id": "OR5ZIOFyV2UY"
      },
      "outputs": [],
      "source": [
        "# get the 1000 most frequently appearing keywords in the corpus\n",
        "word_items = all_words.most_common(1000)\n",
        "word_features = [word for (word,count) in word_items]"
      ]
    },
    {
      "cell_type": "code",
      "execution_count": 225,
      "metadata": {
        "id": "uUhCHWvI52M4"
      },
      "outputs": [],
      "source": [
        "# define features (keywords) of a document for a BOW/unigram baseline\n",
        "# each feature is 'contains(keyword)' and is true or false depending\n",
        "# on whether that keyword is in the document\n",
        "\n",
        "def document_features(document, word_features):\n",
        "    document_words = set(document)\n",
        "    features = {}\n",
        "    for word in word_features:\n",
        "        features['V_{}'.format(word)] = (word in document_words)\n",
        "    return features"
      ]
    },
    {
      "cell_type": "markdown",
      "source": [
        "Creating variable to store documents so we can replace this instead of all the individual features"
      ],
      "metadata": {
        "id": "NAALLeTf-SWL"
      }
    },
    {
      "cell_type": "code",
      "source": [
        "documents = imbd_clean"
      ],
      "metadata": {
        "id": "EPGIvktN-QnM"
      },
      "execution_count": 235,
      "outputs": []
    },
    {
      "cell_type": "code",
      "execution_count": 236,
      "metadata": {
        "id": "A0pXzjT652KQ",
        "colab": {
          "base_uri": "https://localhost:8080/"
        },
        "outputId": "26d0e468-a949-4478-c1da-344cde91d1cc"
      },
      "outputs": [
        {
          "output_type": "execute_result",
          "data": {
            "text/plain": [
              "9998"
            ]
          },
          "metadata": {},
          "execution_count": 236
        }
      ],
      "source": [
        "# get features sets for a document, including keyword features and category feature\n",
        "featuresets = [(document_features(d, word_features), c) for (d, c) in documents]\n",
        "len(featuresets)"
      ]
    },
    {
      "cell_type": "code",
      "source": [
        "featuresets[0]"
      ],
      "metadata": {
        "colab": {
          "base_uri": "https://localhost:8080/"
        },
        "id": "hME9iqZqf_Jt",
        "outputId": "323c7574-bfb1-4014-a907-80298aee36c4"
      },
      "execution_count": 237,
      "outputs": [
        {
          "output_type": "execute_result",
          "data": {
            "text/plain": [
              "({'V_film': False,\n",
              "  'V_movi': False,\n",
              "  'V_one': False,\n",
              "  'V_stori': False,\n",
              "  'V_make': False,\n",
              "  'V_charact': False,\n",
              "  'V_time': False,\n",
              "  'V_good': False,\n",
              "  'V_even': False,\n",
              "  'V_work': False,\n",
              "  'V_comedi': False,\n",
              "  'V_love': False,\n",
              "  'V_feel': False,\n",
              "  'V_way': False,\n",
              "  'V_look': False,\n",
              "  'V_much': False,\n",
              "  'V_littl': False,\n",
              "  'V_perform': False,\n",
              "  'V_take': False,\n",
              "  'V_see': False,\n",
              "  'V_u': False,\n",
              "  'V_funni': False,\n",
              "  'V_come': False,\n",
              "  'V_life': False,\n",
              "  'V_new': False,\n",
              "  'V_get': False,\n",
              "  'V_watch': False,\n",
              "  'V_director': False,\n",
              "  'V_thing': False,\n",
              "  'V_act': False,\n",
              "  'V_enough': False,\n",
              "  'V_entertain': False,\n",
              "  'V_interest': False,\n",
              "  'V_audienc': False,\n",
              "  'V_action': False,\n",
              "  'V_well': False,\n",
              "  'V_better': False,\n",
              "  'V_best': False,\n",
              "  'V_emot': False,\n",
              "  'V_peopl': False,\n",
              "  'V_seem': False,\n",
              "  'V_play': False,\n",
              "  'V_made': False,\n",
              "  'V_cast': False,\n",
              "  'V_end': False,\n",
              "  'V_never': False,\n",
              "  'V_mani': False,\n",
              "  'V_two': False,\n",
              "  'V_may': False,\n",
              "  'V_bad': False,\n",
              "  'V_drama': False,\n",
              "  'V_live': False,\n",
              "  'V_world': False,\n",
              "  'V_humor': False,\n",
              "  'V_human': False,\n",
              "  'V_someth': False,\n",
              "  'V_give': False,\n",
              "  'V_sen': False,\n",
              "  'V_filmmak': False,\n",
              "  'V_go': False,\n",
              "  'V_year': False,\n",
              "  'V_moment': False,\n",
              "  'V_plot': False,\n",
              "  'V_without': False,\n",
              "  'V_power': False,\n",
              "  'V_realli': False,\n",
              "  'V_still': False,\n",
              "  'V_direct': False,\n",
              "  'V_man': False,\n",
              "  'V_woman': False,\n",
              "  'V_heart': False,\n",
              "  'V_famili': False,\n",
              "  'V_big': False,\n",
              "  'V_real': False,\n",
              "  'V_keep': False,\n",
              "  'V_star': False,\n",
              "  'V_visual': False,\n",
              "  'V_point': False,\n",
              "  'V_find': False,\n",
              "  'V_gener': False,\n",
              "  'V_hollywood': False,\n",
              "  'V_kind': False,\n",
              "  'V_almost': False,\n",
              "  'V_kid': False,\n",
              "  'V_set': False,\n",
              "  'V_lack': False,\n",
              "  'V_laugh': False,\n",
              "  'V_scene': False,\n",
              "  'V_rather': False,\n",
              "  'V_lot': False,\n",
              "  'V_tri': False,\n",
              "  'V_young': False,\n",
              "  'V_know': False,\n",
              "  'V_first': False,\n",
              "  'V_right': False,\n",
              "  'V_old': False,\n",
              "  'V_american': False,\n",
              "  'V_becom': False,\n",
              "  'V_show': False,\n",
              "  'V_great': False,\n",
              "  'V_enjoy': False,\n",
              "  'V_hour': False,\n",
              "  'V_beauti': False,\n",
              "  'V_actor': False,\n",
              "  'V_bit': False,\n",
              "  'V_documentari': False,\n",
              "  'V_minut': False,\n",
              "  'V_talent': False,\n",
              "  'V_origin': False,\n",
              "  'V_long': False,\n",
              "  'V_yet': False,\n",
              "  'V_charm': False,\n",
              "  'V_want': False,\n",
              "  'V_back': False,\n",
              "  'V_intellig': False,\n",
              "  'V_pictur': False,\n",
              "  'V_noth': False,\n",
              "  'V_le': False,\n",
              "  'V_turn': False,\n",
              "  'V_silli': False,\n",
              "  'V_far': False,\n",
              "  'V_also': False,\n",
              "  'V_care': False,\n",
              "  'V_full': False,\n",
              "  'V_effect': False,\n",
              "  'V_thought': False,\n",
              "  'V_experi': False,\n",
              "  'V_fun': False,\n",
              "  'V_art': False,\n",
              "  'V_script': True,\n",
              "  'V_war': False,\n",
              "  'V_tale': False,\n",
              "  'V_anoth': False,\n",
              "  'V_place': False,\n",
              "  'V_think': False,\n",
              "  'V_ca': False,\n",
              "  'V_reason': False,\n",
              "  'V_seen': False,\n",
              "  'V_imagin': False,\n",
              "  'V_often': False,\n",
              "  'V_mind': False,\n",
              "  'V_fan': False,\n",
              "  'V_idea': False,\n",
              "  'V_say': False,\n",
              "  'V_materi': False,\n",
              "  'V_day': False,\n",
              "  'V_flick': False,\n",
              "  'V_screen': False,\n",
              "  'V_special': False,\n",
              "  'V_music': False,\n",
              "  'V_run': False,\n",
              "  'V_anyth': False,\n",
              "  'V_everi': False,\n",
              "  'V_piec': False,\n",
              "  'V_move': False,\n",
              "  'V_ultim': False,\n",
              "  'V_togeth': False,\n",
              "  'V_hard': False,\n",
              "  'V_ever': False,\n",
              "  'V_featur': False,\n",
              "  'V_last': False,\n",
              "  'V_comic': False,\n",
              "  'V_girl': False,\n",
              "  'V_touch': False,\n",
              "  'V_possibl': False,\n",
              "  'V_actual': False,\n",
              "  'V_romant': False,\n",
              "  'V_fascin': False,\n",
              "  'V_light': False,\n",
              "  'V_dialogu': False,\n",
              "  'V_sometim': False,\n",
              "  'V_anim': False,\n",
              "  'V_cultur': False,\n",
              "  'V_bring': False,\n",
              "  'V_genr': False,\n",
              "  'V_subject': False,\n",
              "  'V_use': False,\n",
              "  'V_summer': False,\n",
              "  'V_problem': False,\n",
              "  'V_familiar': False,\n",
              "  'V_style': False,\n",
              "  'V_thriller': False,\n",
              "  'V_wonder': False,\n",
              "  'V_cinema': False,\n",
              "  'V_level': False,\n",
              "  'V_modern': False,\n",
              "  'V_put': False,\n",
              "  'V_side': False,\n",
              "  'V_video': False,\n",
              "  'V_leav': False,\n",
              "  'V_worth': False,\n",
              "  'V_though': False,\n",
              "  'V_quit': False,\n",
              "  'V_start': False,\n",
              "  'V_eye': False,\n",
              "  'V_compel': False,\n",
              "  'V_histori': False,\n",
              "  'V_half': False,\n",
              "  'V_suspens': False,\n",
              "  'V_dark': False,\n",
              "  'V_view': False,\n",
              "  'V_final': False,\n",
              "  'V_true': False,\n",
              "  'V_seri': False,\n",
              "  'V_three': False,\n",
              "  'V_clever': False,\n",
              "  'V_romanc': False,\n",
              "  'V_sentiment': False,\n",
              "  'V_done': False,\n",
              "  'V_polit': False,\n",
              "  'V_past': False,\n",
              "  'V_happen': False,\n",
              "  'V_engag': False,\n",
              "  'V_short': False,\n",
              "  'V_whose': False,\n",
              "  'V_person': False,\n",
              "  'V_rich': False,\n",
              "  'V_narr': False,\n",
              "  'V_moral': False,\n",
              "  'V_dramat': False,\n",
              "  'V_contriv': False,\n",
              "  'V_sweet': False,\n",
              "  'V_around': False,\n",
              "  'V_cut': False,\n",
              "  'V_situat': False,\n",
              "  'V_mean': False,\n",
              "  'V_effort': False,\n",
              "  'V_matter': False,\n",
              "  'V_appeal': False,\n",
              "  'V_head': False,\n",
              "  'V_artist': False,\n",
              "  'V_twist': False,\n",
              "  'V_mr.': False,\n",
              "  'V_boy': False,\n",
              "  'V_alway': False,\n",
              "  'V_grow': False,\n",
              "  'V_word': False,\n",
              "  'V_probabl': False,\n",
              "  'V_sequenc': False,\n",
              "  'V_obviou': False,\n",
              "  'V_forc': False,\n",
              "  'V_promis': False,\n",
              "  'V_pace': False,\n",
              "  'V_classic': False,\n",
              "  'V_let': False,\n",
              "  'V_titl': False,\n",
              "  'V_believ': False,\n",
              "  'V_captur': False,\n",
              "  'V_strang': False,\n",
              "  'V_wit': False,\n",
              "  'V_question': False,\n",
              "  'V_least': False,\n",
              "  'V_solid': False,\n",
              "  'V_child': False,\n",
              "  'V_sad': False,\n",
              "  'V_amus': False,\n",
              "  'V_age': False,\n",
              "  'V_social': False,\n",
              "  'V_creat': False,\n",
              "  'V_prove': False,\n",
              "  'V_smart': False,\n",
              "  'V_part': False,\n",
              "  'V_bore': False,\n",
              "  'V_messag': False,\n",
              "  'V_project': False,\n",
              "  'V_natur': False,\n",
              "  'V_surpris': False,\n",
              "  'V_serv': False,\n",
              "  'V_truli': False,\n",
              "  'V_school': False,\n",
              "  'V_version': False,\n",
              "  'V_flaw': False,\n",
              "  'V_line': False,\n",
              "  'V_offer': False,\n",
              "  'V_cold': False,\n",
              "  'V_realiti': False,\n",
              "  'V_usual': False,\n",
              "  'V_next': False,\n",
              "  'V_whole': False,\n",
              "  'V_rare': False,\n",
              "  'V_sinc': False,\n",
              "  'V_horror': False,\n",
              "  'V_complet': False,\n",
              "  'V_tv': False,\n",
              "  'V_adventur': False,\n",
              "  'V_small': False,\n",
              "  'V_book': False,\n",
              "  'V_especi': False,\n",
              "  'V_beyond': False,\n",
              "  'V_easi': False,\n",
              "  'V_otherwis': False,\n",
              "  'V_portrait': False,\n",
              "  'V_attempt': False,\n",
              "  'V_de': False,\n",
              "  'V_close': False,\n",
              "  'V_high': False,\n",
              "  'V_energi': False,\n",
              "  'V_particularli': False,\n",
              "  'V_goe': False,\n",
              "  'V_open': False,\n",
              "  'V_remark': False,\n",
              "  'V_either': False,\n",
              "  'V_intens': False,\n",
              "  'V_insid': False,\n",
              "  'V_away': False,\n",
              "  'V_tell': False,\n",
              "  'V_hope': False,\n",
              "  'V_debut': False,\n",
              "  'V_camera': False,\n",
              "  'V_theater': False,\n",
              "  'V_simpli': False,\n",
              "  'V_fail': False,\n",
              "  'V_role': False,\n",
              "  'V_win': False,\n",
              "  'V_recent': False,\n",
              "  'V_shot': False,\n",
              "  'V_nice': False,\n",
              "  'V_memori': False,\n",
              "  'V_despit': False,\n",
              "  'V_creativ': False,\n",
              "  'V_insight': False,\n",
              "  'V_parent': False,\n",
              "  'V_john': False,\n",
              "  'V_exercis': False,\n",
              "  'V_entir': False,\n",
              "  'V_event': False,\n",
              "  'V_face': False,\n",
              "  'V_found': False,\n",
              "  'V_expect': False,\n",
              "  'V_product': False,\n",
              "  'V_complex': False,\n",
              "  'V_need': False,\n",
              "  'V_studi': False,\n",
              "  'V_lead': False,\n",
              "  'V_satisfi': False,\n",
              "  'V_realiz': False,\n",
              "  'V_fill': False,\n",
              "  'V_detail': False,\n",
              "  'V_stuff': False,\n",
              "  'V_grace': False,\n",
              "  'V_men': False,\n",
              "  'V_spirit': False,\n",
              "  'V_deliv': False,\n",
              "  'V_gag': False,\n",
              "  'V_crime': False,\n",
              "  'V_fresh': False,\n",
              "  'V_left': False,\n",
              "  'V_relationship': False,\n",
              "  'V_french': False,\n",
              "  'V_wast': False,\n",
              "  'V_surprisingli': False,\n",
              "  'V_gone': False,\n",
              "  'V_delight': False,\n",
              "  'V_whether': False,\n",
              "  'V_sit': False,\n",
              "  'V_miss': False,\n",
              "  'V_inspir': False,\n",
              "  'V_recommend': False,\n",
              "  'V_home': False,\n",
              "  'V_sustain': False,\n",
              "  'V_manag': False,\n",
              "  'V_stand': False,\n",
              "  'V_hand': False,\n",
              "  'V_nearli': False,\n",
              "  'V_mood': False,\n",
              "  'V_bare': False,\n",
              "  'V_break': False,\n",
              "  'V_game': False,\n",
              "  'V_help': False,\n",
              "  'V_predict': False,\n",
              "  'V_dream': False,\n",
              "  'V_robert': False,\n",
              "  'V_got': False,\n",
              "  'V_appear': False,\n",
              "  'V_suffer': False,\n",
              "  'V_pretti': False,\n",
              "  'V_tire': False,\n",
              "  'V_reveal': False,\n",
              "  'V_death': False,\n",
              "  'V_novel': False,\n",
              "  'V_clich': False,\n",
              "  'V_sure': False,\n",
              "  'V_pleasur': False,\n",
              "  'V_cinemat': False,\n",
              "  'V_perfectli': False,\n",
              "  'V_tone': False,\n",
              "  'V_intrigu': False,\n",
              "  'V_seriou': False,\n",
              "  'V_sensit': False,\n",
              "  'V_deepli': False,\n",
              "  'V_call': False,\n",
              "  'V_allow': False,\n",
              "  'V_mysteri': False,\n",
              "  'V_period': False,\n",
              "  'V_seat': False,\n",
              "  'V_impact': False,\n",
              "  'V_fact': False,\n",
              "  'V_adult': False,\n",
              "  'V_dull': False,\n",
              "  'V_except': False,\n",
              "  'V_convinc': False,\n",
              "  'V_mess': False,\n",
              "  'V_america': False,\n",
              "  'V_fear': False,\n",
              "  'V_achiev': False,\n",
              "  'V_joke': False,\n",
              "  'V_bland': False,\n",
              "  'V_ambiti': False,\n",
              "  'V_speak': False,\n",
              "  'V_anyon': False,\n",
              "  'V_passion': False,\n",
              "  'V_histor': False,\n",
              "  'V_premis': False,\n",
              "  'V_commerci': False,\n",
              "  'V_second': False,\n",
              "  'V_deep': False,\n",
              "  'V_like': False,\n",
              "  'V_previou': False,\n",
              "  'V_none': False,\n",
              "  'V_mix': False,\n",
              "  'V_attract': False,\n",
              "  'V_tast': False,\n",
              "  'V_begin': False,\n",
              "  'V_instead': False,\n",
              "  'V_portray': False,\n",
              "  'V_screenplay': False,\n",
              "  'V_approach': False,\n",
              "  'V_although': False,\n",
              "  'V_told': False,\n",
              "  'V_valu': False,\n",
              "  'V_middl': False,\n",
              "  'V_pain': False,\n",
              "  'V_understand': False,\n",
              "  'V_guy': False,\n",
              "  'V_viewer': False,\n",
              "  'V_disappoint': False,\n",
              "  'V_date': False,\n",
              "  'V_faith': False,\n",
              "  'V_deal': False,\n",
              "  'V_justic': False,\n",
              "  'V_terrif': False,\n",
              "  'V_extrem': False,\n",
              "  'V_fairli': False,\n",
              "  'V_quirki': False,\n",
              "  'V_soul': False,\n",
              "  'V_tragedi': False,\n",
              "  'V_pull': False,\n",
              "  'V_strong': False,\n",
              "  'V_dumb': False,\n",
              "  'V_satir': False,\n",
              "  'V_involv': False,\n",
              "  'V_opera': False,\n",
              "  'V_violenc': False,\n",
              "  'V_monster': False,\n",
              "  'V_deriv': False,\n",
              "  'V_manipul': False,\n",
              "  'V_imag': False,\n",
              "  'V_week': False,\n",
              "  'V_pure': False,\n",
              "  'V_provid': False,\n",
              "  'V_depth': False,\n",
              "  'V_latest': False,\n",
              "  'V_thrill': False,\n",
              "  'V_formula': False,\n",
              "  'V_storytel': False,\n",
              "  'V_ride': False,\n",
              "  'V_develop': False,\n",
              "  'V_color': False,\n",
              "  'V_altern': False,\n",
              "  'V_routin': False,\n",
              "  'V_imposs': False,\n",
              "  'V_revel': False,\n",
              "  'V_sequel': False,\n",
              "  'V_psycholog': False,\n",
              "  'V_soap': False,\n",
              "  'V_issu': False,\n",
              "  'V_four': False,\n",
              "  'V_everyth': False,\n",
              "  'V_design': False,\n",
              "  'V_drag': False,\n",
              "  'V_nation': False,\n",
              "  'V_edit': False,\n",
              "  'V_rock': False,\n",
              "  'V_tension': False,\n",
              "  'V_hous': False,\n",
              "  'V_name': False,\n",
              "  'V_conflict': False,\n",
              "  'V_favor': False,\n",
              "  'V_mother': False,\n",
              "  'V_frustrat': False,\n",
              "  'V_road': False,\n",
              "  'V_earnest': False,\n",
              "  'V_attent': False,\n",
              "  'V_stay': False,\n",
              "  'V_melodrama': False,\n",
              "  'V_suggest': False,\n",
              "  'V_execut': False,\n",
              "  'V_reli': False,\n",
              "  'V_era': False,\n",
              "  'V_mark': False,\n",
              "  'V_observ': False,\n",
              "  'V_villain': False,\n",
              "  'V_write': False,\n",
              "  'V_slight': False,\n",
              "  'V_wri': False,\n",
              "  'V_theme': False,\n",
              "  'V_larg': False,\n",
              "  'V_tradit': False,\n",
              "  'V_air': False,\n",
              "  'V_manner': False,\n",
              "  'V_truth': False,\n",
              "  'V_root': False,\n",
              "  'V_water': False,\n",
              "  'V_term': False,\n",
              "  'V_third': False,\n",
              "  'V_certainli': False,\n",
              "  'V_fine': False,\n",
              "  'V_connect': False,\n",
              "  'V_fantasi': False,\n",
              "  'V_atmospher': False,\n",
              "  'V_hair': False,\n",
              "  'V_flat': False,\n",
              "  'V_save': False,\n",
              "  'V_epic': False,\n",
              "  'V_worst': False,\n",
              "  'V_affect': False,\n",
              "  'V_includ': False,\n",
              "  'V_coupl': False,\n",
              "  'V_teen': False,\n",
              "  'V_shock': False,\n",
              "  'V_hero': False,\n",
              "  'V_remak': False,\n",
              "  'V_share': False,\n",
              "  'V_explor': False,\n",
              "  'V_odd': False,\n",
              "  'V_given': False,\n",
              "  'V_rememb': False,\n",
              "  'V_el': False,\n",
              "  'V_unlik': False,\n",
              "  'V_demonstr': False,\n",
              "  'V_adapt': False,\n",
              "  'V_wrong': False,\n",
              "  'V_perspect': False,\n",
              "  'V_sever': False,\n",
              "  'V_dare': False,\n",
              "  'V_class': False,\n",
              "  'V_critic': False,\n",
              "  'V_impress': False,\n",
              "  'V_plenti': False,\n",
              "  'V_sound': False,\n",
              "  'V_writer-director': False,\n",
              "  'V_edg': False,\n",
              "  'V_engross': False,\n",
              "  'V_particular': False,\n",
              "  'V_maintain': False,\n",
              "  'V_remain': False,\n",
              "  'V_metaphor': False,\n",
              "  'V_spi': False,\n",
              "  'V_strike': False,\n",
              "  'V_base': False,\n",
              "  'V_credit': False,\n",
              "  'V_weird': False,\n",
              "  'V_quiet': False,\n",
              "  'V_everyon': False,\n",
              "  'V_felt': False,\n",
              "  'V_job': False,\n",
              "  'V_desper': False,\n",
              "  'V_purpos': False,\n",
              "  'V_british': False,\n",
              "  'V_talk': False,\n",
              "  'V_suppos': False,\n",
              "  'V_fall': False,\n",
              "  'V_major': False,\n",
              "  'V_exploit': False,\n",
              "  'V_decid': False,\n",
              "  'V_read': False,\n",
              "  'V_cartoon': False,\n",
              "  'V_pop': False,\n",
              "  'V_figur': False,\n",
              "  'V_hold': False,\n",
              "  'V_follow': False,\n",
              "  'V_master': False,\n",
              "  'V_singl': False,\n",
              "  'V_hole': False,\n",
              "  'V_import': False,\n",
              "  'V_citi': False,\n",
              "  'V_realism': False,\n",
              "  'V_straight': False,\n",
              "  'V_discoveri': False,\n",
              "  'V_form': False,\n",
              "  'V_sex': False,\n",
              "  'V_produc': False,\n",
              "  'V_sophist': False,\n",
              "  'V_someon': False,\n",
              "  'V_releas': False,\n",
              "  'V_genuin': False,\n",
              "  'V_saw': False,\n",
              "  'V_vampir': False,\n",
              "  'V_low': False,\n",
              "  'V_shallow': False,\n",
              "  'V_pas': False,\n",
              "  'V_concept': False,\n",
              "  'V_virtual': False,\n",
              "  'V_standard': False,\n",
              "  'V_adam': False,\n",
              "  'V_skill': False,\n",
              "  'V_convent': False,\n",
              "  'V_chan': False,\n",
              "  'V_success': False,\n",
              "  'V_core': False,\n",
              "  'V_draw': False,\n",
              "  'V_conclus': False,\n",
              "  'V_fulli': False,\n",
              "  'V_fire': False,\n",
              "  'V_number': False,\n",
              "  'V_wear': False,\n",
              "  'V_episod': False,\n",
              "  'V_shape': False,\n",
              "  'V_suit': False,\n",
              "  'V_intend': False,\n",
              "  'V_chang': False,\n",
              "  'V_express': False,\n",
              "  'V_actress': False,\n",
              "  'V_outsid': False,\n",
              "  'V_drug': False,\n",
              "  'V_definit': False,\n",
              "  'V_mayb': False,\n",
              "  'V_clear': False,\n",
              "  'V_gentl': False,\n",
              "  'V_soundtrack': False,\n",
              "  'V_award': False,\n",
              "  'V_along': False,\n",
              "  'V_scream': False,\n",
              "  'V_honest': False,\n",
              "  'V_cute': False,\n",
              "  'V_wait': False,\n",
              "  'V_excit': False,\n",
              "  'V_sappi': False,\n",
              "  'V_complic': False,\n",
              "  'V_carri': False,\n",
              "  'V_remind': False,\n",
              "  'V_add': False,\n",
              "  'V_mostli': False,\n",
              "  'V_exist': False,\n",
              "  'V_sort': False,\n",
              "  'V_deserv': False,\n",
              "  'V_green': False,\n",
              "  'V_storylin': False,\n",
              "  'V_aw': False,\n",
              "  'V_melodramat': False,\n",
              "  'V_five': False,\n",
              "  'V_struggl': False,\n",
              "  'V_south': False,\n",
              "  'V_movement': False,\n",
              "  'V_night': False,\n",
              "  'V_among': False,\n",
              "  'V_slap': False,\n",
              "  'V_channel': False,\n",
              "  'V_disturb': False,\n",
              "  'V_equal': False,\n",
              "  'V_song': False,\n",
              "  'V_examin': False,\n",
              "  'V_sheer': False,\n",
              "  'V_danc': False,\n",
              "  'V_uniqu': False,\n",
              "  'V_memor': False,\n",
              "  'V_urban': False,\n",
              "  'V_michael': False,\n",
              "  'V_die': False,\n",
              "  'V_trip': False,\n",
              "  'V_decad': False,\n",
              "  'V_capabl': False,\n",
              "  'V_sharp': False,\n",
              "  'V_accomplish': False,\n",
              "  'V_dead': False,\n",
              "  'V_lazi': False,\n",
              "  'V_empathi': False,\n",
              "  'V_consider': False,\n",
              "  'V_unsettl': False,\n",
              "  'V_process': False,\n",
              "  'V_witti': False,\n",
              "  'V_landscap': False,\n",
              "  'V_celebr': False,\n",
              "  'V_ob': False,\n",
              "  'V_contemporari': False,\n",
              "  'V_sign': False,\n",
              "  'V_medit': False,\n",
              "  'V_construct': False,\n",
              "  'V_element': False,\n",
              "  'V_brother': False,\n",
              "  'V_lost': False,\n",
              "  'V_blue': False,\n",
              "  'V_york': False,\n",
              "  'V_plea': False,\n",
              "  'V_studio': False,\n",
              "  'V_ask': False,\n",
              "  'V_center': False,\n",
              "  'V_aspect': False,\n",
              "  'V_smile': False,\n",
              "  'V_frame': False,\n",
              "  'V_kill': False,\n",
              "  'V_poetri': False,\n",
              "  'V_easili': False,\n",
              "  'V_aspir': False,\n",
              "  'V_toward': False,\n",
              "  'V_describ': False,\n",
              "  'V_career': False,\n",
              "  'V_perfect': False,\n",
              "  'V_determin': False,\n",
              "  'V_chase': False,\n",
              "  'V_protagonist': False,\n",
              "  'V_cop': False,\n",
              "  'V_alreadi': False,\n",
              "  'V_stage': False,\n",
              "  'V_old-fashion': False,\n",
              "  'V_mainstream': False,\n",
              "  'V_wish': False,\n",
              "  'V_fatal': True,\n",
              "  'V_voic': False,\n",
              "  'V_group': False,\n",
              "  'V_vision': False,\n",
              "  'V_white': False,\n",
              "  'V_smack': False,\n",
              "  'V_damn': False,\n",
              "  'V_creepi': False,\n",
              "  'V_hilari': False,\n",
              "  'V_gun': False,\n",
              "  'V_holiday': False,\n",
              "  'V_gift': False,\n",
              "  'V_difficult': False,\n",
              "  'V_thoroughli': False,\n",
              "  'V_freak': False,\n",
              "  'V_compani': False,\n",
              "  'V_record': False,\n",
              "  'V_god': False,\n",
              "  'V_bear': False,\n",
              "  'V_fight': False,\n",
              "  'V_cheap': False,\n",
              "  'V_nuanc': False,\n",
              "  'V_cool': False,\n",
              "  'V_present': False,\n",
              "  'V_meet': False,\n",
              "  'V_deni': False,\n",
              "  'V_societi': False,\n",
              "  'V_alon': False,\n",
              "  'V_desir': False,\n",
              "  'V_femal': False,\n",
              "  'V_stunt': False,\n",
              "  'V_cautionari': False,\n",
              "  'V_button': False,\n",
              "  'V_push': False,\n",
              "  'V_sincer': False,\n",
              "  'V_ensembl': False,\n",
              "  'V_shoot': False,\n",
              "  'V_raw': False,\n",
              "  'V_marvel': False,\n",
              "  'V_busi': False,\n",
              "  'V_credibl': False,\n",
              "  'V_craft': False,\n",
              "  'V_warm': False,\n",
              "  'V_beneath': False,\n",
              "  'V_consist': False,\n",
              "  'V_behavior': False,\n",
              "  'V_skin': False,\n",
              "  'V_answer': False,\n",
              "  'V_kick': False,\n",
              "  'V_pay': False,\n",
              "  'V_outstand': False,\n",
              "  'V_decept': False,\n",
              "  'V_fantast': False,\n",
              "  'V_welcom': False,\n",
              "  'V_reward': False,\n",
              "  'V_aim': False,\n",
              "  'V_potenti': False,\n",
              "  'V_spend': False,\n",
              "  'V_hit': False,\n",
              "  'V_devoid': False,\n",
              "  'V_guess': False,\n",
              "  'V_king': False,\n",
              "  'V_amount': False,\n",
              "  'V_poetic': False,\n",
              "  'V_servic': False,\n",
              "  'V_loss': False,\n",
              "  'V_lose': False,\n",
              "  'V_tear': False,\n",
              "  'V_realist': False,\n",
              "  'V_unusu': False,\n",
              "  'V_typic': False,\n",
              "  'V_written': False,\n",
              "  'V_qualiti': False,\n",
              "  'V_load': False,\n",
              "  'V_queen': False,\n",
              "  'V_son': False,\n",
              "  'V_depict': False,\n",
              "  'V_english': False,\n",
              "  'V_happi': False,\n",
              "  'V_depress': False,\n",
              "  'V_room': False,\n",
              "  'V_bother': False,\n",
              "  'V_victim': False,\n",
              "  'V_differ': False,\n",
              "  'V_colleg': False,\n",
              "  'V_confus': False,\n",
              "  'V_killer': False,\n",
              "  'V_plod': False,\n",
              "  'V_expens': False,\n",
              "  'V_fanci': False,\n",
              "  'V_chill': False,\n",
              "  'V_mention': False,\n",
              "  'V_accept': False,\n",
              "  'V_journey': False,\n",
              "  'V_sexual': False,\n",
              "  'V_burn': False,\n",
              "  'V_sci-fi': False,\n",
              "  'V_today': False,\n",
              "  'V_emerg': False,\n",
              "  'V_endur': False,\n",
              "  'V_avoid': False,\n",
              "  'V_notic': False,\n",
              "  'V_bright': False,\n",
              "  'V_cost': False,\n",
              "  'V_came': False,\n",
              "  'V_sea': False,\n",
              "  'V_race': False,\n",
              "  'V_decent': False,\n",
              "  'V_ridicul': False,\n",
              "  'V_brown': False,\n",
              "  'V_georg': False,\n",
              "  'V_season': False,\n",
              "  'V_magic': False,\n",
              "  'V_greatest': False,\n",
              "  'V_reveng': False,\n",
              "  'V_vagu': False,\n",
              "  'V_baffl': False,\n",
              "  'V_assur': False,\n",
              "  'V_admit': False,\n",
              "  'V_unexpect': False,\n",
              "  'V_stylish': False,\n",
              "  'V_weight': False,\n",
              "  'V_sade': False,\n",
              "  'V_thank': False,\n",
              "  'V_news': False,\n",
              "  'V_footag': False,\n",
              "  'V_posit': False,\n",
              "  'V_combin': False,\n",
              "  'V_blown': False,\n",
              "  'V_convict': False,\n",
              "  'V_ahead': False,\n",
              "  'V_funnier': False,\n",
              "  'V_quick': False,\n",
              "  'V_fare': False,\n",
              "  'V_fat': False,\n",
              "  'V_slightli': False,\n",
              "  'V_terribl': False,\n",
              "  'V_heavi': False,\n",
              "  'V_dog': False,\n",
              "  'V_clariti': False,\n",
              "  'V_dri': False,\n",
              "  'V_teenag': False,\n",
              "  'V_cinematographi': False,\n",
              "  'V_market': False,\n",
              "  'V_list': False,\n",
              "  'V_william': False,\n",
              "  'V_fiction': False,\n",
              "  'V_arriv': False,\n",
              "  'V_wors': False,\n",
              "  'V_total': False,\n",
              "  'V_older': False,\n",
              "  'V_evil': False,\n",
              "  'V_dean': False,\n",
              "  'V_lesson': False,\n",
              "  'V_price': False,\n",
              "  'V_ya-ya': False,\n",
              "  'V_wed': False,\n",
              "  'V_rise': False,\n",
              "  'V_state': False,\n",
              "  'V_consid': False,\n",
              "  'V_futur': False,\n",
              "  'V_absorb': False,\n",
              "  'V_ghost': False,\n",
              "  'V_b-movi': False,\n",
              "  'V_bruce': False,\n",
              "  'V_match': False,\n",
              "  'V_sandler': False,\n",
              "  'V_throw': False,\n",
              "  'V_hate': False,\n",
              "  'V_battl': False,\n",
              "  'V_earn': False,\n",
              "  'V_outrag': False,\n",
              "  'V_target': False,\n",
              "  'V_deeper': False,\n",
              "  'V_support': False,\n",
              "  'V_respons': False,\n",
              "  'V_tribut': False,\n",
              "  'V_dish': False,\n",
              "  'V_guilti': False,\n",
              "  'V_object': False,\n",
              "  'V_bizarr': False,\n",
              "  'V_stop': False,\n",
              "  'V_appar': False,\n",
              "  'V_comed': False,\n",
              "  'V_tom': False,\n",
              "  'V_frequent': False,\n",
              "  'V_respect': False,\n",
              "  'V_intent': False,\n",
              "  'V_tap': False,\n",
              "  'V_sloppi': False,\n",
              "  'V_giant': False,\n",
              "  'V_utterli': False,\n",
              "  'V_irrit': False,\n",
              "  'V_fashion': False,\n",
              "  'V_handl': False,\n",
              "  'V_male': False,\n",
              "  'V_public': False,\n",
              "  'V_ad': False,\n",
              "  'V_polanski': False,\n",
              "  'V_monti': False,\n",
              "  'V_somewher': False,\n",
              "  'V_result': False,\n",
              "  'V_simpl': False,\n",
              "  'V_enter': False,\n",
              "  'V_farcic': False,\n",
              "  'V_specif': False,\n",
              "  'V_overal': False,\n",
              "  'V_scari': False,\n",
              "  'V_motion': False,\n",
              "  'V_nerv': False,\n",
              "  'V_ring': False,\n",
              "  'V_slapstick': False,\n",
              "  'V_computer-gener': False,\n",
              "  'V_pat': False,\n",
              "  'V_brutal': False,\n",
              "  'V_friday': False,\n",
              "  'V_sober': False,\n",
              "  'V_shake': False,\n",
              "  'V_worthwhil': False,\n",
              "  'V_thin': False,\n",
              "  'V_alien': False,\n",
              "  'V_bite': False,\n",
              "  'V_return': False,\n",
              "  'V_admir': False,\n",
              "  'V_forgett': False,\n",
              "  'V_strength': False,\n",
              "  'V_warmth': False,\n",
              "  'V_preciou': False,\n",
              "  'V_indian': False,\n",
              "  'V_roll': False,\n",
              "  'V_integr': False,\n",
              "  'V_homag': False,\n",
              "  'V_astonish': False,\n",
              "  'V_disguis': False,\n",
              "  'V_refus': False,\n",
              "  'V_lacklust': False,\n",
              "  'V_cram': False,\n",
              "  'V_wise': False,\n",
              "  'V_throughout': False,\n",
              "  'V_juvenil': False,\n",
              "  'V_bond': False,\n",
              "  'V_spare': False,\n",
              "  'V_zone': False,\n",
              "  'V_walk': False,\n",
              "  'V_absolut': False,\n",
              "  'V_insult': False,\n",
              "  'V_horribl': False,\n",
              "  'V_mild': False,\n",
              "  'V_escap': False,\n",
              "  'V_black': False,\n",
              "  'V_clueless': False,\n",
              "  'V_fabric': False,\n",
              "  'V_disast': False,\n",
              "  'V_case': False,\n",
              "  'V_spent': False,\n",
              "  'V_costum': False,\n",
              "  'V_sexi': False,\n",
              "  'V_continu': False,\n",
              "  'V_eight': False,\n",
              "  'V_leg': False,\n",
              "  'V_diver': False,\n",
              "  'V_brilliant': False,\n",
              "  'V_creatur': False,\n",
              "  'V_requir': False,\n",
              "  'V_univers': False,\n",
              "  'V_commun': False,\n",
              "  'V_harrow': False,\n",
              "  'V_incred': False,\n",
              "  'V_sick': False,\n",
              "  'V_twice': False,\n",
              "  'V_tediou': False,\n",
              "  'V_superior': False,\n",
              "  'V_murder': False,\n",
              "  'V_reach': False,\n",
              "  'V_structur': False,\n",
              "  'V_glimps': False,\n",
              "  'V_excel': False,\n",
              "  'V_superfici': False,\n",
              "  'V_bleak': False,\n",
              "  'V_unflinch': False,\n",
              "  'V_strongli': False,\n",
              "  'V_expo': False,\n",
              "  'V_team': False},\n",
              " 1)"
            ]
          },
          "metadata": {},
          "execution_count": 237
        }
      ]
    },
    {
      "cell_type": "markdown",
      "source": [
        "## Bigram Features"
      ],
      "metadata": {
        "id": "1ceUnNwL9FZN"
      }
    },
    {
      "cell_type": "code",
      "execution_count": 238,
      "metadata": {
        "id": "pdcMkkCKd-C5"
      },
      "outputs": [],
      "source": [
        "####   adding Bigram features   ####\n",
        "# set up for using bigrams\n",
        "# from nltk.collocations import *\n",
        "bigram_measures = nltk.collocations.BigramAssocMeasures()"
      ]
    },
    {
      "cell_type": "code",
      "source": [
        "# create the bigram finder on all the words in sequence\n",
        "print(all_words_list[:50])\n",
        "finder = BigramCollocationFinder.from_words(all_words_list)"
      ],
      "metadata": {
        "colab": {
          "base_uri": "https://localhost:8080/"
        },
        "id": "80NqGJnr9Y3-",
        "outputId": "9be85019-3bc9-44db-a28a-1c597f78dcaf"
      },
      "execution_count": 239,
      "outputs": [
        {
          "output_type": "stream",
          "name": "stdout",
          "text": [
            "['phrase', 'fatal', 'script', 'error', 'susan', 'sarandon', 'dustin', 'hoffman', 'holli', 'hunter', 'tuba-play', 'dwarf', 'roll', 'hill', 'trash', 'candi', 'cheeki', 'work', 'probabl', 'product', 'love', 'well', 'integr', 'homag', 'least', 'bit', 'mesmer', 'emerg', 'numbingli', 'dull', 'experi', 'rock', 'solid', 'famili', 'fun', 'nobl', 'endeavor', 'bolster', 'astonish', 'voic', 'cast', 'except', 'love', 'hewitt', 'interest', 'racial', 'tension', 'storylin', 'encount', 'sinc']\n"
          ]
        }
      ]
    },
    {
      "cell_type": "code",
      "source": [
        "# define the top 500 bigrams using the chi squared measure\n",
        "bigram_features = finder.nbest(bigram_measures.chi_sq, 500)\n",
        "print(bigram_features[:50])"
      ],
      "metadata": {
        "colab": {
          "base_uri": "https://localhost:8080/"
        },
        "id": "NmkJFNbp9hCa",
        "outputId": "872583c8-2eac-466b-8356-02343068f9c1"
      },
      "execution_count": 240,
      "outputs": [
        {
          "output_type": "stream",
          "name": "stdout",
          "text": [
            "[('10-year', 'delay'), ('18-year-old', 'mistress'), ('22-year-old', 'girlfriend'), ('4ever', 'sledgehamm'), ('50-someth', 'lovebird'), ('75-minut', 'sampl'), ('7th-centuri', 'oral'), ('91-minut', 'trailer'), ('a.e.w', 'mason'), ('abbott', 'ernest'), ('abdul', 'malik'), ('ace', 'japanim'), ('acerb', 'reparte'), ('acr', 'haut'), ('actorish', 'notat'), ('actuari', 'maelstrom'), ('affluent', 'damsel'), ('agenc', 'bos'), ('ahola', 'thirteen'), ('aircraft', 'carrier'), ('aisl', 'walker'), ('alert', 'street-smart'), ('alexandr', 'desplat'), ('ali', 'graduat'), ('all-night', 'tequila'), ('aloft', 'self-referenti'), ('amir', 'mann'), ('analges', 'balm'), ('analyt', 'venic'), ('annal', 'white-on-black'), ('anne-sophi', 'birot'), ('annual', 'riviera'), ('arcan', 'area'), ('arliss', 'howard'), ('arni', 'musclefest'), ('ash', 'wednesday'), ('asset', 'detriment'), ('atop', 'undercurr'), ('aureli', 'christel'), ('auschwitz', 'ii-birkenau'), ('australian', 'actor\\\\/director'), ('automat', 'gunfir'), ('avant', 'gard'), ('avuncular', 'chortl'), ('back-stab', 'babe'), ('bacon', 'theron'), ('bake', 'cardboard'), ('ballist', 'eck'), ('balm', 'overstimul'), ('bar', 'dancer')]\n"
          ]
        }
      ]
    },
    {
      "cell_type": "code",
      "source": [
        "# define features that include words as before \n",
        "# add the most frequent significant bigrams\n",
        "# this function takes the list of words in a document as an argument and returns a feature dictionary\n",
        "# it depends on the variables word_features and bigram_features\n",
        "\n",
        "def bigram_document_features(document, word_features, bigram_features):\n",
        "    document_words = set(document)\n",
        "    document_bigrams = nltk.bigrams(document)\n",
        "    features = {}\n",
        "    #for word in word_features:\n",
        "    #    features['V_{}'.format(word)] = (word in document_words)\n",
        "    for bigram in bigram_features:\n",
        "        features['B_{}_{}'.format(bigram[0], bigram[1])] = (bigram in document_bigrams)    \n",
        "    return features"
      ],
      "metadata": {
        "id": "Y-LGe8aY-HEW"
      },
      "execution_count": 241,
      "outputs": []
    },
    {
      "cell_type": "code",
      "source": [
        "# use this function to create feature sets for all sentences\n",
        "bigram_featuresets = [(bigram_document_features(d, word_features, bigram_features), c) for (d, c) in documents]"
      ],
      "metadata": {
        "id": "uIw3k3Hz-LZV"
      },
      "execution_count": 242,
      "outputs": []
    },
    {
      "cell_type": "code",
      "source": [
        "# number of features for document 0\n",
        "print(len(bigram_featuresets[0][0].keys()))"
      ],
      "metadata": {
        "colab": {
          "base_uri": "https://localhost:8080/"
        },
        "id": "VoX24iBm-jsD",
        "outputId": "3e55d705-2280-46e7-afa9-5f3171f361a6"
      },
      "execution_count": 243,
      "outputs": [
        {
          "output_type": "stream",
          "name": "stdout",
          "text": [
            "500\n"
          ]
        }
      ]
    },
    {
      "cell_type": "code",
      "source": [
        "# features in document 0\n",
        "print(bigram_featuresets[0][0])"
      ],
      "metadata": {
        "colab": {
          "base_uri": "https://localhost:8080/"
        },
        "id": "ITriyRT0-mJ4",
        "outputId": "7c26dbce-5567-4e51-903f-7199519f8037"
      },
      "execution_count": 244,
      "outputs": [
        {
          "output_type": "stream",
          "name": "stdout",
          "text": [
            "{'B_10-year_delay': False, 'B_18-year-old_mistress': False, 'B_22-year-old_girlfriend': False, 'B_4ever_sledgehamm': False, 'B_50-someth_lovebird': False, 'B_75-minut_sampl': False, 'B_7th-centuri_oral': False, 'B_91-minut_trailer': False, 'B_a.e.w_mason': False, 'B_abbott_ernest': False, 'B_abdul_malik': False, 'B_ace_japanim': False, 'B_acerb_reparte': False, 'B_acr_haut': False, 'B_actorish_notat': False, 'B_actuari_maelstrom': False, 'B_affluent_damsel': False, 'B_agenc_bos': False, 'B_ahola_thirteen': False, 'B_aircraft_carrier': False, 'B_aisl_walker': False, 'B_alert_street-smart': False, 'B_alexandr_desplat': False, 'B_ali_graduat': False, 'B_all-night_tequila': False, 'B_aloft_self-referenti': False, 'B_amir_mann': False, 'B_analges_balm': False, 'B_analyt_venic': False, 'B_annal_white-on-black': False, 'B_anne-sophi_birot': False, 'B_annual_riviera': False, 'B_arcan_area': False, 'B_arliss_howard': False, 'B_arni_musclefest': False, 'B_ash_wednesday': False, 'B_asset_detriment': False, 'B_atop_undercurr': False, 'B_aureli_christel': False, 'B_auschwitz_ii-birkenau': False, 'B_australian_actor\\\\/director': False, 'B_automat_gunfir': False, 'B_avant_gard': False, 'B_avuncular_chortl': False, 'B_back-stab_babe': False, 'B_bacon_theron': False, 'B_bake_cardboard': False, 'B_ballist_eck': False, 'B_balm_overstimul': False, 'B_bar_dancer': False, 'B_beavi_butthead': False, 'B_becam_abhorr': False, 'B_bela_lugosi': False, 'B_belief_prejudic': False, 'B_better-focus_incomprehens': False, 'B_billi_bob': False, 'B_biograph_fantasia': False, 'B_black-and-whit_devil': False, 'B_blanchett_ribisi': False, 'B_blare_brass': False, 'B_bog_surfeit': False, 'B_bohemian_boorish': False, 'B_boho_art-hous': False, 'B_bone-dri_mourn': False, 'B_bori_von': False, 'B_bowser_nonjudgment': False, 'B_brass_back-stab': False, 'B_breckin_meyer': False, 'B_breheni_lens': False, 'B_brett_morgen': False, 'B_briefli_enliven': False, 'B_brink_womanhood': False, 'B_broadcast_typifi': False, 'B_brook_borscht': False, 'B_bugsi_cater': False, 'B_built_controversi': False, 'B_bullet_ballet': False, 'B_burkina_faso': False, 'B_burrito_all-night': False, 'B_busbi_berkeley': False, 'B_buscemi_rosario': False, 'B_bush_henri': False, 'B_bustl_atop': False, 'B_byplay_bicker': False, 'B_c._walsh': False, 'B_cafeteria_goulash': False, 'B_camouflag_grotesqu': False, 'B_canva_asylum': False, 'B_cardboard_off-the-wal': False, 'B_cat-and-mous_three-dimension': False, 'B_catcher_rye': False, 'B_cavaradossi_ruggero': False, 'B_cerebr_henc': False, 'B_ceremoni_lush': False, 'B_cheeri_tranquil': False, 'B_cheesier_cheesiest': False, 'B_cheesiest_foreman': False, 'B_chef_fuss': False, 'B_choke_leash': False, 'B_choreograph_atroc': False, 'B_chouraqui_doubt': False, 'B_circu_curious': False, 'B_cirulnick_novelist': False, 'B_claptrap_period-piec': False, 'B_clarissa_dalloway': False, 'B_claustrophobia_submarin': False, 'B_clean-cut_dahmer': False, 'B_climact_hourlong': False, 'B_closed-off_nationalist': False, 'B_clout_doc': False, 'B_co-op_interact': False, 'B_cocki_pseudo-intellectu': False, 'B_college-spawn_colgat': False, 'B_columbin_rekindl': False, 'B_combust_engin': False, 'B_comeback_curler': False, 'B_comedy-drama_stand-off': False, 'B_compress_characteris': False, 'B_computer_yoda': False, 'B_conan_barbarian': False, 'B_conspiraci_nut': False, 'B_constrict_eisenhow': False, 'B_contin_rose-color': False, 'B_cooler_pg-13': False, 'B_cooper_agenc': False, 'B_copout_franco': False, 'B_cor-blimey-luv-a-duck_cockney': False, 'B_cosa_nostra': False, 'B_counter_cruditi': False, 'B_cowardli_autocritiqu': False, 'B_crane_declin': False, 'B_crescendo_encompass': False, 'B_crispin_glover': False, 'B_crossing-ov_mumbo': False, 'B_crucifixion_juxtaposit': False, 'B_cyndi_lauper': False, \"B_d'etr_fresh-fac\": False, 'B_da_boot': False, 'B_daddi_anarch': False, 'B_damon_runyon': False, 'B_damsel_distress': False, 'B_dana_janklowicz-mann': False, 'B_dani_kouyat': False, 'B_danish_cow': False, 'B_darl_harbour': False, 'B_decent-enough_nail-bit': False, 'B_decibel_volum': False, 'B_decomposit_healthi': False, 'B_defiantli_retro': False, 'B_degener_piou': False, 'B_dehuman_ego-destroy': False, 'B_deja_vu': False, 'B_delia_greta': False, 'B_delinqu_paperback': False, 'B_denmark_dogma': False, 'B_der_groen': False, 'B_detriment_upbeat': False, 'B_di_napoli': False, 'B_didact_burlesqu': False, 'B_disaffected-indie-film_mode': False, 'B_disciplin_grade-grubb': False, 'B_disease-of-the-week_small-screen': False, 'B_disloy_satyr': False, 'B_disobedi_anti-war': False, 'B_dispossess_salvag': False, 'B_disreput_do': False, 'B_distil_caucasian': False, 'B_doing-it-for_the-cash': False, 'B_domino_patch': False, 'B_donna_floria': False, 'B_doodl_steamboat': False, 'B_dougla_mcgrath': False, 'B_dover_kosashvili': False, 'B_dr_slyli': False, 'B_drawl_slobber': False, 'B_drench_swooni': False, 'B_drew_barrymor': False, 'B_dull-wit_disquietingli': False, 'B_duplic_bela': False, 'B_eagl_carpet': False, 'B_earlier_copycat': False, 'B_egregi_lip-non-synch': False, 'B_eh_laundri': False, 'B_eleph_fece': False, 'B_elfried_jelinek': False, 'B_elsewher_seiz': False, 'B_endang_reef': False, 'B_entrap_maze': False, 'B_epicent_percol': False, 'B_epilogu_leak': False, 'B_ernest_tron': False, 'B_erot_perplex': False, 'B_errol_flynn': False, 'B_et_al': False, 'B_evenli_milk': False, 'B_everlyn_sampi': False, 'B_extant_stardom': False, 'B_extremist_name-cal': False, 'B_eye-fil_wide-screen': False, 'B_facad_movie-biz': False, 'B_fallen_scoob': False, 'B_family-ori_non-disney': False, 'B_fangoria_subscrib': False, 'B_fantasia_strictli': False, 'B_fast-edit_hopped-up': False, 'B_fast-pac_glitzi': False, 'B_ferrera_ontivero': False, 'B_fienn_wander': False, 'B_fisk_tommi': False, 'B_flakebal_spout': False, 'B_floria_tosca': False, 'B_flourish_freak-out': False, 'B_flush_testosteron': False, 'B_foreman_barking-mad': False, 'B_forrest_gump': False, 'B_fortun_salari': False, 'B_fred_schepisi': False, 'B_freewheel_trash-cinema': False, 'B_fresh-fac_young-gun': False, 'B_freshman_fluke': False, 'B_frightfest_slack': False, 'B_fuel_self-destruct': False, 'B_fuhrman_posthum': False, 'B_future-world_holograph': False, 'B_galinski_hawley': False, 'B_galor_romeo': False, 'B_gandalf_wind-tunnel': False, 'B_garth_progress': False, 'B_gaunt_silver-hair': False, 'B_genesi_animatron': False, 'B_geneviev_leplouff': False, 'B_gerardo_vera': False, 'B_gianni_versac': False, 'B_gibson_braveheart': False, 'B_gile_nuttgen': False, 'B_gilliam_rudimentari': False, 'B_gilmor_waterboy': False, 'B_glamour_sleaz': False, 'B_glorious_unsubtl': False, 'B_glumli_mishandl': False, 'B_gobbl_dolbi': False, 'B_golden_eagl': False, 'B_good-naturedli_aimless': False, 'B_greed_mater': False, 'B_grenobl_geneva': False, 'B_greta_paula': False, 'B_grizzl_char': False, 'B_groan_hiss': False, 'B_groan-to-guffaw_ratio': False, 'B_grouchi_ayatollah': False, 'B_gruel_time-consum': False, 'B_grunge-pir_hairdo': False, 'B_guilty-pleasur_so-bad-it': False, 'B_gump_titular': False, 'B_hairdo_gandalf': False, 'B_halftim_fifteen': False, 'B_hall_fame': False, 'B_hannib_lecter': False, 'B_harden_voyeur': False, 'B_harvey_weinstein': False, 'B_hatr_spew': False, 'B_haul_circumstanti': False, 'B_haut_coutur': False, 'B_hayao_miyazaki': False, 'B_health_boundless': False, 'B_heat_phocion': False, 'B_heavili_grandstand': False, 'B_hedonist_weasel': False, 'B_heedless_impetu': False, 'B_hefti_anti-establish': False, 'B_heidegg_nietzsche-referenc': False, 'B_hell-jaunt_purist': False, 'B_heretofor_unfathom': False, 'B_hibiscu_grandli': False, 'B_hideou_yellow': False, 'B_high-strung_flaccid': False, 'B_high-wattag_brainpow': False, 'B_highway_patrolman': False, 'B_hippopotamu_ballerina': False, 'B_holograph_librarian': False, 'B_hottest_hippest': False, 'B_hourlong_cricket': False, 'B_hubert_selbi': False, 'B_hugger_twirl': False, 'B_hum_zelda': False, 'B_humour_reinforc': False, 'B_hypertim_revers': False, 'B_ill-tim_antitrust': False, 'B_immacul_roussillon': False, 'B_imogen_kimmel': False, 'B_impati_strenuous': False, 'B_industrial-model_meat': False, 'B_infantil_cross-dress': False, 'B_infirm_naiv': False, 'B_inhal_blackout': False, 'B_innocu_unremark': False, 'B_insouci_embed': False, 'B_instil_rigid': False, 'B_instruct_schaeffer': False, 'B_insur_actuari': False, 'B_inter-famili_rivalri': False, 'B_internet_otherworldli': False, 'B_intract_irrevers': False, 'B_invest_undergradu': False, 'B_isol_panic': False, 'B_j._siegel': False, 'B_j.k._rowl': False, 'B_jacqu_chardonn': False, 'B_jagger_bone-dri': False, 'B_japanim_hayao': False, 'B_jar-jar_bink': False, 'B_jay_roach': False, 'B_jean-luc_godard': False, 'B_jeanett_macdonald': False, 'B_jeremi_renner': False, 'B_jerk_reshap': False, 'B_jerki_hand-held': False, 'B_jerri_bruckheim': False, 'B_jez_butterworth': False, 'B_jfk_conspiraci': False, 'B_johnni_knoxvil': False, 'B_jokest_highway': False, 'B_jonathan_swift': False, 'B_joseph_cedar': False, 'B_joylessli_extravag': False, 'B_jule_vern': False, 'B_juli_taymor': False, 'B_karmen_enthron': False, 'B_kerrigan_platinum-blond': False, 'B_kidd_restless': False, 'B_kids-and-family-ori_cabl': False, 'B_kirsten_dunst': False, 'B_knit_needl': False, 'B_knockabout_equilibrium': False, 'B_kouri_frighteningli': False, 'B_kraft_macaroni': False, 'B_krige_cape': False, 'B_la_sall': False, 'B_lagaan_quintessenti': False, 'B_lamb_insultingli': False, 'B_lan_yu': False, 'B_landbound_leaden': False, 'B_lantern_fallibl': False, 'B_lauper_opportunist': False, 'B_laura_cahil': False, 'B_lauric_guillen': False, 'B_lean_badly-rend': False, 'B_lear_soul-strip': False, 'B_liberti_goofiest': False, 'B_librarian_orlando': False, 'B_life-s_reenact': False, 'B_lili_chou-chou': False, 'B_lillard_cardellini': False, 'B_limerick_scrawl': False, 'B_limp_wrist': False, 'B_lin_chung': False, 'B_lip_slam-bang': False, 'B_lisa_rinzler': False, 'B_lisp_reptilian': False, 'B_listless_climb': False, 'B_longest_yard': False, 'B_loui_begley': False, 'B_lovabl_run-on': False, 'B_lugosi_now-clich': False, 'B_lunar_mission': False, 'B_lurch_not-very-funni': False, 'B_luvvi_raptur': False, 'B_lynn_ramsay': False, 'B_magi_reloc': False, 'B_mai_thi': False, 'B_maik_firebrand': False, 'B_mainten_celibaci': False, 'B_majid_majidi': False, 'B_majidi_shoe-lov': False, 'B_malcolm_mcdowel': False, 'B_malik_abbott': False, 'B_marcken_marilyn': False, 'B_margaret_thatcher': False, 'B_mario_cavaradossi': False, 'B_matchmak_ryosuk': False, 'B_matthew_cirulnick': False, 'B_maximum_moistur': False, 'B_mcgrath_even-ton': False, 'B_meat_freezer': False, 'B_mel_brook': False, 'B_melani_carmichael': False, 'B_messian_bent': False, 'B_metal_firebal': False, 'B_midst_mushi': False, 'B_mile_longest': False, 'B_mind-numbingli_indescrib': False, 'B_minist_bible-studi': False, 'B_minni_gobbler': False, 'B_mire_tear-drench': False, 'B_mishmash_aircraft': False, 'B_mitchel_handili': False, 'B_modu_operandi': False, 'B_moistur_absenc': False, 'B_molto_superficial': False, 'B_mongrel_pep': False, 'B_morgen_nanett': False, 'B_moron_foul': False, 'B_mothman_propheci': False, 'B_movie-go_neophyt': False, 'B_mr_deed': False, 'B_much-need_leviti': False, 'B_muckrak_soul-search': False, 'B_mulholland_dr': False, 'B_multitud_simple-mind': False, 'B_n.m._interchang': False, 'B_nadir_thriller\\\\/horror': False, 'B_nanett_burstein': False, 'B_neil_burger': False, 'B_newton_hepburn': False, 'B_nichola_nicklebi': False, 'B_nightmarish_fairytal': False, 'B_nihilist_summon': False, 'B_no-bul_throwback': False, 'B_nod_agreement': False, 'B_nonconform_glanc': False, 'B_nonjudgment_wiseman': False, 'B_norma_rae': False, 'B_norri_grenad': False, 'B_northern_ireland': False, 'B_northwest_bermuda': False, 'B_norton_recit': False, 'B_norwegian_folktal': False, 'B_novelist_thulani': False, 'B_obnoxi_didact': False, 'B_occupi_amidst': False, 'B_ok_defianc': False, 'B_operandi_crucifixion': False, 'B_orthodox_jew': False, 'B_over-amor_terrier': False, 'B_overboard_looni': False, 'B_overflow_septic': False, 'B_overinfl_mytholog': False, 'B_padr_amaro': False, 'B_painless_time-kil': False, 'B_pan_nalin': False, 'B_paramount_imprint': False, 'B_parsec_nose': False, 'B_partisan_sabotag': False, 'B_pasti_lumpen': False, 'B_pastri_violat': False, 'B_patronis_rever': False, 'B_paulett_raunchi': False, 'B_paunchi_midsect': False, 'B_peep_booth': False, 'B_peevish_gimmicki': False, 'B_peg_groov': False, 'B_pencil_sharpen': False, 'B_pepper_page': False, 'B_phillip_noyc': False, 'B_piccoli_molto': False, 'B_pile_eleph': False, 'B_pile-up_requisit': False, 'B_piss_cull': False, 'B_plex_predispos': False, 'B_plutonium_circu': False, 'B_pokepi_hat': False, 'B_polson_award-win': False, 'B_pooti_tang': False, 'B_poster-boy_lil': False, 'B_pre_extant': False, 'B_precari_skid-row': False, 'B_precious_preval': False, 'B_prima_donna': False, 'B_pristin_camerawork': False, 'B_professor_clean-cut': False, 'B_profici_singularli': False, 'B_prostitut_muse': False, 'B_pubesc_scandal': False, 'B_pushi_decibel': False, 'B_q._archibald': False, 'B_quentin_tarantino': False, 'B_r-rate_road-trip': False, 'B_r._nebrida': False, 'B_radiat_star-pow': False, 'B_rafael_evolut': False, 'B_rah-rah_patriot': False, \"B_raison_d'etr\": False, 'B_rake_dough': False, 'B_ram_das': False, 'B_reassembl_cutting-room': False, 'B_recov_brash': False, 'B_redempt_disastr': False, 'B_rediscov_quiver': False, 'B_reduct_damon': False, 'B_reginald_hudlin': False, 'B_rekindl_muckrak': False, 'B_reloc_scuzzi': False, 'B_renaiss_spain': False, 'B_resent_betti': False, 'B_retail_clerk': False, 'B_retro_chord': False, 'B_reunion_mixer': False, 'B_rever_contradict': False, 'B_rhame_wesley': False, 'B_richli_analyt': False}\n"
          ]
        }
      ]
    },
    {
      "cell_type": "markdown",
      "source": [
        "## POS Features"
      ],
      "metadata": {
        "id": "Q0gx0SemAsvu"
      }
    },
    {
      "cell_type": "code",
      "source": [
        "# this function takes a document list of words and returns a feature dictionary\n",
        "# it runs the default pos tagger (the Stanford tagger) on the document\n",
        "#   and counts 4 types of pos tags to use as features\n",
        "\n",
        "def POS_features(document, word_features):\n",
        "    document_words = set(document)\n",
        "    tagged_words = nltk.pos_tag(document)\n",
        "    features = {}\n",
        "    for word in word_features:\n",
        "        features['contains({})'.format(word)] = (word in document_words)\n",
        "    numNoun = 0\n",
        "    numVerb = 0\n",
        "    numAdj = 0\n",
        "    numAdverb = 0\n",
        "    for (word, tag) in tagged_words:\n",
        "        if tag.startswith('N'): numNoun += 1\n",
        "        if tag.startswith('V'): numVerb += 1\n",
        "        if tag.startswith('J'): numAdj += 1\n",
        "        if tag.startswith('R'): numAdverb += 1\n",
        "    features['nouns'] = numNoun\n",
        "    features['verbs'] = numVerb\n",
        "    features['adjectives'] = numAdj\n",
        "    features['adverbs'] = numAdverb\n",
        "    return features"
      ],
      "metadata": {
        "id": "8ijCYMrB-tVv"
      },
      "execution_count": 24,
      "outputs": []
    },
    {
      "cell_type": "code",
      "source": [
        "# define feature sets using this function\n",
        "POS_featuresets = [(POS_features(d, word_features), c) for (d, c) in documents]\n",
        "# number of features for document 0\n",
        "print(len(POS_featuresets[0][0].keys()))"
      ],
      "metadata": {
        "colab": {
          "base_uri": "https://localhost:8080/"
        },
        "id": "YkrbSYqeA-f5",
        "outputId": "20832818-964a-4c38-a9af-100c00510ed3"
      },
      "execution_count": 25,
      "outputs": [
        {
          "output_type": "stream",
          "name": "stdout",
          "text": [
            "1004\n"
          ]
        }
      ]
    },
    {
      "cell_type": "code",
      "source": [
        "# the first sentence\n",
        "print(documents[0])\n",
        "# the pos tag features for this sentence\n",
        "print('num nouns', POS_featuresets[0][0]['nouns'])\n",
        "print('num verbs', POS_featuresets[0][0]['verbs'])\n",
        "print('num adjectives', POS_featuresets[0][0]['adjectives'])\n",
        "print('num adverbs', POS_featuresets[0][0]['adverbs'])\n",
        "\n"
      ],
      "metadata": {
        "colab": {
          "base_uri": "https://localhost:8080/"
        },
        "id": "2k-DayDOBA0n",
        "outputId": "c78b75ca-89aa-4de6-c272-99c6692fbd66"
      },
      "execution_count": 26,
      "outputs": [
        {
          "output_type": "stream",
          "name": "stdout",
          "text": [
            "(['phrase', 'fatal', 'script', 'error'], 1)\n",
            "num nouns 3\n",
            "num verbs 0\n",
            "num adjectives 1\n",
            "num adverbs 0\n"
          ]
        }
      ]
    },
    {
      "cell_type": "markdown",
      "source": [
        "## LIWC Features"
      ],
      "metadata": {
        "id": "kOQfZZE9QM3U"
      }
    },
    {
      "cell_type": "code",
      "source": [
        "LIWC_path = sentiment_read_LIWC_pos_neg_words.read_words()\n",
        "LIWC_poslist = LIWC_path[0]\n",
        "LIWC_neglist = LIWC_path[1]"
      ],
      "metadata": {
        "id": "e57kKBbMUXj_"
      },
      "execution_count": 245,
      "outputs": []
    },
    {
      "cell_type": "code",
      "source": [
        "# define features that include word counts of subjectivity words\n",
        "# negative feature will have number of weakly negative words +\n",
        "#    2 * number of strongly negative words\n",
        "# positive feature has similar definition\n",
        "#    not counting neutral words\n",
        "\n",
        "def LIWC_features(document, word_features, poslist, neglist):\n",
        "    document_words = set(document)\n",
        "    features = {}\n",
        "    for word in word_features:\n",
        "        features['V_{}'.format(word)] = (word in document_words)\n",
        "    # count variables for the 2 classes of LWIC\n",
        "    pos = 0\n",
        "    neg = 0\n",
        "    for word in document_words:\n",
        "      if sentiment_read_LIWC_pos_neg_words.isPresent(word,poslist):\n",
        "        pos += 1\n",
        "      if sentiment_read_LIWC_pos_neg_words.isPresent(word,neglist):\n",
        "        neg += 1     \n",
        "    return features\n",
        "\n"
      ],
      "metadata": {
        "id": "rFYt2wiIQReK"
      },
      "execution_count": 246,
      "outputs": []
    },
    {
      "cell_type": "code",
      "source": [
        "LIWC_featuresets = [(LIWC_features(d, word_features, LIWC_poslist, LIWC_neglist), c) for (d, c) in documents]\n",
        "len(LIWC_featuresets)"
      ],
      "metadata": {
        "colab": {
          "base_uri": "https://localhost:8080/"
        },
        "id": "KTF948B7UxrB",
        "outputId": "a7d245b9-f78d-42ce-b4ab-04e9eb055629"
      },
      "execution_count": 247,
      "outputs": [
        {
          "output_type": "execute_result",
          "data": {
            "text/plain": [
              "9998"
            ]
          },
          "metadata": {},
          "execution_count": 247
        }
      ]
    },
    {
      "cell_type": "markdown",
      "source": [
        "## Subjectivity Features"
      ],
      "metadata": {
        "id": "K1YokmS_YWnW"
      }
    },
    {
      "cell_type": "code",
      "source": [
        "####   adding features   ####\n",
        "# First run the program in the file Subjectivity.py to load the subjectivity lexicon\n",
        "# copy and paste the definition of the readSubjectivity functions\n",
        "\n",
        "# create a path to where the subjectivity file resides on your disk\n",
        "# this example is for my mac\n",
        "# nancymacpath = \"/Users/njmccrac1/AAAdocs/research/subjectivitylexicon/hltemnlp05clues/subjclueslen1-HLTEMNLP05.tff\"\n",
        "\n",
        "# create your own path to the subjclues file\n",
        "SLpath = \"/content/drive/MyDrive/IST 664 Project - DL/subjclueslen1-HLTEMNLP05.tff\""
      ],
      "metadata": {
        "id": "N29wLTETpsR4"
      },
      "execution_count": 30,
      "outputs": []
    },
    {
      "cell_type": "code",
      "source": [
        "# import the Subjectivity program as a module to use the function\n",
        "\n",
        "import Subjectivity\n",
        "SL = Subjectivity.readSubjectivity(SLpath)"
      ],
      "metadata": {
        "id": "YgL06RHuYXnf"
      },
      "execution_count": 31,
      "outputs": []
    },
    {
      "cell_type": "code",
      "source": [
        "# define features that include word counts of subjectivity words\n",
        "# negative feature will have number of weakly negative words +\n",
        "#    2 * number of strongly negative words\n",
        "# positive feature has similar definition\n",
        "#    not counting neutral words\n",
        "def SL_features(document, word_features, SL):\n",
        "    document_words = set(document)\n",
        "    features = {}\n",
        "    for word in word_features:\n",
        "        features['V_{}'.format(word)] = (word in document_words)\n",
        "    # count variables for the 4 classes of subjectivity\n",
        "    weakPos = 0\n",
        "    strongPos = 0\n",
        "    weakNeg = 0\n",
        "    strongNeg = 0\n",
        "    for word in document_words:\n",
        "        if word in SL:\n",
        "            strength, posTag, isStemmed, polarity = SL[word]\n",
        "            if strength == 'weaksubj' and polarity == 'positive':\n",
        "                weakPos += 1\n",
        "            if strength == 'strongsubj' and polarity == 'positive':\n",
        "                strongPos += 1\n",
        "            if strength == 'weaksubj' and polarity == 'negative':\n",
        "                weakNeg += 1\n",
        "            if strength == 'strongsubj' and polarity == 'negative':\n",
        "                strongNeg += 1\n",
        "            features['positivecount'] = weakPos + (2 * strongPos)\n",
        "            features['negativecount'] = weakNeg + (2 * strongNeg)      \n",
        "    return features\n",
        "\n",
        "SL_featuresets = [(SL_features(d, word_features, SL), c) for (d, c) in documents]"
      ],
      "metadata": {
        "id": "bh1iELQdvL_E"
      },
      "execution_count": 32,
      "outputs": []
    },
    {
      "cell_type": "code",
      "source": [
        "# this gives the label of document 0\n",
        "SL_featuresets[0][1]\n",
        "# number of features for document 0\n",
        "len(SL_featuresets[0][0].keys())"
      ],
      "metadata": {
        "colab": {
          "base_uri": "https://localhost:8080/"
        },
        "id": "YZ6s69gJyhNU",
        "outputId": "5b7ab2cd-9004-44b1-c71c-f866e5f7eb71"
      },
      "execution_count": 33,
      "outputs": [
        {
          "output_type": "execute_result",
          "data": {
            "text/plain": [
              "1002"
            ]
          },
          "metadata": {},
          "execution_count": 33
        }
      ]
    },
    {
      "cell_type": "markdown",
      "source": [
        "# Features Experiment Loop"
      ],
      "metadata": {
        "id": "L1yF21cDcvNR"
      }
    },
    {
      "cell_type": "markdown",
      "source": [
        "## Loop"
      ],
      "metadata": {
        "id": "zLbzATMHuKhj"
      }
    },
    {
      "cell_type": "code",
      "source": [
        "### Build a loop that runs each filter through every Featureset\n",
        "### Run an accuracy score and append to a dataframe\n",
        "\n",
        "filter_list = [imbd_clean, imbd_filter, imbd_stemma]\n",
        "filter_names = ['imbd_clean', 'imbd_filter', 'imbd_stemma']\n",
        "\n",
        "column_headers = ['Model','Feature','Filter','Experiment','Accuracy']\n",
        "df_accuracys = pd.DataFrame(columns=column_headers) \n",
        "\n",
        "for documents, names in zip(filter_list, filter_names):\n",
        "# for documents in filter_list:\n",
        "\n",
        "  # Unigram \n",
        "  ## Unigram Features\n",
        "  featuresets = [(document_features(d, word_features), c) for (d, c) in documents]\n",
        "\n",
        "  ## Train and Test Set\n",
        "  train_set, test_set = featuresets[500:], featuresets[:500]\n",
        "  ## NaiveBayesClassifier\n",
        "  classifier = nltk.NaiveBayesClassifier.train(train_set)\n",
        "\n",
        "  # Accuracy Score\n",
        "  a_score = nltk.classify.accuracy(classifier, test_set)\n",
        "\n",
        "  # Dataframe\n",
        "  Filter = names\n",
        "  Model = 'NLTK - Bayes'\n",
        "  Feature_Name = 'Unigram'\n",
        "  Experiment = Model + ' ' + Feature_Name + ' ' + Filter\n",
        "\n",
        "  df = pd.DataFrame([[Model, Feature_Name, Filter, Experiment, a_score]], columns = column_headers)\n",
        "  df_accuracys = df_accuracys.append(df, ignore_index=True)\n",
        "\n",
        "  # Random Forest\n",
        "  classifier = SklearnClassifier(RandomForestClassifier()).train(train_set)\n",
        "  a_score = nltk.classify.accuracy(classifier, test_set)\n",
        "\n",
        "  # Dataframe\n",
        "  Filter = names\n",
        "  Model = 'Scikit - Random Forest'\n",
        "  Feature_Name = 'Unigram'\n",
        "  Experiment = Model + ' ' + Feature_Name + ' ' + Filter\n",
        "\n",
        "  df = pd.DataFrame([[Model, Feature_Name, Filter, Experiment, a_score]], columns = column_headers)\n",
        "  df_accuracys = df_accuracys.append(df, ignore_index=True)\n",
        "\n",
        "  # Bigram\n",
        "  ## Bigram Features\n",
        "  bigram_featuresets = [(bigram_document_features(d, word_features, bigram_features), c) for (d, c) in documents]\n",
        "\n",
        "  ## Train and Test Set\n",
        "  train_set, test_set = bigram_featuresets[500:], bigram_featuresets[:500]\n",
        "\n",
        "  ## NaiveBayesClassifier\n",
        "  classifier = nltk.NaiveBayesClassifier.train(train_set)\n",
        "\n",
        "  ## Accuracy Score\n",
        "  a_score = nltk.classify.accuracy(classifier, test_set)\n",
        "\n",
        "  # Dataframe\n",
        "  Filter = names\n",
        "  Model = 'NLTK - Bayes'\n",
        "  Feature_Name = 'Bigram'\n",
        "  Experiment = Model + ' ' + Feature_Name + ' ' + Filter\n",
        "\n",
        "  df = pd.DataFrame([[Model, Feature_Name, Filter, Experiment, a_score]], columns = column_headers)\n",
        "  df_accuracys = df_accuracys.append(df, ignore_index=True)  \n",
        "  \n",
        "  # Random Forest\n",
        "  classifier = SklearnClassifier(RandomForestClassifier()).train(train_set)\n",
        "  a_score = nltk.classify.accuracy(classifier, test_set)\n",
        "\n",
        "  # Dataframe\n",
        "  Filter = names\n",
        "  Model = 'Scikit - Random Forest'\n",
        "  Feature_Name = 'Bigram'\n",
        "  Experiment = Model + ' ' + Feature_Name + ' ' + Filter\n",
        "\n",
        "  df = pd.DataFrame([[Model, Feature_Name, Filter, Experiment, a_score]], columns = column_headers)\n",
        "  df_accuracys = df_accuracys.append(df, ignore_index=True)\n",
        "\n",
        "  # POS\n",
        "  ## POS Features\n",
        "  # define feature sets using this function\n",
        "  POS_featuresets = [(POS_features(d, word_features), c) for (d, c) in documents]\n",
        "\n",
        "  ## Train and Test Set\n",
        "  train_set, test_set = POS_featuresets[500:], POS_featuresets[:500]\n",
        "\n",
        "  ## NaiveBayesClassifier\n",
        "  classifier = nltk.NaiveBayesClassifier.train(train_set)\n",
        "\n",
        "  ## Accuracy Score\n",
        "  a_score = nltk.classify.accuracy(classifier, test_set)\n",
        "\n",
        "  # Dataframe\n",
        "  Filter = names\n",
        "  Model = 'NLTK - Bayes'\n",
        "  Feature_Name = 'POS'\n",
        "  Experiment = Model + ' ' + Feature_Name + ' ' + Filter\n",
        "\n",
        "  df = pd.DataFrame([[Model, Feature_Name, Filter, Experiment, a_score]], columns = column_headers)\n",
        "  df_accuracys = df_accuracys.append(df, ignore_index=True)\n",
        "\n",
        "  # Random Forest\n",
        "  classifier = SklearnClassifier(RandomForestClassifier()).train(train_set)\n",
        "  a_score = nltk.classify.accuracy(classifier, test_set)\n",
        "\n",
        "  # Dataframe\n",
        "  Filter = names\n",
        "  Model = 'Scikit - Random Forest'\n",
        "  Feature_Name = 'POS'\n",
        "  Experiment = Model + ' ' + Feature_Name + ' ' + Filter\n",
        "\n",
        "  df = pd.DataFrame([[Model, Feature_Name, Filter, Experiment, a_score]], columns = column_headers)\n",
        "  df_accuracys = df_accuracys.append(df, ignore_index=True)\n",
        "\n",
        "  # LIWC \n",
        "  LIWC_featuresets = [(LIWC_features(d, word_features, LIWC_poslist, LIWC_neglist), c) for (d, c) in documents]\n",
        "\n",
        "  ## Train and Test Set\n",
        "  train_set, test_set = LIWC_featuresets[500:], LIWC_featuresets[:500]\n",
        "\n",
        "  ## NaiveBayesClassifier\n",
        "  classifier = nltk.NaiveBayesClassifier.train(train_set)\n",
        "\n",
        "  ## Accuracy Score\n",
        "  a_score = nltk.classify.accuracy(classifier, test_set)\n",
        "\n",
        "  # Dataframe\n",
        "  Filter = names\n",
        "  Model = 'NLTK - Bayes'\n",
        "  Feature_Name = 'LWIC'\n",
        "  Experiment = Model + ' ' + Feature_Name + ' ' + Filter\n",
        "\n",
        "  df = pd.DataFrame([[Model, Feature_Name, Filter, Experiment, a_score]], columns = column_headers)\n",
        "  df_accuracys = df_accuracys.append(df, ignore_index=True)\n",
        "\n",
        "  # Random Forest\n",
        "  classifier = SklearnClassifier(RandomForestClassifier()).train(train_set)\n",
        "  a_score = nltk.classify.accuracy(classifier, test_set)\n",
        "\n",
        "  # Dataframe\n",
        "  Filter = names\n",
        "  Model = 'Scikit - Random Forest'\n",
        "  Feature_Name = 'LWIC'\n",
        "  Experiment = Model + ' ' + Feature_Name + ' ' + Filter\n",
        "\n",
        "  df = pd.DataFrame([[Model, Feature_Name, Filter, Experiment, a_score]], columns = column_headers)\n",
        "  df_accuracys = df_accuracys.append(df, ignore_index=True)\n",
        "\n",
        "  # Subjectivity\n",
        "  SL_featuresets = [(SL_features(d, word_features, SL), c) for (d, c) in documents]\n",
        "\n",
        "  ## Train and Test Set\n",
        "  train_set, test_set = SL_featuresets[500:], SL_featuresets[:500]\n",
        "\n",
        "  ## NaiveBayesClassifier\n",
        "  classifier = nltk.NaiveBayesClassifier.train(train_set)\n",
        "\n",
        "  ## Accuracy Score\n",
        "  a_score = nltk.classify.accuracy(classifier, test_set)\n",
        "\n",
        "  # Dataframe\n",
        "  Filter = names\n",
        "  Model = 'NLTK - Bayes'\n",
        "  Feature_Name = 'Subjectivity'\n",
        "  Experiment = Model + ' ' + Feature_Name + ' ' + Filter\n",
        "\n",
        "  df = pd.DataFrame([[Model, Feature_Name, Filter, Experiment, a_score]], columns = column_headers)\n",
        "  df_accuracys = df_accuracys.append(df, ignore_index=True)\n",
        "\n",
        "  # Random Forest\n",
        "  classifier = SklearnClassifier(RandomForestClassifier()).train(train_set)\n",
        "  a_score = nltk.classify.accuracy(classifier, test_set)\n",
        "\n",
        "  # Dataframe\n",
        "  Filter = names\n",
        "  Model = 'Scikit - Random Forest'\n",
        "  Feature_Name = 'Subjectivity'\n",
        "  Experiment = Model + ' ' + Feature_Name + ' ' + Filter\n",
        "\n",
        "  df = pd.DataFrame([[Model, Feature_Name, Filter, Experiment, a_score]], columns = column_headers)\n",
        "  df_accuracys = df_accuracys.append(df, ignore_index=True)\n"
      ],
      "metadata": {
        "id": "lJcX1rIxcul5"
      },
      "execution_count": 34,
      "outputs": []
    },
    {
      "cell_type": "markdown",
      "source": [
        "## Visual"
      ],
      "metadata": {
        "id": "P59UzfpEd7h4"
      }
    },
    {
      "cell_type": "code",
      "source": [
        "  df_accuracys.sort_values(by=['Accuracy'], inplace = True, ascending= False)"
      ],
      "metadata": {
        "id": "fRkmU46Cv06G"
      },
      "execution_count": 201,
      "outputs": []
    },
    {
      "cell_type": "code",
      "source": [
        "df_accuracys.to_csv( '/content/drive/MyDrive/IST 664 Project - DL/accuracys.csv',index=False)"
      ],
      "metadata": {
        "id": "W808DCN2d-pl"
      },
      "execution_count": 40,
      "outputs": []
    },
    {
      "cell_type": "code",
      "source": [
        "px.bar(df_accuracys, x = \"Experiment\", y = \"Accuracy\", color = \"Model\", color_discrete_sequence = my_colorlist2, title = \"Accuracy by Filter and Feature Engineering\",\n",
        "            labels={\n",
        "                \"word\":\"Words\",\n",
        "                \"frequency\":\"Frequency\"\n",
        "            }).update_layout(\n",
        "                barmode='stack', xaxis={'categoryorder':'total descending',\n",
        "                                        'tickangle':45}\n",
        "                )"
      ],
      "metadata": {
        "colab": {
          "base_uri": "https://localhost:8080/",
          "height": 542
        },
        "id": "mHeA_5okx3v2",
        "outputId": "c4c92fcc-72f5-482b-98a7-ec641169f96d"
      },
      "execution_count": 207,
      "outputs": [
        {
          "output_type": "display_data",
          "data": {
            "text/html": [
              "<html>\n",
              "<head><meta charset=\"utf-8\" /></head>\n",
              "<body>\n",
              "    <div>\n",
              "            <script src=\"https://cdnjs.cloudflare.com/ajax/libs/mathjax/2.7.5/MathJax.js?config=TeX-AMS-MML_SVG\"></script><script type=\"text/javascript\">if (window.MathJax) {MathJax.Hub.Config({SVG: {font: \"STIX-Web\"}});}</script>\n",
              "                <script type=\"text/javascript\">window.PlotlyConfig = {MathJaxConfig: 'local'};</script>\n",
              "        <script src=\"https://cdn.plot.ly/plotly-latest.min.js\"></script>    \n",
              "            <div id=\"b8f0f678-0a55-4b36-ba13-1065e2ecb4f0\" class=\"plotly-graph-div\" style=\"height:525px; width:100%;\"></div>\n",
              "            <script type=\"text/javascript\">\n",
              "                \n",
              "                    window.PLOTLYENV=window.PLOTLYENV || {};\n",
              "                    \n",
              "                if (document.getElementById(\"b8f0f678-0a55-4b36-ba13-1065e2ecb4f0\")) {\n",
              "                    Plotly.newPlot(\n",
              "                        'b8f0f678-0a55-4b36-ba13-1065e2ecb4f0',\n",
              "                        [{\"alignmentgroup\": \"True\", \"hoverlabel\": {\"namelength\": 0}, \"hovertemplate\": \"Model=NLTK - Bayes<br>Experiment=%{x}<br>Accuracy=%{y}\", \"legendgroup\": \"Model=NLTK - Bayes\", \"marker\": {\"color\": \"#e98f42\"}, \"name\": \"Model=NLTK - Bayes\", \"offsetgroup\": \"Model=NLTK - Bayes\", \"orientation\": \"v\", \"showlegend\": true, \"textposition\": \"auto\", \"type\": \"bar\", \"x\": [\"NLTK - Bayes Unigram imbd_clean\", \"NLTK - Bayes LWIC imbd_clean\", \"NLTK - Bayes POS imbd_clean\", \"NLTK - Bayes Bigram imbd_clean\", \"NLTK - Bayes Subjectivity imbd_stemma\", \"NLTK - Bayes LWIC imbd_stemma\", \"NLTK - Bayes Unigram imbd_stemma\", \"NLTK - Bayes POS imbd_stemma\", \"NLTK - Bayes Subjectivity imbd_clean\", \"NLTK - Bayes LWIC imbd_filter\", \"NLTK - Bayes Unigram imbd_filter\", \"NLTK - Bayes POS imbd_filter\", \"NLTK - Bayes Subjectivity imbd_filter\", \"NLTK - Bayes Bigram imbd_filter\", \"NLTK - Bayes Bigram imbd_stemma\"], \"xaxis\": \"x\", \"y\": [0.564, 0.564, 0.552, 0.538, 0.538, 0.536, 0.536, 0.522, 0.518, 0.5, 0.5, 0.496, 0.478, 0.474, 0.474], \"yaxis\": \"y\"}, {\"alignmentgroup\": \"True\", \"hoverlabel\": {\"namelength\": 0}, \"hovertemplate\": \"Model=Scikit - Random Forest<br>Experiment=%{x}<br>Accuracy=%{y}\", \"legendgroup\": \"Model=Scikit - Random Forest\", \"marker\": {\"color\": \"#ca8478\"}, \"name\": \"Model=Scikit - Random Forest\", \"offsetgroup\": \"Model=Scikit - Random Forest\", \"orientation\": \"v\", \"showlegend\": true, \"textposition\": \"auto\", \"type\": \"bar\", \"x\": [\"Scikit - Random Forest Bigram imbd_clean\", \"Scikit - Random Forest LWIC imbd_clean\", \"Scikit - Random Forest Unigram imbd_clean\", \"Scikit - Random Forest POS imbd_clean\", \"Scikit - Random Forest Subjectivity imbd_clean\", \"Scikit - Random Forest POS imbd_stemma\", \"Scikit - Random Forest POS imbd_filter\", \"Scikit - Random Forest Subjectivity imbd_stemma\", \"Scikit - Random Forest Bigram imbd_filter\", \"Scikit - Random Forest Bigram imbd_stemma\", \"Scikit - Random Forest LWIC imbd_filter\", \"Scikit - Random Forest Unigram imbd_filter\", \"Scikit - Random Forest Unigram imbd_stemma\", \"Scikit - Random Forest LWIC imbd_stemma\", \"Scikit - Random Forest Subjectivity imbd_filter\"], \"xaxis\": \"x\", \"y\": [0.538, 0.536, 0.532, 0.512, 0.508, 0.506, 0.478, 0.478, 0.474, 0.474, 0.47, 0.464, 0.456, 0.454, 0.442], \"yaxis\": \"y\"}],\n",
              "                        {\"barmode\": \"stack\", \"legend\": {\"tracegroupgap\": 0}, \"template\": {\"data\": {\"bar\": [{\"error_x\": {\"color\": \"#2a3f5f\"}, \"error_y\": {\"color\": \"#2a3f5f\"}, \"marker\": {\"line\": {\"color\": \"#E5ECF6\", \"width\": 0.5}}, \"type\": \"bar\"}], \"barpolar\": [{\"marker\": {\"line\": {\"color\": \"#E5ECF6\", \"width\": 0.5}}, \"type\": \"barpolar\"}], \"carpet\": [{\"aaxis\": {\"endlinecolor\": \"#2a3f5f\", \"gridcolor\": \"white\", \"linecolor\": \"white\", \"minorgridcolor\": \"white\", \"startlinecolor\": \"#2a3f5f\"}, \"baxis\": {\"endlinecolor\": \"#2a3f5f\", \"gridcolor\": \"white\", \"linecolor\": \"white\", \"minorgridcolor\": \"white\", \"startlinecolor\": \"#2a3f5f\"}, \"type\": \"carpet\"}], \"choropleth\": [{\"colorbar\": {\"outlinewidth\": 0, \"ticks\": \"\"}, \"type\": \"choropleth\"}], \"contour\": [{\"colorbar\": {\"outlinewidth\": 0, \"ticks\": \"\"}, \"colorscale\": [[0.0, \"#0d0887\"], [0.1111111111111111, \"#46039f\"], [0.2222222222222222, \"#7201a8\"], [0.3333333333333333, \"#9c179e\"], [0.4444444444444444, \"#bd3786\"], [0.5555555555555556, \"#d8576b\"], [0.6666666666666666, \"#ed7953\"], [0.7777777777777778, \"#fb9f3a\"], [0.8888888888888888, \"#fdca26\"], [1.0, \"#f0f921\"]], \"type\": \"contour\"}], \"contourcarpet\": [{\"colorbar\": {\"outlinewidth\": 0, \"ticks\": \"\"}, \"type\": \"contourcarpet\"}], \"heatmap\": [{\"colorbar\": {\"outlinewidth\": 0, \"ticks\": \"\"}, \"colorscale\": [[0.0, \"#0d0887\"], [0.1111111111111111, \"#46039f\"], [0.2222222222222222, \"#7201a8\"], [0.3333333333333333, \"#9c179e\"], [0.4444444444444444, \"#bd3786\"], [0.5555555555555556, \"#d8576b\"], [0.6666666666666666, \"#ed7953\"], [0.7777777777777778, \"#fb9f3a\"], [0.8888888888888888, \"#fdca26\"], [1.0, \"#f0f921\"]], \"type\": \"heatmap\"}], \"heatmapgl\": [{\"colorbar\": {\"outlinewidth\": 0, \"ticks\": \"\"}, \"colorscale\": [[0.0, \"#0d0887\"], [0.1111111111111111, \"#46039f\"], [0.2222222222222222, \"#7201a8\"], [0.3333333333333333, \"#9c179e\"], [0.4444444444444444, \"#bd3786\"], [0.5555555555555556, \"#d8576b\"], [0.6666666666666666, \"#ed7953\"], [0.7777777777777778, \"#fb9f3a\"], [0.8888888888888888, \"#fdca26\"], [1.0, \"#f0f921\"]], \"type\": \"heatmapgl\"}], \"histogram\": [{\"marker\": {\"colorbar\": {\"outlinewidth\": 0, \"ticks\": \"\"}}, \"type\": \"histogram\"}], \"histogram2d\": [{\"colorbar\": {\"outlinewidth\": 0, \"ticks\": \"\"}, \"colorscale\": [[0.0, \"#0d0887\"], [0.1111111111111111, \"#46039f\"], [0.2222222222222222, \"#7201a8\"], [0.3333333333333333, \"#9c179e\"], [0.4444444444444444, \"#bd3786\"], [0.5555555555555556, \"#d8576b\"], [0.6666666666666666, \"#ed7953\"], [0.7777777777777778, \"#fb9f3a\"], [0.8888888888888888, \"#fdca26\"], [1.0, \"#f0f921\"]], \"type\": \"histogram2d\"}], \"histogram2dcontour\": [{\"colorbar\": {\"outlinewidth\": 0, \"ticks\": \"\"}, \"colorscale\": [[0.0, \"#0d0887\"], [0.1111111111111111, \"#46039f\"], [0.2222222222222222, \"#7201a8\"], [0.3333333333333333, \"#9c179e\"], [0.4444444444444444, \"#bd3786\"], [0.5555555555555556, \"#d8576b\"], [0.6666666666666666, \"#ed7953\"], [0.7777777777777778, \"#fb9f3a\"], [0.8888888888888888, \"#fdca26\"], [1.0, \"#f0f921\"]], \"type\": \"histogram2dcontour\"}], \"mesh3d\": [{\"colorbar\": {\"outlinewidth\": 0, \"ticks\": \"\"}, \"type\": \"mesh3d\"}], \"parcoords\": [{\"line\": {\"colorbar\": {\"outlinewidth\": 0, \"ticks\": \"\"}}, \"type\": \"parcoords\"}], \"pie\": [{\"automargin\": true, \"type\": \"pie\"}], \"scatter\": [{\"marker\": {\"colorbar\": {\"outlinewidth\": 0, \"ticks\": \"\"}}, \"type\": \"scatter\"}], \"scatter3d\": [{\"line\": {\"colorbar\": {\"outlinewidth\": 0, \"ticks\": \"\"}}, \"marker\": {\"colorbar\": {\"outlinewidth\": 0, \"ticks\": \"\"}}, \"type\": \"scatter3d\"}], \"scattercarpet\": [{\"marker\": {\"colorbar\": {\"outlinewidth\": 0, \"ticks\": \"\"}}, \"type\": \"scattercarpet\"}], \"scattergeo\": [{\"marker\": {\"colorbar\": {\"outlinewidth\": 0, \"ticks\": \"\"}}, \"type\": \"scattergeo\"}], \"scattergl\": [{\"marker\": {\"colorbar\": {\"outlinewidth\": 0, \"ticks\": \"\"}}, \"type\": \"scattergl\"}], \"scattermapbox\": [{\"marker\": {\"colorbar\": {\"outlinewidth\": 0, \"ticks\": \"\"}}, \"type\": \"scattermapbox\"}], \"scatterpolar\": [{\"marker\": {\"colorbar\": {\"outlinewidth\": 0, \"ticks\": \"\"}}, \"type\": \"scatterpolar\"}], \"scatterpolargl\": [{\"marker\": {\"colorbar\": {\"outlinewidth\": 0, \"ticks\": \"\"}}, \"type\": \"scatterpolargl\"}], \"scatterternary\": [{\"marker\": {\"colorbar\": {\"outlinewidth\": 0, \"ticks\": \"\"}}, \"type\": \"scatterternary\"}], \"surface\": [{\"colorbar\": {\"outlinewidth\": 0, \"ticks\": \"\"}, \"colorscale\": [[0.0, \"#0d0887\"], [0.1111111111111111, \"#46039f\"], [0.2222222222222222, \"#7201a8\"], [0.3333333333333333, \"#9c179e\"], [0.4444444444444444, \"#bd3786\"], [0.5555555555555556, \"#d8576b\"], [0.6666666666666666, \"#ed7953\"], [0.7777777777777778, \"#fb9f3a\"], [0.8888888888888888, \"#fdca26\"], [1.0, \"#f0f921\"]], \"type\": \"surface\"}], \"table\": [{\"cells\": {\"fill\": {\"color\": \"#EBF0F8\"}, \"line\": {\"color\": \"white\"}}, \"header\": {\"fill\": {\"color\": \"#C8D4E3\"}, \"line\": {\"color\": \"white\"}}, \"type\": \"table\"}]}, \"layout\": {\"annotationdefaults\": {\"arrowcolor\": \"#2a3f5f\", \"arrowhead\": 0, \"arrowwidth\": 1}, \"coloraxis\": {\"colorbar\": {\"outlinewidth\": 0, \"ticks\": \"\"}}, \"colorscale\": {\"diverging\": [[0, \"#8e0152\"], [0.1, \"#c51b7d\"], [0.2, \"#de77ae\"], [0.3, \"#f1b6da\"], [0.4, \"#fde0ef\"], [0.5, \"#f7f7f7\"], [0.6, \"#e6f5d0\"], [0.7, \"#b8e186\"], [0.8, \"#7fbc41\"], [0.9, \"#4d9221\"], [1, \"#276419\"]], \"sequential\": [[0.0, \"#0d0887\"], [0.1111111111111111, \"#46039f\"], [0.2222222222222222, \"#7201a8\"], [0.3333333333333333, \"#9c179e\"], [0.4444444444444444, \"#bd3786\"], [0.5555555555555556, \"#d8576b\"], [0.6666666666666666, \"#ed7953\"], [0.7777777777777778, \"#fb9f3a\"], [0.8888888888888888, \"#fdca26\"], [1.0, \"#f0f921\"]], \"sequentialminus\": [[0.0, \"#0d0887\"], [0.1111111111111111, \"#46039f\"], [0.2222222222222222, \"#7201a8\"], [0.3333333333333333, \"#9c179e\"], [0.4444444444444444, \"#bd3786\"], [0.5555555555555556, \"#d8576b\"], [0.6666666666666666, \"#ed7953\"], [0.7777777777777778, \"#fb9f3a\"], [0.8888888888888888, \"#fdca26\"], [1.0, \"#f0f921\"]]}, \"colorway\": [\"#636efa\", \"#EF553B\", \"#00cc96\", \"#ab63fa\", \"#FFA15A\", \"#19d3f3\", \"#FF6692\", \"#B6E880\", \"#FF97FF\", \"#FECB52\"], \"font\": {\"color\": \"#2a3f5f\"}, \"geo\": {\"bgcolor\": \"white\", \"lakecolor\": \"white\", \"landcolor\": \"#E5ECF6\", \"showlakes\": true, \"showland\": true, \"subunitcolor\": \"white\"}, \"hoverlabel\": {\"align\": \"left\"}, \"hovermode\": \"closest\", \"mapbox\": {\"style\": \"light\"}, \"paper_bgcolor\": \"white\", \"plot_bgcolor\": \"#E5ECF6\", \"polar\": {\"angularaxis\": {\"gridcolor\": \"white\", \"linecolor\": \"white\", \"ticks\": \"\"}, \"bgcolor\": \"#E5ECF6\", \"radialaxis\": {\"gridcolor\": \"white\", \"linecolor\": \"white\", \"ticks\": \"\"}}, \"scene\": {\"xaxis\": {\"backgroundcolor\": \"#E5ECF6\", \"gridcolor\": \"white\", \"gridwidth\": 2, \"linecolor\": \"white\", \"showbackground\": true, \"ticks\": \"\", \"zerolinecolor\": \"white\"}, \"yaxis\": {\"backgroundcolor\": \"#E5ECF6\", \"gridcolor\": \"white\", \"gridwidth\": 2, \"linecolor\": \"white\", \"showbackground\": true, \"ticks\": \"\", \"zerolinecolor\": \"white\"}, \"zaxis\": {\"backgroundcolor\": \"#E5ECF6\", \"gridcolor\": \"white\", \"gridwidth\": 2, \"linecolor\": \"white\", \"showbackground\": true, \"ticks\": \"\", \"zerolinecolor\": \"white\"}}, \"shapedefaults\": {\"line\": {\"color\": \"#2a3f5f\"}}, \"ternary\": {\"aaxis\": {\"gridcolor\": \"white\", \"linecolor\": \"white\", \"ticks\": \"\"}, \"baxis\": {\"gridcolor\": \"white\", \"linecolor\": \"white\", \"ticks\": \"\"}, \"bgcolor\": \"#E5ECF6\", \"caxis\": {\"gridcolor\": \"white\", \"linecolor\": \"white\", \"ticks\": \"\"}}, \"title\": {\"x\": 0.05}, \"xaxis\": {\"automargin\": true, \"gridcolor\": \"white\", \"linecolor\": \"white\", \"ticks\": \"\", \"title\": {\"standoff\": 15}, \"zerolinecolor\": \"white\", \"zerolinewidth\": 2}, \"yaxis\": {\"automargin\": true, \"gridcolor\": \"white\", \"linecolor\": \"white\", \"ticks\": \"\", \"title\": {\"standoff\": 15}, \"zerolinecolor\": \"white\", \"zerolinewidth\": 2}}}, \"title\": {\"text\": \"Accuracy by Filter and Feature Engineering\"}, \"xaxis\": {\"anchor\": \"y\", \"categoryorder\": \"total descending\", \"domain\": [0.0, 1.0], \"tickangle\": 45, \"title\": {\"text\": \"Experiment\"}}, \"yaxis\": {\"anchor\": \"x\", \"domain\": [0.0, 1.0], \"title\": {\"text\": \"Accuracy\"}}},\n",
              "                        {\"responsive\": true}\n",
              "                    ).then(function(){\n",
              "                            \n",
              "var gd = document.getElementById('b8f0f678-0a55-4b36-ba13-1065e2ecb4f0');\n",
              "var x = new MutationObserver(function (mutations, observer) {{\n",
              "        var display = window.getComputedStyle(gd).display;\n",
              "        if (!display || display === 'none') {{\n",
              "            console.log([gd, 'removed!']);\n",
              "            Plotly.purge(gd);\n",
              "            observer.disconnect();\n",
              "        }}\n",
              "}});\n",
              "\n",
              "// Listen for the removal of the full notebook cells\n",
              "var notebookContainer = gd.closest('#notebook-container');\n",
              "if (notebookContainer) {{\n",
              "    x.observe(notebookContainer, {childList: true});\n",
              "}}\n",
              "\n",
              "// Listen for the clearing of the current output cell\n",
              "var outputEl = gd.closest('.output');\n",
              "if (outputEl) {{\n",
              "    x.observe(outputEl, {childList: true});\n",
              "}}\n",
              "\n",
              "                        })\n",
              "                };\n",
              "                \n",
              "            </script>\n",
              "        </div>\n",
              "</body>\n",
              "</html>"
            ]
          },
          "metadata": {}
        }
      ]
    },
    {
      "cell_type": "code",
      "source": [
        "px.bar(df_accuracys, x = \"Accuracy\", y = \"Experiment\", color = \"Model\", orientation='h',\n",
        "       color_discrete_sequence = my_colorlist2, title = \"Accuracy by Filter and Feature Engineering\",\n",
        "            labels={\n",
        "                \"word\":\"Words\",\n",
        "                \"frequency\":\"Frequency\"\n",
        "            }).update_layout(\n",
        "                barmode='stack', xaxis={'categoryorder':'total descending'}\n",
        "                )"
      ],
      "metadata": {
        "colab": {
          "base_uri": "https://localhost:8080/",
          "height": 542
        },
        "id": "1GbBw4FNRrU3",
        "outputId": "b247b024-26a7-4eff-e42a-1431aa938d0f"
      },
      "execution_count": 221,
      "outputs": [
        {
          "output_type": "display_data",
          "data": {
            "text/html": [
              "<html>\n",
              "<head><meta charset=\"utf-8\" /></head>\n",
              "<body>\n",
              "    <div>\n",
              "            <script src=\"https://cdnjs.cloudflare.com/ajax/libs/mathjax/2.7.5/MathJax.js?config=TeX-AMS-MML_SVG\"></script><script type=\"text/javascript\">if (window.MathJax) {MathJax.Hub.Config({SVG: {font: \"STIX-Web\"}});}</script>\n",
              "                <script type=\"text/javascript\">window.PlotlyConfig = {MathJaxConfig: 'local'};</script>\n",
              "        <script src=\"https://cdn.plot.ly/plotly-latest.min.js\"></script>    \n",
              "            <div id=\"9442846e-ad87-4f5f-bef8-1d1c76024425\" class=\"plotly-graph-div\" style=\"height:525px; width:100%;\"></div>\n",
              "            <script type=\"text/javascript\">\n",
              "                \n",
              "                    window.PLOTLYENV=window.PLOTLYENV || {};\n",
              "                    \n",
              "                if (document.getElementById(\"9442846e-ad87-4f5f-bef8-1d1c76024425\")) {\n",
              "                    Plotly.newPlot(\n",
              "                        '9442846e-ad87-4f5f-bef8-1d1c76024425',\n",
              "                        [{\"alignmentgroup\": \"True\", \"hoverlabel\": {\"namelength\": 0}, \"hovertemplate\": \"Model=NLTK - Bayes<br>Accuracy=%{x}<br>Experiment=%{y}\", \"legendgroup\": \"Model=NLTK - Bayes\", \"marker\": {\"color\": \"#e98f42\"}, \"name\": \"Model=NLTK - Bayes\", \"offsetgroup\": \"Model=NLTK - Bayes\", \"orientation\": \"h\", \"showlegend\": true, \"textposition\": \"auto\", \"type\": \"bar\", \"x\": [0.564, 0.564, 0.552, 0.538, 0.538, 0.536, 0.536, 0.522, 0.518, 0.5, 0.5, 0.496, 0.478, 0.474, 0.474], \"xaxis\": \"x\", \"y\": [\"NLTK - Bayes Unigram imbd_clean\", \"NLTK - Bayes LWIC imbd_clean\", \"NLTK - Bayes POS imbd_clean\", \"NLTK - Bayes Bigram imbd_clean\", \"NLTK - Bayes Subjectivity imbd_stemma\", \"NLTK - Bayes LWIC imbd_stemma\", \"NLTK - Bayes Unigram imbd_stemma\", \"NLTK - Bayes POS imbd_stemma\", \"NLTK - Bayes Subjectivity imbd_clean\", \"NLTK - Bayes LWIC imbd_filter\", \"NLTK - Bayes Unigram imbd_filter\", \"NLTK - Bayes POS imbd_filter\", \"NLTK - Bayes Subjectivity imbd_filter\", \"NLTK - Bayes Bigram imbd_filter\", \"NLTK - Bayes Bigram imbd_stemma\"], \"yaxis\": \"y\"}, {\"alignmentgroup\": \"True\", \"hoverlabel\": {\"namelength\": 0}, \"hovertemplate\": \"Model=Scikit - Random Forest<br>Accuracy=%{x}<br>Experiment=%{y}\", \"legendgroup\": \"Model=Scikit - Random Forest\", \"marker\": {\"color\": \"#ca8478\"}, \"name\": \"Model=Scikit - Random Forest\", \"offsetgroup\": \"Model=Scikit - Random Forest\", \"orientation\": \"h\", \"showlegend\": true, \"textposition\": \"auto\", \"type\": \"bar\", \"x\": [0.538, 0.536, 0.532, 0.512, 0.508, 0.506, 0.478, 0.478, 0.474, 0.474, 0.47, 0.464, 0.456, 0.454, 0.442], \"xaxis\": \"x\", \"y\": [\"Scikit - Random Forest Bigram imbd_clean\", \"Scikit - Random Forest LWIC imbd_clean\", \"Scikit - Random Forest Unigram imbd_clean\", \"Scikit - Random Forest POS imbd_clean\", \"Scikit - Random Forest Subjectivity imbd_clean\", \"Scikit - Random Forest POS imbd_stemma\", \"Scikit - Random Forest POS imbd_filter\", \"Scikit - Random Forest Subjectivity imbd_stemma\", \"Scikit - Random Forest Bigram imbd_filter\", \"Scikit - Random Forest Bigram imbd_stemma\", \"Scikit - Random Forest LWIC imbd_filter\", \"Scikit - Random Forest Unigram imbd_filter\", \"Scikit - Random Forest Unigram imbd_stemma\", \"Scikit - Random Forest LWIC imbd_stemma\", \"Scikit - Random Forest Subjectivity imbd_filter\"], \"yaxis\": \"y\"}],\n",
              "                        {\"barmode\": \"stack\", \"legend\": {\"tracegroupgap\": 0}, \"template\": {\"data\": {\"bar\": [{\"error_x\": {\"color\": \"#2a3f5f\"}, \"error_y\": {\"color\": \"#2a3f5f\"}, \"marker\": {\"line\": {\"color\": \"#E5ECF6\", \"width\": 0.5}}, \"type\": \"bar\"}], \"barpolar\": [{\"marker\": {\"line\": {\"color\": \"#E5ECF6\", \"width\": 0.5}}, \"type\": \"barpolar\"}], \"carpet\": [{\"aaxis\": {\"endlinecolor\": \"#2a3f5f\", \"gridcolor\": \"white\", \"linecolor\": \"white\", \"minorgridcolor\": \"white\", \"startlinecolor\": \"#2a3f5f\"}, \"baxis\": {\"endlinecolor\": \"#2a3f5f\", \"gridcolor\": \"white\", \"linecolor\": \"white\", \"minorgridcolor\": \"white\", \"startlinecolor\": \"#2a3f5f\"}, \"type\": \"carpet\"}], \"choropleth\": [{\"colorbar\": {\"outlinewidth\": 0, \"ticks\": \"\"}, \"type\": \"choropleth\"}], \"contour\": [{\"colorbar\": {\"outlinewidth\": 0, \"ticks\": \"\"}, \"colorscale\": [[0.0, \"#0d0887\"], [0.1111111111111111, \"#46039f\"], [0.2222222222222222, \"#7201a8\"], [0.3333333333333333, \"#9c179e\"], [0.4444444444444444, \"#bd3786\"], [0.5555555555555556, \"#d8576b\"], [0.6666666666666666, \"#ed7953\"], [0.7777777777777778, \"#fb9f3a\"], [0.8888888888888888, \"#fdca26\"], [1.0, \"#f0f921\"]], \"type\": \"contour\"}], \"contourcarpet\": [{\"colorbar\": {\"outlinewidth\": 0, \"ticks\": \"\"}, \"type\": \"contourcarpet\"}], \"heatmap\": [{\"colorbar\": {\"outlinewidth\": 0, \"ticks\": \"\"}, \"colorscale\": [[0.0, \"#0d0887\"], [0.1111111111111111, \"#46039f\"], [0.2222222222222222, \"#7201a8\"], [0.3333333333333333, \"#9c179e\"], [0.4444444444444444, \"#bd3786\"], [0.5555555555555556, \"#d8576b\"], [0.6666666666666666, \"#ed7953\"], [0.7777777777777778, \"#fb9f3a\"], [0.8888888888888888, \"#fdca26\"], [1.0, \"#f0f921\"]], \"type\": \"heatmap\"}], \"heatmapgl\": [{\"colorbar\": {\"outlinewidth\": 0, \"ticks\": \"\"}, \"colorscale\": [[0.0, \"#0d0887\"], [0.1111111111111111, \"#46039f\"], [0.2222222222222222, \"#7201a8\"], [0.3333333333333333, \"#9c179e\"], [0.4444444444444444, \"#bd3786\"], [0.5555555555555556, \"#d8576b\"], [0.6666666666666666, \"#ed7953\"], [0.7777777777777778, \"#fb9f3a\"], [0.8888888888888888, \"#fdca26\"], [1.0, \"#f0f921\"]], \"type\": \"heatmapgl\"}], \"histogram\": [{\"marker\": {\"colorbar\": {\"outlinewidth\": 0, \"ticks\": \"\"}}, \"type\": \"histogram\"}], \"histogram2d\": [{\"colorbar\": {\"outlinewidth\": 0, \"ticks\": \"\"}, \"colorscale\": [[0.0, \"#0d0887\"], [0.1111111111111111, \"#46039f\"], [0.2222222222222222, \"#7201a8\"], [0.3333333333333333, \"#9c179e\"], [0.4444444444444444, \"#bd3786\"], [0.5555555555555556, \"#d8576b\"], [0.6666666666666666, \"#ed7953\"], [0.7777777777777778, \"#fb9f3a\"], [0.8888888888888888, \"#fdca26\"], [1.0, \"#f0f921\"]], \"type\": \"histogram2d\"}], \"histogram2dcontour\": [{\"colorbar\": {\"outlinewidth\": 0, \"ticks\": \"\"}, \"colorscale\": [[0.0, \"#0d0887\"], [0.1111111111111111, \"#46039f\"], [0.2222222222222222, \"#7201a8\"], [0.3333333333333333, \"#9c179e\"], [0.4444444444444444, \"#bd3786\"], [0.5555555555555556, \"#d8576b\"], [0.6666666666666666, \"#ed7953\"], [0.7777777777777778, \"#fb9f3a\"], [0.8888888888888888, \"#fdca26\"], [1.0, \"#f0f921\"]], \"type\": \"histogram2dcontour\"}], \"mesh3d\": [{\"colorbar\": {\"outlinewidth\": 0, \"ticks\": \"\"}, \"type\": \"mesh3d\"}], \"parcoords\": [{\"line\": {\"colorbar\": {\"outlinewidth\": 0, \"ticks\": \"\"}}, \"type\": \"parcoords\"}], \"pie\": [{\"automargin\": true, \"type\": \"pie\"}], \"scatter\": [{\"marker\": {\"colorbar\": {\"outlinewidth\": 0, \"ticks\": \"\"}}, \"type\": \"scatter\"}], \"scatter3d\": [{\"line\": {\"colorbar\": {\"outlinewidth\": 0, \"ticks\": \"\"}}, \"marker\": {\"colorbar\": {\"outlinewidth\": 0, \"ticks\": \"\"}}, \"type\": \"scatter3d\"}], \"scattercarpet\": [{\"marker\": {\"colorbar\": {\"outlinewidth\": 0, \"ticks\": \"\"}}, \"type\": \"scattercarpet\"}], \"scattergeo\": [{\"marker\": {\"colorbar\": {\"outlinewidth\": 0, \"ticks\": \"\"}}, \"type\": \"scattergeo\"}], \"scattergl\": [{\"marker\": {\"colorbar\": {\"outlinewidth\": 0, \"ticks\": \"\"}}, \"type\": \"scattergl\"}], \"scattermapbox\": [{\"marker\": {\"colorbar\": {\"outlinewidth\": 0, \"ticks\": \"\"}}, \"type\": \"scattermapbox\"}], \"scatterpolar\": [{\"marker\": {\"colorbar\": {\"outlinewidth\": 0, \"ticks\": \"\"}}, \"type\": \"scatterpolar\"}], \"scatterpolargl\": [{\"marker\": {\"colorbar\": {\"outlinewidth\": 0, \"ticks\": \"\"}}, \"type\": \"scatterpolargl\"}], \"scatterternary\": [{\"marker\": {\"colorbar\": {\"outlinewidth\": 0, \"ticks\": \"\"}}, \"type\": \"scatterternary\"}], \"surface\": [{\"colorbar\": {\"outlinewidth\": 0, \"ticks\": \"\"}, \"colorscale\": [[0.0, \"#0d0887\"], [0.1111111111111111, \"#46039f\"], [0.2222222222222222, \"#7201a8\"], [0.3333333333333333, \"#9c179e\"], [0.4444444444444444, \"#bd3786\"], [0.5555555555555556, \"#d8576b\"], [0.6666666666666666, \"#ed7953\"], [0.7777777777777778, \"#fb9f3a\"], [0.8888888888888888, \"#fdca26\"], [1.0, \"#f0f921\"]], \"type\": \"surface\"}], \"table\": [{\"cells\": {\"fill\": {\"color\": \"#EBF0F8\"}, \"line\": {\"color\": \"white\"}}, \"header\": {\"fill\": {\"color\": \"#C8D4E3\"}, \"line\": {\"color\": \"white\"}}, \"type\": \"table\"}]}, \"layout\": {\"annotationdefaults\": {\"arrowcolor\": \"#2a3f5f\", \"arrowhead\": 0, \"arrowwidth\": 1}, \"coloraxis\": {\"colorbar\": {\"outlinewidth\": 0, \"ticks\": \"\"}}, \"colorscale\": {\"diverging\": [[0, \"#8e0152\"], [0.1, \"#c51b7d\"], [0.2, \"#de77ae\"], [0.3, \"#f1b6da\"], [0.4, \"#fde0ef\"], [0.5, \"#f7f7f7\"], [0.6, \"#e6f5d0\"], [0.7, \"#b8e186\"], [0.8, \"#7fbc41\"], [0.9, \"#4d9221\"], [1, \"#276419\"]], \"sequential\": [[0.0, \"#0d0887\"], [0.1111111111111111, \"#46039f\"], [0.2222222222222222, \"#7201a8\"], [0.3333333333333333, \"#9c179e\"], [0.4444444444444444, \"#bd3786\"], [0.5555555555555556, \"#d8576b\"], [0.6666666666666666, \"#ed7953\"], [0.7777777777777778, \"#fb9f3a\"], [0.8888888888888888, \"#fdca26\"], [1.0, \"#f0f921\"]], \"sequentialminus\": [[0.0, \"#0d0887\"], [0.1111111111111111, \"#46039f\"], [0.2222222222222222, \"#7201a8\"], [0.3333333333333333, \"#9c179e\"], [0.4444444444444444, \"#bd3786\"], [0.5555555555555556, \"#d8576b\"], [0.6666666666666666, \"#ed7953\"], [0.7777777777777778, \"#fb9f3a\"], [0.8888888888888888, \"#fdca26\"], [1.0, \"#f0f921\"]]}, \"colorway\": [\"#636efa\", \"#EF553B\", \"#00cc96\", \"#ab63fa\", \"#FFA15A\", \"#19d3f3\", \"#FF6692\", \"#B6E880\", \"#FF97FF\", \"#FECB52\"], \"font\": {\"color\": \"#2a3f5f\"}, \"geo\": {\"bgcolor\": \"white\", \"lakecolor\": \"white\", \"landcolor\": \"#E5ECF6\", \"showlakes\": true, \"showland\": true, \"subunitcolor\": \"white\"}, \"hoverlabel\": {\"align\": \"left\"}, \"hovermode\": \"closest\", \"mapbox\": {\"style\": \"light\"}, \"paper_bgcolor\": \"white\", \"plot_bgcolor\": \"#E5ECF6\", \"polar\": {\"angularaxis\": {\"gridcolor\": \"white\", \"linecolor\": \"white\", \"ticks\": \"\"}, \"bgcolor\": \"#E5ECF6\", \"radialaxis\": {\"gridcolor\": \"white\", \"linecolor\": \"white\", \"ticks\": \"\"}}, \"scene\": {\"xaxis\": {\"backgroundcolor\": \"#E5ECF6\", \"gridcolor\": \"white\", \"gridwidth\": 2, \"linecolor\": \"white\", \"showbackground\": true, \"ticks\": \"\", \"zerolinecolor\": \"white\"}, \"yaxis\": {\"backgroundcolor\": \"#E5ECF6\", \"gridcolor\": \"white\", \"gridwidth\": 2, \"linecolor\": \"white\", \"showbackground\": true, \"ticks\": \"\", \"zerolinecolor\": \"white\"}, \"zaxis\": {\"backgroundcolor\": \"#E5ECF6\", \"gridcolor\": \"white\", \"gridwidth\": 2, \"linecolor\": \"white\", \"showbackground\": true, \"ticks\": \"\", \"zerolinecolor\": \"white\"}}, \"shapedefaults\": {\"line\": {\"color\": \"#2a3f5f\"}}, \"ternary\": {\"aaxis\": {\"gridcolor\": \"white\", \"linecolor\": \"white\", \"ticks\": \"\"}, \"baxis\": {\"gridcolor\": \"white\", \"linecolor\": \"white\", \"ticks\": \"\"}, \"bgcolor\": \"#E5ECF6\", \"caxis\": {\"gridcolor\": \"white\", \"linecolor\": \"white\", \"ticks\": \"\"}}, \"title\": {\"x\": 0.05}, \"xaxis\": {\"automargin\": true, \"gridcolor\": \"white\", \"linecolor\": \"white\", \"ticks\": \"\", \"title\": {\"standoff\": 15}, \"zerolinecolor\": \"white\", \"zerolinewidth\": 2}, \"yaxis\": {\"automargin\": true, \"gridcolor\": \"white\", \"linecolor\": \"white\", \"ticks\": \"\", \"title\": {\"standoff\": 15}, \"zerolinecolor\": \"white\", \"zerolinewidth\": 2}}}, \"title\": {\"text\": \"Accuracy by Filter and Feature Engineering\"}, \"xaxis\": {\"anchor\": \"y\", \"categoryorder\": \"total ascending\", \"domain\": [0.0, 1.0], \"title\": {\"text\": \"Accuracy\"}}, \"yaxis\": {\"anchor\": \"x\", \"domain\": [0.0, 1.0], \"title\": {\"text\": \"Experiment\"}}},\n",
              "                        {\"responsive\": true}\n",
              "                    ).then(function(){\n",
              "                            \n",
              "var gd = document.getElementById('9442846e-ad87-4f5f-bef8-1d1c76024425');\n",
              "var x = new MutationObserver(function (mutations, observer) {{\n",
              "        var display = window.getComputedStyle(gd).display;\n",
              "        if (!display || display === 'none') {{\n",
              "            console.log([gd, 'removed!']);\n",
              "            Plotly.purge(gd);\n",
              "            observer.disconnect();\n",
              "        }}\n",
              "}});\n",
              "\n",
              "// Listen for the removal of the full notebook cells\n",
              "var notebookContainer = gd.closest('#notebook-container');\n",
              "if (notebookContainer) {{\n",
              "    x.observe(notebookContainer, {childList: true});\n",
              "}}\n",
              "\n",
              "// Listen for the clearing of the current output cell\n",
              "var outputEl = gd.closest('.output');\n",
              "if (outputEl) {{\n",
              "    x.observe(outputEl, {childList: true});\n",
              "}}\n",
              "\n",
              "                        })\n",
              "                };\n",
              "                \n",
              "            </script>\n",
              "        </div>\n",
              "</body>\n",
              "</html>"
            ]
          },
          "metadata": {}
        }
      ]
    },
    {
      "cell_type": "code",
      "source": [
        "top_5 = df_accuracys[df_accuracys[\"Experiment\"].isin([\"NLTK - Bayes LWIC imbd_clean\",\"NLTK - Bayes Unigram imbd_clean\",\"NLTK - Bayes POS imbd_clean\",\n",
        "                                                      \"NLTK - Bayes Subjectivity imbd_stemma\",\"Scikit - Random Forest Bigram imbd_clean\"])]"
      ],
      "metadata": {
        "id": "76yknrTJGA9N"
      },
      "execution_count": 202,
      "outputs": []
    },
    {
      "cell_type": "code",
      "source": [
        "top_5"
      ],
      "metadata": {
        "colab": {
          "base_uri": "https://localhost:8080/",
          "height": 206
        },
        "id": "4Gy1rN1SHDz0",
        "outputId": "530147b8-aae1-4ae2-980e-963250f54b9f"
      },
      "execution_count": 203,
      "outputs": [
        {
          "output_type": "execute_result",
          "data": {
            "text/html": [
              "\n",
              "  <div id=\"df-d6618198-2b96-470f-8303-bcf007b187af\">\n",
              "    <div class=\"colab-df-container\">\n",
              "      <div>\n",
              "<style scoped>\n",
              "    .dataframe tbody tr th:only-of-type {\n",
              "        vertical-align: middle;\n",
              "    }\n",
              "\n",
              "    .dataframe tbody tr th {\n",
              "        vertical-align: top;\n",
              "    }\n",
              "\n",
              "    .dataframe thead th {\n",
              "        text-align: right;\n",
              "    }\n",
              "</style>\n",
              "<table border=\"1\" class=\"dataframe\">\n",
              "  <thead>\n",
              "    <tr style=\"text-align: right;\">\n",
              "      <th></th>\n",
              "      <th>Model</th>\n",
              "      <th>Feature</th>\n",
              "      <th>Filter</th>\n",
              "      <th>Experiment</th>\n",
              "      <th>Accuracy</th>\n",
              "    </tr>\n",
              "  </thead>\n",
              "  <tbody>\n",
              "    <tr>\n",
              "      <th>6</th>\n",
              "      <td>NLTK - Bayes</td>\n",
              "      <td>LWIC</td>\n",
              "      <td>imbd_clean</td>\n",
              "      <td>NLTK - Bayes LWIC imbd_clean</td>\n",
              "      <td>0.564</td>\n",
              "    </tr>\n",
              "    <tr>\n",
              "      <th>4</th>\n",
              "      <td>NLTK - Bayes</td>\n",
              "      <td>POS</td>\n",
              "      <td>imbd_clean</td>\n",
              "      <td>NLTK - Bayes POS imbd_clean</td>\n",
              "      <td>0.552</td>\n",
              "    </tr>\n",
              "    <tr>\n",
              "      <th>2</th>\n",
              "      <td>NLTK - Bayes</td>\n",
              "      <td>Bigram</td>\n",
              "      <td>imbd_clean</td>\n",
              "      <td>NLTK - Bayes Bigram imbd_clean</td>\n",
              "      <td>0.538</td>\n",
              "    </tr>\n",
              "    <tr>\n",
              "      <th>3</th>\n",
              "      <td>Scikit - Random Forest</td>\n",
              "      <td>Bigram</td>\n",
              "      <td>imbd_clean</td>\n",
              "      <td>Scikit - Random Forest Bigram imbd_clean</td>\n",
              "      <td>0.538</td>\n",
              "    </tr>\n",
              "    <tr>\n",
              "      <th>28</th>\n",
              "      <td>NLTK - Bayes</td>\n",
              "      <td>Subjectivity</td>\n",
              "      <td>imbd_stemma</td>\n",
              "      <td>NLTK - Bayes Subjectivity imbd_stemma</td>\n",
              "      <td>0.538</td>\n",
              "    </tr>\n",
              "  </tbody>\n",
              "</table>\n",
              "</div>\n",
              "      <button class=\"colab-df-convert\" onclick=\"convertToInteractive('df-d6618198-2b96-470f-8303-bcf007b187af')\"\n",
              "              title=\"Convert this dataframe to an interactive table.\"\n",
              "              style=\"display:none;\">\n",
              "        \n",
              "  <svg xmlns=\"http://www.w3.org/2000/svg\" height=\"24px\"viewBox=\"0 0 24 24\"\n",
              "       width=\"24px\">\n",
              "    <path d=\"M0 0h24v24H0V0z\" fill=\"none\"/>\n",
              "    <path d=\"M18.56 5.44l.94 2.06.94-2.06 2.06-.94-2.06-.94-.94-2.06-.94 2.06-2.06.94zm-11 1L8.5 8.5l.94-2.06 2.06-.94-2.06-.94L8.5 2.5l-.94 2.06-2.06.94zm10 10l.94 2.06.94-2.06 2.06-.94-2.06-.94-.94-2.06-.94 2.06-2.06.94z\"/><path d=\"M17.41 7.96l-1.37-1.37c-.4-.4-.92-.59-1.43-.59-.52 0-1.04.2-1.43.59L10.3 9.45l-7.72 7.72c-.78.78-.78 2.05 0 2.83L4 21.41c.39.39.9.59 1.41.59.51 0 1.02-.2 1.41-.59l7.78-7.78 2.81-2.81c.8-.78.8-2.07 0-2.86zM5.41 20L4 18.59l7.72-7.72 1.47 1.35L5.41 20z\"/>\n",
              "  </svg>\n",
              "      </button>\n",
              "      \n",
              "  <style>\n",
              "    .colab-df-container {\n",
              "      display:flex;\n",
              "      flex-wrap:wrap;\n",
              "      gap: 12px;\n",
              "    }\n",
              "\n",
              "    .colab-df-convert {\n",
              "      background-color: #E8F0FE;\n",
              "      border: none;\n",
              "      border-radius: 50%;\n",
              "      cursor: pointer;\n",
              "      display: none;\n",
              "      fill: #1967D2;\n",
              "      height: 32px;\n",
              "      padding: 0 0 0 0;\n",
              "      width: 32px;\n",
              "    }\n",
              "\n",
              "    .colab-df-convert:hover {\n",
              "      background-color: #E2EBFA;\n",
              "      box-shadow: 0px 1px 2px rgba(60, 64, 67, 0.3), 0px 1px 3px 1px rgba(60, 64, 67, 0.15);\n",
              "      fill: #174EA6;\n",
              "    }\n",
              "\n",
              "    [theme=dark] .colab-df-convert {\n",
              "      background-color: #3B4455;\n",
              "      fill: #D2E3FC;\n",
              "    }\n",
              "\n",
              "    [theme=dark] .colab-df-convert:hover {\n",
              "      background-color: #434B5C;\n",
              "      box-shadow: 0px 1px 3px 1px rgba(0, 0, 0, 0.15);\n",
              "      filter: drop-shadow(0px 1px 2px rgba(0, 0, 0, 0.3));\n",
              "      fill: #FFFFFF;\n",
              "    }\n",
              "  </style>\n",
              "\n",
              "      <script>\n",
              "        const buttonEl =\n",
              "          document.querySelector('#df-d6618198-2b96-470f-8303-bcf007b187af button.colab-df-convert');\n",
              "        buttonEl.style.display =\n",
              "          google.colab.kernel.accessAllowed ? 'block' : 'none';\n",
              "\n",
              "        async function convertToInteractive(key) {\n",
              "          const element = document.querySelector('#df-d6618198-2b96-470f-8303-bcf007b187af');\n",
              "          const dataTable =\n",
              "            await google.colab.kernel.invokeFunction('convertToInteractive',\n",
              "                                                     [key], {});\n",
              "          if (!dataTable) return;\n",
              "\n",
              "          const docLinkHtml = 'Like what you see? Visit the ' +\n",
              "            '<a target=\"_blank\" href=https://colab.research.google.com/notebooks/data_table.ipynb>data table notebook</a>'\n",
              "            + ' to learn more about interactive tables.';\n",
              "          element.innerHTML = '';\n",
              "          dataTable['output_type'] = 'display_data';\n",
              "          await google.colab.output.renderOutput(dataTable, element);\n",
              "          const docLink = document.createElement('div');\n",
              "          docLink.innerHTML = docLinkHtml;\n",
              "          element.appendChild(docLink);\n",
              "        }\n",
              "      </script>\n",
              "    </div>\n",
              "  </div>\n",
              "  "
            ],
            "text/plain": [
              "                     Model  ... Accuracy\n",
              "6             NLTK - Bayes  ...    0.564\n",
              "4             NLTK - Bayes  ...    0.552\n",
              "2             NLTK - Bayes  ...    0.538\n",
              "3   Scikit - Random Forest  ...    0.538\n",
              "28            NLTK - Bayes  ...    0.538\n",
              "\n",
              "[5 rows x 5 columns]"
            ]
          },
          "metadata": {},
          "execution_count": 203
        }
      ]
    },
    {
      "cell_type": "code",
      "source": [
        "px.bar(top_5, x = \"Experiment\", y = \"Accuracy\", color = \"Model\", color_discrete_sequence = my_colorlist2, title = \"Accuracy by Filter and Feature Engineering\",\n",
        "            labels={\n",
        "                \"word\":\"Words\",\n",
        "                \"frequency\":\"Frequency\"\n",
        "            }).update_layout(\n",
        "                barmode='stack', xaxis={'categoryorder':'total descending',\n",
        "                                        'tickangle':45}\n",
        "                )"
      ],
      "metadata": {
        "colab": {
          "base_uri": "https://localhost:8080/",
          "height": 542
        },
        "id": "OgN_jfmRGiEB",
        "outputId": "eccda2ae-1a9e-4dbf-f3c2-7ae1f6908239"
      },
      "execution_count": 204,
      "outputs": [
        {
          "output_type": "display_data",
          "data": {
            "text/html": [
              "<html>\n",
              "<head><meta charset=\"utf-8\" /></head>\n",
              "<body>\n",
              "    <div>\n",
              "            <script src=\"https://cdnjs.cloudflare.com/ajax/libs/mathjax/2.7.5/MathJax.js?config=TeX-AMS-MML_SVG\"></script><script type=\"text/javascript\">if (window.MathJax) {MathJax.Hub.Config({SVG: {font: \"STIX-Web\"}});}</script>\n",
              "                <script type=\"text/javascript\">window.PlotlyConfig = {MathJaxConfig: 'local'};</script>\n",
              "        <script src=\"https://cdn.plot.ly/plotly-latest.min.js\"></script>    \n",
              "            <div id=\"2aa2474a-e0c0-4184-a103-0498e3537185\" class=\"plotly-graph-div\" style=\"height:525px; width:100%;\"></div>\n",
              "            <script type=\"text/javascript\">\n",
              "                \n",
              "                    window.PLOTLYENV=window.PLOTLYENV || {};\n",
              "                    \n",
              "                if (document.getElementById(\"2aa2474a-e0c0-4184-a103-0498e3537185\")) {\n",
              "                    Plotly.newPlot(\n",
              "                        '2aa2474a-e0c0-4184-a103-0498e3537185',\n",
              "                        [{\"alignmentgroup\": \"True\", \"hoverlabel\": {\"namelength\": 0}, \"hovertemplate\": \"Model=NLTK - Bayes<br>Experiment=%{x}<br>Accuracy=%{y}\", \"legendgroup\": \"Model=NLTK - Bayes\", \"marker\": {\"color\": \"#e98f42\"}, \"name\": \"Model=NLTK - Bayes\", \"offsetgroup\": \"Model=NLTK - Bayes\", \"orientation\": \"v\", \"showlegend\": true, \"textposition\": \"auto\", \"type\": \"bar\", \"x\": [\"NLTK - Bayes LWIC imbd_clean\", \"NLTK - Bayes POS imbd_clean\", \"NLTK - Bayes Bigram imbd_clean\", \"NLTK - Bayes Subjectivity imbd_stemma\"], \"xaxis\": \"x\", \"y\": [0.564, 0.552, 0.538, 0.538], \"yaxis\": \"y\"}, {\"alignmentgroup\": \"True\", \"hoverlabel\": {\"namelength\": 0}, \"hovertemplate\": \"Model=Scikit - Random Forest<br>Experiment=%{x}<br>Accuracy=%{y}\", \"legendgroup\": \"Model=Scikit - Random Forest\", \"marker\": {\"color\": \"#ca8478\"}, \"name\": \"Model=Scikit - Random Forest\", \"offsetgroup\": \"Model=Scikit - Random Forest\", \"orientation\": \"v\", \"showlegend\": true, \"textposition\": \"auto\", \"type\": \"bar\", \"x\": [\"Scikit - Random Forest Bigram imbd_clean\"], \"xaxis\": \"x\", \"y\": [0.538], \"yaxis\": \"y\"}],\n",
              "                        {\"barmode\": \"stack\", \"legend\": {\"tracegroupgap\": 0}, \"template\": {\"data\": {\"bar\": [{\"error_x\": {\"color\": \"#2a3f5f\"}, \"error_y\": {\"color\": \"#2a3f5f\"}, \"marker\": {\"line\": {\"color\": \"#E5ECF6\", \"width\": 0.5}}, \"type\": \"bar\"}], \"barpolar\": [{\"marker\": {\"line\": {\"color\": \"#E5ECF6\", \"width\": 0.5}}, \"type\": \"barpolar\"}], \"carpet\": [{\"aaxis\": {\"endlinecolor\": \"#2a3f5f\", \"gridcolor\": \"white\", \"linecolor\": \"white\", \"minorgridcolor\": \"white\", \"startlinecolor\": \"#2a3f5f\"}, \"baxis\": {\"endlinecolor\": \"#2a3f5f\", \"gridcolor\": \"white\", \"linecolor\": \"white\", \"minorgridcolor\": \"white\", \"startlinecolor\": \"#2a3f5f\"}, \"type\": \"carpet\"}], \"choropleth\": [{\"colorbar\": {\"outlinewidth\": 0, \"ticks\": \"\"}, \"type\": \"choropleth\"}], \"contour\": [{\"colorbar\": {\"outlinewidth\": 0, \"ticks\": \"\"}, \"colorscale\": [[0.0, \"#0d0887\"], [0.1111111111111111, \"#46039f\"], [0.2222222222222222, \"#7201a8\"], [0.3333333333333333, \"#9c179e\"], [0.4444444444444444, \"#bd3786\"], [0.5555555555555556, \"#d8576b\"], [0.6666666666666666, \"#ed7953\"], [0.7777777777777778, \"#fb9f3a\"], [0.8888888888888888, \"#fdca26\"], [1.0, \"#f0f921\"]], \"type\": \"contour\"}], \"contourcarpet\": [{\"colorbar\": {\"outlinewidth\": 0, \"ticks\": \"\"}, \"type\": \"contourcarpet\"}], \"heatmap\": [{\"colorbar\": {\"outlinewidth\": 0, \"ticks\": \"\"}, \"colorscale\": [[0.0, \"#0d0887\"], [0.1111111111111111, \"#46039f\"], [0.2222222222222222, \"#7201a8\"], [0.3333333333333333, \"#9c179e\"], [0.4444444444444444, \"#bd3786\"], [0.5555555555555556, \"#d8576b\"], [0.6666666666666666, \"#ed7953\"], [0.7777777777777778, \"#fb9f3a\"], [0.8888888888888888, \"#fdca26\"], [1.0, \"#f0f921\"]], \"type\": \"heatmap\"}], \"heatmapgl\": [{\"colorbar\": {\"outlinewidth\": 0, \"ticks\": \"\"}, \"colorscale\": [[0.0, \"#0d0887\"], [0.1111111111111111, \"#46039f\"], [0.2222222222222222, \"#7201a8\"], [0.3333333333333333, \"#9c179e\"], [0.4444444444444444, \"#bd3786\"], [0.5555555555555556, \"#d8576b\"], [0.6666666666666666, \"#ed7953\"], [0.7777777777777778, \"#fb9f3a\"], [0.8888888888888888, \"#fdca26\"], [1.0, \"#f0f921\"]], \"type\": \"heatmapgl\"}], \"histogram\": [{\"marker\": {\"colorbar\": {\"outlinewidth\": 0, \"ticks\": \"\"}}, \"type\": \"histogram\"}], \"histogram2d\": [{\"colorbar\": {\"outlinewidth\": 0, \"ticks\": \"\"}, \"colorscale\": [[0.0, \"#0d0887\"], [0.1111111111111111, \"#46039f\"], [0.2222222222222222, \"#7201a8\"], [0.3333333333333333, \"#9c179e\"], [0.4444444444444444, \"#bd3786\"], [0.5555555555555556, \"#d8576b\"], [0.6666666666666666, \"#ed7953\"], [0.7777777777777778, \"#fb9f3a\"], [0.8888888888888888, \"#fdca26\"], [1.0, \"#f0f921\"]], \"type\": \"histogram2d\"}], \"histogram2dcontour\": [{\"colorbar\": {\"outlinewidth\": 0, \"ticks\": \"\"}, \"colorscale\": [[0.0, \"#0d0887\"], [0.1111111111111111, \"#46039f\"], [0.2222222222222222, \"#7201a8\"], [0.3333333333333333, \"#9c179e\"], [0.4444444444444444, \"#bd3786\"], [0.5555555555555556, \"#d8576b\"], [0.6666666666666666, \"#ed7953\"], [0.7777777777777778, \"#fb9f3a\"], [0.8888888888888888, \"#fdca26\"], [1.0, \"#f0f921\"]], \"type\": \"histogram2dcontour\"}], \"mesh3d\": [{\"colorbar\": {\"outlinewidth\": 0, \"ticks\": \"\"}, \"type\": \"mesh3d\"}], \"parcoords\": [{\"line\": {\"colorbar\": {\"outlinewidth\": 0, \"ticks\": \"\"}}, \"type\": \"parcoords\"}], \"pie\": [{\"automargin\": true, \"type\": \"pie\"}], \"scatter\": [{\"marker\": {\"colorbar\": {\"outlinewidth\": 0, \"ticks\": \"\"}}, \"type\": \"scatter\"}], \"scatter3d\": [{\"line\": {\"colorbar\": {\"outlinewidth\": 0, \"ticks\": \"\"}}, \"marker\": {\"colorbar\": {\"outlinewidth\": 0, \"ticks\": \"\"}}, \"type\": \"scatter3d\"}], \"scattercarpet\": [{\"marker\": {\"colorbar\": {\"outlinewidth\": 0, \"ticks\": \"\"}}, \"type\": \"scattercarpet\"}], \"scattergeo\": [{\"marker\": {\"colorbar\": {\"outlinewidth\": 0, \"ticks\": \"\"}}, \"type\": \"scattergeo\"}], \"scattergl\": [{\"marker\": {\"colorbar\": {\"outlinewidth\": 0, \"ticks\": \"\"}}, \"type\": \"scattergl\"}], \"scattermapbox\": [{\"marker\": {\"colorbar\": {\"outlinewidth\": 0, \"ticks\": \"\"}}, \"type\": \"scattermapbox\"}], \"scatterpolar\": [{\"marker\": {\"colorbar\": {\"outlinewidth\": 0, \"ticks\": \"\"}}, \"type\": \"scatterpolar\"}], \"scatterpolargl\": [{\"marker\": {\"colorbar\": {\"outlinewidth\": 0, \"ticks\": \"\"}}, \"type\": \"scatterpolargl\"}], \"scatterternary\": [{\"marker\": {\"colorbar\": {\"outlinewidth\": 0, \"ticks\": \"\"}}, \"type\": \"scatterternary\"}], \"surface\": [{\"colorbar\": {\"outlinewidth\": 0, \"ticks\": \"\"}, \"colorscale\": [[0.0, \"#0d0887\"], [0.1111111111111111, \"#46039f\"], [0.2222222222222222, \"#7201a8\"], [0.3333333333333333, \"#9c179e\"], [0.4444444444444444, \"#bd3786\"], [0.5555555555555556, \"#d8576b\"], [0.6666666666666666, \"#ed7953\"], [0.7777777777777778, \"#fb9f3a\"], [0.8888888888888888, \"#fdca26\"], [1.0, \"#f0f921\"]], \"type\": \"surface\"}], \"table\": [{\"cells\": {\"fill\": {\"color\": \"#EBF0F8\"}, \"line\": {\"color\": \"white\"}}, \"header\": {\"fill\": {\"color\": \"#C8D4E3\"}, \"line\": {\"color\": \"white\"}}, \"type\": \"table\"}]}, \"layout\": {\"annotationdefaults\": {\"arrowcolor\": \"#2a3f5f\", \"arrowhead\": 0, \"arrowwidth\": 1}, \"coloraxis\": {\"colorbar\": {\"outlinewidth\": 0, \"ticks\": \"\"}}, \"colorscale\": {\"diverging\": [[0, \"#8e0152\"], [0.1, \"#c51b7d\"], [0.2, \"#de77ae\"], [0.3, \"#f1b6da\"], [0.4, \"#fde0ef\"], [0.5, \"#f7f7f7\"], [0.6, \"#e6f5d0\"], [0.7, \"#b8e186\"], [0.8, \"#7fbc41\"], [0.9, \"#4d9221\"], [1, \"#276419\"]], \"sequential\": [[0.0, \"#0d0887\"], [0.1111111111111111, \"#46039f\"], [0.2222222222222222, \"#7201a8\"], [0.3333333333333333, \"#9c179e\"], [0.4444444444444444, \"#bd3786\"], [0.5555555555555556, \"#d8576b\"], [0.6666666666666666, \"#ed7953\"], [0.7777777777777778, \"#fb9f3a\"], [0.8888888888888888, \"#fdca26\"], [1.0, \"#f0f921\"]], \"sequentialminus\": [[0.0, \"#0d0887\"], [0.1111111111111111, \"#46039f\"], [0.2222222222222222, \"#7201a8\"], [0.3333333333333333, \"#9c179e\"], [0.4444444444444444, \"#bd3786\"], [0.5555555555555556, \"#d8576b\"], [0.6666666666666666, \"#ed7953\"], [0.7777777777777778, \"#fb9f3a\"], [0.8888888888888888, \"#fdca26\"], [1.0, \"#f0f921\"]]}, \"colorway\": [\"#636efa\", \"#EF553B\", \"#00cc96\", \"#ab63fa\", \"#FFA15A\", \"#19d3f3\", \"#FF6692\", \"#B6E880\", \"#FF97FF\", \"#FECB52\"], \"font\": {\"color\": \"#2a3f5f\"}, \"geo\": {\"bgcolor\": \"white\", \"lakecolor\": \"white\", \"landcolor\": \"#E5ECF6\", \"showlakes\": true, \"showland\": true, \"subunitcolor\": \"white\"}, \"hoverlabel\": {\"align\": \"left\"}, \"hovermode\": \"closest\", \"mapbox\": {\"style\": \"light\"}, \"paper_bgcolor\": \"white\", \"plot_bgcolor\": \"#E5ECF6\", \"polar\": {\"angularaxis\": {\"gridcolor\": \"white\", \"linecolor\": \"white\", \"ticks\": \"\"}, \"bgcolor\": \"#E5ECF6\", \"radialaxis\": {\"gridcolor\": \"white\", \"linecolor\": \"white\", \"ticks\": \"\"}}, \"scene\": {\"xaxis\": {\"backgroundcolor\": \"#E5ECF6\", \"gridcolor\": \"white\", \"gridwidth\": 2, \"linecolor\": \"white\", \"showbackground\": true, \"ticks\": \"\", \"zerolinecolor\": \"white\"}, \"yaxis\": {\"backgroundcolor\": \"#E5ECF6\", \"gridcolor\": \"white\", \"gridwidth\": 2, \"linecolor\": \"white\", \"showbackground\": true, \"ticks\": \"\", \"zerolinecolor\": \"white\"}, \"zaxis\": {\"backgroundcolor\": \"#E5ECF6\", \"gridcolor\": \"white\", \"gridwidth\": 2, \"linecolor\": \"white\", \"showbackground\": true, \"ticks\": \"\", \"zerolinecolor\": \"white\"}}, \"shapedefaults\": {\"line\": {\"color\": \"#2a3f5f\"}}, \"ternary\": {\"aaxis\": {\"gridcolor\": \"white\", \"linecolor\": \"white\", \"ticks\": \"\"}, \"baxis\": {\"gridcolor\": \"white\", \"linecolor\": \"white\", \"ticks\": \"\"}, \"bgcolor\": \"#E5ECF6\", \"caxis\": {\"gridcolor\": \"white\", \"linecolor\": \"white\", \"ticks\": \"\"}}, \"title\": {\"x\": 0.05}, \"xaxis\": {\"automargin\": true, \"gridcolor\": \"white\", \"linecolor\": \"white\", \"ticks\": \"\", \"title\": {\"standoff\": 15}, \"zerolinecolor\": \"white\", \"zerolinewidth\": 2}, \"yaxis\": {\"automargin\": true, \"gridcolor\": \"white\", \"linecolor\": \"white\", \"ticks\": \"\", \"title\": {\"standoff\": 15}, \"zerolinecolor\": \"white\", \"zerolinewidth\": 2}}}, \"title\": {\"text\": \"Accuracy by Filter and Feature Engineering\"}, \"xaxis\": {\"anchor\": \"y\", \"categoryorder\": \"total descending\", \"domain\": [0.0, 1.0], \"tickangle\": 45, \"title\": {\"text\": \"Experiment\"}}, \"yaxis\": {\"anchor\": \"x\", \"domain\": [0.0, 1.0], \"title\": {\"text\": \"Accuracy\"}}},\n",
              "                        {\"responsive\": true}\n",
              "                    ).then(function(){\n",
              "                            \n",
              "var gd = document.getElementById('2aa2474a-e0c0-4184-a103-0498e3537185');\n",
              "var x = new MutationObserver(function (mutations, observer) {{\n",
              "        var display = window.getComputedStyle(gd).display;\n",
              "        if (!display || display === 'none') {{\n",
              "            console.log([gd, 'removed!']);\n",
              "            Plotly.purge(gd);\n",
              "            observer.disconnect();\n",
              "        }}\n",
              "}});\n",
              "\n",
              "// Listen for the removal of the full notebook cells\n",
              "var notebookContainer = gd.closest('#notebook-container');\n",
              "if (notebookContainer) {{\n",
              "    x.observe(notebookContainer, {childList: true});\n",
              "}}\n",
              "\n",
              "// Listen for the clearing of the current output cell\n",
              "var outputEl = gd.closest('.output');\n",
              "if (outputEl) {{\n",
              "    x.observe(outputEl, {childList: true});\n",
              "}}\n",
              "\n",
              "                        })\n",
              "                };\n",
              "                \n",
              "            </script>\n",
              "        </div>\n",
              "</body>\n",
              "</html>"
            ]
          },
          "metadata": {}
        }
      ]
    },
    {
      "cell_type": "markdown",
      "source": [
        "# Experiments - NLTK"
      ],
      "metadata": {
        "id": "bje-eKP_X2ww"
      }
    },
    {
      "cell_type": "markdown",
      "metadata": {
        "id": "cZkqlsV8XtDW"
      },
      "source": [
        "## Bayes Classifier - Ngrams"
      ]
    },
    {
      "cell_type": "code",
      "execution_count": 65,
      "metadata": {
        "colab": {
          "base_uri": "https://localhost:8080/"
        },
        "id": "cC6HrJfSXyAS",
        "outputId": "06bd3224-6796-44c2-9b2d-58ba253aae47"
      },
      "outputs": [
        {
          "output_type": "execute_result",
          "data": {
            "text/plain": [
              "0.538"
            ]
          },
          "metadata": {},
          "execution_count": 65
        }
      ],
      "source": [
        "## Training using naive Baysian classifier, training set is 90% of data\n",
        "train_set, test_set = featuresets[500:], featuresets[:500]\n",
        "classifier = nltk.NaiveBayesClassifier.train(train_set)\n",
        "\n",
        "# evaluate the accuracy of the classifier\n",
        "nltk.classify.accuracy(classifier, test_set)\n",
        "\n",
        "# the accuracy result may vary since we randomized the documents"
      ]
    },
    {
      "cell_type": "markdown",
      "source": [
        "## Bayes Classifier - Bigram"
      ],
      "metadata": {
        "id": "g2Oc1-bL-p7J"
      }
    },
    {
      "cell_type": "code",
      "source": [
        "# train a classifier and report accuracy\n",
        "train_set, test_set = bigram_featuresets[500:], bigram_featuresets[:500]\n",
        "classifier = nltk.NaiveBayesClassifier.train(train_set)\n",
        "nltk.classify.accuracy(classifier, test_set)"
      ],
      "metadata": {
        "colab": {
          "base_uri": "https://localhost:8080/"
        },
        "id": "I21Clii5-oIz",
        "outputId": "5fc7fab2-f846-43da-f702-3e4381d243c0"
      },
      "execution_count": 66,
      "outputs": [
        {
          "output_type": "execute_result",
          "data": {
            "text/plain": [
              "0.544"
            ]
          },
          "metadata": {},
          "execution_count": 66
        }
      ]
    },
    {
      "cell_type": "markdown",
      "source": [
        "## Bayes Classifier - POS"
      ],
      "metadata": {
        "id": "ttx4wNq5BETD"
      }
    },
    {
      "cell_type": "code",
      "source": [
        "# train and test the classifier\n",
        "train_set, test_set = POS_featuresets[500:], POS_featuresets[:500]\n",
        "classifier = nltk.NaiveBayesClassifier.train(train_set)\n",
        "nltk.classify.accuracy(classifier, test_set)"
      ],
      "metadata": {
        "colab": {
          "base_uri": "https://localhost:8080/"
        },
        "id": "9Mk-AFKmBDC-",
        "outputId": "69f25bf3-b87c-4b2e-edcc-180d9d27d329"
      },
      "execution_count": 67,
      "outputs": [
        {
          "output_type": "execute_result",
          "data": {
            "text/plain": [
              "0.546"
            ]
          },
          "metadata": {},
          "execution_count": 67
        }
      ]
    },
    {
      "cell_type": "markdown",
      "source": [
        "## Bayes Classifier - Subjectivity Lexicon"
      ],
      "metadata": {
        "id": "3cZZvsc31ZYh"
      }
    },
    {
      "cell_type": "code",
      "source": [
        "# retrain the classifier using these features\n",
        "train_set, test_set = SL_featuresets[500:], SL_featuresets[:500]\n",
        "classifier = nltk.NaiveBayesClassifier.train(train_set)\n",
        "nltk.classify.accuracy(classifier, test_set)"
      ],
      "metadata": {
        "colab": {
          "base_uri": "https://localhost:8080/"
        },
        "id": "0GKPlRmcz83_",
        "outputId": "afda03a5-9494-4250-be71-02cd7807e315"
      },
      "execution_count": 68,
      "outputs": [
        {
          "output_type": "execute_result",
          "data": {
            "text/plain": [
              "0.564"
            ]
          },
          "metadata": {},
          "execution_count": 68
        }
      ]
    },
    {
      "cell_type": "markdown",
      "source": [
        "## Bayes Classifier - LWIC"
      ],
      "metadata": {
        "id": "gH7DfhFGX18F"
      }
    },
    {
      "cell_type": "code",
      "source": [
        "# retrain the classifier using these features\n",
        "train_set, test_set = LIWC_featuresets[500:], LIWC_featuresets[:500]\n",
        "classifier = nltk.NaiveBayesClassifier.train(train_set)\n",
        "nltk.classify.accuracy(classifier, test_set)"
      ],
      "metadata": {
        "colab": {
          "base_uri": "https://localhost:8080/"
        },
        "id": "uz3xCJh9X5oz",
        "outputId": "62113080-dac1-42a7-cfd9-e7a2cafc0c9e"
      },
      "execution_count": 106,
      "outputs": [
        {
          "output_type": "execute_result",
          "data": {
            "text/plain": [
              "0.538"
            ]
          },
          "metadata": {},
          "execution_count": 106
        }
      ]
    },
    {
      "cell_type": "markdown",
      "source": [
        "# Experiments - SklearnClassifier"
      ],
      "metadata": {
        "id": "rOgWQPc69beM"
      }
    },
    {
      "cell_type": "markdown",
      "source": [
        "## Random Forest Classifier - POS"
      ],
      "metadata": {
        "id": "aS4-5OCL9JPs"
      }
    },
    {
      "cell_type": "code",
      "source": [
        "# train a classifier and report accuracy\n",
        "train_set, test_set = POS_featuresets[500:], POS_featuresets[:500]\n",
        "classifier = SklearnClassifier(RandomForestClassifier()).train(train_set)\n",
        "nltk.classify.accuracy(classifier, test_set)"
      ],
      "metadata": {
        "colab": {
          "base_uri": "https://localhost:8080/"
        },
        "id": "G2-IsHxk7Mwe",
        "outputId": "212cd9f2-ea35-4201-dd02-31192dbbd59f"
      },
      "execution_count": 69,
      "outputs": [
        {
          "output_type": "execute_result",
          "data": {
            "text/plain": [
              "0.578"
            ]
          },
          "metadata": {},
          "execution_count": 69
        }
      ]
    },
    {
      "cell_type": "markdown",
      "source": [
        "## Support Vector Machine Classifier - POS"
      ],
      "metadata": {
        "id": "OcsbuRvXDblg"
      }
    },
    {
      "cell_type": "code",
      "source": [
        "# train a classifier and report accuracy\n",
        "train_set, test_set = POS_featuresets[500:], POS_featuresets[:500]\n",
        "classifier = SklearnClassifier(LinearSVC()).train(train_set)\n",
        "nltk.classify.accuracy(classifier, test_set)\n"
      ],
      "metadata": {
        "colab": {
          "base_uri": "https://localhost:8080/"
        },
        "id": "MWCi_vea-ER6",
        "outputId": "dc29f643-1426-4163-beb5-e8f357fb8b78"
      },
      "execution_count": 88,
      "outputs": [
        {
          "output_type": "stream",
          "name": "stderr",
          "text": [
            "/usr/local/lib/python3.7/dist-packages/sklearn/svm/_base.py:1208: ConvergenceWarning:\n",
            "\n",
            "Liblinear failed to converge, increase the number of iterations.\n",
            "\n"
          ]
        },
        {
          "output_type": "execute_result",
          "data": {
            "text/plain": [
              "0.546"
            ]
          },
          "metadata": {},
          "execution_count": 88
        }
      ]
    },
    {
      "cell_type": "markdown",
      "source": [
        "## Droping Features"
      ],
      "metadata": {
        "id": "VSe4ADxsuyJW"
      }
    },
    {
      "cell_type": "code",
      "source": [
        "featuresets = None\n",
        "bigram_featuresets = None\n",
        "LIWC_featuresets = None\n",
        "POS_featuresets = None\n",
        "SL_featuresets = None"
      ],
      "metadata": {
        "id": "ePM9TdrJuxav"
      },
      "execution_count": 129,
      "outputs": []
    },
    {
      "cell_type": "markdown",
      "source": [
        "# Cross Validation"
      ],
      "metadata": {
        "id": "kBw-4w91BWzh"
      }
    },
    {
      "cell_type": "markdown",
      "source": [
        "### Cross Validation Function"
      ],
      "metadata": {
        "id": "wMVt77tmCeU8"
      }
    },
    {
      "cell_type": "code",
      "source": [
        "## cross-validation ##\n",
        "# this function takes the number of folds, the feature sets\n",
        "# it iterates over the folds, using different sections for training and testing in turn\n",
        "#   it prints the accuracy for each fold and the average accuracy at the end\n",
        "\n",
        "def cross_validation_accuracy(num_folds, featuresets):\n",
        "    subset_size = int(len(featuresets)/num_folds)\n",
        "    print('Each fold size:', subset_size)\n",
        "    accuracy_list = []\n",
        "    # iterate over the folds\n",
        "    for i in range(num_folds):\n",
        "        test_this_round = featuresets[(i*subset_size):][:subset_size]\n",
        "        train_this_round = featuresets[:(i*subset_size)] + featuresets[((i+1)*subset_size):]\n",
        "        # train using train_this_round\n",
        "        classifier = nltk.NaiveBayesClassifier.train(train_this_round)\n",
        "        # evaluate against test_this_round and save accuracy\n",
        "        accuracy_this_round = nltk.classify.accuracy(classifier, test_this_round)\n",
        "        print (i, accuracy_this_round)\n",
        "        accuracy_list.append(accuracy_this_round)\n",
        "    # find mean accuracy over all rounds\n",
        "    print ('mean accuracy', sum(accuracy_list) / num_folds)"
      ],
      "metadata": {
        "id": "QBbWU0-UBS3f"
      },
      "execution_count": 69,
      "outputs": []
    },
    {
      "cell_type": "code",
      "source": [
        "len(featuresets)"
      ],
      "metadata": {
        "colab": {
          "base_uri": "https://localhost:8080/"
        },
        "id": "k59zsvLR-p0q",
        "outputId": "c045f99e-a874-45dd-c34e-a51bc873764a"
      },
      "execution_count": 70,
      "outputs": [
        {
          "output_type": "execute_result",
          "data": {
            "text/plain": [
              "7044"
            ]
          },
          "metadata": {},
          "execution_count": 70
        }
      ]
    },
    {
      "cell_type": "markdown",
      "source": [
        "### Unigram Features"
      ],
      "metadata": {
        "id": "tqn7MCwaCPAC"
      }
    },
    {
      "cell_type": "code",
      "source": [
        "# perform the cross-validation on the featuresets with word features and generate accuracy\n",
        "num_folds = 3\n",
        "cross_validation_accuracy(num_folds, featuresets)"
      ],
      "metadata": {
        "colab": {
          "base_uri": "https://localhost:8080/"
        },
        "id": "DPpaHPsYBajW",
        "outputId": "f83a7539-80a1-4890-a740-cfb4af467f84"
      },
      "execution_count": 71,
      "outputs": [
        {
          "output_type": "stream",
          "name": "stdout",
          "text": [
            "Each fold size: 2348\n",
            "0 0.4889267461669506\n",
            "1 0.4735945485519591\n",
            "2 0.479557069846678\n",
            "mean accuracy 0.48069278818852923\n"
          ]
        }
      ]
    },
    {
      "cell_type": "markdown",
      "source": [
        "### Bigram Features"
      ],
      "metadata": {
        "id": "FqmQTI6ACWB4"
      }
    },
    {
      "cell_type": "code",
      "source": [
        "# perform the cross-validation on the featuresets with word features and generate accuracy\n",
        "num_folds = 3\n",
        "cross_validation_accuracy(num_folds, bigram_featuresets)"
      ],
      "metadata": {
        "colab": {
          "base_uri": "https://localhost:8080/"
        },
        "id": "h5LQFH8FBhPj",
        "outputId": "9d10084a-ef62-4a73-d71d-37a904e8b309"
      },
      "execution_count": 73,
      "outputs": [
        {
          "output_type": "stream",
          "name": "stdout",
          "text": [
            "Each fold size: 3332\n",
            "0 0.5195078031212484\n",
            "1 0.5225090036014406\n",
            "2 0.5093037214885955\n",
            "mean accuracy 0.5171068427370948\n"
          ]
        }
      ]
    },
    {
      "cell_type": "markdown",
      "source": [
        "### POS Features"
      ],
      "metadata": {
        "id": "aOE532IxCjIs"
      }
    },
    {
      "cell_type": "code",
      "source": [
        "# perform the cross-validation on the featuresets with word features and generate accuracy\n",
        "num_folds = 3\n",
        "cross_validation_accuracy(num_folds, POS_featuresets)"
      ],
      "metadata": {
        "colab": {
          "base_uri": "https://localhost:8080/"
        },
        "id": "jADaF4ZJCh95",
        "outputId": "39ed1f15-19a9-4803-e0a9-b0a01f056a3a"
      },
      "execution_count": 74,
      "outputs": [
        {
          "output_type": "stream",
          "name": "stdout",
          "text": [
            "Each fold size: 3332\n",
            "0 0.5456182472989196\n",
            "1 0.5312124849939976\n",
            "2 0.508703481392557\n",
            "mean accuracy 0.5285114045618248\n"
          ]
        }
      ]
    },
    {
      "cell_type": "markdown",
      "source": [
        "### Subjectivity Lexicon"
      ],
      "metadata": {
        "id": "zkBULkYdHFdC"
      }
    },
    {
      "cell_type": "code",
      "source": [
        "# perform the cross-validation on the featuresets with word features and generate accuracy\n",
        "num_folds = 3\n",
        "cross_validation_accuracy(num_folds, SL_featuresets)"
      ],
      "metadata": {
        "colab": {
          "base_uri": "https://localhost:8080/"
        },
        "id": "Z05B6NCYCpVa",
        "outputId": "bb7832b7-5042-4fdd-dcdb-b0caed346d98"
      },
      "execution_count": 75,
      "outputs": [
        {
          "output_type": "stream",
          "name": "stdout",
          "text": [
            "Each fold size: 3332\n",
            "0 0.5447178871548619\n",
            "1 0.53031212484994\n",
            "2 0.5177070828331333\n",
            "mean accuracy 0.5309123649459785\n"
          ]
        }
      ]
    },
    {
      "cell_type": "markdown",
      "source": [
        "## Cross Validation - Final"
      ],
      "metadata": {
        "id": "AvFvQVF2_y9u"
      }
    },
    {
      "cell_type": "markdown",
      "source": [
        "### Cross Validation New Function"
      ],
      "metadata": {
        "id": "3YyrCZaNbBeE"
      }
    },
    {
      "cell_type": "code",
      "source": [
        "## cross-validation Naive Bayes##\n",
        "\n",
        "def nltk_cross_validation_accuracy(num_folds, featuresets, experiment):\n",
        "    subset_size = int(len(featuresets)/num_folds)\n",
        "    print('Each fold size:', subset_size)\n",
        "    accuracy_list = []\n",
        "\n",
        "    column_headers = ['Experiment','Fold','Accuracy']\n",
        "    df_crossval = pd.DataFrame(columns=column_headers) \n",
        "\n",
        "    # iterate over the folds\n",
        "    for i in range(num_folds):\n",
        "        test_this_round = featuresets[(i*subset_size):][:subset_size]\n",
        "        train_this_round = featuresets[:(i*subset_size)] + featuresets[((i+1)*subset_size):]\n",
        "        # train using train_this_round\n",
        "        classifier = nltk.NaiveBayesClassifier.train(train_this_round)\n",
        "        # evaluate against test_this_round and save accuracy\n",
        "        accuracy_this_round = nltk.classify.accuracy(classifier, test_this_round)\n",
        "        print (i, accuracy_this_round)\n",
        "        accuracy_list.append(accuracy_this_round)\n",
        "\n",
        "        # Dataframe\n",
        "        Experiment = experiment\n",
        "        Fold = i\n",
        "        a_score = accuracy_this_round\n",
        "\n",
        "        df2 = pd.DataFrame([[Experiment, Fold, a_score]], columns = column_headers)\n",
        "        df_crossval = df_crossval.append(df2, ignore_index=True)\n",
        "\n",
        "    # find mean accuracy over all rounds\n",
        "    print ('mean accuracy', sum(accuracy_list) / num_folds)\n",
        "    return(df_crossval)"
      ],
      "metadata": {
        "id": "Lpmh4IG0qoT6"
      },
      "execution_count": 145,
      "outputs": []
    },
    {
      "cell_type": "code",
      "source": [
        "\n",
        "## cross-validation SciKit Learn##\n",
        "\n",
        "def scikt_cross_validation_accuracy(num_folds, featuresets, experiment):\n",
        "    subset_size = int(len(featuresets)/num_folds)\n",
        "    print('Each fold size:', subset_size)\n",
        "    accuracy_list = []\n",
        "\n",
        "    column_headers = ['Experiment','Fold','Accuracy']\n",
        "    df_crossval = pd.DataFrame(columns=column_headers) \n",
        "\n",
        "    # iterate over the folds\n",
        "    for i in range(num_folds):\n",
        "        test_this_round = featuresets[(i*subset_size):][:subset_size]\n",
        "        train_this_round = featuresets[:(i*subset_size)] + featuresets[((i+1)*subset_size):]\n",
        "        # train using train_this_round\n",
        "        classifier = SklearnClassifier(RandomForestClassifier()).train(train_this_round)\n",
        "        \n",
        "        # evaluate against test_this_round and save accuracy\n",
        "        accuracy_this_round = nltk.classify.accuracy(classifier, test_this_round)\n",
        "        print (i, accuracy_this_round)\n",
        "        accuracy_list.append(accuracy_this_round)\n",
        "\n",
        "        # Dataframe\n",
        "        Experiment = experiment\n",
        "        Fold = i\n",
        "        a_score = accuracy_this_round\n",
        "\n",
        "        df2 = pd.DataFrame([[Experiment, Fold, a_score]], columns = column_headers)\n",
        "        df_crossval = df_crossval.append(df2, ignore_index=True)\n",
        "\n",
        "    # find mean accuracy over all rounds\n",
        "    print ('mean accuracy', sum(accuracy_list) / num_folds)\n",
        "    return(df_crossval)"
      ],
      "metadata": {
        "id": "ibrcxwPEbA1w"
      },
      "execution_count": 146,
      "outputs": []
    },
    {
      "cell_type": "markdown",
      "source": [
        "## Cross Validation Data Frame"
      ],
      "metadata": {
        "id": "vJSgvgQmq29g"
      }
    },
    {
      "cell_type": "markdown",
      "source": [
        "### Setting Up Features to Run"
      ],
      "metadata": {
        "id": "XItdbNCU25iJ"
      }
    },
    {
      "cell_type": "code",
      "source": [
        "\n",
        "# Experiments\n",
        "## LWIC\n",
        "lwic_clean = [(LIWC_features(d, word_features, LIWC_poslist, LIWC_neglist), c) for (d, c) in imbd_clean]\n",
        "\n",
        "## Unigram\n",
        "unigram_clean = [(document_features(d, word_features), c) for (d, c) in imbd_clean]\n",
        "\n",
        "## POS\n",
        "pos_clean = [(POS_features(d, word_features), c) for (d, c) in imbd_clean]\n",
        "\n",
        "## Bigram\n",
        "bigram_clean = [(bigram_document_features(d, word_features, bigram_features), c) for (d, c) in imbd_clean]\n",
        "\n",
        "## Subjectivity\n",
        "SL_stemma = [(SL_features(d, word_features, SL), c) for (d, c) in imbd_stemma]\n",
        "\n"
      ],
      "metadata": {
        "id": "cxFHnld6rJ_r"
      },
      "execution_count": 140,
      "outputs": []
    },
    {
      "cell_type": "markdown",
      "source": [
        "## Cross Val top 5 Accuracy"
      ],
      "metadata": {
        "id": "LvtCq31Z29fp"
      }
    },
    {
      "cell_type": "markdown",
      "source": [
        "### LWIC"
      ],
      "metadata": {
        "id": "Kiyygwa0vn1i"
      }
    },
    {
      "cell_type": "code",
      "source": [
        "# perform the cross-validation on the featuresets with word features and generate accuracy\n",
        "crossval_featuresets = lwic_clean \n",
        "random.shuffle(crossval_featuresets)\n",
        "crossval_featuresets = crossval_featuresets[:3600]\n",
        "\n",
        "num_folds = 12\n",
        "df_lwic_cross = nltk_cross_validation_accuracy(num_folds, crossval_featuresets, 'NLTK - Bayes LWIC Clean')"
      ],
      "metadata": {
        "colab": {
          "base_uri": "https://localhost:8080/"
        },
        "id": "sjiLoCiRbVsV",
        "outputId": "92d4ad29-6b5a-49eb-800d-d395f4cb76fc"
      },
      "execution_count": 163,
      "outputs": [
        {
          "output_type": "stream",
          "name": "stdout",
          "text": [
            "Each fold size: 300\n",
            "0 0.5233333333333333\n",
            "1 0.49666666666666665\n",
            "2 0.5466666666666666\n",
            "3 0.52\n",
            "4 0.5\n",
            "5 0.5133333333333333\n",
            "6 0.5033333333333333\n",
            "7 0.48\n",
            "8 0.5133333333333333\n",
            "9 0.5466666666666666\n",
            "10 0.55\n",
            "11 0.4866666666666667\n",
            "mean accuracy 0.515\n"
          ]
        }
      ]
    },
    {
      "cell_type": "markdown",
      "source": [
        "### Unigram"
      ],
      "metadata": {
        "id": "H96o87frvv_Y"
      }
    },
    {
      "cell_type": "code",
      "source": [
        "# perform the cross-validation on the featuresets with word features and generate accuracy\n",
        "crossval_featuresets = unigram_clean \n",
        "random.shuffle(crossval_featuresets)\n",
        "crossval_featuresets = crossval_featuresets[:3600]\n",
        "\n",
        "num_folds = 12\n",
        "df_unigram_cross = scikt_cross_validation_accuracy(num_folds, crossval_featuresets, 'Scikit - Random Forest Bigram Clean')"
      ],
      "metadata": {
        "colab": {
          "base_uri": "https://localhost:8080/"
        },
        "id": "J6NgMdbKpMuF",
        "outputId": "c34c979d-9390-4a9a-c63b-f4f8dc4c9e79"
      },
      "execution_count": 164,
      "outputs": [
        {
          "output_type": "stream",
          "name": "stdout",
          "text": [
            "Each fold size: 300\n",
            "0 0.5333333333333333\n",
            "1 0.5166666666666667\n",
            "2 0.48\n",
            "3 0.4633333333333333\n",
            "4 0.5166666666666667\n",
            "5 0.47333333333333333\n",
            "6 0.53\n",
            "7 0.47333333333333333\n",
            "8 0.49666666666666665\n",
            "9 0.5466666666666666\n",
            "10 0.5166666666666667\n",
            "11 0.5033333333333333\n",
            "mean accuracy 0.5041666666666667\n"
          ]
        }
      ]
    },
    {
      "cell_type": "markdown",
      "source": [
        "### POS"
      ],
      "metadata": {
        "id": "ZLdDZpRl1S4S"
      }
    },
    {
      "cell_type": "code",
      "source": [
        "# perform the cross-validation on the featuresets with word features and generate accuracy\n",
        "crossval_featuresets = pos_clean \n",
        "random.shuffle(crossval_featuresets)\n",
        "crossval_featuresets = crossval_featuresets[:3600]\n",
        "\n",
        "num_folds = 12\n",
        "df_pos_cross = nltk_cross_validation_accuracy(num_folds, crossval_featuresets, 'NLTK - Bayes POS Clean')"
      ],
      "metadata": {
        "colab": {
          "base_uri": "https://localhost:8080/"
        },
        "id": "bSuQb7Jc1VFn",
        "outputId": "6131dc0e-550a-49d3-aa85-80d5b0baa9d0"
      },
      "execution_count": 165,
      "outputs": [
        {
          "output_type": "stream",
          "name": "stdout",
          "text": [
            "Each fold size: 300\n",
            "0 0.5333333333333333\n",
            "1 0.54\n",
            "2 0.53\n",
            "3 0.52\n",
            "4 0.5033333333333333\n",
            "5 0.53\n",
            "6 0.5333333333333333\n",
            "7 0.5466666666666666\n",
            "8 0.5633333333333334\n",
            "9 0.5266666666666666\n",
            "10 0.48\n",
            "11 0.48333333333333334\n",
            "mean accuracy 0.5241666666666667\n"
          ]
        }
      ]
    },
    {
      "cell_type": "markdown",
      "source": [
        "### SciKit"
      ],
      "metadata": {
        "id": "gsQX-KzC2E18"
      }
    },
    {
      "cell_type": "code",
      "source": [
        "# perform the cross-validation on the featuresets with word features and generate accuracy\n",
        "crossval_featuresets = bigram_clean \n",
        "random.shuffle(crossval_featuresets)\n",
        "crossval_featuresets = crossval_featuresets[:3600]\n",
        "\n",
        "num_folds = 12\n",
        "df_scikit_cross = nltk_cross_validation_accuracy(num_folds, crossval_featuresets, 'NLTK - Bayes Bigram Clean')"
      ],
      "metadata": {
        "colab": {
          "base_uri": "https://localhost:8080/"
        },
        "id": "SaLPTk1f2Ili",
        "outputId": "5daa01da-3968-4f7d-9ea1-6de5e182f316"
      },
      "execution_count": 166,
      "outputs": [
        {
          "output_type": "stream",
          "name": "stdout",
          "text": [
            "Each fold size: 300\n",
            "0 0.45\n",
            "1 0.5333333333333333\n",
            "2 0.5166666666666667\n",
            "3 0.5433333333333333\n",
            "4 0.5233333333333333\n",
            "5 0.55\n",
            "6 0.5333333333333333\n",
            "7 0.5533333333333333\n",
            "8 0.5166666666666667\n",
            "9 0.5633333333333334\n",
            "10 0.5166666666666667\n",
            "11 0.48333333333333334\n",
            "mean accuracy 0.5236111111111111\n"
          ]
        }
      ]
    },
    {
      "cell_type": "markdown",
      "source": [
        "### Subjectivity"
      ],
      "metadata": {
        "id": "5szGesAy1lyF"
      }
    },
    {
      "cell_type": "code",
      "source": [
        "# perform the cross-validation on the featuresets with word features and generate accuracy\n",
        "crossval_featuresets = SL_stemma \n",
        "random.shuffle(crossval_featuresets)\n",
        "crossval_featuresets = crossval_featuresets[:3600]\n",
        "\n",
        "num_folds = 12\n",
        "df_sl_cross = nltk_cross_validation_accuracy(num_folds, crossval_featuresets, 'NLTK - Bayes SL Stemma')"
      ],
      "metadata": {
        "colab": {
          "base_uri": "https://localhost:8080/"
        },
        "id": "lrxB1b_21oPt",
        "outputId": "c7a0da78-3ac8-4e97-c960-45f6ff9cf495"
      },
      "execution_count": 167,
      "outputs": [
        {
          "output_type": "stream",
          "name": "stdout",
          "text": [
            "Each fold size: 300\n",
            "0 0.45666666666666667\n",
            "1 0.4633333333333333\n",
            "2 0.45666666666666667\n",
            "3 0.4533333333333333\n",
            "4 0.4533333333333333\n",
            "5 0.4633333333333333\n",
            "6 0.45\n",
            "7 0.47\n",
            "8 0.5066666666666667\n",
            "9 0.4666666666666667\n",
            "10 0.4533333333333333\n",
            "11 0.49666666666666665\n",
            "mean accuracy 0.4658333333333334\n"
          ]
        }
      ]
    },
    {
      "cell_type": "markdown",
      "source": [
        "## Final CrossVal"
      ],
      "metadata": {
        "id": "CW8rdYhKv1UT"
      }
    },
    {
      "cell_type": "code",
      "source": [
        "df_full_cross = df_lwic_cross.append(df_unigram_cross, ignore_index=True)\n",
        "df_full_cross = df_full_cross.append(df_pos_cross, ignore_index=True)\n",
        "df_full_cross = df_full_cross.append(df_scikit_cross, ignore_index=True)\n",
        "df_full_cross = df_full_cross.append(df_sl_cross, ignore_index=True)"
      ],
      "metadata": {
        "id": "o-u81r_Kv0-f"
      },
      "execution_count": 168,
      "outputs": []
    },
    {
      "cell_type": "code",
      "source": [
        "df_full_cross[:12]"
      ],
      "metadata": {
        "colab": {
          "base_uri": "https://localhost:8080/",
          "height": 426
        },
        "id": "SkTeitJq0z8V",
        "outputId": "1ab87d11-c067-4634-a19d-61aaed779813"
      },
      "execution_count": 169,
      "outputs": [
        {
          "output_type": "execute_result",
          "data": {
            "text/html": [
              "\n",
              "  <div id=\"df-90d58368-5cd2-4c04-8c86-995404ee1326\">\n",
              "    <div class=\"colab-df-container\">\n",
              "      <div>\n",
              "<style scoped>\n",
              "    .dataframe tbody tr th:only-of-type {\n",
              "        vertical-align: middle;\n",
              "    }\n",
              "\n",
              "    .dataframe tbody tr th {\n",
              "        vertical-align: top;\n",
              "    }\n",
              "\n",
              "    .dataframe thead th {\n",
              "        text-align: right;\n",
              "    }\n",
              "</style>\n",
              "<table border=\"1\" class=\"dataframe\">\n",
              "  <thead>\n",
              "    <tr style=\"text-align: right;\">\n",
              "      <th></th>\n",
              "      <th>Experiment</th>\n",
              "      <th>Fold</th>\n",
              "      <th>Accuracy</th>\n",
              "    </tr>\n",
              "  </thead>\n",
              "  <tbody>\n",
              "    <tr>\n",
              "      <th>0</th>\n",
              "      <td>NLTK - Bayes LWIC Clean</td>\n",
              "      <td>0</td>\n",
              "      <td>0.523333</td>\n",
              "    </tr>\n",
              "    <tr>\n",
              "      <th>1</th>\n",
              "      <td>NLTK - Bayes LWIC Clean</td>\n",
              "      <td>1</td>\n",
              "      <td>0.496667</td>\n",
              "    </tr>\n",
              "    <tr>\n",
              "      <th>2</th>\n",
              "      <td>NLTK - Bayes LWIC Clean</td>\n",
              "      <td>2</td>\n",
              "      <td>0.546667</td>\n",
              "    </tr>\n",
              "    <tr>\n",
              "      <th>3</th>\n",
              "      <td>NLTK - Bayes LWIC Clean</td>\n",
              "      <td>3</td>\n",
              "      <td>0.520000</td>\n",
              "    </tr>\n",
              "    <tr>\n",
              "      <th>4</th>\n",
              "      <td>NLTK - Bayes LWIC Clean</td>\n",
              "      <td>4</td>\n",
              "      <td>0.500000</td>\n",
              "    </tr>\n",
              "    <tr>\n",
              "      <th>5</th>\n",
              "      <td>NLTK - Bayes LWIC Clean</td>\n",
              "      <td>5</td>\n",
              "      <td>0.513333</td>\n",
              "    </tr>\n",
              "    <tr>\n",
              "      <th>6</th>\n",
              "      <td>NLTK - Bayes LWIC Clean</td>\n",
              "      <td>6</td>\n",
              "      <td>0.503333</td>\n",
              "    </tr>\n",
              "    <tr>\n",
              "      <th>7</th>\n",
              "      <td>NLTK - Bayes LWIC Clean</td>\n",
              "      <td>7</td>\n",
              "      <td>0.480000</td>\n",
              "    </tr>\n",
              "    <tr>\n",
              "      <th>8</th>\n",
              "      <td>NLTK - Bayes LWIC Clean</td>\n",
              "      <td>8</td>\n",
              "      <td>0.513333</td>\n",
              "    </tr>\n",
              "    <tr>\n",
              "      <th>9</th>\n",
              "      <td>NLTK - Bayes LWIC Clean</td>\n",
              "      <td>9</td>\n",
              "      <td>0.546667</td>\n",
              "    </tr>\n",
              "    <tr>\n",
              "      <th>10</th>\n",
              "      <td>NLTK - Bayes LWIC Clean</td>\n",
              "      <td>10</td>\n",
              "      <td>0.550000</td>\n",
              "    </tr>\n",
              "    <tr>\n",
              "      <th>11</th>\n",
              "      <td>NLTK - Bayes LWIC Clean</td>\n",
              "      <td>11</td>\n",
              "      <td>0.486667</td>\n",
              "    </tr>\n",
              "  </tbody>\n",
              "</table>\n",
              "</div>\n",
              "      <button class=\"colab-df-convert\" onclick=\"convertToInteractive('df-90d58368-5cd2-4c04-8c86-995404ee1326')\"\n",
              "              title=\"Convert this dataframe to an interactive table.\"\n",
              "              style=\"display:none;\">\n",
              "        \n",
              "  <svg xmlns=\"http://www.w3.org/2000/svg\" height=\"24px\"viewBox=\"0 0 24 24\"\n",
              "       width=\"24px\">\n",
              "    <path d=\"M0 0h24v24H0V0z\" fill=\"none\"/>\n",
              "    <path d=\"M18.56 5.44l.94 2.06.94-2.06 2.06-.94-2.06-.94-.94-2.06-.94 2.06-2.06.94zm-11 1L8.5 8.5l.94-2.06 2.06-.94-2.06-.94L8.5 2.5l-.94 2.06-2.06.94zm10 10l.94 2.06.94-2.06 2.06-.94-2.06-.94-.94-2.06-.94 2.06-2.06.94z\"/><path d=\"M17.41 7.96l-1.37-1.37c-.4-.4-.92-.59-1.43-.59-.52 0-1.04.2-1.43.59L10.3 9.45l-7.72 7.72c-.78.78-.78 2.05 0 2.83L4 21.41c.39.39.9.59 1.41.59.51 0 1.02-.2 1.41-.59l7.78-7.78 2.81-2.81c.8-.78.8-2.07 0-2.86zM5.41 20L4 18.59l7.72-7.72 1.47 1.35L5.41 20z\"/>\n",
              "  </svg>\n",
              "      </button>\n",
              "      \n",
              "  <style>\n",
              "    .colab-df-container {\n",
              "      display:flex;\n",
              "      flex-wrap:wrap;\n",
              "      gap: 12px;\n",
              "    }\n",
              "\n",
              "    .colab-df-convert {\n",
              "      background-color: #E8F0FE;\n",
              "      border: none;\n",
              "      border-radius: 50%;\n",
              "      cursor: pointer;\n",
              "      display: none;\n",
              "      fill: #1967D2;\n",
              "      height: 32px;\n",
              "      padding: 0 0 0 0;\n",
              "      width: 32px;\n",
              "    }\n",
              "\n",
              "    .colab-df-convert:hover {\n",
              "      background-color: #E2EBFA;\n",
              "      box-shadow: 0px 1px 2px rgba(60, 64, 67, 0.3), 0px 1px 3px 1px rgba(60, 64, 67, 0.15);\n",
              "      fill: #174EA6;\n",
              "    }\n",
              "\n",
              "    [theme=dark] .colab-df-convert {\n",
              "      background-color: #3B4455;\n",
              "      fill: #D2E3FC;\n",
              "    }\n",
              "\n",
              "    [theme=dark] .colab-df-convert:hover {\n",
              "      background-color: #434B5C;\n",
              "      box-shadow: 0px 1px 3px 1px rgba(0, 0, 0, 0.15);\n",
              "      filter: drop-shadow(0px 1px 2px rgba(0, 0, 0, 0.3));\n",
              "      fill: #FFFFFF;\n",
              "    }\n",
              "  </style>\n",
              "\n",
              "      <script>\n",
              "        const buttonEl =\n",
              "          document.querySelector('#df-90d58368-5cd2-4c04-8c86-995404ee1326 button.colab-df-convert');\n",
              "        buttonEl.style.display =\n",
              "          google.colab.kernel.accessAllowed ? 'block' : 'none';\n",
              "\n",
              "        async function convertToInteractive(key) {\n",
              "          const element = document.querySelector('#df-90d58368-5cd2-4c04-8c86-995404ee1326');\n",
              "          const dataTable =\n",
              "            await google.colab.kernel.invokeFunction('convertToInteractive',\n",
              "                                                     [key], {});\n",
              "          if (!dataTable) return;\n",
              "\n",
              "          const docLinkHtml = 'Like what you see? Visit the ' +\n",
              "            '<a target=\"_blank\" href=https://colab.research.google.com/notebooks/data_table.ipynb>data table notebook</a>'\n",
              "            + ' to learn more about interactive tables.';\n",
              "          element.innerHTML = '';\n",
              "          dataTable['output_type'] = 'display_data';\n",
              "          await google.colab.output.renderOutput(dataTable, element);\n",
              "          const docLink = document.createElement('div');\n",
              "          docLink.innerHTML = docLinkHtml;\n",
              "          element.appendChild(docLink);\n",
              "        }\n",
              "      </script>\n",
              "    </div>\n",
              "  </div>\n",
              "  "
            ],
            "text/plain": [
              "                 Experiment Fold  Accuracy\n",
              "0   NLTK - Bayes LWIC Clean    0  0.523333\n",
              "1   NLTK - Bayes LWIC Clean    1  0.496667\n",
              "2   NLTK - Bayes LWIC Clean    2  0.546667\n",
              "3   NLTK - Bayes LWIC Clean    3  0.520000\n",
              "4   NLTK - Bayes LWIC Clean    4  0.500000\n",
              "5   NLTK - Bayes LWIC Clean    5  0.513333\n",
              "6   NLTK - Bayes LWIC Clean    6  0.503333\n",
              "7   NLTK - Bayes LWIC Clean    7  0.480000\n",
              "8   NLTK - Bayes LWIC Clean    8  0.513333\n",
              "9   NLTK - Bayes LWIC Clean    9  0.546667\n",
              "10  NLTK - Bayes LWIC Clean   10  0.550000\n",
              "11  NLTK - Bayes LWIC Clean   11  0.486667"
            ]
          },
          "metadata": {},
          "execution_count": 169
        }
      ]
    },
    {
      "cell_type": "code",
      "source": [
        "df_agg_cross = df_full_cross\n",
        "df_agg_cross[\"Avg Accuracy\"] = df_agg_cross[\"Accuracy\"]\n",
        "df_agg_cross[\"Stdv Accuracy\"] = df_agg_cross[\"Accuracy\"]\n",
        "\n",
        "df_agg_cross = df_agg_cross.groupby([\"Experiment\"]).agg(\n",
        "                                                        {\n",
        "                                                          \"Avg Accuracy\":np.mean,\n",
        "                                                          \"Stdv Accuracy\":np.std\n",
        "                                                         }\n",
        "                  ).reset_index()\n",
        "\n",
        "df_agg_cross"
      ],
      "metadata": {
        "colab": {
          "base_uri": "https://localhost:8080/",
          "height": 206
        },
        "id": "2DAMrv-1_lqP",
        "outputId": "73ae481f-ef83-4362-c508-7f2f5591a096"
      },
      "execution_count": 178,
      "outputs": [
        {
          "output_type": "execute_result",
          "data": {
            "text/html": [
              "\n",
              "  <div id=\"df-09569e63-481c-4e2b-b018-c081f7348f05\">\n",
              "    <div class=\"colab-df-container\">\n",
              "      <div>\n",
              "<style scoped>\n",
              "    .dataframe tbody tr th:only-of-type {\n",
              "        vertical-align: middle;\n",
              "    }\n",
              "\n",
              "    .dataframe tbody tr th {\n",
              "        vertical-align: top;\n",
              "    }\n",
              "\n",
              "    .dataframe thead th {\n",
              "        text-align: right;\n",
              "    }\n",
              "</style>\n",
              "<table border=\"1\" class=\"dataframe\">\n",
              "  <thead>\n",
              "    <tr style=\"text-align: right;\">\n",
              "      <th></th>\n",
              "      <th>Experiment</th>\n",
              "      <th>Avg Accuracy</th>\n",
              "      <th>Stdv Accuracy</th>\n",
              "    </tr>\n",
              "  </thead>\n",
              "  <tbody>\n",
              "    <tr>\n",
              "      <th>0</th>\n",
              "      <td>NLTK - Bayes Bigram Clean</td>\n",
              "      <td>0.523611</td>\n",
              "      <td>0.031509</td>\n",
              "    </tr>\n",
              "    <tr>\n",
              "      <th>1</th>\n",
              "      <td>NLTK - Bayes LWIC Clean</td>\n",
              "      <td>0.515000</td>\n",
              "      <td>0.023463</td>\n",
              "    </tr>\n",
              "    <tr>\n",
              "      <th>2</th>\n",
              "      <td>NLTK - Bayes POS Clean</td>\n",
              "      <td>0.524167</td>\n",
              "      <td>0.024500</td>\n",
              "    </tr>\n",
              "    <tr>\n",
              "      <th>3</th>\n",
              "      <td>NLTK - Bayes SL Stemma</td>\n",
              "      <td>0.465833</td>\n",
              "      <td>0.017929</td>\n",
              "    </tr>\n",
              "    <tr>\n",
              "      <th>4</th>\n",
              "      <td>Scikit - Random Forest Bigram Clean</td>\n",
              "      <td>0.504167</td>\n",
              "      <td>0.026973</td>\n",
              "    </tr>\n",
              "  </tbody>\n",
              "</table>\n",
              "</div>\n",
              "      <button class=\"colab-df-convert\" onclick=\"convertToInteractive('df-09569e63-481c-4e2b-b018-c081f7348f05')\"\n",
              "              title=\"Convert this dataframe to an interactive table.\"\n",
              "              style=\"display:none;\">\n",
              "        \n",
              "  <svg xmlns=\"http://www.w3.org/2000/svg\" height=\"24px\"viewBox=\"0 0 24 24\"\n",
              "       width=\"24px\">\n",
              "    <path d=\"M0 0h24v24H0V0z\" fill=\"none\"/>\n",
              "    <path d=\"M18.56 5.44l.94 2.06.94-2.06 2.06-.94-2.06-.94-.94-2.06-.94 2.06-2.06.94zm-11 1L8.5 8.5l.94-2.06 2.06-.94-2.06-.94L8.5 2.5l-.94 2.06-2.06.94zm10 10l.94 2.06.94-2.06 2.06-.94-2.06-.94-.94-2.06-.94 2.06-2.06.94z\"/><path d=\"M17.41 7.96l-1.37-1.37c-.4-.4-.92-.59-1.43-.59-.52 0-1.04.2-1.43.59L10.3 9.45l-7.72 7.72c-.78.78-.78 2.05 0 2.83L4 21.41c.39.39.9.59 1.41.59.51 0 1.02-.2 1.41-.59l7.78-7.78 2.81-2.81c.8-.78.8-2.07 0-2.86zM5.41 20L4 18.59l7.72-7.72 1.47 1.35L5.41 20z\"/>\n",
              "  </svg>\n",
              "      </button>\n",
              "      \n",
              "  <style>\n",
              "    .colab-df-container {\n",
              "      display:flex;\n",
              "      flex-wrap:wrap;\n",
              "      gap: 12px;\n",
              "    }\n",
              "\n",
              "    .colab-df-convert {\n",
              "      background-color: #E8F0FE;\n",
              "      border: none;\n",
              "      border-radius: 50%;\n",
              "      cursor: pointer;\n",
              "      display: none;\n",
              "      fill: #1967D2;\n",
              "      height: 32px;\n",
              "      padding: 0 0 0 0;\n",
              "      width: 32px;\n",
              "    }\n",
              "\n",
              "    .colab-df-convert:hover {\n",
              "      background-color: #E2EBFA;\n",
              "      box-shadow: 0px 1px 2px rgba(60, 64, 67, 0.3), 0px 1px 3px 1px rgba(60, 64, 67, 0.15);\n",
              "      fill: #174EA6;\n",
              "    }\n",
              "\n",
              "    [theme=dark] .colab-df-convert {\n",
              "      background-color: #3B4455;\n",
              "      fill: #D2E3FC;\n",
              "    }\n",
              "\n",
              "    [theme=dark] .colab-df-convert:hover {\n",
              "      background-color: #434B5C;\n",
              "      box-shadow: 0px 1px 3px 1px rgba(0, 0, 0, 0.15);\n",
              "      filter: drop-shadow(0px 1px 2px rgba(0, 0, 0, 0.3));\n",
              "      fill: #FFFFFF;\n",
              "    }\n",
              "  </style>\n",
              "\n",
              "      <script>\n",
              "        const buttonEl =\n",
              "          document.querySelector('#df-09569e63-481c-4e2b-b018-c081f7348f05 button.colab-df-convert');\n",
              "        buttonEl.style.display =\n",
              "          google.colab.kernel.accessAllowed ? 'block' : 'none';\n",
              "\n",
              "        async function convertToInteractive(key) {\n",
              "          const element = document.querySelector('#df-09569e63-481c-4e2b-b018-c081f7348f05');\n",
              "          const dataTable =\n",
              "            await google.colab.kernel.invokeFunction('convertToInteractive',\n",
              "                                                     [key], {});\n",
              "          if (!dataTable) return;\n",
              "\n",
              "          const docLinkHtml = 'Like what you see? Visit the ' +\n",
              "            '<a target=\"_blank\" href=https://colab.research.google.com/notebooks/data_table.ipynb>data table notebook</a>'\n",
              "            + ' to learn more about interactive tables.';\n",
              "          element.innerHTML = '';\n",
              "          dataTable['output_type'] = 'display_data';\n",
              "          await google.colab.output.renderOutput(dataTable, element);\n",
              "          const docLink = document.createElement('div');\n",
              "          docLink.innerHTML = docLinkHtml;\n",
              "          element.appendChild(docLink);\n",
              "        }\n",
              "      </script>\n",
              "    </div>\n",
              "  </div>\n",
              "  "
            ],
            "text/plain": [
              "                            Experiment  Avg Accuracy  Stdv Accuracy\n",
              "0            NLTK - Bayes Bigram Clean      0.523611       0.031509\n",
              "1              NLTK - Bayes LWIC Clean      0.515000       0.023463\n",
              "2               NLTK - Bayes POS Clean      0.524167       0.024500\n",
              "3               NLTK - Bayes SL Stemma      0.465833       0.017929\n",
              "4  Scikit - Random Forest Bigram Clean      0.504167       0.026973"
            ]
          },
          "metadata": {},
          "execution_count": 178
        }
      ]
    },
    {
      "cell_type": "code",
      "source": [
        "px.box(df_full_cross, x=\"Experiment\", y=\"Accuracy\")"
      ],
      "metadata": {
        "colab": {
          "base_uri": "https://localhost:8080/",
          "height": 542
        },
        "id": "qanygrnE1QBA",
        "outputId": "2e178962-4131-4e0b-9088-e9f93d8121b5"
      },
      "execution_count": 179,
      "outputs": [
        {
          "output_type": "display_data",
          "data": {
            "text/html": [
              "<html>\n",
              "<head><meta charset=\"utf-8\" /></head>\n",
              "<body>\n",
              "    <div>\n",
              "            <script src=\"https://cdnjs.cloudflare.com/ajax/libs/mathjax/2.7.5/MathJax.js?config=TeX-AMS-MML_SVG\"></script><script type=\"text/javascript\">if (window.MathJax) {MathJax.Hub.Config({SVG: {font: \"STIX-Web\"}});}</script>\n",
              "                <script type=\"text/javascript\">window.PlotlyConfig = {MathJaxConfig: 'local'};</script>\n",
              "        <script src=\"https://cdn.plot.ly/plotly-latest.min.js\"></script>    \n",
              "            <div id=\"487dbb3e-dae5-4880-b740-78694e44517b\" class=\"plotly-graph-div\" style=\"height:525px; width:100%;\"></div>\n",
              "            <script type=\"text/javascript\">\n",
              "                \n",
              "                    window.PLOTLYENV=window.PLOTLYENV || {};\n",
              "                    \n",
              "                if (document.getElementById(\"487dbb3e-dae5-4880-b740-78694e44517b\")) {\n",
              "                    Plotly.newPlot(\n",
              "                        '487dbb3e-dae5-4880-b740-78694e44517b',\n",
              "                        [{\"alignmentgroup\": \"True\", \"hoverlabel\": {\"namelength\": 0}, \"hovertemplate\": \"Experiment=%{x}<br>Accuracy=%{y}\", \"legendgroup\": \"\", \"marker\": {\"color\": \"#636efa\"}, \"name\": \"\", \"notched\": false, \"offsetgroup\": \"\", \"orientation\": \"v\", \"showlegend\": false, \"type\": \"box\", \"x\": [\"NLTK - Bayes LWIC Clean\", \"NLTK - Bayes LWIC Clean\", \"NLTK - Bayes LWIC Clean\", \"NLTK - Bayes LWIC Clean\", \"NLTK - Bayes LWIC Clean\", \"NLTK - Bayes LWIC Clean\", \"NLTK - Bayes LWIC Clean\", \"NLTK - Bayes LWIC Clean\", \"NLTK - Bayes LWIC Clean\", \"NLTK - Bayes LWIC Clean\", \"NLTK - Bayes LWIC Clean\", \"NLTK - Bayes LWIC Clean\", \"Scikit - Random Forest Bigram Clean\", \"Scikit - Random Forest Bigram Clean\", \"Scikit - Random Forest Bigram Clean\", \"Scikit - Random Forest Bigram Clean\", \"Scikit - Random Forest Bigram Clean\", \"Scikit - Random Forest Bigram Clean\", \"Scikit - Random Forest Bigram Clean\", \"Scikit - Random Forest Bigram Clean\", \"Scikit - Random Forest Bigram Clean\", \"Scikit - Random Forest Bigram Clean\", \"Scikit - Random Forest Bigram Clean\", \"Scikit - Random Forest Bigram Clean\", \"NLTK - Bayes POS Clean\", \"NLTK - Bayes POS Clean\", \"NLTK - Bayes POS Clean\", \"NLTK - Bayes POS Clean\", \"NLTK - Bayes POS Clean\", \"NLTK - Bayes POS Clean\", \"NLTK - Bayes POS Clean\", \"NLTK - Bayes POS Clean\", \"NLTK - Bayes POS Clean\", \"NLTK - Bayes POS Clean\", \"NLTK - Bayes POS Clean\", \"NLTK - Bayes POS Clean\", \"NLTK - Bayes Bigram Clean\", \"NLTK - Bayes Bigram Clean\", \"NLTK - Bayes Bigram Clean\", \"NLTK - Bayes Bigram Clean\", \"NLTK - Bayes Bigram Clean\", \"NLTK - Bayes Bigram Clean\", \"NLTK - Bayes Bigram Clean\", \"NLTK - Bayes Bigram Clean\", \"NLTK - Bayes Bigram Clean\", \"NLTK - Bayes Bigram Clean\", \"NLTK - Bayes Bigram Clean\", \"NLTK - Bayes Bigram Clean\", \"NLTK - Bayes SL Stemma\", \"NLTK - Bayes SL Stemma\", \"NLTK - Bayes SL Stemma\", \"NLTK - Bayes SL Stemma\", \"NLTK - Bayes SL Stemma\", \"NLTK - Bayes SL Stemma\", \"NLTK - Bayes SL Stemma\", \"NLTK - Bayes SL Stemma\", \"NLTK - Bayes SL Stemma\", \"NLTK - Bayes SL Stemma\", \"NLTK - Bayes SL Stemma\", \"NLTK - Bayes SL Stemma\"], \"x0\": \" \", \"xaxis\": \"x\", \"y\": [0.5233333333333333, 0.49666666666666665, 0.5466666666666666, 0.52, 0.5, 0.5133333333333333, 0.5033333333333333, 0.48, 0.5133333333333333, 0.5466666666666666, 0.55, 0.4866666666666667, 0.5333333333333333, 0.5166666666666667, 0.48, 0.4633333333333333, 0.5166666666666667, 0.47333333333333333, 0.53, 0.47333333333333333, 0.49666666666666665, 0.5466666666666666, 0.5166666666666667, 0.5033333333333333, 0.5333333333333333, 0.54, 0.53, 0.52, 0.5033333333333333, 0.53, 0.5333333333333333, 0.5466666666666666, 0.5633333333333334, 0.5266666666666666, 0.48, 0.48333333333333334, 0.45, 0.5333333333333333, 0.5166666666666667, 0.5433333333333333, 0.5233333333333333, 0.55, 0.5333333333333333, 0.5533333333333333, 0.5166666666666667, 0.5633333333333334, 0.5166666666666667, 0.48333333333333334, 0.45666666666666667, 0.4633333333333333, 0.45666666666666667, 0.4533333333333333, 0.4533333333333333, 0.4633333333333333, 0.45, 0.47, 0.5066666666666667, 0.4666666666666667, 0.4533333333333333, 0.49666666666666665], \"y0\": \" \", \"yaxis\": \"y\"}],\n",
              "                        {\"boxmode\": \"group\", \"legend\": {\"tracegroupgap\": 0}, \"margin\": {\"t\": 60}, \"template\": {\"data\": {\"bar\": [{\"error_x\": {\"color\": \"#2a3f5f\"}, \"error_y\": {\"color\": \"#2a3f5f\"}, \"marker\": {\"line\": {\"color\": \"#E5ECF6\", \"width\": 0.5}}, \"type\": \"bar\"}], \"barpolar\": [{\"marker\": {\"line\": {\"color\": \"#E5ECF6\", \"width\": 0.5}}, \"type\": \"barpolar\"}], \"carpet\": [{\"aaxis\": {\"endlinecolor\": \"#2a3f5f\", \"gridcolor\": \"white\", \"linecolor\": \"white\", \"minorgridcolor\": \"white\", \"startlinecolor\": \"#2a3f5f\"}, \"baxis\": {\"endlinecolor\": \"#2a3f5f\", \"gridcolor\": \"white\", \"linecolor\": \"white\", \"minorgridcolor\": \"white\", \"startlinecolor\": \"#2a3f5f\"}, \"type\": \"carpet\"}], \"choropleth\": [{\"colorbar\": {\"outlinewidth\": 0, \"ticks\": \"\"}, \"type\": \"choropleth\"}], \"contour\": [{\"colorbar\": {\"outlinewidth\": 0, \"ticks\": \"\"}, \"colorscale\": [[0.0, \"#0d0887\"], [0.1111111111111111, \"#46039f\"], [0.2222222222222222, \"#7201a8\"], [0.3333333333333333, \"#9c179e\"], [0.4444444444444444, \"#bd3786\"], [0.5555555555555556, \"#d8576b\"], [0.6666666666666666, \"#ed7953\"], [0.7777777777777778, \"#fb9f3a\"], [0.8888888888888888, \"#fdca26\"], [1.0, \"#f0f921\"]], \"type\": \"contour\"}], \"contourcarpet\": [{\"colorbar\": {\"outlinewidth\": 0, \"ticks\": \"\"}, \"type\": \"contourcarpet\"}], \"heatmap\": [{\"colorbar\": {\"outlinewidth\": 0, \"ticks\": \"\"}, \"colorscale\": [[0.0, \"#0d0887\"], [0.1111111111111111, \"#46039f\"], [0.2222222222222222, \"#7201a8\"], [0.3333333333333333, \"#9c179e\"], [0.4444444444444444, \"#bd3786\"], [0.5555555555555556, \"#d8576b\"], [0.6666666666666666, \"#ed7953\"], [0.7777777777777778, \"#fb9f3a\"], [0.8888888888888888, \"#fdca26\"], [1.0, \"#f0f921\"]], \"type\": \"heatmap\"}], \"heatmapgl\": [{\"colorbar\": {\"outlinewidth\": 0, \"ticks\": \"\"}, \"colorscale\": [[0.0, \"#0d0887\"], [0.1111111111111111, \"#46039f\"], [0.2222222222222222, \"#7201a8\"], [0.3333333333333333, \"#9c179e\"], [0.4444444444444444, \"#bd3786\"], [0.5555555555555556, \"#d8576b\"], [0.6666666666666666, \"#ed7953\"], [0.7777777777777778, \"#fb9f3a\"], [0.8888888888888888, \"#fdca26\"], [1.0, \"#f0f921\"]], \"type\": \"heatmapgl\"}], \"histogram\": [{\"marker\": {\"colorbar\": {\"outlinewidth\": 0, \"ticks\": \"\"}}, \"type\": \"histogram\"}], \"histogram2d\": [{\"colorbar\": {\"outlinewidth\": 0, \"ticks\": \"\"}, \"colorscale\": [[0.0, \"#0d0887\"], [0.1111111111111111, \"#46039f\"], [0.2222222222222222, \"#7201a8\"], [0.3333333333333333, \"#9c179e\"], [0.4444444444444444, \"#bd3786\"], [0.5555555555555556, \"#d8576b\"], [0.6666666666666666, \"#ed7953\"], [0.7777777777777778, \"#fb9f3a\"], [0.8888888888888888, \"#fdca26\"], [1.0, \"#f0f921\"]], \"type\": \"histogram2d\"}], \"histogram2dcontour\": [{\"colorbar\": {\"outlinewidth\": 0, \"ticks\": \"\"}, \"colorscale\": [[0.0, \"#0d0887\"], [0.1111111111111111, \"#46039f\"], [0.2222222222222222, \"#7201a8\"], [0.3333333333333333, \"#9c179e\"], [0.4444444444444444, \"#bd3786\"], [0.5555555555555556, \"#d8576b\"], [0.6666666666666666, \"#ed7953\"], [0.7777777777777778, \"#fb9f3a\"], [0.8888888888888888, \"#fdca26\"], [1.0, \"#f0f921\"]], \"type\": \"histogram2dcontour\"}], \"mesh3d\": [{\"colorbar\": {\"outlinewidth\": 0, \"ticks\": \"\"}, \"type\": \"mesh3d\"}], \"parcoords\": [{\"line\": {\"colorbar\": {\"outlinewidth\": 0, \"ticks\": \"\"}}, \"type\": \"parcoords\"}], \"pie\": [{\"automargin\": true, \"type\": \"pie\"}], \"scatter\": [{\"marker\": {\"colorbar\": {\"outlinewidth\": 0, \"ticks\": \"\"}}, \"type\": \"scatter\"}], \"scatter3d\": [{\"line\": {\"colorbar\": {\"outlinewidth\": 0, \"ticks\": \"\"}}, \"marker\": {\"colorbar\": {\"outlinewidth\": 0, \"ticks\": \"\"}}, \"type\": \"scatter3d\"}], \"scattercarpet\": [{\"marker\": {\"colorbar\": {\"outlinewidth\": 0, \"ticks\": \"\"}}, \"type\": \"scattercarpet\"}], \"scattergeo\": [{\"marker\": {\"colorbar\": {\"outlinewidth\": 0, \"ticks\": \"\"}}, \"type\": \"scattergeo\"}], \"scattergl\": [{\"marker\": {\"colorbar\": {\"outlinewidth\": 0, \"ticks\": \"\"}}, \"type\": \"scattergl\"}], \"scattermapbox\": [{\"marker\": {\"colorbar\": {\"outlinewidth\": 0, \"ticks\": \"\"}}, \"type\": \"scattermapbox\"}], \"scatterpolar\": [{\"marker\": {\"colorbar\": {\"outlinewidth\": 0, \"ticks\": \"\"}}, \"type\": \"scatterpolar\"}], \"scatterpolargl\": [{\"marker\": {\"colorbar\": {\"outlinewidth\": 0, \"ticks\": \"\"}}, \"type\": \"scatterpolargl\"}], \"scatterternary\": [{\"marker\": {\"colorbar\": {\"outlinewidth\": 0, \"ticks\": \"\"}}, \"type\": \"scatterternary\"}], \"surface\": [{\"colorbar\": {\"outlinewidth\": 0, \"ticks\": \"\"}, \"colorscale\": [[0.0, \"#0d0887\"], [0.1111111111111111, \"#46039f\"], [0.2222222222222222, \"#7201a8\"], [0.3333333333333333, \"#9c179e\"], [0.4444444444444444, \"#bd3786\"], [0.5555555555555556, \"#d8576b\"], [0.6666666666666666, \"#ed7953\"], [0.7777777777777778, \"#fb9f3a\"], [0.8888888888888888, \"#fdca26\"], [1.0, \"#f0f921\"]], \"type\": \"surface\"}], \"table\": [{\"cells\": {\"fill\": {\"color\": \"#EBF0F8\"}, \"line\": {\"color\": \"white\"}}, \"header\": {\"fill\": {\"color\": \"#C8D4E3\"}, \"line\": {\"color\": \"white\"}}, \"type\": \"table\"}]}, \"layout\": {\"annotationdefaults\": {\"arrowcolor\": \"#2a3f5f\", \"arrowhead\": 0, \"arrowwidth\": 1}, \"coloraxis\": {\"colorbar\": {\"outlinewidth\": 0, \"ticks\": \"\"}}, \"colorscale\": {\"diverging\": [[0, \"#8e0152\"], [0.1, \"#c51b7d\"], [0.2, \"#de77ae\"], [0.3, \"#f1b6da\"], [0.4, \"#fde0ef\"], [0.5, \"#f7f7f7\"], [0.6, \"#e6f5d0\"], [0.7, \"#b8e186\"], [0.8, \"#7fbc41\"], [0.9, \"#4d9221\"], [1, \"#276419\"]], \"sequential\": [[0.0, \"#0d0887\"], [0.1111111111111111, \"#46039f\"], [0.2222222222222222, \"#7201a8\"], [0.3333333333333333, \"#9c179e\"], [0.4444444444444444, \"#bd3786\"], [0.5555555555555556, \"#d8576b\"], [0.6666666666666666, \"#ed7953\"], [0.7777777777777778, \"#fb9f3a\"], [0.8888888888888888, \"#fdca26\"], [1.0, \"#f0f921\"]], \"sequentialminus\": [[0.0, \"#0d0887\"], [0.1111111111111111, \"#46039f\"], [0.2222222222222222, \"#7201a8\"], [0.3333333333333333, \"#9c179e\"], [0.4444444444444444, \"#bd3786\"], [0.5555555555555556, \"#d8576b\"], [0.6666666666666666, \"#ed7953\"], [0.7777777777777778, \"#fb9f3a\"], [0.8888888888888888, \"#fdca26\"], [1.0, \"#f0f921\"]]}, \"colorway\": [\"#636efa\", \"#EF553B\", \"#00cc96\", \"#ab63fa\", \"#FFA15A\", \"#19d3f3\", \"#FF6692\", \"#B6E880\", \"#FF97FF\", \"#FECB52\"], \"font\": {\"color\": \"#2a3f5f\"}, \"geo\": {\"bgcolor\": \"white\", \"lakecolor\": \"white\", \"landcolor\": \"#E5ECF6\", \"showlakes\": true, \"showland\": true, \"subunitcolor\": \"white\"}, \"hoverlabel\": {\"align\": \"left\"}, \"hovermode\": \"closest\", \"mapbox\": {\"style\": \"light\"}, \"paper_bgcolor\": \"white\", \"plot_bgcolor\": \"#E5ECF6\", \"polar\": {\"angularaxis\": {\"gridcolor\": \"white\", \"linecolor\": \"white\", \"ticks\": \"\"}, \"bgcolor\": \"#E5ECF6\", \"radialaxis\": {\"gridcolor\": \"white\", \"linecolor\": \"white\", \"ticks\": \"\"}}, \"scene\": {\"xaxis\": {\"backgroundcolor\": \"#E5ECF6\", \"gridcolor\": \"white\", \"gridwidth\": 2, \"linecolor\": \"white\", \"showbackground\": true, \"ticks\": \"\", \"zerolinecolor\": \"white\"}, \"yaxis\": {\"backgroundcolor\": \"#E5ECF6\", \"gridcolor\": \"white\", \"gridwidth\": 2, \"linecolor\": \"white\", \"showbackground\": true, \"ticks\": \"\", \"zerolinecolor\": \"white\"}, \"zaxis\": {\"backgroundcolor\": \"#E5ECF6\", \"gridcolor\": \"white\", \"gridwidth\": 2, \"linecolor\": \"white\", \"showbackground\": true, \"ticks\": \"\", \"zerolinecolor\": \"white\"}}, \"shapedefaults\": {\"line\": {\"color\": \"#2a3f5f\"}}, \"ternary\": {\"aaxis\": {\"gridcolor\": \"white\", \"linecolor\": \"white\", \"ticks\": \"\"}, \"baxis\": {\"gridcolor\": \"white\", \"linecolor\": \"white\", \"ticks\": \"\"}, \"bgcolor\": \"#E5ECF6\", \"caxis\": {\"gridcolor\": \"white\", \"linecolor\": \"white\", \"ticks\": \"\"}}, \"title\": {\"x\": 0.05}, \"xaxis\": {\"automargin\": true, \"gridcolor\": \"white\", \"linecolor\": \"white\", \"ticks\": \"\", \"title\": {\"standoff\": 15}, \"zerolinecolor\": \"white\", \"zerolinewidth\": 2}, \"yaxis\": {\"automargin\": true, \"gridcolor\": \"white\", \"linecolor\": \"white\", \"ticks\": \"\", \"title\": {\"standoff\": 15}, \"zerolinecolor\": \"white\", \"zerolinewidth\": 2}}}, \"xaxis\": {\"anchor\": \"y\", \"domain\": [0.0, 1.0], \"title\": {\"text\": \"Experiment\"}}, \"yaxis\": {\"anchor\": \"x\", \"domain\": [0.0, 1.0], \"title\": {\"text\": \"Accuracy\"}}},\n",
              "                        {\"responsive\": true}\n",
              "                    ).then(function(){\n",
              "                            \n",
              "var gd = document.getElementById('487dbb3e-dae5-4880-b740-78694e44517b');\n",
              "var x = new MutationObserver(function (mutations, observer) {{\n",
              "        var display = window.getComputedStyle(gd).display;\n",
              "        if (!display || display === 'none') {{\n",
              "            console.log([gd, 'removed!']);\n",
              "            Plotly.purge(gd);\n",
              "            observer.disconnect();\n",
              "        }}\n",
              "}});\n",
              "\n",
              "// Listen for the removal of the full notebook cells\n",
              "var notebookContainer = gd.closest('#notebook-container');\n",
              "if (notebookContainer) {{\n",
              "    x.observe(notebookContainer, {childList: true});\n",
              "}}\n",
              "\n",
              "// Listen for the clearing of the current output cell\n",
              "var outputEl = gd.closest('.output');\n",
              "if (outputEl) {{\n",
              "    x.observe(outputEl, {childList: true});\n",
              "}}\n",
              "\n",
              "                        })\n",
              "                };\n",
              "                \n",
              "            </script>\n",
              "        </div>\n",
              "</body>\n",
              "</html>"
            ]
          },
          "metadata": {}
        }
      ]
    },
    {
      "cell_type": "code",
      "source": [
        ""
      ],
      "metadata": {
        "id": "q4QjMLunAmEw"
      },
      "execution_count": null,
      "outputs": []
    }
  ],
  "metadata": {
    "colab": {
      "collapsed_sections": [
        "qYkPmO5zCYXL",
        "Y7CZlQu3ArN4",
        "-QA_cD8ICkBq",
        "C-2yEH8oHAEJ",
        "IHhLRtF5HJD3",
        "oASZYQ0ITGcY",
        "oh2cfkPeD8kz",
        "9Goa7opXEbnw",
        "zhGFGJwhoO4I",
        "cKI3Ips9WL1J",
        "mxaKz5DwoUV7",
        "pe0YfXggCqwr",
        "xlgd6AbO5lbH",
        "yuom65oX5hDq",
        "Oo3yavCx9BUu",
        "1ceUnNwL9FZN",
        "Q0gx0SemAsvu",
        "kOQfZZE9QM3U",
        "K1YokmS_YWnW",
        "zLbzATMHuKhj",
        "bje-eKP_X2ww",
        "cZkqlsV8XtDW",
        "g2Oc1-bL-p7J",
        "ttx4wNq5BETD",
        "3cZZvsc31ZYh",
        "gH7DfhFGX18F",
        "wMVt77tmCeU8",
        "tqn7MCwaCPAC",
        "FqmQTI6ACWB4",
        "aOE532IxCjIs",
        "3YyrCZaNbBeE",
        "LvtCq31Z29fp"
      ],
      "name": "IST 664 Project IMDB.ipynb",
      "provenance": []
    },
    "kernelspec": {
      "display_name": "Python 3",
      "name": "python3"
    },
    "language_info": {
      "name": "python"
    }
  },
  "nbformat": 4,
  "nbformat_minor": 0
}
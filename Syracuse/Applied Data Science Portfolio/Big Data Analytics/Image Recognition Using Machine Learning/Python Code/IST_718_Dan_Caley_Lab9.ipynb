{
  "nbformat": 4,
  "nbformat_minor": 0,
  "metadata": {
    "colab": {
      "name": "IST_718_Dan_Caley_Lab9.ipynb",
      "provenance": [],
      "collapsed_sections": []
    },
    "kernelspec": {
      "name": "python3",
      "display_name": "Python 3"
    },
    "language_info": {
      "name": "python"
    },
    "accelerator": "GPU"
  },
  "cells": [
    {
      "cell_type": "markdown",
      "metadata": {
        "id": "iFK6dAp8iOA9"
      },
      "source": [
        "# Libraries"
      ]
    },
    {
      "cell_type": "code",
      "metadata": {
        "colab": {
          "base_uri": "https://localhost:8080/"
        },
        "id": "64df8_hHiEat",
        "outputId": "c2ccbc17-08cf-4e0b-8327-80b1fbd8abce"
      },
      "source": [
        "!pip install -U -q keras-tuner"
      ],
      "execution_count": 1,
      "outputs": [
        {
          "output_type": "stream",
          "name": "stdout",
          "text": [
            "\u001b[?25l\r\u001b[K     |███▍                            | 10 kB 32.0 MB/s eta 0:00:01\r\u001b[K     |██████▊                         | 20 kB 20.6 MB/s eta 0:00:01\r\u001b[K     |██████████                      | 30 kB 16.3 MB/s eta 0:00:01\r\u001b[K     |█████████████▍                  | 40 kB 14.2 MB/s eta 0:00:01\r\u001b[K     |████████████████▊               | 51 kB 5.5 MB/s eta 0:00:01\r\u001b[K     |████████████████████            | 61 kB 6.0 MB/s eta 0:00:01\r\u001b[K     |███████████████████████▍        | 71 kB 5.5 MB/s eta 0:00:01\r\u001b[K     |██████████████████████████▊     | 81 kB 6.1 MB/s eta 0:00:01\r\u001b[K     |██████████████████████████████  | 92 kB 6.1 MB/s eta 0:00:01\r\u001b[K     |████████████████████████████████| 98 kB 3.6 MB/s \n",
            "\u001b[?25h"
          ]
        }
      ]
    },
    {
      "cell_type": "code",
      "metadata": {
        "colab": {
          "base_uri": "https://localhost:8080/"
        },
        "id": "e4sM-sdRcVCw",
        "outputId": "bd0d5b0d-69b6-4131-eb27-0335c0dddfde"
      },
      "source": [
        "!pip install keras"
      ],
      "execution_count": 2,
      "outputs": [
        {
          "output_type": "stream",
          "name": "stdout",
          "text": [
            "Requirement already satisfied: keras in /usr/local/lib/python3.7/dist-packages (2.7.0)\n"
          ]
        }
      ]
    },
    {
      "cell_type": "code",
      "metadata": {
        "colab": {
          "base_uri": "https://localhost:8080/"
        },
        "id": "OnksRbwQiLyv",
        "outputId": "f460d169-7f4e-4db1-d699-3613a9993048"
      },
      "source": [
        "# BASED ON scikit learn DOCUMENTATION\n",
        "import plotly.express as px\n",
        "import numpy as np\n",
        "import pandas as pd\n",
        "import sklearn\n",
        "import matplotlib.pyplot as plt\n",
        "\n",
        "import tensorflow as tf\n",
        "from tensorflow import keras\n",
        "\n",
        "from sklearn.neighbors import KNeighborsClassifier\n",
        "from sklearn.ensemble import RandomForestClassifier\n",
        "from sklearn.utils import check_random_state\n",
        "from sklearn.model_selection import train_test_split\n",
        "\n",
        "# Metrics for sklearn models\n",
        "from sklearn.metrics import classification_report, confusion_matrix\n",
        "\n",
        "# Timer\n",
        "import timeit\n",
        "\n",
        "# Plotting\n",
        "import matplotlib.pyplot as plt\n",
        "\n",
        "from sklearn.metrics import accuracy_score\n",
        "from sklearn.naive_bayes import GaussianNB\n",
        "\n",
        "# Import the SVM library from sklearn\n",
        "from sklearn.svm import SVC\n",
        "from sklearn import svm\n",
        "\n",
        "# Import the gridsearch library\n",
        "from sklearn.model_selection import GridSearchCV\n",
        "\n",
        "from keras.models import Sequential\n",
        "from keras.layers import Dense, Activation, Flatten, Conv2D, MaxPooling2D, Dropout\n",
        "from keras.activations import relu, sigmoid\n",
        "from kerastuner.tuners import RandomSearch\n",
        "from tensorflow.keras.optimizers import Adam\n",
        "from keras.callbacks import TensorBoard\n",
        "\n"
      ],
      "execution_count": 3,
      "outputs": [
        {
          "output_type": "stream",
          "name": "stderr",
          "text": [
            "/usr/local/lib/python3.7/dist-packages/ipykernel_launcher.py:38: DeprecationWarning:\n",
            "\n",
            "`import kerastuner` is deprecated, please use `import keras_tuner`.\n",
            "\n"
          ]
        }
      ]
    },
    {
      "cell_type": "markdown",
      "metadata": {
        "id": "6H-wFKiHnZQM"
      },
      "source": [
        "# Obtain"
      ]
    },
    {
      "cell_type": "code",
      "metadata": {
        "id": "l3YCkIMdnXyC"
      },
      "source": [
        "# Bringing in the Fashion MNIST dataset\n",
        "from keras.datasets import fashion_mnist"
      ],
      "execution_count": 4,
      "outputs": []
    },
    {
      "cell_type": "code",
      "metadata": {
        "colab": {
          "base_uri": "https://localhost:8080/"
        },
        "id": "dQe1qjRTq7GG",
        "outputId": "de27313c-40ea-46df-a8db-294f49422f0d"
      },
      "source": [
        "# Breaking the data into training and testing\n",
        "(x_train, y_train), (x_test, y_test) = fashion_mnist.load_data()\n"
      ],
      "execution_count": 5,
      "outputs": [
        {
          "output_type": "stream",
          "name": "stdout",
          "text": [
            "Downloading data from https://storage.googleapis.com/tensorflow/tf-keras-datasets/train-labels-idx1-ubyte.gz\n",
            "32768/29515 [=================================] - 0s 0us/step\n",
            "40960/29515 [=========================================] - 0s 0us/step\n",
            "Downloading data from https://storage.googleapis.com/tensorflow/tf-keras-datasets/train-images-idx3-ubyte.gz\n",
            "26427392/26421880 [==============================] - 0s 0us/step\n",
            "26435584/26421880 [==============================] - 0s 0us/step\n",
            "Downloading data from https://storage.googleapis.com/tensorflow/tf-keras-datasets/t10k-labels-idx1-ubyte.gz\n",
            "16384/5148 [===============================================================================================] - 0s 0us/step\n",
            "Downloading data from https://storage.googleapis.com/tensorflow/tf-keras-datasets/t10k-images-idx3-ubyte.gz\n",
            "4423680/4422102 [==============================] - 0s 0us/step\n",
            "4431872/4422102 [==============================] - 0s 0us/step\n"
          ]
        }
      ]
    },
    {
      "cell_type": "code",
      "metadata": {
        "colab": {
          "base_uri": "https://localhost:8080/"
        },
        "id": "aOMOq4j0rdG_",
        "outputId": "3e5c6a47-45f5-4e6b-abd2-35e2b56ac7ff"
      },
      "source": [
        "# Looking at the Shape of the training data\n",
        "# The second row is looking at how many associated labels for training\n",
        "print(x_train.shape)\n",
        "print(len(y_train))\n"
      ],
      "execution_count": 6,
      "outputs": [
        {
          "output_type": "stream",
          "name": "stdout",
          "text": [
            "(60000, 28, 28)\n",
            "60000\n"
          ]
        }
      ]
    },
    {
      "cell_type": "code",
      "metadata": {
        "colab": {
          "base_uri": "https://localhost:8080/"
        },
        "id": "txv5YAnpsmtG",
        "outputId": "66ff5fee-6090-4957-93a4-fbae08c6dda5"
      },
      "source": [
        "# Looking at the Shape of the test data\n",
        "# The second row is looking at how many associated labels for test\n",
        "print(x_test.shape)\n",
        "print(len(y_test))"
      ],
      "execution_count": 7,
      "outputs": [
        {
          "output_type": "stream",
          "name": "stdout",
          "text": [
            "(10000, 28, 28)\n",
            "10000\n"
          ]
        }
      ]
    },
    {
      "cell_type": "code",
      "metadata": {
        "colab": {
          "base_uri": "https://localhost:8080/"
        },
        "id": "FDCnOqxWvHK7",
        "outputId": "d9990c0d-ca02-4ce7-92c2-ed441e171c9f"
      },
      "source": [
        "# Splitting the data into training and test achieves an 83.3% Split\n",
        "1 - len(y_test) / len(y_train)"
      ],
      "execution_count": 8,
      "outputs": [
        {
          "output_type": "execute_result",
          "data": {
            "text/plain": [
              "0.8333333333333334"
            ]
          },
          "metadata": {},
          "execution_count": 8
        }
      ]
    },
    {
      "cell_type": "code",
      "metadata": {
        "colab": {
          "base_uri": "https://localhost:8080/",
          "height": 265
        },
        "id": "Fky_igzzvKcv",
        "outputId": "09e313a2-e184-4485-e98c-683baa0c9bd4"
      },
      "source": [
        "# Plotting a figure\n",
        "plt.figure()\n",
        "plt.imshow(x_train[1], cmap='gray')\n",
        "plt.colorbar()\n",
        "plt.grid(False)\n",
        "plt.show()"
      ],
      "execution_count": 9,
      "outputs": [
        {
          "output_type": "display_data",
          "data": {
            "image/png": "[encoded data removed]",
            "text/plain": [
              "<Figure size 432x288 with 2 Axes>"
            ]
          },
          "metadata": {
            "needs_background": "light"
          }
        }
      ]
    },
    {
      "cell_type": "code",
      "metadata": {
        "colab": {
          "base_uri": "https://localhost:8080/",
          "height": 701
        },
        "id": "oRderHXFvz2J",
        "outputId": "b1269519-d593-4a9d-d462-dd1f939c71b7"
      },
      "source": [
        "plt.figure(figsize=(12,12))\n",
        "# plot first few images\n",
        "for i in range(9):\n",
        "\t# define subplot\n",
        "\tplt.subplot(3,3,i+1)\n",
        "\t# plot raw pixel data\n",
        "\tplt.imshow(x_train[i], cmap=plt.get_cmap('gray'))\n",
        "# show the figure\n",
        "plt.show()"
      ],
      "execution_count": 10,
      "outputs": [
        {
          "output_type": "display_data",
          "data": {
            "image/png": "[encoded data removed]",
            "text/plain": [
              "<Figure size 864x864 with 9 Axes>"
            ]
          },
          "metadata": {
            "needs_background": "light"
          }
        }
      ]
    },
    {
      "cell_type": "markdown",
      "metadata": {
        "id": "zXESs3vwyfM5"
      },
      "source": [
        "## About the MNIST Data\n",
        "\n",
        "* Fashion MIST is a dataset from Zalano's aritcle image.  In total 70,000 images of a wide variaty of styles.\n",
        "* The training data consists of 60,000 images each at 28 x 28 pixels.\n",
        "* The training data consists of 10,000 images each at 28 x 28 pixels.\n",
        "* The data set has 10 different styles.\n",
        "  0. T-shirt/top\n",
        "  1. Trouser\n",
        "  2. Pullover\n",
        "  3. Dress\n",
        "  4. Coat\n",
        "  5. Sandal\n",
        "  6. Shirt\n",
        "  7. Sneaker\n",
        "  8. Bag\n",
        "  9. Ankle boot\n",
        "\n",
        "* Additional information about the data can be found here: https://github.com/zalandoresearch/fashion-mnist\n",
        "\n",
        "\n",
        "\n",
        "\n"
      ]
    },
    {
      "cell_type": "markdown",
      "metadata": {
        "id": "tGe-fJo44rsy"
      },
      "source": [
        "# Scrubbing\n",
        "\n",
        "## Normalizing the Data"
      ]
    },
    {
      "cell_type": "code",
      "metadata": {
        "id": "6JTiOZWM5tHu"
      },
      "source": [
        "# Creating Label names to apply to graphics\n",
        "label_names = ['T-shirt/top', 'Trouser', 'Pullover', 'Dress', 'Coat',\n",
        "               'Sandal', 'Shirt', 'Sneaker', 'Bag', 'Ankle boot']"
      ],
      "execution_count": 11,
      "outputs": []
    },
    {
      "cell_type": "code",
      "metadata": {
        "colab": {
          "base_uri": "https://localhost:8080/",
          "height": 697
        },
        "id": "iPK8DFIY8X9P",
        "outputId": "57deea27-0050-4628-d707-56a01beae692"
      },
      "source": [
        "# Creating a plot for the first 9 images in the data set with their associated labels\n",
        "plt.figure(figsize=(12,12))\n",
        "\n",
        "# Looping through the first 9\n",
        "for i in range(9):\n",
        "  plt.subplot(3,3,i+1)\n",
        "  \n",
        "  # Removing the axis ticks\n",
        "  plt.xticks([])\n",
        "  plt.yticks([])\n",
        "\n",
        "  # Removing gridlines\n",
        "  plt.grid(False)\n",
        "\n",
        "  # Showing the images\n",
        "  plt.imshow(x_train[i], cmap=plt.cm.binary)\n",
        "\n",
        "  # Adding associated label names\n",
        "  plt.xlabel(label_names[y_train[i]])\n",
        "    \n",
        "plt.show()"
      ],
      "execution_count": 12,
      "outputs": [
        {
          "output_type": "display_data",
          "data": {
            "image/png": "[encoded data removed]",
            "text/plain": [
              "<Figure size 864x864 with 9 Axes>"
            ]
          },
          "metadata": {}
        }
      ]
    },
    {
      "cell_type": "code",
      "metadata": {
        "id": "wosgGdeyv93E"
      },
      "source": [
        "# Converting the data to float 32\n",
        "# Instead of our pixel data be 0 to 255 we want our data to be 1.\n",
        "# so we will divide by 255\n",
        "\n",
        "x_test = np.array(x_test, dtype=np.float32) / 255\n",
        "y_test = np.array(y_test, dtype=np.float32) \n",
        "\n",
        "x_train = np.array(x_train, dtype=np.float32) / 255\n",
        "y_train = np.array(y_train, dtype=np.float32) \n"
      ],
      "execution_count": 13,
      "outputs": []
    },
    {
      "cell_type": "code",
      "metadata": {
        "id": "6RzUdjCQt06t"
      },
      "source": [
        "# Need to split this up with x and y\n",
        "# The x is the pixel data\n",
        "# The y is the labels\n",
        "\n",
        "# This will exclude the label column\n",
        "# Rescale all of our data\n",
        "#x_train = x_train[:, 1:] / 255.0\n",
        "# Taking all the rows\n",
        "#y_train = y_train[:, 0]\n",
        "\n",
        "#x_test = x_test[:,1:] / 255.0\n",
        "#y_test = y_test[:, 0]\n"
      ],
      "execution_count": 14,
      "outputs": []
    },
    {
      "cell_type": "code",
      "metadata": {
        "id": "MH2nblqCLLz-"
      },
      "source": [
        "# Creating a validation datasete\n",
        "x_train, x_validate, y_train, y_validate = train_test_split(\n",
        "    x_train, y_train, test_size=0.2, random_state=12345,\n",
        ")"
      ],
      "execution_count": 15,
      "outputs": []
    },
    {
      "cell_type": "markdown",
      "metadata": {
        "id": "8ab8rLYn5xNS"
      },
      "source": [
        "## Shaping Data"
      ]
    },
    {
      "cell_type": "code",
      "metadata": {
        "colab": {
          "base_uri": "https://localhost:8080/"
        },
        "id": "pekkaLemLuXS",
        "outputId": "e1a4e93f-2532-460c-8d57-a59001fcd37d"
      },
      "source": [
        "# Reshaping the data some more\n",
        "im_rows = 28\n",
        "im_cols = 28\n",
        "batch_size = 512\n",
        "im_shape = (im_rows, im_cols, 1)\n",
        "\n",
        "x_train = x_train.reshape(x_train.shape[0], *im_shape)\n",
        "x_test = x_test.reshape(x_test.shape[0], *im_shape)\n",
        "x_validate = x_validate.reshape(x_validate.shape[0], *im_shape)\n",
        "\n",
        "print('x_train shape: {}'.format(x_train.shape))\n",
        "print('x_test shape: {}'.format(x_test.shape))\n",
        "print('x_validate shape: {}'.format(x_validate.shape))"
      ],
      "execution_count": 16,
      "outputs": [
        {
          "output_type": "stream",
          "name": "stdout",
          "text": [
            "x_train shape: (48000, 28, 28, 1)\n",
            "x_test shape: (10000, 28, 28, 1)\n",
            "x_validate shape: (12000, 28, 28, 1)\n"
          ]
        }
      ]
    },
    {
      "cell_type": "markdown",
      "metadata": {
        "id": "hjwPDqrbMlmY"
      },
      "source": [
        "## Scrub & Shape for SVM"
      ]
    },
    {
      "cell_type": "code",
      "metadata": {
        "id": "7WiyXLv1MlXK"
      },
      "source": [
        "# Breaking the data into training and testing\n",
        "(x_train_svm, y_train_svm), (x_test_svm, y_test_svm) = fashion_mnist.load_data()\n",
        "\n",
        "x_train_svm = np.array(x_train_svm, dtype=np.float32) / 255.0\n",
        "x_test_svm = np.array(x_test_svm, dtype=np.float32) / 255.0\n",
        "\n"
      ],
      "execution_count": 17,
      "outputs": []
    },
    {
      "cell_type": "code",
      "metadata": {
        "id": "wRc6h8lLaz5V"
      },
      "source": [
        "# Creating the seed\n",
        "random_state = check_random_state(3)\n",
        "\n",
        "# Training Data Need Shuffling\n",
        "permutation = random_state.permutation(len(x_train_svm))\n",
        "\n",
        "x_train_svm = x_train_svm[permutation]\n",
        "y_train_svm = y_train_svm[permutation]\n",
        "\n",
        "# For the svm models shaping the image data.\n",
        "x_train_svm = x_train_svm.reshape(x_train_svm.shape[0], -1)\n",
        "x_test_svm = x_test_svm.reshape(x_test_svm.shape[0], -1)\n",
        "\n",
        "# For the svm models shaping the label data.\n",
        "y_train_svm = np.array(y_train_svm, dtype=np.int32)\n",
        "y_test_svm = np.array(y_test_svm, dtype=np.int32)"
      ],
      "execution_count": 18,
      "outputs": []
    },
    {
      "cell_type": "code",
      "metadata": {
        "colab": {
          "base_uri": "https://localhost:8080/"
        },
        "id": "-Dl2K7jLTnMA",
        "outputId": "a3e5a489-2c82-407d-e03a-7fa3ccbc975e"
      },
      "source": [
        "x_train_svm.shape"
      ],
      "execution_count": 19,
      "outputs": [
        {
          "output_type": "execute_result",
          "data": {
            "text/plain": [
              "(60000, 784)"
            ]
          },
          "metadata": {},
          "execution_count": 19
        }
      ]
    },
    {
      "cell_type": "code",
      "metadata": {
        "colab": {
          "base_uri": "https://localhost:8080/"
        },
        "id": "NRoz7NbPbSIJ",
        "outputId": "ee41cb6e-63e5-470e-b2bd-5d89d98aeea9"
      },
      "source": [
        "x_test_svm.shape"
      ],
      "execution_count": 20,
      "outputs": [
        {
          "output_type": "execute_result",
          "data": {
            "text/plain": [
              "(10000, 784)"
            ]
          },
          "metadata": {},
          "execution_count": 20
        }
      ]
    },
    {
      "cell_type": "markdown",
      "metadata": {
        "id": "r-2xSeUd_v7Z"
      },
      "source": [
        "# Model"
      ]
    },
    {
      "cell_type": "markdown",
      "metadata": {
        "id": "iihS48mwNKri"
      },
      "source": [
        "## CNN Model\n",
        "* Define the Model\n",
        "* Create the Model\n",
        "* Fit the model"
      ]
    },
    {
      "cell_type": "markdown",
      "metadata": {
        "id": "V57Pa_KOaVqP"
      },
      "source": [
        "### Define Model\n",
        "* Passing a kernal of 3 allows for an image to pass over each image to then identify the best fit.\n",
        "* Kernal's can be adjusted to identify better fit. \n",
        "* Here we will start with 3\n",
        "* MaxPooling allows you to downsample.\n",
        "* Shrinks the hieght and width down to 2.\n",
        "* Adding a dense layer creates a posterior probability."
      ]
    },
    {
      "cell_type": "code",
      "metadata": {
        "id": "JkVQP46v_CbJ"
      },
      "source": [
        "cnn_model = Sequential([\n",
        "                        Conv2D(filters=32, kernel_size=3, activation='relu', input_shape=im_shape),\n",
        "                        MaxPooling2D(pool_size=2),\n",
        "                        Dropout(0.2),\n",
        "                        Flatten(),\n",
        "                        Dense(32, activation='relu'),\n",
        "                        Dense(10, activation='softmax')\n",
        "])"
      ],
      "execution_count": 21,
      "outputs": []
    },
    {
      "cell_type": "markdown",
      "metadata": {
        "id": "2H-ipATIeDPx"
      },
      "source": [
        "## Creating Model"
      ]
    },
    {
      "cell_type": "code",
      "metadata": {
        "colab": {
          "base_uri": "https://localhost:8080/"
        },
        "id": "Lb9HhxrHbw9s",
        "outputId": "be7d36f7-b9ec-4e12-b290-92cf25d73686"
      },
      "source": [
        "tensorboard = TensorBoard(\n",
        "    log_dir=r'logs\\{}'.format('cnn_1layer'),\n",
        "    write_graph = True,\n",
        "    write_grads=True,\n",
        "    histogram_freq=1,\n",
        "    write_images=True,\n",
        "    \n",
        ")\n",
        "\n",
        "cnn_model.compile(\n",
        "    loss='sparse_categorical_crossentropy',\n",
        "    optimizer=Adam(lr=0.001),\n",
        "    metrics=['accuracy']\n",
        ")"
      ],
      "execution_count": 22,
      "outputs": [
        {
          "output_type": "stream",
          "name": "stdout",
          "text": [
            "WARNING:tensorflow:`write_grads` will be ignored in TensorFlow 2.0 for the `TensorBoard` Callback.\n"
          ]
        },
        {
          "output_type": "stream",
          "name": "stderr",
          "text": [
            "/usr/local/lib/python3.7/dist-packages/keras/optimizer_v2/adam.py:105: UserWarning:\n",
            "\n",
            "The `lr` argument is deprecated, use `learning_rate` instead.\n",
            "\n"
          ]
        }
      ]
    },
    {
      "cell_type": "code",
      "metadata": {
        "colab": {
          "base_uri": "https://localhost:8080/"
        },
        "id": "MDkYZ6iidUcW",
        "outputId": "6c9edf31-a9ed-4de5-bf84-e1a15fcadc6e"
      },
      "source": [
        "cnn_model.fit(\n",
        "    x_train, y_train, batch_size=batch_size,\n",
        "    epochs=10, verbose=1,\n",
        "    validation_data=(x_validate, y_validate)\n",
        "    #,callbacks=[tensorboard]\n",
        ")"
      ],
      "execution_count": 23,
      "outputs": [
        {
          "output_type": "stream",
          "name": "stdout",
          "text": [
            "Epoch 1/10\n",
            "94/94 [==============================] - 15s 21ms/step - loss: 0.7629 - accuracy: 0.7462 - val_loss: 0.4746 - val_accuracy: 0.8353\n",
            "Epoch 2/10\n",
            "94/94 [==============================] - 2s 17ms/step - loss: 0.4339 - accuracy: 0.8488 - val_loss: 0.3806 - val_accuracy: 0.8687\n",
            "Epoch 3/10\n",
            "94/94 [==============================] - 2s 18ms/step - loss: 0.3844 - accuracy: 0.8663 - val_loss: 0.3435 - val_accuracy: 0.8836\n",
            "Epoch 4/10\n",
            "94/94 [==============================] - 2s 19ms/step - loss: 0.3509 - accuracy: 0.8781 - val_loss: 0.3232 - val_accuracy: 0.8893\n",
            "Epoch 5/10\n",
            "94/94 [==============================] - 2s 19ms/step - loss: 0.3342 - accuracy: 0.8820 - val_loss: 0.3057 - val_accuracy: 0.8955\n",
            "Epoch 6/10\n",
            "94/94 [==============================] - 2s 19ms/step - loss: 0.3206 - accuracy: 0.8869 - val_loss: 0.2967 - val_accuracy: 0.8988\n",
            "Epoch 7/10\n",
            "94/94 [==============================] - 2s 18ms/step - loss: 0.3081 - accuracy: 0.8902 - val_loss: 0.2920 - val_accuracy: 0.8998\n",
            "Epoch 8/10\n",
            "94/94 [==============================] - 2s 17ms/step - loss: 0.2967 - accuracy: 0.8954 - val_loss: 0.2851 - val_accuracy: 0.9020\n",
            "Epoch 9/10\n",
            "94/94 [==============================] - 2s 19ms/step - loss: 0.2863 - accuracy: 0.8974 - val_loss: 0.2898 - val_accuracy: 0.8994\n",
            "Epoch 10/10\n",
            "94/94 [==============================] - 2s 17ms/step - loss: 0.2840 - accuracy: 0.8989 - val_loss: 0.2715 - val_accuracy: 0.9063\n"
          ]
        },
        {
          "output_type": "execute_result",
          "data": {
            "text/plain": [
              "<keras.callbacks.History at 0x7f8140482a50>"
            ]
          },
          "metadata": {},
          "execution_count": 23
        }
      ]
    },
    {
      "cell_type": "markdown",
      "metadata": {
        "id": "LFVf1tcMd-qH"
      },
      "source": [
        "## Fitting the Model"
      ]
    },
    {
      "cell_type": "code",
      "metadata": {
        "colab": {
          "base_uri": "https://localhost:8080/"
        },
        "id": "p7N2gCPsdpCs",
        "outputId": "264267eb-4d3b-46c8-80a2-1a961128ae86"
      },
      "source": [
        "score = cnn_model.evaluate(x_test, y_test, verbose=0)\n",
        "score2 = cnn_model.evaluate(x_train, y_train, verbose=0)\n",
        "\n",
        "print(\"Test\")\n",
        "print(\"-------------------\")\n",
        "print('test loss: {:.4f}'.format(score[0]))\n",
        "print(' test acc: {:.4f}'.format(score[1]))\n",
        "print(\"-------------------\")\n",
        "\n",
        "print(\"Train\")\n",
        "\n",
        "print('train loss: {:.4f}'.format(score2[0]))\n",
        "print(' train acc: {:.4f}'.format(score2[1]))\n",
        "print(\"-------------------\")"
      ],
      "execution_count": 24,
      "outputs": [
        {
          "output_type": "stream",
          "name": "stdout",
          "text": [
            "Test\n",
            "-------------------\n",
            "test loss: 0.3043\n",
            " test acc: 0.8919\n",
            "-------------------\n",
            "Train\n",
            "train loss: 0.2603\n",
            " train acc: 0.9083\n",
            "-------------------\n"
          ]
        }
      ]
    },
    {
      "cell_type": "markdown",
      "metadata": {
        "id": "LqN1Pij-xKFp"
      },
      "source": [
        "## Understanding Cost of a Model"
      ]
    },
    {
      "cell_type": "code",
      "metadata": {
        "colab": {
          "base_uri": "https://localhost:8080/"
        },
        "id": "UP1dPl-vsfTv",
        "outputId": "357b68f0-f7f2-49a0-e73c-c6e38ae9f8fe"
      },
      "source": [
        "# Starting the Timer\n",
        "start = timeit.default_timer()\n",
        "\n",
        "### Defining Model\n",
        "cnn_model = Sequential([\n",
        "                        Conv2D(filters=32, kernel_size=3, activation='relu', input_shape=im_shape),\n",
        "                        MaxPooling2D(pool_size=2),\n",
        "                        Dropout(0.2),\n",
        "                        Flatten(),\n",
        "                        Dense(32, activation='relu'),\n",
        "                        Dense(10, activation='softmax')\n",
        "])\n",
        "\n",
        "### Creating Model\n",
        "tensorboard = TensorBoard(\n",
        "    log_dir=r'logs\\{}'.format('cnn_1layer'),\n",
        "    write_graph = True,\n",
        "    write_grads=True,\n",
        "    histogram_freq=1,\n",
        "    write_images=True,\n",
        "    \n",
        ")\n",
        "\n",
        "### Fitting the Model\n",
        "cnn_model.compile(\n",
        "    loss='sparse_categorical_crossentropy',\n",
        "    optimizer=Adam(lr=0.001),\n",
        "    metrics=['accuracy']\n",
        ")\n",
        "\n",
        "cnn_model.fit(\n",
        "    x_train, y_train, batch_size=batch_size,\n",
        "    epochs=10, verbose=1,\n",
        "    validation_data=(x_validate, y_validate)\n",
        "    #,callbacks=[tensorboard]\n",
        ")\n",
        "\n",
        "# Ending the timer\n",
        "stop = timeit.default_timer()\n",
        "\n",
        "\n"
      ],
      "execution_count": 25,
      "outputs": [
        {
          "output_type": "stream",
          "name": "stdout",
          "text": [
            "WARNING:tensorflow:`write_grads` will be ignored in TensorFlow 2.0 for the `TensorBoard` Callback.\n",
            "Epoch 1/10\n"
          ]
        },
        {
          "output_type": "stream",
          "name": "stderr",
          "text": [
            "/usr/local/lib/python3.7/dist-packages/keras/optimizer_v2/adam.py:105: UserWarning:\n",
            "\n",
            "The `lr` argument is deprecated, use `learning_rate` instead.\n",
            "\n"
          ]
        },
        {
          "output_type": "stream",
          "name": "stdout",
          "text": [
            "94/94 [==============================] - 3s 22ms/step - loss: 0.7295 - accuracy: 0.7544 - val_loss: 0.4504 - val_accuracy: 0.8487\n",
            "Epoch 2/10\n",
            "94/94 [==============================] - 2s 17ms/step - loss: 0.4341 - accuracy: 0.8472 - val_loss: 0.3731 - val_accuracy: 0.8763\n",
            "Epoch 3/10\n",
            "94/94 [==============================] - 2s 17ms/step - loss: 0.3804 - accuracy: 0.8672 - val_loss: 0.3542 - val_accuracy: 0.8764\n",
            "Epoch 4/10\n",
            "94/94 [==============================] - 2s 18ms/step - loss: 0.3481 - accuracy: 0.8780 - val_loss: 0.3207 - val_accuracy: 0.8908\n",
            "Epoch 5/10\n",
            "94/94 [==============================] - 2s 19ms/step - loss: 0.3259 - accuracy: 0.8847 - val_loss: 0.3186 - val_accuracy: 0.8883\n",
            "Epoch 6/10\n",
            "94/94 [==============================] - 2s 19ms/step - loss: 0.3154 - accuracy: 0.8890 - val_loss: 0.3122 - val_accuracy: 0.8873\n",
            "Epoch 7/10\n",
            "94/94 [==============================] - 2s 17ms/step - loss: 0.2998 - accuracy: 0.8930 - val_loss: 0.2855 - val_accuracy: 0.8987\n",
            "Epoch 8/10\n",
            "94/94 [==============================] - 2s 17ms/step - loss: 0.2898 - accuracy: 0.8972 - val_loss: 0.2750 - val_accuracy: 0.9055\n",
            "Epoch 9/10\n",
            "94/94 [==============================] - 2s 17ms/step - loss: 0.2811 - accuracy: 0.8996 - val_loss: 0.2854 - val_accuracy: 0.8985\n",
            "Epoch 10/10\n",
            "94/94 [==============================] - 2s 18ms/step - loss: 0.2738 - accuracy: 0.9022 - val_loss: 0.2689 - val_accuracy: 0.9069\n"
          ]
        }
      ]
    },
    {
      "cell_type": "code",
      "metadata": {
        "colab": {
          "base_uri": "https://localhost:8080/"
        },
        "id": "e-6bEren3JiP",
        "outputId": "0577205c-eae5-4856-cfce-229803a91397"
      },
      "source": [
        "cnn_full = pd.DataFrame()\n",
        "result_list = list(range(1,11))\n",
        "\n",
        "for n in result_list:\n",
        "\n",
        "  # Starting the Timer\n",
        "  start = timeit.default_timer()\n",
        "\n",
        "  ### Defining Model\n",
        "  cnn_model = Sequential([\n",
        "                          Conv2D(filters=32, kernel_size=n, activation='relu', input_shape=im_shape),\n",
        "                          MaxPooling2D(pool_size=2),\n",
        "                          Dropout(0.2),\n",
        "                          Flatten(),\n",
        "                          Dense(32, activation='relu'),\n",
        "                          Dense(10, activation='softmax')\n",
        "  ])\n",
        "\n",
        "  ### Creating Model\n",
        "  tensorboard = TensorBoard(\n",
        "      log_dir=r'logs\\{}'.format('cnn_1layer'),\n",
        "      write_graph = True,\n",
        "      write_grads=True,\n",
        "      histogram_freq=1,\n",
        "      write_images=True,\n",
        "      \n",
        "  )\n",
        "\n",
        "  ### Fitting the Model\n",
        "  cnn_model.compile(\n",
        "      loss='sparse_categorical_crossentropy',\n",
        "      optimizer=Adam(lr=0.001),\n",
        "      metrics=['accuracy']\n",
        "  )\n",
        "\n",
        "  cnn_model.fit(\n",
        "      x_train, y_train, batch_size=batch_size,\n",
        "      epochs=10, verbose=1,\n",
        "      validation_data=(x_validate, y_validate)\n",
        "      #,callbacks=[tensorboard]\n",
        "  )\n",
        "\n",
        "\n",
        "\n",
        "  # Computing the Scores\n",
        "  test_score = cnn_model.evaluate(x_test, y_test, verbose=0)\n",
        "  train_score = cnn_model.evaluate(x_train, y_train, verbose=0)\n",
        "\n",
        "  # Ending the timer\n",
        "  stop = timeit.default_timer()\n",
        "\n",
        "  # initialize list of lists\n",
        "  data = [[n , \"Test\", (stop - start) ,test_score[0], test_score[1]],\n",
        "          [n , \"Train\", (stop - start) ,train_score[0], train_score[1]]]\n",
        "    \n",
        "  # Create the pandas DataFrame\n",
        "  results_df = pd.DataFrame(data, columns = ['Run', 'Type', 'Cost','Loss', 'Accuracy'])\n",
        "  cnn_full = cnn_full.append(results_df)\n"
      ],
      "execution_count": 26,
      "outputs": [
        {
          "output_type": "stream",
          "name": "stdout",
          "text": [
            "WARNING:tensorflow:`write_grads` will be ignored in TensorFlow 2.0 for the `TensorBoard` Callback.\n",
            "Epoch 1/10\n"
          ]
        },
        {
          "output_type": "stream",
          "name": "stderr",
          "text": [
            "/usr/local/lib/python3.7/dist-packages/keras/optimizer_v2/adam.py:105: UserWarning:\n",
            "\n",
            "The `lr` argument is deprecated, use `learning_rate` instead.\n",
            "\n"
          ]
        },
        {
          "output_type": "stream",
          "name": "stdout",
          "text": [
            "94/94 [==============================] - 3s 21ms/step - loss: 0.8937 - accuracy: 0.6896 - val_loss: 0.6208 - val_accuracy: 0.7892\n",
            "Epoch 2/10\n",
            "94/94 [==============================] - 2s 17ms/step - loss: 0.5923 - accuracy: 0.7908 - val_loss: 0.5535 - val_accuracy: 0.8037\n",
            "Epoch 3/10\n",
            "94/94 [==============================] - 2s 17ms/step - loss: 0.5545 - accuracy: 0.8003 - val_loss: 0.5217 - val_accuracy: 0.8127\n",
            "Epoch 4/10\n",
            "94/94 [==============================] - 2s 18ms/step - loss: 0.5360 - accuracy: 0.8065 - val_loss: 0.5050 - val_accuracy: 0.8224\n",
            "Epoch 5/10\n",
            "94/94 [==============================] - 2s 19ms/step - loss: 0.5180 - accuracy: 0.8147 - val_loss: 0.4920 - val_accuracy: 0.8235\n",
            "Epoch 6/10\n",
            "94/94 [==============================] - 2s 17ms/step - loss: 0.5133 - accuracy: 0.8141 - val_loss: 0.5001 - val_accuracy: 0.8236\n",
            "Epoch 7/10\n",
            "94/94 [==============================] - 2s 18ms/step - loss: 0.5040 - accuracy: 0.8185 - val_loss: 0.4737 - val_accuracy: 0.8352\n",
            "Epoch 8/10\n",
            "94/94 [==============================] - 2s 17ms/step - loss: 0.4993 - accuracy: 0.8185 - val_loss: 0.4700 - val_accuracy: 0.8345\n",
            "Epoch 9/10\n",
            "94/94 [==============================] - 2s 17ms/step - loss: 0.4958 - accuracy: 0.8200 - val_loss: 0.4809 - val_accuracy: 0.8263\n",
            "Epoch 10/10\n",
            "94/94 [==============================] - 2s 18ms/step - loss: 0.4874 - accuracy: 0.8233 - val_loss: 0.4734 - val_accuracy: 0.8313\n",
            "WARNING:tensorflow:`write_grads` will be ignored in TensorFlow 2.0 for the `TensorBoard` Callback.\n",
            "Epoch 1/10\n",
            "94/94 [==============================] - 2s 20ms/step - loss: 0.8449 - accuracy: 0.7161 - val_loss: 0.5031 - val_accuracy: 0.8271\n",
            "Epoch 2/10\n",
            "94/94 [==============================] - 2s 17ms/step - loss: 0.4594 - accuracy: 0.8384 - val_loss: 0.4018 - val_accuracy: 0.8643\n",
            "Epoch 3/10\n",
            "94/94 [==============================] - 2s 17ms/step - loss: 0.4034 - accuracy: 0.8592 - val_loss: 0.3672 - val_accuracy: 0.8753\n",
            "Epoch 4/10\n",
            "94/94 [==============================] - 2s 18ms/step - loss: 0.3747 - accuracy: 0.8677 - val_loss: 0.3504 - val_accuracy: 0.8770\n",
            "Epoch 5/10\n",
            "94/94 [==============================] - 2s 18ms/step - loss: 0.3545 - accuracy: 0.8751 - val_loss: 0.3277 - val_accuracy: 0.8860\n",
            "Epoch 6/10\n",
            "94/94 [==============================] - 2s 17ms/step - loss: 0.3418 - accuracy: 0.8796 - val_loss: 0.3139 - val_accuracy: 0.8932\n",
            "Epoch 7/10\n",
            "94/94 [==============================] - 2s 17ms/step - loss: 0.3291 - accuracy: 0.8838 - val_loss: 0.3148 - val_accuracy: 0.8857\n",
            "Epoch 8/10\n",
            "94/94 [==============================] - 2s 18ms/step - loss: 0.3256 - accuracy: 0.8834 - val_loss: 0.3050 - val_accuracy: 0.8928\n",
            "Epoch 9/10\n",
            "94/94 [==============================] - 2s 17ms/step - loss: 0.3120 - accuracy: 0.8895 - val_loss: 0.2941 - val_accuracy: 0.8971\n",
            "Epoch 10/10\n",
            "94/94 [==============================] - 2s 17ms/step - loss: 0.3050 - accuracy: 0.8916 - val_loss: 0.2879 - val_accuracy: 0.8980\n",
            "WARNING:tensorflow:`write_grads` will be ignored in TensorFlow 2.0 for the `TensorBoard` Callback.\n",
            "Epoch 1/10\n",
            "94/94 [==============================] - 2s 20ms/step - loss: 0.7734 - accuracy: 0.7318 - val_loss: 0.4597 - val_accuracy: 0.8408\n",
            "Epoch 2/10\n",
            "94/94 [==============================] - 2s 17ms/step - loss: 0.4296 - accuracy: 0.8496 - val_loss: 0.3785 - val_accuracy: 0.8733\n",
            "Epoch 3/10\n",
            "94/94 [==============================] - 2s 17ms/step - loss: 0.3762 - accuracy: 0.8687 - val_loss: 0.3406 - val_accuracy: 0.8865\n",
            "Epoch 4/10\n",
            "94/94 [==============================] - 2s 17ms/step - loss: 0.3483 - accuracy: 0.8772 - val_loss: 0.3283 - val_accuracy: 0.8857\n",
            "Epoch 5/10\n",
            "94/94 [==============================] - 2s 19ms/step - loss: 0.3280 - accuracy: 0.8836 - val_loss: 0.3073 - val_accuracy: 0.8953\n",
            "Epoch 6/10\n",
            "94/94 [==============================] - 2s 19ms/step - loss: 0.3135 - accuracy: 0.8891 - val_loss: 0.2903 - val_accuracy: 0.9013\n",
            "Epoch 7/10\n",
            "94/94 [==============================] - 2s 17ms/step - loss: 0.2966 - accuracy: 0.8943 - val_loss: 0.2811 - val_accuracy: 0.9038\n",
            "Epoch 8/10\n",
            "94/94 [==============================] - 2s 17ms/step - loss: 0.2856 - accuracy: 0.8978 - val_loss: 0.2718 - val_accuracy: 0.9074\n",
            "Epoch 9/10\n",
            "94/94 [==============================] - 2s 17ms/step - loss: 0.2777 - accuracy: 0.9009 - val_loss: 0.2704 - val_accuracy: 0.9083\n",
            "Epoch 10/10\n",
            "94/94 [==============================] - 2s 19ms/step - loss: 0.2688 - accuracy: 0.9041 - val_loss: 0.2615 - val_accuracy: 0.9108\n",
            "WARNING:tensorflow:`write_grads` will be ignored in TensorFlow 2.0 for the `TensorBoard` Callback.\n",
            "Epoch 1/10\n",
            "94/94 [==============================] - 2s 19ms/step - loss: 0.8828 - accuracy: 0.7105 - val_loss: 0.5151 - val_accuracy: 0.8205\n",
            "Epoch 2/10\n",
            "94/94 [==============================] - 1s 14ms/step - loss: 0.4852 - accuracy: 0.8308 - val_loss: 0.4187 - val_accuracy: 0.8581\n",
            "Epoch 3/10\n",
            "94/94 [==============================] - 1s 14ms/step - loss: 0.4161 - accuracy: 0.8532 - val_loss: 0.3766 - val_accuracy: 0.8730\n",
            "Epoch 4/10\n",
            "94/94 [==============================] - 1s 14ms/step - loss: 0.3776 - accuracy: 0.8672 - val_loss: 0.3508 - val_accuracy: 0.8823\n",
            "Epoch 5/10\n",
            "94/94 [==============================] - 1s 14ms/step - loss: 0.3516 - accuracy: 0.8756 - val_loss: 0.3271 - val_accuracy: 0.8874\n",
            "Epoch 6/10\n",
            "94/94 [==============================] - 1s 14ms/step - loss: 0.3368 - accuracy: 0.8798 - val_loss: 0.3210 - val_accuracy: 0.8891\n",
            "Epoch 7/10\n",
            "94/94 [==============================] - 1s 15ms/step - loss: 0.3211 - accuracy: 0.8863 - val_loss: 0.2996 - val_accuracy: 0.8973\n",
            "Epoch 8/10\n",
            "94/94 [==============================] - 1s 14ms/step - loss: 0.3112 - accuracy: 0.8891 - val_loss: 0.2979 - val_accuracy: 0.8951\n",
            "Epoch 9/10\n",
            "94/94 [==============================] - 1s 15ms/step - loss: 0.3000 - accuracy: 0.8948 - val_loss: 0.2848 - val_accuracy: 0.9032\n",
            "Epoch 10/10\n",
            "94/94 [==============================] - 1s 15ms/step - loss: 0.2938 - accuracy: 0.8965 - val_loss: 0.2854 - val_accuracy: 0.9001\n",
            "WARNING:tensorflow:`write_grads` will be ignored in TensorFlow 2.0 for the `TensorBoard` Callback.\n",
            "Epoch 1/10\n",
            "94/94 [==============================] - 2s 17ms/step - loss: 0.7819 - accuracy: 0.7288 - val_loss: 0.4883 - val_accuracy: 0.8331\n",
            "Epoch 2/10\n",
            "94/94 [==============================] - 1s 14ms/step - loss: 0.4618 - accuracy: 0.8371 - val_loss: 0.4214 - val_accuracy: 0.8536\n",
            "Epoch 3/10\n",
            "94/94 [==============================] - 1s 14ms/step - loss: 0.4085 - accuracy: 0.8569 - val_loss: 0.3634 - val_accuracy: 0.8768\n",
            "Epoch 4/10\n",
            "94/94 [==============================] - 1s 14ms/step - loss: 0.3762 - accuracy: 0.8681 - val_loss: 0.3603 - val_accuracy: 0.8775\n",
            "Epoch 5/10\n",
            "94/94 [==============================] - 1s 14ms/step - loss: 0.3502 - accuracy: 0.8763 - val_loss: 0.3345 - val_accuracy: 0.8849\n",
            "Epoch 6/10\n",
            "94/94 [==============================] - 1s 14ms/step - loss: 0.3347 - accuracy: 0.8831 - val_loss: 0.3140 - val_accuracy: 0.8918\n",
            "Epoch 7/10\n",
            "94/94 [==============================] - 1s 14ms/step - loss: 0.3204 - accuracy: 0.8870 - val_loss: 0.3035 - val_accuracy: 0.8978\n",
            "Epoch 8/10\n",
            "94/94 [==============================] - 1s 14ms/step - loss: 0.3114 - accuracy: 0.8910 - val_loss: 0.2955 - val_accuracy: 0.8982\n",
            "Epoch 9/10\n",
            "94/94 [==============================] - 1s 14ms/step - loss: 0.3000 - accuracy: 0.8936 - val_loss: 0.2878 - val_accuracy: 0.9018\n",
            "Epoch 10/10\n",
            "94/94 [==============================] - 1s 14ms/step - loss: 0.2889 - accuracy: 0.8982 - val_loss: 0.2846 - val_accuracy: 0.9022\n",
            "WARNING:tensorflow:`write_grads` will be ignored in TensorFlow 2.0 for the `TensorBoard` Callback.\n",
            "Epoch 1/10\n",
            "94/94 [==============================] - 2s 17ms/step - loss: 0.8039 - accuracy: 0.7166 - val_loss: 0.5249 - val_accuracy: 0.8136\n",
            "Epoch 2/10\n",
            "94/94 [==============================] - 1s 14ms/step - loss: 0.4879 - accuracy: 0.8270 - val_loss: 0.4305 - val_accuracy: 0.8551\n",
            "Epoch 3/10\n",
            "94/94 [==============================] - 1s 16ms/step - loss: 0.4323 - accuracy: 0.8451 - val_loss: 0.3893 - val_accuracy: 0.8697\n",
            "Epoch 4/10\n",
            "94/94 [==============================] - 1s 14ms/step - loss: 0.3973 - accuracy: 0.8601 - val_loss: 0.3622 - val_accuracy: 0.8773\n",
            "Epoch 5/10\n",
            "94/94 [==============================] - 1s 14ms/step - loss: 0.3705 - accuracy: 0.8684 - val_loss: 0.3448 - val_accuracy: 0.8816\n",
            "Epoch 6/10\n",
            "94/94 [==============================] - 1s 13ms/step - loss: 0.3555 - accuracy: 0.8737 - val_loss: 0.3287 - val_accuracy: 0.8886\n",
            "Epoch 7/10\n",
            "94/94 [==============================] - 1s 14ms/step - loss: 0.3443 - accuracy: 0.8777 - val_loss: 0.3173 - val_accuracy: 0.8910\n",
            "Epoch 8/10\n",
            "94/94 [==============================] - 1s 14ms/step - loss: 0.3305 - accuracy: 0.8821 - val_loss: 0.3188 - val_accuracy: 0.8906\n",
            "Epoch 9/10\n",
            "94/94 [==============================] - 1s 14ms/step - loss: 0.3223 - accuracy: 0.8855 - val_loss: 0.3046 - val_accuracy: 0.8943\n",
            "Epoch 10/10\n",
            "94/94 [==============================] - 1s 14ms/step - loss: 0.3121 - accuracy: 0.8894 - val_loss: 0.2964 - val_accuracy: 0.8992\n",
            "WARNING:tensorflow:`write_grads` will be ignored in TensorFlow 2.0 for the `TensorBoard` Callback.\n",
            "Epoch 1/10\n",
            "94/94 [==============================] - 2s 17ms/step - loss: 0.7861 - accuracy: 0.7271 - val_loss: 0.5002 - val_accuracy: 0.8247\n",
            "Epoch 2/10\n",
            "94/94 [==============================] - 1s 13ms/step - loss: 0.4732 - accuracy: 0.8326 - val_loss: 0.4254 - val_accuracy: 0.8512\n",
            "Epoch 3/10\n",
            "94/94 [==============================] - 1s 13ms/step - loss: 0.4196 - accuracy: 0.8527 - val_loss: 0.3769 - val_accuracy: 0.8709\n",
            "Epoch 4/10\n",
            "94/94 [==============================] - 1s 13ms/step - loss: 0.3856 - accuracy: 0.8645 - val_loss: 0.3614 - val_accuracy: 0.8770\n",
            "Epoch 5/10\n",
            "94/94 [==============================] - 1s 13ms/step - loss: 0.3634 - accuracy: 0.8715 - val_loss: 0.3314 - val_accuracy: 0.8873\n",
            "Epoch 6/10\n",
            "94/94 [==============================] - 1s 13ms/step - loss: 0.3435 - accuracy: 0.8772 - val_loss: 0.3180 - val_accuracy: 0.8901\n",
            "Epoch 7/10\n",
            "94/94 [==============================] - 1s 13ms/step - loss: 0.3333 - accuracy: 0.8805 - val_loss: 0.3148 - val_accuracy: 0.8924\n",
            "Epoch 8/10\n",
            "94/94 [==============================] - 1s 13ms/step - loss: 0.3166 - accuracy: 0.8871 - val_loss: 0.3084 - val_accuracy: 0.8926\n",
            "Epoch 9/10\n",
            "94/94 [==============================] - 1s 13ms/step - loss: 0.3098 - accuracy: 0.8885 - val_loss: 0.2915 - val_accuracy: 0.8988\n",
            "Epoch 10/10\n",
            "94/94 [==============================] - 1s 13ms/step - loss: 0.3007 - accuracy: 0.8923 - val_loss: 0.2920 - val_accuracy: 0.8987\n",
            "WARNING:tensorflow:`write_grads` will be ignored in TensorFlow 2.0 for the `TensorBoard` Callback.\n",
            "Epoch 1/10\n",
            "94/94 [==============================] - 2s 18ms/step - loss: 0.8667 - accuracy: 0.7001 - val_loss: 0.5540 - val_accuracy: 0.8090\n",
            "Epoch 2/10\n",
            "94/94 [==============================] - 1s 14ms/step - loss: 0.5267 - accuracy: 0.8135 - val_loss: 0.4639 - val_accuracy: 0.8401\n",
            "Epoch 3/10\n",
            "94/94 [==============================] - 1s 13ms/step - loss: 0.4603 - accuracy: 0.8369 - val_loss: 0.4244 - val_accuracy: 0.8521\n",
            "Epoch 4/10\n",
            "94/94 [==============================] - 1s 13ms/step - loss: 0.4304 - accuracy: 0.8475 - val_loss: 0.3912 - val_accuracy: 0.8652\n",
            "Epoch 5/10\n",
            "94/94 [==============================] - 1s 13ms/step - loss: 0.4010 - accuracy: 0.8581 - val_loss: 0.3674 - val_accuracy: 0.8738\n",
            "Epoch 6/10\n",
            "94/94 [==============================] - 1s 13ms/step - loss: 0.3821 - accuracy: 0.8658 - val_loss: 0.3599 - val_accuracy: 0.8780\n",
            "Epoch 7/10\n",
            "94/94 [==============================] - 1s 12ms/step - loss: 0.3674 - accuracy: 0.8703 - val_loss: 0.3392 - val_accuracy: 0.8843\n",
            "Epoch 8/10\n",
            "94/94 [==============================] - 1s 13ms/step - loss: 0.3564 - accuracy: 0.8729 - val_loss: 0.3291 - val_accuracy: 0.8873\n",
            "Epoch 9/10\n",
            "94/94 [==============================] - 1s 13ms/step - loss: 0.3453 - accuracy: 0.8770 - val_loss: 0.3241 - val_accuracy: 0.8879\n",
            "Epoch 10/10\n",
            "94/94 [==============================] - 1s 13ms/step - loss: 0.3375 - accuracy: 0.8795 - val_loss: 0.3152 - val_accuracy: 0.8911\n",
            "WARNING:tensorflow:`write_grads` will be ignored in TensorFlow 2.0 for the `TensorBoard` Callback.\n",
            "Epoch 1/10\n",
            "94/94 [==============================] - 2s 17ms/step - loss: 0.8195 - accuracy: 0.7127 - val_loss: 0.5246 - val_accuracy: 0.8222\n",
            "Epoch 2/10\n",
            "94/94 [==============================] - 1s 13ms/step - loss: 0.4969 - accuracy: 0.8238 - val_loss: 0.4333 - val_accuracy: 0.8525\n",
            "Epoch 3/10\n",
            "94/94 [==============================] - 1s 13ms/step - loss: 0.4371 - accuracy: 0.8463 - val_loss: 0.3949 - val_accuracy: 0.8656\n",
            "Epoch 4/10\n",
            "94/94 [==============================] - 1s 13ms/step - loss: 0.4006 - accuracy: 0.8590 - val_loss: 0.3706 - val_accuracy: 0.8747\n",
            "Epoch 5/10\n",
            "94/94 [==============================] - 1s 13ms/step - loss: 0.3800 - accuracy: 0.8663 - val_loss: 0.3466 - val_accuracy: 0.8821\n",
            "Epoch 6/10\n",
            "94/94 [==============================] - 1s 13ms/step - loss: 0.3640 - accuracy: 0.8712 - val_loss: 0.3376 - val_accuracy: 0.8867\n",
            "Epoch 7/10\n",
            "94/94 [==============================] - 1s 13ms/step - loss: 0.3491 - accuracy: 0.8757 - val_loss: 0.3208 - val_accuracy: 0.8914\n",
            "Epoch 8/10\n",
            "94/94 [==============================] - 1s 13ms/step - loss: 0.3375 - accuracy: 0.8789 - val_loss: 0.3118 - val_accuracy: 0.8922\n",
            "Epoch 9/10\n",
            "94/94 [==============================] - 1s 13ms/step - loss: 0.3283 - accuracy: 0.8825 - val_loss: 0.3126 - val_accuracy: 0.8926\n",
            "Epoch 10/10\n",
            "94/94 [==============================] - 1s 13ms/step - loss: 0.3176 - accuracy: 0.8877 - val_loss: 0.3011 - val_accuracy: 0.8969\n",
            "WARNING:tensorflow:`write_grads` will be ignored in TensorFlow 2.0 for the `TensorBoard` Callback.\n",
            "Epoch 1/10\n",
            "94/94 [==============================] - 2s 15ms/step - loss: 0.8760 - accuracy: 0.6969 - val_loss: 0.5627 - val_accuracy: 0.7995\n",
            "Epoch 2/10\n",
            "94/94 [==============================] - 1s 12ms/step - loss: 0.5270 - accuracy: 0.8120 - val_loss: 0.4593 - val_accuracy: 0.8457\n",
            "Epoch 3/10\n",
            "94/94 [==============================] - 1s 13ms/step - loss: 0.4605 - accuracy: 0.8365 - val_loss: 0.4134 - val_accuracy: 0.8612\n",
            "Epoch 4/10\n",
            "94/94 [==============================] - 1s 12ms/step - loss: 0.4271 - accuracy: 0.8494 - val_loss: 0.3864 - val_accuracy: 0.8686\n",
            "Epoch 5/10\n",
            "94/94 [==============================] - 1s 12ms/step - loss: 0.4056 - accuracy: 0.8559 - val_loss: 0.3679 - val_accuracy: 0.8744\n",
            "Epoch 6/10\n",
            "94/94 [==============================] - 1s 13ms/step - loss: 0.3861 - accuracy: 0.8613 - val_loss: 0.3535 - val_accuracy: 0.8780\n",
            "Epoch 7/10\n",
            "94/94 [==============================] - 1s 13ms/step - loss: 0.3696 - accuracy: 0.8681 - val_loss: 0.3403 - val_accuracy: 0.8836\n",
            "Epoch 8/10\n",
            "94/94 [==============================] - 1s 12ms/step - loss: 0.3577 - accuracy: 0.8713 - val_loss: 0.3344 - val_accuracy: 0.8835\n",
            "Epoch 9/10\n",
            "94/94 [==============================] - 1s 12ms/step - loss: 0.3461 - accuracy: 0.8752 - val_loss: 0.3285 - val_accuracy: 0.8865\n",
            "Epoch 10/10\n",
            "94/94 [==============================] - 1s 12ms/step - loss: 0.3338 - accuracy: 0.8802 - val_loss: 0.3157 - val_accuracy: 0.8883\n"
          ]
        }
      ]
    },
    {
      "cell_type": "code",
      "metadata": {
        "colab": {
          "base_uri": "https://localhost:8080/",
          "height": 677
        },
        "id": "tRYF13e6M5gR",
        "outputId": "1143d5ac-7691-4cb7-9dce-cf39588ae7f9"
      },
      "source": [
        "cnn_full"
      ],
      "execution_count": 27,
      "outputs": [
        {
          "output_type": "execute_result",
          "data": {
            "text/html": [
              "<div>\n",
              "<style scoped>\n",
              "    .dataframe tbody tr th:only-of-type {\n",
              "        vertical-align: middle;\n",
              "    }\n",
              "\n",
              "    .dataframe tbody tr th {\n",
              "        vertical-align: top;\n",
              "    }\n",
              "\n",
              "    .dataframe thead th {\n",
              "        text-align: right;\n",
              "    }\n",
              "</style>\n",
              "<table border=\"1\" class=\"dataframe\">\n",
              "  <thead>\n",
              "    <tr style=\"text-align: right;\">\n",
              "      <th></th>\n",
              "      <th>Run</th>\n",
              "      <th>Type</th>\n",
              "      <th>Cost</th>\n",
              "      <th>Loss</th>\n",
              "      <th>Accuracy</th>\n",
              "    </tr>\n",
              "  </thead>\n",
              "  <tbody>\n",
              "    <tr>\n",
              "      <th>0</th>\n",
              "      <td>1</td>\n",
              "      <td>Test</td>\n",
              "      <td>22.377910</td>\n",
              "      <td>0.511131</td>\n",
              "      <td>0.817300</td>\n",
              "    </tr>\n",
              "    <tr>\n",
              "      <th>1</th>\n",
              "      <td>1</td>\n",
              "      <td>Train</td>\n",
              "      <td>22.377910</td>\n",
              "      <td>0.475240</td>\n",
              "      <td>0.825833</td>\n",
              "    </tr>\n",
              "    <tr>\n",
              "      <th>0</th>\n",
              "      <td>2</td>\n",
              "      <td>Test</td>\n",
              "      <td>23.577204</td>\n",
              "      <td>0.323222</td>\n",
              "      <td>0.881900</td>\n",
              "    </tr>\n",
              "    <tr>\n",
              "      <th>1</th>\n",
              "      <td>2</td>\n",
              "      <td>Train</td>\n",
              "      <td>23.577204</td>\n",
              "      <td>0.284345</td>\n",
              "      <td>0.899958</td>\n",
              "    </tr>\n",
              "    <tr>\n",
              "      <th>0</th>\n",
              "      <td>3</td>\n",
              "      <td>Test</td>\n",
              "      <td>27.875442</td>\n",
              "      <td>0.291394</td>\n",
              "      <td>0.897300</td>\n",
              "    </tr>\n",
              "    <tr>\n",
              "      <th>1</th>\n",
              "      <td>3</td>\n",
              "      <td>Train</td>\n",
              "      <td>27.875442</td>\n",
              "      <td>0.246972</td>\n",
              "      <td>0.912729</td>\n",
              "    </tr>\n",
              "    <tr>\n",
              "      <th>0</th>\n",
              "      <td>4</td>\n",
              "      <td>Test</td>\n",
              "      <td>21.583116</td>\n",
              "      <td>0.316866</td>\n",
              "      <td>0.885800</td>\n",
              "    </tr>\n",
              "    <tr>\n",
              "      <th>1</th>\n",
              "      <td>4</td>\n",
              "      <td>Train</td>\n",
              "      <td>21.583116</td>\n",
              "      <td>0.277108</td>\n",
              "      <td>0.900708</td>\n",
              "    </tr>\n",
              "    <tr>\n",
              "      <th>0</th>\n",
              "      <td>5</td>\n",
              "      <td>Test</td>\n",
              "      <td>19.289266</td>\n",
              "      <td>0.315220</td>\n",
              "      <td>0.887900</td>\n",
              "    </tr>\n",
              "    <tr>\n",
              "      <th>1</th>\n",
              "      <td>5</td>\n",
              "      <td>Train</td>\n",
              "      <td>19.289266</td>\n",
              "      <td>0.270461</td>\n",
              "      <td>0.905271</td>\n",
              "    </tr>\n",
              "    <tr>\n",
              "      <th>0</th>\n",
              "      <td>6</td>\n",
              "      <td>Test</td>\n",
              "      <td>27.418114</td>\n",
              "      <td>0.326569</td>\n",
              "      <td>0.885400</td>\n",
              "    </tr>\n",
              "    <tr>\n",
              "      <th>1</th>\n",
              "      <td>6</td>\n",
              "      <td>Train</td>\n",
              "      <td>27.418114</td>\n",
              "      <td>0.286949</td>\n",
              "      <td>0.898313</td>\n",
              "    </tr>\n",
              "    <tr>\n",
              "      <th>0</th>\n",
              "      <td>7</td>\n",
              "      <td>Test</td>\n",
              "      <td>18.585052</td>\n",
              "      <td>0.322289</td>\n",
              "      <td>0.888300</td>\n",
              "    </tr>\n",
              "    <tr>\n",
              "      <th>1</th>\n",
              "      <td>7</td>\n",
              "      <td>Train</td>\n",
              "      <td>18.585052</td>\n",
              "      <td>0.277650</td>\n",
              "      <td>0.902854</td>\n",
              "    </tr>\n",
              "    <tr>\n",
              "      <th>0</th>\n",
              "      <td>8</td>\n",
              "      <td>Test</td>\n",
              "      <td>20.077121</td>\n",
              "      <td>0.350104</td>\n",
              "      <td>0.878600</td>\n",
              "    </tr>\n",
              "    <tr>\n",
              "      <th>1</th>\n",
              "      <td>8</td>\n",
              "      <td>Train</td>\n",
              "      <td>20.077121</td>\n",
              "      <td>0.312187</td>\n",
              "      <td>0.888833</td>\n",
              "    </tr>\n",
              "    <tr>\n",
              "      <th>0</th>\n",
              "      <td>9</td>\n",
              "      <td>Test</td>\n",
              "      <td>17.897258</td>\n",
              "      <td>0.334224</td>\n",
              "      <td>0.881600</td>\n",
              "    </tr>\n",
              "    <tr>\n",
              "      <th>1</th>\n",
              "      <td>9</td>\n",
              "      <td>Train</td>\n",
              "      <td>17.897258</td>\n",
              "      <td>0.294180</td>\n",
              "      <td>0.895688</td>\n",
              "    </tr>\n",
              "    <tr>\n",
              "      <th>0</th>\n",
              "      <td>10</td>\n",
              "      <td>Test</td>\n",
              "      <td>17.828117</td>\n",
              "      <td>0.348858</td>\n",
              "      <td>0.877600</td>\n",
              "    </tr>\n",
              "    <tr>\n",
              "      <th>1</th>\n",
              "      <td>10</td>\n",
              "      <td>Train</td>\n",
              "      <td>17.828117</td>\n",
              "      <td>0.307740</td>\n",
              "      <td>0.890958</td>\n",
              "    </tr>\n",
              "  </tbody>\n",
              "</table>\n",
              "</div>"
            ],
            "text/plain": [
              "   Run   Type       Cost      Loss  Accuracy\n",
              "0    1   Test  22.377910  0.511131  0.817300\n",
              "1    1  Train  22.377910  0.475240  0.825833\n",
              "0    2   Test  23.577204  0.323222  0.881900\n",
              "1    2  Train  23.577204  0.284345  0.899958\n",
              "0    3   Test  27.875442  0.291394  0.897300\n",
              "1    3  Train  27.875442  0.246972  0.912729\n",
              "0    4   Test  21.583116  0.316866  0.885800\n",
              "1    4  Train  21.583116  0.277108  0.900708\n",
              "0    5   Test  19.289266  0.315220  0.887900\n",
              "1    5  Train  19.289266  0.270461  0.905271\n",
              "0    6   Test  27.418114  0.326569  0.885400\n",
              "1    6  Train  27.418114  0.286949  0.898313\n",
              "0    7   Test  18.585052  0.322289  0.888300\n",
              "1    7  Train  18.585052  0.277650  0.902854\n",
              "0    8   Test  20.077121  0.350104  0.878600\n",
              "1    8  Train  20.077121  0.312187  0.888833\n",
              "0    9   Test  17.897258  0.334224  0.881600\n",
              "1    9  Train  17.897258  0.294180  0.895688\n",
              "0   10   Test  17.828117  0.348858  0.877600\n",
              "1   10  Train  17.828117  0.307740  0.890958"
            ]
          },
          "metadata": {},
          "execution_count": 27
        }
      ]
    },
    {
      "cell_type": "code",
      "metadata": {
        "colab": {
          "base_uri": "https://localhost:8080/",
          "height": 677
        },
        "id": "siAqQp2S3ped",
        "outputId": "065d5c32-4bf5-4fa8-9068-0ca4341af9d3"
      },
      "source": [
        "cnn_test = cnn_full\n",
        "cnn_test[\"Cost Per Accuracy\"] = cnn_test[\"Accuracy\"] / cnn_test[\"Cost\"]\n",
        "cnn_test"
      ],
      "execution_count": 32,
      "outputs": [
        {
          "output_type": "execute_result",
          "data": {
            "text/html": [
              "<div>\n",
              "<style scoped>\n",
              "    .dataframe tbody tr th:only-of-type {\n",
              "        vertical-align: middle;\n",
              "    }\n",
              "\n",
              "    .dataframe tbody tr th {\n",
              "        vertical-align: top;\n",
              "    }\n",
              "\n",
              "    .dataframe thead th {\n",
              "        text-align: right;\n",
              "    }\n",
              "</style>\n",
              "<table border=\"1\" class=\"dataframe\">\n",
              "  <thead>\n",
              "    <tr style=\"text-align: right;\">\n",
              "      <th></th>\n",
              "      <th>Run</th>\n",
              "      <th>Type</th>\n",
              "      <th>Cost</th>\n",
              "      <th>Loss</th>\n",
              "      <th>Accuracy</th>\n",
              "      <th>cost_per_accuracy</th>\n",
              "      <th>Cost Per Accuracy</th>\n",
              "    </tr>\n",
              "  </thead>\n",
              "  <tbody>\n",
              "    <tr>\n",
              "      <th>0</th>\n",
              "      <td>1</td>\n",
              "      <td>Test</td>\n",
              "      <td>22.377910</td>\n",
              "      <td>0.511131</td>\n",
              "      <td>0.817300</td>\n",
              "      <td>0.036523</td>\n",
              "      <td>0.036523</td>\n",
              "    </tr>\n",
              "    <tr>\n",
              "      <th>1</th>\n",
              "      <td>1</td>\n",
              "      <td>Train</td>\n",
              "      <td>22.377910</td>\n",
              "      <td>0.475240</td>\n",
              "      <td>0.825833</td>\n",
              "      <td>0.036904</td>\n",
              "      <td>0.036904</td>\n",
              "    </tr>\n",
              "    <tr>\n",
              "      <th>0</th>\n",
              "      <td>2</td>\n",
              "      <td>Test</td>\n",
              "      <td>23.577204</td>\n",
              "      <td>0.323222</td>\n",
              "      <td>0.881900</td>\n",
              "      <td>0.037405</td>\n",
              "      <td>0.037405</td>\n",
              "    </tr>\n",
              "    <tr>\n",
              "      <th>1</th>\n",
              "      <td>2</td>\n",
              "      <td>Train</td>\n",
              "      <td>23.577204</td>\n",
              "      <td>0.284345</td>\n",
              "      <td>0.899958</td>\n",
              "      <td>0.038171</td>\n",
              "      <td>0.038171</td>\n",
              "    </tr>\n",
              "    <tr>\n",
              "      <th>0</th>\n",
              "      <td>3</td>\n",
              "      <td>Test</td>\n",
              "      <td>27.875442</td>\n",
              "      <td>0.291394</td>\n",
              "      <td>0.897300</td>\n",
              "      <td>0.032190</td>\n",
              "      <td>0.032190</td>\n",
              "    </tr>\n",
              "    <tr>\n",
              "      <th>1</th>\n",
              "      <td>3</td>\n",
              "      <td>Train</td>\n",
              "      <td>27.875442</td>\n",
              "      <td>0.246972</td>\n",
              "      <td>0.912729</td>\n",
              "      <td>0.032743</td>\n",
              "      <td>0.032743</td>\n",
              "    </tr>\n",
              "    <tr>\n",
              "      <th>0</th>\n",
              "      <td>4</td>\n",
              "      <td>Test</td>\n",
              "      <td>21.583116</td>\n",
              "      <td>0.316866</td>\n",
              "      <td>0.885800</td>\n",
              "      <td>0.041041</td>\n",
              "      <td>0.041041</td>\n",
              "    </tr>\n",
              "    <tr>\n",
              "      <th>1</th>\n",
              "      <td>4</td>\n",
              "      <td>Train</td>\n",
              "      <td>21.583116</td>\n",
              "      <td>0.277108</td>\n",
              "      <td>0.900708</td>\n",
              "      <td>0.041732</td>\n",
              "      <td>0.041732</td>\n",
              "    </tr>\n",
              "    <tr>\n",
              "      <th>0</th>\n",
              "      <td>5</td>\n",
              "      <td>Test</td>\n",
              "      <td>19.289266</td>\n",
              "      <td>0.315220</td>\n",
              "      <td>0.887900</td>\n",
              "      <td>0.046031</td>\n",
              "      <td>0.046031</td>\n",
              "    </tr>\n",
              "    <tr>\n",
              "      <th>1</th>\n",
              "      <td>5</td>\n",
              "      <td>Train</td>\n",
              "      <td>19.289266</td>\n",
              "      <td>0.270461</td>\n",
              "      <td>0.905271</td>\n",
              "      <td>0.046931</td>\n",
              "      <td>0.046931</td>\n",
              "    </tr>\n",
              "    <tr>\n",
              "      <th>0</th>\n",
              "      <td>6</td>\n",
              "      <td>Test</td>\n",
              "      <td>27.418114</td>\n",
              "      <td>0.326569</td>\n",
              "      <td>0.885400</td>\n",
              "      <td>0.032293</td>\n",
              "      <td>0.032293</td>\n",
              "    </tr>\n",
              "    <tr>\n",
              "      <th>1</th>\n",
              "      <td>6</td>\n",
              "      <td>Train</td>\n",
              "      <td>27.418114</td>\n",
              "      <td>0.286949</td>\n",
              "      <td>0.898313</td>\n",
              "      <td>0.032763</td>\n",
              "      <td>0.032763</td>\n",
              "    </tr>\n",
              "    <tr>\n",
              "      <th>0</th>\n",
              "      <td>7</td>\n",
              "      <td>Test</td>\n",
              "      <td>18.585052</td>\n",
              "      <td>0.322289</td>\n",
              "      <td>0.888300</td>\n",
              "      <td>0.047796</td>\n",
              "      <td>0.047796</td>\n",
              "    </tr>\n",
              "    <tr>\n",
              "      <th>1</th>\n",
              "      <td>7</td>\n",
              "      <td>Train</td>\n",
              "      <td>18.585052</td>\n",
              "      <td>0.277650</td>\n",
              "      <td>0.902854</td>\n",
              "      <td>0.048580</td>\n",
              "      <td>0.048580</td>\n",
              "    </tr>\n",
              "    <tr>\n",
              "      <th>0</th>\n",
              "      <td>8</td>\n",
              "      <td>Test</td>\n",
              "      <td>20.077121</td>\n",
              "      <td>0.350104</td>\n",
              "      <td>0.878600</td>\n",
              "      <td>0.043761</td>\n",
              "      <td>0.043761</td>\n",
              "    </tr>\n",
              "    <tr>\n",
              "      <th>1</th>\n",
              "      <td>8</td>\n",
              "      <td>Train</td>\n",
              "      <td>20.077121</td>\n",
              "      <td>0.312187</td>\n",
              "      <td>0.888833</td>\n",
              "      <td>0.044271</td>\n",
              "      <td>0.044271</td>\n",
              "    </tr>\n",
              "    <tr>\n",
              "      <th>0</th>\n",
              "      <td>9</td>\n",
              "      <td>Test</td>\n",
              "      <td>17.897258</td>\n",
              "      <td>0.334224</td>\n",
              "      <td>0.881600</td>\n",
              "      <td>0.049259</td>\n",
              "      <td>0.049259</td>\n",
              "    </tr>\n",
              "    <tr>\n",
              "      <th>1</th>\n",
              "      <td>9</td>\n",
              "      <td>Train</td>\n",
              "      <td>17.897258</td>\n",
              "      <td>0.294180</td>\n",
              "      <td>0.895688</td>\n",
              "      <td>0.050046</td>\n",
              "      <td>0.050046</td>\n",
              "    </tr>\n",
              "    <tr>\n",
              "      <th>0</th>\n",
              "      <td>10</td>\n",
              "      <td>Test</td>\n",
              "      <td>17.828117</td>\n",
              "      <td>0.348858</td>\n",
              "      <td>0.877600</td>\n",
              "      <td>0.049226</td>\n",
              "      <td>0.049226</td>\n",
              "    </tr>\n",
              "    <tr>\n",
              "      <th>1</th>\n",
              "      <td>10</td>\n",
              "      <td>Train</td>\n",
              "      <td>17.828117</td>\n",
              "      <td>0.307740</td>\n",
              "      <td>0.890958</td>\n",
              "      <td>0.049975</td>\n",
              "      <td>0.049975</td>\n",
              "    </tr>\n",
              "  </tbody>\n",
              "</table>\n",
              "</div>"
            ],
            "text/plain": [
              "   Run   Type       Cost  ...  Accuracy  cost_per_accuracy  Cost Per Accuracy\n",
              "0    1   Test  22.377910  ...  0.817300           0.036523           0.036523\n",
              "1    1  Train  22.377910  ...  0.825833           0.036904           0.036904\n",
              "0    2   Test  23.577204  ...  0.881900           0.037405           0.037405\n",
              "1    2  Train  23.577204  ...  0.899958           0.038171           0.038171\n",
              "0    3   Test  27.875442  ...  0.897300           0.032190           0.032190\n",
              "1    3  Train  27.875442  ...  0.912729           0.032743           0.032743\n",
              "0    4   Test  21.583116  ...  0.885800           0.041041           0.041041\n",
              "1    4  Train  21.583116  ...  0.900708           0.041732           0.041732\n",
              "0    5   Test  19.289266  ...  0.887900           0.046031           0.046031\n",
              "1    5  Train  19.289266  ...  0.905271           0.046931           0.046931\n",
              "0    6   Test  27.418114  ...  0.885400           0.032293           0.032293\n",
              "1    6  Train  27.418114  ...  0.898313           0.032763           0.032763\n",
              "0    7   Test  18.585052  ...  0.888300           0.047796           0.047796\n",
              "1    7  Train  18.585052  ...  0.902854           0.048580           0.048580\n",
              "0    8   Test  20.077121  ...  0.878600           0.043761           0.043761\n",
              "1    8  Train  20.077121  ...  0.888833           0.044271           0.044271\n",
              "0    9   Test  17.897258  ...  0.881600           0.049259           0.049259\n",
              "1    9  Train  17.897258  ...  0.895688           0.050046           0.050046\n",
              "0   10   Test  17.828117  ...  0.877600           0.049226           0.049226\n",
              "1   10  Train  17.828117  ...  0.890958           0.049975           0.049975\n",
              "\n",
              "[20 rows x 7 columns]"
            ]
          },
          "metadata": {},
          "execution_count": 32
        }
      ]
    },
    {
      "cell_type": "code",
      "metadata": {
        "colab": {
          "base_uri": "https://localhost:8080/",
          "height": 542
        },
        "id": "e8tkY4y_6z4w",
        "outputId": "4d7a8f2f-6448-4de4-a28d-6a1edf3ea062"
      },
      "source": [
        "px.line(cnn_full, x = \"Run\", y = \"Accuracy\", color = \"Type\", title = \"Training & Validation Accuracy\")"
      ],
      "execution_count": 33,
      "outputs": [
        {
          "output_type": "display_data",
          "data": {
            "text/html": [
              "<html>\n",
              "<head><meta charset=\"utf-8\" /></head>\n",
              "<body>\n",
              "    <div>\n",
              "            <script src=\"https://cdnjs.cloudflare.com/ajax/libs/mathjax/2.7.5/MathJax.js?config=TeX-AMS-MML_SVG\"></script><script type=\"text/javascript\">if (window.MathJax) {MathJax.Hub.Config({SVG: {font: \"STIX-Web\"}});}</script>\n",
              "                <script type=\"text/javascript\">window.PlotlyConfig = {MathJaxConfig: 'local'};</script>\n",
              "        <script src=\"https://cdn.plot.ly/plotly-latest.min.js\"></script>    \n",
              "            <div id=\"aa7cf8ad-d4fa-4a41-9812-d4911954b6e5\" class=\"plotly-graph-div\" style=\"height:525px; width:100%;\"></div>\n",
              "            <script type=\"text/javascript\">\n",
              "                \n",
              "                    window.PLOTLYENV=window.PLOTLYENV || {};\n",
              "                    \n",
              "                if (document.getElementById(\"aa7cf8ad-d4fa-4a41-9812-d4911954b6e5\")) {\n",
              "                    Plotly.newPlot(\n",
              "                        'aa7cf8ad-d4fa-4a41-9812-d4911954b6e5',\n",
              "                        [{\"hoverlabel\": {\"namelength\": 0}, \"hovertemplate\": \"Type=Test<br>Run=%{x}<br>Accuracy=%{y}\", \"legendgroup\": \"Type=Test\", \"line\": {\"color\": \"#636efa\", \"dash\": \"solid\"}, \"mode\": \"lines\", \"name\": \"Type=Test\", \"showlegend\": true, \"type\": \"scatter\", \"x\": [1, 2, 3, 4, 5, 6, 7, 8, 9, 10], \"xaxis\": \"x\", \"y\": [0.817300021648407, 0.8819000124931335, 0.8973000049591064, 0.8858000040054321, 0.8878999948501587, 0.8853999972343445, 0.8883000016212463, 0.878600001335144, 0.881600022315979, 0.8776000142097473], \"yaxis\": \"y\"}, {\"hoverlabel\": {\"namelength\": 0}, \"hovertemplate\": \"Type=Train<br>Run=%{x}<br>Accuracy=%{y}\", \"legendgroup\": \"Type=Train\", \"line\": {\"color\": \"#EF553B\", \"dash\": \"solid\"}, \"mode\": \"lines\", \"name\": \"Type=Train\", \"showlegend\": true, \"type\": \"scatter\", \"x\": [1, 2, 3, 4, 5, 6, 7, 8, 9, 10], \"xaxis\": \"x\", \"y\": [0.8258333206176758, 0.8999583125114441, 0.9127291440963745, 0.9007083177566528, 0.9052708148956299, 0.898312509059906, 0.9028541445732117, 0.8888333439826965, 0.8956875205039978, 0.890958309173584], \"yaxis\": \"y\"}],\n",
              "                        {\"legend\": {\"tracegroupgap\": 0}, \"template\": {\"data\": {\"bar\": [{\"error_x\": {\"color\": \"#2a3f5f\"}, \"error_y\": {\"color\": \"#2a3f5f\"}, \"marker\": {\"line\": {\"color\": \"#E5ECF6\", \"width\": 0.5}}, \"type\": \"bar\"}], \"barpolar\": [{\"marker\": {\"line\": {\"color\": \"#E5ECF6\", \"width\": 0.5}}, \"type\": \"barpolar\"}], \"carpet\": [{\"aaxis\": {\"endlinecolor\": \"#2a3f5f\", \"gridcolor\": \"white\", \"linecolor\": \"white\", \"minorgridcolor\": \"white\", \"startlinecolor\": \"#2a3f5f\"}, \"baxis\": {\"endlinecolor\": \"#2a3f5f\", \"gridcolor\": \"white\", \"linecolor\": \"white\", \"minorgridcolor\": \"white\", \"startlinecolor\": \"#2a3f5f\"}, \"type\": \"carpet\"}], \"choropleth\": [{\"colorbar\": {\"outlinewidth\": 0, \"ticks\": \"\"}, \"type\": \"choropleth\"}], \"contour\": [{\"colorbar\": {\"outlinewidth\": 0, \"ticks\": \"\"}, \"colorscale\": [[0.0, \"#0d0887\"], [0.1111111111111111, \"#46039f\"], [0.2222222222222222, \"#7201a8\"], [0.3333333333333333, \"#9c179e\"], [0.4444444444444444, \"#bd3786\"], [0.5555555555555556, \"#d8576b\"], [0.6666666666666666, \"#ed7953\"], [0.7777777777777778, \"#fb9f3a\"], [0.8888888888888888, \"#fdca26\"], [1.0, \"#f0f921\"]], \"type\": \"contour\"}], \"contourcarpet\": [{\"colorbar\": {\"outlinewidth\": 0, \"ticks\": \"\"}, \"type\": \"contourcarpet\"}], \"heatmap\": [{\"colorbar\": {\"outlinewidth\": 0, \"ticks\": \"\"}, \"colorscale\": [[0.0, \"#0d0887\"], [0.1111111111111111, \"#46039f\"], [0.2222222222222222, \"#7201a8\"], [0.3333333333333333, \"#9c179e\"], [0.4444444444444444, \"#bd3786\"], [0.5555555555555556, \"#d8576b\"], [0.6666666666666666, \"#ed7953\"], [0.7777777777777778, \"#fb9f3a\"], [0.8888888888888888, \"#fdca26\"], [1.0, \"#f0f921\"]], \"type\": \"heatmap\"}], \"heatmapgl\": [{\"colorbar\": {\"outlinewidth\": 0, \"ticks\": \"\"}, \"colorscale\": [[0.0, \"#0d0887\"], [0.1111111111111111, \"#46039f\"], [0.2222222222222222, \"#7201a8\"], [0.3333333333333333, \"#9c179e\"], [0.4444444444444444, \"#bd3786\"], [0.5555555555555556, \"#d8576b\"], [0.6666666666666666, \"#ed7953\"], [0.7777777777777778, \"#fb9f3a\"], [0.8888888888888888, \"#fdca26\"], [1.0, \"#f0f921\"]], \"type\": \"heatmapgl\"}], \"histogram\": [{\"marker\": {\"colorbar\": {\"outlinewidth\": 0, \"ticks\": \"\"}}, \"type\": \"histogram\"}], \"histogram2d\": [{\"colorbar\": {\"outlinewidth\": 0, \"ticks\": \"\"}, \"colorscale\": [[0.0, \"#0d0887\"], [0.1111111111111111, \"#46039f\"], [0.2222222222222222, \"#7201a8\"], [0.3333333333333333, \"#9c179e\"], [0.4444444444444444, \"#bd3786\"], [0.5555555555555556, \"#d8576b\"], [0.6666666666666666, \"#ed7953\"], [0.7777777777777778, \"#fb9f3a\"], [0.8888888888888888, \"#fdca26\"], [1.0, \"#f0f921\"]], \"type\": \"histogram2d\"}], \"histogram2dcontour\": [{\"colorbar\": {\"outlinewidth\": 0, \"ticks\": \"\"}, \"colorscale\": [[0.0, \"#0d0887\"], [0.1111111111111111, \"#46039f\"], [0.2222222222222222, \"#7201a8\"], [0.3333333333333333, \"#9c179e\"], [0.4444444444444444, \"#bd3786\"], [0.5555555555555556, \"#d8576b\"], [0.6666666666666666, \"#ed7953\"], [0.7777777777777778, \"#fb9f3a\"], [0.8888888888888888, \"#fdca26\"], [1.0, \"#f0f921\"]], \"type\": \"histogram2dcontour\"}], \"mesh3d\": [{\"colorbar\": {\"outlinewidth\": 0, \"ticks\": \"\"}, \"type\": \"mesh3d\"}], \"parcoords\": [{\"line\": {\"colorbar\": {\"outlinewidth\": 0, \"ticks\": \"\"}}, \"type\": \"parcoords\"}], \"pie\": [{\"automargin\": true, \"type\": \"pie\"}], \"scatter\": [{\"marker\": {\"colorbar\": {\"outlinewidth\": 0, \"ticks\": \"\"}}, \"type\": \"scatter\"}], \"scatter3d\": [{\"line\": {\"colorbar\": {\"outlinewidth\": 0, \"ticks\": \"\"}}, \"marker\": {\"colorbar\": {\"outlinewidth\": 0, \"ticks\": \"\"}}, \"type\": \"scatter3d\"}], \"scattercarpet\": [{\"marker\": {\"colorbar\": {\"outlinewidth\": 0, \"ticks\": \"\"}}, \"type\": \"scattercarpet\"}], \"scattergeo\": [{\"marker\": {\"colorbar\": {\"outlinewidth\": 0, \"ticks\": \"\"}}, \"type\": \"scattergeo\"}], \"scattergl\": [{\"marker\": {\"colorbar\": {\"outlinewidth\": 0, \"ticks\": \"\"}}, \"type\": \"scattergl\"}], \"scattermapbox\": [{\"marker\": {\"colorbar\": {\"outlinewidth\": 0, \"ticks\": \"\"}}, \"type\": \"scattermapbox\"}], \"scatterpolar\": [{\"marker\": {\"colorbar\": {\"outlinewidth\": 0, \"ticks\": \"\"}}, \"type\": \"scatterpolar\"}], \"scatterpolargl\": [{\"marker\": {\"colorbar\": {\"outlinewidth\": 0, \"ticks\": \"\"}}, \"type\": \"scatterpolargl\"}], \"scatterternary\": [{\"marker\": {\"colorbar\": {\"outlinewidth\": 0, \"ticks\": \"\"}}, \"type\": \"scatterternary\"}], \"surface\": [{\"colorbar\": {\"outlinewidth\": 0, \"ticks\": \"\"}, \"colorscale\": [[0.0, \"#0d0887\"], [0.1111111111111111, \"#46039f\"], [0.2222222222222222, \"#7201a8\"], [0.3333333333333333, \"#9c179e\"], [0.4444444444444444, \"#bd3786\"], [0.5555555555555556, \"#d8576b\"], [0.6666666666666666, \"#ed7953\"], [0.7777777777777778, \"#fb9f3a\"], [0.8888888888888888, \"#fdca26\"], [1.0, \"#f0f921\"]], \"type\": \"surface\"}], \"table\": [{\"cells\": {\"fill\": {\"color\": \"#EBF0F8\"}, \"line\": {\"color\": \"white\"}}, \"header\": {\"fill\": {\"color\": \"#C8D4E3\"}, \"line\": {\"color\": \"white\"}}, \"type\": \"table\"}]}, \"layout\": {\"annotationdefaults\": {\"arrowcolor\": \"#2a3f5f\", \"arrowhead\": 0, \"arrowwidth\": 1}, \"coloraxis\": {\"colorbar\": {\"outlinewidth\": 0, \"ticks\": \"\"}}, \"colorscale\": {\"diverging\": [[0, \"#8e0152\"], [0.1, \"#c51b7d\"], [0.2, \"#de77ae\"], [0.3, \"#f1b6da\"], [0.4, \"#fde0ef\"], [0.5, \"#f7f7f7\"], [0.6, \"#e6f5d0\"], [0.7, \"#b8e186\"], [0.8, \"#7fbc41\"], [0.9, \"#4d9221\"], [1, \"#276419\"]], \"sequential\": [[0.0, \"#0d0887\"], [0.1111111111111111, \"#46039f\"], [0.2222222222222222, \"#7201a8\"], [0.3333333333333333, \"#9c179e\"], [0.4444444444444444, \"#bd3786\"], [0.5555555555555556, \"#d8576b\"], [0.6666666666666666, \"#ed7953\"], [0.7777777777777778, \"#fb9f3a\"], [0.8888888888888888, \"#fdca26\"], [1.0, \"#f0f921\"]], \"sequentialminus\": [[0.0, \"#0d0887\"], [0.1111111111111111, \"#46039f\"], [0.2222222222222222, \"#7201a8\"], [0.3333333333333333, \"#9c179e\"], [0.4444444444444444, \"#bd3786\"], [0.5555555555555556, \"#d8576b\"], [0.6666666666666666, \"#ed7953\"], [0.7777777777777778, \"#fb9f3a\"], [0.8888888888888888, \"#fdca26\"], [1.0, \"#f0f921\"]]}, \"colorway\": [\"#636efa\", \"#EF553B\", \"#00cc96\", \"#ab63fa\", \"#FFA15A\", \"#19d3f3\", \"#FF6692\", \"#B6E880\", \"#FF97FF\", \"#FECB52\"], \"font\": {\"color\": \"#2a3f5f\"}, \"geo\": {\"bgcolor\": \"white\", \"lakecolor\": \"white\", \"landcolor\": \"#E5ECF6\", \"showlakes\": true, \"showland\": true, \"subunitcolor\": \"white\"}, \"hoverlabel\": {\"align\": \"left\"}, \"hovermode\": \"closest\", \"mapbox\": {\"style\": \"light\"}, \"paper_bgcolor\": \"white\", \"plot_bgcolor\": \"#E5ECF6\", \"polar\": {\"angularaxis\": {\"gridcolor\": \"white\", \"linecolor\": \"white\", \"ticks\": \"\"}, \"bgcolor\": \"#E5ECF6\", \"radialaxis\": {\"gridcolor\": \"white\", \"linecolor\": \"white\", \"ticks\": \"\"}}, \"scene\": {\"xaxis\": {\"backgroundcolor\": \"#E5ECF6\", \"gridcolor\": \"white\", \"gridwidth\": 2, \"linecolor\": \"white\", \"showbackground\": true, \"ticks\": \"\", \"zerolinecolor\": \"white\"}, \"yaxis\": {\"backgroundcolor\": \"#E5ECF6\", \"gridcolor\": \"white\", \"gridwidth\": 2, \"linecolor\": \"white\", \"showbackground\": true, \"ticks\": \"\", \"zerolinecolor\": \"white\"}, \"zaxis\": {\"backgroundcolor\": \"#E5ECF6\", \"gridcolor\": \"white\", \"gridwidth\": 2, \"linecolor\": \"white\", \"showbackground\": true, \"ticks\": \"\", \"zerolinecolor\": \"white\"}}, \"shapedefaults\": {\"line\": {\"color\": \"#2a3f5f\"}}, \"ternary\": {\"aaxis\": {\"gridcolor\": \"white\", \"linecolor\": \"white\", \"ticks\": \"\"}, \"baxis\": {\"gridcolor\": \"white\", \"linecolor\": \"white\", \"ticks\": \"\"}, \"bgcolor\": \"#E5ECF6\", \"caxis\": {\"gridcolor\": \"white\", \"linecolor\": \"white\", \"ticks\": \"\"}}, \"title\": {\"x\": 0.05}, \"xaxis\": {\"automargin\": true, \"gridcolor\": \"white\", \"linecolor\": \"white\", \"ticks\": \"\", \"title\": {\"standoff\": 15}, \"zerolinecolor\": \"white\", \"zerolinewidth\": 2}, \"yaxis\": {\"automargin\": true, \"gridcolor\": \"white\", \"linecolor\": \"white\", \"ticks\": \"\", \"title\": {\"standoff\": 15}, \"zerolinecolor\": \"white\", \"zerolinewidth\": 2}}}, \"title\": {\"text\": \"Training & Validation Accuracy\"}, \"xaxis\": {\"anchor\": \"y\", \"domain\": [0.0, 1.0], \"title\": {\"text\": \"Run\"}}, \"yaxis\": {\"anchor\": \"x\", \"domain\": [0.0, 1.0], \"title\": {\"text\": \"Accuracy\"}}},\n",
              "                        {\"responsive\": true}\n",
              "                    ).then(function(){\n",
              "                            \n",
              "var gd = document.getElementById('aa7cf8ad-d4fa-4a41-9812-d4911954b6e5');\n",
              "var x = new MutationObserver(function (mutations, observer) {{\n",
              "        var display = window.getComputedStyle(gd).display;\n",
              "        if (!display || display === 'none') {{\n",
              "            console.log([gd, 'removed!']);\n",
              "            Plotly.purge(gd);\n",
              "            observer.disconnect();\n",
              "        }}\n",
              "}});\n",
              "\n",
              "// Listen for the removal of the full notebook cells\n",
              "var notebookContainer = gd.closest('#notebook-container');\n",
              "if (notebookContainer) {{\n",
              "    x.observe(notebookContainer, {childList: true});\n",
              "}}\n",
              "\n",
              "// Listen for the clearing of the current output cell\n",
              "var outputEl = gd.closest('.output');\n",
              "if (outputEl) {{\n",
              "    x.observe(outputEl, {childList: true});\n",
              "}}\n",
              "\n",
              "                        })\n",
              "                };\n",
              "                \n",
              "            </script>\n",
              "        </div>\n",
              "</body>\n",
              "</html>"
            ]
          },
          "metadata": {}
        }
      ]
    },
    {
      "cell_type": "code",
      "metadata": {
        "colab": {
          "base_uri": "https://localhost:8080/",
          "height": 542
        },
        "id": "AajdEsQIAr4B",
        "outputId": "c9b56b83-d0bc-4c9c-b809-c355e7d5a29d"
      },
      "source": [
        "px.line(cnn_full, x = \"Run\", y = \"Loss\", color = \"Type\", title = \"Training & Validation Loss\")"
      ],
      "execution_count": 34,
      "outputs": [
        {
          "output_type": "display_data",
          "data": {
            "text/html": [
              "<html>\n",
              "<head><meta charset=\"utf-8\" /></head>\n",
              "<body>\n",
              "    <div>\n",
              "            <script src=\"https://cdnjs.cloudflare.com/ajax/libs/mathjax/2.7.5/MathJax.js?config=TeX-AMS-MML_SVG\"></script><script type=\"text/javascript\">if (window.MathJax) {MathJax.Hub.Config({SVG: {font: \"STIX-Web\"}});}</script>\n",
              "                <script type=\"text/javascript\">window.PlotlyConfig = {MathJaxConfig: 'local'};</script>\n",
              "        <script src=\"https://cdn.plot.ly/plotly-latest.min.js\"></script>    \n",
              "            <div id=\"cbcc3908-022c-4726-b2eb-fc62d5ef52f5\" class=\"plotly-graph-div\" style=\"height:525px; width:100%;\"></div>\n",
              "            <script type=\"text/javascript\">\n",
              "                \n",
              "                    window.PLOTLYENV=window.PLOTLYENV || {};\n",
              "                    \n",
              "                if (document.getElementById(\"cbcc3908-022c-4726-b2eb-fc62d5ef52f5\")) {\n",
              "                    Plotly.newPlot(\n",
              "                        'cbcc3908-022c-4726-b2eb-fc62d5ef52f5',\n",
              "                        [{\"hoverlabel\": {\"namelength\": 0}, \"hovertemplate\": \"Type=Test<br>Run=%{x}<br>Loss=%{y}\", \"legendgroup\": \"Type=Test\", \"line\": {\"color\": \"#636efa\", \"dash\": \"solid\"}, \"mode\": \"lines\", \"name\": \"Type=Test\", \"showlegend\": true, \"type\": \"scatter\", \"x\": [1, 2, 3, 4, 5, 6, 7, 8, 9, 10], \"xaxis\": \"x\", \"y\": [0.511130690574646, 0.32322242856025696, 0.29139384627342224, 0.31686583161354065, 0.315220445394516, 0.3265693485736847, 0.32228904962539673, 0.35010385513305664, 0.3342239260673523, 0.3488582372665405], \"yaxis\": \"y\"}, {\"hoverlabel\": {\"namelength\": 0}, \"hovertemplate\": \"Type=Train<br>Run=%{x}<br>Loss=%{y}\", \"legendgroup\": \"Type=Train\", \"line\": {\"color\": \"#EF553B\", \"dash\": \"solid\"}, \"mode\": \"lines\", \"name\": \"Type=Train\", \"showlegend\": true, \"type\": \"scatter\", \"x\": [1, 2, 3, 4, 5, 6, 7, 8, 9, 10], \"xaxis\": \"x\", \"y\": [0.47523951530456543, 0.2843452990055084, 0.2469717413187027, 0.2771083414554596, 0.2704613506793976, 0.28694942593574524, 0.2776500880718231, 0.31218698620796204, 0.2941800355911255, 0.3077395558357239], \"yaxis\": \"y\"}],\n",
              "                        {\"legend\": {\"tracegroupgap\": 0}, \"template\": {\"data\": {\"bar\": [{\"error_x\": {\"color\": \"#2a3f5f\"}, \"error_y\": {\"color\": \"#2a3f5f\"}, \"marker\": {\"line\": {\"color\": \"#E5ECF6\", \"width\": 0.5}}, \"type\": \"bar\"}], \"barpolar\": [{\"marker\": {\"line\": {\"color\": \"#E5ECF6\", \"width\": 0.5}}, \"type\": \"barpolar\"}], \"carpet\": [{\"aaxis\": {\"endlinecolor\": \"#2a3f5f\", \"gridcolor\": \"white\", \"linecolor\": \"white\", \"minorgridcolor\": \"white\", \"startlinecolor\": \"#2a3f5f\"}, \"baxis\": {\"endlinecolor\": \"#2a3f5f\", \"gridcolor\": \"white\", \"linecolor\": \"white\", \"minorgridcolor\": \"white\", \"startlinecolor\": \"#2a3f5f\"}, \"type\": \"carpet\"}], \"choropleth\": [{\"colorbar\": {\"outlinewidth\": 0, \"ticks\": \"\"}, \"type\": \"choropleth\"}], \"contour\": [{\"colorbar\": {\"outlinewidth\": 0, \"ticks\": \"\"}, \"colorscale\": [[0.0, \"#0d0887\"], [0.1111111111111111, \"#46039f\"], [0.2222222222222222, \"#7201a8\"], [0.3333333333333333, \"#9c179e\"], [0.4444444444444444, \"#bd3786\"], [0.5555555555555556, \"#d8576b\"], [0.6666666666666666, \"#ed7953\"], [0.7777777777777778, \"#fb9f3a\"], [0.8888888888888888, \"#fdca26\"], [1.0, \"#f0f921\"]], \"type\": \"contour\"}], \"contourcarpet\": [{\"colorbar\": {\"outlinewidth\": 0, \"ticks\": \"\"}, \"type\": \"contourcarpet\"}], \"heatmap\": [{\"colorbar\": {\"outlinewidth\": 0, \"ticks\": \"\"}, \"colorscale\": [[0.0, \"#0d0887\"], [0.1111111111111111, \"#46039f\"], [0.2222222222222222, \"#7201a8\"], [0.3333333333333333, \"#9c179e\"], [0.4444444444444444, \"#bd3786\"], [0.5555555555555556, \"#d8576b\"], [0.6666666666666666, \"#ed7953\"], [0.7777777777777778, \"#fb9f3a\"], [0.8888888888888888, \"#fdca26\"], [1.0, \"#f0f921\"]], \"type\": \"heatmap\"}], \"heatmapgl\": [{\"colorbar\": {\"outlinewidth\": 0, \"ticks\": \"\"}, \"colorscale\": [[0.0, \"#0d0887\"], [0.1111111111111111, \"#46039f\"], [0.2222222222222222, \"#7201a8\"], [0.3333333333333333, \"#9c179e\"], [0.4444444444444444, \"#bd3786\"], [0.5555555555555556, \"#d8576b\"], [0.6666666666666666, \"#ed7953\"], [0.7777777777777778, \"#fb9f3a\"], [0.8888888888888888, \"#fdca26\"], [1.0, \"#f0f921\"]], \"type\": \"heatmapgl\"}], \"histogram\": [{\"marker\": {\"colorbar\": {\"outlinewidth\": 0, \"ticks\": \"\"}}, \"type\": \"histogram\"}], \"histogram2d\": [{\"colorbar\": {\"outlinewidth\": 0, \"ticks\": \"\"}, \"colorscale\": [[0.0, \"#0d0887\"], [0.1111111111111111, \"#46039f\"], [0.2222222222222222, \"#7201a8\"], [0.3333333333333333, \"#9c179e\"], [0.4444444444444444, \"#bd3786\"], [0.5555555555555556, \"#d8576b\"], [0.6666666666666666, \"#ed7953\"], [0.7777777777777778, \"#fb9f3a\"], [0.8888888888888888, \"#fdca26\"], [1.0, \"#f0f921\"]], \"type\": \"histogram2d\"}], \"histogram2dcontour\": [{\"colorbar\": {\"outlinewidth\": 0, \"ticks\": \"\"}, \"colorscale\": [[0.0, \"#0d0887\"], [0.1111111111111111, \"#46039f\"], [0.2222222222222222, \"#7201a8\"], [0.3333333333333333, \"#9c179e\"], [0.4444444444444444, \"#bd3786\"], [0.5555555555555556, \"#d8576b\"], [0.6666666666666666, \"#ed7953\"], [0.7777777777777778, \"#fb9f3a\"], [0.8888888888888888, \"#fdca26\"], [1.0, \"#f0f921\"]], \"type\": \"histogram2dcontour\"}], \"mesh3d\": [{\"colorbar\": {\"outlinewidth\": 0, \"ticks\": \"\"}, \"type\": \"mesh3d\"}], \"parcoords\": [{\"line\": {\"colorbar\": {\"outlinewidth\": 0, \"ticks\": \"\"}}, \"type\": \"parcoords\"}], \"pie\": [{\"automargin\": true, \"type\": \"pie\"}], \"scatter\": [{\"marker\": {\"colorbar\": {\"outlinewidth\": 0, \"ticks\": \"\"}}, \"type\": \"scatter\"}], \"scatter3d\": [{\"line\": {\"colorbar\": {\"outlinewidth\": 0, \"ticks\": \"\"}}, \"marker\": {\"colorbar\": {\"outlinewidth\": 0, \"ticks\": \"\"}}, \"type\": \"scatter3d\"}], \"scattercarpet\": [{\"marker\": {\"colorbar\": {\"outlinewidth\": 0, \"ticks\": \"\"}}, \"type\": \"scattercarpet\"}], \"scattergeo\": [{\"marker\": {\"colorbar\": {\"outlinewidth\": 0, \"ticks\": \"\"}}, \"type\": \"scattergeo\"}], \"scattergl\": [{\"marker\": {\"colorbar\": {\"outlinewidth\": 0, \"ticks\": \"\"}}, \"type\": \"scattergl\"}], \"scattermapbox\": [{\"marker\": {\"colorbar\": {\"outlinewidth\": 0, \"ticks\": \"\"}}, \"type\": \"scattermapbox\"}], \"scatterpolar\": [{\"marker\": {\"colorbar\": {\"outlinewidth\": 0, \"ticks\": \"\"}}, \"type\": \"scatterpolar\"}], \"scatterpolargl\": [{\"marker\": {\"colorbar\": {\"outlinewidth\": 0, \"ticks\": \"\"}}, \"type\": \"scatterpolargl\"}], \"scatterternary\": [{\"marker\": {\"colorbar\": {\"outlinewidth\": 0, \"ticks\": \"\"}}, \"type\": \"scatterternary\"}], \"surface\": [{\"colorbar\": {\"outlinewidth\": 0, \"ticks\": \"\"}, \"colorscale\": [[0.0, \"#0d0887\"], [0.1111111111111111, \"#46039f\"], [0.2222222222222222, \"#7201a8\"], [0.3333333333333333, \"#9c179e\"], [0.4444444444444444, \"#bd3786\"], [0.5555555555555556, \"#d8576b\"], [0.6666666666666666, \"#ed7953\"], [0.7777777777777778, \"#fb9f3a\"], [0.8888888888888888, \"#fdca26\"], [1.0, \"#f0f921\"]], \"type\": \"surface\"}], \"table\": [{\"cells\": {\"fill\": {\"color\": \"#EBF0F8\"}, \"line\": {\"color\": \"white\"}}, \"header\": {\"fill\": {\"color\": \"#C8D4E3\"}, \"line\": {\"color\": \"white\"}}, \"type\": \"table\"}]}, \"layout\": {\"annotationdefaults\": {\"arrowcolor\": \"#2a3f5f\", \"arrowhead\": 0, \"arrowwidth\": 1}, \"coloraxis\": {\"colorbar\": {\"outlinewidth\": 0, \"ticks\": \"\"}}, \"colorscale\": {\"diverging\": [[0, \"#8e0152\"], [0.1, \"#c51b7d\"], [0.2, \"#de77ae\"], [0.3, \"#f1b6da\"], [0.4, \"#fde0ef\"], [0.5, \"#f7f7f7\"], [0.6, \"#e6f5d0\"], [0.7, \"#b8e186\"], [0.8, \"#7fbc41\"], [0.9, \"#4d9221\"], [1, \"#276419\"]], \"sequential\": [[0.0, \"#0d0887\"], [0.1111111111111111, \"#46039f\"], [0.2222222222222222, \"#7201a8\"], [0.3333333333333333, \"#9c179e\"], [0.4444444444444444, \"#bd3786\"], [0.5555555555555556, \"#d8576b\"], [0.6666666666666666, \"#ed7953\"], [0.7777777777777778, \"#fb9f3a\"], [0.8888888888888888, \"#fdca26\"], [1.0, \"#f0f921\"]], \"sequentialminus\": [[0.0, \"#0d0887\"], [0.1111111111111111, \"#46039f\"], [0.2222222222222222, \"#7201a8\"], [0.3333333333333333, \"#9c179e\"], [0.4444444444444444, \"#bd3786\"], [0.5555555555555556, \"#d8576b\"], [0.6666666666666666, \"#ed7953\"], [0.7777777777777778, \"#fb9f3a\"], [0.8888888888888888, \"#fdca26\"], [1.0, \"#f0f921\"]]}, \"colorway\": [\"#636efa\", \"#EF553B\", \"#00cc96\", \"#ab63fa\", \"#FFA15A\", \"#19d3f3\", \"#FF6692\", \"#B6E880\", \"#FF97FF\", \"#FECB52\"], \"font\": {\"color\": \"#2a3f5f\"}, \"geo\": {\"bgcolor\": \"white\", \"lakecolor\": \"white\", \"landcolor\": \"#E5ECF6\", \"showlakes\": true, \"showland\": true, \"subunitcolor\": \"white\"}, \"hoverlabel\": {\"align\": \"left\"}, \"hovermode\": \"closest\", \"mapbox\": {\"style\": \"light\"}, \"paper_bgcolor\": \"white\", \"plot_bgcolor\": \"#E5ECF6\", \"polar\": {\"angularaxis\": {\"gridcolor\": \"white\", \"linecolor\": \"white\", \"ticks\": \"\"}, \"bgcolor\": \"#E5ECF6\", \"radialaxis\": {\"gridcolor\": \"white\", \"linecolor\": \"white\", \"ticks\": \"\"}}, \"scene\": {\"xaxis\": {\"backgroundcolor\": \"#E5ECF6\", \"gridcolor\": \"white\", \"gridwidth\": 2, \"linecolor\": \"white\", \"showbackground\": true, \"ticks\": \"\", \"zerolinecolor\": \"white\"}, \"yaxis\": {\"backgroundcolor\": \"#E5ECF6\", \"gridcolor\": \"white\", \"gridwidth\": 2, \"linecolor\": \"white\", \"showbackground\": true, \"ticks\": \"\", \"zerolinecolor\": \"white\"}, \"zaxis\": {\"backgroundcolor\": \"#E5ECF6\", \"gridcolor\": \"white\", \"gridwidth\": 2, \"linecolor\": \"white\", \"showbackground\": true, \"ticks\": \"\", \"zerolinecolor\": \"white\"}}, \"shapedefaults\": {\"line\": {\"color\": \"#2a3f5f\"}}, \"ternary\": {\"aaxis\": {\"gridcolor\": \"white\", \"linecolor\": \"white\", \"ticks\": \"\"}, \"baxis\": {\"gridcolor\": \"white\", \"linecolor\": \"white\", \"ticks\": \"\"}, \"bgcolor\": \"#E5ECF6\", \"caxis\": {\"gridcolor\": \"white\", \"linecolor\": \"white\", \"ticks\": \"\"}}, \"title\": {\"x\": 0.05}, \"xaxis\": {\"automargin\": true, \"gridcolor\": \"white\", \"linecolor\": \"white\", \"ticks\": \"\", \"title\": {\"standoff\": 15}, \"zerolinecolor\": \"white\", \"zerolinewidth\": 2}, \"yaxis\": {\"automargin\": true, \"gridcolor\": \"white\", \"linecolor\": \"white\", \"ticks\": \"\", \"title\": {\"standoff\": 15}, \"zerolinecolor\": \"white\", \"zerolinewidth\": 2}}}, \"title\": {\"text\": \"Training & Validation Loss\"}, \"xaxis\": {\"anchor\": \"y\", \"domain\": [0.0, 1.0], \"title\": {\"text\": \"Run\"}}, \"yaxis\": {\"anchor\": \"x\", \"domain\": [0.0, 1.0], \"title\": {\"text\": \"Loss\"}}},\n",
              "                        {\"responsive\": true}\n",
              "                    ).then(function(){\n",
              "                            \n",
              "var gd = document.getElementById('cbcc3908-022c-4726-b2eb-fc62d5ef52f5');\n",
              "var x = new MutationObserver(function (mutations, observer) {{\n",
              "        var display = window.getComputedStyle(gd).display;\n",
              "        if (!display || display === 'none') {{\n",
              "            console.log([gd, 'removed!']);\n",
              "            Plotly.purge(gd);\n",
              "            observer.disconnect();\n",
              "        }}\n",
              "}});\n",
              "\n",
              "// Listen for the removal of the full notebook cells\n",
              "var notebookContainer = gd.closest('#notebook-container');\n",
              "if (notebookContainer) {{\n",
              "    x.observe(notebookContainer, {childList: true});\n",
              "}}\n",
              "\n",
              "// Listen for the clearing of the current output cell\n",
              "var outputEl = gd.closest('.output');\n",
              "if (outputEl) {{\n",
              "    x.observe(outputEl, {childList: true});\n",
              "}}\n",
              "\n",
              "                        })\n",
              "                };\n",
              "                \n",
              "            </script>\n",
              "        </div>\n",
              "</body>\n",
              "</html>"
            ]
          },
          "metadata": {}
        }
      ]
    },
    {
      "cell_type": "code",
      "metadata": {
        "colab": {
          "base_uri": "https://localhost:8080/",
          "height": 542
        },
        "id": "Scf3WmrCA8Dn",
        "outputId": "cd06850a-7a5d-4de1-9d04-d1333db54600"
      },
      "source": [
        "cnn_filter = cnn_full[cnn_full[\"Type\"]==\"Test\"]\n",
        "px.line(cnn_filter, x = \"Run\", y = \"Cost\", title = \"CNN Cost to Run\")"
      ],
      "execution_count": 35,
      "outputs": [
        {
          "output_type": "display_data",
          "data": {
            "text/html": [
              "<html>\n",
              "<head><meta charset=\"utf-8\" /></head>\n",
              "<body>\n",
              "    <div>\n",
              "            <script src=\"https://cdnjs.cloudflare.com/ajax/libs/mathjax/2.7.5/MathJax.js?config=TeX-AMS-MML_SVG\"></script><script type=\"text/javascript\">if (window.MathJax) {MathJax.Hub.Config({SVG: {font: \"STIX-Web\"}});}</script>\n",
              "                <script type=\"text/javascript\">window.PlotlyConfig = {MathJaxConfig: 'local'};</script>\n",
              "        <script src=\"https://cdn.plot.ly/plotly-latest.min.js\"></script>    \n",
              "            <div id=\"217316d9-b436-40ba-98c4-d7a6daa8600d\" class=\"plotly-graph-div\" style=\"height:525px; width:100%;\"></div>\n",
              "            <script type=\"text/javascript\">\n",
              "                \n",
              "                    window.PLOTLYENV=window.PLOTLYENV || {};\n",
              "                    \n",
              "                if (document.getElementById(\"217316d9-b436-40ba-98c4-d7a6daa8600d\")) {\n",
              "                    Plotly.newPlot(\n",
              "                        '217316d9-b436-40ba-98c4-d7a6daa8600d',\n",
              "                        [{\"hoverlabel\": {\"namelength\": 0}, \"hovertemplate\": \"Run=%{x}<br>Cost=%{y}\", \"legendgroup\": \"\", \"line\": {\"color\": \"#636efa\", \"dash\": \"solid\"}, \"mode\": \"lines\", \"name\": \"\", \"showlegend\": false, \"type\": \"scatter\", \"x\": [1, 2, 3, 4, 5, 6, 7, 8, 9, 10], \"xaxis\": \"x\", \"y\": [22.37790984899999, 23.57720427199996, 27.875442152999995, 21.583115958000008, 19.28926607599999, 27.41811444199999, 18.58505175399995, 20.077120659000002, 17.897257792000005, 17.828116910000006], \"yaxis\": \"y\"}],\n",
              "                        {\"legend\": {\"tracegroupgap\": 0}, \"template\": {\"data\": {\"bar\": [{\"error_x\": {\"color\": \"#2a3f5f\"}, \"error_y\": {\"color\": \"#2a3f5f\"}, \"marker\": {\"line\": {\"color\": \"#E5ECF6\", \"width\": 0.5}}, \"type\": \"bar\"}], \"barpolar\": [{\"marker\": {\"line\": {\"color\": \"#E5ECF6\", \"width\": 0.5}}, \"type\": \"barpolar\"}], \"carpet\": [{\"aaxis\": {\"endlinecolor\": \"#2a3f5f\", \"gridcolor\": \"white\", \"linecolor\": \"white\", \"minorgridcolor\": \"white\", \"startlinecolor\": \"#2a3f5f\"}, \"baxis\": {\"endlinecolor\": \"#2a3f5f\", \"gridcolor\": \"white\", \"linecolor\": \"white\", \"minorgridcolor\": \"white\", \"startlinecolor\": \"#2a3f5f\"}, \"type\": \"carpet\"}], \"choropleth\": [{\"colorbar\": {\"outlinewidth\": 0, \"ticks\": \"\"}, \"type\": \"choropleth\"}], \"contour\": [{\"colorbar\": {\"outlinewidth\": 0, \"ticks\": \"\"}, \"colorscale\": [[0.0, \"#0d0887\"], [0.1111111111111111, \"#46039f\"], [0.2222222222222222, \"#7201a8\"], [0.3333333333333333, \"#9c179e\"], [0.4444444444444444, \"#bd3786\"], [0.5555555555555556, \"#d8576b\"], [0.6666666666666666, \"#ed7953\"], [0.7777777777777778, \"#fb9f3a\"], [0.8888888888888888, \"#fdca26\"], [1.0, \"#f0f921\"]], \"type\": \"contour\"}], \"contourcarpet\": [{\"colorbar\": {\"outlinewidth\": 0, \"ticks\": \"\"}, \"type\": \"contourcarpet\"}], \"heatmap\": [{\"colorbar\": {\"outlinewidth\": 0, \"ticks\": \"\"}, \"colorscale\": [[0.0, \"#0d0887\"], [0.1111111111111111, \"#46039f\"], [0.2222222222222222, \"#7201a8\"], [0.3333333333333333, \"#9c179e\"], [0.4444444444444444, \"#bd3786\"], [0.5555555555555556, \"#d8576b\"], [0.6666666666666666, \"#ed7953\"], [0.7777777777777778, \"#fb9f3a\"], [0.8888888888888888, \"#fdca26\"], [1.0, \"#f0f921\"]], \"type\": \"heatmap\"}], \"heatmapgl\": [{\"colorbar\": {\"outlinewidth\": 0, \"ticks\": \"\"}, \"colorscale\": [[0.0, \"#0d0887\"], [0.1111111111111111, \"#46039f\"], [0.2222222222222222, \"#7201a8\"], [0.3333333333333333, \"#9c179e\"], [0.4444444444444444, \"#bd3786\"], [0.5555555555555556, \"#d8576b\"], [0.6666666666666666, \"#ed7953\"], [0.7777777777777778, \"#fb9f3a\"], [0.8888888888888888, \"#fdca26\"], [1.0, \"#f0f921\"]], \"type\": \"heatmapgl\"}], \"histogram\": [{\"marker\": {\"colorbar\": {\"outlinewidth\": 0, \"ticks\": \"\"}}, \"type\": \"histogram\"}], \"histogram2d\": [{\"colorbar\": {\"outlinewidth\": 0, \"ticks\": \"\"}, \"colorscale\": [[0.0, \"#0d0887\"], [0.1111111111111111, \"#46039f\"], [0.2222222222222222, \"#7201a8\"], [0.3333333333333333, \"#9c179e\"], [0.4444444444444444, \"#bd3786\"], [0.5555555555555556, \"#d8576b\"], [0.6666666666666666, \"#ed7953\"], [0.7777777777777778, \"#fb9f3a\"], [0.8888888888888888, \"#fdca26\"], [1.0, \"#f0f921\"]], \"type\": \"histogram2d\"}], \"histogram2dcontour\": [{\"colorbar\": {\"outlinewidth\": 0, \"ticks\": \"\"}, \"colorscale\": [[0.0, \"#0d0887\"], [0.1111111111111111, \"#46039f\"], [0.2222222222222222, \"#7201a8\"], [0.3333333333333333, \"#9c179e\"], [0.4444444444444444, \"#bd3786\"], [0.5555555555555556, \"#d8576b\"], [0.6666666666666666, \"#ed7953\"], [0.7777777777777778, \"#fb9f3a\"], [0.8888888888888888, \"#fdca26\"], [1.0, \"#f0f921\"]], \"type\": \"histogram2dcontour\"}], \"mesh3d\": [{\"colorbar\": {\"outlinewidth\": 0, \"ticks\": \"\"}, \"type\": \"mesh3d\"}], \"parcoords\": [{\"line\": {\"colorbar\": {\"outlinewidth\": 0, \"ticks\": \"\"}}, \"type\": \"parcoords\"}], \"pie\": [{\"automargin\": true, \"type\": \"pie\"}], \"scatter\": [{\"marker\": {\"colorbar\": {\"outlinewidth\": 0, \"ticks\": \"\"}}, \"type\": \"scatter\"}], \"scatter3d\": [{\"line\": {\"colorbar\": {\"outlinewidth\": 0, \"ticks\": \"\"}}, \"marker\": {\"colorbar\": {\"outlinewidth\": 0, \"ticks\": \"\"}}, \"type\": \"scatter3d\"}], \"scattercarpet\": [{\"marker\": {\"colorbar\": {\"outlinewidth\": 0, \"ticks\": \"\"}}, \"type\": \"scattercarpet\"}], \"scattergeo\": [{\"marker\": {\"colorbar\": {\"outlinewidth\": 0, \"ticks\": \"\"}}, \"type\": \"scattergeo\"}], \"scattergl\": [{\"marker\": {\"colorbar\": {\"outlinewidth\": 0, \"ticks\": \"\"}}, \"type\": \"scattergl\"}], \"scattermapbox\": [{\"marker\": {\"colorbar\": {\"outlinewidth\": 0, \"ticks\": \"\"}}, \"type\": \"scattermapbox\"}], \"scatterpolar\": [{\"marker\": {\"colorbar\": {\"outlinewidth\": 0, \"ticks\": \"\"}}, \"type\": \"scatterpolar\"}], \"scatterpolargl\": [{\"marker\": {\"colorbar\": {\"outlinewidth\": 0, \"ticks\": \"\"}}, \"type\": \"scatterpolargl\"}], \"scatterternary\": [{\"marker\": {\"colorbar\": {\"outlinewidth\": 0, \"ticks\": \"\"}}, \"type\": \"scatterternary\"}], \"surface\": [{\"colorbar\": {\"outlinewidth\": 0, \"ticks\": \"\"}, \"colorscale\": [[0.0, \"#0d0887\"], [0.1111111111111111, \"#46039f\"], [0.2222222222222222, \"#7201a8\"], [0.3333333333333333, \"#9c179e\"], [0.4444444444444444, \"#bd3786\"], [0.5555555555555556, \"#d8576b\"], [0.6666666666666666, \"#ed7953\"], [0.7777777777777778, \"#fb9f3a\"], [0.8888888888888888, \"#fdca26\"], [1.0, \"#f0f921\"]], \"type\": \"surface\"}], \"table\": [{\"cells\": {\"fill\": {\"color\": \"#EBF0F8\"}, \"line\": {\"color\": \"white\"}}, \"header\": {\"fill\": {\"color\": \"#C8D4E3\"}, \"line\": {\"color\": \"white\"}}, \"type\": \"table\"}]}, \"layout\": {\"annotationdefaults\": {\"arrowcolor\": \"#2a3f5f\", \"arrowhead\": 0, \"arrowwidth\": 1}, \"coloraxis\": {\"colorbar\": {\"outlinewidth\": 0, \"ticks\": \"\"}}, \"colorscale\": {\"diverging\": [[0, \"#8e0152\"], [0.1, \"#c51b7d\"], [0.2, \"#de77ae\"], [0.3, \"#f1b6da\"], [0.4, \"#fde0ef\"], [0.5, \"#f7f7f7\"], [0.6, \"#e6f5d0\"], [0.7, \"#b8e186\"], [0.8, \"#7fbc41\"], [0.9, \"#4d9221\"], [1, \"#276419\"]], \"sequential\": [[0.0, \"#0d0887\"], [0.1111111111111111, \"#46039f\"], [0.2222222222222222, \"#7201a8\"], [0.3333333333333333, \"#9c179e\"], [0.4444444444444444, \"#bd3786\"], [0.5555555555555556, \"#d8576b\"], [0.6666666666666666, \"#ed7953\"], [0.7777777777777778, \"#fb9f3a\"], [0.8888888888888888, \"#fdca26\"], [1.0, \"#f0f921\"]], \"sequentialminus\": [[0.0, \"#0d0887\"], [0.1111111111111111, \"#46039f\"], [0.2222222222222222, \"#7201a8\"], [0.3333333333333333, \"#9c179e\"], [0.4444444444444444, \"#bd3786\"], [0.5555555555555556, \"#d8576b\"], [0.6666666666666666, \"#ed7953\"], [0.7777777777777778, \"#fb9f3a\"], [0.8888888888888888, \"#fdca26\"], [1.0, \"#f0f921\"]]}, \"colorway\": [\"#636efa\", \"#EF553B\", \"#00cc96\", \"#ab63fa\", \"#FFA15A\", \"#19d3f3\", \"#FF6692\", \"#B6E880\", \"#FF97FF\", \"#FECB52\"], \"font\": {\"color\": \"#2a3f5f\"}, \"geo\": {\"bgcolor\": \"white\", \"lakecolor\": \"white\", \"landcolor\": \"#E5ECF6\", \"showlakes\": true, \"showland\": true, \"subunitcolor\": \"white\"}, \"hoverlabel\": {\"align\": \"left\"}, \"hovermode\": \"closest\", \"mapbox\": {\"style\": \"light\"}, \"paper_bgcolor\": \"white\", \"plot_bgcolor\": \"#E5ECF6\", \"polar\": {\"angularaxis\": {\"gridcolor\": \"white\", \"linecolor\": \"white\", \"ticks\": \"\"}, \"bgcolor\": \"#E5ECF6\", \"radialaxis\": {\"gridcolor\": \"white\", \"linecolor\": \"white\", \"ticks\": \"\"}}, \"scene\": {\"xaxis\": {\"backgroundcolor\": \"#E5ECF6\", \"gridcolor\": \"white\", \"gridwidth\": 2, \"linecolor\": \"white\", \"showbackground\": true, \"ticks\": \"\", \"zerolinecolor\": \"white\"}, \"yaxis\": {\"backgroundcolor\": \"#E5ECF6\", \"gridcolor\": \"white\", \"gridwidth\": 2, \"linecolor\": \"white\", \"showbackground\": true, \"ticks\": \"\", \"zerolinecolor\": \"white\"}, \"zaxis\": {\"backgroundcolor\": \"#E5ECF6\", \"gridcolor\": \"white\", \"gridwidth\": 2, \"linecolor\": \"white\", \"showbackground\": true, \"ticks\": \"\", \"zerolinecolor\": \"white\"}}, \"shapedefaults\": {\"line\": {\"color\": \"#2a3f5f\"}}, \"ternary\": {\"aaxis\": {\"gridcolor\": \"white\", \"linecolor\": \"white\", \"ticks\": \"\"}, \"baxis\": {\"gridcolor\": \"white\", \"linecolor\": \"white\", \"ticks\": \"\"}, \"bgcolor\": \"#E5ECF6\", \"caxis\": {\"gridcolor\": \"white\", \"linecolor\": \"white\", \"ticks\": \"\"}}, \"title\": {\"x\": 0.05}, \"xaxis\": {\"automargin\": true, \"gridcolor\": \"white\", \"linecolor\": \"white\", \"ticks\": \"\", \"title\": {\"standoff\": 15}, \"zerolinecolor\": \"white\", \"zerolinewidth\": 2}, \"yaxis\": {\"automargin\": true, \"gridcolor\": \"white\", \"linecolor\": \"white\", \"ticks\": \"\", \"title\": {\"standoff\": 15}, \"zerolinecolor\": \"white\", \"zerolinewidth\": 2}}}, \"title\": {\"text\": \"CNN Cost to Run\"}, \"xaxis\": {\"anchor\": \"y\", \"domain\": [0.0, 1.0], \"title\": {\"text\": \"Run\"}}, \"yaxis\": {\"anchor\": \"x\", \"domain\": [0.0, 1.0], \"title\": {\"text\": \"Cost\"}}},\n",
              "                        {\"responsive\": true}\n",
              "                    ).then(function(){\n",
              "                            \n",
              "var gd = document.getElementById('217316d9-b436-40ba-98c4-d7a6daa8600d');\n",
              "var x = new MutationObserver(function (mutations, observer) {{\n",
              "        var display = window.getComputedStyle(gd).display;\n",
              "        if (!display || display === 'none') {{\n",
              "            console.log([gd, 'removed!']);\n",
              "            Plotly.purge(gd);\n",
              "            observer.disconnect();\n",
              "        }}\n",
              "}});\n",
              "\n",
              "// Listen for the removal of the full notebook cells\n",
              "var notebookContainer = gd.closest('#notebook-container');\n",
              "if (notebookContainer) {{\n",
              "    x.observe(notebookContainer, {childList: true});\n",
              "}}\n",
              "\n",
              "// Listen for the clearing of the current output cell\n",
              "var outputEl = gd.closest('.output');\n",
              "if (outputEl) {{\n",
              "    x.observe(outputEl, {childList: true});\n",
              "}}\n",
              "\n",
              "                        })\n",
              "                };\n",
              "                \n",
              "            </script>\n",
              "        </div>\n",
              "</body>\n",
              "</html>"
            ]
          },
          "metadata": {}
        }
      ]
    },
    {
      "cell_type": "code",
      "metadata": {
        "colab": {
          "base_uri": "https://localhost:8080/",
          "height": 542
        },
        "id": "Gzy6_QnBMhxs",
        "outputId": "f3dcbeb1-eb1e-464a-cddf-d2fef9048fab"
      },
      "source": [
        "cnn_filter = cnn_test[cnn_full[\"Type\"]==\"Test\"]\n",
        "px.line(cnn_filter, x = \"Run\", y = \"Cost Per Accuracy\", title = \"CNN Cost Per Accuracy\")"
      ],
      "execution_count": 38,
      "outputs": [
        {
          "output_type": "display_data",
          "data": {
            "text/html": [
              "<html>\n",
              "<head><meta charset=\"utf-8\" /></head>\n",
              "<body>\n",
              "    <div>\n",
              "            <script src=\"https://cdnjs.cloudflare.com/ajax/libs/mathjax/2.7.5/MathJax.js?config=TeX-AMS-MML_SVG\"></script><script type=\"text/javascript\">if (window.MathJax) {MathJax.Hub.Config({SVG: {font: \"STIX-Web\"}});}</script>\n",
              "                <script type=\"text/javascript\">window.PlotlyConfig = {MathJaxConfig: 'local'};</script>\n",
              "        <script src=\"https://cdn.plot.ly/plotly-latest.min.js\"></script>    \n",
              "            <div id=\"23b98a47-acdd-43cb-94db-8709707eefa9\" class=\"plotly-graph-div\" style=\"height:525px; width:100%;\"></div>\n",
              "            <script type=\"text/javascript\">\n",
              "                \n",
              "                    window.PLOTLYENV=window.PLOTLYENV || {};\n",
              "                    \n",
              "                if (document.getElementById(\"23b98a47-acdd-43cb-94db-8709707eefa9\")) {\n",
              "                    Plotly.newPlot(\n",
              "                        '23b98a47-acdd-43cb-94db-8709707eefa9',\n",
              "                        [{\"hoverlabel\": {\"namelength\": 0}, \"hovertemplate\": \"Run=%{x}<br>Cost Per Accuracy=%{y}\", \"legendgroup\": \"\", \"line\": {\"color\": \"#636efa\", \"dash\": \"solid\"}, \"mode\": \"lines\", \"name\": \"\", \"showlegend\": false, \"type\": \"scatter\", \"x\": [1, 2, 3, 4, 5, 6, 7, 8, 9, 10], \"xaxis\": \"x\", \"y\": [0.03652262553398972, 0.03740477464244854, 0.032189624115524125, 0.04104134017206636, 0.04603078164569972, 0.03229251957158874, 0.047796477156974444, 0.043761255224677484, 0.04925894416685724, 0.049225614720839694], \"yaxis\": \"y\"}],\n",
              "                        {\"legend\": {\"tracegroupgap\": 0}, \"template\": {\"data\": {\"bar\": [{\"error_x\": {\"color\": \"#2a3f5f\"}, \"error_y\": {\"color\": \"#2a3f5f\"}, \"marker\": {\"line\": {\"color\": \"#E5ECF6\", \"width\": 0.5}}, \"type\": \"bar\"}], \"barpolar\": [{\"marker\": {\"line\": {\"color\": \"#E5ECF6\", \"width\": 0.5}}, \"type\": \"barpolar\"}], \"carpet\": [{\"aaxis\": {\"endlinecolor\": \"#2a3f5f\", \"gridcolor\": \"white\", \"linecolor\": \"white\", \"minorgridcolor\": \"white\", \"startlinecolor\": \"#2a3f5f\"}, \"baxis\": {\"endlinecolor\": \"#2a3f5f\", \"gridcolor\": \"white\", \"linecolor\": \"white\", \"minorgridcolor\": \"white\", \"startlinecolor\": \"#2a3f5f\"}, \"type\": \"carpet\"}], \"choropleth\": [{\"colorbar\": {\"outlinewidth\": 0, \"ticks\": \"\"}, \"type\": \"choropleth\"}], \"contour\": [{\"colorbar\": {\"outlinewidth\": 0, \"ticks\": \"\"}, \"colorscale\": [[0.0, \"#0d0887\"], [0.1111111111111111, \"#46039f\"], [0.2222222222222222, \"#7201a8\"], [0.3333333333333333, \"#9c179e\"], [0.4444444444444444, \"#bd3786\"], [0.5555555555555556, \"#d8576b\"], [0.6666666666666666, \"#ed7953\"], [0.7777777777777778, \"#fb9f3a\"], [0.8888888888888888, \"#fdca26\"], [1.0, \"#f0f921\"]], \"type\": \"contour\"}], \"contourcarpet\": [{\"colorbar\": {\"outlinewidth\": 0, \"ticks\": \"\"}, \"type\": \"contourcarpet\"}], \"heatmap\": [{\"colorbar\": {\"outlinewidth\": 0, \"ticks\": \"\"}, \"colorscale\": [[0.0, \"#0d0887\"], [0.1111111111111111, \"#46039f\"], [0.2222222222222222, \"#7201a8\"], [0.3333333333333333, \"#9c179e\"], [0.4444444444444444, \"#bd3786\"], [0.5555555555555556, \"#d8576b\"], [0.6666666666666666, \"#ed7953\"], [0.7777777777777778, \"#fb9f3a\"], [0.8888888888888888, \"#fdca26\"], [1.0, \"#f0f921\"]], \"type\": \"heatmap\"}], \"heatmapgl\": [{\"colorbar\": {\"outlinewidth\": 0, \"ticks\": \"\"}, \"colorscale\": [[0.0, \"#0d0887\"], [0.1111111111111111, \"#46039f\"], [0.2222222222222222, \"#7201a8\"], [0.3333333333333333, \"#9c179e\"], [0.4444444444444444, \"#bd3786\"], [0.5555555555555556, \"#d8576b\"], [0.6666666666666666, \"#ed7953\"], [0.7777777777777778, \"#fb9f3a\"], [0.8888888888888888, \"#fdca26\"], [1.0, \"#f0f921\"]], \"type\": \"heatmapgl\"}], \"histogram\": [{\"marker\": {\"colorbar\": {\"outlinewidth\": 0, \"ticks\": \"\"}}, \"type\": \"histogram\"}], \"histogram2d\": [{\"colorbar\": {\"outlinewidth\": 0, \"ticks\": \"\"}, \"colorscale\": [[0.0, \"#0d0887\"], [0.1111111111111111, \"#46039f\"], [0.2222222222222222, \"#7201a8\"], [0.3333333333333333, \"#9c179e\"], [0.4444444444444444, \"#bd3786\"], [0.5555555555555556, \"#d8576b\"], [0.6666666666666666, \"#ed7953\"], [0.7777777777777778, \"#fb9f3a\"], [0.8888888888888888, \"#fdca26\"], [1.0, \"#f0f921\"]], \"type\": \"histogram2d\"}], \"histogram2dcontour\": [{\"colorbar\": {\"outlinewidth\": 0, \"ticks\": \"\"}, \"colorscale\": [[0.0, \"#0d0887\"], [0.1111111111111111, \"#46039f\"], [0.2222222222222222, \"#7201a8\"], [0.3333333333333333, \"#9c179e\"], [0.4444444444444444, \"#bd3786\"], [0.5555555555555556, \"#d8576b\"], [0.6666666666666666, \"#ed7953\"], [0.7777777777777778, \"#fb9f3a\"], [0.8888888888888888, \"#fdca26\"], [1.0, \"#f0f921\"]], \"type\": \"histogram2dcontour\"}], \"mesh3d\": [{\"colorbar\": {\"outlinewidth\": 0, \"ticks\": \"\"}, \"type\": \"mesh3d\"}], \"parcoords\": [{\"line\": {\"colorbar\": {\"outlinewidth\": 0, \"ticks\": \"\"}}, \"type\": \"parcoords\"}], \"pie\": [{\"automargin\": true, \"type\": \"pie\"}], \"scatter\": [{\"marker\": {\"colorbar\": {\"outlinewidth\": 0, \"ticks\": \"\"}}, \"type\": \"scatter\"}], \"scatter3d\": [{\"line\": {\"colorbar\": {\"outlinewidth\": 0, \"ticks\": \"\"}}, \"marker\": {\"colorbar\": {\"outlinewidth\": 0, \"ticks\": \"\"}}, \"type\": \"scatter3d\"}], \"scattercarpet\": [{\"marker\": {\"colorbar\": {\"outlinewidth\": 0, \"ticks\": \"\"}}, \"type\": \"scattercarpet\"}], \"scattergeo\": [{\"marker\": {\"colorbar\": {\"outlinewidth\": 0, \"ticks\": \"\"}}, \"type\": \"scattergeo\"}], \"scattergl\": [{\"marker\": {\"colorbar\": {\"outlinewidth\": 0, \"ticks\": \"\"}}, \"type\": \"scattergl\"}], \"scattermapbox\": [{\"marker\": {\"colorbar\": {\"outlinewidth\": 0, \"ticks\": \"\"}}, \"type\": \"scattermapbox\"}], \"scatterpolar\": [{\"marker\": {\"colorbar\": {\"outlinewidth\": 0, \"ticks\": \"\"}}, \"type\": \"scatterpolar\"}], \"scatterpolargl\": [{\"marker\": {\"colorbar\": {\"outlinewidth\": 0, \"ticks\": \"\"}}, \"type\": \"scatterpolargl\"}], \"scatterternary\": [{\"marker\": {\"colorbar\": {\"outlinewidth\": 0, \"ticks\": \"\"}}, \"type\": \"scatterternary\"}], \"surface\": [{\"colorbar\": {\"outlinewidth\": 0, \"ticks\": \"\"}, \"colorscale\": [[0.0, \"#0d0887\"], [0.1111111111111111, \"#46039f\"], [0.2222222222222222, \"#7201a8\"], [0.3333333333333333, \"#9c179e\"], [0.4444444444444444, \"#bd3786\"], [0.5555555555555556, \"#d8576b\"], [0.6666666666666666, \"#ed7953\"], [0.7777777777777778, \"#fb9f3a\"], [0.8888888888888888, \"#fdca26\"], [1.0, \"#f0f921\"]], \"type\": \"surface\"}], \"table\": [{\"cells\": {\"fill\": {\"color\": \"#EBF0F8\"}, \"line\": {\"color\": \"white\"}}, \"header\": {\"fill\": {\"color\": \"#C8D4E3\"}, \"line\": {\"color\": \"white\"}}, \"type\": \"table\"}]}, \"layout\": {\"annotationdefaults\": {\"arrowcolor\": \"#2a3f5f\", \"arrowhead\": 0, \"arrowwidth\": 1}, \"coloraxis\": {\"colorbar\": {\"outlinewidth\": 0, \"ticks\": \"\"}}, \"colorscale\": {\"diverging\": [[0, \"#8e0152\"], [0.1, \"#c51b7d\"], [0.2, \"#de77ae\"], [0.3, \"#f1b6da\"], [0.4, \"#fde0ef\"], [0.5, \"#f7f7f7\"], [0.6, \"#e6f5d0\"], [0.7, \"#b8e186\"], [0.8, \"#7fbc41\"], [0.9, \"#4d9221\"], [1, \"#276419\"]], \"sequential\": [[0.0, \"#0d0887\"], [0.1111111111111111, \"#46039f\"], [0.2222222222222222, \"#7201a8\"], [0.3333333333333333, \"#9c179e\"], [0.4444444444444444, \"#bd3786\"], [0.5555555555555556, \"#d8576b\"], [0.6666666666666666, \"#ed7953\"], [0.7777777777777778, \"#fb9f3a\"], [0.8888888888888888, \"#fdca26\"], [1.0, \"#f0f921\"]], \"sequentialminus\": [[0.0, \"#0d0887\"], [0.1111111111111111, \"#46039f\"], [0.2222222222222222, \"#7201a8\"], [0.3333333333333333, \"#9c179e\"], [0.4444444444444444, \"#bd3786\"], [0.5555555555555556, \"#d8576b\"], [0.6666666666666666, \"#ed7953\"], [0.7777777777777778, \"#fb9f3a\"], [0.8888888888888888, \"#fdca26\"], [1.0, \"#f0f921\"]]}, \"colorway\": [\"#636efa\", \"#EF553B\", \"#00cc96\", \"#ab63fa\", \"#FFA15A\", \"#19d3f3\", \"#FF6692\", \"#B6E880\", \"#FF97FF\", \"#FECB52\"], \"font\": {\"color\": \"#2a3f5f\"}, \"geo\": {\"bgcolor\": \"white\", \"lakecolor\": \"white\", \"landcolor\": \"#E5ECF6\", \"showlakes\": true, \"showland\": true, \"subunitcolor\": \"white\"}, \"hoverlabel\": {\"align\": \"left\"}, \"hovermode\": \"closest\", \"mapbox\": {\"style\": \"light\"}, \"paper_bgcolor\": \"white\", \"plot_bgcolor\": \"#E5ECF6\", \"polar\": {\"angularaxis\": {\"gridcolor\": \"white\", \"linecolor\": \"white\", \"ticks\": \"\"}, \"bgcolor\": \"#E5ECF6\", \"radialaxis\": {\"gridcolor\": \"white\", \"linecolor\": \"white\", \"ticks\": \"\"}}, \"scene\": {\"xaxis\": {\"backgroundcolor\": \"#E5ECF6\", \"gridcolor\": \"white\", \"gridwidth\": 2, \"linecolor\": \"white\", \"showbackground\": true, \"ticks\": \"\", \"zerolinecolor\": \"white\"}, \"yaxis\": {\"backgroundcolor\": \"#E5ECF6\", \"gridcolor\": \"white\", \"gridwidth\": 2, \"linecolor\": \"white\", \"showbackground\": true, \"ticks\": \"\", \"zerolinecolor\": \"white\"}, \"zaxis\": {\"backgroundcolor\": \"#E5ECF6\", \"gridcolor\": \"white\", \"gridwidth\": 2, \"linecolor\": \"white\", \"showbackground\": true, \"ticks\": \"\", \"zerolinecolor\": \"white\"}}, \"shapedefaults\": {\"line\": {\"color\": \"#2a3f5f\"}}, \"ternary\": {\"aaxis\": {\"gridcolor\": \"white\", \"linecolor\": \"white\", \"ticks\": \"\"}, \"baxis\": {\"gridcolor\": \"white\", \"linecolor\": \"white\", \"ticks\": \"\"}, \"bgcolor\": \"#E5ECF6\", \"caxis\": {\"gridcolor\": \"white\", \"linecolor\": \"white\", \"ticks\": \"\"}}, \"title\": {\"x\": 0.05}, \"xaxis\": {\"automargin\": true, \"gridcolor\": \"white\", \"linecolor\": \"white\", \"ticks\": \"\", \"title\": {\"standoff\": 15}, \"zerolinecolor\": \"white\", \"zerolinewidth\": 2}, \"yaxis\": {\"automargin\": true, \"gridcolor\": \"white\", \"linecolor\": \"white\", \"ticks\": \"\", \"title\": {\"standoff\": 15}, \"zerolinecolor\": \"white\", \"zerolinewidth\": 2}}}, \"title\": {\"text\": \"CNN Cost Per Accuracy\"}, \"xaxis\": {\"anchor\": \"y\", \"domain\": [0.0, 1.0], \"title\": {\"text\": \"Run\"}}, \"yaxis\": {\"anchor\": \"x\", \"domain\": [0.0, 1.0], \"title\": {\"text\": \"Cost Per Accuracy\"}}},\n",
              "                        {\"responsive\": true}\n",
              "                    ).then(function(){\n",
              "                            \n",
              "var gd = document.getElementById('23b98a47-acdd-43cb-94db-8709707eefa9');\n",
              "var x = new MutationObserver(function (mutations, observer) {{\n",
              "        var display = window.getComputedStyle(gd).display;\n",
              "        if (!display || display === 'none') {{\n",
              "            console.log([gd, 'removed!']);\n",
              "            Plotly.purge(gd);\n",
              "            observer.disconnect();\n",
              "        }}\n",
              "}});\n",
              "\n",
              "// Listen for the removal of the full notebook cells\n",
              "var notebookContainer = gd.closest('#notebook-container');\n",
              "if (notebookContainer) {{\n",
              "    x.observe(notebookContainer, {childList: true});\n",
              "}}\n",
              "\n",
              "// Listen for the clearing of the current output cell\n",
              "var outputEl = gd.closest('.output');\n",
              "if (outputEl) {{\n",
              "    x.observe(outputEl, {childList: true});\n",
              "}}\n",
              "\n",
              "                        })\n",
              "                };\n",
              "                \n",
              "            </script>\n",
              "        </div>\n",
              "</body>\n",
              "</html>"
            ]
          },
          "metadata": {}
        }
      ]
    },
    {
      "cell_type": "markdown",
      "metadata": {
        "id": "u25navUDBo2H"
      },
      "source": [
        "# Model - SVM"
      ]
    },
    {
      "cell_type": "code",
      "metadata": {
        "id": "0wBb0NHIEusr"
      },
      "source": [
        "def param_query(x,y):\n",
        "  # Creating a grid of parameters\n",
        "  param_grid = {'C': [0.1,1, 10, 100, 1000], 'gamma': [1,0.1,0.01,0.001,0.0001], 'kernel': ['rbf']}\n",
        "\n",
        "  # Instantiation of GridSearchCV: estimater (SVM), grid, and a verbose (text output)\n",
        "  grid = GridSearchCV(SVC(),param_grid,refit=True,verbose=3,n_jobs=-1)\n",
        "\n",
        "  # Fitting the model\n",
        "  grid.fit(x,y)\n",
        "\n",
        "  # Printing the best output\n",
        "  print(grid.best_params_)\n",
        "\n"
      ],
      "execution_count": 52,
      "outputs": []
    },
    {
      "cell_type": "code",
      "metadata": {
        "colab": {
          "base_uri": "https://localhost:8080/"
        },
        "id": "9SNIJ38-N8SO",
        "outputId": "9eacd926-8ffd-4112-a0fa-b99ee4dd9dbb"
      },
      "source": [
        "# Subsetting the first 5000 points data to feed through GridSearch to find the best parameters\n",
        "x = x_train_svm[:5000]\n",
        "y = y_train_svm[:5000]\n",
        "\n",
        "param_query(x,y)"
      ],
      "execution_count": 53,
      "outputs": [
        {
          "output_type": "stream",
          "name": "stdout",
          "text": [
            "Fitting 5 folds for each of 25 candidates, totalling 125 fits\n",
            "{'C': 10, 'gamma': 0.01, 'kernel': 'rbf'}\n"
          ]
        }
      ]
    },
    {
      "cell_type": "markdown",
      "metadata": {
        "id": "dSzutw5OONjD"
      },
      "source": [
        "Finding the GridSearch Results"
      ]
    },
    {
      "cell_type": "code",
      "metadata": {
        "colab": {
          "base_uri": "https://localhost:8080/"
        },
        "id": "VbCrTo_B4lXn",
        "outputId": "c7bd0802-362d-4b31-8265-ec9425902b85"
      },
      "source": [
        "# Define the model\n",
        "model = SVC(C=10,gamma=0.01,verbose=3,kernel='rbf')\n",
        "\n",
        "# Fit the model\n",
        "model.fit(x_train_svm,y_train_svm)"
      ],
      "execution_count": 56,
      "outputs": [
        {
          "output_type": "stream",
          "name": "stdout",
          "text": [
            "[LibSVM]"
          ]
        },
        {
          "output_type": "execute_result",
          "data": {
            "text/plain": [
              "SVC(C=10, gamma=0.01, verbose=3)"
            ]
          },
          "metadata": {},
          "execution_count": 56
        }
      ]
    },
    {
      "cell_type": "markdown",
      "metadata": {
        "id": "WP2Ea_TfOR1C"
      },
      "source": [
        "Results"
      ]
    },
    {
      "cell_type": "code",
      "metadata": {
        "id": "XBxPIKkYMCiv"
      },
      "source": [
        "# Make predictions\n",
        "predictions = model.predict(x_test_svm)"
      ],
      "execution_count": 57,
      "outputs": []
    },
    {
      "cell_type": "code",
      "metadata": {
        "id": "XXY4E_VOjMZ7"
      },
      "source": [
        "df_accuracy = pd.DataFrame()"
      ],
      "execution_count": 58,
      "outputs": []
    },
    {
      "cell_type": "code",
      "metadata": {
        "id": "uDPuMRcTcDX_"
      },
      "source": [
        "df_accuracy = df_accuracy.append({'Model': 'SVM', 'Accuracy': accuracy_score(y_test_svm,predictions)}, ignore_index=True)"
      ],
      "execution_count": 59,
      "outputs": []
    },
    {
      "cell_type": "code",
      "metadata": {
        "colab": {
          "base_uri": "https://localhost:8080/",
          "height": 81
        },
        "id": "EBbmu1Lt2YhI",
        "outputId": "09716030-892d-4495-e768-6f9660619233"
      },
      "source": [
        "df_accuracy"
      ],
      "execution_count": 60,
      "outputs": [
        {
          "output_type": "execute_result",
          "data": {
            "text/html": [
              "<div>\n",
              "<style scoped>\n",
              "    .dataframe tbody tr th:only-of-type {\n",
              "        vertical-align: middle;\n",
              "    }\n",
              "\n",
              "    .dataframe tbody tr th {\n",
              "        vertical-align: top;\n",
              "    }\n",
              "\n",
              "    .dataframe thead th {\n",
              "        text-align: right;\n",
              "    }\n",
              "</style>\n",
              "<table border=\"1\" class=\"dataframe\">\n",
              "  <thead>\n",
              "    <tr style=\"text-align: right;\">\n",
              "      <th></th>\n",
              "      <th>Accuracy</th>\n",
              "      <th>Model</th>\n",
              "    </tr>\n",
              "  </thead>\n",
              "  <tbody>\n",
              "    <tr>\n",
              "      <th>0</th>\n",
              "      <td>0.8999</td>\n",
              "      <td>SVM</td>\n",
              "    </tr>\n",
              "  </tbody>\n",
              "</table>\n",
              "</div>"
            ],
            "text/plain": [
              "   Accuracy Model\n",
              "0    0.8999   SVM"
            ]
          },
          "metadata": {},
          "execution_count": 60
        }
      ]
    },
    {
      "cell_type": "code",
      "metadata": {
        "colab": {
          "base_uri": "https://localhost:8080/"
        },
        "id": "cco9-n2i2ZxJ",
        "outputId": "076a29d7-8203-4815-a922-47ab12bcc44a"
      },
      "source": [
        "# Starting the Timer\n",
        "start = timeit.default_timer()\n",
        "\n",
        "# Figuring out the time the model takes to run\n",
        "\n",
        "# Subsetting the first 5000 points data to feed through GridSearch to find the best parameters\n",
        "x = x_train_svm[:5000]\n",
        "y = y_train_svm[:5000]\n",
        "\n",
        "param_query(x,y)\n",
        "\n",
        "# Subsetting the first 5000 points data to feed through GridSearch to find the best parameters\n",
        "x = x_train_svm[:5000]\n",
        "y = y_train_svm[:5000]\n",
        "\n",
        "# Define the model\n",
        "model = SVC(C=10,gamma=0.01,verbose=3,kernel='rbf')\n",
        "\n",
        "# Fit the model\n",
        "model.fit(x_train_svm,y_train_svm)\n",
        "\n",
        "# Make predictions\n",
        "predictions = model.predict(x_test_svm)\n",
        "\n",
        "df_accuracy = pd.DataFrame()\n",
        "\n",
        "df_accuracy = df_accuracy.append({'Model': 'SVM', 'Accuracy': accuracy_score(y_test_svm,predictions)}, ignore_index=True)\n",
        "df_accuracy\n",
        "\n",
        "# Starting the Timer\n",
        "end = timeit.default_timer()\n",
        "\n",
        "timer_length = start - end"
      ],
      "execution_count": 61,
      "outputs": [
        {
          "metadata": {
            "tags": null
          },
          "name": "stdout",
          "output_type": "stream",
          "text": [
            "Fitting 5 folds for each of 25 candidates, totalling 125 fits\n",
            "{'C': 10, 'gamma': 0.01, 'kernel': 'rbf'}\n",
            "[LibSVM]"
          ]
        }
      ]
    },
    {
      "cell_type": "code",
      "metadata": {
        "colab": {
          "base_uri": "https://localhost:8080/"
        },
        "id": "gTiOE1l02uHS",
        "outputId": "ca38af87-38e0-459e-a1f1-3bdb8141d4c0"
      },
      "source": [
        "timer_length"
      ],
      "execution_count": 62,
      "outputs": [
        {
          "output_type": "execute_result",
          "data": {
            "text/plain": [
              "-1376.9808130269994"
            ]
          },
          "metadata": {},
          "execution_count": 62
        }
      ]
    },
    {
      "cell_type": "code",
      "metadata": {
        "id": "l4cyqOCv2yr0"
      },
      "source": [
        ""
      ],
      "execution_count": null,
      "outputs": []
    }
  ]
}
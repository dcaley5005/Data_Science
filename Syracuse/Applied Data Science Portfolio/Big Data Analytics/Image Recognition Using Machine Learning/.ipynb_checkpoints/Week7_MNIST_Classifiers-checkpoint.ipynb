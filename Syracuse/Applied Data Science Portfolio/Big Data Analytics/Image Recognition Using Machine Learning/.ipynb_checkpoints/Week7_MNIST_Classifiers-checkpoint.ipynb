{
 "cells": [
  {
   "cell_type": "markdown",
   "metadata": {
    "colab_type": "text",
    "id": "view-in-github"
   },
   "source": [
    "<a href=\"https://colab.research.google.com/github/2SUBDA/Breakouts/blob/Week7/Week7_MNIST_Classifiers.ipynb\" target=\"_parent\"><img src=\"https://colab.research.google.com/assets/colab-badge.svg\" alt=\"Open In Colab\"/></a>"
   ]
  },
  {
   "cell_type": "code",
   "execution_count": 5,
   "metadata": {
    "colab": {},
    "colab_type": "code",
    "id": "w7EbKlLH5TqV"
   },
   "outputs": [],
   "source": [
    "# BASED ON scikit learn DOCUMENTATION\n",
    "\n",
    "import numpy as np\n",
    "import pandas as pd\n",
    "import sklearn\n",
    "\n",
    "\n",
    "from sklearn.neighbors import KNeighborsClassifier\n",
    "from sklearn.datasets import fetch_openml\n",
    "from sklearn.utils import check_random_state\n",
    "from sklearn.model_selection import train_test_split"
   ]
  },
  {
   "cell_type": "markdown",
   "metadata": {
    "colab_type": "text",
    "id": "fESmB75b-OTd"
   },
   "source": [
    "# The Data"
   ]
  },
  {
   "cell_type": "markdown",
   "metadata": {
    "colab_type": "text",
    "id": "K1Lv1RWL-RGN"
   },
   "source": [
    "The MNIST dataset consists of 70,000 handwritten digits used to evaluate algorithms for classification - more details can be found [here](http://yann.lecun.com/exdb/mnist/)."
   ]
  },
  {
   "cell_type": "code",
   "execution_count": 6,
   "metadata": {
    "colab": {},
    "colab_type": "code",
    "id": "yhbHcgR46CwS"
   },
   "outputs": [],
   "source": [
    "# OBTAIN\n",
    "\n",
    "# DATA AVAILABLE @ https://www.openml.org/d/554\n",
    "# THERE ARE MANY SOURCES OF THE MNIST DATA - THIS IS ONE\n",
    "\n",
    "X, y = fetch_openml('mnist_784', version=1, return_X_y=True)\n"
   ]
  },
  {
   "cell_type": "markdown",
   "metadata": {
    "colab_type": "text",
    "id": "j8nmUFcE99FU"
   },
   "source": [
    "# Scrub\n"
   ]
  },
  {
   "cell_type": "code",
   "execution_count": 0,
   "metadata": {
    "colab": {},
    "colab_type": "code",
    "id": "nJprBlZ36rJ4"
   },
   "outputs": [],
   "source": [
    "# SCRUB\n",
    "random_state = check_random_state(0)\n",
    "permutation = random_state.permutation(X.shape[0])\n",
    "X = X[permutation]\n",
    "y = y[permutation]\n",
    "X = X.reshape((X.shape[0], -1))"
   ]
  },
  {
   "cell_type": "code",
   "execution_count": 0,
   "metadata": {
    "colab": {},
    "colab_type": "code",
    "id": "G4zi_6OFn6-o"
   },
   "outputs": [],
   "source": [
    "# SCRUB - FOR TESTING USE SMALLER\n",
    "# k-nearest neighbor algo runtime >= 150 mins | train_samples = 60000\n",
    "\n",
    "# train_samples=6000\n",
    "train_samples = 60000"
   ]
  },
  {
   "cell_type": "code",
   "execution_count": 0,
   "metadata": {
    "colab": {},
    "colab_type": "code",
    "id": "2jI-KB7f7HMo"
   },
   "outputs": [],
   "source": [
    "# SCRUB - TEST / TRAIN SPLIT\n",
    "\n",
    "X_train, X_test, y_train, y_test = train_test_split(\n",
    "    X, y, train_size=train_samples, test_size=10000)"
   ]
  },
  {
   "cell_type": "code",
   "execution_count": 0,
   "metadata": {
    "colab": {},
    "colab_type": "code",
    "id": "tHQsgVJD8vI3"
   },
   "outputs": [],
   "source": [
    "# SCRUB - HOW MIGHT WE NORMALIZE THE DATA TO IMPROVE CLASSIFICATON PERFORMANCE?\n",
    "\n",
    "# from sklearn.preprocessing import StandardScaler\n",
    "# X_train = scaler.fit_transform(X_train)\n",
    "\n",
    "# WHAT DOES THIS DO EXACTLY?\n"
   ]
  },
  {
   "cell_type": "markdown",
   "metadata": {
    "colab_type": "text",
    "id": "EV30Riqz9l9O"
   },
   "source": [
    "# Random Forest"
   ]
  },
  {
   "cell_type": "markdown",
   "metadata": {
    "colab_type": "text",
    "id": "RGFPONrv72Wm"
   },
   "source": [
    "A random forest is an ensemble of decision trees.  More details can be found [here](https://web.archive.org/web/20160417030218/http://ect.bell-labs.com/who/tkh/publications/papers/odt.pdf)\n"
   ]
  },
  {
   "cell_type": "code",
   "execution_count": 0,
   "metadata": {
    "colab": {
     "base_uri": "https://localhost:8080/",
     "height": 35
    },
    "colab_type": "code",
    "id": "H3Z0nrcK86TH",
    "outputId": "26b2c07e-fb4b-4ef8-93c4-645a31f0fe24"
   },
   "outputs": [
    {
     "name": "stdout",
     "output_type": "stream",
     "text": [
      "Score:  0.9691\n"
     ]
    }
   ],
   "source": [
    "# MODEL BUILD - RANDOM FORESTS\n",
    "\n",
    "from sklearn.ensemble import RandomForestClassifier \n",
    "\n",
    "forest = RandomForestClassifier(n_estimators = 100)\n",
    "forest.fit(X_train, y_train)\n",
    "print('Score: ', forest.score(X_test, y_test))\n",
    "predictions = forest.predict(X_test)"
   ]
  },
  {
   "cell_type": "markdown",
   "metadata": {
    "colab_type": "text",
    "id": "la6gwg789tRs"
   },
   "source": [
    "# K-Nearest Neighbors\n"
   ]
  },
  {
   "cell_type": "markdown",
   "metadata": {
    "colab_type": "text",
    "id": "hIWfPzG18YPQ"
   },
   "source": [
    "NOTE: K-Nearest Neighbors is a \"lazy\" algorithm - the separation of test & training is not truly necessary - more details available at https://scikit-learn.org/stable/modules/neighbors.html"
   ]
  },
  {
   "cell_type": "code",
   "execution_count": 0,
   "metadata": {
    "colab": {
     "base_uri": "https://localhost:8080/",
     "height": 35
    },
    "colab_type": "code",
    "id": "rL9NQieErH_Z",
    "outputId": "2589c394-acb3-4f5f-ee20-4aa41dcadfe5"
   },
   "outputs": [
    {
     "data": {
      "text/plain": [
       "0.9870714285714286"
      ]
     },
     "execution_count": 12,
     "metadata": {
      "tags": []
     },
     "output_type": "execute_result"
    }
   ],
   "source": [
    "# MODEL BUILD - K-Nearest Neighbors - Just fit/score entire sample\n",
    "\n",
    "neigh = KNeighborsClassifier(n_neighbors=3)\n",
    "neigh.fit(X, y)\n",
    "neigh.score(X, y)\n"
   ]
  },
  {
   "cell_type": "markdown",
   "metadata": {
    "colab_type": "text",
    "id": "g4bSJGiKGK-m"
   },
   "source": [
    "# Bayes"
   ]
  },
  {
   "cell_type": "code",
   "execution_count": 0,
   "metadata": {
    "colab": {},
    "colab_type": "code",
    "id": "u_jEdD8WGrFc"
   },
   "outputs": [],
   "source": [
    "from sklearn.naive_bayes import GaussianNB\n",
    "\n",
    "from sklearn.metrics import accuracy_score"
   ]
  },
  {
   "cell_type": "code",
   "execution_count": 0,
   "metadata": {
    "colab": {},
    "colab_type": "code",
    "id": "l6nkxhRWGw06"
   },
   "outputs": [],
   "source": [
    "# MODEL\n",
    "\n",
    "# Initialize our classifier\n",
    "gnb = GaussianNB()\n",
    "\n",
    "# Train our classifier\n",
    "model = gnb.fit(X_train, y_train)"
   ]
  },
  {
   "cell_type": "code",
   "execution_count": 0,
   "metadata": {
    "colab": {},
    "colab_type": "code",
    "id": "05ZAR5c1HP2e"
   },
   "outputs": [],
   "source": [
    "# MODEL\n",
    "\n",
    "# Make predictions\n",
    "preds = gnb.predict(X_test)\n",
    "# print(preds)"
   ]
  },
  {
   "cell_type": "code",
   "execution_count": 10,
   "metadata": {
    "colab": {
     "base_uri": "https://localhost:8080/",
     "height": 35
    },
    "colab_type": "code",
    "id": "hi4bSVmpHX71",
    "outputId": "68d07d6a-9f89-443b-f1f4-02e02956bea2"
   },
   "outputs": [
    {
     "name": "stdout",
     "output_type": "stream",
     "text": [
      "0.564\n"
     ]
    }
   ],
   "source": [
    "# MODEL\n",
    "\n",
    "# Evaluate accuracy\n",
    "print(accuracy_score(y_test, preds))"
   ]
  },
  {
   "cell_type": "code",
   "execution_count": 13,
   "metadata": {
    "colab": {
     "base_uri": "https://localhost:8080/",
     "height": 199
    },
    "colab_type": "code",
    "id": "wmzDUYNTHk0n",
    "outputId": "b8dd53d8-4bf8-4eca-b412-a8625540c504"
   },
   "outputs": [
    {
     "name": "stdout",
     "output_type": "stream",
     "text": [
      "[[ 910    1    6    2    4    2   25    0   29   18]\n",
      " [   1 1055    3    3    1    4   12    0   25   18]\n",
      " [  86   32  336   39    7    4  266    2  210   20]\n",
      " [  78   56    8  337    1    1   63   12  336  110]\n",
      " [  23    1    6    2  144    5  100    7  190  492]\n",
      " [ 108   22    3   21    4   43   47    2  535   92]\n",
      " [  12   14    7    1    0    3  923    0   20    1]\n",
      " [   4    6    1    8    8    1    3  330   27  659]\n",
      " [  13  126    7    8    4    5   12    1  605  201]\n",
      " [   5   11    4    2   12    1    1   14   13  957]]\n"
     ]
    }
   ],
   "source": [
    "# INTERPRET\n",
    "\n",
    "expected = y_test\n",
    "predicted = preds\n",
    "print(sklearn.metrics.confusion_matrix(expected, predicted))"
   ]
  }
 ],
 "metadata": {
  "colab": {
   "authorship_tag": "ABX9TyNPDiKqKBpDj1bx4d2qlboI",
   "include_colab_link": true,
   "name": "Week7_MNIST_Classifiers.ipynb",
   "provenance": []
  },
  "kernelspec": {
   "display_name": "Python 3",
   "language": "python",
   "name": "python3"
  },
  "language_info": {
   "codemirror_mode": {
    "name": "ipython",
    "version": 3
   },
   "file_extension": ".py",
   "mimetype": "text/x-python",
   "name": "python",
   "nbconvert_exporter": "python",
   "pygments_lexer": "ipython3",
   "version": "3.8.8"
  }
 },
 "nbformat": 4,
 "nbformat_minor": 1
}

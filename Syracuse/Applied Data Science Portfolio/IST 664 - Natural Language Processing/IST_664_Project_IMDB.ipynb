{
  "nbformat": 4,
  "nbformat_minor": 0,
  "metadata": {
    "colab": {
      "name": "IST 664 Project IMDB.ipynb",
      "provenance": [],
      "collapsed_sections": []
    },
    "kernelspec": {
      "name": "python3",
      "display_name": "Python 3"
    },
    "language_info": {
      "name": "python"
    }
  },
  "cells": [
    {
      "cell_type": "markdown",
      "source": [
        "# File Path Locations"
      ],
      "metadata": {
        "id": "qYkPmO5zCYXL"
      }
    },
    {
      "cell_type": "code",
      "source": [
        "from google.colab import drive\n",
        "drive.mount('/content/drive')"
      ],
      "metadata": {
        "colab": {
          "base_uri": "https://localhost:8080/"
        },
        "id": "eZoprm54BQqJ",
        "outputId": "3b468709-db5d-4cea-8b84-8e1b23315a3b"
      },
      "execution_count": null,
      "outputs": [
        {
          "output_type": "stream",
          "name": "stdout",
          "text": [
            "Drive already mounted at /content/drive; to attempt to forcibly remount, call drive.mount(\"/content/drive\", force_remount=True).\n"
          ]
        }
      ]
    },
    {
      "cell_type": "code",
      "source": [
        "# Path to all the input data\n",
        "data_path = '/content/drive/MyDrive/IST 664 Project - DL/kagglemoviereviews/corpus/'"
      ],
      "metadata": {
        "id": "FV2b4ZMSB4aP"
      },
      "execution_count": null,
      "outputs": []
    },
    {
      "cell_type": "markdown",
      "source": [
        "# Library"
      ],
      "metadata": {
        "id": "Y7CZlQu3ArN4"
      }
    },
    {
      "cell_type": "code",
      "execution_count": null,
      "metadata": {
        "id": "h_UXkI9EAnEB",
        "colab": {
          "base_uri": "https://localhost:8080/"
        },
        "outputId": "ab3ca07e-e573-440d-8996-6d6c61d43978"
      },
      "outputs": [
        {
          "output_type": "stream",
          "name": "stdout",
          "text": [
            "[nltk_data] Downloading package punkt to /root/nltk_data...\n",
            "[nltk_data]   Package punkt is already up-to-date!\n",
            "[nltk_data] Downloading package stopwords to /root/nltk_data...\n",
            "[nltk_data]   Package stopwords is already up-to-date!\n"
          ]
        },
        {
          "output_type": "execute_result",
          "data": {
            "text/plain": [
              "True"
            ]
          },
          "metadata": {},
          "execution_count": 48
        }
      ],
      "source": [
        "# Stats Packages\n",
        "import pandas as pd\n",
        "import numpy as np\n",
        "import plotly.express as px\n",
        "\n",
        "# NLP Packages\n",
        "import os\n",
        "import sys\n",
        "import random\n",
        "import nltk\n",
        "from nltk.corpus import stopwords\n",
        "from nltk import FreqDist\n",
        "\n",
        "## Downloadable\n",
        "nltk.download('punkt')\n",
        "nltk.download('stopwords')"
      ]
    },
    {
      "cell_type": "markdown",
      "source": [
        "# Reviewing the Data"
      ],
      "metadata": {
        "id": "-QA_cD8ICkBq"
      }
    },
    {
      "cell_type": "code",
      "source": [
        "df_train = pd.read_csv(data_path+'train.tsv', sep='\\t')\n",
        "df_test = pd.read_csv(data_path+'test.tsv', sep='\\t')"
      ],
      "metadata": {
        "id": "XDEOZxYSCM_6"
      },
      "execution_count": null,
      "outputs": []
    },
    {
      "cell_type": "code",
      "source": [
        "unique_sentence = len(np.unique(df_train[\"SentenceId\"]))\n",
        "total_sentence = len(df_train[\"SentenceId\"])\n",
        "\n",
        "print(unique_sentence)\n",
        "print(total_sentence)\n",
        "\n",
        "total_sentence/ unique_sentence"
      ],
      "metadata": {
        "colab": {
          "base_uri": "https://localhost:8080/"
        },
        "id": "koGlpWsdGg7q",
        "outputId": "abe32b43-200e-43ac-f5db-d68d53a1843b"
      },
      "execution_count": null,
      "outputs": [
        {
          "output_type": "stream",
          "name": "stdout",
          "text": [
            "8529\n",
            "156060\n"
          ]
        },
        {
          "output_type": "execute_result",
          "data": {
            "text/plain": [
              "18.297572986282095"
            ]
          },
          "metadata": {},
          "execution_count": 50
        }
      ]
    },
    {
      "cell_type": "code",
      "source": [
        "df_train['FullSentenceId'] = df_train.sort_values(['PhraseId'], ascending=[True]) \\\n",
        "             .groupby(['SentenceId']) \\\n",
        "             .cumcount() + 1\n",
        "\n",
        "df_train[:75]\n"
      ],
      "metadata": {
        "colab": {
          "base_uri": "https://localhost:8080/",
          "height": 424
        },
        "id": "VIFyYSlaCZgw",
        "outputId": "fd3547ba-36e5-417e-8571-43573e33e8e5"
      },
      "execution_count": null,
      "outputs": [
        {
          "output_type": "execute_result",
          "data": {
            "text/html": [
              "\n",
              "  <div id=\"df-fc7c8d33-ff7f-47a7-850f-c2b2f4573d27\">\n",
              "    <div class=\"colab-df-container\">\n",
              "      <div>\n",
              "<style scoped>\n",
              "    .dataframe tbody tr th:only-of-type {\n",
              "        vertical-align: middle;\n",
              "    }\n",
              "\n",
              "    .dataframe tbody tr th {\n",
              "        vertical-align: top;\n",
              "    }\n",
              "\n",
              "    .dataframe thead th {\n",
              "        text-align: right;\n",
              "    }\n",
              "</style>\n",
              "<table border=\"1\" class=\"dataframe\">\n",
              "  <thead>\n",
              "    <tr style=\"text-align: right;\">\n",
              "      <th></th>\n",
              "      <th>PhraseId</th>\n",
              "      <th>SentenceId</th>\n",
              "      <th>Phrase</th>\n",
              "      <th>Sentiment</th>\n",
              "      <th>FullSentenceId</th>\n",
              "    </tr>\n",
              "  </thead>\n",
              "  <tbody>\n",
              "    <tr>\n",
              "      <th>0</th>\n",
              "      <td>1</td>\n",
              "      <td>1</td>\n",
              "      <td>A series of escapades demonstrating the adage ...</td>\n",
              "      <td>1</td>\n",
              "      <td>1</td>\n",
              "    </tr>\n",
              "    <tr>\n",
              "      <th>1</th>\n",
              "      <td>2</td>\n",
              "      <td>1</td>\n",
              "      <td>A series of escapades demonstrating the adage ...</td>\n",
              "      <td>2</td>\n",
              "      <td>2</td>\n",
              "    </tr>\n",
              "    <tr>\n",
              "      <th>2</th>\n",
              "      <td>3</td>\n",
              "      <td>1</td>\n",
              "      <td>A series</td>\n",
              "      <td>2</td>\n",
              "      <td>3</td>\n",
              "    </tr>\n",
              "    <tr>\n",
              "      <th>3</th>\n",
              "      <td>4</td>\n",
              "      <td>1</td>\n",
              "      <td>A</td>\n",
              "      <td>2</td>\n",
              "      <td>4</td>\n",
              "    </tr>\n",
              "    <tr>\n",
              "      <th>4</th>\n",
              "      <td>5</td>\n",
              "      <td>1</td>\n",
              "      <td>series</td>\n",
              "      <td>2</td>\n",
              "      <td>5</td>\n",
              "    </tr>\n",
              "    <tr>\n",
              "      <th>...</th>\n",
              "      <td>...</td>\n",
              "      <td>...</td>\n",
              "      <td>...</td>\n",
              "      <td>...</td>\n",
              "      <td>...</td>\n",
              "    </tr>\n",
              "    <tr>\n",
              "      <th>70</th>\n",
              "      <td>71</td>\n",
              "      <td>2</td>\n",
              "      <td>introspective and entertaining</td>\n",
              "      <td>3</td>\n",
              "      <td>8</td>\n",
              "    </tr>\n",
              "    <tr>\n",
              "      <th>71</th>\n",
              "      <td>72</td>\n",
              "      <td>2</td>\n",
              "      <td>introspective and</td>\n",
              "      <td>3</td>\n",
              "      <td>9</td>\n",
              "    </tr>\n",
              "    <tr>\n",
              "      <th>72</th>\n",
              "      <td>73</td>\n",
              "      <td>2</td>\n",
              "      <td>introspective</td>\n",
              "      <td>2</td>\n",
              "      <td>10</td>\n",
              "    </tr>\n",
              "    <tr>\n",
              "      <th>73</th>\n",
              "      <td>74</td>\n",
              "      <td>2</td>\n",
              "      <td>and</td>\n",
              "      <td>2</td>\n",
              "      <td>11</td>\n",
              "    </tr>\n",
              "    <tr>\n",
              "      <th>74</th>\n",
              "      <td>75</td>\n",
              "      <td>2</td>\n",
              "      <td>entertaining</td>\n",
              "      <td>4</td>\n",
              "      <td>12</td>\n",
              "    </tr>\n",
              "  </tbody>\n",
              "</table>\n",
              "<p>75 rows × 5 columns</p>\n",
              "</div>\n",
              "      <button class=\"colab-df-convert\" onclick=\"convertToInteractive('df-fc7c8d33-ff7f-47a7-850f-c2b2f4573d27')\"\n",
              "              title=\"Convert this dataframe to an interactive table.\"\n",
              "              style=\"display:none;\">\n",
              "        \n",
              "  <svg xmlns=\"http://www.w3.org/2000/svg\" height=\"24px\"viewBox=\"0 0 24 24\"\n",
              "       width=\"24px\">\n",
              "    <path d=\"M0 0h24v24H0V0z\" fill=\"none\"/>\n",
              "    <path d=\"M18.56 5.44l.94 2.06.94-2.06 2.06-.94-2.06-.94-.94-2.06-.94 2.06-2.06.94zm-11 1L8.5 8.5l.94-2.06 2.06-.94-2.06-.94L8.5 2.5l-.94 2.06-2.06.94zm10 10l.94 2.06.94-2.06 2.06-.94-2.06-.94-.94-2.06-.94 2.06-2.06.94z\"/><path d=\"M17.41 7.96l-1.37-1.37c-.4-.4-.92-.59-1.43-.59-.52 0-1.04.2-1.43.59L10.3 9.45l-7.72 7.72c-.78.78-.78 2.05 0 2.83L4 21.41c.39.39.9.59 1.41.59.51 0 1.02-.2 1.41-.59l7.78-7.78 2.81-2.81c.8-.78.8-2.07 0-2.86zM5.41 20L4 18.59l7.72-7.72 1.47 1.35L5.41 20z\"/>\n",
              "  </svg>\n",
              "      </button>\n",
              "      \n",
              "  <style>\n",
              "    .colab-df-container {\n",
              "      display:flex;\n",
              "      flex-wrap:wrap;\n",
              "      gap: 12px;\n",
              "    }\n",
              "\n",
              "    .colab-df-convert {\n",
              "      background-color: #E8F0FE;\n",
              "      border: none;\n",
              "      border-radius: 50%;\n",
              "      cursor: pointer;\n",
              "      display: none;\n",
              "      fill: #1967D2;\n",
              "      height: 32px;\n",
              "      padding: 0 0 0 0;\n",
              "      width: 32px;\n",
              "    }\n",
              "\n",
              "    .colab-df-convert:hover {\n",
              "      background-color: #E2EBFA;\n",
              "      box-shadow: 0px 1px 2px rgba(60, 64, 67, 0.3), 0px 1px 3px 1px rgba(60, 64, 67, 0.15);\n",
              "      fill: #174EA6;\n",
              "    }\n",
              "\n",
              "    [theme=dark] .colab-df-convert {\n",
              "      background-color: #3B4455;\n",
              "      fill: #D2E3FC;\n",
              "    }\n",
              "\n",
              "    [theme=dark] .colab-df-convert:hover {\n",
              "      background-color: #434B5C;\n",
              "      box-shadow: 0px 1px 3px 1px rgba(0, 0, 0, 0.15);\n",
              "      filter: drop-shadow(0px 1px 2px rgba(0, 0, 0, 0.3));\n",
              "      fill: #FFFFFF;\n",
              "    }\n",
              "  </style>\n",
              "\n",
              "      <script>\n",
              "        const buttonEl =\n",
              "          document.querySelector('#df-fc7c8d33-ff7f-47a7-850f-c2b2f4573d27 button.colab-df-convert');\n",
              "        buttonEl.style.display =\n",
              "          google.colab.kernel.accessAllowed ? 'block' : 'none';\n",
              "\n",
              "        async function convertToInteractive(key) {\n",
              "          const element = document.querySelector('#df-fc7c8d33-ff7f-47a7-850f-c2b2f4573d27');\n",
              "          const dataTable =\n",
              "            await google.colab.kernel.invokeFunction('convertToInteractive',\n",
              "                                                     [key], {});\n",
              "          if (!dataTable) return;\n",
              "\n",
              "          const docLinkHtml = 'Like what you see? Visit the ' +\n",
              "            '<a target=\"_blank\" href=https://colab.research.google.com/notebooks/data_table.ipynb>data table notebook</a>'\n",
              "            + ' to learn more about interactive tables.';\n",
              "          element.innerHTML = '';\n",
              "          dataTable['output_type'] = 'display_data';\n",
              "          await google.colab.output.renderOutput(dataTable, element);\n",
              "          const docLink = document.createElement('div');\n",
              "          docLink.innerHTML = docLinkHtml;\n",
              "          element.appendChild(docLink);\n",
              "        }\n",
              "      </script>\n",
              "    </div>\n",
              "  </div>\n",
              "  "
            ],
            "text/plain": [
              "    PhraseId  SentenceId  ... Sentiment  FullSentenceId\n",
              "0          1           1  ...         1               1\n",
              "1          2           1  ...         2               2\n",
              "2          3           1  ...         2               3\n",
              "3          4           1  ...         2               4\n",
              "4          5           1  ...         2               5\n",
              "..       ...         ...  ...       ...             ...\n",
              "70        71           2  ...         3               8\n",
              "71        72           2  ...         3               9\n",
              "72        73           2  ...         2              10\n",
              "73        74           2  ...         2              11\n",
              "74        75           2  ...         4              12\n",
              "\n",
              "[75 rows x 5 columns]"
            ]
          },
          "metadata": {},
          "execution_count": 51
        }
      ]
    },
    {
      "cell_type": "code",
      "source": [
        "parent_df = df_train[df_train[\"FullSentenceId\"]==\"1\"]"
      ],
      "metadata": {
        "id": "lxcCZWb0JSts"
      },
      "execution_count": null,
      "outputs": []
    },
    {
      "cell_type": "code",
      "source": [
        "df_test['FullSentenceId'] = df_test.sort_values(['PhraseId'], ascending=[True]) \\\n",
        "             .groupby(['SentenceId']) \\\n",
        "             .cumcount() + 1\n",
        "df_test[:10]"
      ],
      "metadata": {
        "colab": {
          "base_uri": "https://localhost:8080/",
          "height": 363
        },
        "id": "Q_43nuhCH3Rz",
        "outputId": "a172a183-deca-41bc-cbea-fb0cfb53adc5"
      },
      "execution_count": null,
      "outputs": [
        {
          "output_type": "execute_result",
          "data": {
            "text/html": [
              "\n",
              "  <div id=\"df-ae402cd7-a6f0-40e9-8296-1453773860d3\">\n",
              "    <div class=\"colab-df-container\">\n",
              "      <div>\n",
              "<style scoped>\n",
              "    .dataframe tbody tr th:only-of-type {\n",
              "        vertical-align: middle;\n",
              "    }\n",
              "\n",
              "    .dataframe tbody tr th {\n",
              "        vertical-align: top;\n",
              "    }\n",
              "\n",
              "    .dataframe thead th {\n",
              "        text-align: right;\n",
              "    }\n",
              "</style>\n",
              "<table border=\"1\" class=\"dataframe\">\n",
              "  <thead>\n",
              "    <tr style=\"text-align: right;\">\n",
              "      <th></th>\n",
              "      <th>PhraseId</th>\n",
              "      <th>SentenceId</th>\n",
              "      <th>Phrase</th>\n",
              "      <th>FullSentenceId</th>\n",
              "    </tr>\n",
              "  </thead>\n",
              "  <tbody>\n",
              "    <tr>\n",
              "      <th>0</th>\n",
              "      <td>156061</td>\n",
              "      <td>8545</td>\n",
              "      <td>An intermittently pleasing but mostly routine ...</td>\n",
              "      <td>1</td>\n",
              "    </tr>\n",
              "    <tr>\n",
              "      <th>1</th>\n",
              "      <td>156062</td>\n",
              "      <td>8545</td>\n",
              "      <td>An intermittently pleasing but mostly routine ...</td>\n",
              "      <td>2</td>\n",
              "    </tr>\n",
              "    <tr>\n",
              "      <th>2</th>\n",
              "      <td>156063</td>\n",
              "      <td>8545</td>\n",
              "      <td>An</td>\n",
              "      <td>3</td>\n",
              "    </tr>\n",
              "    <tr>\n",
              "      <th>3</th>\n",
              "      <td>156064</td>\n",
              "      <td>8545</td>\n",
              "      <td>intermittently pleasing but mostly routine effort</td>\n",
              "      <td>4</td>\n",
              "    </tr>\n",
              "    <tr>\n",
              "      <th>4</th>\n",
              "      <td>156065</td>\n",
              "      <td>8545</td>\n",
              "      <td>intermittently pleasing but mostly routine</td>\n",
              "      <td>5</td>\n",
              "    </tr>\n",
              "    <tr>\n",
              "      <th>5</th>\n",
              "      <td>156066</td>\n",
              "      <td>8545</td>\n",
              "      <td>intermittently pleasing but</td>\n",
              "      <td>6</td>\n",
              "    </tr>\n",
              "    <tr>\n",
              "      <th>6</th>\n",
              "      <td>156067</td>\n",
              "      <td>8545</td>\n",
              "      <td>intermittently pleasing</td>\n",
              "      <td>7</td>\n",
              "    </tr>\n",
              "    <tr>\n",
              "      <th>7</th>\n",
              "      <td>156068</td>\n",
              "      <td>8545</td>\n",
              "      <td>intermittently</td>\n",
              "      <td>8</td>\n",
              "    </tr>\n",
              "    <tr>\n",
              "      <th>8</th>\n",
              "      <td>156069</td>\n",
              "      <td>8545</td>\n",
              "      <td>pleasing</td>\n",
              "      <td>9</td>\n",
              "    </tr>\n",
              "    <tr>\n",
              "      <th>9</th>\n",
              "      <td>156070</td>\n",
              "      <td>8545</td>\n",
              "      <td>but</td>\n",
              "      <td>10</td>\n",
              "    </tr>\n",
              "  </tbody>\n",
              "</table>\n",
              "</div>\n",
              "      <button class=\"colab-df-convert\" onclick=\"convertToInteractive('df-ae402cd7-a6f0-40e9-8296-1453773860d3')\"\n",
              "              title=\"Convert this dataframe to an interactive table.\"\n",
              "              style=\"display:none;\">\n",
              "        \n",
              "  <svg xmlns=\"http://www.w3.org/2000/svg\" height=\"24px\"viewBox=\"0 0 24 24\"\n",
              "       width=\"24px\">\n",
              "    <path d=\"M0 0h24v24H0V0z\" fill=\"none\"/>\n",
              "    <path d=\"M18.56 5.44l.94 2.06.94-2.06 2.06-.94-2.06-.94-.94-2.06-.94 2.06-2.06.94zm-11 1L8.5 8.5l.94-2.06 2.06-.94-2.06-.94L8.5 2.5l-.94 2.06-2.06.94zm10 10l.94 2.06.94-2.06 2.06-.94-2.06-.94-.94-2.06-.94 2.06-2.06.94z\"/><path d=\"M17.41 7.96l-1.37-1.37c-.4-.4-.92-.59-1.43-.59-.52 0-1.04.2-1.43.59L10.3 9.45l-7.72 7.72c-.78.78-.78 2.05 0 2.83L4 21.41c.39.39.9.59 1.41.59.51 0 1.02-.2 1.41-.59l7.78-7.78 2.81-2.81c.8-.78.8-2.07 0-2.86zM5.41 20L4 18.59l7.72-7.72 1.47 1.35L5.41 20z\"/>\n",
              "  </svg>\n",
              "      </button>\n",
              "      \n",
              "  <style>\n",
              "    .colab-df-container {\n",
              "      display:flex;\n",
              "      flex-wrap:wrap;\n",
              "      gap: 12px;\n",
              "    }\n",
              "\n",
              "    .colab-df-convert {\n",
              "      background-color: #E8F0FE;\n",
              "      border: none;\n",
              "      border-radius: 50%;\n",
              "      cursor: pointer;\n",
              "      display: none;\n",
              "      fill: #1967D2;\n",
              "      height: 32px;\n",
              "      padding: 0 0 0 0;\n",
              "      width: 32px;\n",
              "    }\n",
              "\n",
              "    .colab-df-convert:hover {\n",
              "      background-color: #E2EBFA;\n",
              "      box-shadow: 0px 1px 2px rgba(60, 64, 67, 0.3), 0px 1px 3px 1px rgba(60, 64, 67, 0.15);\n",
              "      fill: #174EA6;\n",
              "    }\n",
              "\n",
              "    [theme=dark] .colab-df-convert {\n",
              "      background-color: #3B4455;\n",
              "      fill: #D2E3FC;\n",
              "    }\n",
              "\n",
              "    [theme=dark] .colab-df-convert:hover {\n",
              "      background-color: #434B5C;\n",
              "      box-shadow: 0px 1px 3px 1px rgba(0, 0, 0, 0.15);\n",
              "      filter: drop-shadow(0px 1px 2px rgba(0, 0, 0, 0.3));\n",
              "      fill: #FFFFFF;\n",
              "    }\n",
              "  </style>\n",
              "\n",
              "      <script>\n",
              "        const buttonEl =\n",
              "          document.querySelector('#df-ae402cd7-a6f0-40e9-8296-1453773860d3 button.colab-df-convert');\n",
              "        buttonEl.style.display =\n",
              "          google.colab.kernel.accessAllowed ? 'block' : 'none';\n",
              "\n",
              "        async function convertToInteractive(key) {\n",
              "          const element = document.querySelector('#df-ae402cd7-a6f0-40e9-8296-1453773860d3');\n",
              "          const dataTable =\n",
              "            await google.colab.kernel.invokeFunction('convertToInteractive',\n",
              "                                                     [key], {});\n",
              "          if (!dataTable) return;\n",
              "\n",
              "          const docLinkHtml = 'Like what you see? Visit the ' +\n",
              "            '<a target=\"_blank\" href=https://colab.research.google.com/notebooks/data_table.ipynb>data table notebook</a>'\n",
              "            + ' to learn more about interactive tables.';\n",
              "          element.innerHTML = '';\n",
              "          dataTable['output_type'] = 'display_data';\n",
              "          await google.colab.output.renderOutput(dataTable, element);\n",
              "          const docLink = document.createElement('div');\n",
              "          docLink.innerHTML = docLinkHtml;\n",
              "          element.appendChild(docLink);\n",
              "        }\n",
              "      </script>\n",
              "    </div>\n",
              "  </div>\n",
              "  "
            ],
            "text/plain": [
              "   PhraseId  ...  FullSentenceId\n",
              "0    156061  ...               1\n",
              "1    156062  ...               2\n",
              "2    156063  ...               3\n",
              "3    156064  ...               4\n",
              "4    156065  ...               5\n",
              "5    156066  ...               6\n",
              "6    156067  ...               7\n",
              "7    156068  ...               8\n",
              "8    156069  ...               9\n",
              "9    156070  ...              10\n",
              "\n",
              "[10 rows x 4 columns]"
            ]
          },
          "metadata": {},
          "execution_count": 53
        }
      ]
    },
    {
      "cell_type": "code",
      "source": [
        "imdb_df_hist = df_train.groupby([\"SentenceId\"]).agg({\"PhraseId\":len}).reset_index()\n",
        "imdb_df_box = df_train.groupby([\"SentenceId\",\"Sentiment\"]).agg({\"PhraseId\":len}).reset_index()"
      ],
      "metadata": {
        "id": "UqEBhl_sDEp9"
      },
      "execution_count": null,
      "outputs": []
    },
    {
      "cell_type": "code",
      "source": [
        "px.histogram(imdb_df_hist, x = \"PhraseId\",\n",
        "             title = \"Phrase Histogram\",\n",
        "             labels={\"PhraseId\":\"# Phrases\"})"
      ],
      "metadata": {
        "colab": {
          "base_uri": "https://localhost:8080/",
          "height": 542
        },
        "id": "XJX7X2DK5_Xl",
        "outputId": "e9715a95-c11a-4e7b-a8b9-56f4ede92931"
      },
      "execution_count": null,
      "outputs": [
        {
          "output_type": "display_data",
          "data": {
            "text/html": [
              "<html>\n",
              "<head><meta charset=\"utf-8\" /></head>\n",
              "<body>\n",
              "    <div>\n",
              "            <script src=\"https://cdnjs.cloudflare.com/ajax/libs/mathjax/2.7.5/MathJax.js?config=TeX-AMS-MML_SVG\"></script><script type=\"text/javascript\">if (window.MathJax) {MathJax.Hub.Config({SVG: {font: \"STIX-Web\"}});}</script>\n",
              "                <script type=\"text/javascript\">window.PlotlyConfig = {MathJaxConfig: 'local'};</script>\n",
              "        <script src=\"https://cdn.plot.ly/plotly-latest.min.js\"></script>    \n",
              "            <div id=\"3d6b2117-d3b0-454f-9164-8957fdf9ac41\" class=\"plotly-graph-div\" style=\"height:525px; width:100%;\"></div>\n",
              "            <script type=\"text/javascript\">\n",
              "                \n",
              "                    window.PLOTLYENV=window.PLOTLYENV || {};\n",
              "                    \n",
              "                if (document.getElementById(\"3d6b2117-d3b0-454f-9164-8957fdf9ac41\")) {\n",
              "                    Plotly.newPlot(\n",
              "                        '3d6b2117-d3b0-454f-9164-8957fdf9ac41',\n",
              "                        [{\"alignmentgroup\": \"True\", \"bingroup\": \"x\", \"hoverlabel\": {\"namelength\": 0}, \"hovertemplate\": \"# Phrases=%{x}<br>count=%{y}\", \"legendgroup\": \"\", \"marker\": {\"color\": \"#636efa\"}, \"name\": \"\", \"offsetgroup\": \"\", \"orientation\": \"v\", \"showlegend\": false, \"type\": \"histogram\", \"x\": [63, 18, 35, 40, 10, 32, 15, 34, 12, 12, 35, 46, 11, 44, 16, 35, 15, 43, 20, 15, 12, 56, 28, 39, 16, 23, 16, 45, 24, 29, 9, 33, 35, 28, 26, 32, 21, 27, 37, 12, 35, 30, 34, 17, 9, 33, 23, 24, 28, 36, 32, 45, 34, 26, 17, 8, 8, 30, 40, 19, 31, 28, 29, 19, 20, 44, 41, 6, 37, 35, 20, 28, 7, 11, 22, 7, 21, 37, 16, 15, 40, 53, 23, 17, 9, 30, 23, 18, 23, 31, 25, 20, 39, 20, 31, 16, 36, 25, 17, 16, 40, 24, 41, 8, 12, 38, 27, 37, 24, 30, 35, 42, 50, 43, 22, 12, 24, 28, 30, 45, 37, 2, 8, 32, 42, 21, 49, 54, 22, 23, 13, 22, 40, 19, 20, 13, 6, 38, 21, 5, 19, 28, 18, 22, 24, 24, 42, 15, 56, 33, 10, 50, 23, 41, 6, 40, 21, 9, 19, 22, 17, 26, 41, 18, 45, 44, 28, 20, 21, 20, 24, 11, 35, 10, 33, 26, 12, 18, 35, 10, 20, 34, 30, 15, 18, 13, 13, 6, 7, 27, 22, 14, 22, 21, 31, 8, 26, 41, 7, 17, 10, 13, 15, 19, 4, 28, 30, 27, 27, 24, 19, 10, 13, 7, 32, 30, 51, 37, 25, 27, 15, 13, 30, 38, 18, 34, 32, 19, 28, 2, 23, 6, 30, 20, 17, 41, 18, 11, 18, 55, 30, 10, 35, 31, 37, 41, 5, 28, 28, 5, 18, 47, 39, 40, 18, 16, 38, 4, 29, 21, 36, 9, 18, 40, 6, 18, 17, 7, 30, 28, 13, 16, 18, 34, 39, 44, 12, 14, 25, 33, 23, 16, 14, 4, 21, 10, 7, 14, 18, 5, 7, 10, 50, 29, 20, 7, 29, 25, 4, 42, 53, 30, 48, 24, 4, 27, 29, 40, 24, 42, 18, 7, 14, 16, 29, 25, 7, 34, 15, 28, 18, 27, 25, 20, 1, 7, 18, 29, 5, 6, 21, 30, 4, 20, 11, 35, 9, 22, 7, 23, 18, 36, 5, 7, 46, 20, 14, 16, 36, 18, 42, 43, 33, 26, 6, 7, 15, 36, 7, 21, 20, 12, 17, 23, 31, 22, 46, 9, 27, 14, 12, 33, 17, 35, 18, 15, 31, 9, 21, 27, 37, 19, 20, 18, 16, 40, 39, 25, 18, 40, 32, 30, 19, 20, 23, 20, 23, 31, 16, 23, 8, 22, 57, 30, 20, 26, 28, 5, 12, 14, 14, 22, 2, 23, 31, 6, 19, 22, 14, 8, 35, 12, 39, 26, 17, 38, 25, 8, 8, 39, 25, 8, 35, 26, 15, 11, 40, 27, 12, 17, 17, 17, 17, 26, 6, 17, 25, 22, 9, 22, 13, 25, 17, 23, 14, 10, 26, 19, 30, 31, 11, 8, 8, 16, 26, 10, 38, 27, 12, 15, 37, 21, 13, 9, 5, 9, 4, 28, 17, 4, 21, 30, 18, 23, 6, 29, 35, 45, 44, 7, 16, 8, 17, 17, 9, 28, 46, 14, 13, 13, 11, 35, 7, 35, 42, 14, 36, 11, 59, 40, 44, 22, 7, 12, 20, 30, 40, 36, 36, 26, 31, 24, 20, 9, 32, 31, 18, 31, 5, 11, 38, 17, 9, 15, 27, 22, 30, 19, 5, 20, 21, 18, 24, 16, 12, 21, 23, 18, 21, 23, 34, 42, 43, 18, 21, 13, 8, 15, 23, 27, 36, 24, 25, 21, 32, 24, 19, 7, 17, 47, 7, 20, 36, 23, 15, 17, 36, 29, 6, 19, 46, 40, 34, 31, 15, 14, 4, 5, 24, 20, 14, 30, 8, 11, 52, 41, 15, 20, 19, 18, 23, 18, 46, 25, 14, 21, 3, 18, 24, 32, 20, 17, 28, 39, 10, 22, 31, 22, 12, 39, 14, 31, 11, 15, 58, 21, 7, 15, 25, 17, 28, 24, 30, 17, 51, 41, 11, 21, 23, 35, 31, 24, 16, 11, 23, 27, 30, 17, 16, 33, 19, 24, 25, 52, 39, 27, 38, 41, 11, 5, 31, 21, 22, 22, 17, 19, 31, 36, 12, 15, 11, 26, 14, 16, 33, 42, 12, 22, 19, 19, 20, 27, 40, 14, 22, 27, 9, 21, 17, 8, 21, 22, 19, 16, 9, 15, 6, 14, 12, 38, 22, 49, 37, 34, 37, 11, 28, 24, 32, 28, 13, 12, 6, 24, 11, 23, 7, 18, 12, 25, 31, 21, 18, 18, 17, 20, 3, 8, 29, 31, 3, 22, 29, 15, 8, 7, 16, 43, 40, 20, 14, 9, 28, 31, 8, 41, 7, 17, 33, 17, 13, 45, 18, 17, 33, 41, 10, 34, 26, 35, 27, 27, 29, 14, 43, 6, 23, 14, 8, 11, 26, 26, 6, 23, 21, 7, 11, 7, 26, 16, 14, 2, 41, 18, 12, 21, 25, 15, 23, 21, 7, 31, 38, 3, 5, 26, 33, 22, 12, 46, 10, 17, 10, 9, 21, 5, 2, 14, 22, 23, 28, 21, 7, 29, 4, 8, 54, 32, 32, 16, 17, 24, 7, 15, 24, 37, 30, 33, 10, 7, 26, 19, 44, 23, 25, 26, 35, 13, 14, 32, 17, 29, 9, 18, 33, 9, 14, 17, 22, 13, 48, 46, 32, 7, 8, 34, 9, 16, 30, 7, 22, 14, 29, 2, 12, 14, 4, 12, 39, 24, 3, 20, 13, 21, 9, 19, 12, 12, 9, 15, 8, 6, 14, 29, 13, 31, 25, 7, 26, 20, 21, 12, 13, 11, 7, 21, 13, 27, 10, 26, 21, 25, 1, 10, 4, 12, 16, 12, 25, 11, 30, 42, 23, 5, 34, 12, 37, 34, 15, 27, 20, 16, 38, 22, 18, 17, 26, 14, 20, 35, 28, 24, 7, 21, 14, 19, 13, 9, 9, 36, 13, 20, 26, 10, 13, 35, 8, 29, 32, 22, 42, 21, 19, 23, 39, 13, 19, 8, 27, 5, 19, 27, 42, 7, 25, 33, 17, 9, 37, 45, 10, 37, 5, 26, 4, 5, 29, 43, 30, 19, 6, 13, 13, 8, 6, 17, 3, 28, 45, 24, 21, 19, 13, 19, 41, 9, 7, 17, 14, 3, 12, 33, 5, 10, 11, 14, 16, 19, 11, 21, 13, 9, 21, 13, 7, 7, 25, 14, 16, 49, 19, 22, 6, 12, 14, 26, 12, 38, 4, 28, 20, 50, 2, 21, 19, 37, 25, 39, 15, 3, 10, 16, 31, 20, 14, 22, 10, 28, 26, 34, 21, 10, 13, 27, 14, 25, 10, 16, 49, 7, 15, 11, 18, 42, 25, 43, 20, 8, 8, 20, 1, 9, 40, 6, 17, 17, 24, 3, 23, 29, 28, 31, 14, 31, 23, 18, 31, 26, 25, 23, 12, 12, 7, 41, 5, 21, 19, 33, 27, 9, 16, 32, 37, 17, 5, 23, 30, 13, 28, 16, 14, 7, 30, 32, 2, 21, 25, 4, 20, 30, 19, 16, 25, 6, 19, 20, 31, 10, 10, 29, 11, 14, 34, 26, 29, 28, 30, 5, 28, 9, 25, 6, 11, 5, 9, 11, 14, 27, 30, 23, 7, 49, 29, 8, 14, 24, 37, 13, 17, 5, 19, 6, 23, 35, 16, 25, 40, 28, 37, 25, 16, 19, 33, 15, 24, 14, 8, 1, 36, 15, 3, 8, 17, 27, 15, 11, 39, 34, 31, 33, 20, 7, 7, 34, 4, 7, 22, 16, 47, 8, 23, 27, 33, 35, 10, 11, 12, 11, 20, 12, 20, 27, 16, 29, 9, 19, 33, 16, 35, 18, 17, 17, 26, 28, 18, 24, 3, 19, 36, 25, 11, 30, 3, 36, 18, 9, 15, 14, 18, 19, 18, 15, 18, 20, 21, 4, 10, 22, 23, 8, 35, 21, 45, 34, 45, 12, 24, 29, 42, 5, 18, 7, 33, 11, 5, 40, 32, 36, 21, 18, 27, 13, 24, 15, 19, 28, 23, 21, 21, 15, 35, 24, 27, 23, 8, 16, 24, 9, 29, 9, 36, 9, 20, 26, 4, 9, 19, 8, 19, 17, 3, 19, 11, 3, 20, 13, 11, 18, 9, 11, 3, 21, 11, 17, 25, 18, 15, 41, 40, 27, 10, 11, 6, 25, 10, 9, 26, 9, 11, 14, 34, 2, 16, 8, 19, 41, 3, 36, 39, 20, 19, 20, 32, 26, 22, 42, 20, 21, 26, 15, 26, 21, 5, 31, 5, 16, 11, 3, 47, 39, 13, 5, 21, 35, 21, 13, 20, 35, 11, 21, 15, 16, 33, 35, 25, 10, 41, 2, 6, 15, 20, 20, 44, 16, 18, 14, 19, 24, 17, 16, 17, 11, 9, 27, 5, 47, 12, 15, 34, 20, 16, 9, 22, 41, 5, 13, 23, 26, 21, 44, 14, 24, 10, 22, 10, 15, 24, 8, 27, 27, 20, 11, 7, 13, 16, 11, 33, 17, 21, 12, 40, 27, 12, 10, 11, 26, 20, 14, 9, 13, 10, 22, 16, 27, 24, 13, 5, 13, 21, 17, 22, 9, 15, 14, 22, 15, 6, 28, 23, 15, 33, 9, 7, 21, 2, 31, 32, 14, 3, 14, 7, 22, 27, 26, 20, 11, 25, 5, 20, 16, 15, 12, 27, 4, 36, 18, 34, 13, 27, 21, 20, 43, 32, 22, 17, 30, 22, 26, 4, 28, 17, 15, 22, 11, 16, 25, 11, 34, 16, 8, 17, 3, 14, 36, 34, 27, 16, 13, 27, 16, 29, 32, 26, 13, 8, 4, 23, 29, 26, 31, 27, 4, 28, 16, 28, 37, 20, 26, 35, 6, 24, 25, 10, 36, 13, 15, 21, 15, 15, 13, 28, 16, 32, 22, 18, 33, 24, 27, 18, 18, 19, 24, 17, 11, 16, 14, 24, 14, 28, 12, 11, 26, 28, 24, 3, 14, 41, 14, 2, 24, 5, 26, 9, 2, 6, 29, 9, 36, 47, 33, 32, 11, 8, 24, 16, 6, 41, 15, 17, 22, 19, 27, 31, 6, 5, 25, 34, 16, 39, 26, 40, 21, 14, 16, 24, 9, 10, 32, 26, 17, 17, 5, 24, 11, 19, 43, 23, 15, 11, 14, 15, 21, 7, 22, 27, 8, 18, 18, 8, 31, 34, 14, 22, 20, 27, 20, 35, 28, 22, 30, 35, 6, 21, 17, 13, 38, 8, 39, 7, 29, 7, 36, 26, 14, 5, 1, 14, 33, 10, 26, 10, 9, 21, 22, 15, 3, 17, 48, 30, 7, 9, 16, 19, 2, 6, 11, 23, 23, 26, 14, 22, 2, 36, 26, 15, 13, 20, 14, 34, 41, 26, 7, 7, 17, 7, 12, 25, 15, 20, 1, 35, 15, 16, 26, 26, 23, 2, 10, 26, 21, 15, 16, 11, 30, 27, 19, 21, 15, 34, 5, 15, 4, 14, 22, 22, 9, 23, 23, 8, 10, 11, 37, 15, 35, 22, 7, 20, 16, 30, 16, 41, 27, 12, 21, 16, 7, 11, 26, 11, 25, 7, 29, 14, 13, 10, 3, 16, 26, 12, 44, 20, 38, 8, 7, 10, 15, 32, 30, 8, 11, 15, 6, 9, 37, 8, 27, 24, 18, 4, 26, 20, 12, 14, 6, 9, 35, 33, 25, 28, 13, 20, 15, 26, 21, 25, 26, 23, 15, 14, 31, 17, 19, 36, 18, 16, 14, 20, 10, 8, 14, 21, 27, 11, 20, 16, 17, 18, 28, 14, 11, 15, 18, 33, 4, 3, 22, 18, 41, 24, 20, 13, 9, 24, 34, 20, 16, 5, 4, 27, 9, 33, 16, 2, 40, 29, 19, 17, 7, 33, 19, 7, 23, 6, 16, 26, 33, 35, 15, 25, 8, 10, 27, 30, 16, 3, 25, 20, 27, 1, 18, 13, 23, 32, 19, 24, 24, 35, 17, 29, 19, 25, 7, 19, 25, 10, 19, 21, 13, 10, 6, 16, 29, 24, 30, 18, 19, 12, 13, 15, 14, 26, 6, 4, 8, 9, 20, 13, 10, 42, 4, 8, 31, 24, 4, 17, 4, 45, 33, 39, 18, 39, 36, 45, 21, 4, 23, 13, 8, 18, 21, 5, 13, 18, 32, 31, 4, 4, 20, 2, 30, 14, 25, 22, 17, 22, 35, 26, 15, 2, 25, 23, 4, 23, 17, 21, 16, 27, 23, 18, 30, 18, 13, 27, 22, 19, 11, 8, 20, 15, 6, 25, 17, 10, 5, 12, 6, 16, 13, 13, 23, 28, 8, 9, 19, 5, 16, 7, 13, 10, 25, 36, 23, 23, 19, 27, 15, 16, 14, 21, 1, 28, 33, 28, 15, 42, 26, 30, 26, 9, 2, 25, 12, 19, 15, 18, 31, 28, 21, 17, 7, 17, 8, 17, 41, 3, 20, 10, 13, 18, 22, 24, 5, 20, 29, 17, 17, 14, 17, 16, 36, 7, 7, 19, 18, 29, 22, 11, 3, 5, 20, 14, 34, 23, 20, 29, 7, 8, 18, 4, 13, 33, 13, 26, 37, 11, 42, 26, 27, 1, 16, 18, 13, 3, 18, 34, 22, 23, 10, 23, 29, 18, 7, 11, 21, 18, 20, 6, 13, 27, 31, 25, 23, 10, 12, 2, 5, 11, 18, 6, 37, 18, 13, 11, 1, 2, 18, 15, 21, 11, 19, 37, 17, 16, 53, 19, 1, 20, 25, 15, 31, 18, 7, 30, 31, 26, 22, 14, 14, 13, 12, 21, 14, 17, 20, 18, 9, 34, 42, 22, 33, 18, 6, 20, 32, 21, 21, 41, 25, 25, 4, 19, 4, 7, 35, 13, 11, 24, 11, 28, 14, 29, 7, 5, 14, 28, 27, 26, 24, 15, 12, 26, 14, 21, 8, 14, 7, 22, 12, 6, 30, 31, 13, 9, 20, 14, 12, 25, 10, 8, 5, 6, 23, 31, 34, 31, 27, 22, 24, 11, 7, 26, 47, 8, 14, 32, 15, 12, 20, 29, 5, 19, 8, 31, 23, 25, 17, 10, 9, 17, 30, 12, 27, 18, 8, 25, 34, 20, 36, 10, 40, 9, 8, 4, 9, 14, 21, 13, 25, 20, 32, 28, 25, 26, 33, 26, 11, 25, 31, 37, 2, 15, 10, 10, 12, 19, 8, 24, 26, 14, 14, 19, 41, 12, 10, 12, 19, 14, 27, 23, 13, 16, 5, 9, 8, 27, 33, 11, 22, 27, 8, 19, 9, 3, 10, 25, 43, 18, 38, 22, 19, 24, 16, 17, 18, 22, 8, 13, 19, 24, 29, 26, 34, 18, 15, 3, 20, 32, 8, 34, 13, 31, 3, 42, 26, 26, 7, 18, 21, 20, 22, 23, 13, 6, 19, 16, 26, 7, 20, 16, 26, 15, 21, 30, 22, 24, 3, 44, 26, 13, 3, 8, 3, 9, 31, 20, 14, 28, 30, 13, 9, 10, 19, 16, 21, 7, 9, 2, 34, 18, 20, 46, 35, 13, 16, 25, 33, 20, 9, 9, 23, 37, 10, 37, 19, 16, 11, 20, 43, 16, 41, 14, 1, 8, 26, 19, 8, 18, 11, 20, 18, 17, 13, 11, 26, 3, 15, 12, 14, 10, 12, 21, 13, 38, 14, 17, 19, 3, 10, 46, 8, 16, 25, 7, 23, 3, 18, 28, 11, 1, 18, 14, 19, 9, 9, 7, 31, 8, 23, 8, 20, 42, 16, 7, 16, 21, 20, 4, 16, 11, 40, 4, 25, 17, 10, 34, 8, 14, 7, 8, 20, 14, 28, 13, 9, 4, 29, 19, 4, 32, 7, 14, 3, 42, 10, 17, 24, 28, 20, 19, 8, 22, 16, 14, 34, 13, 18, 20, 19, 32, 28, 13, 10, 20, 18, 16, 23, 15, 28, 17, 19, 23, 5, 14, 5, 17, 33, 4, 25, 20, 25, 22, 11, 31, 31, 13, 21, 21, 19, 14, 22, 29, 10, 21, 14, 12, 19, 5, 30, 8, 18, 9, 48, 19, 21, 28, 4, 17, 25, 13, 2, 11, 13, 12, 21, 25, 12, 16, 23, 11, 21, 17, 10, 13, 27, 19, 14, 19, 16, 33, 2, 11, 27, 29, 39, 9, 12, 19, 6, 7, 4, 24, 32, 26, 5, 9, 11, 8, 37, 15, 14, 18, 5, 8, 7, 7, 23, 16, 26, 21, 9, 21, 6, 13, 20, 6, 27, 15, 14, 17, 16, 17, 15, 10, 15, 13, 34, 16, 30, 15, 17, 13, 19, 22, 19, 8, 3, 26, 10, 7, 23, 6, 31, 23, 22, 25, 16, 23, 18, 15, 3, 25, 4, 42, 6, 26, 17, 17, 6, 12, 25, 22, 13, 11, 38, 31, 19, 30, 41, 25, 25, 21, 21, 17, 6, 23, 6, 8, 5, 22, 11, 4, 21, 34, 18, 3, 23, 27, 18, 19, 14, 27, 29, 22, 20, 20, 11, 11, 15, 18, 10, 10, 10, 24, 16, 28, 17, 30, 23, 24, 33, 8, 9, 14, 24, 6, 11, 21, 19, 25, 28, 18, 5, 32, 12, 24, 12, 32, 14, 15, 17, 12, 8, 19, 7, 9, 24, 3, 18, 12, 19, 32, 10, 2, 25, 20, 3, 31, 5, 28, 13, 10, 14, 48, 5, 4, 25, 28, 5, 22, 30, 7, 4, 17, 21, 23, 8, 24, 14, 34, 33, 8, 21, 31, 11, 3, 22, 13, 10, 5, 16, 8, 12, 27, 19, 19, 20, 6, 33, 18, 11, 4, 36, 8, 20, 10, 13, 2, 6, 17, 4, 17, 12, 8, 10, 27, 20, 36, 4, 30, 25, 33, 27, 12, 10, 14, 7, 21, 22, 29, 17, 11, 11, 16, 3, 5, 11, 3, 11, 23, 10, 12, 9, 34, 8, 11, 13, 8, 23, 17, 15, 16, 32, 9, 32, 15, 16, 7, 1, 2, 6, 20, 14, 17, 4, 9, 30, 19, 28, 14, 9, 20, 18, 6, 14, 18, 20, 5, 23, 18, 15, 25, 15, 33, 3, 10, 17, 10, 9, 9, 11, 25, 9, 32, 17, 20, 11, 4, 6, 18, 12, 19, 6, 15, 26, 22, 18, 16, 25, 30, 4, 17, 6, 23, 23, 1, 19, 22, 8, 11, 25, 24, 14, 2, 13, 14, 15, 7, 32, 14, 16, 23, 33, 26, 38, 32, 6, 33, 24, 39, 23, 16, 19, 17, 12, 7, 15, 10, 47, 33, 2, 19, 43, 16, 8, 22, 34, 7, 9, 10, 38, 38, 4, 17, 7, 15, 16, 18, 31, 17, 28, 35, 15, 20, 26, 10, 33, 16, 18, 16, 28, 14, 19, 14, 4, 24, 4, 3, 43, 11, 27, 9, 23, 32, 13, 2, 15, 13, 15, 33, 25, 17, 9, 23, 3, 14, 18, 24, 25, 32, 7, 25, 10, 21, 21, 19, 5, 37, 27, 30, 22, 22, 26, 6, 16, 18, 29, 25, 28, 20, 16, 13, 24, 22, 12, 11, 18, 6, 49, 34, 24, 11, 14, 16, 9, 24, 21, 13, 9, 9, 5, 51, 24, 6, 7, 19, 39, 23, 7, 31, 31, 28, 13, 13, 7, 14, 11, 18, 5, 12, 8, 14, 26, 21, 17, 21, 22, 17, 21, 12, 27, 40, 6, 25, 22, 15, 27, 14, 4, 3, 39, 14, 3, 4, 38, 30, 25, 28, 29, 23, 32, 14, 9, 9, 17, 20, 25, 16, 2, 2, 28, 8, 49, 15, 22, 7, 6, 15, 26, 10, 10, 14, 29, 18, 35, 13, 17, 23, 18, 15, 25, 12, 30, 17, 6, 24, 6, 15, 40, 29, 29, 12, 14, 35, 31, 15, 2, 15, 25, 14, 35, 3, 28, 7, 21, 12, 5, 10, 22, 22, 17, 19, 12, 29, 29, 20, 33, 22, 7, 20, 27, 16, 31, 17, 19, 18, 24, 41, 10, 2, 15, 35, 19, 12, 19, 9, 10, 10, 9, 23, 37, 9, 27, 22, 8, 16, 31, 5, 31, 34, 26, 13, 5, 19, 15, 2, 8, 29, 25, 27, 5, 30, 13, 26, 10, 2, 17, 45, 31, 45, 38, 14, 10, 28, 7, 26, 17, 19, 14, 8, 7, 6, 23, 13, 35, 6, 27, 15, 29, 15, 34, 4, 9, 11, 9, 31, 2, 35, 26, 13, 9, 16, 22, 11, 40, 19, 10, 32, 40, 21, 36, 9, 14, 33, 20, 36, 19, 8, 21, 12, 27, 12, 21, 14, 23, 5, 14, 33, 16, 7, 24, 15, 3, 43, 9, 13, 19, 21, 18, 18, 13, 35, 25, 23, 27, 16, 28, 12, 23, 15, 8, 22, 4, 20, 13, 27, 9, 15, 26, 14, 19, 29, 24, 27, 26, 42, 9, 9, 34, 47, 19, 14, 27, 16, 15, 12, 14, 6, 30, 3, 29, 22, 6, 19, 9, 29, 18, 22, 2, 17, 9, 12, 10, 25, 31, 29, 14, 7, 22, 20, 3, 14, 9, 15, 31, 14, 13, 29, 5, 9, 22, 14, 29, 23, 2, 8, 11, 24, 20, 14, 34, 6, 19, 24, 5, 18, 15, 24, 15, 29, 19, 18, 46, 31, 20, 23, 8, 37, 2, 5, 10, 22, 23, 36, 7, 4, 18, 8, 9, 21, 17, 6, 34, 14, 29, 13, 23, 22, 16, 7, 3, 34, 34, 12, 35, 26, 16, 16, 31, 26, 19, 11, 9, 22, 7, 21, 13, 17, 3, 40, 11, 25, 22, 26, 15, 20, 39, 20, 32, 17, 13, 21, 8, 33, 14, 18, 22, 2, 18, 19, 37, 5, 13, 6, 20, 18, 20, 46, 23, 9, 12, 5, 9, 15, 32, 16, 6, 23, 18, 23, 21, 27, 38, 5, 32, 12, 15, 34, 29, 28, 45, 6, 22, 11, 21, 16, 9, 10, 26, 10, 14, 29, 26, 28, 27, 31, 19, 15, 19, 19, 29, 33, 21, 8, 18, 5, 14, 9, 22, 17, 19, 12, 12, 4, 4, 9, 14, 18, 16, 32, 10, 46, 28, 16, 17, 11, 7, 30, 23, 26, 16, 34, 6, 10, 22, 16, 48, 15, 3, 3, 20, 8, 30, 22, 11, 14, 21, 19, 11, 7, 4, 37, 8, 25, 18, 21, 21, 27, 7, 27, 27, 27, 17, 16, 8, 17, 6, 24, 22, 8, 15, 16, 6, 27, 39, 20, 8, 44, 18, 10, 24, 8, 15, 17, 10, 3, 22, 24, 1, 10, 20, 8, 9, 15, 25, 8, 14, 15, 24, 31, 13, 25, 11, 21, 32, 8, 15, 20, 5, 2, 10, 6, 20, 6, 37, 8, 13, 25, 11, 7, 7, 6, 33, 43, 25, 23, 7, 23, 25, 8, 26, 23, 39, 14, 6, 10, 17, 23, 31, 19, 18, 14, 17, 25, 13, 9, 19, 23, 24, 7, 24, 17, 6, 3, 16, 10, 11, 16, 21, 24, 22, 13, 12, 51, 24, 18, 29, 18, 12, 26, 31, 6, 23, 25, 17, 17, 10, 18, 9, 21, 24, 24, 8, 16, 15, 33, 11, 16, 23, 43, 5, 15, 30, 3, 9, 20, 13, 6, 14, 12, 12, 20, 4, 7, 18, 45, 34, 32, 7, 8, 7, 16, 22, 13, 10, 20, 16, 12, 13, 8, 6, 22, 20, 40, 13, 10, 16, 18, 26, 27, 18, 34, 37, 15, 2, 36, 38, 27, 9, 10, 23, 11, 27, 26, 32, 32, 10, 17, 19, 15, 31, 11, 18, 8, 28, 25, 17, 15, 26, 5, 13, 14, 9, 40, 35, 10, 37, 7, 21, 6, 16, 34, 11, 6, 7, 14, 21, 15, 10, 41, 4, 21, 20, 18, 4, 38, 4, 15, 16, 9, 11, 21, 3, 19, 29, 13, 19, 19, 36, 4, 21, 11, 17, 17, 6, 34, 35, 34, 11, 13, 27, 8, 23, 20, 14, 4, 13, 6, 17, 7, 3, 13, 33, 2, 6, 4, 23, 3, 8, 32, 28, 12, 21, 18, 9, 20, 18, 22, 3, 28, 7, 16, 35, 6, 19, 9, 5, 14, 30, 18, 16, 6, 18, 14, 22, 24, 29, 15, 24, 23, 18, 27, 25, 16, 20, 10, 12, 31, 12, 22, 16, 11, 15, 8, 19, 31, 14, 26, 31, 13, 21, 17, 10, 6, 20, 13, 10, 31, 9, 10, 20, 29, 29, 14, 47, 28, 26, 30, 12, 14, 6, 41, 22, 17, 18, 16, 30, 15, 27, 21, 15, 18, 18, 15, 6, 17, 2, 11, 20, 19, 9, 15, 29, 23, 4, 7, 19, 7, 45, 8, 26, 24, 22, 19, 30, 15, 11, 29, 3, 25, 6, 14, 14, 5, 9, 6, 14, 9, 15, 30, 19, 3, 9, 17, 28, 18, 19, 9, 10, 7, 12, 9, 13, 13, 5, 13, 23, 28, 19, 27, 20, 19, 5, 14, 25, 32, 1, 35, 20, 10, 20, 33, 23, 14, 13, 13, 21, 1, 24, 21, 16, 13, 8, 28, 33, 17, 8, 18, 39, 7, 14, 17, 14, 29, 33, 16, 18, 18, 21, 7, 30, 11, 36, 17, 18, 22, 12, 25, 14, 26, 35, 29, 15, 10, 13, 37, 17, 30, 11, 6, 13, 35, 7, 2, 35, 4, 7, 9, 15, 20, 7, 5, 25, 15, 14, 34, 36, 6, 30, 17, 31, 23, 28, 7, 23, 15, 36, 8, 14, 25, 47, 25, 22, 16, 2, 16, 37, 8, 23, 22, 11, 9, 15, 17, 16, 34, 23, 29, 7, 7, 21, 17, 24, 25, 12, 21, 34, 19, 29, 22, 11, 15, 20, 14, 9, 20, 9, 5, 3, 15, 16, 20, 19, 6, 26, 14, 26, 18, 30, 13, 26, 15, 21, 8, 2, 11, 34, 26, 21, 15, 42, 27, 26, 29, 25, 2, 27, 25, 11, 13, 12, 23, 12, 26, 6, 9, 4, 6, 24, 11, 32, 14, 30, 17, 22, 7, 34, 12, 17, 19, 6, 41, 12, 25, 11, 28, 19, 12, 15, 8, 23, 8, 5, 19, 40, 35, 27, 9, 18, 22, 28, 25, 45, 9, 12, 16, 40, 34, 12, 26, 12, 15, 2, 17, 29, 6, 12, 3, 7, 44, 18, 14, 10, 10, 4, 15, 19, 22, 36, 20, 12, 21, 35, 11, 18, 35, 36, 25, 5, 12, 15, 3, 27, 8, 13, 3, 25, 23, 26, 26, 24, 21, 10, 3, 17, 21, 11, 12, 20, 9, 11, 35, 14, 19, 16, 16, 12, 4, 17, 25, 12, 23, 14, 21, 33, 10, 13, 2, 29, 28, 15, 24, 11, 16, 22, 27, 26, 22, 15, 29, 17, 3, 27, 8, 17, 22, 15, 15, 16, 30, 9, 9, 26, 7, 10, 12, 27, 14, 20, 2, 5, 10, 46, 20, 28, 15, 23, 17, 32, 11, 23, 41, 2, 3, 18, 18, 24, 8, 9, 14, 15, 15, 33, 25, 24, 25, 32, 25, 12, 2, 35, 19, 41, 35, 7, 27, 18, 11, 21, 6, 21, 15, 2, 13, 26, 20, 11, 16, 28, 21, 13, 17, 19, 9, 9, 9, 11, 19, 23, 19, 9, 9, 13, 13, 11, 15, 32, 40, 6, 10, 6, 31, 5, 32, 18, 8, 17, 25, 19, 44, 22, 25, 10, 20, 33, 17, 30, 19, 21, 27, 30, 27, 14, 8, 18, 24, 9, 6, 14, 9, 16, 27, 24, 31, 9, 13, 17, 3, 5, 6, 10, 9, 29, 11, 34, 11, 4, 11, 23, 18, 27, 17, 20, 21, 5, 19, 33, 14, 37, 25, 21, 19, 24, 22, 29, 16, 42, 32, 11, 17, 20, 9, 3, 11, 9, 26, 30, 8, 28, 23, 8, 28, 37, 29, 20, 6, 17, 22, 4, 28, 25, 10, 19, 12, 20, 18, 19, 35, 26, 9, 18, 21, 15, 26, 25, 20, 13, 9, 10, 9, 25, 16, 12, 14, 17, 8, 22, 7, 11, 19, 26, 19, 35, 24, 11, 26, 18, 19, 3, 3, 23, 1, 32, 23, 8, 32, 9, 11, 14, 26, 5, 10, 18, 24, 35, 21, 14, 20, 28, 25, 18, 9, 12, 16, 18, 5, 31, 18, 13, 28, 9, 21, 1, 17, 4, 35, 9, 15, 15, 32, 6, 25, 20, 14, 27, 13, 10, 6, 13, 13, 14, 14, 7, 18, 22, 29, 21, 7, 18, 10, 12, 5, 1, 25, 19, 13, 28, 16, 12, 21, 35, 32, 12, 6, 15, 37, 6, 24, 22, 13, 10, 25, 2, 11, 18, 23, 20, 2, 26, 15, 3, 7, 9, 9, 14, 12, 25, 20, 15, 18, 18, 34, 21, 2, 11, 8, 12, 32, 3, 50, 8, 23, 10, 26, 15, 9, 11, 4, 38, 28, 13, 37, 9, 15, 43, 1, 11, 31, 14, 23, 19, 15, 15, 27, 13, 20, 6, 7, 9, 25, 16, 8, 7, 27, 29, 30, 32, 9, 4, 30, 25, 13, 27, 12, 36, 31, 4, 8, 43, 13, 18, 16, 17, 6, 19, 12, 23, 22, 12, 19, 21, 8, 19, 6, 21, 15, 4, 16, 43, 23, 24, 18, 28, 9, 7, 29, 11, 20, 7, 24, 18, 14, 11, 18, 29, 19, 18, 18, 17, 5, 16, 20, 18, 8, 15, 15, 21, 4, 11, 21, 6, 12, 6, 38, 18, 7, 25, 10, 22, 20, 19, 11, 25, 21, 8, 34, 13, 26, 29, 31, 15, 6, 13, 5, 20, 9, 11, 31, 31, 7, 20, 20, 21, 23, 4, 16, 25, 26, 36, 20, 9, 19, 12, 26, 9, 19, 23, 12, 17, 14, 23, 23, 23, 18, 24, 4, 19, 20, 33, 39, 26, 20, 20, 15, 41, 15, 26, 30, 11, 9, 21, 36, 18, 17, 10, 16, 12, 43, 14, 16, 13, 19, 14, 6, 21, 26, 33, 26, 24, 19, 11, 19, 24, 11, 15, 16, 10, 14, 29, 18, 22, 44, 20, 21, 10, 8, 19, 10, 24, 25, 2, 10, 17, 33, 25, 9, 33, 19, 35, 14, 9, 26, 16, 27, 3, 17, 3, 20, 29, 29, 22, 21, 4, 30, 17, 15, 15, 5, 29, 9, 26, 12, 7, 7, 9, 25, 19, 12, 26, 5, 4, 24, 20, 27, 14, 5, 12, 18, 8, 30, 12, 19, 14, 33, 33, 6, 35, 22, 17, 7, 28, 15, 25, 14, 25, 10, 16, 12, 22, 24, 26, 2, 9, 24, 11, 16, 29, 16, 10, 13, 26, 3, 6, 9, 7, 15, 15, 20, 5, 22, 14, 12, 5, 41, 16, 39, 24, 21, 27, 8, 21, 27, 4, 10, 19, 26, 13, 32, 10, 21, 20, 16, 19, 23, 7, 4, 27, 9, 16, 6, 25, 15, 14, 16, 23, 19, 6, 16, 16, 28, 26, 14, 17, 21, 23, 22, 6, 10, 23, 6, 13, 21, 23, 24, 19, 24, 4, 14, 41, 15, 15, 22, 3, 13, 21, 24, 31, 8, 14, 10, 15, 24, 37, 2, 26, 42, 28, 26, 19, 26, 29, 40, 3, 13, 3, 12, 13, 20, 45, 22, 7, 46, 24, 33, 12, 22, 22, 10, 13, 9, 26, 12, 14, 8, 22, 5, 9, 3, 17, 19, 26, 10, 18, 5, 6, 13, 18, 1, 18, 7, 31, 38, 38, 9, 19, 15, 8, 18, 26, 10, 6, 7, 26, 25, 15, 14, 29, 8, 7, 5, 30, 5, 23, 10, 34, 32, 11, 8, 29, 28, 9, 24, 33, 23, 5, 39, 3, 14, 25, 8, 27, 23, 22, 39, 26, 10, 4, 26, 23, 4, 23, 26, 9, 3, 17, 18, 26, 17, 31, 20, 30, 20, 43, 6, 14, 36, 5, 24, 13, 16, 14, 13, 3, 22, 4, 14, 6, 7, 13, 13, 3, 40, 20, 31, 16, 4, 36, 22, 3, 12, 16, 18, 25, 5, 27, 22, 11, 26, 31, 19, 7, 12, 16, 10, 14, 12, 17, 12, 26, 17, 10, 28, 12, 30, 36, 7, 13, 14, 9, 6, 23, 11, 9, 9, 6, 15, 4, 16, 10, 20, 9, 18, 22, 8, 26, 14, 27, 32, 6, 2, 16, 23, 21, 17, 9, 2, 13, 29, 5, 5, 22, 27, 20, 11, 24, 11, 28, 4, 4, 34, 7, 17, 5, 19, 18, 19, 28, 8, 23, 12, 20, 15, 19, 17, 27, 14, 15, 20, 14, 11, 38, 38, 9, 2, 20, 10, 3, 15, 14, 7, 16, 8, 28, 27, 12, 19, 13, 11, 26, 14, 13, 16, 37, 13, 17, 39, 18, 17, 14, 20, 7, 7, 22, 27, 31, 23, 25, 22, 25, 2, 24, 21, 15, 18, 26, 19, 30, 19, 21, 17, 23, 1, 21, 29, 16, 11, 8, 14, 8, 8, 14, 25, 24, 20, 11, 9, 20, 17, 36, 2, 23, 4, 38, 6, 23, 21, 31, 14, 12, 5, 19, 13, 24, 18, 22, 25, 17, 22, 22, 20, 20, 21, 14, 21, 19, 22, 5, 28, 32, 11, 12, 5, 32, 24, 32, 18, 13, 34, 3, 14, 3, 23, 16, 13, 7, 12, 7, 24, 4, 21, 9, 3, 7, 9, 22, 22, 7, 10, 21, 23, 20, 34, 9, 29, 29, 17, 25, 5, 4, 25, 13, 21, 14, 14, 12, 19, 7, 2, 14, 20, 26, 16, 16, 11, 10, 16, 10, 27, 36, 17, 23, 9, 4, 31, 7, 7, 2, 4, 25, 13, 31, 28, 8, 26, 9, 9, 10, 12, 3, 7, 9, 8, 24, 4, 12, 19, 18, 4, 15, 17, 23, 19, 27, 26, 19, 14, 29, 14, 17, 15, 34, 17, 11, 14, 28, 14, 19, 19, 22, 32, 23, 22, 8, 29, 27, 26, 6, 31, 5, 14, 3, 37, 31, 10, 14, 18, 17, 15, 27, 13, 3, 24, 28, 17, 12, 7, 17, 4, 8, 7, 9, 17, 13, 11, 14, 16, 18, 12, 15, 13, 9, 16, 20, 12, 10, 31, 31, 20, 31, 6, 8, 11, 7, 22, 21, 12, 24, 22, 3, 7, 6, 15, 7, 6, 23, 7, 21, 20, 24, 30, 27, 14, 35, 10, 32, 12, 29, 8, 14, 6, 9, 18, 26, 14, 16, 34, 21, 3, 14, 26, 32, 5, 14, 22, 32, 47, 16, 33, 11, 21, 20, 6, 5, 8, 16, 27, 14, 20, 18, 25, 16, 13, 30, 29, 21, 10, 20, 8, 5, 7, 25, 25, 12, 10, 18, 13, 15, 25, 9, 29, 13, 15, 16, 17, 6, 24, 3, 21, 16, 23, 7, 20, 12, 1, 10, 4, 20, 2, 22, 32, 9, 23, 14, 10, 5, 31, 25, 16, 42, 7, 16, 3, 27, 33, 8, 10, 2, 9, 33, 15, 11, 27, 8, 17, 21, 33, 14, 21, 19, 16, 63, 19, 19, 24, 28, 6, 8, 26, 7, 16, 14, 26, 21, 14, 32, 21, 17, 22, 31, 7, 15, 30, 41, 22, 16, 16, 12, 18, 26, 22, 43, 21, 17, 10, 16, 9, 13, 17, 15, 16, 3, 23, 39, 20, 11, 11, 4, 10, 21, 12, 27, 15, 15, 32, 26, 29, 13, 27, 18, 5, 35, 2, 5, 22, 6, 19, 17, 24, 35, 36, 9, 14, 6, 16, 26, 13, 27, 10, 10, 26, 28, 20, 5, 20, 11, 18, 29, 22, 28, 11, 38, 16, 6, 29, 35, 6, 9, 10, 5, 18, 20, 10, 8, 12, 22, 11, 18, 7, 14, 35, 18, 7, 24, 22, 10, 18, 13, 33, 16, 29, 22, 34, 7, 25, 1, 25, 3, 6, 31, 15, 14, 17, 8, 18, 19, 46, 16, 8, 25, 26, 9, 4, 10, 6, 13, 11, 16, 16, 15, 9, 19, 26, 18, 15, 2, 13, 12, 15, 25, 8, 26, 20, 1, 37, 28, 18, 13, 24, 17, 6, 14, 27, 13, 8, 11, 4, 23, 39, 6, 16, 25, 29, 7, 24, 24, 5, 21, 9, 10, 20, 38, 8, 11, 24, 16, 25, 11, 11, 20, 33, 9, 8, 4, 17, 22, 20, 27, 18, 14, 24, 21, 23, 18, 12, 7, 20, 6, 14, 9, 11, 39, 16, 21, 6, 24, 29, 24, 5, 18, 33, 13, 2, 15, 28, 14, 14, 27, 27, 8, 17, 19, 12, 13, 16, 17, 14, 12, 3, 17, 19, 10, 35, 12, 10, 25, 3, 17, 37, 26, 20, 19, 23, 35, 17, 23, 16, 14, 19, 44, 11, 33, 15, 14, 34, 11, 31, 13, 12, 24, 19, 7, 17, 30, 26, 12, 16, 14, 15, 18, 23, 8, 8, 25, 14, 15, 22, 11, 15, 6, 13, 11, 8, 17, 3, 15, 20, 10, 42, 41, 33, 26, 14, 30, 19, 4, 10, 16, 16, 14, 19, 15, 24, 37, 21, 9, 23, 2, 20, 8, 15, 10, 28, 16, 18, 10, 9, 22, 17, 17, 2, 10, 11, 22, 39, 2, 2, 25, 16, 12, 19, 10, 14, 15, 8, 2, 12, 35, 21, 3, 24, 19, 18, 15, 29, 12, 8, 4, 25, 24, 8, 18, 15, 7, 41, 29, 8, 7, 22, 21, 14, 10, 12, 27, 10, 34, 17, 12, 16, 33, 11, 18, 19, 3, 25, 16, 19, 8, 12, 9, 35, 19, 4, 8, 11, 34, 17, 10, 26, 10, 20, 17, 17, 8, 13, 17, 44, 7, 14, 18, 19, 29, 13, 31, 34, 10, 20, 29, 8, 15, 19, 25, 23, 19, 20, 17, 8, 14, 16, 15, 28, 1, 29, 31, 28, 13, 21, 14, 14, 21, 6, 12, 17, 8, 12, 20, 29, 11, 9, 11, 24, 24, 11, 7, 2, 15, 17, 30, 33, 12, 16, 4, 15, 14, 11, 4, 15, 4, 14, 23, 30, 13, 16, 19, 22, 25, 44, 6, 26, 29, 7, 27, 12, 31, 8, 3, 28, 10, 10, 25, 16, 18, 17, 20, 25, 5, 30, 9, 11, 36, 35, 4, 6, 2, 1, 33, 27, 4, 9, 17, 24, 14, 12, 11, 38, 17, 28, 7, 22, 8, 18, 5, 12, 16, 30, 7, 24, 18, 12, 4, 24, 22, 10, 18, 17, 12, 12, 18, 19, 10, 13, 25, 10, 21, 8, 19, 4, 6, 12, 6, 20, 5, 19, 14, 35, 14, 17, 3, 15, 11, 17, 8, 18, 9, 21, 32, 17, 20, 29, 11, 39, 4, 22, 8, 43, 9, 14, 4, 19, 7, 5, 12, 12, 31, 25, 26, 16, 19, 11, 11, 18, 5, 16, 18, 19, 15, 5, 32, 40, 3, 26, 12, 18, 25, 34, 23, 4, 11, 7, 9, 14, 28, 16, 9, 8, 23, 31, 28, 12, 11, 28, 32, 24, 23, 12, 14, 37, 8, 18, 16, 14, 4, 4, 9, 19, 15, 5, 26, 3, 26, 9, 22, 11, 22, 42, 18, 9, 14, 17, 20, 7, 23, 5, 23, 34, 26, 7, 9, 34, 5, 20, 10, 17, 10, 9, 26, 11, 16, 11, 19, 16, 33, 32, 19, 15, 9, 19, 21, 14, 9, 12, 33, 18, 13, 21, 19, 29, 3, 27, 7, 26, 18, 13, 18, 31, 13, 16, 14, 6, 26, 16, 13, 16, 7, 32, 20, 13, 35, 19, 21, 24, 9, 15, 6, 2, 1, 21, 18, 15, 14, 14, 5, 17, 7, 14, 34, 8, 14, 10, 4, 10, 27, 11, 25, 17, 16, 14, 26, 8, 25, 31, 15, 9, 9, 28, 31, 26, 9, 20, 2, 9, 14, 32, 18, 26, 33, 15, 7, 5, 23, 9, 16, 26, 8, 14, 11, 35, 19, 1, 15, 16, 8, 26, 12, 20, 14, 6, 28, 15, 6, 27, 19, 26, 22, 32, 42, 11, 3, 5, 22, 18, 25, 28, 8, 21, 14, 27, 22, 18, 14, 20, 20, 20, 17, 17, 15, 32, 11, 19, 16, 4, 12, 12, 9, 13, 7, 9, 32, 36, 13, 33, 15, 38, 12, 6, 14, 24, 7, 8, 5, 15, 9, 24, 14, 12, 37, 16, 17, 11, 16, 12, 16, 16, 19, 40, 17, 18, 21, 21, 7, 7, 23, 26, 28, 9, 16, 24, 30, 41, 6, 23, 30, 41, 19, 26, 11, 6, 18, 13, 7, 26, 24, 12, 22, 21, 17, 10, 13, 17, 21, 24, 21, 20, 14, 8, 15, 8, 17, 16, 3, 10, 8, 5, 26, 9, 25, 10, 9, 20, 21, 23, 22, 2, 5, 16, 11, 4, 3, 24, 2, 6, 11, 10, 5, 14, 41, 26, 11, 32, 16, 23, 32, 18, 20, 4, 31, 6, 11, 28, 11, 15, 8, 9, 16, 20, 8, 6, 29, 19, 21, 14, 24, 9, 10, 18, 7, 4, 13, 9, 18, 16, 44, 13, 26, 27, 5, 31, 12, 18, 21, 17, 16, 15, 20, 4, 20, 21, 9, 3, 17, 4, 27, 36, 27, 10, 34, 19, 21, 17, 9, 6, 6, 9, 15, 14, 44, 31, 19, 7, 24, 18, 7, 12, 11, 16, 2, 13, 26, 11, 12, 12, 5, 28, 16, 17, 7, 17, 31, 3, 17, 19, 6, 3, 11, 28, 24, 15, 26, 36, 23, 21, 4, 20, 11, 25, 16, 11, 4, 16, 5, 8, 11, 6, 29, 28, 27, 5, 3, 18, 38, 14, 15, 17, 8, 11, 9, 23, 30, 40, 2, 25, 20, 5, 15, 2, 5, 27, 27, 21, 22, 14, 5, 5, 21, 15, 25, 14, 10, 22, 19, 14, 17, 24, 17, 18, 29, 22, 28, 24, 7, 12, 5, 17, 24, 21, 22, 36, 33, 27, 10, 16, 20, 2, 22, 31, 18, 10, 29, 19, 13, 18, 6, 3, 20, 26, 22, 12, 19, 10, 27, 7, 8, 18, 16, 9, 13, 24, 1, 17, 21, 11, 13, 37, 6, 19, 19, 5, 19, 21, 20, 23, 8, 11, 25, 18, 14, 18, 26, 30, 19, 8, 18, 20, 9, 9, 11, 22, 20, 24, 35, 5, 18, 28, 18, 5, 14, 31, 41, 19, 30, 15, 2, 38, 20, 1, 16, 26, 9, 25, 28, 22, 30, 3, 14, 17, 13, 43, 29, 19, 7, 12, 23, 12, 18, 21, 17, 20, 22, 28, 27, 8, 27, 27, 24, 8, 13, 20, 9, 24, 19, 23, 6, 21, 30, 27, 1, 2, 15, 10, 27, 4, 28, 18, 6, 7, 20, 4, 8, 32, 16, 10, 18, 13, 5, 23, 10, 30, 21, 3, 6, 26, 10, 10, 19, 25, 26, 26, 20, 7, 34, 25, 4, 19, 20, 20, 30, 12, 25, 5, 9, 24, 25, 22, 22, 17, 26, 14, 12, 14, 10, 16, 16, 11, 11, 24, 5, 21, 13, 31, 26, 13, 19, 14, 23, 17, 10, 14, 19, 41, 18, 3, 17, 21, 8, 19, 14, 17, 16, 20, 5, 11, 31, 21, 27, 16, 14, 34, 16, 21, 19, 34, 20, 17, 13, 10, 21, 20, 7, 13, 15, 11, 8, 16, 28, 27, 21, 20, 18, 15, 9, 12, 24, 13, 12, 11, 23, 12, 24, 8, 19, 15, 36, 27, 7, 19, 22, 9, 29, 8, 34, 25, 14, 30, 23, 23, 26, 9, 42, 14, 8, 13, 32, 29, 10, 39, 9, 25, 15, 7, 12, 26, 26, 31, 32, 10, 34, 8, 11, 16, 13, 23, 22, 16, 38, 25, 21, 14, 10, 18, 23, 10, 27, 24, 24, 36, 14, 9, 15, 28, 19, 22, 5, 19, 14, 19, 31, 9, 7, 28, 4, 6, 11, 21, 25, 19, 15, 4, 9, 3, 15, 1, 6, 8, 6, 25, 20, 18, 4, 8, 9, 14, 5, 27, 29, 23, 14, 11, 14, 23, 4, 11, 4, 23, 9, 19, 15, 7, 43, 30, 20, 33, 4, 12, 11, 5, 13, 14, 14, 8, 9, 28, 21, 9, 23, 16, 8, 24, 3, 14, 10, 24, 27, 5, 33, 8, 16, 23, 31, 14, 29, 31, 7, 17, 28, 7, 16, 3, 6, 32, 2, 34, 12, 2, 8, 20, 11, 21, 22, 24, 12, 26, 21, 27, 14, 28, 13, 7, 19, 18, 7, 10, 28, 23, 30, 11, 42, 24, 18, 32, 35, 15, 10, 12, 25, 8, 8, 26, 10, 23, 10, 30, 25, 10, 5, 4, 18, 19, 23, 6, 2, 6, 24, 21, 32, 14, 10, 23, 4, 18, 20, 18, 35, 13, 21, 23, 24, 27, 5, 3, 8, 20, 7, 16, 37, 27, 6, 15, 24, 20, 21, 12, 25, 11, 17, 15, 11, 8, 22, 19, 14, 19, 11, 19, 22, 12, 20, 38, 14, 18, 16, 13, 15, 36, 33, 24, 21, 11, 3, 18, 24, 15, 18, 15, 30, 22, 11, 5, 10, 2, 20, 11, 32, 4, 13, 24, 23, 15, 22, 31, 18, 21, 14, 16, 13, 6, 8, 4, 15, 14, 24, 6, 12, 29, 10, 10, 7, 15, 32, 20, 11, 21, 43, 14, 22, 17, 31, 19, 33, 23, 8, 22, 21, 10, 16, 3, 14, 13, 29, 8, 7, 35, 15, 17, 16, 14, 19, 24, 1, 20, 36, 3, 13, 15, 14, 9, 23, 26, 28, 18, 10, 7, 17, 38, 25, 23, 38, 24, 24, 34, 26, 16, 10, 23, 14, 19, 2, 22, 25, 15, 19, 10, 8, 15, 7, 13, 23, 7, 12, 15, 9, 21, 17, 28, 2, 12, 24, 31, 12, 19, 26, 19, 17, 10, 23, 31, 6, 23, 8, 9, 5, 35, 21, 10, 17, 30, 21, 5, 24, 6, 26, 4, 4, 5, 19, 12, 19, 6, 15, 31, 19, 14, 26, 13, 7, 17, 29, 28, 4, 12, 36, 8, 7, 8, 19, 21, 16, 23, 9, 11, 1, 9, 19, 46, 38, 15, 39, 45, 5, 6, 23, 3, 7, 44, 12, 7, 8, 15, 24, 15, 18, 15, 11, 12, 5, 14, 12, 17, 7, 11, 14, 10, 10, 5, 23, 13, 20, 22, 18, 11, 24, 14, 9, 22, 14, 13, 24, 12, 17, 22, 20, 22, 17, 33, 17, 20, 16, 19, 4, 18, 13, 18, 22, 3, 15, 7, 15, 10, 7, 23, 27, 23, 20, 23, 2, 34, 5, 5, 45, 23, 4, 3, 15, 25, 28, 13, 31, 8, 32, 24, 11, 7, 5, 9, 8, 28, 10, 10, 4, 14, 19, 33, 14, 34, 24, 16, 2, 11, 34, 29, 6, 43, 10, 19, 14, 10, 24, 4, 2, 11, 18, 16, 11, 14, 26, 23, 22, 29, 15, 15, 27, 35, 17, 21, 26, 25, 32, 22, 9, 12, 13, 30, 17, 10, 11, 18, 12, 9, 20, 12, 4, 31, 5, 12, 16, 17, 11, 3, 17, 9, 40, 3, 5, 22, 2, 6, 12, 8, 19, 14, 28, 20, 7, 23, 2, 22, 14, 1, 15, 23, 11, 7, 8, 6, 19, 26, 15, 16, 3, 10, 11, 26, 22, 10, 41, 3, 19, 9, 32, 4, 15, 37, 19, 7, 22, 9, 12, 8, 21, 27, 20, 23, 5, 20, 31, 25, 10, 3, 18, 10, 6, 20, 16, 14, 25, 17, 4, 21, 12, 6, 22, 12, 6, 1, 2, 12, 18, 31, 7, 18, 19, 1, 33, 8, 38, 15, 20, 15, 1, 12, 19, 4, 24, 27, 9, 5, 38, 23, 36, 36, 8, 19, 9, 7, 17, 19, 13, 21, 33, 24, 4, 5, 17, 35, 11, 6, 17, 13, 22, 22, 8, 10, 21, 17, 16, 27, 20, 16, 15, 27, 10, 23, 10, 35, 19, 18, 24, 22, 23, 35, 14, 10, 31, 12, 29, 18, 20, 38, 32, 22, 11, 35, 31, 7, 19, 4, 13, 21, 41, 6, 5, 13, 28, 8, 18, 29, 21, 7, 26, 8, 29, 10, 28, 21, 11, 13, 19, 15, 10, 9, 38, 5, 7, 15, 6, 22, 35, 23, 8, 9, 20, 11, 28, 42, 8, 34, 25, 5, 4, 28, 9, 28, 23, 17, 28, 15, 14, 35, 26, 24, 10, 4, 2, 11, 54, 7, 4, 25, 24, 10, 22, 5, 9, 12, 45, 10, 12, 27, 25, 16, 10, 25, 2, 14, 8, 16, 25, 40, 6, 6, 1, 4, 4, 18, 15, 14, 17, 11, 3, 30, 38, 37, 19, 20, 2, 28, 25, 24, 15, 13, 23, 27, 11, 13, 19, 11, 12, 8, 25, 16, 25, 8, 24, 19, 17, 20, 18, 28, 8, 5, 29, 10, 11, 28, 14, 20, 29, 12, 23, 18, 30, 22, 12, 31, 11, 4, 33, 30, 9, 18, 14, 16, 14, 32, 23, 28, 18, 10, 16, 30, 16, 23, 16, 18, 11, 15, 34, 16, 5, 32, 20, 6, 10, 5, 12, 37, 24, 29, 3, 25, 13, 8, 15, 15, 19, 16, 29, 33, 15, 7, 2, 4, 19, 22, 12, 20, 18, 20, 19, 14, 2, 12, 30, 36, 13, 23, 37, 19, 12, 41, 19, 27, 24, 8, 4, 31, 15, 3, 19, 10, 20, 13, 5, 15, 10, 9, 15, 14, 13, 17, 35, 5, 4, 10, 3, 29, 13, 14, 16, 8, 13, 22, 5, 18, 17, 15, 19, 3, 9, 19, 16, 30, 18, 13, 27, 8, 20, 13, 28, 16, 47, 10, 1, 1, 2, 1, 20, 7, 21, 9, 15, 25, 21, 22, 22, 11, 15, 21, 23, 44, 7, 6, 32, 10, 16, 19, 2, 4, 15, 21, 33, 7, 11, 8, 7, 29, 3, 8, 17, 22, 20, 39, 15, 22, 10, 9, 26, 11, 21, 22, 33, 26, 14, 7, 7, 20, 18, 11, 12, 13, 13, 22, 6, 14, 9, 24, 15, 17, 5, 15, 38, 32, 8, 4, 30, 12, 20, 15, 28, 9, 23, 14, 7, 6, 22, 19, 25, 24, 6, 15, 12, 13, 13, 3, 14, 9, 15, 9, 34, 5, 10, 36, 18, 11, 34, 30, 36, 36, 8, 22, 11, 8, 19, 19, 19, 21, 22, 18, 17, 25, 16, 10, 16, 9, 13, 5, 36, 27, 21, 30, 3, 13, 11, 29, 16, 28, 22, 26, 25, 14, 22, 16, 17, 7, 17, 17, 17, 7, 16, 17, 5, 18, 18, 5, 12, 25, 33, 16, 18, 19, 35, 29, 13, 17, 23, 9, 10, 23, 18, 38, 10, 22, 19, 30, 17, 5, 32, 15, 22, 20, 19, 11, 25, 26, 31, 7, 34, 8, 29, 11, 20, 27, 6, 24, 19, 16, 24, 6, 27, 13, 21, 27, 5, 19, 9, 5, 30, 25, 27, 5, 8, 19, 15, 24, 15, 24, 6, 26, 7, 17, 18, 25, 19, 12, 4, 32, 31, 10, 16, 2, 8, 17, 6, 22, 22, 19, 14, 18, 17, 22, 24, 21, 10, 6, 17, 22, 12, 21, 9, 19, 23, 14, 10, 7, 20, 14, 5, 32, 8, 20, 16, 7, 10, 14, 4, 9, 39, 26, 9, 8, 11, 7, 36, 9, 6, 23, 21, 21, 11, 15, 24, 21, 26, 17, 34, 8, 20, 14, 14, 5, 10, 8, 12, 21, 20, 9, 10, 15, 17, 9, 18, 18, 18, 11, 5, 20, 11, 12, 28, 6, 13, 23, 7, 15, 26, 8, 30, 37, 11, 13, 14, 5, 7, 30, 17, 32, 10, 10, 24, 15, 20, 26, 18, 27, 7, 12, 18, 17, 10, 15, 12, 27, 27, 3, 28, 20, 10, 32, 4, 29, 8, 6, 18, 11, 24, 2, 17, 8, 16, 18, 19, 3, 16, 8, 16, 10, 25, 19, 15, 18, 10, 7, 17, 8, 14, 24, 9, 10, 17, 7, 32, 8, 20, 15, 19, 24, 27, 10, 23, 6, 11, 17, 25, 30, 17, 36, 15, 18, 15, 29, 16, 25, 20, 10, 5, 21, 17, 10, 15, 23, 20, 8, 24, 21, 9, 12, 22, 25, 9, 28, 19, 27, 6, 21, 2, 18, 20, 21, 10, 29, 32, 20, 19, 14, 12, 10, 21, 7, 22, 11, 20, 14, 7, 14, 7, 20, 19, 18, 9, 16, 8, 7, 9, 12, 15, 27, 12, 14, 3, 29, 19, 23, 8, 16, 2, 24, 28, 16, 7, 20, 15, 15, 17, 27, 13, 4, 18, 25, 29, 7, 19, 14, 33, 24, 29, 27, 21, 14, 8, 25, 20, 16, 13, 4, 10, 12, 16, 8, 20, 31, 19, 14, 4, 14, 19, 12, 4, 9, 27, 6, 33, 20, 21, 11, 37, 15, 17, 14, 16, 21, 12, 3, 2, 17, 31, 23, 25, 6, 5, 13, 9, 23, 15, 9, 15, 12, 18, 17, 11, 19, 15, 19, 14, 16, 38, 24, 2, 3, 13, 1, 29, 14, 25, 21, 13, 4, 9, 6, 7, 21, 14, 8, 4, 26, 5, 24, 26, 9, 34, 1, 20, 7, 12, 18, 32, 1, 27, 5, 10, 11, 12, 4, 13, 8, 22, 10, 18, 19, 13, 5, 18, 6, 16, 1, 34, 35, 23, 9, 25, 23, 23, 28, 17, 8, 11, 15, 23, 21, 8, 26, 22, 29, 14, 23, 19, 20, 13, 21, 27, 6, 4, 18, 12, 31, 16, 22, 16, 18, 13, 27, 24, 11, 3, 16, 19, 14, 21, 13, 24, 10, 8, 21], \"xaxis\": \"x\", \"yaxis\": \"y\"}],\n",
              "                        {\"barmode\": \"relative\", \"legend\": {\"tracegroupgap\": 0}, \"template\": {\"data\": {\"bar\": [{\"error_x\": {\"color\": \"#2a3f5f\"}, \"error_y\": {\"color\": \"#2a3f5f\"}, \"marker\": {\"line\": {\"color\": \"#E5ECF6\", \"width\": 0.5}}, \"type\": \"bar\"}], \"barpolar\": [{\"marker\": {\"line\": {\"color\": \"#E5ECF6\", \"width\": 0.5}}, \"type\": \"barpolar\"}], \"carpet\": [{\"aaxis\": {\"endlinecolor\": \"#2a3f5f\", \"gridcolor\": \"white\", \"linecolor\": \"white\", \"minorgridcolor\": \"white\", \"startlinecolor\": \"#2a3f5f\"}, \"baxis\": {\"endlinecolor\": \"#2a3f5f\", \"gridcolor\": \"white\", \"linecolor\": \"white\", \"minorgridcolor\": \"white\", \"startlinecolor\": \"#2a3f5f\"}, \"type\": \"carpet\"}], \"choropleth\": [{\"colorbar\": {\"outlinewidth\": 0, \"ticks\": \"\"}, \"type\": \"choropleth\"}], \"contour\": [{\"colorbar\": {\"outlinewidth\": 0, \"ticks\": \"\"}, \"colorscale\": [[0.0, \"#0d0887\"], [0.1111111111111111, \"#46039f\"], [0.2222222222222222, \"#7201a8\"], [0.3333333333333333, \"#9c179e\"], [0.4444444444444444, \"#bd3786\"], [0.5555555555555556, \"#d8576b\"], [0.6666666666666666, \"#ed7953\"], [0.7777777777777778, \"#fb9f3a\"], [0.8888888888888888, \"#fdca26\"], [1.0, \"#f0f921\"]], \"type\": \"contour\"}], \"contourcarpet\": [{\"colorbar\": {\"outlinewidth\": 0, \"ticks\": \"\"}, \"type\": \"contourcarpet\"}], \"heatmap\": [{\"colorbar\": {\"outlinewidth\": 0, \"ticks\": \"\"}, \"colorscale\": [[0.0, \"#0d0887\"], [0.1111111111111111, \"#46039f\"], [0.2222222222222222, \"#7201a8\"], [0.3333333333333333, \"#9c179e\"], [0.4444444444444444, \"#bd3786\"], [0.5555555555555556, \"#d8576b\"], [0.6666666666666666, \"#ed7953\"], [0.7777777777777778, \"#fb9f3a\"], [0.8888888888888888, \"#fdca26\"], [1.0, \"#f0f921\"]], \"type\": \"heatmap\"}], \"heatmapgl\": [{\"colorbar\": {\"outlinewidth\": 0, \"ticks\": \"\"}, \"colorscale\": [[0.0, \"#0d0887\"], [0.1111111111111111, \"#46039f\"], [0.2222222222222222, \"#7201a8\"], [0.3333333333333333, \"#9c179e\"], [0.4444444444444444, \"#bd3786\"], [0.5555555555555556, \"#d8576b\"], [0.6666666666666666, \"#ed7953\"], [0.7777777777777778, \"#fb9f3a\"], [0.8888888888888888, \"#fdca26\"], [1.0, \"#f0f921\"]], \"type\": \"heatmapgl\"}], \"histogram\": [{\"marker\": {\"colorbar\": {\"outlinewidth\": 0, \"ticks\": \"\"}}, \"type\": \"histogram\"}], \"histogram2d\": [{\"colorbar\": {\"outlinewidth\": 0, \"ticks\": \"\"}, \"colorscale\": [[0.0, \"#0d0887\"], [0.1111111111111111, \"#46039f\"], [0.2222222222222222, \"#7201a8\"], [0.3333333333333333, \"#9c179e\"], [0.4444444444444444, \"#bd3786\"], [0.5555555555555556, \"#d8576b\"], [0.6666666666666666, \"#ed7953\"], [0.7777777777777778, \"#fb9f3a\"], [0.8888888888888888, \"#fdca26\"], [1.0, \"#f0f921\"]], \"type\": \"histogram2d\"}], \"histogram2dcontour\": [{\"colorbar\": {\"outlinewidth\": 0, \"ticks\": \"\"}, \"colorscale\": [[0.0, \"#0d0887\"], [0.1111111111111111, \"#46039f\"], [0.2222222222222222, \"#7201a8\"], [0.3333333333333333, \"#9c179e\"], [0.4444444444444444, \"#bd3786\"], [0.5555555555555556, \"#d8576b\"], [0.6666666666666666, \"#ed7953\"], [0.7777777777777778, \"#fb9f3a\"], [0.8888888888888888, \"#fdca26\"], [1.0, \"#f0f921\"]], \"type\": \"histogram2dcontour\"}], \"mesh3d\": [{\"colorbar\": {\"outlinewidth\": 0, \"ticks\": \"\"}, \"type\": \"mesh3d\"}], \"parcoords\": [{\"line\": {\"colorbar\": {\"outlinewidth\": 0, \"ticks\": \"\"}}, \"type\": \"parcoords\"}], \"pie\": [{\"automargin\": true, \"type\": \"pie\"}], \"scatter\": [{\"marker\": {\"colorbar\": {\"outlinewidth\": 0, \"ticks\": \"\"}}, \"type\": \"scatter\"}], \"scatter3d\": [{\"line\": {\"colorbar\": {\"outlinewidth\": 0, \"ticks\": \"\"}}, \"marker\": {\"colorbar\": {\"outlinewidth\": 0, \"ticks\": \"\"}}, \"type\": \"scatter3d\"}], \"scattercarpet\": [{\"marker\": {\"colorbar\": {\"outlinewidth\": 0, \"ticks\": \"\"}}, \"type\": \"scattercarpet\"}], \"scattergeo\": [{\"marker\": {\"colorbar\": {\"outlinewidth\": 0, \"ticks\": \"\"}}, \"type\": \"scattergeo\"}], \"scattergl\": [{\"marker\": {\"colorbar\": {\"outlinewidth\": 0, \"ticks\": \"\"}}, \"type\": \"scattergl\"}], \"scattermapbox\": [{\"marker\": {\"colorbar\": {\"outlinewidth\": 0, \"ticks\": \"\"}}, \"type\": \"scattermapbox\"}], \"scatterpolar\": [{\"marker\": {\"colorbar\": {\"outlinewidth\": 0, \"ticks\": \"\"}}, \"type\": \"scatterpolar\"}], \"scatterpolargl\": [{\"marker\": {\"colorbar\": {\"outlinewidth\": 0, \"ticks\": \"\"}}, \"type\": \"scatterpolargl\"}], \"scatterternary\": [{\"marker\": {\"colorbar\": {\"outlinewidth\": 0, \"ticks\": \"\"}}, \"type\": \"scatterternary\"}], \"surface\": [{\"colorbar\": {\"outlinewidth\": 0, \"ticks\": \"\"}, \"colorscale\": [[0.0, \"#0d0887\"], [0.1111111111111111, \"#46039f\"], [0.2222222222222222, \"#7201a8\"], [0.3333333333333333, \"#9c179e\"], [0.4444444444444444, \"#bd3786\"], [0.5555555555555556, \"#d8576b\"], [0.6666666666666666, \"#ed7953\"], [0.7777777777777778, \"#fb9f3a\"], [0.8888888888888888, \"#fdca26\"], [1.0, \"#f0f921\"]], \"type\": \"surface\"}], \"table\": [{\"cells\": {\"fill\": {\"color\": \"#EBF0F8\"}, \"line\": {\"color\": \"white\"}}, \"header\": {\"fill\": {\"color\": \"#C8D4E3\"}, \"line\": {\"color\": \"white\"}}, \"type\": \"table\"}]}, \"layout\": {\"annotationdefaults\": {\"arrowcolor\": \"#2a3f5f\", \"arrowhead\": 0, \"arrowwidth\": 1}, \"coloraxis\": {\"colorbar\": {\"outlinewidth\": 0, \"ticks\": \"\"}}, \"colorscale\": {\"diverging\": [[0, \"#8e0152\"], [0.1, \"#c51b7d\"], [0.2, \"#de77ae\"], [0.3, \"#f1b6da\"], [0.4, \"#fde0ef\"], [0.5, \"#f7f7f7\"], [0.6, \"#e6f5d0\"], [0.7, \"#b8e186\"], [0.8, \"#7fbc41\"], [0.9, \"#4d9221\"], [1, \"#276419\"]], \"sequential\": [[0.0, \"#0d0887\"], [0.1111111111111111, \"#46039f\"], [0.2222222222222222, \"#7201a8\"], [0.3333333333333333, \"#9c179e\"], [0.4444444444444444, \"#bd3786\"], [0.5555555555555556, \"#d8576b\"], [0.6666666666666666, \"#ed7953\"], [0.7777777777777778, \"#fb9f3a\"], [0.8888888888888888, \"#fdca26\"], [1.0, \"#f0f921\"]], \"sequentialminus\": [[0.0, \"#0d0887\"], [0.1111111111111111, \"#46039f\"], [0.2222222222222222, \"#7201a8\"], [0.3333333333333333, \"#9c179e\"], [0.4444444444444444, \"#bd3786\"], [0.5555555555555556, \"#d8576b\"], [0.6666666666666666, \"#ed7953\"], [0.7777777777777778, \"#fb9f3a\"], [0.8888888888888888, \"#fdca26\"], [1.0, \"#f0f921\"]]}, \"colorway\": [\"#636efa\", \"#EF553B\", \"#00cc96\", \"#ab63fa\", \"#FFA15A\", \"#19d3f3\", \"#FF6692\", \"#B6E880\", \"#FF97FF\", \"#FECB52\"], \"font\": {\"color\": \"#2a3f5f\"}, \"geo\": {\"bgcolor\": \"white\", \"lakecolor\": \"white\", \"landcolor\": \"#E5ECF6\", \"showlakes\": true, \"showland\": true, \"subunitcolor\": \"white\"}, \"hoverlabel\": {\"align\": \"left\"}, \"hovermode\": \"closest\", \"mapbox\": {\"style\": \"light\"}, \"paper_bgcolor\": \"white\", \"plot_bgcolor\": \"#E5ECF6\", \"polar\": {\"angularaxis\": {\"gridcolor\": \"white\", \"linecolor\": \"white\", \"ticks\": \"\"}, \"bgcolor\": \"#E5ECF6\", \"radialaxis\": {\"gridcolor\": \"white\", \"linecolor\": \"white\", \"ticks\": \"\"}}, \"scene\": {\"xaxis\": {\"backgroundcolor\": \"#E5ECF6\", \"gridcolor\": \"white\", \"gridwidth\": 2, \"linecolor\": \"white\", \"showbackground\": true, \"ticks\": \"\", \"zerolinecolor\": \"white\"}, \"yaxis\": {\"backgroundcolor\": \"#E5ECF6\", \"gridcolor\": \"white\", \"gridwidth\": 2, \"linecolor\": \"white\", \"showbackground\": true, \"ticks\": \"\", \"zerolinecolor\": \"white\"}, \"zaxis\": {\"backgroundcolor\": \"#E5ECF6\", \"gridcolor\": \"white\", \"gridwidth\": 2, \"linecolor\": \"white\", \"showbackground\": true, \"ticks\": \"\", \"zerolinecolor\": \"white\"}}, \"shapedefaults\": {\"line\": {\"color\": \"#2a3f5f\"}}, \"ternary\": {\"aaxis\": {\"gridcolor\": \"white\", \"linecolor\": \"white\", \"ticks\": \"\"}, \"baxis\": {\"gridcolor\": \"white\", \"linecolor\": \"white\", \"ticks\": \"\"}, \"bgcolor\": \"#E5ECF6\", \"caxis\": {\"gridcolor\": \"white\", \"linecolor\": \"white\", \"ticks\": \"\"}}, \"title\": {\"x\": 0.05}, \"xaxis\": {\"automargin\": true, \"gridcolor\": \"white\", \"linecolor\": \"white\", \"ticks\": \"\", \"title\": {\"standoff\": 15}, \"zerolinecolor\": \"white\", \"zerolinewidth\": 2}, \"yaxis\": {\"automargin\": true, \"gridcolor\": \"white\", \"linecolor\": \"white\", \"ticks\": \"\", \"title\": {\"standoff\": 15}, \"zerolinecolor\": \"white\", \"zerolinewidth\": 2}}}, \"title\": {\"text\": \"Phrase Histogram\"}, \"xaxis\": {\"anchor\": \"y\", \"domain\": [0.0, 1.0], \"title\": {\"text\": \"# Phrases\"}}, \"yaxis\": {\"anchor\": \"x\", \"domain\": [0.0, 1.0], \"title\": {\"text\": \"count\"}}},\n",
              "                        {\"responsive\": true}\n",
              "                    ).then(function(){\n",
              "                            \n",
              "var gd = document.getElementById('3d6b2117-d3b0-454f-9164-8957fdf9ac41');\n",
              "var x = new MutationObserver(function (mutations, observer) {{\n",
              "        var display = window.getComputedStyle(gd).display;\n",
              "        if (!display || display === 'none') {{\n",
              "            console.log([gd, 'removed!']);\n",
              "            Plotly.purge(gd);\n",
              "            observer.disconnect();\n",
              "        }}\n",
              "}});\n",
              "\n",
              "// Listen for the removal of the full notebook cells\n",
              "var notebookContainer = gd.closest('#notebook-container');\n",
              "if (notebookContainer) {{\n",
              "    x.observe(notebookContainer, {childList: true});\n",
              "}}\n",
              "\n",
              "// Listen for the clearing of the current output cell\n",
              "var outputEl = gd.closest('.output');\n",
              "if (outputEl) {{\n",
              "    x.observe(outputEl, {childList: true});\n",
              "}}\n",
              "\n",
              "                        })\n",
              "                };\n",
              "                \n",
              "            </script>\n",
              "        </div>\n",
              "</body>\n",
              "</html>"
            ]
          },
          "metadata": {}
        }
      ]
    },
    {
      "cell_type": "code",
      "source": [
        "px.box(imdb_df_box, x = \"Sentiment\", y = \"PhraseId\", title = \"# of Phrases by Sentiment\", labels={\"PhraseId\":\"# of Phrases\"})"
      ],
      "metadata": {
        "colab": {
          "base_uri": "https://localhost:8080/",
          "height": 542
        },
        "id": "4MKuHSCi94No",
        "outputId": "cb3e489c-e1e9-4ab8-d8bb-2d218e27eb62"
      },
      "execution_count": null,
      "outputs": [
        {
          "output_type": "display_data",
          "data": {
            "text/html": [
              "<html>\n",
              "<head><meta charset=\"utf-8\" /></head>\n",
              "<body>\n",
              "    <div>\n",
              "            <script src=\"https://cdnjs.cloudflare.com/ajax/libs/mathjax/2.7.5/MathJax.js?config=TeX-AMS-MML_SVG\"></script><script type=\"text/javascript\">if (window.MathJax) {MathJax.Hub.Config({SVG: {font: \"STIX-Web\"}});}</script>\n",
              "                <script type=\"text/javascript\">window.PlotlyConfig = {MathJaxConfig: 'local'};</script>\n",
              "        <script src=\"https://cdn.plot.ly/plotly-latest.min.js\"></script>    \n",
              "            <div id=\"3f4de1ac-3055-4eac-9a01-0b0e8959d61a\" class=\"plotly-graph-div\" style=\"height:525px; width:100%;\"></div>\n",
              "            <script type=\"text/javascript\">\n",
              "                \n",
              "                    window.PLOTLYENV=window.PLOTLYENV || {};\n",
              "                    \n",
              "                if (document.getElementById(\"3f4de1ac-3055-4eac-9a01-0b0e8959d61a\")) {\n",
              "                    Plotly.newPlot(\n",
              "                        '3f4de1ac-3055-4eac-9a01-0b0e8959d61a',\n",
              "                        [{\"alignmentgroup\": \"True\", \"hoverlabel\": {\"namelength\": 0}, \"hovertemplate\": \"Sentiment=%{x}<br># of Phrases=%{y}\", \"legendgroup\": \"\", \"marker\": {\"color\": \"#636efa\"}, \"name\": \"\", \"notched\": false, \"offsetgroup\": \"\", \"orientation\": \"v\", \"showlegend\": false, \"type\": \"box\", \"x\": [1, 2, 3, 2, 3, 4, 0, 1, 2, 3, 1, 2, 3, 4, 0, 1, 2, 1, 2, 3, 4, 0, 1, 2, 2, 3, 1, 2, 0, 1, 2, 1, 2, 3, 4, 0, 1, 2, 3, 2, 3, 4, 1, 2, 3, 4, 1, 2, 3, 4, 0, 1, 2, 3, 4, 2, 3, 2, 3, 4, 1, 2, 3, 1, 2, 2, 3, 4, 1, 2, 3, 1, 2, 3, 1, 2, 3, 1, 2, 3, 1, 2, 3, 4, 1, 2, 1, 2, 3, 1, 2, 3, 1, 2, 3, 4, 1, 2, 3, 0, 1, 2, 3, 1, 2, 3, 4, 0, 1, 2, 3, 1, 2, 3, 4, 0, 1, 2, 3, 0, 1, 2, 3, 4, 0, 1, 2, 3, 1, 2, 3, 1, 2, 3, 4, 0, 1, 2, 3, 0, 2, 3, 1, 2, 3, 4, 1, 2, 3, 2, 1, 2, 3, 4, 1, 2, 3, 4, 0, 1, 2, 3, 2, 3, 4, 1, 2, 3, 4, 0, 1, 2, 3, 1, 2, 3, 0, 1, 2, 3, 0, 1, 2, 3, 1, 2, 3, 4, 2, 3, 4, 0, 2, 1, 2, 3, 1, 2, 3, 1, 2, 3, 4, 0, 1, 2, 3, 1, 2, 3, 0, 1, 2, 3, 2, 3, 1, 2, 3, 4, 0, 1, 2, 3, 0, 1, 2, 3, 4, 1, 2, 1, 2, 3, 1, 2, 3, 4, 1, 2, 3, 2, 3, 4, 2, 3, 1, 2, 3, 1, 2, 3, 1, 2, 1, 2, 3, 0, 1, 2, 3, 1, 2, 3, 4, 2, 3, 4, 2, 3, 4, 2, 3, 1, 2, 3, 1, 2, 3, 4, 2, 3, 4, 0, 1, 2, 2, 3, 4, 1, 2, 3, 4, 2, 3, 1, 2, 3, 0, 1, 2, 3, 1, 2, 3, 4, 0, 1, 2, 3, 4, 1, 2, 3, 0, 1, 2, 3, 2, 3, 4, 0, 1, 2, 3, 1, 2, 3, 0, 1, 2, 4, 1, 2, 0, 1, 2, 3, 2, 3, 4, 1, 2, 3, 1, 2, 3, 1, 2, 3, 1, 2, 3, 2, 3, 4, 0, 1, 2, 3, 2, 3, 4, 0, 1, 2, 4, 0, 1, 2, 3, 0, 1, 2, 3, 0, 1, 2, 3, 0, 1, 2, 3, 4, 1, 2, 3, 1, 2, 1, 2, 3, 4, 2, 3, 4, 0, 1, 2, 3, 4, 1, 2, 3, 4, 1, 2, 3, 4, 2, 0, 1, 2, 1, 2, 3, 4, 1, 2, 3, 4, 1, 2, 3, 4, 1, 2, 3, 4, 1, 2, 3, 0, 1, 2, 3, 4, 1, 2, 3, 4, 1, 2, 2, 3, 4, 1, 2, 3, 0, 1, 2, 3, 1, 2, 3, 1, 2, 3, 4, 2, 3, 4, 1, 2, 3, 4, 0, 1, 2, 3, 2, 3, 4, 0, 1, 2, 3, 1, 2, 3, 4, 0, 1, 2, 3, 1, 2, 3, 1, 2, 3, 1, 2, 1, 2, 3, 4, 1, 2, 3, 1, 2, 3, 0, 1, 2, 3, 2, 4, 0, 1, 2, 3, 1, 2, 3, 1, 2, 3, 0, 1, 2, 2, 3, 4, 1, 2, 3, 1, 2, 3, 0, 1, 2, 3, 1, 2, 3, 4, 0, 1, 2, 1, 2, 3, 4, 1, 2, 3, 0, 1, 2, 3, 4, 1, 2, 3, 4, 0, 1, 2, 3, 0, 1, 2, 3, 1, 2, 3, 4, 1, 2, 3, 1, 2, 3, 4, 0, 1, 2, 3, 0, 1, 3, 1, 2, 3, 1, 2, 3, 4, 1, 2, 3, 0, 1, 2, 2, 3, 4, 0, 1, 2, 2, 3, 4, 0, 1, 2, 1, 2, 3, 1, 2, 3, 4, 2, 3, 4, 2, 3, 4, 1, 2, 3, 1, 2, 0, 1, 2, 3, 1, 2, 3, 1, 2, 0, 1, 2, 3, 0, 1, 2, 3, 4, 0, 1, 2, 3, 1, 2, 3, 0, 1, 2, 3, 1, 2, 3, 0, 1, 2, 1, 2, 3, 0, 1, 2, 3, 4, 2, 3, 4, 0, 1, 2, 3, 1, 2, 1, 2, 3, 4, 1, 2, 3, 2, 3, 4, 1, 2, 1, 2, 3, 4, 2, 3, 4, 1, 2, 3, 4, 1, 2, 3, 0, 1, 2, 3, 2, 3, 1, 2, 3, 1, 2, 3, 4, 1, 2, 0, 1, 2, 0, 1, 2, 3, 0, 1, 2, 3, 2, 3, 4, 0, 1, 2, 3, 1, 2, 3, 1, 2, 3, 1, 2, 0, 1, 2, 0, 1, 2, 3, 0, 1, 2, 1, 2, 3, 0, 1, 2, 1, 2, 3, 1, 2, 3, 4, 2, 1, 2, 3, 1, 2, 0, 1, 2, 3, 0, 1, 2, 3, 0, 1, 2, 3, 1, 2, 3, 4, 2, 3, 4, 2, 3, 4, 2, 3, 4, 1, 2, 3, 2, 3, 4, 0, 1, 2, 0, 1, 2, 3, 4, 1, 2, 4, 1, 2, 3, 4, 1, 2, 3, 4, 1, 2, 1, 2, 3, 4, 1, 2, 3, 0, 1, 2, 2, 3, 4, 0, 1, 2, 3, 1, 2, 3, 1, 2, 3, 2, 3, 4, 2, 3, 1, 2, 3, 1, 2, 3, 1, 2, 3, 4, 2, 3, 4, 0, 1, 2, 3, 4, 1, 2, 1, 2, 3, 4, 1, 2, 3, 2, 3, 1, 2, 3, 1, 2, 3, 0, 1, 2, 3, 2, 3, 4, 2, 3, 4, 2, 3, 4, 1, 2, 3, 4, 0, 1, 2, 3, 0, 1, 2, 3, 4, 1, 2, 3, 1, 2, 3, 0, 1, 2, 1, 2, 3, 0, 1, 2, 3, 0, 1, 2, 0, 1, 2, 3, 4, 0, 1, 2, 1, 2, 1, 0, 1, 2, 3, 4, 0, 1, 2, 3, 4, 0, 1, 2, 1, 2, 3, 4, 2, 3, 4, 1, 2, 3, 2, 3, 2, 3, 1, 2, 3, 2, 3, 4, 0, 1, 2, 3, 2, 3, 2, 3, 4, 2, 3, 4, 0, 1, 2, 0, 1, 2, 3, 0, 1, 2, 3, 1, 2, 3, 4, 1, 2, 3, 2, 3, 4, 2, 3, 1, 2, 3, 1, 2, 3, 0, 1, 2, 1, 2, 3, 4, 0, 1, 2, 3, 4, 0, 1, 2, 3, 0, 1, 3, 2, 3, 4, 1, 2, 3, 0, 1, 2, 1, 2, 3, 2, 3, 4, 1, 2, 3, 4, 1, 2, 3, 1, 2, 3, 2, 4, 0, 1, 2, 1, 2, 3, 0, 1, 2, 3, 4, 1, 2, 1, 2, 3, 0, 1, 2, 3, 0, 1, 3, 2, 1, 2, 3, 1, 2, 3, 4, 1, 2, 2, 3, 4, 2, 3, 0, 1, 2, 4, 2, 3, 0, 1, 2, 3, 1, 2, 3, 4, 1, 2, 3, 1, 2, 3, 1, 2, 3, 4, 1, 2, 0, 1, 2, 3, 2, 3, 4, 0, 1, 2, 3, 1, 2, 3, 0, 1, 2, 1, 2, 3, 1, 2, 3, 0, 1, 2, 3, 1, 2, 3, 1, 2, 3, 0, 1, 2, 3, 4, 2, 3, 1, 2, 1, 2, 1, 2, 3, 1, 2, 3, 2, 3, 4, 1, 2, 3, 0, 1, 2, 0, 1, 2, 1, 2, 3, 0, 1, 2, 3, 2, 3, 4, 1, 2, 3, 2, 3, 4, 0, 1, 2, 3, 4, 1, 2, 3, 1, 2, 1, 2, 3, 4, 2, 3, 1, 2, 3, 4, 1, 2, 3, 4, 2, 3, 4, 1, 2, 3, 4, 1, 2, 3, 0, 1, 2, 3, 1, 2, 3, 4, 1, 2, 3, 4, 0, 1, 2, 3, 0, 1, 2, 3, 0, 1, 2, 3, 2, 3, 4, 1, 2, 3, 1, 2, 3, 4, 1, 2, 3, 4, 2, 3, 0, 1, 2, 3, 0, 1, 2, 3, 1, 2, 3, 1, 2, 3, 2, 3, 4, 1, 2, 3, 4, 0, 1, 2, 0, 1, 2, 0, 1, 2, 3, 1, 2, 3, 1, 2, 3, 4, 2, 1, 2, 3, 1, 2, 3, 4, 0, 1, 2, 3, 2, 3, 4, 0, 1, 2, 0, 1, 2, 3, 3, 4, 1, 2, 3, 1, 2, 3, 4, 1, 2, 3, 0, 1, 2, 3, 2, 1, 2, 3, 2, 3, 4, 2, 3, 1, 2, 3, 4, 0, 1, 2, 3, 4, 0, 1, 2, 1, 2, 1, 2, 3, 4, 1, 2, 3, 4, 0, 1, 2, 3, 1, 2, 3, 1, 2, 3, 1, 2, 3, 4, 0, 1, 2, 2, 3, 4, 1, 2, 3, 4, 0, 1, 2, 3, 0, 1, 2, 3, 4, 2, 1, 2, 3, 4, 0, 1, 2, 3, 2, 3, 4, 1, 2, 1, 2, 3, 2, 3, 4, 1, 2, 3, 1, 2, 1, 2, 3, 1, 2, 3, 1, 2, 3, 0, 1, 2, 3, 4, 2, 3, 2, 3, 4, 2, 3, 1, 2, 3, 0, 1, 2, 1, 2, 3, 1, 2, 3, 1, 2, 3, 1, 2, 3, 1, 2, 3, 4, 1, 2, 3, 2, 3, 1, 2, 3, 4, 1, 2, 0, 1, 2, 3, 0, 1, 2, 3, 2, 3, 0, 1, 2, 3, 2, 3, 4, 1, 2, 3, 1, 2, 3, 1, 2, 3, 1, 2, 3, 4, 0, 1, 2, 3, 1, 2, 3, 1, 2, 3, 4, 0, 1, 2, 3, 1, 2, 3, 4, 2, 3, 4, 2, 3, 4, 0, 1, 1, 2, 1, 2, 1, 2, 2, 3, 4, 3, 4, 1, 2, 1, 2, 3, 2, 3, 1, 2, 1, 2, 3, 0, 1, 2, 3, 0, 1, 2, 3, 0, 1, 2, 3, 1, 2, 3, 4, 2, 3, 4, 0, 1, 2, 3, 1, 2, 2, 3, 4, 0, 1, 2, 3, 2, 3, 4, 1, 2, 3, 1, 2, 3, 4, 2, 3, 4, 1, 2, 3, 0, 1, 2, 1, 2, 3, 4, 0, 1, 2, 1, 2, 1, 2, 3, 4, 1, 2, 3, 2, 3, 4, 0, 1, 2, 3, 4, 1, 2, 3, 4, 1, 2, 3, 4, 0, 1, 2, 3, 0, 1, 2, 3, 1, 2, 3, 1, 2, 2, 3, 0, 1, 2, 3, 4, 2, 3, 4, 1, 2, 3, 4, 0, 1, 2, 3, 2, 3, 4, 2, 3, 4, 0, 1, 2, 3, 2, 3, 4, 1, 2, 3, 4, 0, 1, 2, 1, 2, 3, 0, 1, 2, 3, 0, 1, 2, 3, 2, 3, 4, 3, 3, 4, 1, 2, 3, 2, 3, 4, 1, 2, 3, 1, 2, 3, 1, 2, 3, 1, 2, 1, 2, 3, 0, 1, 2, 3, 0, 1, 1, 2, 3, 1, 2, 3, 1, 2, 3, 0, 1, 2, 3, 1, 2, 3, 4, 2, 3, 1, 2, 3, 1, 2, 3, 0, 1, 2, 1, 2, 3, 1, 2, 3, 4, 1, 2, 3, 4, 0, 1, 2, 3, 1, 2, 3, 4, 1, 2, 3, 2, 3, 4, 1, 2, 0, 1, 2, 1, 2, 3, 1, 2, 3, 4, 2, 3, 4, 0, 1, 2, 3, 1, 2, 3, 0, 1, 2, 3, 0, 1, 2, 3, 4, 1, 2, 3, 4, 1, 2, 3, 4, 2, 3, 4, 2, 3, 4, 1, 2, 3, 0, 1, 2, 3, 4, 2, 3, 4, 2, 3, 4, 1, 2, 3, 0, 1, 2, 1, 2, 3, 0, 1, 2, 3, 4, 0, 1, 2, 3, 1, 2, 3, 4, 2, 3, 4, 2, 3, 4, 1, 2, 3, 1, 2, 3, 1, 2, 3, 1, 2, 3, 4, 1, 2, 3, 2, 3, 4, 0, 1, 2, 3, 1, 2, 3, 2, 3, 4, 0, 1, 2, 3, 2, 3, 4, 0, 1, 2, 3, 2, 3, 4, 1, 2, 3, 4, 2, 3, 4, 2, 3, 4, 0, 1, 2, 3, 0, 1, 2, 3, 2, 3, 4, 0, 1, 2, 1, 2, 3, 4, 2, 3, 4, 0, 1, 2, 3, 0, 1, 2, 2, 3, 2, 3, 1, 2, 3, 0, 1, 2, 3, 2, 3, 4, 1, 2, 3, 4, 2, 3, 1, 2, 3, 1, 2, 3, 0, 1, 2, 3, 0, 1, 2, 3, 2, 3, 4, 0, 1, 2, 3, 1, 2, 3, 2, 3, 4, 1, 2, 3, 1, 2, 3, 4, 2, 3, 4, 1, 2, 3, 0, 1, 2, 3, 1, 2, 3, 4, 0, 1, 0, 1, 2, 3, 2, 3, 4, 2, 3, 4, 1, 2, 3, 4, 1, 2, 3, 0, 1, 2, 3, 4, 2, 3, 1, 2, 3, 4, 1, 2, 3, 4, 2, 3, 4, 0, 1, 2, 3, 2, 3, 1, 2, 3, 0, 1, 2, 1, 2, 3, 4, 0, 1, 2, 3, 4, 2, 2, 3, 4, 1, 2, 3, 4, 0, 1, 2, 3, 1, 2, 3, 4, 0, 1, 2, 3, 0, 1, 2, 2, 3, 4, 2, 3, 4, 1, 2, 3, 2, 3, 4, 1, 2, 3, 0, 1, 2, 3, 1, 2, 3, 4, 1, 2, 3, 0, 1, 2, 0, 1, 2, 3, 1, 2, 3, 0, 1, 2, 3, 1, 2, 3, 4, 2, 3, 4, 1, 2, 3, 1, 2, 3, 1, 2, 1, 2, 3, 0, 1, 2, 3, 1, 2, 3, 0, 1, 2, 2, 3, 4, 2, 3, 4, 1, 2, 3, 2, 3, 4, 1, 2, 3, 4, 2, 3, 4, 2, 3, 4, 1, 2, 3, 4, 1, 2, 3, 4, 2, 3, 4, 0, 1, 2, 1, 2, 3, 4, 1, 2, 3, 2, 3, 4, 1, 2, 3, 2, 3, 2, 3, 0, 1, 2, 3, 1, 2, 3, 1, 2, 3, 4, 2, 3, 4, 1, 2, 3, 1, 2, 3, 4, 0, 1, 2, 3, 1, 2, 3, 4, 3, 4, 2, 3, 4, 0, 1, 2, 3, 1, 2, 3, 4, 1, 2, 3, 1, 2, 3, 4, 2, 3, 4, 0, 1, 2, 3, 4, 1, 2, 3, 4, 2, 3, 4, 2, 3, 4, 0, 1, 2, 1, 2, 3, 4, 0, 1, 2, 3, 2, 3, 4, 0, 1, 2, 2, 3, 4, 1, 2, 3, 2, 3, 0, 1, 2, 3, 2, 3, 4, 0, 1, 2, 1, 2, 3, 0, 1, 2, 3, 4, 1, 2, 3, 2, 3, 4, 1, 2, 3, 4, 2, 3, 4, 1, 2, 3, 1, 2, 3, 4, 1, 2, 1, 2, 0, 1, 2, 3, 0, 1, 2, 3, 2, 3, 1, 2, 3, 1, 2, 3, 4, 1, 2, 3, 2, 4, 1, 2, 1, 2, 3, 1, 2, 3, 0, 1, 2, 3, 1, 2, 3, 1, 2, 1, 2, 3, 0, 1, 2, 3, 1, 2, 3, 1, 2, 3, 1, 2, 3, 4, 1, 2, 0, 1, 2, 3, 1, 2, 3, 2, 3, 2, 3, 4, 0, 1, 2, 3, 0, 1, 2, 3, 4, 1, 2, 3, 1, 2, 3, 4, 1, 2, 3, 1, 2, 3, 1, 2, 3, 1, 2, 3, 1, 2, 3, 4, 1, 2, 3, 4, 2, 3, 4, 2, 3, 4, 1, 2, 3, 4, 2, 3, 4, 1, 2, 3, 0, 1, 2, 1, 2, 2, 3, 1, 2, 1, 2, 3, 2, 3, 4, 2, 3, 4, 1, 2, 3, 0, 1, 2, 3, 4, 1, 2, 2, 3, 1, 2, 3, 0, 1, 2, 3, 2, 3, 4, 1, 2, 3, 1, 2, 1, 2, 3, 4, 0, 1, 2, 3, 0, 1, 2, 1, 2, 3, 4, 1, 2, 3, 4, 2, 3, 1, 2, 3, 4, 1, 2, 3, 4, 2, 3, 4, 1, 2, 3, 1, 2, 3, 4, 1, 2, 2, 4, 2, 3, 2, 3, 4, 0, 1, 2, 3, 1, 2, 2, 3, 4, 2, 3, 1, 2, 3, 4, 2, 3, 4, 0, 1, 2, 0, 1, 2, 3, 4, 1, 2, 0, 2, 3, 1, 2, 3, 1, 2, 3, 1, 2, 3, 4, 1, 2, 3, 4, 1, 2, 3, 2, 3, 2, 3, 2, 3, 0, 1, 2, 3, 4, 1, 2, 2, 3, 4, 1, 2, 3, 1, 2, 3, 2, 3, 1, 2, 1, 2, 3, 0, 1, 2, 3, 1, 2, 3, 4, 0, 1, 2, 0, 1, 2, 1, 2, 2, 3, 2, 3, 1, 2, 0, 1, 2, 3, 4, 2, 3, 4, 0, 1, 2, 3, 2, 3, 4, 0, 1, 2, 3, 1, 2, 3, 2, 3, 4, 1, 2, 3, 2, 3, 4, 0, 1, 2, 0, 1, 2, 3, 1, 2, 3, 4, 1, 2, 3, 4, 2, 3, 0, 1, 2, 3, 2, 3, 4, 2, 3, 1, 2, 3, 0, 1, 2, 3, 4, 1, 2, 3, 2, 3, 0, 1, 2, 0, 1, 2, 0, 1, 2, 3, 1, 2, 3, 4, 1, 2, 3, 1, 2, 3, 2, 3, 0, 1, 2, 0, 1, 2, 3, 0, 1, 2, 3, 0, 1, 0, 1, 2, 3, 2, 3, 4, 1, 2, 1, 2, 3, 4, 1, 2, 3, 1, 2, 3, 4, 1, 2, 2, 3, 4, 2, 3, 1, 2, 3, 2, 3, 4, 1, 2, 3, 0, 1, 2, 3, 1, 3, 4, 0, 1, 2, 1, 2, 3, 0, 1, 2, 3, 4, 2, 3, 2, 3, 4, 0, 1, 2, 3, 4, 2, 3, 4, 1, 2, 3, 4, 2, 3, 4, 0, 1, 2, 3, 0, 1, 2, 3, 1, 2, 3, 4, 0, 1, 2, 2, 3, 0, 1, 2, 1, 2, 3, 0, 1, 2, 3, 4, 0, 1, 2, 3, 0, 1, 2, 3, 4, 1, 2, 3, 2, 3, 1, 2, 3, 0, 1, 2, 3, 2, 0, 1, 2, 3, 1, 2, 1, 2, 2, 3, 4, 1, 2, 0, 1, 2, 3, 2, 3, 4, 0, 1, 2, 3, 4, 1, 2, 3, 0, 1, 2, 3, 2, 4, 0, 1, 2, 3, 4, 2, 3, 4, 0, 1, 2, 3, 1, 2, 3, 2, 3, 4, 0, 1, 2, 0, 1, 2, 3, 4, 0, 1, 2, 3, 1, 2, 3, 4, 2, 3, 2, 3, 1, 2, 3, 4, 1, 2, 3, 0, 1, 2, 3, 0, 1, 2, 3, 1, 2, 3, 1, 2, 3, 4, 2, 3, 4, 2, 0, 1, 2, 3, 0, 1, 2, 3, 2, 3, 4, 1, 2, 1, 2, 2, 3, 4, 1, 2, 3, 2, 3, 0, 1, 2, 3, 1, 2, 3, 4, 2, 3, 2, 3, 4, 0, 1, 2, 3, 3, 4, 1, 2, 3, 2, 3, 4, 1, 2, 3, 4, 1, 2, 3, 1, 2, 3, 0, 1, 2, 3, 1, 2, 2, 3, 4, 1, 2, 3, 0, 1, 2, 2, 3, 2, 3, 4, 2, 3, 0, 1, 2, 3, 4, 0, 1, 2, 3, 2, 3, 4, 0, 1, 2, 3, 1, 2, 3, 1, 2, 3, 4, 0, 1, 2, 2, 3, 4, 1, 2, 3, 2, 3, 4, 0, 1, 1, 2, 3, 4, 1, 2, 1, 2, 3, 1, 2, 3, 1, 2, 2, 3, 4, 1, 2, 3, 4, 1, 2, 1, 2, 3, 4, 0, 1, 2, 1, 2, 2, 3, 4, 1, 2, 3, 4, 1, 2, 1, 2, 3, 1, 2, 0, 1, 2, 0, 1, 2, 3, 1, 2, 3, 4, 1, 2, 3, 1, 2, 3, 0, 1, 2, 1, 2, 3, 0, 1, 2, 3, 4, 0, 1, 2, 0, 2, 3, 1, 2, 3, 4, 2, 3, 1, 2, 1, 2, 0, 1, 2, 3, 1, 2, 0, 1, 2, 3, 4, 1, 2, 1, 2, 3, 0, 1, 2, 3, 1, 2, 3, 0, 1, 2, 3, 1, 2, 3, 0, 1, 2, 3, 1, 2, 1, 2, 3, 1, 2, 3, 1, 2, 3, 2, 1, 2, 3, 1, 2, 3, 4, 1, 2, 1, 2, 3, 4, 2, 3, 4, 1, 2, 3, 1, 2, 3, 1, 2, 3, 4, 0, 1, 2, 2, 3, 4, 0, 1, 2, 0, 1, 2, 3, 1, 2, 2, 3, 4, 0, 1, 2, 3, 0, 1, 2, 3, 4, 1, 2, 0, 1, 2, 0, 1, 2, 3, 1, 2, 3, 0, 1, 2, 3, 4, 1, 2, 3, 2, 3, 4, 2, 1, 2, 0, 1, 2, 3, 1, 2, 3, 2, 3, 1, 2, 3, 1, 2, 3, 4, 0, 1, 2, 0, 1, 2, 3, 0, 1, 2, 3, 0, 1, 2, 0, 1, 2, 3, 2, 3, 4, 0, 1, 2, 3, 1, 2, 3, 0, 1, 2, 3, 2, 3, 4, 2, 3, 0, 2, 3, 1, 2, 3, 4, 3, 4, 1, 2, 3, 0, 1, 2, 3, 0, 2, 3, 0, 1, 2, 3, 4, 1, 2, 3, 1, 2, 3, 0, 1, 2, 3, 1, 2, 3, 0, 1, 2, 1, 2, 3, 1, 2, 3, 4, 1, 2, 3, 4, 2, 3, 1, 2, 3, 2, 3, 4, 1, 2, 3, 4, 1, 2, 1, 2, 1, 2, 3, 0, 1, 2, 3, 0, 1, 2, 3, 1, 2, 1, 2, 3, 0, 1, 2, 3, 4, 2, 3, 4, 0, 1, 2, 3, 1, 2, 3, 4, 2, 3, 4, 1, 2, 3, 0, 2, 3, 1, 2, 2, 3, 1, 2, 3, 3, 4, 1, 2, 3, 2, 3, 4, 1, 2, 3, 0, 1, 2, 3, 1, 2, 0, 1, 2, 1, 2, 3, 1, 2, 3, 4, 2, 3, 1, 2, 2, 3, 4, 1, 2, 3, 4, 1, 2, 3, 0, 1, 2, 3, 0, 1, 2, 2, 3, 4, 0, 1, 2, 1, 2, 3, 4, 1, 2, 3, 4, 0, 2, 3, 4, 0, 1, 2, 3, 4, 1, 1, 2, 3, 0, 1, 2, 3, 0, 1, 2, 3, 0, 1, 2, 3, 0, 1, 2, 3, 3, 4, 2, 3, 4, 2, 3, 4, 1, 2, 3, 2, 3, 4, 1, 2, 3, 4, 2, 3, 2, 3, 4, 2, 3, 4, 1, 2, 3, 4, 1, 2, 3, 1, 2, 3, 1, 2, 3, 1, 2, 3, 1, 2, 3, 1, 2, 3, 4, 1, 2, 0, 1, 2, 3, 1, 2, 3, 1, 2, 3, 1, 2, 0, 1, 2, 2, 3, 1, 2, 2, 3, 4, 1, 2, 3, 1, 2, 3, 0, 1, 2, 3, 4, 0, 1, 2, 3, 0, 1, 2, 0, 1, 2, 1, 2, 3, 0, 1, 2, 3, 0, 1, 2, 2, 3, 4, 1, 2, 3, 1, 2, 3, 0, 1, 2, 0, 1, 2, 3, 1, 2, 3, 4, 2, 3, 1, 2, 3, 0, 1, 2, 3, 4, 0, 1, 2, 3, 4, 1, 2, 3, 4, 1, 2, 3, 0, 1, 2, 0, 1, 2, 3, 1, 2, 3, 1, 2, 3, 4, 1, 2, 3, 4, 1, 2, 3, 4, 1, 2, 4, 1, 2, 3, 2, 3, 4, 2, 3, 1, 2, 3, 1, 2, 2, 3, 1, 2, 3, 4, 2, 3, 0, 1, 2, 3, 2, 3, 4, 0, 1, 2, 3, 0, 1, 2, 1, 2, 3, 2, 3, 2, 3, 0, 1, 2, 3, 2, 3, 1, 2, 3, 2, 3, 4, 0, 1, 2, 3, 4, 1, 2, 3, 1, 2, 1, 2, 3, 4, 1, 2, 3, 0, 1, 2, 3, 4, 1, 2, 3, 4, 0, 1, 2, 3, 2, 3, 0, 1, 2, 0, 1, 2, 3, 1, 2, 3, 4, 0, 1, 2, 3, 2, 3, 4, 1, 2, 3, 1, 2, 3, 1, 2, 3, 2, 3, 4, 0, 1, 2, 3, 4, 1, 2, 3, 4, 1, 2, 3, 1, 2, 3, 4, 0, 1, 2, 3, 0, 1, 2, 1, 2, 3, 1, 2, 3, 2, 3, 4, 1, 2, 3, 1, 2, 3, 3, 4, 1, 2, 3, 2, 3, 1, 2, 3, 1, 2, 3, 4, 1, 2, 3, 4, 1, 2, 3, 4, 1, 2, 1, 2, 2, 3, 2, 3, 4, 1, 2, 3, 1, 2, 1, 2, 3, 4, 2, 3, 4, 1, 2, 3, 4, 2, 3, 4, 1, 2, 3, 4, 3, 4, 1, 2, 3, 4, 0, 1, 2, 3, 2, 3, 4, 2, 3, 0, 1, 2, 1, 2, 3, 1, 2, 3, 4, 1, 2, 3, 0, 1, 2, 3, 1, 2, 3, 1, 2, 3, 0, 1, 2, 1, 2, 3, 3, 4, 0, 1, 2, 2, 3, 4, 0, 1, 2, 3, 4, 0, 1, 2, 2, 3, 4, 1, 2, 3, 4, 1, 2, 3, 4, 0, 1, 2, 3, 2, 3, 1, 2, 3, 4, 1, 2, 3, 4, 2, 3, 4, 0, 1, 2, 3, 1, 2, 3, 4, 0, 1, 2, 1, 2, 3, 0, 1, 2, 0, 1, 2, 3, 1, 2, 3, 2, 3, 1, 2, 3, 0, 1, 2, 2, 3, 4, 1, 2, 3, 1, 2, 3, 0, 1, 2, 2, 3, 4, 0, 1, 2, 0, 1, 2, 3, 4, 1, 2, 3, 0, 1, 2, 3, 4, 0, 1, 2, 4, 0, 1, 2, 3, 1, 2, 3, 4, 2, 3, 1, 2, 3, 4, 2, 3, 4, 2, 3, 4, 0, 1, 2, 3, 0, 1, 2, 3, 2, 3, 1, 2, 3, 2, 3, 4, 2, 2, 3, 4, 2, 3, 2, 3, 4, 1, 2, 3, 4, 1, 2, 3, 2, 3, 4, 2, 3, 2, 3, 4, 2, 3, 2, 3, 4, 1, 2, 3, 1, 2, 3, 1, 2, 3, 2, 3, 0, 1, 2, 3, 2, 3, 2, 3, 1, 2, 3, 0, 1, 2, 0, 1, 2, 3, 4, 2, 3, 4, 0, 2, 3, 4, 2, 3, 4, 1, 2, 3, 2, 3, 4, 1, 2, 3, 0, 1, 2, 3, 2, 0, 1, 2, 3, 0, 1, 2, 2, 3, 0, 1, 2, 3, 3, 4, 1, 2, 3, 1, 2, 3, 0, 1, 2, 1, 2, 0, 1, 2, 3, 1, 2, 3, 0, 1, 2, 3, 1, 2, 1, 2, 3, 2, 3, 2, 3, 4, 0, 1, 2, 0, 1, 2, 3, 1, 2, 3, 4, 1, 2, 3, 2, 3, 4, 1, 2, 3, 4, 0, 1, 2, 3, 4, 0, 1, 2, 2, 1, 2, 3, 4, 0, 1, 2, 3, 0, 1, 2, 1, 3, 0, 1, 2, 3, 2, 3, 4, 2, 3, 4, 1, 2, 3, 1, 2, 3, 0, 1, 2, 3, 0, 1, 2, 2, 3, 4, 0, 1, 2, 2, 3, 0, 1, 2, 3, 2, 3, 4, 1, 2, 3, 1, 2, 1, 2, 3, 3, 0, 1, 2, 1, 2, 3, 4, 0, 1, 2, 3, 4, 1, 2, 1, 2, 3, 4, 0, 1, 2, 3, 2, 3, 4, 2, 3, 0, 1, 2, 3, 4, 1, 2, 3, 1, 2, 3, 1, 2, 3, 4, 1, 2, 3, 4, 1, 2, 3, 4, 1, 2, 2, 3, 4, 0, 2, 3, 2, 3, 4, 2, 3, 4, 1, 2, 3, 4, 1, 2, 3, 4, 2, 3, 1, 2, 2, 3, 0, 1, 2, 3, 1, 2, 4, 1, 2, 3, 1, 2, 3, 4, 2, 3, 4, 0, 1, 2, 3, 1, 2, 3, 4, 0, 1, 2, 1, 2, 3, 2, 3, 4, 2, 3, 4, 1, 2, 0, 1, 2, 3, 2, 3, 4, 1, 2, 0, 1, 2, 3, 1, 2, 3, 4, 2, 3, 4, 0, 1, 2, 3, 3, 4, 0, 1, 2, 1, 2, 3, 4, 1, 2, 3, 1, 2, 3, 0, 1, 2, 3, 4, 0, 1, 2, 0, 1, 2, 0, 1, 2, 3, 1, 2, 0, 1, 2, 3, 2, 3, 4, 2, 3, 4, 2, 3, 4, 1, 2, 3, 1, 2, 3, 1, 2, 3, 1, 2, 3, 1, 2, 1, 2, 3, 0, 1, 2, 1, 2, 3, 0, 1, 2, 3, 2, 3, 4, 3, 4, 2, 3, 1, 2, 3, 1, 2, 3, 0, 1, 2, 3, 4, 2, 3, 0, 1, 2, 3, 2, 3, 1, 2, 3, 4, 2, 3, 4, 0, 1, 2, 1, 2, 3, 1, 2, 3, 2, 3, 4, 1, 2, 3, 0, 1, 2, 0, 1, 3, 1, 2, 3, 1, 0, 1, 2, 0, 1, 2, 3, 2, 3, 4, 3, 4, 0, 1, 2, 3, 1, 2, 3, 1, 2, 3, 4, 0, 1, 2, 3, 1, 2, 3, 1, 2, 3, 0, 1, 2, 3, 0, 1, 2, 3, 2, 3, 2, 3, 2, 3, 4, 1, 2, 3, 4, 2, 3, 1, 2, 3, 4, 3, 1, 2, 3, 4, 0, 1, 2, 1, 2, 3, 4, 2, 3, 4, 2, 3, 4, 1, 2, 0, 1, 2, 3, 1, 2, 3, 4, 0, 1, 2, 3, 1, 2, 3, 1, 2, 3, 1, 2, 3, 1, 2, 3, 4, 1, 2, 3, 2, 3, 2, 3, 4, 0, 1, 2, 0, 1, 2, 3, 1, 2, 3, 2, 3, 4, 0, 1, 2, 0, 1, 2, 3, 1, 2, 3, 4, 1, 2, 3, 1, 2, 3, 2, 3, 2, 3, 4, 3, 4, 2, 3, 4, 1, 2, 3, 4, 1, 2, 3, 1, 2, 3, 4, 1, 2, 3, 4, 1, 2, 3, 4, 1, 2, 3, 4, 1, 2, 3, 4, 0, 1, 2, 3, 1, 2, 3, 4, 0, 1, 2, 3, 4, 1, 2, 3, 1, 2, 3, 1, 2, 1, 2, 3, 4, 1, 2, 3, 4, 1, 2, 3, 4, 0, 1, 2, 3, 4, 1, 2, 3, 1, 2, 0, 1, 2, 3, 2, 3, 4, 0, 1, 2, 3, 2, 3, 4, 1, 2, 3, 1, 2, 3, 4, 1, 2, 3, 0, 1, 1, 2, 3, 2, 3, 4, 1, 2, 0, 1, 2, 3, 0, 1, 2, 2, 3, 4, 1, 2, 3, 4, 0, 1, 2, 0, 1, 2, 3, 0, 1, 2, 0, 1, 2, 0, 1, 2, 1, 2, 3, 4, 1, 2, 3, 4, 1, 2, 3, 0, 1, 2, 3, 4, 1, 2, 3, 4, 1, 2, 3, 4, 2, 3, 4, 0, 1, 2, 3, 0, 1, 2, 1, 2, 3, 4, 2, 3, 4, 2, 3, 2, 3, 2, 3, 4, 2, 3, 4, 2, 3, 0, 1, 2, 0, 1, 2, 3, 0, 1, 2, 3, 0, 1, 2, 3, 2, 3, 4, 1, 2, 3, 4, 0, 2, 1, 2, 1, 2, 3, 4, 2, 3, 4, 3, 1, 2, 3, 4, 3, 4, 0, 1, 2, 3, 2, 3, 4, 1, 2, 3, 4, 1, 2, 3, 1, 3, 4, 0, 1, 2, 3, 1, 2, 3, 1, 2, 3, 0, 1, 2, 3, 4, 2, 3, 1, 2, 1, 2, 3, 2, 3, 2, 3, 4, 0, 1, 2, 1, 2, 3, 2, 3, 0, 1, 2, 3, 1, 2, 3, 0, 1, 2, 3, 1, 2, 3, 0, 1, 2, 1, 2, 3, 4, 0, 1, 2, 3, 1, 2, 3, 1, 2, 3, 0, 1, 2, 3, 4, 0, 1, 2, 3, 4, 1, 2, 3, 1, 2, 3, 4, 0, 1, 2, 3, 1, 2, 3, 0, 1, 2, 2, 3, 4, 0, 1, 2, 3, 0, 1, 2, 3, 0, 1, 2, 0, 1, 2, 1, 2, 0, 1, 2, 3, 2, 3, 4, 0, 1, 2, 3, 1, 2, 3, 4, 1, 2, 3, 1, 2, 3, 2, 3, 4, 2, 3, 4, 0, 1, 2, 3, 1, 2, 3, 2, 3, 4, 2, 3, 4, 1, 2, 3, 2, 3, 4, 2, 3, 4, 0, 1, 2, 3, 2, 3, 4, 1, 2, 3, 4, 1, 2, 3, 4, 1, 2, 3, 2, 3, 4, 2, 3, 4, 0, 1, 2, 0, 1, 2, 3, 1, 2, 3, 4, 1, 2, 3, 1, 2, 3, 2, 3, 4, 1, 2, 3, 4, 2, 0, 1, 2, 1, 2, 3, 2, 3, 4, 1, 2, 3, 1, 2, 3, 1, 2, 3, 4, 3, 4, 0, 1, 2, 3, 0, 1, 2, 0, 1, 2, 3, 0, 1, 2, 3, 2, 3, 4, 2, 3, 2, 2, 3, 4, 0, 1, 2, 3, 4, 1, 2, 2, 3, 4, 2, 3, 4, 2, 3, 0, 1, 2, 3, 0, 1, 2, 3, 0, 1, 2, 3, 0, 1, 2, 3, 2, 3, 4, 1, 2, 3, 2, 3, 4, 0, 1, 2, 1, 2, 3, 2, 3, 4, 4, 1, 2, 3, 1, 2, 3, 1, 2, 3, 4, 0, 1, 2, 3, 1, 2, 3, 4, 1, 2, 2, 3, 4, 0, 1, 2, 3, 4, 0, 1, 2, 1, 2, 3, 0, 1, 2, 3, 1, 2, 3, 4, 0, 1, 2, 3, 4, 1, 2, 3, 4, 0, 1, 2, 3, 4, 1, 2, 3, 4, 2, 3, 4, 1, 2, 1, 2, 3, 4, 1, 2, 3, 2, 1, 2, 3, 4, 1, 2, 3, 2, 3, 4, 3, 0, 1, 2, 3, 2, 3, 4, 1, 2, 1, 2, 3, 0, 1, 2, 3, 0, 1, 2, 3, 4, 2, 3, 2, 3, 0, 1, 2, 3, 0, 1, 2, 3, 0, 1, 2, 0, 2, 3, 2, 3, 4, 0, 1, 2, 3, 4, 1, 2, 3, 4, 2, 3, 4, 1, 2, 3, 4, 2, 3, 1, 2, 3, 2, 2, 3, 4, 0, 2, 3, 4, 2, 3, 4, 0, 1, 2, 3, 4, 1, 2, 3, 0, 1, 2, 3, 0, 1, 2, 3, 1, 2, 0, 1, 2, 3, 0, 1, 2, 0, 1, 2, 3, 0, 1, 2, 3, 1, 2, 3, 4, 0, 1, 2, 3, 2, 4, 0, 1, 2, 3, 1, 2, 3, 4, 2, 3, 4, 1, 2, 3, 4, 2, 3, 4, 1, 2, 3, 2, 3, 4, 1, 2, 0, 1, 2, 3, 1, 2, 3, 4, 2, 3, 2, 3, 4, 0, 1, 2, 0, 1, 2, 3, 0, 2, 3, 4, 1, 2, 3, 4, 0, 1, 2, 3, 0, 1, 2, 3, 1, 2, 2, 3, 4, 1, 2, 3, 2, 3, 4, 1, 3, 4, 1, 2, 3, 4, 0, 1, 2, 3, 1, 2, 3, 4, 2, 3, 4, 1, 2, 0, 1, 2, 3, 1, 2, 3, 4, 1, 2, 3, 4, 1, 2, 3, 4, 0, 1, 2, 0, 1, 2, 3, 1, 2, 3, 4, 1, 2, 0, 1, 2, 0, 1, 2, 3, 2, 3, 4, 1, 2, 3, 4, 1, 2, 3, 0, 1, 2, 2, 3, 4, 0, 1, 2, 1, 2, 3, 2, 3, 4, 2, 3, 0, 1, 0, 1, 1, 2, 3, 4, 1, 2, 1, 2, 3, 4, 0, 1, 2, 3, 2, 3, 4, 1, 2, 3, 1, 2, 3, 2, 3, 1, 2, 3, 0, 1, 2, 3, 4, 0, 1, 2, 3, 1, 2, 3, 4, 2, 3, 1, 2, 3, 4, 0, 1, 2, 3, 4, 0, 1, 2, 3, 2, 3, 2, 3, 4, 1, 2, 3, 4, 1, 2, 3, 2, 3, 1, 2, 3, 4, 1, 2, 3, 2, 0, 1, 2, 3, 4, 2, 3, 4, 1, 2, 3, 0, 1, 2, 3, 0, 1, 2, 0, 1, 2, 3, 1, 2, 3, 0, 1, 2, 3, 0, 1, 2, 0, 1, 2, 3, 2, 3, 1, 2, 3, 0, 1, 2, 3, 1, 2, 3, 4, 2, 3, 4, 2, 4, 1, 2, 3, 1, 2, 3, 2, 3, 4, 2, 3, 2, 3, 4, 1, 2, 3, 1, 2, 3, 1, 2, 3, 0, 1, 2, 3, 0, 1, 2, 3, 1, 2, 3, 2, 1, 2, 2, 3, 4, 2, 3, 4, 1, 2, 3, 4, 2, 3, 1, 2, 1, 2, 3, 4, 1, 2, 3, 0, 1, 2, 3, 1, 2, 0, 1, 2, 0, 1, 2, 3, 2, 1, 2, 3, 1, 2, 3, 4, 1, 3, 1, 2, 3, 2, 3, 4, 0, 1, 2, 3, 1, 2, 3, 4, 1, 2, 0, 1, 2, 3, 1, 2, 0, 1, 2, 3, 1, 2, 3, 4, 0, 1, 2, 3, 4, 1, 2, 3, 0, 1, 0, 1, 2, 3, 2, 3, 4, 1, 2, 3, 1, 0, 1, 2, 3, 4, 1, 2, 3, 0, 1, 2, 3, 0, 1, 2, 3, 1, 2, 3, 0, 1, 2, 2, 3, 4, 0, 1, 2, 3, 1, 2, 3, 4, 0, 1, 2, 3, 2, 3, 1, 2, 3, 1, 2, 3, 1, 2, 3, 4, 0, 1, 2, 0, 1, 2, 0, 1, 2, 4, 0, 1, 2, 3, 2, 3, 4, 2, 4, 2, 2, 3, 4, 0, 1, 2, 3, 0, 1, 2, 3, 4, 1, 2, 3, 1, 2, 3, 4, 0, 1, 2, 2, 0, 1, 2, 1, 2, 3, 4, 0, 1, 2, 3, 1, 2, 3, 3, 4, 1, 2, 1, 2, 0, 1, 2, 3, 1, 2, 3, 0, 1, 2, 2, 3, 4, 0, 1, 2, 3, 3, 4, 2, 3, 4, 0, 1, 2, 1, 2, 3, 2, 3, 4, 1, 2, 1, 2, 1, 2, 3, 4, 1, 2, 3, 2, 3, 4, 1, 2, 3, 4, 0, 1, 2, 3, 0, 1, 2, 3, 1, 2, 3, 4, 1, 2, 3, 0, 1, 2, 2, 3, 4, 1, 2, 3, 2, 3, 4, 2, 3, 4, 1, 2, 3, 0, 1, 2, 1, 2, 3, 4, 2, 3, 4, 1, 2, 3, 4, 2, 3, 4, 1, 2, 2, 3, 4, 2, 3, 4, 2, 3, 1, 2, 3, 0, 1, 2, 3, 1, 2, 3, 0, 1, 2, 3, 2, 3, 0, 1, 2, 3, 1, 2, 3, 4, 0, 1, 2, 3, 1, 2, 3, 4, 2, 0, 1, 2, 3, 4, 0, 1, 2, 1, 2, 1, 2, 1, 2, 3, 4, 0, 1, 2, 1, 2, 3, 4, 1, 2, 3, 4, 1, 2, 3, 0, 1, 2, 3, 2, 3, 4, 1, 2, 3, 1, 2, 0, 1, 2, 2, 3, 4, 2, 3, 3, 4, 2, 3, 0, 1, 2, 3, 2, 3, 2, 3, 0, 1, 2, 3, 1, 2, 0, 1, 3, 0, 2, 1, 2, 3, 1, 2, 0, 1, 2, 3, 2, 3, 4, 2, 3, 4, 0, 1, 2, 3, 4, 1, 2, 3, 2, 3, 4, 2, 3, 0, 1, 2, 3, 0, 1, 2, 0, 1, 2, 3, 1, 2, 3, 0, 1, 2, 2, 3, 2, 3, 4, 0, 1, 2, 3, 1, 2, 3, 1, 2, 3, 4, 1, 2, 1, 2, 3, 4, 1, 2, 3, 0, 1, 2, 3, 1, 2, 0, 1, 2, 2, 1, 2, 3, 1, 2, 3, 4, 2, 3, 4, 1, 2, 3, 1, 2, 3, 4, 1, 2, 3, 0, 1, 2, 1, 2, 3, 4, 1, 2, 3, 1, 3, 0, 1, 2, 3, 4, 1, 2, 3, 2, 3, 1, 2, 3, 4, 2, 3, 4, 1, 2, 3, 4, 2, 3, 4, 0, 1, 2, 1, 2, 3, 1, 2, 1, 2, 3, 1, 2, 3, 1, 2, 3, 1, 2, 3, 2, 3, 2, 3, 2, 2, 3, 4, 1, 2, 3, 1, 2, 3, 4, 1, 2, 3, 4, 1, 2, 0, 2, 3, 1, 2, 3, 4, 1, 2, 3, 4, 0, 1, 2, 2, 3, 4, 0, 1, 2, 3, 1, 2, 3, 4, 2, 3, 4, 1, 2, 3, 0, 1, 1, 2, 3, 4, 2, 3, 4, 0, 1, 2, 0, 1, 2, 3, 1, 2, 3, 1, 2, 3, 0, 1, 2, 0, 1, 2, 1, 2, 3, 0, 1, 2, 3, 2, 3, 4, 1, 2, 3, 4, 3, 4, 2, 3, 4, 1, 2, 3, 2, 3, 2, 3, 1, 2, 3, 4, 1, 2, 3, 0, 1, 2, 3, 4, 1, 2, 3, 2, 3, 0, 1, 2, 3, 4, 2, 3, 0, 1, 2, 2, 1, 2, 3, 2, 3, 2, 3, 4, 1, 2, 0, 1, 2, 3, 4, 1, 2, 3, 1, 2, 3, 4, 1, 2, 3, 2, 3, 4, 1, 2, 3, 4, 1, 2, 3, 1, 2, 3, 4, 1, 2, 3, 4, 2, 3, 1, 2, 3, 1, 2, 1, 2, 3, 1, 2, 3, 1, 2, 3, 4, 1, 2, 3, 4, 0, 1, 2, 3, 0, 1, 2, 3, 0, 1, 2, 3, 0, 1, 2, 3, 2, 3, 4, 2, 3, 1, 2, 3, 1, 2, 3, 0, 1, 2, 3, 4, 2, 3, 2, 3, 4, 2, 3, 4, 2, 2, 4, 1, 2, 3, 2, 3, 4, 2, 3, 0, 1, 2, 3, 0, 1, 2, 3, 0, 1, 2, 3, 0, 1, 2, 1, 2, 1, 2, 3, 2, 3, 4, 3, 1, 2, 3, 4, 1, 2, 3, 1, 2, 3, 4, 2, 3, 4, 2, 3, 4, 2, 3, 4, 1, 2, 3, 4, 0, 1, 2, 3, 1, 2, 3, 0, 1, 2, 2, 3, 0, 1, 2, 3, 1, 2, 3, 2, 3, 4, 1, 2, 3, 2, 3, 4, 1, 2, 3, 2, 3, 4, 1, 2, 3, 1, 2, 0, 1, 2, 3, 0, 1, 2, 3, 4, 0, 1, 2, 3, 0, 1, 2, 3, 0, 1, 2, 3, 1, 2, 1, 2, 3, 1, 2, 3, 4, 2, 3, 0, 1, 2, 3, 4, 1, 2, 3, 2, 3, 4, 1, 2, 3, 1, 2, 0, 1, 2, 3, 4, 0, 1, 2, 0, 1, 2, 3, 1, 2, 3, 1, 2, 3, 1, 2, 3, 4, 2, 3, 4, 0, 1, 2, 1, 2, 2, 3, 4, 2, 3, 2, 3, 1, 2, 3, 0, 1, 2, 3, 1, 2, 4, 0, 1, 2, 2, 3, 4, 2, 3, 2, 3, 4, 1, 2, 3, 4, 1, 2, 1, 2, 3, 1, 2, 3, 0, 1, 2, 3, 2, 4, 0, 1, 2, 1, 2, 2, 3, 4, 1, 2, 3, 4, 1, 2, 3, 0, 1, 2, 1, 2, 0, 1, 2, 3, 2, 3, 4, 0, 1, 2, 1, 2, 3, 2, 3, 4, 1, 3, 4, 1, 2, 3, 2, 3, 4, 1, 2, 3, 4, 1, 2, 3, 4, 1, 2, 3, 1, 2, 3, 4, 1, 2, 3, 4, 0, 1, 2, 3, 2, 3, 4, 2, 3, 3, 4, 0, 1, 2, 3, 1, 2, 3, 4, 2, 3, 2, 3, 4, 1, 2, 3, 4, 1, 2, 1, 2, 3, 4, 0, 1, 2, 3, 0, 1, 2, 3, 3, 4, 2, 3, 4, 1, 2, 3, 0, 1, 2, 3, 4, 0, 1, 2, 3, 0, 1, 2, 0, 1, 2, 3, 0, 2, 3, 4, 1, 2, 3, 0, 1, 3, 0, 1, 2, 3, 0, 1, 2, 1, 2, 3, 4, 0, 1, 2, 3, 2, 0, 1, 2, 3, 4, 2, 3, 4, 0, 1, 2, 0, 1, 2, 3, 1, 2, 3, 0, 1, 2, 3, 0, 1, 2, 3, 0, 1, 2, 1, 2, 3, 2, 3, 2, 3, 0, 1, 2, 3, 0, 1, 2, 1, 2, 3, 4, 2, 3, 4, 0, 1, 2, 3, 0, 1, 2, 3, 4, 0, 1, 2, 3, 0, 1, 2, 3, 1, 2, 3, 4, 0, 1, 2, 3, 4, 2, 3, 4, 2, 3, 4, 1, 2, 3, 0, 1, 2, 3, 1, 3, 0, 1, 2, 3, 1, 2, 4, 2, 3, 0, 1, 2, 1, 2, 3, 4, 2, 3, 4, 1, 2, 3, 1, 2, 3, 4, 2, 3, 4, 2, 3, 4, 0, 1, 2, 3, 0, 1, 2, 3, 4, 0, 1, 2, 2, 3, 1, 2, 3, 1, 2, 3, 4, 1, 2, 3, 1, 2, 3, 4, 0, 1, 2, 3, 4, 0, 1, 2, 0, 1, 2, 0, 1, 2, 1, 2, 3, 0, 1, 2, 3, 4, 1, 2, 3, 4, 0, 1, 2, 3, 0, 1, 2, 3, 0, 1, 2, 1, 2, 3, 3, 4, 1, 2, 2, 3, 4, 4, 0, 1, 2, 0, 1, 2, 3, 1, 2, 3, 4, 1, 2, 3, 2, 3, 4, 1, 2, 0, 1, 2, 3, 0, 1, 2, 3, 1, 2, 3, 4, 2, 3, 4, 1, 2, 3, 4, 0, 1, 2, 3, 2, 2, 3, 2, 3, 4, 0, 1, 2, 3, 1, 2, 3, 1, 2, 3, 1, 2, 3, 1, 2, 3, 4, 3, 4, 3, 4, 0, 1, 2, 0, 1, 2, 3, 4, 1, 2, 3, 1, 2, 3, 4, 2, 3, 1, 2, 3, 4, 0, 1, 2, 1, 2, 3, 4, 1, 2, 3, 0, 1, 2, 3, 3, 4, 2, 3, 0, 1, 2, 3, 0, 1, 2, 3, 2, 3, 4, 2, 3, 4, 1, 2, 2, 3, 1, 2, 3, 2, 3, 4, 0, 1, 2, 3, 2, 3, 2, 3, 4, 1, 2, 3, 4, 0, 2, 3, 1, 2, 1, 2, 3, 0, 1, 2, 3, 4, 2, 3, 4, 0, 2, 3, 1, 1, 2, 3, 1, 2, 3, 4, 0, 1, 2, 2, 1, 2, 2, 3, 2, 0, 1, 2, 3, 1, 2, 3, 4, 1, 2, 2, 3, 4, 0, 1, 2, 0, 1, 2, 0, 1, 2, 3, 1, 2, 3, 0, 1, 2, 3, 0, 1, 2, 3, 1, 2, 0, 1, 2, 2, 3, 4, 2, 1, 2, 3, 2, 3, 4, 0, 1, 2, 1, 2, 3, 0, 1, 2, 3, 0, 1, 2, 3, 0, 1, 2, 1, 2, 3, 4, 0, 1, 2, 3, 0, 1, 2, 3, 2, 3, 4, 0, 1, 2, 3, 4, 1, 2, 1, 2, 3, 0, 1, 2, 2, 3, 4, 0, 2, 3, 1, 2, 3, 2, 3, 4, 0, 1, 2, 3, 0, 1, 2, 3, 2, 3, 2, 3, 4, 1, 2, 0, 0, 1, 2, 3, 0, 1, 2, 3, 0, 2, 3, 4, 1, 2, 0, 1, 2, 3, 1, 2, 3, 4, 1, 2, 3, 4, 1, 2, 3, 1, 2, 3, 4, 2, 3, 4, 0, 1, 2, 0, 1, 2, 3, 4, 1, 2, 1, 2, 3, 4, 2, 3, 4, 0, 1, 2, 1, 2, 3, 1, 2, 3, 0, 1, 2, 1, 2, 3, 1, 2, 3, 2, 3, 4, 1, 2, 3, 0, 1, 2, 3, 2, 3, 1, 2, 3, 1, 2, 3, 2, 3, 4, 1, 2, 3, 4, 1, 2, 3, 3, 4, 2, 3, 2, 3, 1, 2, 3, 4, 2, 3, 4, 2, 3, 4, 3, 2, 3, 1, 2, 3, 2, 3, 0, 1, 2, 1, 2, 3, 4, 2, 3, 1, 2, 3, 4, 2, 3, 2, 3, 1, 2, 3, 1, 2, 3, 1, 2, 3, 4, 2, 3, 4, 0, 1, 1, 2, 3, 4, 0, 1, 2, 3, 0, 1, 2, 3, 0, 2, 1, 2, 3, 1, 2, 3, 1, 2, 3, 4, 1, 3, 0, 1, 2, 3, 0, 1, 2, 3, 1, 3, 4, 0, 1, 2, 3, 1, 2, 3, 4, 0, 1, 2, 2, 3, 2, 3, 0, 1, 2, 3, 0, 1, 2, 1, 2, 3, 0, 1, 2, 3, 4, 1, 2, 1, 2, 3, 1, 2, 2, 3, 2, 3, 4, 1, 2, 2, 3, 4, 1, 2, 0, 1, 2, 3, 1, 2, 3, 2, 3, 4, 1, 2, 3, 0, 1, 2, 1, 2, 3, 4, 2, 3, 4, 1, 2, 2, 3, 4, 1, 2, 3, 0, 1, 2, 1, 2, 3, 4, 1, 2, 3, 1, 2, 3, 2, 3, 4, 2, 3, 4, 1, 2, 3, 4, 1, 2, 3, 4, 0, 1, 2, 3, 1, 2, 3, 2, 3, 4, 1, 2, 3, 4, 1, 2, 3, 2, 3, 1, 2, 3, 1, 2, 3, 1, 2, 3, 2, 3, 4, 1, 2, 3, 2, 1, 2, 3, 4, 2, 4, 1, 2, 1, 2, 3, 1, 2, 3, 0, 1, 2, 3, 1, 2, 3, 4, 1, 2, 3, 0, 1, 2, 1, 2, 3, 0, 1, 2, 3, 0, 1, 2, 3, 4, 2, 3, 1, 2, 1, 2, 3, 0, 1, 2, 1, 2, 2, 3, 4, 2, 3, 1, 2, 3, 1, 2, 3, 1, 2, 3, 1, 2, 3, 0, 2, 3, 4, 1, 2, 1, 2, 3, 4, 0, 1, 2, 1, 2, 3, 3, 4, 0, 1, 2, 3, 0, 1, 2, 3, 2, 3, 4, 1, 2, 3, 4, 2, 3, 4, 0, 1, 2, 3, 1, 2, 3, 4, 1, 2, 2, 2, 3, 1, 2, 3, 0, 1, 2, 2, 3, 4, 1, 2, 3, 4, 0, 1, 2, 3, 1, 2, 3, 4, 2, 3, 4, 2, 3, 0, 1, 2, 2, 3, 1, 2, 3, 1, 2, 3, 4, 1, 2, 3, 4, 1, 2, 1, 2, 0, 1, 2, 3, 4, 1, 2, 3, 2, 3, 4, 4, 1, 2, 1, 2, 3, 4, 0, 1, 2, 3, 4, 0, 1, 2, 3, 2, 3, 4, 0, 1, 2, 1, 2, 3, 0, 1, 1, 2, 0, 1, 1, 2, 3, 4, 1, 2, 3, 1, 2, 3, 4, 2, 4, 0, 1, 1, 2, 1, 2, 3, 0, 1, 2, 3, 0, 1, 2, 3, 2, 3, 4, 0, 1, 2, 3, 2, 3, 2, 3, 2, 2, 3, 1, 2, 3, 2, 3, 4, 0, 1, 2, 3, 2, 3, 4, 1, 2, 0, 1, 2, 2, 4, 2, 3, 4, 0, 1, 2, 3, 2, 3, 4, 2, 3, 4, 0, 1, 2, 3, 1, 2, 3, 1, 2, 3, 0, 1, 2, 3, 4, 1, 2, 3, 4, 1, 2, 3, 1, 2, 3, 1, 2, 3, 0, 1, 2, 3, 1, 2, 3, 4, 2, 3, 0, 1, 2, 3, 1, 2, 3, 4, 1, 2, 3, 4, 2, 3, 4, 1, 2, 3, 1, 2, 3, 4, 0, 1, 2, 3, 2, 3, 4, 2, 3, 1, 2, 3, 2, 3, 4, 0, 1, 2, 3, 2, 3, 4, 2, 3, 0, 1, 2, 3, 2, 3, 1, 2, 3, 2, 3, 4, 0, 1, 2, 3, 0, 1, 2, 3, 0, 1, 2, 3, 4, 2, 3, 4, 0, 1, 2, 1, 2, 3, 4, 2, 3, 1, 2, 3, 2, 3, 4, 1, 2, 3, 1, 2, 3, 4, 1, 2, 3, 1, 2, 3, 0, 1, 2, 2, 3, 4, 1, 2, 3, 4, 2, 3, 2, 3, 4, 0, 1, 2, 3, 1, 2, 3, 4, 1, 2, 3, 4, 1, 2, 3, 4, 2, 3, 4, 2, 3, 1, 2, 3, 4, 1, 2, 3, 4, 1, 2, 3, 0, 1, 2, 3, 4, 2, 3, 4, 0, 1, 2, 3, 2, 3, 4, 0, 1, 2, 1, 2, 2, 3, 1, 2, 3, 0, 1, 2, 0, 1, 2, 3, 1, 2, 3, 1, 2, 3, 1, 2, 2, 3, 2, 3, 4, 2, 3, 4, 0, 1, 2, 3, 2, 3, 1, 2, 3, 0, 1, 2, 3, 0, 1, 2, 3, 2, 3, 1, 2, 3, 4, 1, 2, 3, 1, 2, 3, 0, 1, 2, 3, 4, 0, 1, 2, 1, 2, 3, 1, 2, 2, 3, 4, 1, 2, 3, 4, 0, 1, 2, 3, 1, 2, 3, 0, 1, 2, 0, 1, 2, 3, 4, 1, 2, 3, 2, 3, 4, 0, 1, 2, 3, 4, 0, 1, 2, 3, 1, 2, 3, 4, 1, 2, 3, 2, 3, 4, 1, 2, 2, 3, 1, 2, 3, 4, 0, 1, 2, 3, 2, 3, 4, 0, 1, 2, 3, 4, 0, 1, 2, 3, 3, 4, 2, 3, 4, 0, 1, 2, 1, 2, 3, 2, 3, 4, 1, 2, 3, 0, 1, 2, 2, 3, 4, 1, 2, 3, 2, 3, 1, 2, 3, 1, 2, 3, 4, 2, 3, 0, 1, 2, 2, 3, 4, 2, 2, 3, 4, 2, 3, 4, 0, 1, 2, 3, 0, 1, 2, 3, 0, 1, 2, 1, 2, 1, 2, 3, 1, 2, 3, 3, 1, 2, 3, 4, 1, 2, 0, 1, 2, 3, 2, 3, 4, 1, 2, 3, 2, 3, 1, 2, 3, 4, 1, 2, 3, 1, 2, 1, 2, 1, 2, 3, 2, 3, 4, 1, 2, 3, 4, 1, 2, 3, 2, 3, 0, 2, 1, 2, 3, 4, 2, 3, 0, 1, 2, 3, 1, 2, 3, 1, 2, 4, 1, 2, 3, 1, 2, 3, 1, 2, 3, 4, 0, 1, 2, 1, 2, 3, 4, 1, 2, 3, 4, 2, 3, 1, 2, 1, 2, 3, 1, 2, 3, 0, 1, 2, 2, 1, 2, 3, 0, 1, 2, 3, 4, 1, 2, 3, 1, 2, 3, 4, 0, 2, 3, 0, 1, 2, 3, 4, 0, 1, 2, 0, 1, 2, 3, 2, 3, 4, 2, 3, 2, 4, 0, 1, 2, 3, 2, 3, 4, 1, 2, 3, 0, 1, 2, 0, 1, 2, 3, 1, 2, 2, 3, 4, 2, 3, 4, 1, 2, 0, 1, 2, 3, 2, 3, 4, 0, 1, 2, 1, 2, 3, 0, 1, 2, 3, 0, 1, 2, 3, 0, 1, 2, 3, 4, 0, 1, 2, 1, 2, 3, 4, 1, 2, 3, 2, 3, 4, 0, 1, 2, 3, 4, 2, 3, 1, 2, 2, 3, 0, 2, 1, 2, 3, 4, 2, 3, 4, 0, 1, 2, 3, 0, 1, 2, 3, 1, 2, 3, 2, 3, 4, 0, 1, 2, 3, 1, 1, 2, 3, 1, 2, 3, 0, 1, 2, 0, 1, 2, 3, 4, 1, 2, 3, 2, 3, 2, 3, 1, 2, 0, 1, 2, 3, 4, 0, 1, 2, 2, 0, 1, 2, 3, 0, 1, 2, 2, 3, 4, 0, 1, 2, 2, 3, 4, 0, 1, 2, 3, 1, 2, 3, 0, 1, 2, 1, 2, 3, 4, 1, 2, 4, 0, 1, 2, 2, 3, 2, 1, 2, 3, 1, 2, 1, 2, 3, 1, 2, 1, 2, 1, 2, 3, 1, 2, 3, 0, 1, 2, 3, 1, 2, 3, 4, 2, 3, 1, 2, 3, 1, 2, 3, 4, 2, 3, 4, 2, 3, 4, 0, 1, 2, 0, 1, 2, 3, 4, 0, 1, 2, 3, 0, 1, 2, 0, 1, 2, 3, 0, 1, 2, 3, 2, 3, 4, 2, 3, 4, 0, 1, 2, 3, 1, 2, 3, 2, 1, 2, 3, 1, 2, 3, 4, 2, 3, 4, 2, 3, 2, 3, 0, 1, 2, 3, 0, 1, 2, 3, 1, 2, 0, 1, 2, 3, 1, 2, 3, 4, 2, 3, 4, 2, 3, 2, 1, 2, 3, 1, 2, 3, 4, 2, 3, 2, 3, 4, 1, 2, 0, 1, 2, 1, 2, 3, 0, 1, 2, 3, 4, 1, 2, 3, 0, 1, 2, 3, 4, 1, 2, 3, 0, 1, 2, 3, 0, 1, 2, 3, 4, 2, 3, 0, 1, 2, 3, 4, 1, 2, 3, 4, 1, 1, 2, 3, 4, 1, 2, 3, 4, 1, 2, 3, 0, 1, 2, 0, 1, 2, 0, 1, 2, 3, 2, 3, 4, 3, 4, 2, 4, 0, 1, 2, 3, 2, 3, 4, 1, 2, 1, 2, 3, 0, 1, 2, 3, 2, 3, 4, 1, 2, 3, 0, 1, 2, 3, 4, 1, 2, 3, 0, 1, 2, 3, 4, 1, 2, 3, 4, 1, 2, 1, 2, 3, 1, 2, 3, 4, 1, 2, 3, 2, 3, 0, 1, 2, 3, 1, 2, 3, 2, 3, 4, 2, 3, 4, 2, 0, 1, 2, 3, 2, 3, 4, 1, 2, 3, 2, 3, 4, 1, 2, 1, 2, 1, 2, 3, 4, 0, 1, 2, 0, 1, 2, 0, 1, 2, 1, 2, 3, 2, 3, 2, 0, 1, 2, 3, 1, 2, 3, 4, 2, 3, 1, 2, 0, 1, 2, 2, 2, 3, 4, 1, 2, 3, 4, 1, 2, 3, 4, 1, 2, 3, 4, 0, 1, 2, 2, 3, 4, 1, 2, 3, 4, 0, 1, 2, 3, 0, 1, 2, 3, 4, 1, 2, 3, 0, 1, 2, 3, 0, 1, 2, 3, 2, 3, 4, 1, 2, 3, 4, 1, 2, 3, 4, 1, 2, 3, 2, 3, 4, 1, 2, 3, 4, 0, 1, 2, 3, 0, 1, 2, 3, 0, 1, 2, 3, 0, 1, 2, 3, 4, 1, 2, 0, 1, 2, 3, 2, 3, 4, 2, 3, 4, 0, 1, 2, 3, 4, 1, 2, 3, 4, 0, 2, 1, 2, 2, 3, 4, 0, 1, 2, 1, 2, 3, 4, 2, 3, 4, 1, 2, 3, 2, 3, 4, 0, 1, 2, 3, 0, 1, 0, 1, 2, 3, 1, 2, 3, 0, 1, 2, 3, 0, 1, 2, 3, 4, 1, 2, 3, 4, 2, 3, 4, 1, 2, 3, 4, 2, 3, 1, 2, 1, 2, 3, 4, 1, 2, 3, 2, 3, 0, 1, 2, 3, 4, 1, 2, 3, 1, 2, 3, 4, 2, 3, 4, 1, 2, 3, 4, 0, 1, 2, 0, 1, 2, 2, 3, 4, 2, 3, 4, 1, 2, 3, 4, 0, 1, 2, 1, 2, 3, 4, 0, 1, 2, 1, 2, 3, 1, 2, 3, 0, 1, 2, 3, 1, 2, 3, 2, 3, 1, 2, 3, 0, 1, 2, 3, 0, 2, 3, 0, 1, 2, 3, 1, 2, 3, 0, 1, 2, 1, 2, 2, 3, 4, 0, 1, 2, 3, 4, 0, 1, 2, 1, 2, 3, 4, 2, 3, 4, 0, 1, 2, 4, 1, 2, 3, 2, 3, 4, 2, 3, 1, 2, 3, 4, 1, 2, 3, 0, 2, 3, 4, 1, 2, 3, 4, 0, 1, 2, 3, 4, 1, 2, 3, 4, 3, 4, 0, 1, 2, 3, 1, 2, 3, 0, 1, 2, 2, 3, 1, 2, 3, 1, 2, 3, 4, 2, 3, 4, 2, 3, 4, 2, 3, 4, 2, 3, 4, 2, 3, 2, 0, 1, 2, 1, 2, 3, 4, 0, 1, 2, 3, 0, 1, 2, 3, 1, 2, 0, 1, 2, 3, 0, 1, 2, 1, 2, 3, 0, 1, 2, 3, 0, 1, 2, 3, 4, 0, 1, 2, 3, 4, 1, 2, 3, 1, 2, 3, 4, 0, 1, 2, 3, 0, 1, 2, 3, 2, 3, 4, 1, 2, 3, 4, 1, 2, 1, 2, 3, 4, 1, 2, 1, 3, 4, 2, 3, 1, 2, 3, 1, 2, 3, 0, 1, 2, 3, 4, 0, 1, 2, 3, 0, 1, 2, 3, 4, 1, 2, 3, 4, 1, 2, 3, 4, 1, 2, 3, 4, 1, 2, 3, 4, 2, 3, 4, 0, 1, 2, 3, 2, 3, 4, 0, 1, 2, 3, 1, 2, 3, 3, 1, 1, 2, 3, 2, 3, 4, 1, 2, 3, 1, 2, 3, 4, 2, 3, 4, 1, 2, 3, 4, 2, 3, 4, 0, 1, 2, 3, 0, 1, 2, 3, 4, 2, 3, 4, 2, 3, 1, 2, 3, 1, 2, 3, 4, 2, 3, 4, 1, 2, 3, 2, 3, 1, 2, 3, 4, 1, 2, 3, 1, 2, 3, 4, 1, 2, 3, 0, 1, 2, 3, 0, 1, 2, 3, 1, 2, 3, 4, 1, 2, 2, 3, 4, 1, 2, 3, 4, 2, 2, 3, 4, 1, 2, 3, 4, 0, 1, 2, 3, 1, 2, 3, 4, 1, 2, 0, 1, 2, 1, 2, 3, 4, 1, 2, 3, 1, 2, 3, 1, 2, 1, 2, 0, 1, 2, 3, 1, 2, 3, 2, 3, 4, 2, 3, 1, 2, 3, 2, 4, 2, 3, 1, 2, 1, 2, 2, 3, 1, 2, 3, 4, 0, 1, 2, 0, 1, 2, 0, 1, 2, 1, 2, 3, 0, 1, 2, 3, 4, 1, 2, 3, 0, 1, 2, 3, 4, 1, 2, 3, 4, 2, 3, 2, 3, 4, 0, 1, 2, 3, 1, 2, 3, 2, 3, 4, 2, 3, 4, 0, 1, 2, 3, 1, 2, 3, 0, 1, 2, 0, 1, 2, 3, 4, 0, 1, 2, 3, 1, 2, 3, 3, 4, 2, 3, 4, 1, 2, 3, 1, 2, 3, 4, 1, 2, 0, 1, 2, 3, 4, 0, 1, 2, 3, 1, 3, 4, 0, 1, 2, 0, 1, 2, 0, 1, 2, 3, 0, 1, 2, 3, 4, 0, 1, 1, 2, 3, 4, 2, 3, 4, 2, 3, 4, 2, 3, 4, 0, 1, 2, 3, 0, 1, 2, 1, 2, 3, 1, 2, 3, 0, 1, 2, 3, 4, 1, 2, 3, 0, 1, 2, 2, 3, 4, 2, 3, 4, 3, 4, 0, 1, 2, 3, 4, 1, 2, 3, 4, 2, 3, 4, 1, 2, 3, 4, 2, 3, 4, 1, 2, 3, 1, 2, 3, 4, 1, 2, 3, 4, 2, 3, 4, 0, 1, 2, 3, 2, 3, 0, 1, 2, 3, 4, 1, 2, 3, 4, 0, 1, 2, 3, 4, 1, 2, 3, 4, 0, 1, 2, 3, 2, 3, 1, 2, 3, 4, 1, 2, 3, 4, 1, 2, 3, 3, 4, 0, 1, 2, 3, 2, 3, 4, 2, 3, 4, 1, 2, 3, 4, 1, 2, 3, 1, 2, 3, 1, 2, 1, 2, 3, 1, 2, 3, 1, 2, 3, 4, 1, 2, 3, 1, 2, 3, 4, 2, 3, 2, 4, 1, 2, 3, 4, 2, 3, 4, 1, 2, 3, 1, 2, 1, 2, 3, 0, 1, 2, 1, 2, 2, 3, 4, 2, 3, 2, 3, 4, 2, 3, 1, 2, 3, 2, 3, 4, 0, 1, 2, 3, 1, 2, 3, 1, 2, 3, 4, 0, 1, 2, 3, 4, 0, 1, 2, 3, 0, 1, 2, 3, 0, 1, 2, 3, 1, 2, 3, 0, 1, 2, 3, 0, 1, 2, 3, 4, 0, 1, 2, 0, 1, 2, 0, 1, 2, 3, 0, 1, 2, 1, 2, 3, 4, 0, 1, 2, 3, 2, 3, 4, 0, 1, 2, 0, 1, 2, 3, 3, 4, 1, 2, 3, 1, 2, 3, 1, 2, 3, 4, 1, 2, 2, 3, 4, 2, 3, 4, 2, 3, 4, 1, 2, 3, 4, 2, 3, 0, 1, 2, 3, 1, 2, 3, 1, 2, 3, 4, 0, 1, 2, 3, 1, 2, 3, 4, 2, 3, 4, 1, 2, 3, 2, 3, 4, 1, 2, 3, 1, 2, 3, 0, 1, 2, 3, 4, 0, 1, 2, 4, 1, 2, 3, 4, 1, 2, 3, 2, 3, 4, 2, 3, 1, 2, 0, 1, 2, 1, 2, 3, 1, 2, 1, 2, 3, 4, 3, 4, 1, 2, 3, 0, 1, 2, 3, 1, 2, 3, 4, 0, 1, 2, 3, 0, 1, 2, 3, 4, 0, 1, 2, 3, 0, 1, 2, 0, 1, 2, 3, 1, 2, 3, 2, 3, 4, 1, 2, 1, 2, 3, 0, 1, 2, 3, 1, 2, 3, 0, 1, 2, 0, 1, 2, 3, 1, 2, 1, 2, 3, 4, 1, 2, 3, 4, 0, 1, 2, 3, 2, 3, 4, 0, 1, 2, 0, 1, 2, 3, 1, 2, 3, 4, 2, 3, 0, 1, 2, 3, 1, 2, 3, 0, 1, 2, 3, 2, 3, 1, 2, 3, 0, 0, 1, 2, 3, 2, 3, 2, 3, 4, 2, 3, 1, 2, 0, 1, 2, 3, 0, 1, 2, 3, 0, 1, 2, 0, 1, 2, 1, 2, 3, 4, 0, 1, 2, 3, 2, 0, 1, 2, 3, 0, 1, 2, 0, 1, 2, 3, 0, 1, 2, 3, 1, 2, 3, 1, 2, 0, 1, 2, 3, 0, 1, 3, 1, 2, 2, 3, 4, 0, 1, 2, 2, 3, 4, 0, 1, 2, 3, 3, 4, 2, 3, 0, 1, 2, 3, 1, 2, 3, 4, 2, 3, 4, 2, 3, 0, 1, 2, 3, 2, 3, 4, 0, 1, 2, 1, 2, 3, 2, 3, 2, 3, 4, 2, 3, 4, 1, 2, 3, 4, 1, 2, 3, 1, 2, 3, 2, 3, 4, 0, 1, 2, 3, 4, 1, 2, 3, 0, 1, 2, 3, 1, 2, 3, 1, 2, 3, 0, 1, 2, 2, 3, 4, 1, 2, 1, 2, 1, 2, 3, 2, 3, 4, 1, 2, 3, 0, 1, 2, 3, 0, 2, 2, 2, 3, 4, 2, 3, 4, 2, 3, 4, 0, 2, 3, 0, 1, 2, 3, 2, 3, 0, 1, 2, 3, 2, 3, 0, 1, 2, 3, 0, 1, 2, 1, 2, 3, 4, 0, 1, 2, 3, 0, 1, 2, 3, 0, 1, 2, 1, 2, 0, 1, 2, 3, 0, 1, 2, 3, 0, 1, 2, 1, 2, 3, 2, 3, 4, 0, 1, 2, 3, 4, 1, 2, 3, 0, 1, 2, 1, 2, 3, 4, 1, 2, 3, 4, 1, 2, 3, 0, 2, 1, 2, 3, 3, 4, 1, 2, 3, 4, 1, 2, 3, 4, 1, 2, 3, 4, 1, 2, 3, 0, 1, 2, 0, 1, 2, 2, 3, 4, 1, 2, 3, 1, 2, 3, 0, 1, 2, 3, 0, 1, 2, 3, 0, 1, 2, 3, 0, 1, 2, 3, 4, 1, 2, 1, 2, 3, 4, 0, 1, 2, 3, 1, 2, 3, 0, 1, 2, 3, 4, 2, 3, 4, 0, 1, 2, 3, 4, 1, 2, 3, 2, 1, 2, 3, 1, 2, 3, 0, 1, 2, 3, 2, 3, 1, 2, 3, 2, 0, 1, 2, 3, 2, 3, 1, 2, 3, 2, 3, 4, 1, 2, 3, 0, 2, 3, 2, 3, 4, 3, 4, 1, 2, 3, 4, 0, 1, 2, 3, 4, 2, 3, 4, 0, 1, 2, 4, 1, 2, 1, 2, 3, 1, 2, 1, 2, 3, 1, 2, 3, 1, 2, 3, 1, 2, 3, 4, 1, 2, 0, 1, 2, 3, 2, 3, 4, 2, 3, 4, 0, 1, 2, 0, 1, 2, 0, 1, 2, 3, 1, 2, 3, 4, 2, 3, 1, 2, 3, 0, 1, 2, 1, 2, 3, 4, 0, 1, 2, 1, 2, 1, 2, 1, 2, 3, 0, 1, 2, 2, 3, 4, 1, 2, 3, 1, 2, 1, 2, 3, 4, 0, 1, 2, 3, 4, 1, 2, 3, 1, 2, 3, 2, 3, 1, 2, 3, 4, 1, 2, 1, 2, 3, 1, 2, 3, 1, 2, 3, 2, 3, 4, 2, 3, 4, 1, 2, 0, 1, 2, 2, 3, 4, 1, 2, 3, 1, 2, 3, 2, 3, 4, 1, 2, 3, 1, 2, 3, 4, 3, 4, 1, 3, 2, 3, 2, 3, 0, 1, 2, 3, 4, 1, 2, 3, 1, 2, 3, 4, 1, 2, 0, 1, 2, 3, 4, 1, 2, 3, 0, 1, 2, 3, 0, 1, 2, 3, 4, 1, 3, 4, 1, 2, 1, 2, 3, 1, 2, 3, 0, 1, 2, 3, 1, 2, 3, 4, 2, 3, 4, 2, 3, 0, 1, 2, 1, 2, 3, 2, 3, 4, 2, 3, 4, 0, 1, 2, 3, 2, 3, 4, 2, 1, 2, 3, 1, 2, 3, 4, 0, 1, 2, 3, 0, 1, 2, 3, 1, 2, 3, 2, 3, 4, 1, 2, 1, 2, 2, 3, 4, 2, 3, 0, 1, 0, 1, 2, 3, 2, 3, 4, 1, 2, 3, 2, 3, 4, 2, 3, 4, 1, 2, 3, 2, 3, 4, 2, 0, 1, 2, 3, 1, 2, 3, 4, 1, 2, 3, 4, 1, 2, 3, 1, 2, 3, 2, 3, 2, 3, 1, 2, 3, 1, 2, 3, 4, 0, 1, 2, 3, 2, 3, 4, 1, 2, 0, 1, 2, 3, 1, 2, 3, 2, 3, 4, 0, 1, 2, 3, 0, 1, 2, 2, 3, 1, 2, 3, 0, 1, 2, 3, 2, 3, 0, 1, 2, 3, 1, 2, 0, 1, 2, 3, 4, 0, 1, 2, 3, 2, 3, 0, 0, 1, 2, 1, 2, 3, 1, 3, 1, 2, 3, 1, 2, 3, 1, 2, 3, 2, 3, 1, 2, 3, 4, 2, 3, 0, 1, 2, 0, 1, 2, 3, 4, 1, 2, 3, 4, 0, 1, 2, 3, 1, 2, 3, 1, 2, 0, 1, 2, 3, 4, 0, 1, 2, 3, 0, 1, 2, 3, 2, 1, 2, 3, 4, 1, 2, 3, 4, 0, 1, 2, 3, 0, 1, 2, 1, 2, 2, 3, 4, 2, 3, 1, 2, 3, 4, 2, 3, 0, 1, 2, 3, 2, 3, 4, 0, 1, 2, 2, 3, 1, 2, 3, 2, 3, 4, 0, 1, 2, 3, 4, 2, 3, 2, 3, 4, 0, 1, 2, 3, 4, 2, 3, 4, 0, 1, 2, 1, 2, 3, 4, 2, 3, 4, 1, 2, 3, 4, 2, 3, 4, 1, 2, 3, 1, 2, 3, 4, 2, 0, 2, 3, 1, 2, 3, 1, 2, 3, 1, 2, 3, 4, 1, 2, 3, 1, 2, 3, 1, 2, 3, 1, 2, 3, 4, 2, 3, 4, 0, 1, 2, 3, 1, 2, 2, 3, 2, 3, 2, 3, 4, 1, 2, 1, 2, 3, 1, 2, 3, 4, 2, 3, 4, 0, 1, 0, 1, 2, 3, 4, 0, 1, 2, 2, 3, 4, 1, 2, 3, 2, 3, 1, 2, 3, 4, 1, 2, 3, 4, 2, 3, 4, 0, 1, 2, 0, 1, 2, 3, 4, 0, 1, 2, 3, 1, 2, 1, 2, 3, 2, 3, 4, 0, 1, 2, 3, 1, 2, 3, 1, 2, 3, 4, 2, 3, 1, 2, 3, 2, 3, 4, 0, 1, 2, 2, 3, 4, 1, 2, 3, 1, 2, 3, 0, 1, 2, 3, 2, 3, 4, 1, 2, 3, 4, 2, 3, 0, 1, 2, 1, 2, 3, 1, 2, 3, 4, 0, 1, 2, 3, 0, 1, 2, 2, 3, 4, 1, 2, 3, 4, 1, 2, 3, 4, 2, 3, 0, 1, 2, 0, 1, 2, 3, 3, 4, 1, 2, 3, 1, 2, 1, 2, 1, 2, 3, 4, 0, 1, 2, 3, 1, 2, 3, 4, 2, 3, 4, 0, 1, 2, 3, 2, 2, 3, 4, 2, 3, 4, 1, 2, 3, 4, 0, 1, 2, 3, 2, 3, 4, 2, 3, 1, 2, 3, 2, 3, 2, 3, 4, 1, 2, 3, 4, 1, 2, 3, 2, 3, 4, 2, 3, 4, 0, 1, 2, 3, 4, 1, 2, 3, 2, 3, 1, 2, 0, 1, 2, 3, 4, 2, 3, 4, 0, 1, 2, 3, 1, 2, 3, 2, 3, 4, 1, 2, 3, 4, 0, 1, 2, 3, 0, 1, 2, 3, 1, 2, 3, 4, 0, 1, 2, 3, 0, 1, 2, 3, 4, 1, 2, 3, 2, 3, 4, 3, 4, 2, 3, 4, 0, 1, 2, 3, 4, 2, 3, 1, 2, 3, 1, 2, 0, 1, 2, 3, 1, 2, 3, 2, 3, 1, 2, 3, 1, 2, 3, 4, 0, 1, 2, 3, 4, 0, 1, 2, 1, 2, 3, 0, 1, 2, 3, 4, 2, 3, 4, 1, 2, 3, 4, 1, 2, 0, 1, 2, 3, 1, 2, 3, 4, 1, 2, 3, 4, 1, 2, 3, 4, 0, 1, 2, 2, 3, 0, 1, 2, 3, 4, 3, 4, 1, 2, 0, 1, 2, 2, 3, 4, 0, 1, 2, 3, 1, 2, 3, 0, 1, 2, 3, 1, 2, 3, 4, 0, 1, 0, 1, 2, 3, 1, 2, 2, 3, 4, 0, 1, 2, 1, 2, 0, 1, 2, 1, 2, 1, 2, 3, 1, 2, 3, 4, 1, 2, 3, 2, 3, 0, 1, 2, 3, 1, 2, 2, 3, 4, 2, 3, 4, 0, 1, 2, 3, 4, 1, 2, 3, 1, 2, 3, 3, 4, 1, 2, 3, 0, 1, 2, 3, 4, 1, 2, 2, 3, 4, 1, 2, 3, 4, 2, 3, 2, 3, 4, 0, 1, 2, 3, 0, 1, 2, 3, 0, 1, 2, 3, 0, 1, 2, 3, 1, 2, 3, 4, 2, 3, 4, 0, 1, 2, 2, 3, 0, 1, 2, 0, 1, 2, 1, 2, 1, 2, 3, 4, 0, 1, 2, 3, 4, 1, 2, 3, 4, 1, 2, 3, 2, 3, 4, 0, 1, 2, 3, 4, 3, 4, 1, 2, 3, 4, 0, 1, 2, 1, 2, 3, 4, 0, 1, 2, 2, 3, 4, 1, 2, 2, 3, 0, 1, 2, 1, 2, 2, 3, 4, 0, 1, 2, 3, 1, 2, 2, 3, 0, 1, 0, 1, 2, 3, 0, 1, 2, 0, 1, 2, 0, 1, 2, 3, 1, 2, 3, 0, 1, 2, 3, 0, 1, 2, 3, 0, 1, 2, 3, 2, 3, 1, 2, 3, 4, 0, 1, 2, 3, 0, 1, 2, 1, 2, 3, 1, 2, 3, 0, 1, 2, 1, 2, 3, 0, 1, 2, 3, 4, 2, 3, 4, 2, 3, 4, 1, 2, 3, 4, 3, 2, 3, 0, 1, 2, 3, 4, 0, 1, 2, 3, 1, 2, 2, 3, 0, 1, 2, 3, 2, 3, 4, 1, 2, 3, 0, 1, 2, 3, 4, 0, 1, 2, 3, 4, 2, 3, 0, 1, 2, 3, 0, 1, 2, 3, 1, 2, 3, 1, 2, 3, 4, 1, 2, 3, 4, 1, 2, 0, 1, 2, 3, 4, 2, 3, 4, 2, 3, 4, 1, 2, 0, 1, 2, 2, 3, 4, 0, 1, 2, 3, 0, 1, 2, 1, 2, 1, 2, 1, 2, 3, 1, 2, 3, 4, 1, 2, 3, 4, 1, 2, 3, 4, 0, 1, 2, 0, 1, 2, 1, 2, 3, 4, 2, 3, 4, 2, 3, 2, 3, 4, 1, 2, 0, 1, 2, 0, 1, 2, 3, 1, 2, 3, 2, 3, 4, 3, 4, 2, 3, 4, 1, 2, 3, 1, 2, 3, 2, 3, 4, 0, 1, 2, 3, 1, 2, 3, 4, 0, 1, 2, 3, 0, 1, 2, 2, 3, 4, 2, 3, 4, 1, 2, 0, 1, 2, 3, 1, 2, 3, 4, 2, 3, 4, 2, 3, 1, 2, 3, 4, 0, 1, 2, 0, 1, 2, 0, 1, 2, 3, 1, 2, 2, 3, 2, 3, 0, 1, 2, 3, 1, 2, 3, 4, 1, 2, 2, 3, 4, 2, 3, 2, 3, 2, 3, 4, 0, 1, 2, 3, 4, 0, 1, 2, 1, 2, 3, 1, 2, 3, 1, 2, 3, 1, 2, 1, 2, 1, 2, 3, 2, 3, 0, 1, 2, 3, 0, 1, 2, 1, 2, 0, 1, 2, 3, 4, 0, 1, 2, 3, 0, 1, 2, 2, 3, 4, 1, 2, 3, 4, 2, 3, 4, 1, 2, 3, 2, 0, 1, 2, 3, 1, 1, 2, 3, 4, 0, 1, 0, 1, 2, 1, 2, 3, 0, 1, 2, 3, 0, 1, 2, 0, 1, 2, 1, 2, 3, 0, 1, 2, 0, 1, 2, 2, 4, 2, 3, 4, 0, 1, 2, 0, 1, 2, 3, 4, 1, 2, 3, 0, 1, 2, 3, 1, 2, 3, 1, 2, 3, 3, 2, 3, 4, 1, 2, 1, 2, 1, 2, 0, 1, 2, 2, 3, 4, 0, 1, 2, 3, 0, 1, 2, 3, 4, 2, 3, 4, 1, 2, 3, 4, 1, 2, 3, 4, 2, 3, 4, 1, 2, 2, 3, 4, 1, 2, 3, 0, 1, 2, 3, 3, 1, 2, 3, 4, 1, 2, 3, 1, 2, 3, 2, 3, 4, 1, 2, 3, 1, 2, 3, 1, 2, 3, 4, 0, 1, 2, 3, 2, 3, 4, 1, 2, 3, 4, 1, 2, 3, 4, 1, 2, 3, 4, 0, 1, 2, 0, 1, 2, 3, 4, 1, 2, 0, 1, 2, 3, 2, 3, 4, 1, 2, 3, 0, 1, 2, 1, 2, 3, 4, 1, 2, 3, 1, 3, 1, 2, 3, 4, 0, 1, 2, 3, 0, 1, 2, 0, 1, 2, 3, 2, 3, 4, 2, 3, 2, 3, 4, 0, 1, 2, 1, 2, 3, 4, 2, 1, 2, 3, 4, 1, 2, 3, 4, 0, 1, 2, 3, 0, 1, 2, 3, 2, 3, 0, 1, 2, 3, 4, 0, 1, 2, 1, 2, 3, 0, 1, 2, 3, 2, 3, 4, 1, 2, 3, 4, 1, 2, 3, 4, 1, 2, 3, 2, 3, 4, 2, 3, 1, 2, 3, 4, 0, 1, 2, 3, 0, 1, 2, 3, 4, 0, 1, 2, 3, 0, 1, 2, 3, 4, 2, 3, 4, 4, 0, 1, 2, 3, 4, 0, 2, 1, 2, 3, 2, 3, 4, 2, 3, 4, 0, 1, 2, 3, 1, 2, 3, 0, 2, 1, 2, 3, 4, 2, 3, 4, 1, 2, 3, 2, 3, 4, 1, 2, 3, 4, 2, 3, 0, 1, 2, 3, 0, 1, 2, 3, 2, 3, 4, 0, 1, 2, 3, 1, 2, 3, 4, 1, 2, 1, 2, 3, 1, 2, 3, 4, 1, 2, 3, 2, 3, 4, 0, 1, 2, 3, 1, 2, 3, 1, 2, 3, 1, 2, 3, 0, 1, 2, 2, 3, 3, 4, 0, 2, 3, 4, 0, 1, 2, 3, 0, 1, 2, 1, 2, 3, 1, 2, 3, 4, 1, 2, 3, 1, 2, 3, 2, 3, 4, 1, 2, 3, 4, 0, 1, 2, 0, 1, 2, 3, 2, 3, 4, 1, 2, 0, 1, 2, 1, 2, 3, 0, 1, 2, 3, 1, 2, 3, 0, 1, 2, 2, 3, 4, 1, 2, 0, 1, 2, 3, 0, 1, 2, 0, 1, 2, 1, 2, 3, 4, 1, 2, 3, 1, 2, 3, 1, 2, 3, 1, 2, 3, 4, 0, 1, 2, 3, 1, 2, 3, 2, 3, 1, 2, 3, 4, 2, 3, 4, 0, 2, 2, 3, 4, 2, 3, 4, 1, 2, 2, 3, 4, 2, 3, 4, 2, 3, 4, 1, 2, 3, 1, 2, 3, 4, 1, 2, 3, 1, 2, 3, 2, 3, 4, 1, 2, 3, 0, 1, 2, 3, 1, 2, 3, 2, 3, 4, 0, 2, 3, 4, 2, 3, 4, 1, 2, 3, 4, 0, 1, 2, 3, 0, 1, 2, 3, 0, 1, 2, 3, 1, 2, 3, 4, 2, 3, 4, 2, 3, 4, 1, 2, 3, 1, 3, 0, 1, 2, 1, 2, 3, 2, 3, 1, 2, 1, 2, 3, 2, 3, 4, 1, 2, 3, 4, 1, 2, 3, 4, 1, 2, 2, 1, 2, 3, 4, 1, 2, 3, 1, 2, 3, 1, 2, 3, 1, 2, 3, 4, 2, 3, 4, 2, 3, 2, 3, 4, 0, 1, 2, 0, 1, 2, 3, 0, 1, 2, 3, 4, 1, 2, 3, 4, 0, 1, 2, 3, 2, 1, 2, 3, 0, 1, 2, 1, 2, 3, 2, 3, 0, 1, 2, 3, 1, 2, 3, 0, 1, 2, 2, 3, 4, 1, 2, 2, 3, 1, 2, 0, 1, 0, 1, 2, 1, 2, 3, 4, 1, 2, 3, 4, 1, 2, 3, 4, 0, 1, 2, 1, 2, 0, 1, 2, 3, 1, 2, 3, 4, 0, 1, 2, 2, 3, 4, 2, 3, 4, 2, 3, 4, 1, 2, 3, 4, 1, 2, 3, 4, 1, 2, 0, 1, 2, 2, 2, 3, 4, 1, 2, 1, 1, 2, 3, 0, 1, 2, 3, 2, 3, 4, 2, 3, 4, 1, 3, 0, 1, 2, 3, 1, 2, 3, 4, 2, 3, 4, 2, 3, 4, 2, 3, 4, 2, 3, 1, 2, 0, 1, 2, 3, 0, 1, 2, 0, 1, 2, 0, 1, 2, 3, 2, 3, 0, 1, 2, 1, 2, 3, 0, 1, 2, 3, 1, 2, 3, 1, 2, 3, 1, 2, 3, 0, 1, 2, 3, 4, 2, 3, 4, 2, 3, 4, 0, 1, 2, 0, 1, 2, 3, 3, 4, 1, 2, 1, 2, 1, 2, 3, 4, 3, 4, 2, 3, 4, 0, 1, 2, 3, 0, 1, 2, 3, 0, 1, 2, 3, 2, 3, 4, 1, 2, 3, 4, 1, 2, 3, 2, 1, 2, 1, 2, 3, 2, 3, 4, 1, 2, 3, 2, 3, 4, 2, 2, 3, 4, 1, 2, 3, 4, 1, 2, 2, 3, 0, 1, 2, 2, 3, 4, 0, 1, 2, 2, 1, 2, 3, 4, 0, 1, 2, 3, 0, 1, 2, 0, 1, 2, 3, 1, 2, 0, 1, 2, 4, 1, 2, 3, 4, 1, 2, 3, 1, 2, 3, 2, 0, 1, 2, 1, 2, 3, 1, 2, 3, 1, 2, 3, 2, 3, 4, 1, 2, 3, 1, 2, 1, 2, 3, 1, 2, 3, 4, 1, 2, 3, 0, 1, 2, 3, 2, 3, 4, 2, 3, 4, 0, 1, 2, 1, 2, 3, 4, 2, 0, 1, 2, 3, 1, 2, 3, 2, 3, 4, 2, 3, 4, 0, 1, 2, 2, 3, 2, 3, 1, 2, 1, 2, 3, 1, 2, 3, 1, 2, 3, 4, 2, 3, 4, 2, 3, 4, 2, 3, 1, 2, 3, 2, 3, 1, 2, 0, 1, 2, 3, 0, 1, 2, 3, 0, 1, 2, 3, 2, 3, 4, 0, 1, 2, 3, 0, 2, 3, 4, 2, 3, 4, 0, 1, 2, 3, 4, 1, 2, 2, 3, 4, 0, 1, 2, 3, 4, 2, 2, 3, 2, 3, 4, 0, 1, 2, 3, 4, 0, 1, 2, 3, 0, 1, 0, 1, 2, 3, 0, 1, 2, 3, 1, 2, 3, 1, 2, 1, 2, 3, 1, 2, 3, 0, 1, 2, 3, 1, 2, 3, 4, 1, 2, 3, 4, 2, 3, 4, 1, 2, 3, 0, 2, 3, 4, 2, 3, 4, 0, 1, 2, 3, 1, 2, 3, 2, 1, 2, 3, 0, 1, 2, 3, 1, 2, 3, 1, 2, 3, 4, 1, 2, 3, 1, 2, 3, 2, 3, 2, 2, 3, 4, 0, 1, 2, 3, 0, 1, 2, 3, 0, 1, 2, 1, 2, 3, 0, 1, 2, 3, 4, 1, 2, 3, 4, 0, 1, 2, 2, 3, 4, 1, 2, 3, 0, 1, 2, 3, 1, 2, 3, 1, 2, 2, 3, 4, 0, 1, 2, 3, 4, 0, 1, 2, 3, 4, 1, 2, 3, 2, 3, 4, 2, 3, 0, 1, 2, 3, 0, 1, 2, 3, 4, 0, 1, 2, 3, 1, 2, 3, 4, 0, 1, 2, 3, 2, 2, 3, 1, 2, 3, 0, 1, 2, 3, 1, 3, 0, 1, 2, 3, 4, 0, 1, 2, 3, 1, 2, 3, 2, 3, 4, 1, 2, 3, 0, 1, 2, 3, 0, 1, 2, 3, 1, 2, 3, 1, 2, 3, 2, 3, 2, 3, 4, 2, 3, 0, 1, 2, 3, 4, 1, 2, 3, 4, 1, 2, 3, 0, 1, 2, 1, 2, 3, 4, 2, 3, 4, 2, 3, 4, 2, 3, 2, 3, 2, 3, 4, 0, 1, 2, 3, 2, 3, 2, 0, 1, 2, 3, 4, 0, 2, 0, 1, 2, 3, 4, 1, 2, 3, 4, 1, 2, 3, 4, 0, 1, 2, 3, 2, 3, 4, 3, 4, 0, 1, 2, 3, 1, 3, 4, 0, 1, 3, 4, 0, 1, 2, 1, 2, 3, 4, 2, 0, 1, 2, 3, 4, 0, 1, 2, 1, 2, 2, 3, 0, 1, 2, 3, 1, 2, 3, 4, 0, 1, 2, 2, 3, 0, 1, 2, 3, 0, 1, 2, 2, 0, 1, 2, 3, 2, 3, 4, 1, 2, 3, 1, 2, 3, 2, 3, 4, 0, 1, 2, 3, 1, 2, 3, 0, 1, 2, 3, 1, 2, 3, 1, 2, 3, 4, 0, 1, 2, 1, 2, 3, 4, 0, 1, 2, 3, 2, 3, 4, 1, 2, 3, 1, 2, 3, 2, 3, 3, 4, 2, 3, 0, 1, 4, 2, 3, 4, 0, 1, 2, 3, 1, 2, 3, 4, 1, 2, 3, 4, 2, 3, 4, 1, 2, 0, 1, 2, 3, 0, 1, 2, 3, 1, 2, 3, 4, 2, 3, 4, 1, 2, 1, 2, 3, 4, 1, 2, 3, 4, 1, 3, 0, 1, 2, 3, 4, 0, 1, 2, 3, 4, 0, 1, 2, 0, 1, 2, 1, 2, 3, 2, 3, 2, 3, 1, 2, 3, 4, 0, 1, 2, 3, 4, 1, 2, 3, 0, 1, 2, 2, 3, 4, 1, 2, 3, 1, 2, 3, 2, 3, 0, 1, 2, 3, 2, 3, 4, 2, 3, 0, 1, 2, 2, 3, 4, 1, 2, 1, 2, 3, 4, 0, 1, 2, 3, 2, 3, 0, 1, 2, 3, 2, 3, 3, 4, 1, 2, 3, 1, 2, 3, 2, 3, 4, 2, 3, 0, 1, 2, 3, 1, 2, 1, 2, 3, 4, 2, 3, 4, 1, 2, 3, 1, 2, 3, 4, 1, 2, 3, 2, 3, 4, 0, 1, 2, 3, 1, 2, 3, 4, 0, 1, 2, 3, 4, 1, 2, 3, 2, 3, 2, 3, 4, 2, 3, 0, 1, 2, 0, 1, 2, 0, 1, 2, 3, 2, 3, 1, 2, 3, 4, 0, 1, 2, 3, 1, 2, 3, 4, 2, 3, 4, 2, 3, 2, 2, 3, 4, 0, 1, 2, 3, 1, 2, 3, 4, 1, 2, 1, 2, 3, 4, 2, 3, 4, 2, 3, 1, 2, 1, 2, 1, 2, 3, 4, 0, 1, 2, 2, 3, 0, 1, 2, 2, 3, 1, 2, 3, 4, 4, 1, 2, 3, 0, 1, 2, 0, 1, 2, 1, 2, 0, 1, 2, 1, 2, 3, 1, 2, 3, 4, 2, 3, 4, 1, 2, 3, 1, 2, 3, 3, 4, 0, 1, 2, 3, 4, 1, 2, 3, 4, 1, 2, 3, 3, 4, 0, 1, 2, 2, 4, 1, 2, 3, 1, 2, 3, 4, 2, 3, 4, 1, 2, 3, 4, 1, 2, 3, 0, 1, 2, 3, 0, 1, 2, 2, 3, 4, 1, 2, 3, 2, 3, 4, 0, 1, 2, 3, 2, 3, 4, 1, 0, 1, 2, 0, 1, 2, 3, 2, 3, 4, 2, 0, 1, 2, 3, 2, 3, 4, 0, 1, 2, 3, 1, 2, 3, 1, 2, 3, 0, 1, 2, 1, 2, 1, 2, 3, 1, 2, 3, 4, 2, 3, 0, 1, 2, 3, 0, 1, 2, 3, 4, 1, 2, 2, 3, 4, 2, 3, 2, 1, 2, 1, 2, 1, 2, 3, 4, 2, 3, 4, 0, 1, 2, 3, 1, 2, 3, 4, 2, 3, 2, 3, 4, 2, 3, 4, 2, 3, 0, 1, 2, 3, 2, 3, 2, 3, 2, 3, 4, 1, 2, 3, 1, 2, 1, 2, 3, 1, 2, 3, 1, 2, 3, 4, 0, 1, 0, 1, 2, 2, 3, 4, 1, 2, 3, 4, 2, 3, 4, 2, 1, 2, 3, 4, 0, 1, 2, 0, 1, 2, 3, 4, 0, 1, 2, 3, 4, 1, 2, 3, 4, 1, 2, 3, 0, 1, 2, 0, 1, 2, 2, 3, 1, 2, 3, 4, 1, 2, 3, 0, 2, 1, 2, 3, 1, 2, 3, 0, 1, 2, 3, 2, 3, 4, 1, 1, 2, 3, 1, 2, 3, 2, 3, 0, 1, 2, 1, 2, 3, 0, 1, 2, 1, 2, 3, 2, 3, 4, 2, 3, 4, 1, 2, 3, 2, 3, 4, 1, 2, 3, 4, 0, 1, 2, 3, 0, 1, 2, 3, 2, 3, 2, 3, 4, 1, 2, 2, 3, 0, 1, 2, 3, 4, 2, 3, 4, 0, 1, 2, 3, 4, 3, 4, 1, 2, 3, 1, 2, 3, 4, 0, 1, 2, 3, 1, 2, 1, 2, 3, 2, 3, 4, 2, 3, 4, 1, 2, 3, 2, 3, 2, 3, 4, 2, 3, 4, 0, 1, 2, 3, 4, 1, 2, 3, 1, 2, 3, 1, 2, 3, 4, 2, 1, 2, 3, 1, 2, 4, 0, 1, 2, 3, 4, 1, 2, 3, 4, 1, 2, 3, 0, 1, 2, 3, 1, 2, 3, 2, 3, 4, 2, 3, 4, 0, 1, 2, 0, 1, 2, 3, 0, 1, 2, 3, 0, 2, 3, 1, 2, 2, 3, 4, 1, 2, 3, 4, 0, 1, 2, 3, 1, 2, 3, 4, 0, 1, 2, 3, 4, 2, 3, 4, 0, 1, 2, 2, 3, 4, 0, 1, 1, 2, 3, 4, 2, 3, 1, 2, 3, 0, 1, 2, 3, 1, 2, 3, 1, 2, 3, 1, 2, 3, 1, 2, 3, 4, 0, 1, 2, 3, 0, 1, 2, 0, 1, 2, 3, 0, 1, 2, 1, 2, 1, 2, 0, 1, 2, 0, 1, 2, 2, 2, 3, 1, 2, 3, 4, 1, 2, 3, 1, 2, 2, 3, 1, 2, 3, 4, 0, 1, 2, 0, 1, 2, 3, 4, 1, 2, 3, 1, 2, 3, 2, 3, 1, 2, 3, 4, 0, 1, 2, 3, 2, 3, 4, 0, 1, 2, 3, 2, 3, 4, 2, 4, 1, 2, 3, 0, 1, 2, 1, 2, 3, 1, 2, 3, 0, 1, 2, 1, 2, 3, 1, 2, 3, 1, 2, 3, 0, 1, 2, 2, 0, 1, 2, 3, 0, 1, 2, 1, 2, 3, 3, 4, 2, 3, 1, 2, 3, 0, 1, 2, 3, 2, 3, 1, 2, 3, 4, 1, 2, 3, 1, 2, 1, 2, 3, 3, 4, 1, 2, 3, 1, 2, 3, 4, 2, 3, 4, 0, 1, 2, 3, 1, 2, 3, 1, 2, 3, 0, 1, 2, 3, 1, 2, 3, 0, 1, 2, 3, 1, 2, 3, 0, 1, 2, 3, 4, 1, 2, 3, 4, 2, 3, 4, 1, 2, 3, 2, 3, 4, 0, 1, 2, 1, 2, 3, 0, 1, 2, 3, 4, 0, 1, 2, 3, 1, 2, 1, 2, 1, 2, 3, 4, 0, 1, 2, 2, 3, 1, 2, 3, 4, 0, 1, 2, 3, 4, 2, 3, 4, 0, 1, 2, 1, 2, 2, 3, 4, 2, 3, 0, 1, 2, 3, 1, 2, 3, 4, 2, 3, 4, 1, 2, 1, 2, 3, 0, 1, 2, 3, 2, 3, 4, 0, 1, 2, 3, 4, 1, 2, 1, 2, 3, 1, 2, 3, 4, 0, 1, 2, 3, 1, 2, 3, 1, 2, 3, 2, 3, 4, 2, 3, 1, 2, 3, 2, 3, 0, 1, 2, 0, 1, 2, 3, 1, 2, 3, 2, 3, 4, 1, 2, 3, 2, 3, 4, 0, 1, 2, 1, 2, 3, 1, 2, 3, 2, 3, 4, 1, 2, 1, 2, 3, 1, 2, 3, 1, 2, 3, 4, 2, 3, 4, 1, 2, 3, 1, 2, 3, 4, 1, 2, 3, 4, 0, 1, 2, 0, 1, 2, 3, 2, 3, 4, 2, 3, 4, 2, 3, 4, 1, 2, 0, 1, 2, 3, 1, 2, 3, 2, 3, 0, 1, 2, 2, 3, 4, 0, 1, 2, 3, 0, 1, 2, 3, 4, 2, 3, 0, 1, 2, 3, 4, 0, 1, 2, 1, 2, 3, 4, 1, 2, 3, 2, 3, 0, 1, 2, 3, 1, 2, 3, 2, 3, 4, 2, 3, 4, 1, 2, 0, 1, 2, 3, 4, 1, 2, 3, 4, 2, 3, 0, 1, 2, 3, 0, 1, 2, 3, 3, 4, 1, 2, 3, 4, 2, 3, 4, 2, 3, 2, 3, 4, 2, 3, 1, 2, 3, 4, 0, 1, 4, 1, 2, 3, 1, 2, 3, 4, 2, 3, 4, 0, 2, 3, 1, 2, 1, 2, 3, 2, 3, 4, 1, 2, 3, 4, 0, 1, 2, 3, 2, 1, 2, 1, 2, 3, 1, 2, 3, 2, 3, 4, 0, 1, 2, 1, 2, 1, 2, 3, 0, 1, 2, 3, 0, 1, 2, 0, 1, 2, 2, 3, 1, 2, 3, 4, 2, 3, 4, 1, 2, 1, 2, 3, 1, 3, 4, 1, 2, 3, 4, 1, 2, 3, 2, 3, 3, 4, 0, 1, 2, 3, 4, 2, 3, 4, 1, 2, 3, 0, 1, 2, 0, 1, 2, 3, 1, 2, 3, 2, 3, 4, 2, 3, 4, 0, 1, 2, 3, 0, 1, 2, 1, 2, 3, 2, 1, 2, 3, 0, 1, 2, 0, 1, 2, 2, 3, 4, 1, 2, 3, 0, 1, 2, 3, 0, 1, 2, 3, 0, 1, 2, 3, 0, 1, 2, 3, 1, 2, 1, 2, 3, 2, 3, 0, 1, 2, 1, 2, 1, 2, 3, 1, 2, 3, 4, 1, 2, 3, 2, 3, 4, 2, 0, 1, 2, 0, 1, 2, 0, 1, 2, 3, 4, 1, 2, 3, 1, 2, 3, 0, 1, 2, 3, 1, 2, 3, 4, 1, 2, 3, 3, 4, 1, 2, 3, 4, 0, 1, 2, 3, 2, 2, 3, 4, 2, 3, 4, 2, 3, 4, 1, 2, 1, 2, 3, 0, 1, 2, 2, 3, 4, 0, 1, 2, 3, 0, 1, 2, 2, 3, 4, 1, 2, 3, 2, 3, 3, 4, 1, 2, 3, 4, 2, 2, 3, 4, 0, 1, 2, 2, 3, 0, 1, 1, 2, 3, 0, 1, 2, 3, 1, 2, 3, 4, 1, 2, 1, 2, 1, 2, 3, 4, 1, 2, 3, 1, 2, 3, 4, 0, 1, 2, 3, 4, 2, 3, 0, 1, 2, 3, 4, 0, 1, 2, 3, 2, 3, 4, 0, 1, 2, 3, 0, 1, 2, 1, 2, 3, 0, 1, 2, 1, 2, 2, 3, 1, 2, 3, 0, 1, 2, 3, 4, 2, 3, 4, 1, 2, 3, 4, 2, 3, 4, 2, 3, 4, 0, 1, 2, 3, 0, 1, 2, 0, 1, 2, 0, 1, 2, 0, 1, 2, 3, 0, 1, 0, 1, 2, 3, 2, 3, 4, 0, 1, 2, 3, 0, 1, 2, 3, 2, 3, 2, 3, 4, 0, 1, 2, 1, 2, 3, 0, 1, 2, 0, 1, 2, 3, 4, 0, 1, 2, 3, 0, 1, 2, 3, 0, 1, 2, 3, 0, 1, 2, 3, 1, 2, 3, 0, 1, 2, 3, 4, 1, 2, 3, 4, 0, 1, 2, 3, 0, 1, 0, 1, 2, 3, 3, 4, 0, 1, 2, 3, 0, 1, 2, 3, 0, 1, 2, 3, 2, 3, 0, 1, 2, 3, 4, 1, 2, 3, 4, 0, 1, 2, 3, 1, 2, 3, 1, 2, 3, 0, 1, 2, 3, 0, 1, 2, 3, 1, 2, 2, 3, 1, 2, 3, 0, 1, 2, 3, 2, 3, 4, 1, 2, 3, 0, 1, 3, 4, 2, 3, 4, 2, 3, 1, 2, 3, 1, 2, 3, 0, 1, 2, 3, 0, 1, 2, 3, 4, 2, 3, 1, 2, 3, 2, 3, 2, 3, 2, 3, 2, 3, 4, 1, 1, 2, 3, 3, 4, 0, 1, 2, 3, 1, 2, 3, 0, 1, 2, 3, 0, 1, 2, 2, 3, 4, 2, 3, 4, 2, 3, 4, 0, 2, 3, 1, 2, 1, 2, 3, 4, 2, 3, 4, 1, 2, 3, 0, 1, 2, 3, 1, 2, 3, 2, 3, 4, 0, 2, 1, 2, 3, 4, 0, 1, 2, 4, 2, 3, 4, 2, 3, 4, 1, 2, 3, 4, 1, 2, 1, 2, 3, 4, 0, 2, 1, 2, 3, 4, 1, 2, 3, 1, 2, 3, 1, 2, 3, 2, 3, 4, 1, 2, 3, 4, 2, 3, 1, 2, 3, 1, 2, 3, 2, 3, 4, 0, 1, 2, 3, 0, 1, 2, 3, 4, 2, 3, 4, 0, 1, 4, 0, 1, 2, 3, 0, 1, 2, 3, 1, 2, 3, 4, 0, 1, 2, 1, 2, 2, 3, 4, 2, 3, 4, 1, 2, 3, 4, 0, 1, 2, 3, 1, 2, 0, 1, 2, 1, 2, 3, 1, 2, 2, 1, 2, 3, 4, 2, 3, 0, 1, 2, 3, 1, 2, 1, 2, 3, 1, 2, 3, 1, 2, 3, 2, 3, 0, 1, 2, 3, 2, 3, 0, 1, 2, 3, 0, 1, 2, 3, 2, 3, 0, 1, 2, 3, 1, 2, 3, 0, 1, 2, 3, 0, 1, 2, 0, 1, 2, 3, 3, 4, 0, 1, 2, 3, 1, 2, 1, 2, 3, 4, 2, 3, 3, 4, 0, 1, 2, 3, 4, 1, 2, 3, 4, 1, 2, 0, 1, 2, 3, 1, 2, 3, 0, 1, 2, 3, 4, 1, 2, 3, 0, 1, 1, 2, 3, 4, 1, 2, 2, 2, 3, 4, 1, 2, 3, 1, 2, 3, 1, 2, 3, 0, 1, 2, 0, 1, 2, 3, 2, 3, 4, 0, 1, 2, 1, 2, 3, 1, 2, 3, 4, 1, 2, 3, 2, 3, 4, 1, 2, 3, 2, 3, 4, 3, 4, 2, 3, 4, 1, 2, 3, 0, 1, 2, 3, 2, 1, 2, 3, 4, 0, 1, 2, 1, 2, 1, 2, 3, 4, 1, 2, 3, 2, 3, 2, 3, 4, 0, 1, 2, 2, 3, 4, 1, 2, 3, 1, 2, 3, 2, 1, 2, 3, 4, 1, 2, 3, 0, 1, 2, 3, 2, 3, 4, 1, 2, 3, 0, 1, 2, 3, 1, 2, 0, 1, 2, 0, 1, 2, 3, 2, 3, 4, 0, 1, 2, 3, 1, 2, 3, 2, 3, 4, 1, 2, 3, 1, 2, 3, 4, 0, 1, 2, 0, 1, 2, 3, 0, 1, 2, 3, 2, 3, 1, 2, 3, 4, 0, 1, 2, 3, 2, 4, 1, 2, 3, 4, 1, 2, 3, 3, 0, 1, 2, 3, 0, 1, 2, 3, 2, 3, 4, 3, 1, 2, 3, 1, 2, 3, 0, 1, 2, 3, 2, 3, 2, 3, 0, 1, 2, 0, 1, 2, 3, 2, 3, 2, 3, 4, 1, 2, 3, 0, 1, 1, 2, 0, 2, 3, 1, 2, 3, 1, 2, 3, 4, 1, 2, 3, 0, 1, 2, 2, 3, 1, 2, 1, 2, 3, 1, 2, 3, 0, 1, 2, 0, 1, 2, 3, 2, 3, 0, 1, 2, 3, 4, 0, 1, 2, 2, 3, 4, 0, 1, 2, 3, 0, 1, 2, 3, 4, 1, 2, 3, 4, 1, 2, 3, 4, 1, 2, 3, 4, 2, 3, 4, 3, 4, 0, 1, 2, 2, 3, 3, 4, 0, 1, 2, 3, 2, 3, 4, 1, 2, 1, 2, 3, 1, 2, 0, 1, 2, 3, 1, 2, 3, 4, 2, 3, 1, 2, 3, 4, 1, 2, 1, 2, 3, 2, 3, 2, 3, 4, 0, 1, 2, 3, 1, 2, 3, 4, 0, 1, 2, 3, 1, 2, 0, 1, 2, 3, 0, 1, 2, 3, 0, 1, 2, 1, 2, 3, 2, 3, 0, 1, 2, 3, 2, 3, 4, 2, 0, 1, 2, 3, 2, 3, 4, 1, 2, 3, 1, 2, 3, 0, 1, 2, 3, 1, 2, 3, 0, 1, 2, 3, 3, 4, 1, 2, 3, 4, 1, 2, 3, 1, 2, 3, 2, 3, 1, 2, 3, 4, 1, 2, 3, 2, 3, 4, 2, 3, 4, 2, 3, 4, 0, 1, 2, 2, 3, 3, 0, 1, 2, 3, 1, 2, 3, 4, 3, 4, 0, 1, 2, 2, 4, 1, 2, 3, 1, 2, 2, 3, 1, 2, 3, 0, 1, 2, 3, 4, 1, 2, 3, 4, 2, 3, 2, 3, 1, 2, 3, 4, 1, 2, 3, 0, 1, 2, 3, 4, 1, 2, 3, 1, 2, 1, 2, 3, 4, 2, 3, 4, 1, 2, 3, 4, 1, 2, 1, 2, 3, 4, 0, 1, 2, 0, 1, 2, 3, 2, 3, 4, 1, 2, 0, 1, 2, 1, 2, 3, 2, 3, 2, 3, 4, 0, 1, 2, 2, 3, 4, 1, 2, 3, 4, 0, 1, 2, 1, 2, 3, 0, 1, 2, 3, 1, 2, 3, 0, 1, 2, 3, 4, 1, 2, 3, 4, 1, 2, 3, 4, 0, 1, 2, 3, 4, 2, 3, 4, 0, 1, 2, 3, 0, 1, 2, 1, 2, 3, 0, 1, 2, 3, 4, 1, 2, 2, 3, 4, 3, 4, 1, 2, 3, 4, 2, 3, 4, 1, 2, 3, 2, 3, 4, 2, 3, 1, 2, 3, 4, 1, 2, 2, 3, 4, 1, 1, 2, 3, 0, 1, 2, 3, 0, 1, 3, 4, 1, 2, 0, 1, 2, 0, 1, 1, 2, 3, 3, 4, 1, 2, 3, 1, 2, 2, 0, 1, 2, 3, 1, 2, 3, 0, 1, 2, 3, 1, 2, 3, 3, 4, 0, 1, 2, 1, 2, 3, 4, 0, 1, 2, 3, 0, 1, 2, 1, 2, 3, 4, 1, 2, 3, 1, 2, 3, 1, 2, 3, 1, 2, 3, 2, 3, 4, 2, 3, 1, 1, 2, 2, 3, 4, 0, 1, 2, 3, 4, 2, 3, 1, 2, 3, 1, 2, 3, 0, 1, 2, 3, 3, 4, 1, 0, 2, 3, 0, 1, 2, 3, 0, 1, 2, 3, 1, 2, 0, 1, 2, 3, 0, 1, 2, 0, 1, 2, 3, 2, 3, 4, 1, 2, 3, 1, 2, 3, 1, 2, 3, 2, 3, 4, 0, 1, 2, 3, 4, 2, 3, 2, 3, 0, 1, 2, 3, 4, 1, 2, 3, 2, 3, 2, 1, 3, 4, 1, 2, 3, 2, 3, 0, 1, 2, 3, 4, 1, 2, 3, 4, 2, 2, 3, 2, 3, 1, 2, 1, 2, 3, 4, 1, 2, 3, 4, 2, 1, 2, 3, 2, 3, 4, 1, 2, 3, 4, 0, 1, 2, 3, 0, 1, 0, 1, 2, 1, 2, 3, 1, 2, 3, 3, 4, 1, 2, 3, 0, 1, 2, 0, 1, 2, 3, 1, 2, 3, 0, 1, 2, 3, 0, 1, 2, 3, 0, 1, 2, 3, 1, 2, 1, 2, 3, 4, 1, 2, 3, 0, 1, 2, 3, 0, 1, 2, 1, 2, 3, 1, 2, 3, 2, 3, 4, 1, 2, 3, 0, 1, 2, 3, 0, 1, 2, 1, 2, 3, 2, 3, 1, 2, 1, 2, 3, 4, 1, 2, 0, 1, 2, 2, 3, 1, 2, 3, 4, 0, 1, 2, 3, 1, 2, 3, 4, 2, 3, 1, 2, 3, 2, 0, 1, 2, 3, 4, 3, 1, 2, 3, 4, 0, 1, 2, 3, 0, 1, 2, 3, 1, 2, 0, 1, 2, 1, 2, 3, 0, 1, 2, 3, 4, 1, 2, 3, 4, 2, 3, 4, 2, 3, 2, 3, 4, 2, 3, 0, 1, 2, 3, 4, 0, 1, 2, 0, 1, 2, 0, 1, 2, 3, 3, 4, 0, 1, 2, 3, 0, 1, 2, 3, 2, 3, 2, 3, 4, 2, 3, 4, 2, 0, 1, 2, 3, 0, 1, 2, 3, 2, 3, 2, 3, 4, 2, 3, 2, 3, 4, 1, 2, 3, 2, 3, 4, 1, 2, 3, 4, 2, 3, 4, 1, 2, 3, 0, 1, 2, 3, 0, 1, 2, 3, 4, 2, 3, 4, 0, 1, 2, 3, 2, 3, 4, 2, 3, 1, 2, 3, 0, 1, 2, 0, 1, 2, 3, 1, 2, 3, 2, 3, 4, 2, 3, 4, 1, 2, 3, 2, 3, 4, 2, 3, 4, 2, 3, 2, 3, 4, 1, 2, 0, 1, 2, 1, 2, 3, 4, 2, 3, 4, 0, 1, 2, 3, 2, 3, 0, 1, 2, 3, 4, 1, 2, 3, 4, 1, 2, 3, 2, 3, 4, 1, 2, 3, 4, 0, 1, 2, 3, 1, 2, 3, 1, 2, 3, 4, 0, 1, 2, 3, 4, 0, 1, 2, 1, 2, 3, 2, 3, 4, 0, 1, 2, 3, 4, 1, 2, 3, 0, 1, 2, 3, 2, 3, 4, 1, 2, 3, 4, 0, 1, 2, 3, 4, 1, 2, 3, 1, 2, 3, 1, 2, 3, 0, 1, 2, 1, 3, 4, 0, 1, 2, 3, 4, 1, 2, 3, 4, 0, 1, 2, 3, 1, 2, 3, 1, 2, 3, 2, 3, 2, 3, 4, 0, 1, 2, 3, 2, 3, 1, 4, 1, 2, 3, 2, 3, 1, 2, 3, 2, 3, 4, 2, 3, 4, 2, 3, 1, 2, 3, 1, 2, 3, 0, 1, 2, 2, 3, 4, 0, 1, 2, 3, 2, 3, 0, 1, 2, 0, 1, 2, 3, 1, 2, 3, 1, 2, 2, 3, 0, 1, 2, 1, 2, 3, 4, 1, 2, 2, 1, 2, 3, 2, 3, 4, 3, 4, 1, 2, 3, 1, 2, 3, 2, 3, 4, 0, 1, 2, 3, 2, 3, 4, 2, 3, 4, 1, 2, 3, 4, 2, 3, 4, 2, 3, 0, 2, 3, 4, 2, 3, 4, 0, 1, 2, 3, 0, 1, 2, 0, 1, 2, 3, 1, 2, 3, 0, 1, 2, 3, 3, 4, 2, 3, 4, 0, 1, 1, 2, 3, 1, 2, 2, 3, 0, 1, 2, 3, 2, 3, 2, 3, 1, 2, 3, 2, 3, 4, 1, 2, 3, 4, 1, 2, 3, 0, 1, 2, 3, 0, 1, 2, 1, 2, 2, 4, 2, 3, 4, 0, 1, 2, 3, 1, 2, 3, 2, 3, 2, 3, 0, 1, 2, 3, 4, 0, 1, 2, 1, 2, 3, 1, 2, 3, 4, 0, 1, 2, 3, 1, 2, 3, 4, 1, 2, 3, 2, 3, 2, 3, 4, 0, 1, 2, 3, 2, 3, 4, 1, 2, 3, 4, 0, 1, 2, 3, 1, 2, 3, 2, 3, 4, 1, 2, 3, 4, 2, 3, 4, 1, 2, 3, 0, 1, 2, 3, 0, 1, 2, 3, 4, 2, 2, 3, 0, 1, 2, 3, 1, 2, 3, 4, 1, 2, 3, 4, 1, 2, 3, 1, 2, 3, 0, 1, 2, 3, 1, 2, 3, 0, 1, 2, 0, 1, 2, 3, 3, 4, 2, 3, 0, 1, 2, 3, 1, 2, 3, 1, 2, 3, 4, 1, 2, 3, 1, 2, 3, 0, 1, 2, 3, 2, 3, 4, 0, 1, 2, 3, 0, 1, 2, 3, 1, 2, 3, 4, 2, 3, 1, 2, 3, 4, 0, 1, 2, 3, 1, 2, 2, 3, 1, 2, 3, 4, 1, 2, 3, 4, 1, 2, 3, 1, 2, 3, 4, 0, 1, 0, 1, 2, 0, 1, 2, 3, 1, 2, 3, 4, 2, 3, 0, 1, 2, 0, 1, 2, 0, 1, 2, 3, 2, 3, 4, 1, 2, 1, 2, 3, 4, 1, 2, 3, 2, 3, 1, 2, 3, 4, 0, 1, 2, 3, 0, 1, 2, 3, 1, 2, 3, 0, 1, 2, 3, 1, 2, 3, 4, 0, 1, 2, 1, 2, 3, 4, 2, 3, 0, 1, 2, 2, 3, 2, 3, 1, 2, 3, 0, 1, 2, 3, 1, 2, 3, 0, 1, 2, 3, 4, 0, 1, 2, 3, 2, 3, 4, 1, 2, 3, 4, 0, 1, 2, 2, 3, 0, 1, 2, 3, 1, 2, 2, 3, 0, 1, 2, 3, 1, 2, 2, 3, 4, 0, 1, 2, 3, 1, 2, 3, 2, 3, 4, 0, 1, 2, 2, 3, 4, 1, 2, 3, 4, 2, 3, 4, 0, 1, 2, 1, 2, 3, 1, 2, 3, 1, 2, 3, 0, 1, 2, 2, 3, 2, 3, 4, 0, 1, 2, 3, 4, 2, 3, 4, 2, 3, 2, 3, 4, 0, 1, 2, 0, 1, 2, 3, 2, 3, 4, 2, 3, 4, 2, 3, 4, 0, 1, 2, 3, 4, 0, 1, 2, 3, 2, 3, 4, 2, 3, 4, 2, 3, 4, 2, 3, 2, 3, 4, 1, 2, 3, 4, 0, 1, 2, 3, 1, 2, 3, 2, 3, 2, 3, 4, 2, 3, 4, 1, 2, 4, 1, 2, 3, 2, 3, 4, 0, 1, 2, 3, 4, 0, 1, 2, 3, 4, 2, 3, 4, 3, 4, 2, 3, 4, 4, 1, 2, 3, 0, 1, 1, 2, 3, 4, 0, 1, 2, 3, 4, 2, 3, 0, 1, 2, 1, 2, 2, 3, 4, 1, 2, 3, 4, 2, 3, 4, 2, 3, 4, 0, 1, 2, 3, 2, 3, 4, 1, 2, 3, 2, 3, 4, 0, 1, 2, 3, 4, 2, 3, 2, 0, 1, 2, 1, 2, 3, 4, 0, 1, 2, 1, 2, 3, 4, 0, 1, 2, 0, 1, 2, 1, 2, 3, 4, 0, 1, 2, 0, 1, 2, 1, 2, 4, 1, 1, 2, 3, 4, 1, 2, 2, 3, 4, 1, 2, 3, 2, 3, 4, 1, 2, 3, 4, 1, 2, 3, 2, 0, 1, 2, 3, 1, 2, 3, 1, 2, 0, 1, 2, 2, 3, 4, 0, 1, 2, 3, 2, 3, 4, 0, 1, 2, 3, 1, 2, 1, 2, 3, 0, 1, 2, 3, 0, 1, 2, 1, 2, 2, 3, 4, 1, 2, 3, 4, 2, 3, 4, 1, 2, 3, 4, 0, 1, 2, 3, 4, 0, 1, 2, 3, 4, 2, 3, 4, 1, 2, 3, 4, 1, 2, 3, 4, 2, 0, 1, 2, 2, 4, 0, 1, 2, 3, 0, 1, 2, 1, 2, 3, 1, 2, 0, 1, 2, 3, 2, 3, 4, 2, 3, 4, 1, 2, 3, 2, 3, 4, 0, 1, 2, 2, 3, 4, 0, 1, 2, 3, 1, 2, 1, 2, 3, 0, 1, 0, 1, 2, 3, 1, 2, 3, 4, 1, 2, 3, 0, 1, 2, 3, 0, 1, 2, 3, 4, 1, 2, 1, 2, 3, 1, 2, 3, 4, 1, 2, 3, 4, 0, 1, 2, 3, 0, 1, 2, 3, 2, 3, 0, 1, 2, 1, 2, 1, 2, 3, 1, 2, 1, 2, 1, 2, 3, 2, 3, 1, 2, 1, 2, 3, 0, 1, 2, 3, 1, 2, 3, 1, 2, 3, 0, 1, 1, 2, 0, 1, 2, 0, 1, 2, 4, 2, 3, 4, 0, 1, 2, 3, 2, 3, 1, 2, 3, 4, 1, 2, 3, 2, 3, 4, 1, 2, 1, 2, 3, 1, 2, 3, 4, 1, 2, 0, 1, 2, 1, 2, 3, 4, 0, 1, 2, 1, 2, 3, 0, 1, 2, 0, 0, 1, 2, 3, 1, 2, 3, 1, 2, 3, 1, 2, 3, 4, 2, 3, 0, 1, 2, 1, 2, 3, 4, 0, 1, 2, 1, 2, 3, 0, 1, 2, 3, 1, 2, 3, 4, 0, 1, 2, 3, 1, 2, 3, 0, 1, 2, 3, 0, 1, 2, 3, 1, 2, 3, 2, 3, 4, 1, 2, 3, 1, 2, 3, 4, 1, 2, 3, 0, 1, 2, 3, 1, 2, 3, 4, 0, 1, 2, 1, 2, 3, 1, 2, 3, 4, 1, 2, 3, 4, 0, 1, 2, 1, 2, 3, 0, 1, 2, 2, 3, 4, 0, 1, 2, 1, 2, 3, 2, 4, 0, 1, 2, 3, 2, 3, 4, 1, 2, 3, 4, 0, 1, 2, 0, 1, 2, 3, 0, 1, 2, 1, 2, 3, 1, 2, 3, 2, 3, 4, 1, 2, 2, 4, 0, 1, 2, 3, 1, 2, 3, 4, 2, 3, 4, 1, 2, 3, 1, 2, 1, 2, 3, 4, 2, 3, 2, 3, 4, 0, 1, 2, 1, 2, 2, 3, 4, 4, 1, 2, 3, 0, 1, 2, 1, 2, 0, 1, 2, 0, 1, 2, 3, 1, 2, 3, 0, 1, 2, 3, 4, 0, 1, 2, 3, 0, 1, 2, 3, 2, 3, 4, 0, 1, 2, 2, 3, 4, 0, 1, 2, 3, 4, 1, 2, 3, 4, 2, 3, 4, 0, 1, 2, 1, 2, 3, 1, 2, 0, 1, 2, 0, 1, 2, 2, 3, 4, 0, 1, 2, 4, 0, 1, 2, 3, 1, 2, 4, 0, 1, 2, 3, 3, 4, 0, 1, 2, 3, 2, 3, 4, 2, 3, 0, 1, 2, 3, 2, 3, 1, 2, 1, 2, 3, 4, 1, 2, 3, 4, 1, 2, 3, 2, 3, 4, 1, 2, 3, 2, 3, 4, 1, 2, 1, 2, 3, 4, 0, 1, 2, 2, 3, 4, 1, 2, 3, 0, 1, 2, 3, 0, 1, 2, 2, 3, 4, 2, 3, 1, 2, 1, 2, 1, 2, 3, 4, 1, 2, 3, 3, 4, 1, 2, 0, 1, 2, 1, 2, 3, 1, 2, 3, 1, 2, 3, 2, 3, 4, 0, 1, 2, 1, 2, 2, 3, 4, 0, 1, 2, 3, 1, 2, 3, 4, 0, 1, 2, 3, 0, 1, 2, 3, 3, 4, 2, 3, 4, 1, 2, 3, 1, 2, 0, 1, 1, 2, 3, 1, 2, 3, 0, 1, 2, 3, 4, 1, 2, 1, 2, 3, 1, 2, 3, 1, 2, 1, 2, 3, 4, 0, 1, 2, 1, 2, 3, 4, 0, 1, 2, 3, 0, 1, 2, 2, 3, 4, 1, 2, 3, 2, 3, 1, 2, 0, 1, 2, 3, 2, 3, 4, 2, 3, 4, 0, 1, 2, 3, 1, 2, 3, 4, 2, 3, 4, 0, 1, 2, 3, 1, 2, 3, 2, 3, 4, 2, 3, 4, 1, 2, 3, 1, 2, 3, 4, 2, 3, 4, 0, 1, 2, 3, 1, 2, 3, 0, 1, 2, 0, 1, 2, 3, 0, 1, 2, 1, 2, 3, 3, 4, 0, 1, 2, 3, 4, 1, 2, 1, 2, 3, 0, 1, 2, 1, 2, 0, 1, 2, 3, 1, 2, 3, 1, 2, 3, 4, 1, 2, 1, 2, 3, 2, 3, 0, 1, 2, 2, 3, 4, 2, 3, 1, 2, 0, 1, 2, 2, 3, 4, 0, 1, 2, 3, 1, 2, 3, 0, 1, 2, 3, 1, 2, 3, 0, 1, 2, 3, 0, 1, 2, 3, 1, 2, 3, 1, 2, 3, 2, 3, 1, 2, 3, 2, 0, 1, 2, 3, 4, 1, 2, 3, 1, 2, 3, 4, 0, 1, 2, 0, 1, 2, 3, 1, 2, 1, 2, 3, 2, 3, 4, 1, 2, 1, 2, 3, 0, 1, 2, 2, 0, 1, 2, 1, 2, 3, 4, 2, 3, 4, 0, 1, 2, 3, 1, 2, 3, 4, 1, 2, 3, 1, 2, 3, 4, 1, 2, 3, 2, 3, 4, 1, 2, 3, 0, 0, 1, 2, 3, 4, 2, 3, 1, 2, 3, 0, 1, 2, 2, 3, 4, 1, 2, 1, 2, 2, 3, 4, 2, 3, 4, 0, 1, 2, 0, 1, 3, 1, 2, 3, 2, 3, 2, 3, 4, 0, 1, 2, 3, 1, 2, 3, 2, 3, 0, 2, 3, 4, 1, 2, 3, 4, 2, 3, 1, 2, 1, 2, 3, 4, 1, 2, 0, 1, 2, 3, 2, 3, 2, 3, 4, 0, 1, 2, 3, 2, 3, 4, 0, 1, 2, 3, 1, 2, 2, 1, 2, 2, 3, 0, 1, 2, 3, 1, 2, 3, 1, 2, 3, 4, 2, 3, 4, 0, 1, 2, 3, 0, 1, 2, 3, 4, 1, 2, 3, 4, 2, 3, 0, 1, 2, 3, 1, 2, 0, 1, 2, 3, 1, 2, 3, 0, 1, 2, 3, 3, 4, 1, 2, 1, 2, 3, 1, 2, 3, 1, 2, 3, 4, 2, 3, 1, 2, 1, 2, 2, 3, 4, 1, 2, 3, 1, 2, 3, 1, 2, 0, 1, 2, 3, 2, 3, 4, 1, 2, 3, 4, 1, 2, 1, 2, 3, 2, 3, 4, 1, 2, 3, 4, 1, 2, 0, 1, 2, 2, 3, 4, 1, 2, 3, 2, 3, 4, 1, 2, 3, 4, 0, 1, 2, 3, 1, 2, 3, 2, 3, 4, 0, 1, 2, 3, 1, 2, 3, 2, 3, 0, 1, 2, 0, 1, 2, 3, 1, 2, 2, 3, 4, 1, 2, 2, 3, 1, 2, 3, 1, 2, 3, 1, 2, 3, 4, 2, 3, 1, 2, 1, 2, 3, 1, 2, 3, 0, 1, 2, 2, 3, 4, 1, 2, 3, 0, 1, 2, 0, 1, 2, 3, 0, 1, 2, 3, 1, 2, 3, 2, 3, 1, 2, 3, 2, 3, 4, 2, 3, 4, 0, 1, 2, 3, 1, 2, 3, 4, 2, 3, 4, 0, 1, 2, 1, 2, 3, 4, 1, 2, 3, 2, 3, 0, 1, 2, 3, 4, 2, 3, 4, 0, 1, 2, 3, 0, 1, 2, 3, 0, 1, 2, 0, 1, 2, 1, 2, 3, 2, 3, 1, 2, 1, 2, 3, 3, 4, 2, 3, 4, 0, 1, 2, 1, 2, 3, 4, 0, 1, 2, 2, 3, 0, 1, 2, 2, 3, 4, 1, 2, 3, 4, 0, 1, 2, 3, 1, 2, 0, 1, 2, 3, 4, 0, 1, 2, 3, 1, 2, 3, 2, 3, 4, 0, 1, 2, 0, 1, 0, 1, 2, 3, 2, 3, 4, 1, 2, 3, 2, 3, 4, 4, 2, 3, 4, 1, 2, 3, 4, 3, 1, 2, 3, 4, 2, 3, 4, 1, 2, 3, 1, 2, 3, 4, 0, 1, 2, 3, 1, 2, 3, 4, 2, 2, 3, 0, 1, 2, 0, 1, 2, 2, 3, 4, 1, 2, 3, 2, 3, 4, 1, 2, 3, 1, 2, 3, 4, 0, 1, 2, 0, 1, 2, 3, 4, 1, 2, 3, 1, 2, 2, 3, 4, 1, 2, 3, 4, 0, 1, 2, 3, 0, 1, 2, 3, 2, 3, 2, 3, 0, 1, 2, 3, 1, 2, 3, 4, 3, 4, 2, 3, 4, 2, 3, 4, 2, 3, 4, 2, 3, 0, 1, 1, 2, 3, 0, 1, 2, 0, 1, 2, 3, 2, 3, 1, 2, 3, 4, 0, 1, 2, 2, 3, 0, 1, 2, 2, 3, 4, 0, 1, 2, 1, 2, 3, 0, 1, 2, 3, 2, 3, 1, 2, 3, 0, 1, 2, 3, 0, 1, 2, 2, 3, 4, 1, 2, 3, 4, 2, 3, 2, 3, 4, 1, 2, 3, 1, 2, 3, 2, 3, 4, 1, 2, 3, 0, 1, 2, 3, 2, 3, 4, 2, 3, 0, 1, 2, 3, 2, 3, 4, 2, 3, 3, 4, 2, 3, 4, 2, 3, 1, 2, 3, 4, 1, 2, 3, 4, 0, 1, 2, 3, 2, 3, 0, 1, 2, 3, 1, 2, 3, 4, 2, 3, 1, 2, 3, 2, 3, 4, 0, 1, 2, 0, 1, 2, 3, 4, 1, 2, 3, 2, 3, 4, 1, 2, 3, 4, 1, 2, 3, 4, 1, 2, 3, 4, 2, 3, 2, 3, 4, 1, 2, 3, 1, 2, 3, 4, 2, 4, 0, 1, 2, 0, 1, 2, 2, 3, 4, 2, 3, 4, 2, 3, 4, 2, 3, 4, 2, 3, 1, 2, 3, 0, 2, 3, 2, 3, 4, 0, 2, 0, 1, 2, 3, 1, 2, 3, 1, 2, 3, 4, 0, 1, 2, 2, 2, 3, 4, 0, 1, 2, 3, 1, 2, 3, 4, 0, 1, 2, 3, 0, 1, 2, 3, 4, 1, 2, 3, 0, 1, 2, 2, 3, 1, 2, 3, 2, 3, 4, 0, 2, 0, 1, 2, 3, 1, 2, 3, 2, 3, 4, 2, 3, 4, 2, 3, 4, 1, 2, 0, 1, 2, 3, 4, 0, 1, 2, 1, 2, 3, 0, 1, 2, 3, 1, 2, 4, 2, 3, 4, 1, 2, 3, 1, 2, 2, 3, 4, 2, 3, 4, 1, 2, 3, 4, 0, 1, 2, 3, 4, 0, 1, 2, 0, 1, 2, 3, 2, 3, 4, 2, 3, 4, 2, 3, 4, 1, 2, 3, 4, 2, 3, 4, 2, 3, 4, 1, 2, 3, 2, 3, 0, 1, 2, 3, 0, 1, 2, 3, 0, 1, 2, 3, 4, 0, 1, 2, 1, 2, 3, 3, 1, 2, 3, 2, 3, 4, 0, 1, 2, 3, 4, 1, 2, 3, 1, 2, 3, 1, 2, 3, 0, 1, 2, 3, 2, 2, 2, 3, 4, 2, 3, 4, 2, 3, 4, 1, 2, 3, 4, 4, 0, 1, 2, 3, 4, 0, 1, 2, 1, 2, 3, 4, 0, 1, 2, 3, 4, 0, 1, 2, 3, 0, 1, 2, 3, 1, 2, 1, 2, 3, 4, 2, 3, 4, 1, 2, 3, 1, 2, 3, 1, 2, 1, 2, 3, 4, 2, 3, 4, 0, 1, 2, 1, 2, 3, 4, 1, 2, 3, 4, 1, 2, 3, 4, 1, 2, 3, 0, 1, 2, 3, 4, 1, 2, 3, 4, 1, 2, 3, 3, 4, 1, 0, 1, 2, 3, 1, 2, 3, 4, 1, 2, 3, 0, 1, 2, 3, 1, 2, 3, 1, 2, 3, 4, 2, 3, 4, 0, 1, 2, 3, 4, 2, 1, 2, 3, 2, 3, 2, 3, 4, 2, 3, 1, 2, 3, 0, 1, 2, 3, 1, 2, 2, 3, 4, 1, 2, 3, 2, 3, 4, 0, 1, 2, 3, 1, 2, 3, 4, 2, 3, 0, 1, 2, 3, 1, 2, 3, 2, 3, 4, 0, 1, 2, 1, 2, 2, 3, 0, 1, 2, 3, 4, 1, 2, 3, 4, 1, 2, 3, 1, 2, 3, 4, 0, 1, 2, 3, 4, 0, 1, 2, 3, 4, 2, 3, 4, 0, 1, 2, 2, 3, 4, 2, 3, 4, 2, 3, 0, 1, 2, 2, 3, 1, 2, 3, 2, 3, 0, 1, 2, 3, 0, 1, 2, 0, 1, 2, 0, 1, 2, 3, 0, 1, 2, 1, 2, 3, 1, 2, 3, 4, 0, 1, 2, 3, 4, 0, 1, 2, 3, 1, 2, 3, 1, 2, 3, 0, 1, 2, 3, 4, 0, 1, 2, 3, 4, 0, 1, 2, 1, 2, 3, 4, 1, 2, 3, 0, 1, 2, 1, 2, 1, 2, 3, 0, 1, 2, 3, 0, 1, 2, 3, 3, 4, 2, 3, 4, 2, 3, 4, 2, 3, 4, 0, 1, 2, 3, 1, 2, 3, 4, 2, 3, 4, 1, 2, 3, 1, 2, 3, 2, 3, 1, 2, 3, 4, 2, 3, 4, 1, 2, 2, 3, 0, 1, 2, 1, 2, 1, 2, 3, 2, 3, 4, 1, 2, 3, 4, 2, 3, 4, 0, 1, 2, 3, 0, 1, 2, 3, 2, 3, 4, 0, 1, 2, 3, 1, 2, 3, 4, 0, 1, 2, 3, 1, 2, 3, 1, 2, 3, 4, 2, 3, 2, 3, 4, 1, 2, 0, 1, 2, 3, 4, 2, 3, 4, 0, 1, 2, 1, 2, 3, 4, 2, 3, 4, 0, 1, 2, 3, 0, 1, 2, 2, 3, 1, 2, 3, 4, 0, 1, 2, 3, 1, 2, 0, 1, 2, 1, 2, 3, 1, 2, 3, 1, 2, 3, 2, 3, 4, 1, 2, 2, 3, 4, 1, 2, 3, 4, 1, 2, 3, 0, 1, 1, 1, 2, 3, 4, 3, 4, 2, 3, 4, 2, 3, 4, 0, 1, 2, 2, 3, 4, 0, 1, 2, 3, 1, 2, 3, 4, 1, 2, 3, 4, 0, 1, 2, 3, 0, 1, 2, 2, 3, 2, 3, 0, 1, 2, 3, 1, 2, 3, 1, 2, 3, 4, 0, 1, 0, 1, 2, 3, 1, 2, 3, 4, 2, 3, 0, 1, 2, 3, 0, 1, 2, 3, 0, 1, 2, 2, 3, 4, 2, 3, 1, 2, 3, 2, 3, 4, 2, 3, 2, 3, 4, 1, 2, 3, 1, 2, 3, 2, 3, 4, 0, 1, 2, 3, 2, 3, 4, 2, 3, 1, 2, 3, 1, 2, 3, 0, 1, 0, 1, 2, 1, 2, 2, 3, 2, 3, 4, 1, 2, 0, 1, 2, 3, 0, 1, 2, 3, 1, 2, 3, 4, 1, 2, 3, 2, 3, 4, 1, 2, 3, 4, 1, 2, 3, 4, 0, 1, 2, 3, 1, 2, 3, 0, 1, 2, 1, 2, 3, 0, 1, 2, 3, 0, 1, 2, 2, 0, 1, 2, 3, 0, 1, 2, 3, 0, 1, 2, 1, 2, 0, 1, 2, 2, 0, 1, 2, 3, 2, 3, 4, 1, 2, 3, 4, 1, 2, 3, 2, 3, 4, 2, 3, 4, 0, 1, 2, 2, 3, 4, 0, 1, 2, 3, 1, 2, 2, 3, 4, 2, 3, 4, 0, 1, 2, 1, 2, 3, 4, 1, 2, 2, 3, 4, 2, 2, 3, 4, 1, 2, 3, 4, 1, 1, 2, 3, 4, 1, 2, 3, 2, 3, 4, 0, 1, 2, 3, 4, 1, 2, 3, 2, 3, 1, 2, 3, 1, 2, 3, 2, 3, 0, 1, 2, 3, 1, 2, 3, 2, 3, 2, 3, 1, 2, 3, 4, 0, 1, 2, 3, 4, 2, 2, 3, 4, 1, 2, 3, 1, 2, 3, 3, 2, 3, 4, 0, 1, 2, 3, 0, 1, 2, 3, 1, 2, 3, 0, 1, 2, 3, 4, 1, 2, 3, 4, 0, 1, 2, 3, 4, 1, 2, 3, 4, 2, 3, 1, 2, 3, 2, 3, 2, 3, 4, 1, 2, 3, 4, 1, 2, 3, 1, 2, 0, 1, 2, 1, 2, 0, 1, 2, 3, 1, 2, 3, 2, 0, 1, 2, 0, 1, 2, 3, 1, 2, 3, 3, 4, 1, 2, 1, 2, 3, 1, 2, 3, 2, 3, 4, 1, 2, 3, 4, 1, 2, 2, 4, 2, 3, 4, 2, 3, 0, 1, 2, 1, 2, 3, 1, 2, 3, 4, 3, 2, 3, 4, 1, 2, 3, 4, 3, 4, 1, 2, 3, 1, 2, 3, 4, 0, 1, 2, 3, 1, 2, 3, 4, 0, 1, 2, 3, 4, 1, 2, 3, 0, 1, 2, 0, 1, 1, 2, 0, 1, 2, 2, 3, 4, 1, 2, 3, 0, 1, 2, 2, 3, 2, 3, 1, 2, 0, 1, 2, 3, 4, 1, 2, 3, 0, 1, 2, 3, 0, 1, 2, 3, 4, 2, 1, 2, 3, 4, 1, 2, 3, 0, 1, 2, 3, 1, 2, 3, 4, 1, 2, 3, 1, 2, 3, 2, 3, 0, 1, 2, 3, 4, 1, 2, 1, 2, 3, 1, 2, 3, 0, 1, 2, 3, 4, 2, 3, 4, 1, 2, 3, 1, 2, 1, 2, 3, 4, 2, 3, 4, 2, 0, 1, 2, 3, 1, 2, 3, 1, 2, 3, 2, 3, 2, 3, 4, 1, 2, 3, 2, 3, 4, 1, 2, 3, 4, 1, 2, 0, 1, 3, 0, 1, 2, 3, 0, 1, 2, 0, 1, 2, 3, 4, 0, 1, 2, 3, 2, 3, 4, 0, 1, 2, 1, 2, 3, 1, 2, 3, 1, 2, 1, 2, 3, 4, 0, 1, 2, 2, 3, 2, 3, 4, 1, 2, 3, 4, 0, 2, 3, 4, 1, 2, 3, 1, 2, 3, 4, 2, 3, 1, 2, 3, 2, 3, 4, 0, 1, 2, 1, 2, 2, 1, 2, 3, 0, 1, 2, 3, 1, 2, 1, 2, 3, 2, 3, 0, 1, 2, 3, 1, 2, 3, 1, 2, 3, 2, 3, 4, 2, 3, 4, 0, 1, 2, 3, 4, 2, 3, 4, 2, 3, 4, 1, 2, 3, 1, 2, 3, 0, 1, 2, 3, 4, 0, 1, 2, 2, 1, 2, 3, 2, 3, 4, 1, 2, 3, 4, 0, 1, 2, 3, 4, 0, 1, 2, 3, 2, 1, 2, 0, 1, 2, 1, 2, 2, 3, 4, 0, 1, 2, 3, 1, 2, 3, 0, 1, 2, 1, 2, 0, 1, 2, 1, 2, 2, 2, 3, 4, 0, 1, 2, 3, 3, 1, 2, 3, 2, 3, 1, 2, 3, 1, 2, 3, 4, 0, 1, 2, 3, 1, 2, 3, 4, 1, 2, 3, 2, 1, 2, 3, 0, 2, 3, 0, 1, 2, 1, 2, 3, 4, 0, 1, 2, 1, 2, 3, 3, 4, 2, 3, 2, 3, 4, 2, 3, 1, 2, 3, 4, 1, 2, 3, 0, 1, 2, 3, 0, 1, 2, 3, 1, 2, 3, 4, 0, 1, 2, 1, 2, 3, 1, 2, 3, 1, 2, 3, 4, 1, 2, 3, 4, 1, 2, 3, 4, 0, 1, 2, 0, 1, 2, 3, 0, 1, 2, 3, 1, 1, 2, 3, 2, 3, 4, 0, 1, 2, 3, 1, 2, 1, 2, 3, 4, 0, 1, 2, 3, 4, 1, 2, 3, 0, 4, 1, 2, 3, 4, 1, 2, 0, 1, 2, 3, 3, 4, 0, 1, 2, 3, 4, 0, 1, 2, 2, 3, 4, 1, 2, 3, 1, 2, 3, 1, 2, 2, 3, 4, 1, 2, 3, 1, 2, 2, 3, 2, 3, 4, 0, 1, 2, 1, 2, 1, 2, 3, 4, 1, 2, 3, 1, 2, 3, 4, 0, 1, 2, 3, 2, 4, 1, 2, 3, 0, 1, 2, 3, 4, 1, 2, 2, 3, 4, 0, 1, 2, 3, 2, 3, 4, 0, 1, 2, 0, 1, 2, 3, 0, 1, 2, 3, 4, 1, 2, 3, 1, 2, 3, 4, 1, 2, 3, 2, 4, 0, 1, 2, 3, 4, 0, 1, 2, 3, 2, 3, 4, 1, 2, 3, 4, 1, 2, 0, 1, 2, 2, 3, 4, 2, 3, 4, 1, 2, 3, 1, 2, 3, 4, 0, 1, 2, 3, 0, 1, 2, 2, 3, 4, 2, 3, 4, 1, 2, 3, 4, 1, 2, 3, 0, 1, 2, 3, 1, 2, 3, 4, 2, 3, 1, 2, 3, 4, 1, 2, 3, 4, 0, 1, 2, 1, 2, 3, 1, 2, 3, 0, 1, 2, 3, 2, 3, 4, 1, 2, 3, 4, 2, 3, 4, 2, 3, 4, 2, 3, 4, 2, 3, 1, 2, 3, 4, 0, 1, 2, 3, 0, 1, 2, 3, 1, 2, 3, 4, 1, 2, 3, 4, 0, 1, 2, 3, 0, 1, 2, 3, 1, 2, 2, 3, 1, 2, 3, 2, 3, 4, 1, 2, 3, 4, 1, 2, 1, 2, 3, 4, 2, 3, 4, 2, 3, 2, 1, 2, 3, 1, 2, 3, 0, 1, 2, 3, 0, 1, 2, 3, 1, 2, 3, 4, 1, 2, 3, 0, 1, 2, 3, 4, 1, 2, 3, 4, 0, 1, 2, 3, 1, 2, 3, 1, 2, 3, 4, 2, 3, 1, 2, 1, 2, 3, 4, 2, 3, 4, 2, 3, 4, 2, 3, 4, 1, 2, 3, 4, 2, 3, 0, 1, 2, 1, 2, 3, 4, 2, 3, 4, 0, 1, 2, 3, 1, 2, 3, 4, 0, 1, 2, 3, 1, 2, 3, 0, 2, 3, 2, 3, 2, 3, 2, 3, 4, 0, 1, 2, 3, 0, 1, 2, 0, 1, 2, 3, 0, 1, 2, 1, 2, 3, 0, 1, 2, 3, 1, 2, 3, 4, 2, 3, 4, 2, 3, 0, 1, 2, 3, 4, 1, 2, 3, 4, 2, 3, 1, 2, 3, 4, 2, 3, 1, 2, 3, 0, 1, 2, 3, 4, 3, 1, 2, 3, 4, 0, 1, 2, 3, 0, 1, 2, 3, 1, 2, 3, 4, 2, 3, 4, 1, 2, 3, 4, 1, 2, 3, 2, 3, 4, 2, 3, 4, 0, 1, 2, 2, 3, 4, 0, 1, 2, 3, 1, 2, 3, 0, 1, 2, 3, 2, 3, 4, 1, 2, 3, 4, 1, 2, 1, 2, 3, 0, 1, 2, 3, 1, 2, 3, 2, 3, 4, 1, 2, 3, 0, 1, 2, 3, 4, 0, 1, 2, 3, 0, 1, 2, 3, 1, 2, 3, 4, 1, 2, 3, 2, 3, 1, 2, 3, 4, 1, 2, 3, 1, 2, 3, 4, 2, 3, 4, 1, 2, 0, 1, 2, 1, 2, 3, 1, 2, 3, 0, 1, 2, 3, 0, 1, 2, 3, 1, 2, 3, 4, 0, 1, 2, 3, 0, 1, 2, 3, 4, 0, 1, 2, 0, 1, 2, 3, 0, 1, 2, 3, 1, 2, 3, 1, 2, 3, 0, 1, 2, 0, 1, 2, 2, 3, 4, 0, 1, 2, 3, 1, 2, 3, 1, 2, 3, 3, 4, 1, 2, 3, 1, 2, 3, 1, 2, 3, 4, 1, 2, 3, 4, 2, 3, 4, 2, 3, 4, 2, 3, 4, 2, 3, 2, 3, 0, 2, 3, 1, 2, 0, 1, 2, 2, 3, 4, 1, 2, 3, 1, 2, 2, 3, 4, 2, 2, 3, 4, 4, 2, 3, 4, 0, 1, 2, 0, 1, 1, 2, 3, 4, 0, 1, 2, 1, 2, 3, 3, 4, 1, 2, 1, 2, 3, 4, 2, 3, 1, 2, 1, 2, 3, 1, 2, 3, 4, 1, 2, 3, 4, 0, 1, 2, 1, 2, 3, 4, 2, 3, 4, 1, 2, 3, 2, 3, 1, 2, 2, 3, 2, 3, 4, 0, 1, 2, 3, 0, 1, 2, 1, 2, 3, 0, 1, 2, 0, 1, 2, 3, 4, 0, 1, 2, 3, 1, 2, 3, 1, 2, 3, 3, 1, 2, 3, 4, 0, 1, 2, 2, 2, 3, 2, 3, 4, 2, 3, 4, 0, 1, 2, 3, 0, 1, 2, 0, 1, 2, 3, 2, 3, 4, 0, 1, 2, 0, 1, 2, 3, 2, 3, 4, 1, 2, 2, 3, 4, 1, 2, 2, 3, 4, 0, 1, 2, 0, 1, 2, 1, 2, 3, 2, 3, 4, 1, 2, 3, 0, 1, 2, 2, 3, 0, 1, 2, 3, 4, 1, 2, 3, 2, 3, 4, 1, 2, 3, 4, 2, 3, 0, 1, 2, 0, 1, 2, 3, 2, 3, 4, 1, 2, 1, 2, 3, 0, 1, 1, 2, 1, 2, 3, 4, 4, 0, 1, 2, 1, 2, 3, 2, 3, 0, 2, 1, 2, 3, 1, 2, 3, 0, 1, 2, 0, 1, 2, 3, 0, 1, 2, 3, 2, 3, 4, 0, 1, 2, 0, 1, 2, 0, 1, 2, 3, 0, 1, 2, 2, 3, 1, 2, 3, 4, 2, 3, 2, 3, 2, 3, 4, 1, 2, 3, 4, 1, 2, 3, 0, 1, 2, 3, 1, 2, 3, 0, 1, 2, 3, 1, 2, 3, 0, 1, 2, 3, 4, 2, 3, 4, 1, 2, 3, 0, 1, 2, 3, 0, 1, 2, 3, 4, 0, 1, 2, 3, 1, 2, 2, 3, 4, 1, 2, 3, 1, 2, 2, 3, 2, 3, 2, 3, 4, 0, 1, 2, 3, 1, 2, 3, 4, 1, 2, 3, 0, 1, 2, 0, 1, 2, 2, 3, 3, 4, 1, 2, 3, 0, 1, 2, 1, 2, 3, 1, 2, 2, 0, 1, 1, 2, 3, 4, 1, 2, 3, 4, 0, 1, 2, 3, 1, 2, 2, 3, 0, 1, 2, 3, 2, 0, 1, 2, 1, 2, 3, 1, 2, 3, 2, 3, 4, 2, 3, 1, 2, 3, 1, 2, 3, 0, 1, 2, 3, 0, 1, 2, 3, 4, 2, 3, 0, 1, 1, 2, 0, 1, 2, 0, 1, 2, 2, 3, 4, 1, 2, 3, 4, 0, 1, 2, 3, 4, 1, 2, 3, 1, 2, 3, 1, 2, 3, 0, 1, 2, 3, 1, 2, 3, 4, 2, 3, 0, 1, 2, 3, 2, 3, 2, 3, 4, 0, 1, 2, 3, 0, 1, 2, 0, 1, 2, 0, 1, 2, 3, 1, 2, 3, 4, 2, 3, 4, 1, 2, 3, 0, 1, 2, 3, 1, 2, 3, 4, 1, 2, 3, 1, 2, 3, 4, 1, 2, 3, 1, 2, 3, 4, 1, 2, 3, 4, 1, 2, 3, 4, 2, 3, 4, 2, 3, 4, 2, 3, 4, 0, 1, 2, 3, 1, 2, 3, 4, 0, 1, 2, 3, 0, 1, 2, 3, 2, 3, 1, 3, 2, 3, 4, 2, 3, 2, 3, 4, 2, 3, 4, 1, 2, 3, 4, 1, 2, 3, 2, 3, 4, 2, 3, 1, 2, 1, 2, 3, 3, 4, 0, 1, 2, 3, 0, 1, 2, 0, 1, 2, 3, 2, 3, 4, 1, 2, 3, 1, 2, 3, 1, 2, 3, 1, 2, 3, 0, 1, 2, 3, 2, 3, 4, 2, 3, 4, 0, 1, 2, 1, 2, 3, 2, 3, 0, 1, 2, 0, 1, 2, 3, 2, 3, 4, 3, 4, 3, 4, 2, 3, 4, 2, 3, 1, 2, 2, 3, 1, 2, 3, 1, 2, 3, 4, 2, 3, 4, 2, 3, 4, 0, 2, 3, 4, 2, 3, 4, 1, 2, 3, 4, 1, 2, 2, 3, 0, 1, 2, 3, 4, 2, 3, 4, 0, 1, 2, 2, 3, 4, 0, 1, 2, 3, 4, 2, 3, 4, 2, 3, 4, 2, 3, 4, 0, 1, 2, 1, 2, 3, 4, 2, 3, 4, 1, 2, 3, 4, 2, 3, 1, 2, 3, 4, 0, 1, 2, 3, 4, 1, 2, 3, 2, 3, 1, 2, 0, 1, 2, 1, 2, 3, 2, 3, 4, 0, 1, 2, 3, 1, 2, 3, 0, 1, 2, 3, 4, 0, 1, 2, 3, 1, 1, 2, 3, 4, 1, 2, 3, 1, 2, 0, 1, 2, 0, 1, 2, 2, 3, 4, 2, 3, 4, 1, 2, 3, 0, 1, 2, 0, 1, 2, 3, 4, 1, 2, 0, 1, 2, 1, 2, 0, 1, 2, 0, 1, 2, 2, 3, 4, 2, 3, 4, 1, 2, 3, 4, 1, 2, 3, 4, 1, 2, 3, 1, 2, 3, 0, 1, 2, 3, 1, 2, 3, 4, 2, 3, 0, 1, 2, 1, 2, 3, 1, 2, 3, 2, 1, 2, 2, 3, 4, 1, 2, 3, 0, 1, 2, 1, 2, 3, 2, 3, 4, 1, 2, 3, 4, 1, 2, 3, 0, 1, 2, 1, 2, 3, 1, 2, 1, 2, 3, 1, 2, 3, 0, 1, 2, 0, 1, 2, 3, 1, 2, 3, 1, 2, 3, 4, 3, 0, 1, 2, 0, 1, 2, 3, 4, 1, 2, 3, 4, 1, 2, 2, 3, 4, 0, 1, 2, 3, 1, 2, 3, 1, 2, 3, 4, 1, 2, 3, 2, 3, 4, 1, 2, 3, 1, 2, 2, 3, 4, 1, 2, 3, 4, 2, 3, 2, 0, 1, 2, 3, 0, 1, 2, 1, 2, 3, 1, 2, 1, 2, 3, 2, 3, 2, 3, 0, 1, 2, 3, 2, 3, 1, 2, 3, 4, 0, 1, 2, 1, 0, 1, 2, 0, 1, 2, 3, 1, 2, 3, 1, 2, 3, 3, 4, 1, 2, 3, 4, 1, 2, 3, 4, 2, 3, 1, 2, 3, 4, 2, 3, 4, 2, 3, 4, 3, 0, 1, 2, 4, 0, 1, 2, 0, 1, 2, 2, 3, 0, 1, 2, 3, 1, 2, 3, 0, 1, 2, 3, 2, 3, 4, 2, 3, 0, 1, 2, 3, 1, 2, 3, 2, 3, 4, 1, 2, 3, 4, 0, 1, 2, 2, 3, 2, 2, 3, 1, 2, 3, 1, 2, 3, 2, 3, 4, 1, 2, 3, 4, 0, 1, 2, 3, 4, 0, 1, 2, 3, 2, 3, 4, 0, 1, 0, 1, 2, 3, 4, 3, 4, 2, 3, 0, 1, 2, 3, 4, 1, 2, 3, 4, 1, 2, 1, 2, 1, 2, 3, 1, 2, 3, 1, 2, 3, 4, 1, 2, 3, 4, 1, 2, 3, 4, 1, 2, 2, 3, 2, 3, 4, 2, 3, 4, 2, 3, 4, 0, 1, 2, 3, 1, 2, 3, 0, 1, 2, 3, 4, 1, 2, 3, 4, 0, 1, 2, 1, 2, 3, 2, 3, 4, 0, 1, 2, 1, 2, 3, 0, 1, 2, 3, 4, 1, 2, 3, 0, 1, 2, 3, 4, 3, 4, 1, 2, 3, 2, 3, 4, 1, 2, 3, 0, 1, 2, 3, 2, 3, 4, 2, 3, 4, 1, 2, 3, 4, 1, 2, 3, 1, 2, 3, 0, 1, 2, 2, 3, 2, 3, 4, 1, 2, 1, 2, 3, 1, 2, 3, 0, 1, 2, 3, 1, 2, 3, 1, 2, 3, 0, 1, 1, 2, 3, 4, 1, 2, 1, 2, 3, 0, 1, 2, 3, 2, 3, 0, 1, 2, 3, 4, 1, 2, 1, 2, 3, 1, 2, 0, 2, 2, 3, 4, 0, 1, 2, 3, 0, 1, 2, 1, 2, 3, 2, 3, 4, 3, 0, 1, 2, 3, 2, 3, 4, 3, 4, 0, 1, 2, 3, 4, 0, 1, 2, 3, 1, 2, 0, 1, 2, 3, 2, 3, 4, 1, 2, 3, 4, 1, 2, 3, 0, 1, 2, 1, 2, 3, 0, 1, 2, 3, 1, 2, 3, 4, 2, 3, 4, 1, 2, 3, 4, 0, 1, 2, 0, 1, 2, 3, 0, 1, 2, 3, 0, 1, 2, 3, 4, 1, 2, 3, 2, 3, 1, 2, 3, 4, 1, 2, 3, 0, 1, 2, 3, 1, 2, 3, 1, 2, 3, 0, 1, 2, 2, 3, 4, 0, 0, 1, 2, 4, 0, 1, 2, 3, 4, 2, 3, 4, 0, 1, 2, 3, 1, 2, 3, 4, 0, 1, 2, 3, 0, 1, 2, 3, 2, 3, 0, 1, 3, 0, 1, 2, 3, 2, 3, 2, 4, 0, 1, 2, 3, 4, 1, 2, 3, 4, 1, 2, 3, 1, 2, 3, 0, 1, 2, 3, 0, 1, 2, 3, 1, 2, 1, 2, 3, 4, 2, 3, 1, 2, 3, 4, 2, 3, 2, 3, 4, 0, 1, 2, 3, 2, 3, 4, 0, 1, 2, 3, 1, 2, 3, 0, 1, 2, 3, 4, 1, 2, 3, 4, 0, 1, 2, 3, 4, 1, 2, 1, 2, 0, 1, 2, 3, 4, 1, 2, 3, 4, 0, 1, 2, 1, 2, 1, 2, 3, 2, 3, 4, 2, 3, 4, 2, 3, 4, 1, 2, 3, 4, 0, 1, 2, 3, 2, 4, 1, 2, 3, 3, 4, 2, 3, 2, 3, 4, 0, 1, 2, 3, 1, 2, 0, 1, 0, 1, 2, 3, 2, 3, 4, 2, 3, 4, 2, 3, 0, 1, 2, 2, 3, 4, 0, 1, 2, 4, 0, 1, 2, 3, 1, 2, 3, 2, 3, 4, 1, 2, 3, 0, 1, 2, 3, 4, 1, 2, 1, 2, 0, 1, 2, 3, 1, 1, 2, 3, 4, 1, 2, 3, 0, 2, 3, 4, 1, 2, 3, 1, 2, 3, 4, 0, 2, 1, 2, 0, 1, 2, 3, 4, 0, 1, 2, 3, 3, 4, 2, 3, 4, 1, 2, 1, 2, 3, 1, 2, 1, 2, 3, 4, 2, 3, 1, 2, 3, 0, 1, 2, 3, 0, 1, 0, 1, 2, 3, 1, 2, 3, 2, 3, 4, 1, 2, 3, 1, 2, 0, 1, 2, 3, 4, 1, 2, 3, 2, 3, 4, 0, 1, 2, 3, 1, 2, 3, 0, 1, 2, 3, 2, 3, 4, 0, 1, 2, 3, 1, 2, 3, 1, 2, 3, 2, 3, 2, 3, 2, 4, 0, 1, 2, 3, 1, 2, 3, 4, 1, 2, 4, 0, 1, 2, 2, 3, 4, 2, 3, 4, 2, 3, 4, 1, 2, 3, 1, 2, 3, 4, 2, 3, 4, 1, 2, 3, 3, 4, 1, 2, 1, 2, 3, 4, 3, 4, 2, 3, 4, 3, 4, 3, 1, 0, 3, 4, 2, 3, 4, 0, 1, 2, 3, 2, 3, 4, 1, 2, 3, 2, 3, 2, 0, 1, 2, 3, 4, 1, 2, 3, 0, 1, 2, 3, 1, 2, 3, 4, 2, 3, 1, 2, 3, 4, 4, 0, 1, 2, 2, 3, 0, 2, 3, 0, 1, 2, 3, 1, 2, 3, 4, 2, 3, 4, 0, 2, 2, 3, 4, 1, 2, 3, 4, 1, 2, 3, 4, 0, 1, 2, 3, 4, 1, 2, 1, 2, 3, 0, 1, 2, 3, 0, 2, 3, 2, 3, 4, 0, 1, 2, 3, 4, 2, 3, 4, 0, 1, 2, 3, 2, 3, 4, 1, 2, 3, 2, 3, 4, 1, 2, 3, 1, 2, 3, 4, 0, 1, 2, 2, 3, 0, 1, 2, 2, 3, 4, 2, 3, 4, 1, 2, 3, 4, 1, 2, 0, 1, 2, 3, 4, 1, 2, 3, 4, 1, 2, 3, 4, 2, 3, 0, 1, 2, 3, 4, 2, 3, 4, 1, 2, 3, 0, 1, 2, 3, 1, 2, 3, 4, 2, 3, 4, 1, 2, 3, 4, 2, 3, 4, 1, 2, 3, 4, 2, 3, 1, 2, 3, 1, 2, 3, 4, 1, 2, 3, 0, 1, 2, 3, 4, 0, 1, 2, 3, 4, 1, 2, 3, 2, 3, 0, 1, 2, 3, 0, 1, 2, 0, 1, 2, 3, 1, 2, 3, 1, 2, 3, 4, 0, 1, 2, 3, 0, 1, 2, 1, 2, 3, 4, 2, 3, 4, 0, 1, 2, 3, 2, 3, 4, 1, 2, 3, 4, 0, 1, 2, 1, 2, 1, 2, 3, 0, 1, 2, 3, 4, 0, 1, 2, 3, 1, 2, 2, 3, 4, 1, 2, 2, 3, 4, 1, 2, 3, 1, 2, 3, 4, 1, 2, 3, 1, 2, 3, 2, 3, 2, 3, 4, 0, 1, 2, 1, 2, 3, 4, 1, 2, 4, 1, 2, 3, 0, 1, 2, 1, 2, 0, 1, 2, 1, 2, 3, 2, 3, 4, 2, 3, 4, 1, 2, 3, 4, 1, 2, 3, 4, 1, 2, 1, 2, 3, 1, 2, 3, 0, 1, 1, 2, 3, 1, 2, 3, 0, 1, 2, 0, 1, 2, 1, 2, 3, 4, 1, 2, 3, 0, 1, 2, 3, 0, 1, 2, 3, 0, 1, 2, 3, 3, 4, 0, 1, 2, 3, 0, 1, 2, 4, 1, 2, 0, 1, 1, 2, 3, 2, 3, 4, 1, 2, 3, 4, 2, 3, 1, 2, 3, 1, 2, 3, 2, 3, 4, 2, 0, 1, 2, 3, 0, 1, 2, 1, 2, 3, 0, 1, 2, 3, 1, 2, 3, 3, 4, 2, 3, 2, 3, 4, 0, 1, 2, 1, 2, 3, 1, 2, 3, 1, 2, 3, 4, 2, 2, 3, 4, 2, 3, 4, 2, 3, 4, 1, 2, 3, 1, 2, 3, 0, 1, 2, 2, 3, 4, 0, 1, 2, 3, 4, 0, 1, 2, 3, 4, 1, 2, 3, 1, 2, 3, 0, 1, 2, 3, 4, 2, 3, 4, 0, 1, 2, 2, 3, 4, 0, 1, 2, 2, 3, 4, 1, 2, 3, 3, 4, 3, 1, 2, 1, 2, 0, 1, 2, 3, 2, 3, 4, 1, 2, 3, 2, 3, 4, 1, 2, 3, 4, 0, 1, 1, 2, 3, 0, 1, 2, 3, 1, 2, 3, 4, 0, 1, 2, 0, 1, 2, 3, 4, 1, 2, 3, 4, 1, 2, 3, 4, 1, 2, 3, 4, 1, 2, 3, 1, 2, 3, 0, 1, 2, 3, 1, 2, 3, 0, 1, 2, 0, 1, 2, 3, 4, 0, 1, 2, 3, 0, 1, 2, 3, 2, 3, 4, 2, 3, 0, 1, 2, 3, 1, 2, 3, 4, 1, 2, 3, 4, 2, 3, 4, 0, 1, 2, 3, 2, 3, 4, 1, 2, 1, 2, 1, 2, 3, 0, 1, 2, 3, 1, 2, 2, 3, 4, 0, 1, 2, 3, 4, 0, 1, 2, 2, 3, 4, 1, 2, 3, 4, 1, 2, 3, 2, 3, 4, 1, 2, 3, 4, 1, 2, 0, 1, 2, 0, 1, 2, 3, 1, 2, 3, 4, 0, 1, 2, 0, 1, 2, 3, 4, 0, 1, 2, 3, 0, 1, 2, 3, 1, 2, 1, 2, 3, 4, 0, 1, 2, 3, 4, 2, 3, 4, 1, 2, 0, 1, 2, 3, 1, 2, 1, 2, 1, 2, 3, 1, 2, 3, 4, 0, 1, 2, 3, 0, 1, 2, 3, 1, 2, 3, 1, 2, 3, 1, 2, 1, 2, 3, 4, 1, 2, 3, 1, 2, 3, 2, 3, 4, 0, 1, 2, 1, 2, 3, 0, 1, 2, 3, 1, 2, 0, 1, 2, 0, 1, 2, 0, 1, 2, 3, 2, 3, 1, 2, 3, 2, 3, 1, 2, 3, 0, 1, 2, 3, 4, 0, 1, 2, 3, 0, 1, 2, 3, 1, 2, 1, 2, 3, 4, 0, 2, 3, 0, 1, 2, 0, 1, 2, 3, 1, 2, 3, 1, 2, 3, 1, 2, 3, 2, 3, 4, 0, 1, 2, 3, 1, 2, 3, 1, 2, 4, 2, 3, 4, 0, 1, 2, 3, 1, 2, 3, 4, 1, 2, 3, 4, 1, 2, 3, 2, 3, 4, 1, 2, 3, 4, 0, 1, 2, 2, 3, 0, 1, 1, 2, 3, 2, 3, 2, 3, 4, 1, 2, 3, 4, 1, 2, 3, 1, 2, 3, 0, 1, 2, 1, 2, 3, 2, 3, 4, 1, 2, 3, 2, 3, 4, 1, 2, 3, 4, 1, 2, 3, 1, 2, 0, 1, 2, 3, 0, 1, 2, 3, 4, 1, 1, 2, 3, 2, 3, 4, 0, 1, 2, 3, 1, 2, 3, 4, 0, 1, 2, 2, 3, 4, 1, 2, 3, 4, 0, 1, 2, 3, 2, 3, 4, 0, 1, 2, 3, 1, 2, 3, 0, 1, 2, 3, 4, 0, 1, 2, 3, 4, 2, 0, 1, 2, 1, 2, 3, 3, 4, 1, 2, 3, 2, 3, 1, 2, 3, 1, 2, 3, 0, 1, 2, 2, 3, 4, 1, 2, 3, 4, 3, 4, 1, 2, 1, 2, 3, 4, 1, 2, 3, 1, 2, 3, 0, 1, 2, 2, 3, 0, 1, 2, 3, 1, 2, 3, 4, 2, 3, 4, 1, 2, 3, 4, 1, 2, 3, 1, 2, 3, 1, 2, 2, 3, 4, 0, 1, 2, 3, 4, 1, 2, 3, 4, 1, 2, 0, 1, 2, 3, 4, 1, 2, 3, 2, 2, 3, 1, 0, 1, 2, 3, 0, 1, 2, 3, 1, 2, 3, 4, 2, 3, 1, 2, 2, 3, 4, 0, 1, 2, 3, 4, 0, 1, 2, 3, 0, 1, 2, 3, 3, 4, 1, 2, 3, 1, 2, 3, 4, 1, 2, 1, 2, 3, 2, 3, 0, 1, 3, 0, 1, 2, 3, 0, 1, 2, 3, 1, 2, 3, 2, 3, 4, 4, 2, 3, 4, 2, 3, 2, 3, 4, 1, 2, 3, 4, 2, 3, 4, 2, 2, 3, 4, 3, 4, 1, 2, 3, 1, 2, 1, 2, 1, 2, 3, 1, 2, 3, 1, 2, 3, 4, 1, 2, 3, 4, 2, 3, 4, 1, 2, 3, 2, 3, 4, 2, 3, 2, 3, 4, 1, 2, 3, 4, 2, 3, 4, 2, 3, 4, 0, 1, 2, 3, 0, 1, 2, 1, 2, 3, 2, 0, 1, 2, 3, 1, 2, 3, 1, 2, 3, 2, 3, 4, 0, 1, 2, 3, 1, 2, 3, 0, 1, 2, 0, 1, 2, 3, 2, 3, 1, 2, 1, 2, 1, 2, 1, 2, 3, 1, 2, 3, 0, 1, 2, 0, 1, 2, 3, 0, 1, 2, 3, 1, 2, 3, 4, 1, 2, 3, 2, 0, 1, 2, 3, 2, 3, 4, 0, 1, 2, 1, 2, 0, 1, 2, 3, 1, 2, 3, 1, 2, 3, 4, 2, 3, 4, 1, 2, 2, 3, 1, 2, 3, 1, 2, 3, 4, 2, 3, 4, 1, 2, 3, 4, 2, 3, 4, 3, 4, 2, 3, 2, 3, 2, 3, 4, 2, 0, 1, 2, 1, 2, 3, 1, 2, 3, 1, 2, 3, 2, 3, 4, 1, 2, 3, 1, 2, 3, 1, 2, 3, 4, 1, 2, 2, 3, 4, 0, 1, 2, 3, 0, 1, 2, 3, 2, 3, 4, 0, 1, 2, 3, 2, 3, 1, 2, 3, 4, 1, 2, 3, 2, 1, 2, 2, 3, 4, 2, 3, 4, 1, 2, 3, 4, 0, 1, 2, 2, 3, 4, 1, 2, 3, 0, 1, 2, 3, 1, 2, 3, 1, 2, 3, 4, 1, 2, 3, 2, 3, 1, 2, 3, 1, 2, 1, 2, 3, 0, 1, 2, 3, 2, 3, 2, 3, 4, 2, 3, 0, 1, 2, 3, 2, 3, 4, 2, 3, 4, 1, 2, 3, 0, 1, 2, 3, 2, 3, 4, 0, 1, 2, 3, 1, 2, 3, 4, 0, 2, 3, 0, 1, 2, 3, 2, 3, 4, 1, 2, 3, 4, 2, 3, 1, 2, 3, 0, 1, 2, 1, 2, 3, 1, 2, 1, 2, 3, 4, 0, 1, 2, 3, 2, 3, 2, 3, 4, 1, 2, 3, 4, 2, 3, 4, 1, 2, 3, 4, 0, 1, 2, 3, 0, 1, 2, 3, 1, 2, 3, 4, 1, 2, 3, 1, 2, 3, 4, 1, 2, 3, 4, 0, 1, 2, 1, 2, 3, 0, 1, 2, 3, 4, 1, 2, 1, 2, 3, 2, 3, 4, 1, 2, 3, 2, 3, 4, 0, 1, 2, 2, 3, 4, 1, 2, 3, 1, 2, 3, 0, 1, 2, 2, 3, 4, 2, 3, 1, 2, 3, 1, 2, 4, 0, 1, 2, 3, 1, 2, 3, 2, 3, 4, 0, 1, 2, 0, 1, 2, 3, 4, 0, 1, 2, 0, 1, 2, 3, 0, 1, 2, 1, 2, 3, 4, 2, 3, 4, 1, 2, 3, 2, 3, 0, 1, 2, 2, 3, 4, 2, 3, 4, 1, 2, 3, 2, 3, 4, 0, 1, 2, 0, 1, 2, 3, 1, 2, 3, 4, 0, 1, 2, 3, 4, 2, 3, 0, 1, 2, 0, 1, 2, 3, 4, 0, 1, 2, 0, 1, 2, 0, 1, 2, 2, 3, 0, 1, 2, 3, 0, 1, 2, 3, 0, 1, 2, 1, 2, 2, 3, 4, 1, 2, 3, 4, 0, 1, 2, 3, 1, 2, 3, 1, 2, 3, 4, 0, 1, 2, 3, 1, 2, 1, 2, 3, 2, 3, 2, 3, 4, 2, 3, 1, 2, 3, 1, 2, 1, 2, 3, 3, 4, 1, 2, 3, 0, 1, 2, 2, 3, 0, 1, 2, 2, 2, 3, 4, 2, 3, 4, 1, 3, 2, 3, 1, 2, 3, 1, 2, 3, 4, 1, 2, 3, 4, 0, 1, 2, 3, 0, 1, 2, 0, 1, 2, 3, 2, 3, 4, 2, 3, 4, 2, 3, 4, 2, 3, 1, 2, 3, 1, 2, 3, 1, 2, 1, 2, 3, 1, 2, 3, 2, 3, 4, 0, 1, 2, 3, 2, 3, 4, 2, 2, 3, 4, 1, 2, 0, 1, 2, 1, 2, 3, 0, 1, 2, 3, 1, 2, 2, 3, 4, 0, 1, 2, 3, 2, 3, 1, 2, 3, 0, 1, 2, 3, 2, 3, 4, 2, 3, 4, 2, 3, 4, 0, 1, 2, 3, 0, 1, 2, 0, 1, 2, 0, 1, 2, 1, 2, 1, 2, 3, 4, 0, 1, 2, 1, 2, 0, 1, 2, 3, 0, 1, 2, 3, 0, 1, 2, 3, 0, 2, 3, 4, 2, 3, 4, 1, 2, 3, 4, 1, 2, 3, 0, 1, 2, 1, 2, 3, 4, 0, 1, 2, 3, 4, 0, 1, 2, 1, 2, 3, 2, 3, 4, 2, 3, 4, 3, 4, 0, 1, 2, 1, 2, 3, 2, 3, 4, 0, 1, 2, 1, 2, 3, 1, 2, 0, 1, 2, 0, 1, 2, 3, 0, 1, 2, 3, 2, 3, 4, 1, 2, 3, 4, 1, 2, 3, 2, 3, 4, 2, 3, 1, 2, 1, 2, 0, 1, 2, 0, 1, 2, 0, 1, 2, 2, 3, 4, 0, 1, 2, 0, 1, 2, 3, 0, 1, 0, 1, 2, 3, 4, 1, 2, 3, 4, 0, 1, 2, 1, 2, 3, 4, 1, 2, 3, 2, 3, 4, 1, 2, 3, 4, 2, 2, 1, 2, 1, 2, 3, 4, 1, 2, 3, 4, 1, 2, 3, 4, 1, 2, 3, 1, 2, 3, 1, 2, 3, 4, 1, 2, 1, 2, 3, 1, 2, 3, 4, 0, 1, 2, 3, 0, 1, 2, 0, 1, 2, 1, 2, 3, 2, 3, 4, 0, 1, 2, 3, 4, 0, 1, 2, 0, 1, 2, 3, 1, 2, 3, 0, 1, 2, 3, 4, 1, 2, 3, 4, 1, 2, 1, 2, 3, 4, 0, 1, 2, 3, 2, 3, 4, 1, 2, 3, 2, 3, 4, 0, 1, 2, 3, 4, 2, 3, 1, 2, 3, 2, 3, 4, 2, 3, 4, 1, 2, 3, 2, 1, 2, 0, 1, 2, 0, 1, 2, 3, 1, 2, 3, 2, 3, 4, 0, 2, 0, 1, 2, 1, 2, 3, 0, 1, 2, 3, 1, 2, 3, 4, 0, 1, 2, 1, 2, 3, 0, 1, 2, 3, 1, 2, 3, 1, 2, 2, 3, 4, 1, 2, 3, 4, 0, 1, 2, 0, 1, 2, 3, 0, 1, 2, 3, 4, 0, 1, 2, 3, 1, 2, 3, 1, 2, 3, 4, 0, 1, 2, 1, 2, 3, 2, 3, 1, 2, 3, 4, 2, 3, 4, 1, 2, 3, 0, 1, 2, 3, 0, 1, 2, 3, 4, 1, 3, 4, 0, 1, 2, 3, 0, 1, 2, 0, 1, 2, 4, 0, 1, 2, 3, 1, 2, 3, 4, 0, 1, 2, 3, 1, 2, 3, 4, 0, 1, 2, 2, 3, 4, 0, 1, 2, 2, 3, 4, 1, 2, 3, 4, 0, 1, 2, 3, 0, 1, 2, 3, 1, 2, 3, 0, 1, 2, 1, 2, 0, 1, 2, 3, 2, 3, 0, 1, 2, 3, 1, 2, 3, 0, 1, 2, 3, 4, 2, 3, 4, 0, 1, 0, 1, 2, 1, 2, 3, 1, 2, 1, 2, 3, 4, 1, 2, 3, 4, 2, 3, 4, 1, 2, 1, 2, 3, 0, 1, 2, 1, 2, 3, 2, 2, 3, 4, 3, 4, 0, 1, 2, 1, 2, 3, 2, 3, 4, 0, 1, 2, 3, 1, 2, 3, 0, 1, 2, 3, 0, 1, 2, 3, 1, 2, 3, 1, 2, 3, 0, 1, 2, 0, 1, 2, 3, 2, 3, 4, 1, 2, 0, 1, 2, 0, 1, 2, 3, 1, 2, 3, 1, 2, 3, 4, 2, 3, 1, 2, 3, 2, 3, 4, 0, 1, 2, 3, 2, 3, 4, 1, 2, 3, 4, 2, 3, 4, 0, 1, 2, 2, 3, 4, 2, 3, 0, 1, 2, 1, 2, 2, 3, 0, 1, 2, 3, 1, 2, 3, 4, 1, 2, 3, 2, 1, 2, 3, 0, 1, 2, 3, 1, 2, 3, 2, 3, 2, 3, 4, 3, 4, 0, 1, 2, 3, 1, 2, 0, 1, 2, 3, 0, 1, 1, 2, 3, 4, 1, 2, 3, 4, 2, 3, 2, 3, 4, 1, 2, 3, 1, 2, 3, 2, 3, 0, 1, 2, 3, 0, 1, 2, 1, 2, 3, 2, 3, 2, 3, 1, 2, 3, 0, 1, 2, 3, 1, 2, 3, 4, 0, 1, 2, 0, 1, 2, 3, 1, 2, 3, 1, 2, 3, 0, 1, 2, 0, 1, 2, 3, 4, 0, 1, 2, 3, 1, 2, 3, 0, 1, 2, 1, 3, 1, 2, 3, 1, 2, 3, 1, 2, 1, 2, 3, 2, 3, 0, 1, 2, 0, 2, 3, 1, 2, 3, 4, 2, 0, 1, 1, 2, 3, 1, 2, 3, 0, 1, 2, 2, 3, 0, 1, 2, 3, 2, 3, 4, 2, 3, 4, 1, 2, 3, 4, 1, 2, 3, 1, 2, 3, 4, 0, 1, 2, 3, 4, 2, 3, 2, 3, 4, 1, 2, 3, 4, 0, 1, 2, 3, 1, 2, 3, 2, 0, 1, 2, 3, 2, 3, 4, 1, 2, 3, 1, 2, 3, 4, 2, 3, 4, 1, 2, 3, 4, 0, 1, 2, 0, 1, 2, 0, 1, 2, 3, 0, 1, 2, 3, 1, 2, 3, 1, 2, 1, 2, 3, 0, 1, 2, 3, 1, 2, 3, 4, 0, 1, 2, 1, 2, 2, 3, 4, 0, 1, 2, 3, 0, 1, 2, 0, 1, 2, 3, 1, 2, 3, 4, 2, 3, 4, 2, 3, 0, 1, 0, 2, 3, 4, 1, 2, 3, 4, 1, 2, 3, 4, 1, 2, 3, 0, 1, 2, 3, 2, 3, 4, 1, 1, 2, 3, 2, 3, 0, 1, 2, 3, 0, 1, 2, 3, 1, 2, 3, 1, 2, 3, 3, 4, 1, 2, 3, 4, 0, 1, 2, 3, 2, 3, 4, 2, 3, 4, 1, 2, 3, 1, 0, 1, 2, 2, 3, 4, 2, 3, 4, 1, 2, 3, 0, 1, 2, 3, 1, 0, 1, 2, 3, 2, 3, 0, 1, 2, 3, 0, 1, 2, 1, 2, 3, 4, 0, 1, 2, 3, 2, 3, 4, 0, 1, 2, 1, 2, 3, 2, 3, 4, 1, 2, 3, 4, 2, 3, 4, 0, 1, 2, 1, 2, 3, 4, 2, 3, 4, 1, 2, 3, 4, 0, 1, 2, 3, 1, 2, 3, 2, 3, 1, 2, 3, 0, 1, 2, 3, 1, 2, 3, 4, 2, 3, 4, 1, 2, 3, 4, 1, 2, 3, 4, 2, 3, 1, 2, 3, 0, 1, 2, 3, 1, 2, 3, 1, 2, 3, 2, 3, 1, 2, 3, 1, 2, 3, 4, 0, 1, 2, 3, 2, 3, 4, 1, 2, 3, 4, 2, 3, 2, 3, 0, 1, 2, 3, 2, 3, 4, 2, 3, 4, 3, 4, 0, 1, 2, 3, 4, 1, 2, 3, 1, 2, 3, 0, 1, 2, 3, 0, 1, 2, 3, 4, 1, 2, 3, 4, 2, 3, 1, 2, 0, 1, 2, 3, 1, 2, 3, 0, 1, 1, 1, 2, 3, 0, 1, 2, 3, 4, 3, 4, 0, 1, 2, 3, 1, 2, 1, 2, 3, 4, 1, 2, 3, 1, 2, 1, 2, 3], \"x0\": \" \", \"xaxis\": \"x\", \"y\": [4, 56, 3, 8, 6, 4, 2, 7, 25, 1, 9, 19, 9, 3, 2, 4, 4, 1, 18, 7, 6, 3, 7, 5, 26, 8, 6, 6, 3, 3, 6, 12, 16, 5, 2, 1, 4, 38, 3, 5, 2, 4, 3, 32, 8, 1, 1, 12, 2, 1, 1, 5, 11, 13, 5, 9, 6, 32, 8, 3, 4, 14, 2, 4, 11, 6, 3, 3, 1, 51, 4, 6, 21, 1, 2, 30, 7, 1, 13, 2, 4, 16, 2, 1, 1, 15, 4, 31, 10, 4, 18, 2, 3, 16, 9, 1, 2, 6, 1, 2, 11, 18, 2, 2, 27, 5, 1, 1, 9, 17, 1, 1, 18, 5, 2, 1, 15, 14, 2, 1, 9, 5, 5, 1, 5, 10, 10, 2, 1, 27, 9, 1, 6, 4, 1, 2, 8, 15, 10, 1, 22, 7, 3, 17, 6, 8, 4, 10, 3, 9, 4, 18, 8, 3, 1, 15, 6, 1, 2, 8, 12, 2, 10, 12, 6, 4, 17, 2, 13, 1, 5, 23, 3, 11, 31, 3, 5, 4, 20, 5, 2, 6, 17, 1, 2, 5, 7, 3, 5, 2, 1, 2, 6, 2, 18, 10, 1, 27, 12, 3, 9, 4, 3, 1, 7, 22, 1, 1, 21, 6, 2, 10, 14, 3, 14, 5, 2, 8, 7, 3, 6, 12, 23, 3, 1, 11, 18, 4, 7, 2, 4, 4, 29, 4, 4, 26, 4, 1, 3, 15, 2, 15, 9, 4, 2, 5, 6, 4, 1, 5, 16, 1, 2, 5, 7, 13, 1, 1, 10, 25, 1, 7, 3, 4, 2, 3, 7, 5, 24, 11, 5, 45, 8, 2, 17, 4, 8, 1, 6, 2, 1, 5, 3, 1, 9, 20, 7, 9, 7, 1, 8, 5, 4, 14, 9, 9, 21, 1, 2, 8, 13, 2, 2, 9, 8, 1, 2, 11, 22, 3, 1, 2, 16, 2, 8, 7, 15, 1, 10, 3, 3, 11, 9, 12, 4, 9, 14, 2, 1, 6, 7, 3, 6, 10, 2, 10, 27, 1, 13, 10, 1, 5, 25, 11, 1, 6, 1, 2, 9, 1, 4, 27, 7, 17, 6, 4, 2, 7, 24, 4, 7, 5, 12, 1, 9, 19, 1, 4, 11, 18, 2, 1, 13, 26, 2, 13, 10, 25, 2, 1, 6, 21, 13, 2, 2, 16, 4, 4, 8, 2, 11, 5, 6, 14, 12, 2, 1, 3, 11, 14, 1, 2, 27, 14, 2, 4, 15, 11, 7, 2, 2, 4, 2, 2, 21, 6, 3, 3, 17, 18, 4, 2, 8, 7, 4, 6, 25, 14, 4, 1, 35, 18, 1, 1, 15, 4, 1, 1, 9, 9, 4, 2, 11, 6, 15, 1, 9, 25, 6, 2, 2, 12, 3, 3, 14, 3, 1, 8, 3, 1, 1, 2, 3, 5, 28, 4, 1, 2, 8, 10, 1, 2, 2, 1, 5, 6, 6, 2, 2, 17, 5, 4, 1, 3, 12, 2, 3, 15, 4, 2, 17, 5, 7, 17, 5, 30, 5, 2, 4, 5, 6, 8, 38, 10, 2, 9, 19, 3, 7, 3, 3, 15, 31, 1, 1, 10, 12, 12, 28, 1, 3, 2, 1, 18, 14, 8, 1, 12, 8, 1, 4, 4, 1, 7, 9, 2, 1, 9, 10, 2, 3, 5, 9, 1, 12, 11, 2, 4, 32, 5, 1, 3, 9, 4, 1, 9, 26, 5, 5, 1, 11, 28, 4, 1, 3, 22, 2, 3, 10, 4, 3, 1, 9, 11, 1, 10, 7, 2, 2, 6, 13, 3, 1, 3, 7, 12, 21, 2, 2, 5, 1, 2, 4, 25, 4, 8, 9, 9, 5, 6, 1, 5, 8, 5, 12, 16, 7, 1, 3, 6, 7, 12, 1, 2, 13, 14, 5, 17, 7, 6, 2, 9, 4, 5, 12, 1, 1, 12, 4, 4, 3, 2, 1, 2, 3, 1, 6, 5, 11, 10, 1, 1, 3, 10, 7, 1, 1, 2, 9, 2, 2, 14, 6, 1, 5, 13, 2, 5, 20, 6, 2, 4, 2, 10, 14, 2, 1, 6, 28, 5, 1, 1, 2, 4, 1, 9, 6, 1, 8, 2, 7, 2, 3, 1, 5, 9, 1, 9, 8, 2, 1, 3, 3, 15, 5, 5, 10, 14, 6, 2, 9, 14, 2, 4, 20, 3, 5, 8, 9, 2, 14, 5, 5, 3, 2, 1, 2, 9, 1, 4, 3, 2, 9, 21, 1, 5, 19, 5, 7, 11, 30, 3, 23, 13, 1, 2, 8, 13, 2, 13, 10, 4, 1, 10, 4, 5, 8, 7, 9, 14, 3, 11, 21, 3, 5, 4, 9, 9, 24, 1, 7, 10, 15, 5, 8, 6, 2, 20, 5, 1, 2, 3, 16, 4, 2, 4, 5, 14, 10, 1, 4, 5, 10, 1, 3, 7, 6, 1, 2, 26, 11, 2, 11, 6, 1, 4, 6, 1, 4, 5, 9, 4, 44, 7, 11, 10, 9, 2, 4, 4, 3, 3, 20, 7, 2, 9, 21, 1, 4, 20, 11, 2, 5, 16, 13, 7, 3, 2, 1, 16, 8, 3, 1, 10, 17, 1, 3, 1, 7, 10, 1, 7, 13, 25, 2, 2, 28, 9, 7, 19, 14, 10, 4, 4, 11, 5, 6, 22, 10, 1, 2, 1, 1, 12, 12, 4, 10, 7, 4, 1, 7, 20, 7, 1, 5, 4, 1, 7, 9, 1, 10, 29, 1, 1, 5, 3, 11, 4, 2, 12, 3, 2, 1, 1, 3, 13, 11, 6, 13, 13, 2, 7, 2, 4, 3, 9, 3, 1, 3, 3, 11, 1, 1, 6, 17, 8, 2, 2, 33, 4, 13, 26, 5, 2, 7, 3, 1, 9, 4, 7, 6, 11, 1, 7, 10, 16, 10, 6, 4, 2, 1, 1, 11, 4, 2, 12, 4, 2, 4, 10, 4, 1, 1, 1, 4, 2, 2, 1, 2, 4, 1, 5, 7, 1, 13, 4, 1, 1, 1, 3, 6, 1, 8, 2, 13, 32, 5, 12, 15, 2, 1, 1, 17, 1, 6, 1, 15, 11, 3, 15, 7, 3, 2, 1, 1, 3, 5, 30, 4, 2, 13, 29, 9, 2, 13, 11, 4, 2, 31, 15, 10, 13, 1, 3, 1, 6, 18, 3, 6, 17, 6, 3, 17, 20, 9, 5, 6, 4, 5, 3, 19, 10, 5, 1, 13, 3, 1, 5, 1, 1, 7, 4, 3, 1, 13, 2, 4, 8, 17, 2, 17, 6, 4, 2, 1, 2, 10, 9, 13, 4, 10, 1, 6, 14, 8, 16, 2, 6, 6, 15, 1, 18, 6, 1, 6, 8, 5, 1, 3, 4, 4, 12, 2, 8, 12, 6, 3, 3, 1, 1, 6, 2, 10, 9, 3, 21, 4, 2, 1, 3, 9, 7, 4, 7, 4, 11, 12, 8, 4, 5, 4, 3, 6, 12, 1, 3, 2, 1, 1, 8, 12, 3, 4, 11, 3, 3, 25, 7, 1, 3, 2, 1, 1, 2, 3, 29, 14, 3, 1, 2, 14, 3, 8, 5, 1, 1, 5, 10, 4, 28, 4, 4, 11, 3, 4, 6, 28, 4, 8, 32, 3, 3, 16, 14, 2, 2, 18, 3, 1, 4, 2, 2, 5, 5, 10, 4, 17, 15, 1, 4, 2, 16, 4, 1, 4, 7, 9, 1, 8, 3, 11, 4, 2, 3, 18, 2, 4, 8, 14, 5, 8, 8, 6, 7, 27, 12, 5, 3, 1, 1, 8, 14, 1, 3, 5, 6, 3, 5, 7, 2, 21, 7, 3, 15, 2, 1, 21, 11, 2, 2, 12, 3, 1, 5, 5, 5, 1, 17, 7, 6, 4, 4, 1, 1, 7, 12, 1, 1, 20, 5, 1, 1, 26, 8, 2, 2, 9, 3, 5, 2, 9, 6, 3, 5, 8, 4, 1, 6, 1, 9, 5, 34, 1, 4, 20, 14, 1, 1, 14, 5, 5, 14, 4, 1, 7, 18, 14, 2, 7, 17, 6, 1, 26, 3, 1, 17, 1, 13, 6, 1, 2, 10, 7, 4, 1, 5, 14, 5, 11, 7, 1, 5, 18, 7, 5, 7, 4, 1, 6, 11, 5, 8, 4, 12, 6, 2, 28, 19, 8, 3, 10, 13, 4, 7, 4, 9, 4, 11, 11, 5, 5, 16, 2, 3, 2, 1, 9, 2, 5, 7, 1, 1, 4, 8, 2, 2, 6, 12, 2, 2, 4, 12, 7, 16, 13, 2, 4, 2, 1, 13, 3, 2, 1, 1, 14, 4, 2, 1, 4, 9, 5, 3, 1, 19, 3, 12, 5, 5, 1, 1, 3, 17, 12, 7, 1, 16, 9, 6, 8, 3, 5, 16, 15, 2, 4, 10, 11, 3, 2, 3, 4, 2, 1, 1, 2, 9, 25, 3, 2, 2, 15, 4, 2, 8, 2, 20, 12, 1, 1, 8, 16, 1, 8, 5, 2, 4, 7, 8, 27, 5, 11, 10, 6, 4, 7, 1, 1, 16, 7, 8, 2, 2, 10, 5, 5, 10, 2, 1, 8, 13, 3, 1, 3, 3, 10, 6, 1, 22, 3, 1, 15, 6, 2, 2, 5, 4, 17, 1, 2, 10, 1, 5, 13, 7, 6, 9, 2, 4, 12, 6, 1, 2, 9, 3, 6, 4, 2, 12, 10, 2, 5, 14, 1, 11, 17, 1, 1, 12, 14, 4, 6, 5, 1, 3, 3, 1, 4, 2, 2, 3, 7, 6, 3, 16, 7, 1, 7, 2, 1, 15, 15, 7, 2, 14, 10, 1, 2, 9, 1, 1, 9, 4, 1, 1, 14, 19, 3, 3, 9, 7, 2, 4, 8, 1, 1, 5, 3, 4, 1, 1, 8, 1, 3, 3, 25, 7, 9, 1, 1, 3, 10, 11, 11, 14, 5, 13, 5, 5, 18, 3, 2, 1, 5, 8, 15, 1, 1, 7, 23, 4, 1, 10, 31, 3, 4, 23, 14, 3, 1, 4, 2, 6, 6, 3, 1, 5, 3, 6, 10, 1, 1, 5, 2, 9, 3, 5, 1, 3, 18, 7, 3, 34, 7, 2, 3, 8, 3, 1, 3, 9, 2, 7, 4, 1, 2, 2, 6, 5, 20, 10, 1, 6, 1, 18, 11, 5, 10, 22, 10, 9, 4, 1, 4, 3, 12, 10, 7, 4, 3, 3, 1, 4, 22, 20, 13, 3, 5, 22, 10, 2, 15, 26, 1, 2, 19, 1, 2, 5, 5, 7, 1, 6, 6, 6, 1, 23, 6, 1, 1, 24, 14, 1, 11, 11, 10, 4, 20, 9, 7, 16, 9, 1, 3, 9, 17, 2, 9, 9, 6, 1, 8, 8, 3, 2, 4, 3, 5, 24, 3, 2, 12, 15, 2, 2, 7, 6, 3, 24, 6, 1, 5, 3, 8, 3, 23, 12, 6, 10, 1, 1, 6, 2, 4, 10, 1, 3, 23, 1, 6, 16, 10, 19, 1, 2, 3, 9, 5, 4, 1, 2, 14, 4, 8, 11, 2, 6, 11, 1, 1, 5, 14, 4, 1, 8, 2, 5, 10, 2, 4, 14, 3, 7, 10, 6, 4, 4, 10, 9, 10, 2, 1, 10, 11, 1, 1, 17, 15, 1, 6, 9, 22, 5, 2, 22, 16, 3, 1, 15, 2, 13, 6, 2, 8, 5, 1, 3, 4, 9, 5, 1, 2, 12, 8, 1, 13, 6, 8, 7, 10, 17, 2, 1, 15, 8, 2, 10, 12, 1, 1, 2, 12, 5, 1, 1, 20, 6, 5, 3, 3, 16, 2, 11, 7, 1, 2, 3, 2, 3, 13, 1, 2, 5, 26, 13, 1, 1, 3, 3, 5, 10, 5, 1, 31, 4, 5, 8, 10, 5, 8, 2, 3, 2, 9, 2, 1, 2, 11, 22, 1, 1, 12, 12, 4, 1, 4, 1, 13, 5, 1, 3, 34, 9, 12, 26, 2, 6, 22, 6, 2, 25, 3, 1, 1, 12, 2, 2, 8, 4, 2, 2, 4, 1, 5, 16, 3, 10, 7, 3, 1, 5, 6, 2, 13, 13, 4, 1, 1, 5, 1, 3, 2, 6, 1, 20, 27, 4, 25, 15, 1, 7, 6, 2, 2, 7, 10, 1, 1, 3, 13, 2, 8, 8, 2, 6, 4, 13, 3, 12, 1, 2, 27, 15, 4, 1, 1, 17, 6, 5, 2, 7, 19, 2, 2, 1, 1, 13, 4, 1, 3, 16, 4, 25, 6, 1, 1, 11, 7, 1, 9, 8, 3, 23, 2, 3, 30, 6, 1, 7, 1, 1, 6, 5, 9, 2, 12, 10, 9, 5, 9, 6, 2, 2, 7, 3, 19, 14, 6, 1, 8, 5, 1, 11, 11, 8, 5, 3, 3, 3, 10, 2, 1, 11, 41, 5, 4, 5, 11, 1, 2, 5, 1, 3, 9, 2, 14, 6, 5, 9, 7, 1, 4, 22, 1, 1, 1, 16, 7, 2, 10, 13, 3, 2, 14, 3, 2, 28, 17, 4, 2, 29, 8, 2, 3, 3, 5, 1, 9, 10, 1, 13, 10, 5, 18, 12, 9, 8, 14, 1, 14, 6, 3, 1, 4, 6, 4, 1, 11, 13, 7, 3, 4, 11, 7, 5, 3, 4, 22, 1, 1, 12, 3, 1, 9, 4, 2, 1, 3, 9, 21, 12, 6, 1, 7, 10, 7, 4, 12, 9, 22, 19, 11, 5, 30, 4, 3, 10, 13, 1, 1, 19, 16, 2, 9, 29, 3, 5, 3, 3, 1, 2, 1, 1, 13, 15, 3, 1, 5, 12, 3, 1, 7, 8, 6, 8, 10, 4, 3, 12, 2, 7, 9, 3, 8, 23, 3, 29, 4, 3, 4, 4, 1, 6, 8, 1, 1, 7, 3, 12, 12, 2, 6, 6, 2, 1, 10, 5, 13, 11, 9, 7, 23, 10, 2, 5, 5, 2, 7, 1, 14, 3, 9, 6, 1, 4, 7, 7, 1, 12, 4, 4, 1, 14, 12, 2, 18, 12, 8, 1, 5, 8, 13, 8, 1, 1, 18, 8, 3, 6, 16, 5, 3, 7, 6, 1, 1, 6, 1, 3, 10, 7, 1, 9, 11, 2, 10, 8, 1, 1, 9, 4, 2, 3, 1, 4, 1, 1, 11, 2, 1, 4, 2, 8, 2, 4, 1, 2, 7, 2, 1, 23, 11, 3, 8, 9, 5, 3, 39, 6, 1, 17, 15, 5, 2, 6, 21, 4, 1, 1, 28, 7, 1, 1, 3, 7, 21, 6, 1, 2, 5, 17, 3, 8, 15, 6, 5, 8, 14, 1, 6, 6, 1, 1, 3, 8, 1, 2, 3, 2, 15, 7, 7, 4, 1, 4, 16, 2, 4, 1, 2, 3, 3, 12, 2, 9, 1, 1, 2, 11, 5, 6, 1, 28, 2, 12, 6, 3, 1, 8, 6, 3, 8, 4, 6, 7, 7, 3, 8, 9, 1, 2, 2, 1, 1, 7, 3, 10, 15, 1, 14, 5, 11, 1, 1, 2, 3, 16, 3, 1, 12, 14, 2, 4, 8, 3, 3, 5, 2, 5, 3, 12, 1, 10, 29, 4, 4, 2, 23, 11, 5, 14, 1, 1, 13, 3, 5, 1, 1, 9, 17, 1, 8, 20, 3, 2, 5, 1, 1, 22, 7, 11, 3, 4, 1, 5, 10, 1, 1, 24, 8, 13, 4, 7, 4, 2, 3, 7, 21, 14, 1, 4, 6, 5, 2, 1, 11, 5, 1, 7, 11, 14, 4, 26, 11, 3, 6, 1, 10, 22, 2, 3, 8, 15, 1, 17, 16, 1, 9, 15, 2, 1, 12, 12, 3, 21, 7, 1, 1, 3, 5, 5, 35, 7, 1, 1, 2, 3, 3, 6, 14, 4, 10, 3, 5, 4, 7, 11, 12, 3, 12, 12, 2, 1, 2, 3, 2, 17, 4, 2, 2, 8, 6, 3, 1, 6, 5, 6, 1, 1, 5, 2, 11, 12, 1, 9, 3, 4, 1, 12, 1, 1, 1, 1, 30, 9, 1, 2, 10, 5, 1, 2, 6, 4, 1, 10, 9, 1, 5, 18, 1, 1, 12, 3, 2, 11, 8, 2, 6, 13, 1, 1, 2, 3, 2, 2, 25, 4, 2, 22, 10, 4, 1, 2, 2, 3, 17, 9, 16, 16, 1, 6, 3, 12, 1, 4, 8, 23, 21, 2, 5, 5, 3, 6, 7, 1, 2, 7, 1, 1, 6, 2, 1, 9, 8, 2, 1, 2, 3, 2, 6, 8, 4, 9, 9, 3, 19, 1, 11, 10, 6, 1, 3, 10, 5, 3, 1, 3, 3, 23, 6, 1, 3, 7, 1, 2, 3, 34, 13, 2, 2, 30, 16, 13, 3, 2, 13, 1, 1, 13, 3, 10, 14, 6, 1, 4, 10, 1, 2, 6, 14, 2, 2, 23, 8, 4, 3, 10, 17, 3, 10, 20, 3, 7, 6, 1, 20, 6, 1, 18, 2, 8, 23, 6, 5, 11, 11, 1, 7, 4, 10, 4, 9, 5, 12, 2, 12, 13, 8, 2, 5, 6, 7, 6, 1, 1, 16, 15, 3, 10, 4, 6, 8, 15, 2, 3, 3, 1, 1, 8, 2, 7, 1, 18, 11, 3, 8, 1, 4, 3, 5, 2, 9, 7, 1, 15, 7, 2, 10, 1, 2, 14, 25, 6, 1, 4, 37, 5, 21, 11, 1, 3, 3, 1, 4, 3, 2, 7, 22, 3, 5, 1, 2, 1, 2, 8, 6, 7, 21, 2, 5, 2, 3, 12, 7, 1, 8, 4, 1, 1, 9, 12, 7, 1, 1, 1, 5, 4, 2, 4, 8, 2, 1, 3, 1, 7, 3, 1, 2, 30, 7, 1, 16, 6, 1, 1, 2, 11, 6, 3, 10, 3, 2, 12, 7, 3, 5, 1, 5, 9, 5, 3, 1, 7, 1, 3, 4, 5, 2, 2, 5, 4, 10, 1, 5, 2, 1, 1, 5, 11, 3, 6, 14, 9, 2, 4, 3, 3, 1, 21, 9, 1, 4, 17, 3, 1, 5, 1, 1, 1, 7, 17, 1, 1, 5, 12, 2, 2, 11, 7, 1, 5, 6, 1, 6, 7, 2, 5, 4, 1, 3, 3, 2, 5, 10, 3, 1, 1, 1, 9, 2, 1, 6, 11, 7, 2, 2, 5, 3, 20, 6, 9, 11, 1, 1, 12, 11, 1, 1, 1, 3, 5, 1, 3, 1, 1, 11, 8, 7, 1, 2, 10, 3, 10, 8, 4, 2, 1, 8, 4, 4, 15, 6, 1, 1, 33, 8, 1, 5, 14, 3, 2, 3, 1, 13, 8, 10, 2, 5, 4, 3, 1, 11, 19, 6, 4, 27, 3, 7, 4, 4, 8, 9, 10, 2, 3, 9, 3, 3, 2, 6, 6, 2, 3, 17, 16, 2, 13, 9, 13, 5, 8, 7, 1, 1, 9, 16, 1, 1, 8, 4, 1, 4, 1, 10, 5, 7, 23, 5, 1, 14, 10, 3, 17, 6, 1, 7, 2, 9, 8, 2, 1, 3, 9, 1, 9, 7, 3, 3, 10, 2, 7, 3, 5, 1, 2, 25, 9, 4, 9, 1, 5, 11, 3, 2, 11, 10, 3, 4, 6, 5, 6, 2, 1, 11, 21, 2, 2, 6, 5, 13, 11, 15, 9, 8, 3, 9, 9, 1, 6, 30, 6, 3, 13, 5, 1, 3, 13, 2, 10, 13, 22, 15, 2, 5, 4, 4, 1, 12, 6, 5, 3, 11, 12, 4, 4, 1, 4, 7, 5, 2, 1, 1, 5, 16, 5, 24, 10, 8, 2, 1, 3, 1, 5, 17, 3, 2, 13, 14, 4, 3, 4, 10, 4, 3, 2, 3, 30, 4, 28, 11, 6, 7, 3, 2, 17, 17, 1, 3, 2, 2, 22, 2, 1, 2, 1, 1, 4, 16, 11, 2, 4, 30, 8, 1, 10, 20, 2, 6, 9, 2, 1, 1, 4, 5, 8, 2, 9, 2, 1, 2, 4, 1, 4, 2, 4, 9, 4, 1, 2, 1, 7, 20, 1, 8, 31, 5, 3, 17, 3, 1, 6, 14, 1, 4, 7, 8, 1, 9, 3, 2, 14, 3, 5, 6, 23, 6, 1, 5, 2, 2, 3, 1, 3, 8, 4, 4, 1, 6, 8, 1, 2, 2, 10, 5, 12, 10, 6, 2, 3, 3, 3, 1, 2, 1, 3, 8, 5, 8, 1, 1, 3, 4, 8, 1, 17, 1, 1, 3, 4, 3, 8, 12, 1, 2, 5, 5, 1, 6, 3, 9, 11, 1, 2, 9, 2, 3, 3, 1, 7, 8, 12, 5, 1, 3, 7, 3, 11, 5, 4, 13, 21, 11, 6, 9, 4, 2, 17, 3, 1, 3, 2, 1, 7, 1, 3, 1, 11, 2, 11, 10, 5, 1, 7, 4, 2, 9, 24, 3, 3, 1, 9, 17, 2, 1, 5, 12, 2, 1, 2, 30, 16, 1, 1, 1, 3, 7, 11, 1, 10, 7, 1, 1, 26, 10, 5, 2, 15, 2, 1, 13, 25, 1, 7, 6, 2, 3, 5, 5, 1, 6, 8, 1, 5, 16, 10, 18, 2, 1, 12, 1, 1, 17, 1, 3, 3, 4, 3, 4, 6, 17, 1, 1, 6, 17, 2, 9, 9, 16, 1, 7, 12, 1, 1, 1, 8, 3, 2, 5, 3, 4, 19, 4, 2, 2, 9, 1, 8, 7, 10, 9, 1, 1, 14, 1, 3, 29, 15, 2, 6, 1, 2, 11, 2, 3, 2, 4, 2, 7, 9, 2, 2, 7, 24, 8, 1, 8, 14, 3, 11, 27, 5, 1, 7, 11, 1, 5, 2, 1, 1, 4, 3, 2, 12, 6, 1, 3, 3, 3, 3, 31, 5, 1, 3, 3, 5, 9, 3, 8, 3, 6, 1, 17, 5, 1, 2, 1, 5, 18, 9, 17, 3, 2, 9, 15, 2, 6, 5, 16, 4, 5, 9, 2, 19, 10, 1, 1, 11, 6, 4, 3, 9, 6, 10, 12, 4, 5, 1, 18, 5, 2, 9, 8, 8, 4, 18, 1, 3, 8, 1, 8, 4, 5, 2, 3, 31, 7, 3, 2, 4, 15, 2, 12, 5, 2, 8, 16, 9, 5, 11, 10, 1, 2, 7, 1, 5, 10, 5, 22, 5, 8, 13, 9, 7, 11, 6, 1, 4, 6, 16, 1, 3, 13, 13, 1, 1, 8, 4, 4, 9, 13, 2, 4, 3, 9, 7, 3, 4, 5, 1, 1, 1, 9, 17, 3, 1, 18, 8, 5, 2, 13, 6, 2, 3, 4, 9, 8, 1, 4, 2, 10, 8, 3, 7, 19, 1, 1, 5, 9, 4, 2, 5, 8, 1, 1, 9, 14, 1, 1, 5, 8, 8, 3, 7, 8, 5, 2, 24, 5, 4, 4, 2, 1, 2, 2, 5, 23, 6, 8, 2, 1, 6, 6, 2, 1, 19, 11, 3, 3, 9, 14, 5, 21, 3, 6, 17, 5, 2, 22, 6, 1, 2, 2, 9, 12, 6, 1, 4, 5, 3, 11, 10, 1, 1, 3, 2, 4, 7, 5, 4, 5, 3, 5, 3, 10, 4, 7, 20, 11, 13, 6, 1, 16, 6, 3, 3, 1, 3, 2, 30, 9, 5, 1, 7, 12, 9, 2, 3, 3, 1, 5, 8, 1, 17, 6, 4, 14, 17, 2, 2, 7, 4, 5, 9, 3, 1, 3, 1, 7, 11, 1, 1, 3, 2, 4, 5, 12, 2, 4, 19, 10, 2, 15, 1, 2, 20, 3, 1, 7, 22, 8, 2, 1, 11, 13, 1, 2, 4, 23, 6, 4, 4, 19, 2, 4, 9, 3, 5, 3, 9, 2, 5, 22, 6, 1, 7, 5, 2, 1, 16, 4, 3, 1, 6, 5, 2, 3, 5, 1, 6, 18, 12, 9, 5, 1, 1, 2, 1, 6, 1, 8, 9, 24, 3, 2, 2, 6, 5, 9, 2, 2, 2, 33, 2, 19, 11, 4, 1, 5, 19, 6, 9, 13, 11, 1, 10, 9, 4, 3, 5, 2, 1, 7, 25, 1, 1, 3, 2, 1, 4, 12, 9, 1, 1, 5, 3, 3, 4, 12, 34, 1, 4, 4, 2, 18, 2, 1, 4, 16, 7, 1, 3, 15, 13, 1, 2, 17, 14, 2, 1, 3, 5, 1, 2, 9, 1, 5, 6, 2, 4, 3, 2, 1, 12, 6, 1, 2, 3, 5, 2, 6, 10, 4, 7, 16, 4, 7, 8, 1, 3, 25, 1, 4, 4, 1, 3, 2, 8, 5, 1, 2, 23, 7, 1, 1, 14, 1, 1, 13, 10, 11, 6, 2, 9, 1, 1, 10, 6, 2, 14, 1, 6, 19, 1, 19, 7, 2, 6, 7, 5, 1, 13, 10, 2, 1, 6, 9, 4, 34, 2, 1, 17, 7, 2, 4, 4, 1, 1, 15, 13, 1, 3, 23, 11, 2, 13, 5, 2, 7, 12, 3, 2, 9, 3, 8, 8, 2, 12, 7, 1, 3, 11, 3, 8, 6, 1, 6, 10, 1, 1, 9, 8, 3, 2, 7, 9, 3, 2, 2, 2, 2, 3, 3, 5, 7, 9, 1, 12, 8, 3, 6, 2, 9, 11, 15, 5, 15, 1, 1, 28, 9, 7, 8, 25, 1, 1, 13, 26, 5, 1, 7, 4, 4, 19, 1, 2, 10, 17, 8, 27, 7, 3, 2, 5, 10, 3, 1, 3, 3, 3, 8, 11, 8, 3, 1, 4, 6, 1, 1, 3, 1, 22, 12, 5, 2, 21, 7, 2, 1, 8, 25, 2, 16, 5, 1, 5, 7, 5, 1, 14, 10, 2, 9, 3, 1, 2, 4, 17, 1, 5, 5, 4, 1, 7, 4, 8, 6, 17, 5, 2, 10, 11, 1, 8, 11, 1, 3, 17, 1, 13, 2, 9, 23, 3, 4, 5, 15, 18, 8, 1, 9, 12, 2, 3, 4, 1, 4, 6, 6, 15, 8, 1, 2, 2, 5, 1, 5, 16, 5, 2, 2, 6, 1, 3, 17, 14, 1, 1, 2, 4, 2, 1, 2, 6, 10, 2, 1, 9, 10, 6, 1, 3, 3, 2, 3, 1, 12, 5, 2, 1, 6, 1, 2, 5, 9, 3, 2, 9, 5, 1, 1, 2, 1, 16, 2, 5, 5, 1, 3, 7, 9, 4, 8, 5, 1, 8, 2, 3, 6, 7, 2, 1, 2, 6, 4, 6, 1, 2, 1, 9, 11, 1, 4, 7, 6, 5, 6, 1, 18, 6, 4, 13, 1, 1, 13, 1, 30, 11, 4, 7, 26, 3, 19, 8, 9, 1, 4, 6, 1, 2, 2, 2, 1, 4, 14, 4, 2, 1, 6, 3, 1, 3, 3, 2, 4, 18, 4, 4, 3, 2, 4, 6, 1, 6, 6, 2, 5, 4, 24, 1, 2, 1, 6, 8, 1, 2, 5, 1, 12, 7, 2, 10, 20, 9, 1, 2, 2, 26, 8, 6, 25, 8, 1, 2, 17, 2, 17, 1, 7, 8, 4, 3, 28, 1, 1, 5, 11, 9, 8, 14, 10, 29, 3, 11, 9, 5, 5, 11, 6, 9, 11, 2, 4, 8, 1, 3, 11, 5, 7, 5, 12, 4, 1, 3, 1, 10, 17, 3, 1, 3, 2, 6, 9, 1, 2, 2, 7, 3, 13, 20, 11, 3, 4, 13, 20, 2, 1, 1, 11, 1, 4, 1, 1, 17, 2, 29, 3, 3, 10, 10, 1, 3, 7, 3, 7, 8, 5, 8, 6, 18, 3, 2, 3, 6, 10, 10, 1, 6, 5, 4, 10, 6, 2, 4, 25, 2, 14, 18, 3, 6, 16, 3, 6, 4, 1, 37, 3, 2, 2, 1, 3, 1, 8, 4, 2, 6, 7, 5, 1, 1, 9, 11, 2, 28, 13, 1, 2, 10, 3, 1, 3, 14, 1, 11, 3, 4, 4, 8, 1, 2, 1, 8, 15, 3, 10, 4, 1, 7, 7, 1, 5, 3, 5, 4, 1, 4, 5, 1, 8, 1, 15, 11, 1, 5, 28, 19, 1, 5, 6, 5, 8, 2, 1, 16, 16, 1, 1, 13, 5, 1, 11, 5, 3, 6, 13, 9, 2, 5, 18, 16, 3, 1, 1, 3, 7, 3, 1, 7, 12, 3, 9, 12, 5, 4, 6, 10, 1, 6, 28, 9, 1, 3, 7, 4, 1, 13, 10, 7, 2, 1, 16, 5, 1, 5, 5, 1, 1, 7, 6, 13, 8, 3, 3, 5, 1, 6, 16, 4, 1, 19, 5, 2, 12, 7, 1, 1, 4, 5, 1, 1, 6, 1, 8, 4, 2, 10, 3, 1, 3, 5, 3, 10, 22, 1, 1, 4, 6, 5, 1, 2, 5, 14, 2, 6, 4, 5, 8, 26, 1, 6, 21, 1, 5, 5, 1, 4, 5, 1, 1, 5, 5, 13, 4, 9, 11, 8, 1, 2, 10, 2, 1, 5, 3, 2, 3, 8, 2, 8, 6, 9, 7, 4, 9, 3, 5, 21, 1, 14, 6, 3, 1, 1, 6, 6, 4, 1, 4, 9, 6, 12, 3, 4, 9, 4, 1, 3, 13, 4, 1, 4, 5, 2, 5, 6, 2, 9, 5, 1, 14, 6, 1, 5, 3, 7, 1, 4, 1, 5, 17, 6, 3, 18, 2, 9, 2, 4, 2, 25, 6, 2, 6, 1, 1, 5, 1, 4, 10, 7, 2, 7, 15, 9, 3, 4, 21, 4, 5, 4, 5, 2, 1, 1, 6, 4, 3, 1, 3, 3, 6, 10, 3, 3, 1, 2, 17, 7, 3, 22, 1, 5, 14, 1, 1, 3, 5, 2, 6, 9, 9, 1, 2, 3, 13, 7, 7, 8, 1, 3, 6, 1, 5, 6, 6, 1, 14, 6, 6, 4, 1, 14, 17, 4, 2, 8, 8, 1, 18, 13, 2, 4, 3, 6, 10, 10, 7, 7, 14, 1, 9, 7, 3, 5, 18, 19, 1, 4, 10, 13, 5, 1, 13, 8, 3, 8, 6, 8, 21, 1, 1, 4, 10, 7, 2, 15, 9, 1, 3, 8, 16, 4, 10, 3, 4, 2, 6, 5, 2, 4, 12, 6, 6, 4, 1, 5, 5, 6, 1, 9, 13, 2, 1, 4, 3, 3, 1, 17, 16, 4, 10, 2, 5, 3, 3, 10, 4, 2, 1, 4, 8, 2, 3, 18, 14, 1, 9, 21, 4, 6, 10, 8, 3, 1, 8, 5, 2, 9, 1, 1, 2, 5, 16, 5, 1, 3, 2, 5, 6, 2, 10, 15, 2, 3, 18, 7, 4, 2, 7, 10, 4, 3, 1, 8, 4, 3, 3, 2, 3, 1, 3, 6, 13, 1, 3, 14, 11, 1, 4, 15, 4, 3, 3, 5, 12, 9, 2, 12, 14, 1, 1, 3, 1, 11, 14, 2, 3, 6, 7, 1, 5, 18, 4, 16, 19, 2, 4, 15, 1, 1, 12, 10, 3, 2, 21, 12, 3, 3, 1, 13, 10, 7, 14, 4, 1, 9, 8, 10, 16, 2, 2, 3, 8, 8, 4, 3, 2, 5, 10, 4, 6, 8, 1, 1, 4, 8, 2, 3, 8, 2, 5, 4, 19, 1, 2, 13, 4, 18, 7, 3, 3, 10, 7, 2, 3, 9, 6, 3, 12, 10, 6, 2, 3, 14, 3, 4, 4, 20, 2, 1, 8, 3, 7, 5, 7, 5, 1, 3, 9, 7, 2, 13, 7, 2, 6, 6, 5, 9, 2, 9, 7, 6, 4, 4, 13, 7, 4, 8, 6, 8, 8, 12, 7, 1, 2, 2, 1, 3, 6, 1, 1, 11, 11, 3, 12, 14, 2, 4, 8, 5, 7, 2, 1, 3, 11, 1, 24, 10, 6, 8, 3, 3, 2, 1, 10, 11, 2, 4, 1, 2, 4, 15, 5, 5, 3, 1, 1, 1, 1, 5, 1, 19, 9, 1, 7, 1, 11, 9, 15, 1, 6, 33, 8, 1, 24, 8, 4, 11, 12, 4, 1, 9, 2, 4, 4, 1, 18, 5, 11, 5, 1, 2, 3, 2, 11, 28, 1, 12, 2, 12, 5, 1, 6, 14, 1, 7, 9, 3, 1, 11, 13, 2, 11, 15, 5, 2, 4, 5, 2, 13, 9, 1, 3, 11, 19, 1, 1, 12, 3, 8, 27, 4, 1, 2, 10, 10, 3, 1, 8, 18, 10, 3, 8, 12, 1, 1, 10, 2, 1, 1, 4, 9, 2, 1, 17, 6, 2, 6, 1, 3, 2, 5, 2, 10, 16, 4, 1, 9, 13, 3, 1, 8, 8, 1, 10, 6, 4, 1, 3, 8, 12, 1, 2, 6, 3, 1, 3, 11, 4, 5, 25, 11, 2, 8, 14, 1, 5, 9, 1, 2, 8, 1, 7, 2, 5, 3, 5, 6, 1, 3, 16, 2, 3, 1, 3, 6, 14, 2, 10, 16, 1, 4, 2, 2, 3, 8, 7, 3, 6, 8, 1, 1, 6, 1, 2, 13, 13, 3, 2, 17, 13, 2, 2, 8, 4, 9, 10, 3, 13, 5, 2, 6, 14, 7, 1, 7, 11, 1, 4, 15, 13, 3, 4, 15, 9, 5, 14, 3, 18, 8, 4, 10, 15, 9, 1, 6, 8, 4, 9, 5, 11, 1, 5, 4, 4, 8, 29, 1, 3, 1, 4, 4, 19, 15, 1, 6, 1, 4, 10, 10, 5, 2, 4, 1, 8, 7, 20, 1, 3, 4, 15, 4, 6, 3, 5, 3, 2, 1, 5, 8, 1, 2, 5, 18, 7, 1, 7, 3, 8, 12, 6, 4, 5, 1, 3, 6, 1, 4, 13, 3, 9, 4, 8, 1, 5, 8, 2, 3, 2, 8, 4, 3, 31, 15, 2, 2, 18, 10, 3, 3, 1, 3, 4, 2, 2, 13, 1, 14, 4, 1, 2, 3, 2, 1, 1, 8, 2, 1, 12, 2, 8, 6, 4, 10, 3, 3, 13, 8, 2, 6, 8, 9, 7, 6, 2, 2, 27, 5, 2, 8, 6, 12, 2, 8, 5, 3, 2, 5, 3, 1, 9, 7, 3, 1, 3, 5, 2, 3, 2, 17, 9, 6, 2, 5, 23, 10, 1, 1, 11, 12, 2, 1, 5, 1, 4, 3, 4, 5, 5, 3, 2, 4, 1, 12, 4, 19, 1, 1, 1, 7, 7, 8, 10, 2, 1, 4, 7, 22, 2, 6, 5, 4, 4, 12, 6, 16, 4, 3, 9, 10, 4, 1, 1, 2, 16, 3, 1, 1, 2, 8, 3, 9, 5, 9, 1, 4, 15, 1, 3, 5, 7, 1, 14, 1, 5, 4, 2, 3, 12, 12, 1, 2, 1, 12, 9, 5, 7, 8, 4, 5, 7, 8, 1, 7, 8, 7, 16, 11, 5, 6, 5, 4, 4, 10, 1, 3, 9, 11, 2, 2, 2, 6, 8, 4, 1, 7, 1, 9, 11, 2, 1, 1, 9, 9, 4, 2, 6, 2, 2, 5, 1, 1, 8, 2, 2, 5, 24, 6, 2, 6, 4, 3, 1, 19, 13, 2, 1, 1, 12, 8, 5, 2, 2, 8, 8, 2, 2, 6, 7, 1, 25, 2, 3, 6, 2, 2, 6, 22, 15, 4, 9, 13, 5, 3, 6, 3, 14, 7, 2, 3, 6, 5, 1, 2, 2, 2, 9, 2, 17, 7, 2, 2, 8, 1, 3, 3, 14, 5, 1, 3, 2, 1, 14, 5, 8, 2, 2, 2, 6, 4, 3, 4, 5, 1, 5, 5, 1, 1, 1, 11, 3, 2, 17, 7, 2, 1, 3, 8, 5, 25, 12, 2, 4, 5, 9, 2, 2, 9, 9, 18, 2, 1, 5, 1, 6, 1, 2, 5, 2, 3, 9, 2, 1, 7, 19, 4, 2, 1, 7, 5, 17, 1, 1, 6, 1, 1, 8, 1, 2, 8, 4, 1, 3, 3, 2, 2, 5, 1, 4, 24, 8, 3, 4, 1, 4, 6, 9, 8, 7, 14, 3, 4, 6, 8, 2, 1, 1, 1, 10, 15, 3, 11, 6, 6, 3, 3, 7, 7, 3, 3, 2, 7, 2, 15, 14, 4, 9, 24, 1, 15, 6, 3, 2, 13, 12, 1, 4, 5, 4, 4, 14, 2, 9, 5, 1, 23, 3, 4, 11, 6, 2, 3, 11, 5, 4, 8, 6, 11, 1, 3, 4, 13, 3, 8, 7, 3, 4, 5, 2, 1, 5, 18, 6, 1, 1, 6, 9, 1, 15, 4, 10, 14, 12, 5, 8, 3, 2, 6, 8, 2, 11, 3, 2, 8, 8, 2, 2, 6, 2, 8, 1, 2, 4, 6, 1, 12, 8, 1, 5, 18, 4, 1, 2, 7, 1, 4, 4, 12, 4, 5, 4, 3, 6, 10, 1, 3, 3, 10, 2, 2, 11, 15, 1, 3, 6, 4, 8, 3, 2, 8, 5, 1, 6, 9, 2, 1, 12, 18, 2, 1, 2, 1, 1, 2, 5, 14, 3, 5, 10, 3, 27, 13, 1, 22, 2, 8, 11, 1, 3, 7, 3, 2, 5, 2, 7, 11, 6, 3, 10, 18, 3, 7, 1, 10, 2, 1, 14, 1, 5, 3, 1, 8, 5, 14, 2, 6, 1, 8, 15, 8, 2, 15, 1, 1, 1, 1, 11, 21, 7, 5, 17, 7, 5, 3, 10, 1, 4, 13, 2, 3, 2, 3, 5, 20, 5, 19, 2, 4, 1, 1, 12, 5, 5, 5, 1, 1, 11, 4, 16, 9, 1, 9, 10, 13, 1, 1, 7, 15, 12, 7, 8, 5, 7, 9, 4, 5, 3, 1, 3, 5, 1, 1, 10, 13, 3, 1, 8, 10, 7, 4, 4, 9, 3, 2, 1, 2, 9, 13, 1, 9, 8, 3, 15, 9, 3, 1, 2, 7, 6, 1, 2, 6, 4, 3, 8, 6, 8, 1, 3, 8, 20, 1, 6, 12, 1, 1, 11, 12, 14, 7, 3, 1, 11, 21, 2, 6, 6, 4, 1, 4, 5, 17, 3, 10, 9, 3, 14, 8, 1, 5, 1, 1, 5, 12, 1, 1, 11, 13, 2, 4, 4, 4, 8, 6, 1, 2, 5, 10, 4, 3, 9, 1, 4, 6, 6, 10, 3, 3, 2, 5, 20, 2, 1, 7, 8, 5, 3, 8, 19, 3, 4, 5, 8, 1, 1, 7, 11, 12, 7, 5, 1, 3, 4, 7, 1, 1, 5, 7, 1, 4, 12, 10, 4, 2, 1, 3, 1, 7, 1, 2, 5, 1, 1, 8, 11, 1, 6, 6, 3, 5, 2, 8, 6, 22, 6, 2, 2, 2, 1, 5, 2, 6, 23, 6, 15, 3, 1, 2, 1, 1, 16, 1, 3, 2, 17, 23, 3, 6, 18, 9, 24, 13, 2, 2, 7, 8, 1, 1, 12, 19, 7, 1, 17, 13, 5, 2, 27, 15, 1, 1, 19, 1, 2, 1, 1, 8, 14, 1, 3, 9, 1, 4, 3, 1, 3, 11, 4, 3, 15, 3, 1, 1, 3, 1, 4, 5, 3, 11, 4, 3, 8, 16, 7, 1, 18, 10, 3, 3, 1, 1, 2, 1, 10, 6, 4, 1, 1, 8, 21, 1, 5, 4, 4, 1, 3, 16, 6, 1, 4, 15, 2, 12, 5, 5, 3, 13, 1, 4, 24, 6, 1, 1, 8, 11, 6, 1, 8, 3, 3, 2, 4, 7, 6, 7, 1, 1, 7, 15, 2, 2, 1, 22, 2, 2, 10, 3, 7, 4, 10, 1, 6, 8, 1, 3, 10, 8, 6, 4, 13, 6, 1, 3, 13, 1, 17, 9, 4, 6, 11, 1, 10, 3, 4, 3, 20, 13, 7, 2, 7, 12, 8, 3, 1, 7, 2, 8, 8, 2, 3, 12, 3, 3, 1, 10, 11, 3, 8, 9, 6, 2, 2, 4, 1, 1, 3, 8, 2, 4, 2, 6, 7, 1, 2, 8, 3, 2, 4, 7, 1, 5, 12, 4, 1, 2, 20, 6, 3, 4, 1, 7, 2, 5, 4, 7, 3, 2, 2, 1, 3, 6, 6, 1, 1, 2, 4, 1, 6, 6, 6, 4, 8, 10, 7, 2, 12, 21, 1, 7, 13, 3, 2, 19, 1, 1, 5, 14, 3, 19, 4, 1, 3, 11, 1, 2, 4, 7, 3, 8, 6, 6, 9, 6, 1, 1, 20, 7, 1, 28, 3, 1, 15, 7, 6, 7, 7, 1, 3, 23, 14, 2, 3, 21, 2, 10, 8, 12, 2, 14, 8, 2, 3, 4, 2, 1, 1, 3, 8, 11, 2, 1, 6, 5, 1, 14, 5, 1, 7, 4, 3, 10, 5, 3, 3, 17, 9, 2, 18, 7, 3, 8, 7, 6, 2, 14, 1, 2, 5, 5, 11, 1, 1, 4, 3, 1, 9, 7, 3, 29, 9, 1, 2, 19, 1, 10, 4, 6, 3, 1, 13, 4, 4, 6, 6, 6, 2, 13, 7, 2, 1, 4, 3, 8, 9, 1, 14, 13, 1, 1, 11, 4, 1, 2, 2, 13, 11, 2, 1, 5, 5, 6, 1, 4, 7, 3, 2, 11, 17, 8, 4, 2, 1, 4, 3, 3, 7, 7, 2, 6, 5, 7, 1, 7, 21, 1, 6, 13, 2, 4, 7, 3, 1, 1, 3, 2, 11, 7, 2, 8, 4, 4, 22, 8, 2, 6, 13, 2, 8, 10, 2, 2, 10, 16, 1, 1, 6, 3, 4, 1, 6, 10, 2, 1, 3, 10, 3, 2, 13, 13, 5, 3, 6, 4, 3, 5, 10, 3, 5, 8, 24, 5, 5, 6, 2, 11, 20, 8, 1, 14, 12, 3, 15, 9, 1, 4, 6, 6, 17, 1, 1, 9, 3, 1, 2, 3, 3, 8, 2, 2, 5, 19, 10, 1, 17, 3, 1, 5, 13, 5, 3, 2, 5, 2, 16, 4, 1, 3, 21, 5, 4, 11, 3, 7, 2, 2, 6, 1, 15, 6, 4, 11, 3, 2, 18, 1, 1, 4, 5, 7, 1, 3, 16, 7, 1, 1, 20, 9, 1, 2, 3, 14, 6, 2, 7, 13, 1, 1, 3, 5, 1, 1, 4, 7, 2, 2, 1, 2, 5, 6, 7, 8, 3, 1, 2, 3, 1, 4, 22, 8, 2, 9, 9, 2, 7, 4, 5, 5, 1, 1, 1, 1, 2, 9, 7, 8, 6, 1, 8, 13, 1, 2, 4, 4, 4, 7, 7, 1, 2, 12, 22, 1, 1, 7, 9, 9, 7, 15, 31, 7, 9, 9, 1, 1, 1, 5, 5, 9, 11, 10, 4, 3, 4, 7, 1, 14, 14, 3, 3, 8, 7, 1, 4, 2, 2, 12, 7, 9, 3, 2, 24, 2, 4, 17, 5, 3, 11, 8, 5, 9, 2, 1, 9, 2, 3, 9, 1, 4, 4, 4, 7, 13, 1, 6, 7, 1, 1, 12, 4, 10, 8, 2, 5, 10, 3, 2, 7, 1, 12, 20, 1, 1, 8, 14, 15, 4, 2, 6, 12, 2, 2, 7, 19, 5, 2, 5, 10, 1, 4, 2, 10, 9, 1, 5, 12, 9, 6, 9, 12, 1, 7, 7, 5, 1, 11, 21, 9, 8, 12, 5, 3, 11, 11, 2, 2, 3, 4, 11, 1, 4, 1, 2, 4, 1, 5, 16, 13, 3, 7, 3, 2, 4, 5, 1, 15, 3, 5, 5, 5, 1, 3, 8, 17, 3, 11, 20, 7, 2, 2, 5, 1, 4, 1, 9, 4, 1, 2, 13, 12, 5, 21, 1, 12, 5, 9, 13, 10, 1, 10, 5, 6, 5, 1, 2, 17, 4, 3, 3, 11, 4, 15, 2, 3, 3, 2, 1, 6, 4, 3, 2, 5, 2, 6, 14, 1, 11, 3, 1, 2, 3, 16, 10, 1, 3, 22, 6, 4, 4, 5, 4, 5, 2, 11, 6, 1, 4, 9, 1, 1, 9, 2, 6, 14, 5, 5, 1, 4, 2, 5, 1, 1, 1, 3, 2, 2, 2, 2, 5, 14, 2, 2, 17, 11, 1, 1, 26, 7, 1, 18, 9, 3, 1, 9, 16, 1, 1, 7, 12, 2, 5, 18, 1, 7, 4, 5, 2, 3, 11, 11, 1, 1, 34, 10, 2, 2, 6, 9, 3, 2, 10, 15, 5, 2, 3, 12, 4, 4, 3, 1, 8, 3, 8, 1, 11, 9, 8, 1, 3, 2, 10, 5, 4, 3, 3, 2, 1, 2, 9, 10, 9, 4, 7, 11, 1, 10, 5, 10, 1, 8, 7, 1, 1, 1, 7, 1, 1, 6, 2, 1, 2, 14, 2, 10, 15, 3, 9, 2, 1, 4, 16, 5, 2, 5, 4, 8, 1, 8, 1, 7, 12, 3, 2, 13, 15, 6, 4, 8, 8, 5, 9, 19, 3, 3, 4, 3, 2, 4, 17, 17, 3, 2, 3, 1, 1, 2, 5, 1, 2, 1, 5, 4, 9, 5, 1, 7, 10, 3, 1, 6, 6, 2, 19, 3, 1, 13, 3, 4, 5, 9, 15, 3, 4, 13, 7, 3, 1, 2, 11, 8, 4, 1, 2, 18, 5, 2, 14, 12, 5, 1, 3, 6, 8, 8, 4, 5, 2, 9, 5, 11, 6, 17, 8, 13, 11, 10, 3, 1, 1, 4, 6, 3, 2, 7, 2, 1, 7, 3, 1, 5, 6, 1, 8, 8, 2, 4, 2, 2, 3, 16, 5, 2, 8, 14, 2, 1, 11, 2, 6, 4, 4, 1, 8, 7, 3, 3, 7, 28, 2, 1, 1, 5, 6, 4, 6, 2, 9, 1, 3, 9, 6, 1, 1, 11, 2, 3, 12, 6, 6, 3, 1, 4, 11, 4, 1, 3, 9, 3, 6, 7, 2, 2, 1, 1, 2, 6, 1, 1, 1, 4, 1, 3, 12, 11, 1, 1, 8, 21, 3, 1, 6, 2, 2, 2, 10, 10, 6, 16, 5, 1, 7, 5, 14, 1, 1, 7, 3, 2, 6, 2, 2, 10, 11, 2, 3, 25, 14, 1, 4, 13, 1, 24, 12, 2, 11, 11, 1, 9, 5, 4, 2, 4, 16, 2, 1, 4, 4, 7, 8, 4, 5, 1, 4, 7, 6, 1, 4, 16, 1, 8, 6, 7, 4, 12, 3, 2, 6, 14, 2, 3, 22, 4, 1, 23, 2, 12, 20, 2, 1, 9, 4, 4, 5, 10, 2, 1, 5, 7, 8, 2, 3, 16, 8, 3, 1, 5, 2, 1, 16, 13, 4, 7, 6, 4, 18, 8, 1, 1, 1, 1, 4, 21, 7, 10, 1, 21, 4, 5, 4, 16, 1, 4, 3, 12, 6, 3, 8, 8, 2, 3, 8, 8, 1, 9, 12, 1, 5, 13, 5, 7, 6, 3, 3, 4, 11, 4, 10, 5, 1, 1, 15, 8, 2, 3, 4, 6, 12, 2, 1, 6, 5, 4, 1, 21, 4, 8, 7, 8, 10, 3, 2, 3, 15, 7, 3, 16, 5, 1, 12, 11, 1, 3, 5, 27, 12, 8, 14, 3, 1, 1, 2, 10, 3, 2, 6, 1, 2, 9, 1, 12, 12, 6, 2, 9, 5, 4, 5, 9, 17, 8, 3, 10, 9, 11, 4, 5, 4, 3, 1, 4, 1, 4, 5, 1, 6, 4, 7, 2, 4, 2, 9, 1, 9, 12, 1, 3, 3, 4, 3, 2, 2, 3, 25, 6, 6, 3, 9, 1, 8, 11, 1, 35, 10, 3, 6, 21, 5, 1, 5, 3, 4, 2, 4, 10, 5, 10, 7, 3, 1, 7, 16, 9, 4, 3, 9, 4, 1, 5, 3, 2, 2, 2, 1, 2, 7, 16, 4, 27, 6, 2, 5, 3, 8, 14, 15, 1, 12, 6, 1, 12, 3, 3, 6, 2, 7, 5, 5, 3, 2, 12, 26, 3, 12, 4, 15, 23, 3, 5, 9, 1, 1, 2, 4, 1, 1, 5, 18, 2, 1, 9, 8, 1, 1, 7, 1, 6, 9, 2, 1, 4, 4, 2, 1, 9, 7, 3, 1, 11, 6, 1, 12, 1, 3, 10, 2, 1, 2, 4, 5, 1, 5, 17, 1, 2, 1, 2, 1, 3, 10, 1, 3, 5, 4, 7, 3, 4, 3, 6, 1, 4, 3, 5, 2, 5, 14, 2, 6, 5, 2, 24, 12, 9, 2, 3, 1, 9, 7, 1, 3, 13, 2, 1, 2, 4, 4, 2, 5, 39, 2, 3, 1, 4, 3, 9, 2, 2, 6, 17, 2, 2, 5, 16, 7, 1, 2, 4, 6, 5, 3, 23, 1, 4, 3, 5, 3, 1, 10, 8, 3, 8, 3, 12, 7, 2, 3, 4, 2, 4, 1, 2, 6, 1, 6, 18, 6, 1, 1, 7, 11, 12, 1, 4, 3, 5, 11, 4, 2, 25, 10, 5, 7, 6, 3, 1, 6, 4, 7, 4, 1, 1, 7, 9, 4, 1, 3, 15, 1, 3, 1, 6, 7, 3, 3, 5, 3, 1, 20, 15, 4, 2, 2, 1, 5, 16, 3, 1, 7, 7, 2, 1, 2, 7, 1, 15, 15, 3, 2, 2, 3, 1, 5, 2, 7, 5, 2, 3, 5, 6, 7, 6, 1, 1, 8, 5, 9, 14, 5, 1, 6, 6, 2, 7, 1, 3, 11, 17, 1, 11, 8, 2, 2, 19, 5, 8, 1, 6, 4, 3, 7, 1, 2, 5, 9, 25, 3, 2, 6, 2, 5, 10, 2, 4, 18, 2, 4, 11, 13, 2, 14, 3, 1, 7, 2, 10, 5, 3, 7, 11, 4, 3, 12, 1, 2, 6, 6, 3, 11, 17, 3, 4, 7, 2, 6, 10, 2, 2, 7, 11, 13, 5, 1, 1, 15, 10, 6, 1, 13, 12, 2, 1, 6, 5, 1, 1, 5, 4, 13, 1, 6, 2, 5, 4, 7, 4, 11, 1, 16, 7, 4, 9, 2, 3, 16, 9, 1, 10, 6, 4, 8, 7, 5, 11, 7, 5, 2, 4, 6, 2, 1, 4, 5, 12, 10, 19, 4, 1, 2, 1, 7, 12, 5, 1, 1, 12, 6, 1, 3, 14, 8, 2, 10, 10, 3, 4, 4, 1, 10, 18, 2, 1, 10, 14, 5, 1, 8, 5, 7, 14, 6, 9, 6, 1, 5, 13, 7, 7, 12, 8, 2, 17, 12, 4, 4, 2, 9, 11, 1, 5, 8, 1, 2, 7, 3, 2, 9, 7, 1, 2, 3, 3, 23, 2, 2, 2, 2, 4, 1, 15, 2, 5, 4, 4, 17, 25, 2, 2, 5, 10, 2, 7, 9, 5, 2, 14, 7, 5, 1, 1, 2, 2, 6, 8, 1, 3, 7, 10, 5, 7, 6, 2, 6, 5, 3, 8, 2, 2, 7, 3, 9, 7, 5, 3, 6, 11, 5, 3, 4, 3, 2, 2, 3, 9, 2, 14, 8, 1, 8, 3, 4, 11, 6, 14, 3, 1, 6, 3, 1, 1, 5, 6, 1, 13, 11, 2, 3, 16, 1, 13, 5, 1, 11, 1, 1, 4, 10, 2, 15, 15, 3, 2, 1, 10, 10, 6, 10, 1, 1, 8, 12, 6, 2, 6, 7, 25, 1, 3, 1, 5, 3, 2, 7, 2, 14, 3, 3, 3, 3, 4, 2, 2, 2, 16, 5, 1, 8, 23, 1, 2, 14, 9, 1, 2, 3, 8, 1, 4, 7, 1, 4, 3, 1, 17, 15, 4, 1, 7, 5, 2, 8, 1, 5, 6, 4, 2, 6, 2, 3, 7, 1, 7, 4, 3, 1, 15, 7, 7, 7, 2, 2, 10, 12, 2, 8, 7, 6, 3, 6, 5, 11, 5, 1, 5, 4, 8, 1, 1, 6, 12, 1, 1, 1, 4, 7, 10, 10, 5, 4, 5, 1, 1, 8, 5, 4, 10, 3, 6, 2, 2, 2, 4, 1, 7, 7, 2, 1, 12, 2, 2, 5, 3, 4, 9, 2, 2, 3, 6, 2, 1, 24, 8, 1, 11, 5, 2, 8, 19, 1, 1, 8, 4, 2, 3, 10, 3, 1, 2, 8, 3, 1, 16, 2, 3, 13, 4, 2, 4, 3, 11, 1, 1, 5, 2, 2, 1, 6, 15, 5, 2, 6, 2, 1, 3, 1, 2, 9, 7, 7, 2, 4, 2, 6, 20, 3, 18, 5, 6, 10, 6, 18, 4, 3, 2, 5, 8, 1, 1, 7, 13, 2, 1, 2, 9, 5, 1, 10, 2, 3, 1, 1, 1, 2, 15, 7, 1, 1, 3, 7, 30, 5, 1, 2, 3, 5, 13, 8, 1, 1, 7, 8, 5, 3, 9, 2, 2, 2, 2, 8, 2, 9, 11, 5, 4, 15, 2, 1, 6, 7, 3, 7, 1, 3, 9, 20, 6, 1, 19, 7, 4, 4, 3, 11, 1, 3, 16, 10, 1, 21, 19, 1, 17, 8, 2, 15, 7, 1, 4, 10, 5, 2, 8, 11, 2, 2, 1, 8, 5, 1, 2, 2, 2, 1, 9, 11, 2, 1, 2, 3, 2, 4, 2, 1, 4, 16, 6, 7, 3, 1, 2, 1, 1, 7, 5, 8, 1, 9, 20, 5, 5, 8, 5, 1, 2, 14, 9, 16, 9, 2, 6, 8, 4, 3, 3, 8, 5, 10, 4, 3, 20, 4, 3, 4, 15, 7, 1, 9, 10, 2, 6, 14, 1, 6, 9, 4, 4, 5, 2, 4, 3, 4, 1, 1, 4, 7, 2, 6, 5, 7, 1, 8, 1, 1, 9, 4, 2, 4, 5, 13, 4, 2, 2, 5, 7, 2, 7, 10, 11, 4, 7, 6, 1, 8, 9, 11, 1, 5, 17, 1, 12, 10, 2, 1, 6, 14, 9, 3, 1, 5, 1, 1, 1, 5, 2, 1, 3, 9, 2, 16, 7, 1, 3, 3, 8, 3, 1, 9, 7, 4, 2, 7, 8, 2, 8, 13, 4, 2, 7, 11, 7, 1, 6, 7, 4, 1, 2, 3, 19, 8, 5, 3, 3, 6, 5, 17, 2, 7, 4, 1, 9, 19, 4, 3, 4, 7, 5, 8, 2, 5, 11, 1, 8, 4, 2, 5, 1, 1, 7, 7, 4, 4, 3, 2, 3, 4, 9, 13, 2, 3, 15, 2, 1, 2, 6, 4, 1, 7, 10, 1, 3, 8, 19, 2, 7, 2, 1, 1, 1, 3, 6, 16, 1, 11, 8, 3, 2, 17, 10, 2, 1, 4, 1, 8, 12, 7, 9, 3, 1, 3, 5, 2, 13, 1, 3, 29, 15, 1, 2, 2, 1, 2, 2, 6, 19, 5, 17, 6, 1, 2, 2, 3, 9, 6, 4, 3, 18, 9, 6, 1, 1, 3, 1, 9, 5, 2, 15, 6, 7, 11, 4, 1, 4, 3, 1, 6, 17, 1, 1, 12, 1, 3, 25, 6, 2, 15, 14, 2, 1, 2, 5, 5, 10, 5, 1, 3, 16, 11, 1, 9, 2, 2, 1, 2, 19, 1, 5, 5, 3, 2, 3, 5, 5, 5, 8, 3, 5, 3, 10, 1, 1, 2, 22, 3, 4, 6, 8, 1, 3, 15, 1, 1, 2, 12, 4, 1, 4, 1, 1, 1, 8, 13, 11, 9, 4, 5, 8, 3, 3, 1, 4, 17, 13, 2, 2, 4, 2, 5, 14, 1, 5, 4, 1, 2, 4, 3, 4, 1, 1, 1, 1, 4, 10, 6, 1, 3, 1, 1, 3, 7, 6, 6, 4, 2, 1, 2, 5, 3, 4, 3, 3, 8, 14, 2, 1, 6, 10, 3, 3, 6, 21, 3, 3, 2, 1, 1, 1, 11, 13, 5, 2, 18, 5, 13, 14, 6, 1, 9, 8, 8, 1, 8, 4, 4, 6, 10, 4, 4, 3, 3, 14, 3, 1, 15, 6, 1, 3, 11, 14, 1, 1, 6, 9, 1, 3, 7, 1, 6, 4, 1, 2, 4, 9, 1, 3, 2, 1, 2, 5, 4, 2, 1, 1, 1, 1, 2, 2, 5, 1, 4, 15, 4, 4, 6, 6, 6, 4, 5, 1, 3, 20, 8, 2, 4, 2, 2, 11, 2, 5, 5, 1, 1, 3, 4, 7, 10, 6, 2, 7, 8, 3, 6, 6, 2, 3, 10, 1, 8, 21, 3, 3, 3, 3, 5, 20, 5, 2, 3, 9, 3, 3, 7, 6, 3, 4, 1, 2, 3, 3, 8, 12, 1, 8, 5, 6, 11, 3, 1, 1, 7, 1, 2, 23, 5, 1, 4, 11, 3, 1, 17, 6, 4, 9, 5, 2, 6, 1, 4, 9, 6, 1, 10, 6, 2, 3, 2, 1, 2, 4, 8, 1, 4, 7, 5, 1, 3, 7, 9, 1, 1, 2, 2, 1, 4, 17, 1, 1, 4, 10, 3, 3, 11, 1, 11, 7, 7, 1, 6, 7, 1, 1, 29, 3, 3, 4, 3, 3, 6, 8, 2, 1, 3, 4, 3, 4, 5, 4, 5, 1, 2, 5, 3, 2, 4, 15, 4, 4, 5, 5, 11, 13, 3, 2, 11, 3, 1, 7, 10, 3, 7, 4, 4, 1, 2, 3, 2, 10, 5, 1, 7, 5, 4, 9, 6, 4, 2, 1, 5, 9, 4, 20, 2, 2, 3, 12, 3, 2, 6, 11, 1, 2, 6, 5, 2, 1, 7, 17, 1, 1, 11, 14, 4, 2, 2, 2, 8, 7, 4, 2, 1, 10, 7, 3, 2, 4, 9, 8, 2, 1, 2, 9, 6, 2, 5, 10, 6, 1, 1, 2, 5, 1, 5, 5, 7, 9, 9, 2, 5, 12, 5, 6, 7, 1, 1, 1, 7, 6, 1, 5, 7, 1, 7, 6, 2, 4, 3, 2, 20, 10, 1, 2, 6, 5, 9, 5, 2, 2, 16, 5, 2, 9, 12, 8, 2, 8, 17, 1, 1, 3, 6, 20, 8, 1, 8, 10, 13, 3, 3, 4, 27, 2, 4, 12, 3, 5, 1, 33, 5, 18, 5, 1, 4, 7, 4, 4, 10, 5, 7, 4, 6, 2, 7, 3, 7, 3, 5, 6, 1, 3, 6, 1, 6, 30, 11, 13, 18, 2, 1, 1, 5, 14, 2, 23, 8, 10, 5, 3, 8, 1, 1, 6, 8, 2, 12, 1, 28, 5, 5, 2, 9, 1, 5, 3, 1, 4, 16, 14, 4, 23, 15, 1, 3, 5, 4, 8, 7, 6, 7, 2, 1, 3, 10, 2, 10, 3, 4, 1, 1, 18, 5, 7, 2, 6, 9, 5, 8, 15, 1, 14, 12, 8, 3, 6, 3, 3, 2, 10, 5, 2, 1, 6, 19, 1, 1, 2, 4, 3, 6, 11, 13, 3, 8, 4, 4, 1, 8, 8, 1, 4, 4, 7, 1, 6, 17, 5, 4, 8, 2, 6, 8, 4, 1, 2, 3, 9, 4, 1, 4, 16, 3, 1, 3, 2, 1, 1, 6, 24, 8, 4, 6, 5, 7, 11, 8, 1, 3, 4, 2, 19, 2, 2, 10, 2, 12, 4, 4, 2, 6, 4, 1, 1, 1, 1, 14, 1, 8, 4, 3, 5, 7, 1, 11, 14, 7, 4, 10, 11, 7, 9, 1, 4, 4, 1, 3, 6, 11, 3, 1, 2, 3, 5, 5, 1, 2, 10, 6, 2, 2, 13, 7, 2, 10, 11, 1, 1, 1, 17, 12, 2, 2, 4, 1, 2, 8, 14, 1, 8, 2, 1, 20, 2, 12, 6, 1, 3, 9, 7, 1, 4, 3, 9, 20, 4, 1, 3, 16, 8, 2, 21, 6, 1, 14, 7, 1, 2, 5, 6, 9, 5, 10, 11, 1, 2, 3, 5, 8, 3, 5, 9, 4, 2, 14, 8, 5, 1, 11, 13, 1, 15, 9, 3, 7, 5, 8, 3, 10, 3, 3, 9, 1, 3, 6, 13, 2, 6, 15, 1, 8, 4, 1, 4, 6, 1, 4, 9, 4, 3, 1, 2, 12, 12, 23, 2, 2, 22, 10, 9, 13, 2, 2, 9, 6, 5, 3, 1, 5, 6, 3, 1, 2, 4, 3, 1, 11, 9, 3, 4, 13, 4, 2, 7, 3, 1, 1, 4, 4, 3, 3, 3, 2, 3, 7, 34, 8, 2, 8, 15, 1, 6, 2, 2, 3, 3, 10, 4, 2, 2, 5, 25, 6, 1, 1, 14, 7, 1, 4, 3, 2, 6, 17, 6, 1, 23, 7, 4, 15, 9, 11, 2, 3, 8, 2, 1, 2, 3, 1, 8, 5, 1, 8, 2, 1, 5, 10, 3, 2, 2, 1, 6, 6, 8, 3, 1, 10, 4, 14, 6, 2, 2, 5, 13, 1, 2, 5, 8, 2, 10, 11, 9, 5, 6, 2, 4, 1, 12, 2, 18, 1, 4, 4, 3, 1, 4, 9, 7, 5, 2, 4, 11, 22, 2, 1, 1, 4, 1, 5, 16, 3, 1, 7, 7, 7, 1, 1, 5, 8, 1, 11, 7, 9, 8, 6, 3, 1, 1, 2, 3, 25, 5, 6, 2, 12, 1, 1, 1, 2, 2, 11, 26, 1, 4, 21, 5, 1, 2, 19, 2, 1, 1, 11, 8, 8, 4, 11, 10, 3, 1, 2, 8, 8, 5, 1, 15, 13, 3, 2, 8, 3, 1, 1, 4, 2, 2, 4, 3, 2, 1, 6, 8, 2, 15, 4, 1, 1, 5, 18, 1, 1, 12, 3, 2, 2, 2, 18, 8, 2, 4, 2, 4, 35, 10, 4, 8, 2, 1, 11, 8, 3, 1, 2, 3, 1, 2, 2, 2, 1, 5, 8, 1, 2, 6, 4, 13, 1, 1, 4, 5, 2, 8, 6, 6, 2, 1, 11, 16, 1, 9, 5, 4, 7, 27, 1, 7, 6, 3, 5, 7, 2, 6, 9, 8, 1, 7, 8, 2, 3, 8, 4, 5, 11, 7, 2, 1, 6, 1, 4, 2, 21, 6, 1, 4, 13, 1, 2, 3, 1, 9, 12, 2, 6, 6, 7, 2, 1, 24, 7, 8, 4, 9, 14, 2, 1, 15, 8, 5, 2, 10, 2, 3, 9, 6, 19, 9, 1, 3, 22, 6, 3, 11, 1, 1, 1, 2, 13, 2, 9, 13, 1, 1, 12, 1, 15, 17, 3, 2, 1, 8, 15, 5, 1, 6, 16, 5, 7, 5, 1, 4, 4, 6, 3, 4, 10, 5, 3, 12, 7, 3, 6, 8, 5, 7, 7, 2, 5, 5, 1, 5, 9, 12, 2, 4, 22, 3, 1, 6, 8, 4, 1, 2, 12, 14, 5, 13, 9, 1, 1, 5, 1, 5, 9, 5, 2, 14, 11, 11, 3, 2, 19, 9, 3, 4, 2, 10, 1, 4, 11, 4, 1, 4, 13, 1, 7, 11, 4, 1, 3, 14, 23, 1, 3, 6, 1, 1, 1, 9, 4, 2, 9, 21, 5, 3, 7, 7, 2, 3, 9, 1, 3, 9, 1, 5, 2, 2, 4, 1, 3, 5, 2, 1, 4, 5, 1, 5, 3, 2, 7, 11, 3, 2, 11, 15, 7, 2, 1, 8, 2, 13, 9, 3, 8, 13, 1, 1, 1, 6, 6, 8, 2, 1, 4, 25, 1, 2, 2, 1, 2, 20, 9, 2, 21, 11, 1, 8, 8, 7, 2, 3, 6, 4, 1, 2, 2, 7, 8, 4, 2, 12, 1, 1, 1, 8, 2, 10, 13, 4, 2, 14, 1, 8, 11, 12, 4, 2, 1, 1, 1, 6, 19, 5, 3, 8, 2, 3, 7, 13, 3, 1, 9, 1, 1, 4, 10, 3, 24, 6, 13, 2, 14, 17, 2, 10, 19, 12, 2, 2, 22, 11, 3, 1, 5, 3, 3, 2, 3, 4, 1, 2, 1, 12, 14, 1, 2, 5, 2, 11, 9, 4, 1, 9, 5, 2, 7, 9, 3, 8, 6, 2, 4, 1, 1, 2, 2, 3, 1, 4, 1, 7, 11, 3, 2, 1, 10, 2, 3, 23, 9, 3, 3, 3, 19, 5, 3, 9, 3, 4, 13, 9, 3, 1, 10, 4, 3, 14, 15, 2, 3, 1, 1, 8, 1, 4, 4, 2, 4, 4, 1, 6, 23, 2, 1, 1, 2, 20, 13, 5, 9, 12, 5, 8, 2, 4, 3, 11, 5, 8, 13, 1, 6, 5, 12, 23, 5, 9, 8, 2, 1, 2, 6, 1, 2, 23, 7, 4, 27, 8, 1, 1, 2, 7, 10, 1, 1, 9, 24, 2, 1, 5, 2, 1, 1, 6, 5, 2, 1, 26, 6, 1, 5, 9, 5, 2, 4, 23, 6, 1, 9, 4, 6, 3, 3, 2, 3, 9, 7, 2, 3, 5, 4, 1, 12, 12, 2, 2, 2, 5, 3, 12, 8, 1, 1, 6, 7, 1, 3, 18, 1, 2, 3, 1, 11, 2, 3, 23, 7, 1, 8, 4, 3, 2, 5, 10, 7, 7, 6, 8, 1, 1, 1, 1, 5, 19, 9, 10, 6, 3, 1, 2, 9, 1, 1, 9, 9, 1, 11, 7, 2, 1, 6, 9, 2, 1, 11, 4, 2, 6, 3, 4, 3, 25, 7, 13, 10, 2, 5, 16, 2, 5, 21, 1, 1, 1, 2, 7, 5, 1, 8, 18, 1, 1, 4, 6, 1, 1, 19, 3, 4, 4, 7, 3, 5, 13, 9, 1, 2, 1, 3, 15, 2, 4, 9, 11, 13, 2, 1, 1, 8, 4, 8, 3, 3, 11, 11, 1, 1, 6, 4, 3, 2, 4, 12, 1, 1, 6, 13, 7, 2, 1, 7, 10, 6, 1, 8, 18, 2, 8, 12, 4, 1, 32, 9, 2, 1, 6, 8, 1, 2, 18, 14, 2, 8, 25, 12, 1, 17, 1, 3, 9, 2, 3, 4, 18, 2, 4, 12, 2, 5, 7, 1, 1, 3, 1, 7, 1, 5, 6, 2, 2, 3, 1, 2, 10, 18, 3, 5, 14, 10, 2, 12, 5, 3, 1, 5, 3, 8, 7, 1, 1, 7, 1, 1, 11, 16, 1, 14, 4, 2, 15, 5, 2, 1, 8, 7, 1, 5, 4, 5, 4, 3, 9, 1, 5, 20, 1, 7, 22, 1, 3, 9, 14, 3, 8, 4, 2, 3, 3, 1, 1, 13, 7, 1, 1, 6, 12, 1, 3, 5, 2, 6, 1, 5, 2, 2, 6, 2, 3, 4, 5, 9, 10, 7, 2, 10, 2, 6, 7, 2, 4, 17, 6, 1, 3, 1, 6, 3, 7, 3, 12, 10, 1, 3, 22, 6, 1, 1, 3, 16, 3, 1, 1, 4, 4, 1, 4, 2, 4, 1, 13, 9, 1, 8, 9, 3, 10, 4, 2, 10, 14, 8, 1, 3, 2, 1, 8, 10, 11, 12, 1, 3, 2, 11, 6, 1, 1, 5, 9, 3, 16, 4, 1, 1, 13, 1, 9, 12, 8, 7, 8, 4, 1, 4, 8, 4, 1, 2, 31, 13, 1, 11, 17, 2, 1, 12, 7, 6, 15, 2, 1, 4, 3, 28, 5, 4, 1, 1, 1, 4, 1, 5, 4, 6, 9, 7, 2, 13, 8, 2, 5, 23, 6, 3, 4, 4, 6, 8, 4, 1, 2, 5, 4, 4, 1, 2, 16, 3, 1, 4, 9, 3, 5, 1, 3, 5, 22, 4, 10, 4, 4, 4, 13, 8, 1, 5, 7, 5, 12, 5, 1, 2, 5, 14, 1, 6, 1, 7, 2, 2, 4, 1, 2, 1, 3, 14, 16, 1, 1, 9, 22, 2, 1, 1, 10, 8, 22, 5, 8, 9, 9, 1, 2, 3, 9, 1, 5, 10, 1, 6, 9, 16, 1, 10, 13, 2, 4, 7, 4, 4, 1, 8, 2, 7, 2, 3, 18, 1, 4, 3, 1, 14, 4, 2, 3, 4, 4, 2, 4, 11, 2, 3, 8, 25, 7, 1, 4, 6, 5, 8, 12, 12, 6, 4, 6, 18, 2, 4, 8, 3, 1, 8, 10, 1, 3, 12, 22, 2, 1, 9, 9, 1, 1, 5, 15, 9, 2, 5, 12, 3, 3, 5, 2, 2, 5, 13, 1, 3, 4, 1, 1, 4, 15, 5, 8, 4, 9, 1, 1, 3, 5, 5, 4, 10, 11, 1, 2, 12, 5, 1, 7, 8, 4, 3, 6, 25, 3, 2, 3, 3, 9, 1, 6, 8, 3, 8, 1, 12, 6, 4, 14, 2, 18, 24, 4, 2, 18, 3, 3, 1, 5, 7, 3, 2, 2, 3, 1, 4, 3, 1, 1, 2, 4, 6, 2, 18, 9, 5, 3, 2, 10, 1, 3, 3, 1, 12, 10, 7, 11, 8, 14, 1, 5, 15, 1, 8, 11, 8, 1, 18, 15, 4, 2, 3, 5, 11, 13, 3, 2, 6, 4, 7, 7, 1, 6, 13, 15, 8, 10, 11, 5, 9, 12, 2, 3, 27, 12, 3, 3, 3, 7, 12, 3, 3, 5, 3, 4, 11, 4, 2, 1, 9, 6, 3, 6, 5, 5, 10, 11, 5, 2, 4, 4, 2, 10, 2, 6, 18, 5, 12, 14, 3, 18, 6, 1, 1, 6, 15, 4, 1, 8, 21, 2, 6, 5, 8, 11, 4, 2, 6, 9, 2, 6, 13, 4, 23, 2, 1, 29, 3, 7, 13, 1, 2, 2, 4, 3, 5, 10, 1, 4, 5, 4, 5, 1, 5, 3, 1, 13, 8, 2, 8, 7, 1, 8, 10, 1, 9, 2, 7, 2, 2, 1, 3, 1, 3, 1, 4, 5, 13, 1, 2, 3, 8, 1, 4, 5, 10, 1, 4, 18, 6, 4, 2, 8, 2, 3, 24, 15, 2, 7, 14, 7, 1, 2, 7, 6, 1, 2, 2, 8, 4, 1, 6, 4, 2, 5, 5, 22, 3, 1, 13, 9, 1, 10, 13, 2, 1, 9, 5, 1, 17, 8, 9, 1, 5, 1, 7, 2, 4, 17, 1, 7, 8, 1, 30, 17, 1, 6, 7, 1, 1, 1, 1, 1, 3, 3, 12, 5, 1, 5, 1, 1, 4, 8, 17, 1, 3, 5, 11, 3, 5, 5, 1, 9, 4, 1, 8, 13, 8, 11, 4, 3, 4, 6, 1, 3, 1, 1, 11, 19, 6, 1, 5, 2, 6, 13, 6, 8, 5, 5, 3, 13, 5, 1, 16, 4, 18, 7, 2, 7, 5, 5, 16, 1, 4, 6, 13, 4, 1, 11, 13, 2, 2, 12, 3, 1, 8, 7, 5, 3, 9, 8, 3, 2, 1, 2, 6, 10, 6, 1, 7, 10, 4, 1, 5, 2, 11, 4, 1, 6, 8, 1, 1, 2, 3, 20, 5, 2, 2, 6, 23, 8, 3, 9, 8, 5, 3, 12, 26, 6, 1, 5, 11, 1, 5, 5, 6, 6, 11, 1, 1, 7, 1, 4, 2, 6, 2, 1, 2, 13, 1, 9, 1, 3, 1, 7, 14, 6, 18, 1, 6, 4, 2, 11, 7, 2, 3, 3, 1, 7, 1, 3, 12, 2, 14, 7, 2, 2, 6, 3, 7, 4, 4, 3, 4, 3, 1, 1, 18, 4, 1, 2, 18, 10, 1, 6, 5, 2, 6, 19, 4, 2, 3, 1, 1, 3, 4, 13, 1, 11, 14, 6, 1, 8, 2, 4, 7, 2, 1, 2, 10, 7, 1, 1, 2, 1, 1, 1, 10, 4, 2, 6, 12, 2, 4, 2, 5, 20, 11, 1, 4, 4, 2, 6, 4, 1, 13, 7, 5, 1, 5, 5, 5, 2, 2, 4, 1, 2, 3, 1, 4, 10, 11, 3, 5, 33, 10, 13, 11, 1, 4, 2, 12, 3, 2, 3, 3, 1, 2, 9, 12, 2, 10, 12, 1, 2, 3, 3, 2, 15, 6, 3, 9, 10, 4, 5, 26, 8, 1, 5, 6, 2, 6, 1, 8, 1, 4, 8, 5, 12, 9, 2, 2, 23, 4, 2, 5, 9, 5, 4, 10, 4, 5, 8, 1, 1, 12, 3, 1, 9, 14, 2, 2, 6, 4, 1, 2, 7, 16, 3, 16, 7, 2, 11, 11, 1, 6, 1, 18, 5, 2, 10, 4, 1, 2, 3, 1, 2, 1, 1, 2, 9, 3, 1, 5, 1, 4, 5, 4, 2, 2, 9, 5, 15, 6, 3, 19, 1, 1, 3, 9, 7, 3, 4, 3, 6, 1, 4, 7, 11, 8, 27, 4, 1, 3, 5, 8, 8, 9, 9, 4, 15, 10, 6, 7, 5, 1, 7, 2, 2, 6, 14, 6, 7, 16, 7, 1, 5, 1, 10, 12, 1, 8, 16, 1, 4, 1, 12, 1, 6, 10, 2, 3, 5, 5, 12, 1, 3, 3, 2, 1, 11, 4, 6, 1, 16, 6, 1, 22, 2, 2, 3, 3, 3, 12, 1, 2, 5, 7, 1, 2, 5, 24, 2, 1, 8, 2, 6, 2, 8, 1, 9, 12, 1, 1, 24, 17, 1, 1, 4, 2, 7, 6, 5, 10, 14, 1, 1, 2, 6, 2, 1, 8, 12, 1, 12, 1, 2, 2, 1, 1, 6, 6, 1, 3, 3, 5, 1, 3, 8, 1, 2, 10, 6, 2, 4, 3, 2, 2, 5, 11, 2, 3, 27, 14, 1, 14, 8, 11, 1, 9, 15, 8, 3, 4, 4, 3, 1, 2, 5, 11, 3, 2, 4, 11, 6, 1, 5, 7, 1, 5, 2, 3, 6, 7, 7, 1, 2, 8, 4, 1, 2, 6, 4, 5, 8, 6, 2, 1, 5, 5, 11, 6, 12, 7, 1, 2, 10, 26, 2, 6, 6, 1, 5, 4, 1, 1, 8, 6, 1, 5, 1, 9, 3, 2, 5, 14, 5, 6, 8, 9, 4, 7, 4, 6, 1, 4, 13, 12, 3, 2, 2, 24, 11, 4, 8, 3, 1, 1, 18, 10, 8, 3, 13, 16, 5, 1, 24, 3, 1, 3, 5, 3, 7, 1, 8, 12, 2, 2, 3, 6, 19, 8, 5, 19, 2, 1, 13, 14, 4, 1, 2, 11, 11, 7, 1, 6, 3, 4, 11, 2, 1, 3, 5, 8, 2, 4, 8, 3, 1, 21, 3, 6, 8, 3, 2, 3, 8, 5, 2, 3, 2, 1, 1, 6, 10, 11, 2, 14, 7, 2, 4, 7, 6, 10, 5, 3, 10, 5, 6, 2, 2, 3, 3, 10, 4, 7, 3, 5, 3, 1, 1, 11, 25, 3, 12, 21, 2, 2, 4, 3, 1, 2, 21, 12, 2, 6, 1, 3, 2, 15, 1, 1, 5, 6, 5, 5, 8, 14, 12, 4, 7, 3, 2, 1, 2, 5, 3, 7, 4, 2, 7, 10, 2, 4, 5, 6, 6, 4, 10, 6, 20, 5, 3, 1, 3, 13, 5, 9, 6, 5, 3, 6, 2, 5, 2, 1, 2, 1, 2, 32, 4, 1, 3, 1, 5, 9, 1, 8, 3, 2, 2, 4, 5, 5, 5, 1, 3, 12, 5, 1, 1, 2, 6, 10, 3, 6, 5, 13, 5, 1, 5, 6, 1, 3, 2, 13, 1, 2, 4, 11, 2, 4, 9, 19, 4, 1, 1, 2, 8, 6, 7, 10, 1, 1, 6, 10, 5, 5, 7, 4, 2, 5, 20, 8, 1, 13, 9, 9, 3, 1, 1, 17, 13, 3, 4, 2, 5, 3, 1, 9, 1, 4, 4, 11, 7, 4, 4, 1, 7, 10, 5, 3, 6, 11, 1, 1, 9, 3, 1, 2, 1, 9, 3, 1, 2, 4, 12, 5, 1, 4, 2, 1, 2, 4, 8, 1, 12, 7, 13, 1, 1, 1, 3, 3, 1, 3, 3, 7, 9, 4, 1, 1, 1, 4, 3, 1, 3, 9, 16, 4, 5, 16, 7, 7, 1, 3, 1, 1, 10, 9, 1, 4, 7, 6, 1, 3, 6, 6, 4, 9, 1, 1, 10, 4, 3, 1, 3, 18, 1, 1, 1, 5, 21, 2, 1, 5, 1, 4, 6, 6, 2, 8, 18, 5, 2, 1, 3, 2, 6, 12, 1, 2, 4, 2, 1, 5, 9, 5, 2, 6, 12, 9, 1, 3, 5, 9, 1, 7, 9, 1, 5, 4, 5, 8, 1, 8, 2, 4, 11, 8, 3, 2, 5, 14, 2, 1, 2, 4, 14, 5, 4, 11, 4, 1, 7, 13, 3, 1, 7, 9, 6, 4, 12, 2, 4, 9, 7, 7, 2, 11, 10, 2, 8, 8, 2, 7, 6, 4, 1, 4, 5, 1, 3, 6, 3, 11, 20, 1, 9, 2, 9, 12, 1, 2, 6, 3, 5, 2, 2, 7, 3, 12, 3, 5, 3, 14, 2, 3, 14, 7, 7, 1, 2, 9, 2, 1, 15, 8, 2, 1, 16, 14, 1, 4, 8, 3, 12, 4, 2, 10, 5, 2, 6, 4, 3, 1, 2, 5, 15, 4, 3, 6, 1, 6, 2, 1, 3, 21, 7, 5, 2, 2, 5, 5, 7, 7, 6, 2, 23, 4, 2, 17, 10, 7, 6, 1, 11, 2, 29, 5, 2, 16, 9, 1, 1, 3, 21, 1, 2, 14, 14, 5, 4, 3, 3, 6, 5, 1, 5, 2, 10, 26, 3, 2, 9, 5, 6, 5, 8, 4, 7, 11, 1, 7, 7, 1, 4, 15, 11, 2, 4, 9, 1, 6, 17, 3, 6, 15, 9, 6, 4, 14, 1, 3, 13, 1, 1, 3, 8, 3, 2, 4, 7, 8, 2, 1, 1, 7, 4, 8, 8, 4, 2, 2, 9, 5, 1, 1, 6, 2, 1, 11, 3, 3, 20, 6, 1, 10, 12, 2, 2, 1, 6, 5, 8, 6, 4, 3, 1, 8, 27, 9, 1, 2, 5, 3, 23, 1, 9, 11, 2, 1, 1, 6, 13, 2, 3, 5, 11, 23, 5, 2, 2, 6, 5, 2, 3, 3, 5, 2, 22, 5, 3, 3, 14, 4, 4, 6, 2, 7, 3, 2, 6, 8, 1, 1, 3, 4, 3, 2, 2, 2, 1, 1, 3, 5, 6, 3, 2, 4, 1, 8, 6, 2, 16, 12, 1, 5, 13, 1, 2, 1, 6, 2, 7, 4, 6, 1, 1, 8, 10, 8, 2, 10, 6, 1, 9, 7, 2, 2, 6, 1, 4, 3, 3, 7, 3, 3, 6, 8, 1, 2, 11, 5, 8, 2, 2, 1, 1, 8, 4, 7, 7, 8, 1, 1, 7, 13, 5, 2, 14, 4, 1, 2, 16, 8, 1, 1, 10, 7, 2, 11, 7, 1, 2, 3, 2, 10, 2, 4, 15, 6, 2, 14, 15, 1, 1, 2, 10, 13, 10, 2, 17, 1, 1, 8, 1, 2, 12, 6, 4, 21, 8, 3, 15, 5, 5, 4, 4, 1, 1, 5, 5, 2, 6, 5, 2, 1, 7, 6, 7, 1, 9, 10, 5, 1, 10, 6, 4, 1, 2, 13, 3, 4, 4, 1, 1, 5, 3, 1, 6, 20, 1, 25, 3, 5, 8, 7, 2, 1, 4, 3, 2, 7, 6, 3, 7, 23, 9, 6, 1, 1, 9, 3, 1, 3, 7, 5, 2, 2, 3, 9, 2, 14, 12, 1, 14, 18, 1, 14, 2, 3, 6, 9, 2, 7, 9, 1, 6, 12, 2, 7, 2, 24, 3, 1, 1, 4, 4, 2, 1, 10, 24, 1, 2, 8, 6, 1, 12, 6, 2, 2, 8, 9, 1, 1, 2, 9, 7, 16, 2, 5, 2, 6, 1, 14, 7, 5, 3, 15, 13, 4, 1, 19, 8, 1, 4, 7, 4, 5, 4, 1, 12, 1, 3, 20, 11, 3, 5, 5, 6, 1, 2, 15, 13, 10, 1, 2, 4, 11, 2, 1, 7, 17, 4, 6, 2, 3, 2, 2, 2, 11, 18, 3, 1, 1, 3, 2, 3, 2, 4, 4, 1, 6, 8, 1, 2, 2, 6, 10, 2, 4, 1, 1, 4, 1, 11, 10, 3, 1, 9, 5, 5, 5, 4, 17, 16, 1, 4, 21, 10, 1, 5, 1, 8, 7, 14, 1, 1, 2, 9, 5, 11, 15, 5, 9, 4, 8, 2, 2, 16, 8, 2, 2, 5, 7, 13, 3, 3, 6, 5, 1, 1, 25, 10, 2, 5, 1, 1, 3, 4, 6, 2, 21, 2, 14, 30, 3, 1, 9, 15, 11, 3, 8, 11, 5, 1, 1, 1, 12, 2, 1, 1, 2, 27, 7, 1, 3, 4, 3, 12, 8, 2, 7, 11, 2, 3, 7, 1, 4, 1, 4, 4, 9, 2, 6, 8, 1, 2, 1, 8, 7, 3, 4, 24, 3, 11, 11, 1, 11, 18, 3, 1, 3, 2, 4, 1, 3, 5, 12, 1, 3, 10, 4, 4, 8, 12, 11, 5, 9, 1, 11, 1, 6, 13, 1, 1, 10, 23, 4, 7, 8, 6, 16, 5, 2, 1, 14, 7, 3, 7, 1, 4, 10, 1, 1, 6, 5, 8, 4, 3, 6, 1, 2, 2, 5, 16, 4, 1, 1, 5, 2, 1, 3, 1, 1, 2, 3, 11, 1, 7, 5, 4, 16, 4, 8, 8, 3, 2, 2, 2, 11, 8, 7, 2, 11, 1, 5, 10, 10, 1, 3, 14, 1, 15, 13, 2, 3, 2, 8, 1, 15, 10, 2, 4, 8, 1, 6, 14, 1, 1, 2, 5, 2, 6, 3, 2, 21, 10, 3, 7, 13, 5, 1, 1, 5, 12, 3, 2, 3, 5, 5, 1, 13, 27, 1, 6, 9, 9, 3, 9, 13, 4, 15, 6, 8, 5, 19, 1, 1, 1, 16, 2, 9, 7, 17, 1, 9, 2, 9, 4, 1, 7, 4, 13, 5, 5, 1, 5, 5, 1, 1, 9, 12, 4, 2, 4, 9, 4, 1, 3, 2, 2, 20, 2, 2, 8, 1, 12, 13, 7, 1, 5, 6, 2, 12, 16, 2, 14, 3, 7, 10, 5, 1, 3, 3, 2, 13, 12, 7, 1, 5, 3, 2, 1, 1, 4, 10, 2, 2, 11, 5, 1, 6, 4, 31, 6, 7, 2, 3, 1, 13, 11, 10, 1, 3, 9, 15, 1, 2, 11, 6, 2, 5, 5, 5, 6, 4, 3, 5, 11, 12, 6, 2, 2, 3, 1, 11, 7, 2, 27, 9, 2, 3, 22, 8, 2, 3, 13, 7, 4, 5, 1, 3, 3, 15, 5, 7, 7, 3, 4, 15, 7, 2, 6, 2, 17, 36, 7, 2, 3, 3, 3, 4, 6, 2, 3, 8, 4, 1, 6, 22, 10, 2, 6, 28, 6, 2, 4, 26, 7, 4, 1, 3, 12, 2, 1, 13, 3, 5, 3, 20, 1, 1, 2, 3, 6, 3, 3, 2, 1, 2, 2, 2, 1, 1, 17, 22, 4, 6, 11, 1, 8, 4, 2, 7, 2, 1, 8, 2, 1, 3, 2, 10, 2, 1, 1, 2, 16, 4, 7, 11, 3, 16, 14, 3, 12, 8, 2, 7, 3, 3, 16, 2, 5, 11, 12, 7, 2, 8, 1, 6, 10, 2, 4, 24, 7, 1, 4, 19, 11, 1, 14, 10, 1, 1, 3, 1, 1, 5, 6, 1, 5, 7, 2, 2, 1, 10, 17, 7, 1, 1, 2, 7, 3, 1, 2, 12, 10, 3, 2, 9, 10, 2, 1, 3, 19, 3, 3, 13, 9, 1, 18, 5, 1, 2, 8, 10, 1, 2, 5, 3, 3, 6, 11, 6, 6, 9, 3, 5, 3, 1, 9, 2, 11, 6, 3, 9, 4, 4, 3, 2, 23, 9, 1, 9, 5, 10, 9, 3, 6, 7, 3, 7, 6, 6, 4, 2, 4, 2, 7, 2, 6, 2, 8, 12, 3, 4, 4, 4, 1, 9, 12, 1, 2, 12, 7, 7, 6, 1, 3, 11, 14, 5, 1, 5, 4, 1, 9, 3, 2, 6, 13, 10, 8, 17, 3, 6, 8, 1, 1, 11, 12, 3, 6, 2, 7, 8, 1, 8, 14, 1, 21, 5, 2, 9, 13, 2, 3, 17, 2, 3, 4, 4, 4, 14, 9, 6, 6, 9, 2, 1, 1, 1, 1, 17, 5, 4, 8, 1, 4, 9, 3, 1, 18, 3, 5, 7, 3, 8, 6, 1, 8, 3, 5, 21, 9, 7, 2, 4, 5, 2, 15, 9, 1, 3, 3, 1, 4, 4, 1, 4, 6, 2, 13, 10, 4, 12, 2, 1, 18, 1, 1, 1, 1, 4, 1, 2, 6, 1, 10, 9, 20, 7, 7, 6, 6, 1, 15, 12, 1, 1, 5, 8, 1, 1, 16, 5, 1, 8, 1, 8, 2, 5, 18, 6, 1, 4, 7, 18, 3, 2, 2, 6, 23, 3, 7, 2, 1, 2, 4, 7, 7, 1, 6, 8, 2, 1, 1, 2, 10, 11, 5, 3, 1, 6, 1, 1, 2, 4, 6, 2, 1, 10, 4, 2, 13, 9, 19, 5, 2, 15, 8, 3, 10, 9, 2, 1, 10, 11, 3, 6, 9, 15, 2, 14, 10, 1, 6, 5, 1, 2, 12, 21, 2, 8, 9, 2, 2, 20, 13, 6, 14, 18, 3, 7, 13, 10, 4, 4, 5, 7, 2, 1, 2, 8, 4, 12, 3, 2, 4, 1, 1, 4, 10, 7, 14, 1, 2, 5, 3, 5, 6, 6, 12, 2, 4, 7, 8, 1, 2, 5, 4, 3, 7, 6, 4, 4, 16, 3, 1, 4, 11, 3, 3, 1, 4, 8, 9, 6, 2, 6, 12, 1, 1, 1, 2, 5, 2, 3, 4, 5, 4, 2, 3, 6, 1, 6, 10, 1, 1, 1, 3, 12, 6, 1, 4, 8, 7, 3, 5, 1, 6, 3, 2, 2, 7, 2, 1, 1, 5, 5, 1, 6, 5, 12, 3, 1, 15, 13, 3, 6, 7, 22, 5, 6, 3, 7, 1, 3, 2, 2, 13, 14, 2, 4, 1, 4, 2, 14, 11, 1, 3, 4, 9, 2, 4, 2, 2, 3, 9, 5, 9, 15, 1, 7, 2, 9, 1, 2, 11, 24, 7, 7, 13, 2, 4, 13, 8, 3, 7, 15, 4, 1, 19, 14, 2, 5, 7, 1, 2, 7, 6, 6, 11, 3, 12, 4, 8, 6, 7, 4, 11, 11, 1, 21, 7, 2, 11, 15, 1, 6, 8, 3, 5, 5, 7, 6, 2, 4, 16, 2, 6, 3, 6, 1, 1, 8, 3, 1, 1, 8, 3, 4, 3, 5, 1, 3, 16, 7, 1, 2, 16, 5, 1, 1, 4, 25, 1, 2, 5, 2, 6, 7, 3, 5, 8, 1, 3, 2, 3, 4, 2, 3, 7, 2, 5, 2, 2, 10, 12, 5, 11, 1, 8, 13, 10, 2, 4, 4, 3, 1, 3, 8, 3, 1, 2, 14, 6, 4, 10, 3, 1, 1, 11, 15, 9, 8, 1, 6, 9, 4, 8, 3, 10, 5, 1, 6, 10, 2, 14, 5, 14, 1, 7, 6, 1, 35, 1, 16, 7, 2, 1, 6, 11, 3, 2, 13, 4, 1, 2, 20, 1, 2, 19, 1, 5, 19, 4, 1, 2, 7, 7, 11, 25, 5, 1, 1, 9, 19, 3, 5, 3, 3, 6, 10, 1, 3, 7, 10, 5, 4, 1, 2, 7, 4, 4, 4, 1, 5, 14, 7, 1, 6, 21, 2, 1, 3, 3, 1, 8, 16, 3, 1, 14, 7, 2, 3, 5, 2, 7, 17, 2, 6, 12, 18, 1, 1, 17, 6, 5, 7, 8, 5, 3, 3, 2, 10, 1, 4, 8, 11, 2, 1, 3, 1, 3, 8, 15, 1, 1, 1, 3, 10, 9, 2, 1, 5, 4, 1, 8, 10, 1, 6, 5, 14, 6, 14, 4, 1, 7, 5, 6, 1, 5, 13, 6, 10, 4, 17, 5, 1, 2, 6, 7, 3, 8, 6, 8, 7, 3, 9, 3, 19, 7, 2, 9, 13, 1, 7, 8, 5, 2, 11, 5, 1, 3, 1, 7, 2, 3, 6, 2, 19, 3, 1, 1, 7, 7, 1, 7, 5, 1, 6, 5, 2, 11, 6, 3, 5, 5, 10, 7, 1, 4, 2, 2, 6, 3, 17, 2, 1, 5, 18, 2, 3, 16, 1, 16, 11, 7, 7, 14, 3, 2, 7, 2, 3, 17, 5, 1, 4, 13, 1, 5, 11, 3, 1, 2, 1, 2, 3, 18, 2, 1, 2, 10, 14, 3, 3, 4, 17, 2, 7, 1, 14, 14, 4, 7, 2, 2, 1, 8, 4, 8, 2, 6, 6, 10, 4, 2, 3, 1, 2, 4, 3, 3, 9, 4, 2, 6, 14, 3, 1, 15, 12, 8, 17, 4, 14, 14, 4, 2, 5, 11, 11, 1, 6, 10, 8, 1, 3, 15, 2, 3, 3, 1, 8, 3, 1, 10, 6, 6, 12, 3, 2, 2, 22, 5, 2, 7, 4, 7, 9, 4, 2, 11, 15, 8, 1, 1, 10, 9, 1, 1, 9, 7, 1, 2, 1, 1, 2, 13, 20, 3, 6, 1, 3, 11, 1, 13, 1, 2, 16, 13, 1, 2, 3, 1, 1, 18, 6, 5, 12, 3, 7, 7, 3, 9, 8, 6, 1, 3, 5, 4, 1, 1, 6, 3, 3, 3, 1, 9, 3, 12, 1, 5, 6, 3, 1, 5, 5, 3, 3, 3, 1, 7, 5, 5, 1, 4, 16, 2, 1, 8, 13, 7, 5, 7, 9, 2, 3, 2, 7, 10, 1, 3, 5, 2, 1, 2, 7, 2, 1, 1, 3, 1, 4, 10, 11, 2, 5, 11, 1, 2, 7, 4, 28, 5, 7, 3, 1, 7, 4, 1, 3, 2, 13, 3, 5, 26, 4, 3, 22, 7, 1, 6, 5, 5, 1, 6, 7, 2, 1, 21, 8, 7, 1, 5, 4, 8, 9, 3, 3, 4, 8, 5, 2, 3, 10, 4, 3, 3, 11, 14, 2, 9, 2, 13, 5, 1, 12, 8, 2, 1, 12, 7, 2, 12, 11, 3, 1, 8, 4, 2, 1, 2, 1, 4, 2, 2, 1, 6, 7, 2, 2, 5, 5, 2, 11, 1, 22, 3, 3, 13, 4, 1, 12, 2, 3, 15, 4, 8, 6, 3, 25, 6, 2, 9, 9, 1, 1, 1, 4, 1, 6, 2, 5, 1, 2, 4, 3, 3, 21, 9, 2, 3, 2, 18, 9, 21, 1, 5, 2, 2, 3, 9, 4, 5, 1, 2, 2, 3, 2, 7, 14, 4, 1, 6, 5, 4, 1, 6, 2, 1, 2, 8, 3, 1, 1, 26, 8, 3, 1, 11, 16, 7, 6, 9, 23, 5, 3, 5, 1, 1, 2, 8, 4, 18, 20, 5, 1, 7, 3, 1, 2, 18, 11, 9, 5, 4, 7, 12, 2, 12, 5, 3, 8, 4, 7, 5, 3, 11, 9, 7, 11, 1, 1, 2, 8, 10, 2, 3, 1, 1, 2, 3, 1, 1, 2, 3, 3, 3, 8, 13, 1, 11, 5, 5, 2, 1, 6, 1, 22, 5, 4, 14, 6, 1, 4, 9, 13, 8, 1, 12, 16, 2, 1, 5, 4, 1, 2, 1, 1, 7, 16, 6, 3, 13, 8, 1, 4, 9, 6, 19, 2, 7, 3, 2, 23, 7, 6, 5, 21, 5, 3, 1, 3, 3, 2, 15, 18, 10, 2, 3, 1, 4, 3, 9, 6, 3, 7, 7, 2, 1, 6, 9, 1, 6, 4, 8, 7, 2, 8, 2, 1, 11, 6, 4, 1, 2, 13, 5, 2, 2, 9, 1, 6, 6, 5, 2, 3, 14, 4, 2, 5, 1, 5, 9, 5, 2, 2, 2, 1, 13, 6, 1, 2, 3, 9, 1, 1, 2, 1, 1, 15, 26, 16, 1, 4, 6, 9, 4, 2, 9, 11, 2, 2, 10, 4, 2, 1, 3, 11, 12, 1, 1, 6, 2, 3, 1, 3, 16, 9, 4, 6, 5, 3, 9, 7, 1, 3, 4, 2, 19, 3, 1, 3, 9, 5, 1, 9, 4, 3, 4, 4, 7, 7, 4, 5, 16, 7, 1, 2, 3, 11, 3, 3, 7, 8, 1, 4, 9, 4, 1, 9, 7, 1, 4, 6, 10, 4, 10, 6, 2, 7, 9, 8, 1, 14, 1, 7, 1, 6, 8, 8, 5, 1, 3, 3, 8, 2, 7, 6, 6, 3, 2, 1, 2, 6, 4, 1, 5, 11, 22, 5, 1, 6, 11, 3, 4, 1, 7, 8, 9, 1, 5, 3, 1, 14, 5, 3, 1, 8, 9, 2, 4, 10, 5, 3, 8, 4, 16, 5, 1, 7, 13, 2, 5, 1, 4, 21, 9, 1, 4, 8, 3, 19, 4, 4, 23, 2, 13, 17, 1, 7, 6, 2, 6, 1, 4, 6, 2, 1, 3, 1, 4, 15, 1, 4, 5, 6, 5, 1, 22, 8, 5, 5, 16, 5, 4, 3, 1, 8, 7, 4, 4, 9, 7, 5, 16, 7, 11, 5, 1, 3, 1, 10, 5, 1, 12, 9, 3, 12, 11, 3, 7, 7, 21, 1, 3, 11, 6, 4, 4, 1, 3, 9, 6, 1, 3, 8, 1, 2, 9, 14, 1, 1, 7, 1, 2, 3, 6, 5, 3, 2, 11, 8, 2, 2, 8, 2, 2, 13, 2, 6, 6, 2, 3, 12, 8, 2, 9, 12, 1, 7, 9, 5, 1, 3, 6, 8, 1, 1, 23, 3, 1, 3, 5, 6, 5, 1, 9, 10, 26, 7, 2, 22, 11, 4, 7, 4, 6, 5, 4, 12, 6, 2, 1, 9, 10, 10, 5, 23, 13, 5, 12, 3, 1, 13, 9, 3, 6, 11, 12, 1, 1, 5, 5, 2, 7, 6, 12, 3, 3, 10, 20, 3, 6, 9, 3, 1, 2, 3, 5, 6, 2, 8, 4, 6, 6, 1, 3, 6, 2, 10, 10, 22, 1, 2, 9, 3, 6, 9, 1, 3, 2, 8, 11, 8, 3, 9, 2, 5, 1, 2, 4, 15, 9, 6, 10, 1, 8, 20, 5, 10, 13, 3, 5, 17, 2, 9, 9, 1, 2, 7, 2, 1, 7, 11, 10, 11, 3, 1, 8, 2, 6, 9, 5, 5, 6, 1, 6, 3, 5, 6, 2, 1, 12, 9, 8, 2, 15, 1, 1, 16, 4, 1, 1, 24, 15, 4, 2, 8, 10, 1, 8, 11, 1, 8, 1, 1, 2, 3, 3, 8, 5, 6, 6, 4, 2, 10, 3, 9, 2, 17, 6, 1, 1, 1, 4, 5, 7, 7, 3, 4, 9, 17, 3, 1, 4, 8, 8, 4, 6, 3, 3, 13, 9, 6, 2, 2, 10, 7, 1, 18, 14, 2, 3, 9, 2, 1, 8, 15, 3, 6, 2, 1, 13, 2, 13, 11, 3, 1, 1, 1, 6, 11, 3, 6, 9, 3, 2, 7, 11, 10, 1, 16, 13, 3, 3, 15, 1, 1, 1, 13, 6, 3, 1, 1, 19, 9, 1, 6, 10, 1, 8, 7, 10, 4, 1, 2, 3, 4, 19, 5, 1, 5, 3, 1, 7, 16, 3, 2, 4, 2, 4, 2, 3, 2, 2, 3, 2, 1, 8, 8, 16, 1, 9, 9, 1, 7, 2, 2, 1, 2, 5, 16, 3, 5, 3, 1, 1, 12, 11, 8, 9, 3, 14, 11, 2, 1, 5, 8, 3, 2, 4, 3, 5, 2, 8, 7, 1, 4, 1, 3, 1, 18, 11, 11, 1, 1, 4, 13, 1, 4, 8, 2, 6, 27, 5, 23, 5, 2, 2, 2, 1, 23, 7, 4, 3, 16, 3, 11, 6, 6, 1, 1, 8, 12, 6, 1, 3, 7, 5, 1, 14, 10, 6, 5, 3, 2, 11, 11, 1, 2, 2, 6, 2, 9, 5, 6, 3, 3, 2, 5, 12, 3, 7, 5, 12, 2, 22, 2, 2, 3, 5, 1, 1, 10, 13, 4, 5, 2, 7, 7, 2, 6, 19, 4, 1, 3, 9, 3, 1, 5, 1, 3, 1, 2, 9, 1, 1, 7, 15, 3, 1, 2, 1, 4, 1, 8, 1, 2, 4, 1, 1, 14, 5, 6, 4, 2, 7, 7, 4, 2, 2, 1, 9, 11, 2, 14, 1, 2, 9, 1, 1, 3, 10, 12, 9, 9, 1, 6, 7, 3, 5, 25, 9, 1, 4, 16, 3, 2, 13, 3, 3, 5, 14, 8, 5, 3, 6, 8, 6, 1, 5, 13, 8, 1, 4, 3, 6, 1, 8, 10, 1, 7, 17, 2, 3, 10, 1, 20, 11, 5, 4, 1, 11, 7, 3, 2, 4, 11, 3, 1, 7, 8, 2, 12, 5, 6, 14, 3, 3, 4, 1, 3, 3, 16, 4, 4, 9, 3, 5, 8, 2, 1, 3, 12, 13, 12, 3, 3, 8, 3, 1, 3, 10, 2, 2, 9, 8, 4, 6, 13, 1, 5, 1, 8, 3, 4, 3, 10, 3, 4, 12, 10, 2, 4, 1, 7, 6, 8, 11, 3, 5, 5, 3, 3, 1, 4, 8, 8, 1, 8, 14, 1, 8, 8, 5, 1, 3, 2, 1, 5, 2, 3, 3, 6, 14, 4, 2, 4, 9, 9, 6, 6, 2, 7, 10, 2, 2, 14, 9, 1, 1, 6, 8, 4, 12, 10, 2, 1, 1, 2, 4, 7, 2, 1, 2, 10, 29, 3, 2, 10, 4, 6, 5, 1, 7, 8, 6, 1, 2, 2, 3, 7, 1, 14, 5, 2, 2, 3, 16, 3, 1, 8, 18, 4, 4, 4, 9, 3, 2, 4, 2, 4, 1, 9, 5, 1, 12, 11, 2, 5, 29, 1, 2, 4, 15, 5, 2, 1, 4, 24, 13, 4, 7, 15, 2, 5, 11, 6, 4, 5, 13, 1, 4, 11, 9, 1, 1, 4, 11, 12, 2, 8, 16, 15, 1, 1, 2, 2, 6, 3, 2, 2, 1, 1, 5, 4, 2, 1, 3, 8, 1, 3, 3, 12, 2, 34, 11, 2, 6, 14, 3, 4, 5, 31, 9, 1, 1, 4, 17, 2, 9, 22, 2, 6, 4, 2, 5, 10, 4, 3, 7, 4, 10, 1, 5, 5, 5, 8, 1, 7, 1, 2, 5, 17, 2, 8, 3, 1, 4, 9, 1, 1, 1, 5, 1, 5, 8, 9, 3, 2, 3, 6, 3, 9, 7, 1, 3, 7, 7, 2, 1, 9, 5, 8, 3, 6, 4, 2, 15, 1, 2, 3, 4, 2, 7, 6, 8, 7, 3, 1, 1, 13, 4, 2, 5, 10, 5, 13, 3, 11, 26, 1, 10, 11, 14, 3, 1, 4, 4, 3, 9, 7, 6, 8, 1, 4, 3, 1, 1, 16, 1, 11, 15, 4, 2, 3, 1, 3, 1, 2, 1, 4, 2, 1, 2, 8, 15, 11, 12, 2, 3, 8, 4, 4, 10, 5, 14, 9, 1, 3, 2, 2, 1, 2, 2, 3, 1, 2, 2, 1, 16, 11, 2, 1, 4, 2, 6, 12, 3, 3, 7, 1, 15, 17, 1, 3, 20, 9, 4, 1, 6, 4, 3, 1, 4, 9, 16, 2, 21, 4, 1, 4, 5, 3, 20, 1, 6, 26, 1, 9, 11, 3, 5, 7, 24, 8, 2, 1, 5, 6, 3, 9, 13, 3, 1, 5, 2, 1, 9, 16, 1, 3, 10, 6, 4, 1, 14, 6, 1, 1, 9, 29, 7, 19, 1, 6, 3, 1, 2, 1, 1, 12, 10, 3, 6, 8, 7, 2, 1, 3, 3, 6, 14, 9, 12, 5, 3, 6, 3, 3, 5, 8, 1, 12, 6, 7, 7, 11, 1, 4, 13, 2, 18, 11, 2, 16, 2, 2, 20, 8, 12, 8, 2, 15, 15, 11, 4, 2, 1, 4, 8, 1, 3, 12, 18, 3, 1, 4, 5, 4, 13, 2, 1, 6, 6, 2, 4, 9, 1, 1, 4, 9, 1, 10, 1, 1, 1, 2, 3, 9, 9, 1, 1, 3, 4, 5, 4, 1, 1, 5, 3, 4, 1, 2, 3, 2, 5, 3, 6, 3, 1, 2, 1, 1, 2, 28, 9, 2, 13, 5, 1, 2, 12, 12, 4, 5, 9, 2, 3, 1, 1, 17, 16, 2, 9, 13, 3, 8, 3, 1, 8, 6, 2, 2, 5, 11, 1, 19, 5, 3, 1, 1, 1, 9, 14, 3, 4, 14, 4, 5, 3, 3, 2, 15, 9, 6, 19, 5, 1, 4, 10, 5, 2, 4, 1, 3, 3, 6, 4, 3, 9, 6, 4, 4, 9, 1, 2, 9, 1, 1, 7, 8, 1, 12, 2, 14, 5, 5, 2, 7, 8, 7, 3, 3, 16, 8, 1, 3, 8, 1, 26, 4, 21, 11, 4, 2, 3, 2, 7, 5, 1, 2, 11, 1, 1, 4, 4, 6, 2, 11, 7, 3, 3, 6, 2, 1, 1, 5, 2, 1, 5, 3, 1, 4, 1, 2, 9, 3, 1, 2, 2, 5, 6, 5, 1, 2, 4, 3, 5, 9, 6, 2, 3, 1, 3, 5, 12, 1, 6, 11, 5, 1, 4, 3, 1, 21, 3, 1, 3, 8, 3, 1, 9, 16, 1, 1, 15, 14, 2, 3, 3, 2, 13, 2, 1, 1, 5, 15, 2, 12, 9, 1, 8, 4, 4, 1, 7, 1, 2, 3, 4, 5, 1, 12, 9, 6, 2, 2, 2, 1, 5, 2, 13, 7, 1, 21, 5, 3, 5, 7, 5, 6, 5, 18, 6, 1, 2, 8, 7, 8, 12, 1, 1, 3, 1, 1, 2, 8, 21, 5, 5, 2, 2, 15, 1, 3, 1, 10, 8, 1, 3, 8, 6, 1, 3, 12, 4, 12, 6, 10, 6, 2, 6, 17, 1, 9, 2, 1, 14, 5, 1, 7, 7, 3, 5, 10, 1, 12, 5, 1, 6, 10, 6, 4, 9, 3, 2, 8, 5, 2, 3, 7, 9, 1, 2, 5, 4, 2, 1, 3, 5, 1, 2, 2, 17, 15, 4, 1, 27, 9, 1, 3, 5, 1, 1, 1, 2, 13, 5, 9, 1, 1, 2, 1, 3, 9, 2, 4, 5, 5, 1, 6, 2, 7, 7, 4, 4, 2, 13, 10, 3, 2, 12, 10, 3, 8, 4, 3, 7, 4, 5, 2, 11, 2, 6, 3, 16, 10, 10, 3, 1, 2, 5, 5, 1, 3, 5, 6, 2, 6, 10, 20, 1, 5, 8, 1, 9, 6, 1, 2, 14, 22, 1, 9, 2, 7, 2, 13, 2, 7, 7, 1, 5, 13, 1, 2, 3, 2, 7, 11, 4, 6, 1, 18, 7, 2, 2, 25, 4, 1, 18, 4, 2, 8, 14, 1, 2, 12, 8, 4, 8, 10, 3, 1, 1, 3, 8, 10, 3, 3, 15, 3, 1, 8, 6, 11, 7, 1, 3, 10, 12, 1, 12, 6, 20, 8, 2, 3, 12, 4, 13, 4, 4, 5, 5, 7, 14, 9, 1, 2, 9, 4, 6, 1, 21, 6, 1, 7, 9, 6, 2, 3, 3, 5, 8, 3, 3, 3, 5, 7, 1, 5, 2, 7, 3, 4, 8, 9, 1, 2, 9, 8, 5, 18, 2, 6, 5, 1, 4, 3, 1, 4, 14, 2, 3, 5, 6, 1, 2, 17, 18, 1, 1, 1, 5, 10, 4, 4, 1, 2, 1, 2, 22, 6, 8, 2, 4, 5, 14, 3, 1, 2, 7, 12, 6, 7, 14, 4, 6, 5, 3, 2, 10, 3, 1, 1, 1, 16, 2, 7, 6, 11, 9, 4, 1, 6, 11, 6, 9, 7, 2, 15, 7, 1, 7, 6, 4, 2, 18, 2, 5, 4, 12, 1, 5, 14, 1, 1, 1, 6, 6, 6, 5, 10, 2, 4, 1, 6, 6, 1, 1, 2, 11, 6, 1, 13, 3, 3, 2, 2, 9, 9, 1, 3, 1, 4, 17, 7, 1, 4, 13, 10, 4, 1, 10, 3, 4, 5, 3, 2, 2, 7, 11, 12, 12, 6, 6, 1, 23, 8, 4, 10, 4, 5, 8, 4, 18, 9, 3, 2, 1, 6, 6, 2, 3, 3, 13, 7, 2, 3, 9, 2, 1, 1, 8, 3, 1, 6, 1, 6, 5, 1, 6, 3, 13, 8, 1, 3, 12, 5, 4, 8, 1, 3, 1, 2, 3, 1, 1, 4, 4, 3, 10, 7, 2, 4, 17, 1, 3, 4, 4, 4, 2, 5, 11, 4, 1, 4, 10, 7, 2, 2, 13, 5, 5, 20, 8, 1, 2, 5, 2, 2, 18, 9, 7, 18, 4, 2, 11, 4, 15, 7, 3, 2, 3, 4, 1, 24, 3, 2, 8, 4, 6, 6, 3, 2, 11, 3, 4, 9, 1, 3, 7, 2, 3, 8, 7, 1, 2, 5, 2, 1, 11, 2, 3, 5, 11, 1, 5, 4, 15, 2, 4, 12, 2, 3, 7, 4, 4, 6, 1, 2, 1, 3, 4, 5, 7, 4, 1, 8, 1, 1, 16, 10, 6, 26, 4, 10, 6, 1, 2, 8, 9, 3, 1, 6, 3, 2, 2, 4, 8, 14, 4, 1, 2, 1, 4, 6, 1, 2, 1, 1, 2, 8, 15, 2, 10, 3, 2, 7, 8, 11, 3, 6, 17, 4, 1, 8, 20, 6, 7, 2, 4, 5, 1, 2, 4, 3, 1, 6, 3, 2, 3, 2, 3, 2, 1, 6, 2, 1, 1, 1, 5, 1, 8, 12, 3, 1, 3, 1, 6, 5, 4, 14, 1, 6, 8, 4, 2, 2, 2, 7, 6, 3, 10, 4, 9, 10, 3, 1, 9, 8, 2, 8, 10, 8, 1, 5, 6, 10, 5, 1, 6, 10, 2, 4, 10, 1, 8, 15, 5, 2, 10, 2, 1, 5, 9, 2, 5, 5, 5, 2, 21, 11, 3, 11, 3, 4, 3, 4, 3, 10, 1, 2, 11, 10, 5, 1, 5, 8, 2, 9, 8, 11, 8, 4, 18, 5, 15, 8, 4, 1, 22, 3, 10, 9, 6, 2, 2, 16, 8, 3, 3, 6, 17, 1, 12, 11, 1, 2, 2, 4, 2, 16, 13, 5, 3, 1, 2, 7, 1, 3, 1, 22, 11, 3, 1, 8, 14, 8, 2, 1, 6, 1, 4, 10, 1, 7, 10, 5, 6, 6, 1, 1, 7, 3, 3, 1, 18, 7, 1, 5, 4, 4, 1, 2, 12, 10, 2, 26, 2, 1, 4, 8, 2, 2, 1, 3, 8, 1, 5, 1, 4, 3, 8, 2, 3, 1, 2, 1, 3, 2, 2, 1, 3, 1, 4, 5, 6, 7, 4, 4, 5, 4, 11, 1, 4, 8, 1, 3, 7, 4, 2, 16, 2, 9, 1, 2, 5, 10, 5, 6, 2, 3, 5, 1, 8, 5, 3, 1, 11, 5, 3, 2, 9, 1, 1, 7, 2, 1, 3, 25, 2, 4, 1, 20, 4, 2, 9, 9, 2, 1, 11, 17, 2, 1, 4, 1, 4, 4, 1, 9, 1, 3, 3, 1, 4, 7, 10, 1, 7, 13, 1, 3, 7, 2, 14, 5, 5, 9, 7, 6, 1, 1, 1, 1, 4, 2, 3, 3, 1, 7, 7, 1, 6, 1, 1, 4, 7, 9, 6, 1, 1, 4, 2, 1, 7, 12, 1, 12, 8, 3, 6, 8, 6, 1, 1, 13, 13, 3, 6, 20, 1, 5, 5, 4, 1, 21, 12, 1, 1, 6, 2, 1, 3, 24, 5, 1, 7, 3, 1, 2, 9, 13, 4, 1, 3, 3, 2, 3, 8, 3, 1, 2, 3, 2, 7, 6, 6, 6, 7, 16, 3, 4, 5, 3, 2, 9, 1, 6, 2, 13, 15, 4, 3, 7, 9, 2, 3, 4, 8, 2, 4, 21, 1, 1, 21, 10, 1, 3, 1, 5, 5, 4, 1, 2, 6, 11, 2, 1, 19, 11, 1, 1, 8, 35, 3, 2, 11, 3, 17, 14, 2, 6, 5, 5, 12, 4, 1, 7, 10, 2, 5, 1, 3, 2, 2, 4, 2, 8, 8, 8, 16, 3, 9, 3, 2, 3, 10, 7, 10, 8, 4, 19, 2, 4, 11, 1, 1, 4, 8, 12, 17, 1, 1, 6, 18, 4, 8, 13, 2, 5, 3, 1, 7, 6, 6, 2, 4, 2, 4, 1, 6, 1, 6, 11, 8, 1, 10, 10, 4, 1, 11, 10, 7, 8, 3, 4, 6, 3, 3, 12, 5, 15, 5, 4, 4, 1, 14, 8, 7, 3, 4, 5, 1, 9, 5, 1, 7, 8, 1, 5, 6, 5, 1, 1, 4, 1, 15, 9, 3, 13, 7, 1, 3, 11, 2, 5, 8, 8, 2, 5, 1, 1, 5, 4, 9, 2, 5, 3, 4, 1, 2, 5, 3, 3, 1, 14, 4, 2, 1, 1, 1, 19, 2, 2, 30, 7, 2, 4, 7, 9, 3, 11, 3, 9, 1, 1, 3, 1, 7, 6, 18, 8, 9, 7, 1, 2, 8, 6, 1, 12, 26, 3, 1, 5, 1, 4, 12, 1, 2, 24, 2, 1, 2, 16, 14, 1, 5, 2, 1, 7, 3, 1, 1, 3, 1, 3, 1, 1, 3, 7, 23, 1, 10, 4, 1, 7, 2, 1, 5, 7, 14, 1, 2, 4, 1, 1, 1, 12, 4, 19, 2, 15, 13, 5, 2, 2, 9, 1, 8, 3, 10, 1, 9, 6, 3, 2, 4, 8, 2, 3, 43, 17, 8, 7, 4, 2, 9, 7, 1, 10, 9, 5, 1, 22, 5, 5, 1, 5, 3, 2, 9, 8, 6, 1, 7, 14, 2, 1, 5, 3, 5, 2, 13, 10, 1, 1, 14, 5, 1, 6, 7, 1, 3, 27, 2, 2, 9, 9, 1, 1, 15, 1, 10, 7, 5, 2, 1, 21, 7, 6, 1, 9, 6, 4, 9, 16, 1, 2, 33, 6, 6, 9, 6, 1, 1, 5, 10, 2, 13, 1, 2, 2, 7, 1, 7, 8, 3, 2, 10, 13, 1, 8, 6, 4, 4, 3, 28, 10, 2, 19, 2, 1, 7, 5, 4, 1, 4, 4, 1, 5, 11, 3, 6, 3, 3, 3, 4, 4, 7, 5, 1, 5, 9, 1, 1, 8, 6, 1, 1, 2, 1, 5, 17, 5, 11, 22, 1, 1, 5, 10, 4, 8, 3, 5, 3, 3, 2, 1, 1, 3, 1, 1, 5, 1, 10, 10, 3, 9, 4, 11, 11, 1, 1, 11, 3, 6, 9, 2, 10, 15, 5, 2, 10, 12, 2, 2, 10, 12, 5, 1, 4, 8, 3, 11, 9, 4, 2, 6, 9, 1, 2, 2, 1, 3, 22, 9, 1, 1, 1, 3, 1, 1, 18, 4, 1, 5, 10, 3, 6, 1, 4, 6, 6, 1, 22, 1, 7, 6, 14, 6, 2, 5, 13, 17, 1, 3, 2, 4, 1, 7, 4, 2, 2, 2, 2, 10, 6, 3, 8, 12, 3, 5, 8, 20, 7, 1, 3, 5, 1, 2, 8, 19, 6, 1, 1, 7, 17, 3, 3, 11, 6, 1, 3, 1, 2, 5, 13, 1, 5, 5, 2, 5, 10, 1, 18, 5, 6, 2, 8, 12, 4, 17, 7, 6, 3, 2, 7, 26, 5, 1, 4, 11, 3, 3, 11, 14, 4, 1, 6, 20, 5, 3, 2, 1, 3, 8, 1, 2, 1, 7, 1, 3, 1, 1, 1, 10, 6, 11, 8, 1, 6, 2, 2, 2, 5, 1, 1, 3, 2, 5, 1, 6, 9, 6, 1, 3, 5, 3, 2, 10, 6, 2, 3, 2, 12, 2, 22, 12, 1, 4, 9, 4, 1, 1, 2, 3, 1, 2, 14, 8, 11, 11, 4, 4, 2, 10, 6, 2, 7, 5, 1, 4, 24, 5, 7, 8, 1, 3, 7, 12, 6, 1, 1, 1, 11, 7, 2, 12, 20, 2, 3, 4, 14, 7, 4, 1, 5, 18, 2, 1, 2, 2, 1, 2, 1, 2, 6, 15, 3, 5, 9, 6, 2, 5, 7, 9, 8, 4, 3, 1, 3, 8, 5, 2, 15, 3, 1, 31, 14, 1, 1, 10, 4, 1, 4, 3, 1, 1, 13, 11, 9, 10, 7, 1, 6, 2, 1, 3, 6, 4, 6, 6, 4, 3, 1, 4, 2, 4, 1, 3, 12, 3, 8, 3, 2, 9, 4, 2, 1, 6, 2, 1, 6, 3, 9, 1, 12, 13, 2, 10, 6, 7, 4, 4, 2, 2, 5, 4, 2, 1, 11, 1, 9, 5, 7, 15, 3, 1, 2, 5, 4, 11, 9, 2, 3, 13, 4, 1, 2, 3, 22, 10, 2, 19, 7, 10, 8, 2, 5, 6, 13, 10, 1, 2, 8, 3, 4, 1, 4, 1, 3, 4, 4, 3, 5, 22, 2, 9, 2, 3, 2, 2, 1, 2, 6, 3, 2, 2, 8, 7, 8, 5, 12, 20, 2, 2, 2, 2, 4, 5, 6, 1, 4, 8, 7, 5, 1, 5, 5, 14, 4, 1, 2, 3, 2, 3, 15, 4, 2, 1, 8, 13, 2, 5, 1, 6, 14, 5, 4, 1, 1, 7, 1, 5, 6, 9, 7, 25, 6, 6, 2, 4, 1, 2, 4, 10, 5, 9, 11, 4, 1, 12, 9, 4, 6, 3, 2, 2, 5, 4, 7, 4, 9, 4, 4, 20, 5, 2, 7, 2, 4, 2, 1, 3, 1, 8, 7, 1, 4, 12, 5, 1, 4, 15, 1, 1, 12, 13, 1, 1, 2, 3, 11, 1, 7, 7, 8, 14, 2, 2, 11, 7, 1, 1, 6, 10, 6, 1, 4, 10, 3, 1, 3, 7, 1, 4, 3, 2, 9, 9, 5, 1, 1, 9, 4, 1, 8, 3, 8, 1, 31, 7, 10, 6, 6, 15, 1, 4, 1, 13, 1, 9, 1, 3, 15, 11, 2, 15, 7, 4, 1, 4, 14, 2, 7, 24, 3, 3, 7, 2, 7, 4, 4, 1, 9, 12, 6, 9, 5, 3, 4, 6, 1, 6, 19, 2, 13, 13, 1, 5, 3, 9, 6, 2, 6, 8, 4, 1, 6, 6, 3, 4, 6, 1, 7, 5, 3, 3, 5, 9, 1, 9, 4, 1, 5, 6, 3, 1, 2, 9, 5, 5, 12, 2, 4, 4, 2, 6, 16, 11, 2, 10, 2, 3, 4, 3, 1, 4, 11, 9, 1, 1, 1, 8, 7, 2, 18, 12, 6, 1, 5, 14, 6, 1, 3, 7, 9, 1, 4, 14, 1, 3, 2, 10, 8, 3, 6, 24, 2, 5, 8, 4, 7, 14, 2, 5, 8, 3, 3, 5, 5, 1, 5, 12, 2, 2, 6, 27, 9, 3, 4, 3, 1, 5, 10, 18, 3, 7, 5, 3, 5, 4, 2, 3, 19, 10, 2, 2, 4, 5, 6, 15, 10, 2, 6, 5, 4, 5, 3, 6, 6, 12, 2, 12, 5, 6, 1, 5, 3, 7, 2, 13, 8, 9, 2, 19, 4, 1, 4, 3, 5, 7, 4, 1, 4, 5, 3, 6, 3, 11, 1, 4, 11, 3, 8, 13, 2, 1, 7, 2, 6, 2, 7, 13, 3, 3, 3, 3, 5, 1, 11, 3, 4, 14, 4, 5, 6, 1, 8, 5, 1, 5, 1, 2, 7, 4, 5, 4, 2, 2, 6, 9, 6, 2, 3, 2, 6, 7, 5, 4, 11, 3, 7, 1, 11, 30, 3, 19, 18, 1, 7, 23, 3, 3, 12, 6, 3, 2, 2, 5, 6, 1, 4, 11, 14, 1, 4, 9, 6, 1, 1, 2, 1, 2, 7, 1, 4, 7, 2, 2, 2, 4, 7, 3, 6, 5, 3, 1, 10, 8, 2, 9, 4, 6, 18, 2, 13, 22, 2, 10, 9, 1, 6, 2, 7, 9, 7, 2, 1, 5, 8, 6, 1, 2, 5, 3, 8, 3, 1, 6, 4, 3, 5, 15, 5, 8, 7, 1, 10, 8, 1, 4, 4, 1, 3, 6, 1, 21, 1, 9, 3, 4, 1, 14, 2, 2, 3, 6, 1, 3, 6, 2, 5, 14, 3, 19, 11, 9, 2, 2, 1, 16, 7, 1, 1, 5, 10, 3, 8, 1, 4, 14, 1, 3, 4, 2, 1, 3, 4, 7, 6, 4, 5, 5, 3, 1, 1, 3, 9, 2, 18, 12, 3, 4, 9, 8, 2, 1, 8, 16, 1, 7, 11, 4, 12, 2, 1, 12, 2, 9, 13, 7, 1, 2, 9, 2, 5, 1, 1, 3, 13, 7, 5, 3, 4, 16, 1, 1, 4, 2, 1, 7, 6, 3, 2, 1, 3, 9, 2, 3, 4, 19, 11, 11, 4, 17, 8, 4, 4, 3, 4, 10, 11, 1, 10, 10, 1, 1, 3, 8, 1, 1, 2, 8, 5, 6, 1, 5, 20, 2, 2, 8, 2, 18, 8, 6, 4, 6, 7, 3, 2, 5, 2, 2, 5, 7, 2, 2, 16, 15, 7, 1, 3, 6, 10, 2, 15, 4, 2, 1, 4, 10, 8, 3, 2, 5, 9, 8, 8, 3, 2, 1, 3, 2, 3, 2, 5, 2, 2, 3, 4, 3, 12, 17, 3, 7, 9, 3, 2, 1, 1, 2, 1, 5, 3, 6, 2, 1, 22, 7, 4, 7, 5, 5, 1, 6, 1, 2, 2, 18, 6, 3, 2, 5, 1, 7, 11, 1, 1, 7, 9, 1, 9, 7, 7, 1, 3, 1, 3, 5, 1, 9, 8, 3, 36, 5, 2, 4, 1, 8, 6, 1, 5, 9, 3, 6, 12, 1, 1, 12, 7, 9, 5, 8, 6, 16, 9, 24, 10, 1, 4, 5, 8, 7, 5, 23, 6, 4, 4, 1, 7, 7, 8, 6, 5, 1, 6, 14, 4, 4, 17, 2, 9, 4, 4, 2, 9, 10, 1, 1, 11, 4, 1, 1, 4, 2, 1, 5, 7, 2, 1, 10, 5, 8, 7, 3, 21, 4, 1, 9, 7, 9, 3, 1, 8, 17, 6, 9, 15, 2, 2, 1, 9, 3, 3, 6, 10, 2, 10, 4, 2, 10, 2, 9, 11, 1, 2, 4, 3, 6, 3, 1, 11, 5, 8, 3, 6, 3, 1, 10, 7, 2, 14, 9, 6, 2, 4, 4, 1, 1, 6, 1, 1, 1, 9, 1, 3, 12, 8, 1, 11, 8, 5, 5, 3, 3, 1, 3, 3, 2, 4, 5, 2, 3, 1, 10, 7, 7, 12, 11, 14, 7, 12, 3, 7, 2, 4, 12, 1, 3, 7, 6, 2, 7, 3, 4, 2, 6, 3, 2, 1, 1, 6, 8, 1, 2, 2, 4, 6, 4, 4, 5, 11, 3, 3, 21, 6, 5, 8, 1, 3, 10, 2, 4, 7, 7, 1, 11, 11, 5, 20, 6, 28, 8, 2, 1, 5, 2, 5, 15, 4, 23, 6, 3, 3, 1, 3, 7, 16, 1, 1, 3, 8, 1, 11, 17, 2, 2, 6, 3, 15, 13, 8, 2, 1, 2, 5, 2, 6, 16, 3, 1, 9, 4, 2, 11, 6, 1, 2, 4, 9, 2, 5, 2, 9, 3, 1, 7, 14, 3, 1, 3, 2, 7, 6, 16, 1, 2, 7, 1, 3, 6, 1, 7, 24, 5, 4, 11, 16, 4, 3, 1, 2, 4, 1, 1, 1, 4, 27, 2, 7, 18, 1, 1, 3, 1, 1, 8, 5, 12, 13, 10, 1, 4, 8, 2, 4, 6, 2, 6, 5, 1, 2, 32, 3, 10, 5, 2, 2, 11, 13, 2, 1, 6, 6, 10, 6, 1, 5, 2, 2, 13, 1, 2, 1, 4, 3, 6, 3, 7, 7, 2, 4, 24, 2, 2, 3, 2, 2, 10, 5, 7, 1, 9, 7, 1, 1, 6, 5, 1, 1, 2, 1, 9, 9, 5, 8, 10, 4, 6, 4, 9, 7, 2, 10, 4, 1, 2, 4, 8, 2, 6, 4, 6, 12, 10, 9, 1, 6, 3, 6, 6, 1, 2, 10, 12, 1, 9, 1, 9, 12, 1, 4, 3, 2, 11, 6, 1, 2, 1, 1, 3, 2, 3, 2, 7, 1, 2, 3, 1, 2, 16, 1, 1, 1, 1, 2, 3, 11, 5, 8, 6, 2, 23, 10, 5, 5, 4, 4, 5, 8, 3, 4, 9, 2, 4, 2, 4, 1, 5, 11, 1, 1, 6, 1, 4, 8, 5, 1, 2, 6, 1, 17, 4, 1, 7, 9, 12, 3, 4, 7, 6, 4, 5, 5, 6, 5, 6, 12, 6, 1, 7, 3, 2, 16, 21, 2, 1, 1, 21, 1, 2, 6, 1, 28, 14, 8, 1, 5, 5, 4, 1, 1, 2, 1, 6, 10, 2, 1, 2, 4, 3, 2, 2, 2, 8, 7, 2, 3, 1, 9, 13, 8, 9, 8, 6, 2, 9, 17, 1, 3, 5, 6, 1, 7, 4, 6, 2, 2, 5, 4, 3, 3, 5, 2, 7, 9, 3, 2, 2, 2, 8, 4, 6, 10, 2, 5, 13, 1, 6, 1, 8, 5, 15, 9, 8, 4, 21, 11, 4, 3, 1, 14, 6, 5, 3, 8, 1, 2, 11, 5, 2, 8, 13, 2, 1, 10, 17, 6, 3, 11, 7, 2, 4, 7, 4, 1, 4, 2, 1, 2, 6, 2, 7, 5, 10, 14, 4, 6, 3, 7, 1, 5, 3, 2, 3, 2, 1, 5, 10, 8, 2, 5, 14, 7, 3, 2, 23, 3, 3, 9, 2, 7, 2, 3, 17, 7, 1, 1, 7, 16, 8, 7, 6, 9, 2, 10, 13, 11, 1, 2, 6, 4, 2, 1, 11, 17, 8, 1, 7, 9, 7, 2, 7, 7, 2, 9, 4, 1, 2, 2, 3, 1, 6, 2, 1, 2, 9, 8, 1, 4, 8, 2, 2, 3, 1, 13, 12, 3, 3, 16, 7, 8, 1, 1, 9, 12, 6, 4, 1, 1, 8, 13, 10, 21, 11, 1, 2, 10, 5, 6, 3, 2, 7, 5, 5, 4, 5, 3, 1, 4, 15, 1, 4, 2, 8, 5, 7, 3, 1, 4, 14, 2, 7, 11, 22, 1, 1, 9, 16, 5, 1, 1, 1, 2, 6, 2, 12, 19, 1, 2, 1, 2, 14, 6, 1, 1, 6, 2, 4, 8, 5, 8, 2, 6, 3, 14, 10, 2, 5, 6, 1, 2, 10, 3, 2, 6, 1, 2, 4, 6, 7, 2, 10, 6, 1, 12, 15, 5, 7, 22, 2, 1, 11, 8, 2, 12, 1, 4, 4, 1, 3, 5, 11, 2, 2, 9, 4, 4, 3, 9, 2, 2, 4, 3, 1, 4, 4, 3, 2, 21, 9, 1, 1, 5, 9, 3, 8, 5, 8, 11, 2, 8, 9, 2, 7, 17, 3, 2, 1, 2, 3, 11, 13, 3, 3, 1, 6, 15, 5, 10, 7, 1, 5, 6, 2, 6, 11, 1, 22, 9, 4, 6, 3, 10, 4, 2, 10, 1, 3, 4, 2, 1, 8, 14, 3, 5, 10, 1, 1, 6, 5, 1, 1, 7, 8, 7, 15, 12, 5, 2, 4, 12, 2, 8, 3, 1, 1, 1, 10, 20, 4, 1, 5, 10, 2, 1, 1, 15, 5, 1, 7, 16, 5, 4, 3, 11, 1, 3, 2, 1, 2, 1, 4, 11, 5, 1, 3, 11, 4, 6, 1, 8, 6, 4, 4, 2, 6, 6, 2, 3, 1, 1, 10, 1, 4, 1, 3, 3, 2, 7, 5, 3, 9, 18, 4, 1, 5, 2, 6, 3, 5, 1, 6, 3, 1, 3, 4, 5, 1, 12, 14, 1, 5, 4, 1, 1, 1, 3, 3, 16, 2, 4, 4, 9, 3, 6, 6, 1, 8, 4, 2, 15, 10, 1, 2, 2, 4, 1, 11, 12, 1, 15, 9, 7, 8, 5, 2, 1, 6, 2, 5, 4, 1, 7, 19, 1, 3, 6, 20, 2, 1, 2, 11, 2, 10, 1, 4, 4, 1, 14, 5, 2, 1, 6, 2, 4, 2, 8, 1, 7, 8, 14, 2, 8, 6, 4, 2, 19, 5, 5, 25, 3, 2, 7, 5, 1, 7, 5, 7, 14, 2, 3, 3, 3, 7, 8, 1, 1, 14, 8, 3, 8, 1, 4, 4, 4, 1, 1, 6, 4, 1, 17, 11, 6, 1, 2, 8, 4, 4, 1, 2, 12, 1, 1, 6, 7, 2, 1, 7, 7, 12, 6, 1, 4, 6, 2, 4, 6, 10, 4, 8, 2, 1, 5, 2, 22, 3, 1, 1, 4, 10, 1, 1, 4, 2, 9, 11, 5, 1, 8, 3, 7, 2, 10, 9, 5, 6, 9, 7, 1, 3, 24, 3, 1, 3, 28, 8, 3, 1, 8, 2, 2, 1, 5, 5, 4, 11, 2, 2, 7, 4, 5, 1, 10, 14, 1, 9, 17, 1, 4, 3, 1, 5, 9, 6, 1, 1, 7, 6, 2, 8, 10, 6, 1, 22, 1, 16, 1, 10, 4, 9, 8, 3, 8, 12, 5, 11, 4, 2, 7, 7, 1, 10, 7, 9, 4, 2, 13, 14, 5, 6, 4, 1, 2, 7, 9, 1, 3, 8, 4, 1, 2, 2, 3, 4, 4, 1, 5, 5, 2, 2, 4, 3, 4, 5, 4, 3, 4, 7, 2, 1, 4, 16, 10, 1, 1, 24, 9, 2, 1, 8, 4, 1, 13, 17, 2, 1, 1, 7, 3, 3, 4, 1, 24, 6, 3, 6, 4, 2, 1, 4, 1, 8, 3, 3, 12, 9, 3, 4, 3, 1, 4, 3, 4, 1, 7, 7, 1, 6, 3, 5, 9, 8, 2, 8, 3, 3, 1, 2, 9, 6, 10, 20, 1, 5, 5, 6, 5, 11, 1, 1, 5, 4, 1, 1, 6, 9, 10, 2, 7, 2, 5, 2, 5, 10, 1, 4, 10, 5, 3, 9, 21, 6, 1, 1, 4, 5, 4, 3, 1, 6, 11, 2, 7, 11, 1, 2, 15, 4, 2, 3, 2, 5, 2, 9, 12, 2, 6, 5, 14, 1, 3, 12, 9, 4, 2, 7, 2, 4, 10, 14, 8, 2, 13, 13, 4, 5, 19, 12, 5, 1, 1, 1, 3, 6, 11, 6, 6, 14, 10, 9, 25, 7, 10, 9, 2, 21, 2, 1, 2, 5, 4, 3, 3, 13, 5, 1, 5, 7, 1, 6, 6, 17, 3, 9, 6, 9, 1, 4, 6, 1, 4, 9, 9, 1, 4, 8, 8, 5, 1, 9, 2, 3, 6, 1, 2, 5, 4, 2, 2, 10, 4, 1, 1, 8, 10, 2, 1, 17, 6, 3, 12, 5, 1, 18, 2, 8, 5, 1, 4, 4, 2, 3, 4, 4, 2, 4, 3, 1, 3, 10, 4, 6, 10, 1, 2, 3, 1, 6, 1, 2, 3, 2, 1, 3, 1, 24, 2, 2, 2, 4, 1, 7, 5, 11, 2, 1, 9, 1, 3, 5, 3, 9, 8, 5, 15, 1, 5, 11, 7, 13, 7, 2, 1, 1, 1, 3, 1, 3, 3, 9, 1, 7, 3, 1, 3, 1, 3, 1, 13, 7, 3, 1, 1, 2, 2, 2, 3, 7, 1, 1, 8, 1, 2, 2, 1, 2, 6, 2, 4, 10, 21, 9, 1, 1, 20, 2, 3, 2, 2, 6, 1, 3, 14, 15, 5, 11, 17, 6, 1, 4, 17, 10, 12, 4, 2, 5, 8, 5, 2, 3, 1, 1, 7, 12, 11, 1, 3, 1, 1, 1, 10, 8, 11, 8, 1, 4, 2, 4, 1, 2, 3, 10, 1, 5, 2, 4, 5, 3, 11, 2, 7, 11, 2, 3, 5, 1, 4, 1, 4, 23, 2, 2, 13, 4, 14, 5, 2, 1, 2, 10, 1, 6, 5, 13, 6, 3, 4, 4, 2, 1, 7, 10, 3, 4, 1, 2, 1, 4, 9, 4, 5, 12, 5, 1, 4, 12, 10, 10, 21, 3, 1, 6, 4, 2, 1, 18, 6, 1, 9, 14, 4, 1, 2, 2, 3, 10, 12, 6, 1, 3, 5, 3, 2, 1, 8, 7, 1, 16, 4, 6, 5, 6, 5, 3, 8, 6, 6, 2, 1, 4, 12, 4, 4, 1, 4, 12, 3, 5, 9, 6, 1, 1, 6, 2, 1, 2, 3, 7, 7, 4, 4, 9, 9, 5, 24, 10, 2, 3, 16, 6, 2, 1, 4, 5, 19, 13, 2, 7, 10, 2, 1, 1, 19, 6, 3, 8, 6, 1, 2, 6, 4, 2, 4, 4, 1, 6, 6, 3, 1, 6, 7, 4, 29, 9, 2, 5, 26, 7, 10, 2, 7, 10, 10, 4, 2, 10, 5, 1, 7, 3, 3, 3, 3, 3, 7, 1, 9, 6, 1, 1, 1, 6, 5, 2, 6, 15, 5, 5, 6, 3, 7, 2, 3, 7, 2, 3, 2, 2, 10, 14, 2, 7, 7, 2, 16, 1, 6, 1, 6, 6, 2, 3, 5, 13, 10, 2, 1, 3, 10, 4, 3, 2, 16, 1, 1, 3, 2, 3, 6, 4, 1, 1, 3, 18, 6, 1, 6, 13, 4, 3, 11, 1, 1, 4, 18, 2, 1, 3, 28, 4, 1, 1, 3, 9, 8, 2, 4, 12, 4, 1, 2, 2, 1, 17, 2, 9, 2, 9, 15, 1, 2, 10, 3, 1, 2, 5, 4, 3, 1, 3, 6, 7, 2, 3, 1, 4, 2, 1, 7, 3, 1, 6, 4, 15, 10, 2, 6, 18, 2, 3, 21, 3, 4, 1, 1, 2, 1, 16, 1, 3, 25, 10, 4, 8, 2, 2, 7, 3, 3, 3, 14, 2, 6, 4, 6, 1, 1, 8, 2, 2, 19, 8, 20, 2, 1, 30, 8, 1, 2, 12, 7, 6, 6, 11, 2, 1, 3, 2, 5, 8, 2, 2, 2, 1, 2, 7, 11, 8, 1, 6, 11, 9, 1, 1, 10, 7, 2, 1, 2, 16, 4, 4, 4, 6, 2, 3, 3, 2, 5, 4, 12, 8, 3, 4, 8, 16, 1, 4, 5, 5, 1, 9, 17, 5, 5, 14, 1, 6, 3, 2, 2, 8, 8, 1, 6, 10, 7, 1, 1, 1, 11, 3, 1, 18, 2, 14, 9, 4, 2, 13, 7, 3, 6, 18, 1, 5, 15, 3, 1, 3, 3, 1, 1, 10, 1, 3, 2, 1, 2, 8, 4, 2, 3, 21, 2, 11, 8, 5, 15, 2, 6, 12, 6, 10, 2, 5, 12, 16, 11, 10, 6, 6, 4, 1, 7, 6, 2, 6, 9, 5, 2, 1, 9, 10, 2, 9, 19, 3, 5, 11, 2, 9, 1, 15, 10, 4, 2, 5, 12, 8, 2, 3, 1, 6, 10, 1, 4, 2, 1, 1, 1, 3, 11, 5, 1, 2, 11, 13, 2, 5, 5, 8, 2, 3, 1, 2, 6, 9, 4, 6, 1, 7, 2, 4, 21, 2, 2, 4, 1, 2, 6, 1, 4, 11, 2, 3, 9, 4, 6, 3, 5, 6, 2, 1, 8, 7, 8, 1, 4, 5, 8, 9, 10, 2, 1, 4, 5, 1, 6, 7, 7, 21, 9, 2, 1, 3, 2, 7, 10, 15, 4, 5, 2, 12, 5, 1, 4, 15, 1, 4, 16, 6, 15, 2, 7, 1, 4, 3, 2, 2, 5, 17, 3, 5, 9, 4, 4, 8, 2, 2, 8, 8, 2, 5, 17, 1, 1, 2, 17, 11, 1, 10, 8, 3, 3, 2, 4, 12, 2, 1, 2, 12, 4, 1, 3, 2, 4, 9, 2, 3, 6, 9, 8, 5, 3, 7, 9, 1, 1, 10, 10, 2, 1, 1, 13, 19, 2, 5, 5, 13, 1, 6, 21, 3, 15, 2, 2, 1, 1, 8, 4, 1, 5, 18, 8, 7, 12, 22, 9, 10, 12, 9, 9, 11, 4, 2, 13, 21, 4, 2, 6, 9, 3, 1, 1, 10, 5, 19, 7, 4, 3, 2, 3, 17, 4, 1, 1, 7, 16, 4, 1, 13, 6, 2, 5, 22, 3, 3, 4, 6, 4, 1, 15, 1, 6, 6, 1, 8, 21, 12, 2, 7, 9, 13, 2, 11, 6, 6, 1, 6, 6, 8, 8, 7, 10, 2, 2, 11, 4, 1, 8, 12, 1, 2, 5, 7, 3, 2, 7, 7, 4, 3, 11, 7, 1, 1, 10, 17, 2, 15, 10, 5, 2, 1, 1, 9, 13, 4, 4, 8, 12, 3, 4, 13, 6, 1, 2, 5, 1, 1, 9, 2, 1, 2, 2, 9, 7, 9, 1, 22, 1, 7, 4, 8, 2, 7, 11, 3, 1, 5, 2, 9, 7, 3, 1, 11, 8, 7, 3, 12, 11, 4, 1, 2, 1, 6, 7, 1, 1, 9, 1, 6, 14, 6, 1, 3, 1, 2, 9, 13, 3, 2, 5, 11, 1, 2, 3, 1, 4, 2, 4, 13, 3, 3, 1, 1, 5, 2, 8, 21, 3, 2, 14, 4, 6, 3, 8, 7, 2, 4, 7, 2, 3, 1, 10, 9, 3, 2, 6, 2, 1, 20, 3, 6, 2, 5, 11, 3, 1, 2, 1, 2, 3, 1, 7, 12, 5, 1, 5, 5, 6, 1, 3, 7, 1, 10, 1, 11, 12, 2, 6, 6, 14, 4, 13, 8, 1, 2, 6, 6, 3, 3, 2, 4, 1, 1, 23, 5, 5, 6, 16, 3, 2, 2, 1, 1, 11, 5, 1, 4, 8, 6, 2, 4, 12, 4, 5, 12, 9, 4, 4, 8, 1, 8, 16, 1, 3, 1, 4, 4, 1, 3, 16, 5, 3, 11, 8, 3, 1, 4, 11, 6, 6, 10, 6, 7, 9, 1, 9, 10, 7, 6, 5, 2, 1, 1, 9, 2, 1, 6, 5, 2, 2, 2, 3, 3, 8, 8, 8, 5, 2, 1, 6, 3, 1, 1, 4, 6, 1, 3, 8, 13, 3, 1, 1, 2, 6, 12, 1, 7, 3, 3, 2, 21, 3, 5, 15, 10, 1, 2, 8, 3, 13, 5, 1, 5, 9, 2, 13, 6, 2, 1, 6, 6, 4, 6, 1, 2, 1, 2, 10, 1, 1, 1, 8, 7, 3, 3, 9, 23, 6, 1, 6, 8, 3, 1, 2, 8, 9, 1, 19, 1, 1, 4, 3, 1, 11, 6, 1, 5, 9, 1, 5, 10, 1, 2, 12, 2, 13, 7, 5, 5, 1, 5, 4, 20, 7, 1, 2, 15, 3, 1, 3, 17, 6, 3, 9, 3, 1, 3, 8, 3, 1, 3, 22, 6, 2, 6, 2, 5, 3, 3, 8, 5, 5, 8, 8, 3, 1, 10, 5, 18, 15, 5, 8, 9, 7, 6, 3, 7, 12, 8, 1, 14, 4, 2, 2, 3, 2, 1, 1, 5, 6, 12, 3, 5, 1, 5, 1, 2, 3, 2, 8, 6, 2, 1, 2, 24, 1, 1, 15, 9, 2, 4, 3, 13, 1, 4, 15, 1, 5, 11, 2, 14, 1, 5, 4, 1, 5, 6, 1, 7, 11, 5, 2, 8, 3, 2, 2, 2, 6, 1, 2, 8, 2, 18, 3, 1, 5, 4, 2, 14, 10, 6, 2, 10, 6, 3, 12, 3, 1, 1, 25, 8, 1, 1, 12, 11, 3, 5, 2, 4, 12, 2, 1, 20, 2, 1, 6, 2, 1, 10, 10, 7, 1, 8, 10, 19, 4, 1, 4, 4, 14, 3, 3, 8, 2, 1, 6, 15, 7, 2, 20, 2, 1, 2, 7, 8, 6, 3, 19, 4, 4, 4, 1, 22, 16, 4, 1, 6, 7, 3, 4, 1, 7, 4, 1, 1, 4, 14, 14, 2, 2, 23, 2, 4, 4, 2, 6, 20, 10, 3, 6, 3, 6, 12, 7, 1, 6, 7, 1, 1, 3, 3, 7, 4, 1, 2, 23, 1, 1, 3, 15, 5, 2, 1, 8, 19, 3, 1, 2, 17, 12, 2, 4, 2, 2, 7, 24, 3, 4, 4, 1, 1, 6, 3, 2, 9, 5, 1, 3, 7, 2, 9, 13, 1, 7, 15, 3, 9, 4, 7, 29, 2, 8, 15, 2, 1, 10, 5, 5, 1, 2, 10, 1, 1, 6, 2, 1, 9, 5, 3, 1, 4, 9, 7, 2, 1, 1, 2, 7, 3, 4, 19, 1, 3, 8, 12, 1, 1, 14, 9, 4, 29, 3, 1, 10, 3, 1, 5, 3, 4, 7, 4, 3, 8, 16, 1, 5, 7, 7, 5, 16, 1, 3, 2, 1, 11, 7, 4, 8, 2, 2, 13, 3, 1, 1, 19, 10, 1, 3, 4, 2, 2, 2, 3, 11, 12, 5, 2, 2, 3, 3, 1, 3, 7, 4, 17, 11, 5, 9, 6, 11, 2, 3, 11, 1, 3, 1, 4, 3, 2, 3, 4, 5, 6, 1, 4, 1, 1, 3, 2, 3, 5, 1, 1, 13, 9, 2, 3, 5, 12, 9, 7, 2, 2, 2, 3, 5, 2, 3, 2, 2, 13, 1, 4, 1, 11, 13, 3, 2, 15, 11, 1, 1, 15, 6, 1, 3, 6, 5, 3, 4, 3, 1, 3, 9, 2, 1, 17, 5, 3, 1, 3, 8, 2, 2, 9, 12, 2, 1, 1, 3, 4, 4, 6, 9, 8, 4, 3, 1, 4, 2, 3, 11, 17, 9, 3, 2, 5, 21, 2, 2, 16, 2, 7, 19, 7, 4, 1, 3, 5, 3, 5, 3, 3, 5, 10, 3, 6, 7, 1, 6, 7, 1, 1, 3, 3, 1, 4, 3, 2, 1, 3, 12, 12, 13, 7, 1, 5, 2, 2, 3, 11, 6, 3, 11, 4, 1, 2, 6, 1, 10, 13, 2, 1, 2, 10, 2, 4, 5, 1, 3, 7, 14, 8, 16, 3, 2, 2, 1, 8, 21, 4, 1, 2, 5, 13, 3, 2, 9, 7, 4, 1, 1, 27, 3, 8, 3, 3, 6, 16, 6, 1, 13, 18, 1, 5, 1, 1, 6, 9, 1, 11, 12, 5, 1, 6, 1, 8, 7, 2, 1, 3, 3, 1, 8, 14, 9, 2, 9, 12, 13, 5, 5, 2, 1, 1, 2, 6, 1, 18, 1, 2, 8, 1, 1, 8, 12, 2, 14, 5, 1, 3, 9, 10, 2, 3, 8, 1, 6, 7, 13, 3, 5, 13, 4, 12, 9, 2, 2, 4, 8, 14, 14, 3, 5, 2, 3, 4, 3, 12, 7, 2, 12, 4, 2, 1, 3, 1, 1, 8, 1, 9, 10, 8, 1, 9, 13, 1, 4, 15, 9, 2, 4, 1, 6, 3, 8, 22, 6, 3, 13, 8, 3, 5, 12, 1, 1, 2, 25, 4, 1, 14, 17, 2, 1, 4, 4, 5, 2, 3, 7, 2, 9, 1, 3, 10, 12, 1, 7, 6, 2, 23, 3, 2, 1, 7, 1, 4, 15, 3, 2, 5, 2, 1, 1, 21, 8, 4, 8, 13, 6, 1, 3, 4, 1, 2, 2, 4, 8, 6, 1, 8, 10, 4, 18, 1, 3, 3, 2, 1, 5, 10, 10, 2, 2, 6, 6, 7, 2, 1, 11, 16, 4, 5, 9, 2, 8, 5, 3, 14, 1, 4, 1, 10, 7, 3, 12, 5, 9, 5, 4, 18, 14, 3, 8, 5, 6, 12, 3, 1, 14, 8, 4, 4, 15, 1, 1, 5, 12, 5, 4, 3, 2, 2, 1, 4, 4, 1, 7, 12, 1, 3, 3, 8, 7, 1, 1, 23, 6, 7, 2, 1, 4, 9, 11, 1, 1, 4, 8, 6, 1, 2, 15, 7, 3, 4, 12, 1, 2, 9, 6, 4, 8, 4, 3, 9, 12, 1, 9, 2, 6, 8, 3, 3, 2, 9, 1, 2, 5, 4, 4, 2, 2, 1, 6, 13, 2, 4, 10, 4, 1, 4, 5, 5, 3, 15, 1, 2, 3, 5, 1, 1, 5, 8, 5, 2, 16, 4, 1, 4, 3, 4, 2, 8, 10, 5, 25, 7, 1, 5, 3, 3, 3, 2, 5, 7, 4, 3, 5, 8, 6, 6, 1, 11, 1, 3, 2, 11, 19, 4, 5, 16, 6, 6, 4, 8, 11, 1, 1, 8, 10, 2, 6, 5, 1, 2, 8, 4, 6, 18, 6, 6, 4, 5, 9, 7, 2, 1, 7, 6, 1, 3, 13, 14, 7, 8, 7, 4, 7, 3, 2, 5, 4, 1, 1, 1, 1, 8, 10, 1, 5, 5, 1, 1, 5, 20, 6, 1, 2, 1, 2, 10, 1, 6, 12, 6, 7, 12, 4, 7, 6, 2, 2, 8, 9, 3, 15, 14, 2, 8, 7, 3, 4, 5, 12, 2, 6, 6, 7, 9, 1, 1, 11, 3, 1, 1, 1, 2, 3, 3, 3, 1, 5, 10, 6, 7, 1, 18, 6, 2, 4, 9, 3, 4, 19, 6, 2, 1, 4, 3, 7, 2, 1, 4, 2, 1, 2, 8, 4, 1, 14, 14, 4, 1, 13, 4, 2, 1, 10, 15, 6, 1, 6, 23, 12, 1, 1, 12, 1, 1, 3, 18, 4, 12, 1, 2, 2, 20, 5, 2, 9, 9, 1, 15, 12, 6, 10, 11, 2, 1, 2, 5, 1, 9, 9, 3, 7, 12, 2, 1, 3, 5, 1, 9, 7, 3, 6, 6, 2, 1, 1, 9, 1, 1, 7, 21, 1, 4, 4, 2, 5, 3, 15, 17, 5, 8, 2, 11, 4, 2, 2, 7, 6, 1, 3, 4, 7, 4, 5, 3, 6, 1, 3, 6, 14, 1, 1, 3, 7, 9, 1, 18, 17, 1, 1, 2, 1, 4, 8, 4, 6, 5, 5, 7, 2, 6, 1, 2, 3, 19, 1, 6, 9, 11, 1, 3, 14, 8, 2, 6, 12, 4, 2, 4, 1, 6, 2, 5, 10, 3, 2, 33, 13, 6, 6, 2, 11, 10, 5, 23, 7, 3, 1, 10, 9, 4, 2, 17, 5, 1, 22, 11, 1, 10, 13, 2, 3, 8, 3, 2, 6, 4, 4, 11, 8, 10, 3, 1, 3, 9, 7, 2, 6, 16, 15, 7, 3, 2, 8, 5, 2, 9, 8, 5, 1, 4, 5, 1, 2, 1, 6, 7, 1, 1, 2, 4, 1, 5, 7, 5, 8, 10, 1, 6, 3, 6, 3, 7, 5, 3, 2, 4, 3, 1, 8, 10, 2, 5, 6, 6, 2, 15, 9, 2, 2, 2, 6, 4, 1, 5, 11, 5, 2, 3, 15, 12, 1, 2, 10, 10, 7, 2, 1, 3, 13, 9, 10, 8, 1, 5, 5, 6, 1, 1, 6, 3, 9, 10, 4, 15, 14, 2, 4, 2, 16, 6, 1, 2, 2, 3, 1, 5, 4, 5, 1, 1, 28, 5, 3, 6, 12, 4, 2, 4, 7, 10, 10, 16, 4, 15, 6, 2, 3, 9, 5, 8, 2, 4, 2, 8, 9, 4, 5, 1, 2, 1, 4, 2, 2, 1, 5, 5, 8, 1, 2, 5, 5, 4, 11, 4, 4, 2, 1, 5, 8, 1, 2, 8, 12, 9, 7, 12, 1, 8, 4, 1, 10, 11, 5, 8, 2, 3, 7, 1, 8, 7, 1, 5, 15, 9, 4, 3, 21, 2, 2, 1, 4, 6, 1, 3, 31, 2, 2, 1, 4, 1, 3, 3, 1, 7, 1, 2, 7, 9, 1, 5, 15, 1, 3, 1, 12, 9, 8, 5, 1, 1, 4, 4, 6, 5, 1, 7, 2, 1, 8, 10, 1, 36, 9, 14, 19, 5, 2, 8, 4, 1, 1, 3, 22, 11, 2, 2, 14, 28, 1, 2, 2, 1, 4, 2, 1, 3, 13, 5, 1, 1, 2, 4, 3, 4, 14, 15, 7, 4, 1, 4, 2, 5, 1, 6, 7, 1, 4, 10, 1, 3, 17, 4, 2, 5, 5, 3, 4, 6, 7, 1, 4, 4, 4, 3, 1, 10, 9, 3, 1, 3, 1, 9, 3, 2, 7, 4, 1, 1, 5, 9, 2, 1, 4, 2, 1, 1, 2, 6, 1, 1, 6, 5, 2, 2, 5, 3, 4, 5, 1, 1, 3, 1, 3, 9, 11, 1, 8, 4, 1, 1, 9, 3, 6, 3, 15, 4, 1, 7, 4, 5, 1, 3, 8, 2, 18, 4, 5, 7, 2, 2, 4, 3, 7, 11, 3, 1, 4, 8, 2, 1, 5, 7, 3, 8, 7, 6, 5, 4, 3, 1, 8, 8, 6, 6, 10, 15, 5, 12, 9, 1, 5, 12, 6, 16, 11, 3, 11, 3, 1, 11, 6, 2, 2, 8, 6, 6, 7, 6, 1, 3, 1, 7, 8, 2, 1, 12, 4, 10, 4, 1, 6, 10, 5, 1, 2, 5, 3, 4, 2, 1, 5, 2, 7, 4, 4, 3, 7, 5, 2, 6, 12, 5, 4, 6, 16, 1, 10, 10, 3, 2, 11, 7, 13, 9, 1, 2, 1, 5, 23, 5, 2, 2, 1, 4, 1, 1, 10, 22, 8, 4, 2, 14, 7, 4, 1, 2, 1, 5, 8, 1, 7, 14, 4, 7, 16, 4, 1, 5, 7, 1, 5, 7, 19, 1, 5, 2, 6, 11, 14, 1, 6, 15, 2, 1, 1, 3, 7, 4, 3, 1, 4, 3, 4, 2, 1, 3, 3, 1, 1, 13, 13, 1, 1, 2, 3, 2, 2, 3, 6, 1, 3, 1, 2, 9, 2, 1, 7, 11, 1, 3, 15, 14, 1, 4, 7, 3, 8, 24, 2, 9, 5, 10, 4, 8, 4, 2, 1, 3, 1, 6, 2, 1, 16, 14, 1, 16, 4, 9, 1, 2, 2, 1, 3, 30, 9, 1, 1, 7, 1, 1, 1, 9, 7, 2, 11, 3, 2, 6, 2, 3, 5, 15, 1, 3, 1, 1, 1, 1, 2, 2, 4, 2, 3, 9, 5, 1, 6, 7, 3, 1, 4, 6, 1, 3, 6, 4, 4, 2, 14, 6, 9, 14, 2, 12, 7, 1, 26, 3, 1, 1, 5, 8, 14, 1, 11, 10, 6, 1, 4, 23, 7, 6, 10, 1, 1, 4, 14, 2, 3, 15, 8, 2, 3, 10, 8, 2, 1, 18, 8, 5, 1, 4, 6, 8, 3, 1, 8, 1, 11, 1, 4, 1, 3, 4, 5, 7, 12, 6, 1, 9, 7, 1, 9, 1, 6, 4, 13, 3, 2, 3, 4, 5, 5, 1, 3, 3, 7, 7, 3, 1, 2, 8, 1, 1, 3, 6, 15, 10, 2, 3, 10, 2, 8, 7, 1, 1, 4, 10, 2, 3, 8, 2, 1, 1, 2, 13, 1, 1, 6, 2, 28, 9, 3, 1, 2, 1, 3, 1, 5, 10, 7, 1, 1, 1, 5, 3, 3, 5, 1, 1, 5, 2, 8, 8, 3, 1, 12, 1, 4, 14, 7, 1, 2, 15, 5, 1, 6, 2, 4, 16, 1, 2, 1, 12, 5, 4, 1, 11, 2, 1, 2, 11, 2, 6, 16, 1, 7, 4, 6, 1, 7, 1, 3, 3, 4, 5, 6, 3, 1, 4, 11, 10, 1, 7, 8, 6, 7, 3, 2, 1, 1, 8, 1, 4, 7, 8, 14, 3, 1, 19, 3, 4, 5, 1, 10, 13, 17, 1, 1, 2, 1, 7, 10, 1, 2, 5, 2, 6, 22, 4, 1, 1, 2, 5, 10, 1, 10, 18, 7, 1, 4, 6, 9, 1, 4, 2, 1, 1, 10, 10, 1, 6, 2, 3, 5, 3, 1, 2, 1, 5, 1, 6, 10, 4, 3, 23, 1, 5, 12, 3, 18, 5, 1, 4, 18, 2, 6, 12, 12, 1, 1, 12, 11, 1, 5, 5, 3, 6, 8, 4, 5, 3, 2, 2, 3, 1, 14, 2, 4, 3, 6, 7, 1, 8, 2, 3, 9, 11, 5, 8, 5, 4, 2, 2, 11, 10, 4, 2, 3, 3, 4, 2, 7, 9, 6, 5, 7, 6, 1, 2, 5, 7, 9, 6, 3, 1, 10, 19, 1, 4, 2, 1, 9, 8, 1, 8, 11, 1, 1, 1, 26, 3, 2, 1, 2, 5, 1, 12, 23, 2, 1, 5, 7, 2, 12, 8, 2, 4, 8, 1, 1, 3, 8, 1, 13, 6, 1, 2, 1, 3, 3, 14, 4, 2, 13, 9, 3, 1, 5, 3, 1, 4, 32, 5, 1, 1, 7, 10, 5, 1, 23, 11, 1, 1, 2, 14, 13, 6, 4, 4, 1, 11, 7, 2, 4, 2, 1, 1, 5, 1, 6, 10, 1, 2, 6, 6, 3, 2, 5, 4, 4, 1, 5, 11, 4, 20, 11, 2, 5, 17, 2, 4, 4, 1, 7, 7, 3, 5, 24, 5, 1, 1, 3, 7, 2, 4, 3, 9, 5, 3, 2, 8, 7, 11, 4, 1, 13, 7, 1, 3, 5, 1, 3, 2, 1, 3, 3, 14, 3, 1, 4, 7, 2, 4, 4, 12, 1, 1, 14, 8, 3, 9, 5, 6, 7, 8, 1, 1, 2, 11, 1, 7, 16, 3, 1, 2, 7, 1, 2, 14, 6, 1, 4, 4, 2, 4, 12, 6, 13, 15, 4, 5, 8, 5, 1, 10, 11, 2, 11, 8, 3, 1, 3, 9, 9, 1, 3, 8, 3, 12, 9, 7, 6, 1, 9, 1, 1, 6, 13, 11, 3, 7, 2, 1, 16, 11, 1, 5, 7, 6, 1, 6, 10, 3, 4, 11, 19, 4, 3, 18, 11, 2, 7, 10, 3, 5, 5, 1, 6, 11, 13, 5, 19, 8, 4, 2, 3, 1, 1, 1, 8, 10, 1, 3, 1, 11, 1, 1, 6, 6, 7, 1, 2, 11, 18, 10, 3, 3, 1, 2, 2, 6, 7, 11, 13, 4, 1, 5, 2, 1, 11, 5, 1, 1, 17, 11, 8, 12, 1, 1, 6, 11, 8, 7, 1, 6, 1, 2, 25, 1, 1, 2, 1, 7, 7, 18, 3, 1, 14, 6, 1, 10, 2, 5, 6, 3, 15, 1, 2, 9, 4, 4, 5, 1, 1, 3, 3, 2, 2, 15, 17, 4, 1, 4, 2, 2, 3, 3, 9, 3, 5, 1, 5, 15, 2, 2, 22, 11, 4, 7, 12, 1, 5, 2, 2, 1, 5, 1, 6, 12, 2, 1, 4, 2, 4, 1, 12, 10, 5, 2, 12, 21, 7, 5, 3, 6, 12, 14, 2, 2, 7, 14, 2, 2, 3, 1, 3, 5, 18, 5, 4, 4, 1, 4, 18, 5, 1, 17, 6, 5, 6, 6, 4, 21, 3, 2, 6, 7, 14, 4, 16, 14, 1, 3, 17, 6, 2, 19, 3, 2, 5, 1, 2, 1, 2, 1, 1, 1, 8, 3, 47, 5, 2, 3, 2, 2, 1, 2, 1, 3, 8, 14, 8, 11, 3, 2, 10, 10, 11, 1, 3, 1, 1, 1, 4, 4, 2, 8, 2, 17, 27, 1, 1, 4, 5, 2, 9, 1, 2, 3, 15, 6, 1, 2, 3, 10, 9, 1, 2, 10, 4, 2, 3, 5, 4, 4, 14, 3, 2, 8, 5, 1, 1, 4, 3, 5, 8, 3, 1, 11, 13, 13, 22, 5, 1, 1, 4, 3, 3, 1, 3, 1, 1, 3, 4, 5, 7, 2, 2, 8, 5, 2, 11, 1, 11, 5, 1, 1, 6, 3, 1, 2, 1, 2, 26, 2, 2, 15, 14, 7, 6, 16, 13, 2, 3, 11, 5, 1, 6, 13, 1, 1, 3, 14, 10, 1, 10, 10, 3, 2, 2, 9, 7, 6, 4, 7, 4, 2, 4, 7, 4, 9, 8, 2, 6, 19, 2, 1, 4, 6, 2, 2, 5, 3, 1, 2, 3, 9, 5, 1, 1, 8, 1, 4, 7, 1, 6, 2, 7, 11, 6, 1, 1, 6, 8, 1, 2, 6, 11, 6, 1, 4, 3, 7, 4, 12, 1, 3, 14, 2, 7, 10, 5, 15, 3, 6, 9, 1, 3, 19, 5, 2, 6, 2, 2, 1, 1, 5, 12, 10, 1, 1, 3, 6, 5, 4, 2, 1, 23, 3, 1, 1, 11, 2, 7, 6, 7, 1, 13, 11, 4, 7, 5, 5, 3, 15, 1, 7, 7, 3, 1, 15, 10, 4, 2, 5, 15, 1, 2, 1, 5, 3, 1, 11, 12, 7, 1, 5, 4, 1, 1, 3, 7, 17, 8, 1, 1, 5, 18, 4, 2, 1, 7, 1, 8, 10, 1, 6, 6, 1, 5, 11, 2, 12, 2, 20, 10, 4, 11, 6, 2, 6, 7, 14, 1, 6, 7, 4, 1, 1, 2, 7, 6, 9, 1, 9, 21, 1, 10, 2, 3, 3, 13, 7, 11, 3, 2, 11, 3, 4, 1, 5, 5, 3, 11, 1, 1, 5, 22, 6, 2, 14, 1, 1, 3, 2, 13, 17, 2, 8, 9, 1, 3, 3, 3, 1, 6, 3, 2, 2, 8, 2, 2, 4, 23, 6, 2, 8, 5, 10, 1, 1, 6, 19, 3, 1, 2, 10, 5, 7, 3, 4, 7, 2, 3, 4, 1, 2, 2, 6, 5, 1, 11, 3, 4, 4, 11, 1, 13, 2, 20, 8, 1, 1, 8, 20, 4, 4, 10, 1, 5, 2, 2, 1, 2, 1, 1, 7, 9, 2, 9, 11, 1, 1, 6, 4, 1, 1, 1, 12, 7, 9, 5, 4, 1, 9, 6, 4, 6, 6, 7, 10, 4, 1, 1, 6, 5, 1, 11, 19, 24, 10, 2, 1, 3, 6, 3, 3, 19, 1, 10, 24, 3, 2, 7, 10, 1, 8, 3, 25, 15, 1, 1, 12, 6, 9, 13, 5, 9, 8, 3, 4, 3, 3, 2, 3, 1, 1, 8, 15, 7, 1, 2, 2, 7, 3, 3, 6, 8, 5, 4, 3, 3, 3, 11, 3, 3, 1, 5, 6, 1, 3, 1, 1, 2, 3, 10, 1, 2, 6, 1, 3, 1, 4, 1, 8, 2, 5, 3, 1, 9, 1, 1, 6, 6, 1, 1, 8, 5, 2, 6, 8, 15, 4, 2, 5, 1, 2, 1, 1, 6, 3, 2, 1, 10, 13, 6, 4, 9, 3, 9, 2, 2, 10, 4, 1, 6, 1, 2, 9, 2, 1, 9, 10, 2, 2, 3, 13, 5, 2, 7, 5, 3, 1, 7, 7, 3, 14, 2, 1, 1, 1, 6, 3, 3, 2, 13, 1, 1, 5, 8, 2, 5, 18, 7, 1, 11, 3, 3, 2, 8, 3, 11, 14, 2, 1, 7, 10, 9, 1, 2, 1, 3, 4, 3, 1, 14, 9, 4, 6, 10, 1, 9, 23, 11, 3, 1, 7, 2, 1, 1, 2, 1, 1, 3, 15, 1, 1, 3, 2, 1, 2, 11, 7, 1, 7, 2, 1, 14, 13, 11, 1, 1, 7, 9, 3, 1, 2, 6, 13, 1, 3, 5, 11, 3, 5, 6, 5, 7, 3, 1, 9, 9, 2, 9, 14, 2, 33, 9, 4, 3, 1, 4, 1, 1, 10, 20, 1, 1, 4, 4, 1, 10, 4, 2, 11, 5, 3, 2, 1, 2, 1, 7, 8, 2, 8, 11, 2, 20, 6, 5, 1, 5, 1, 11, 1, 4, 3, 1, 6, 5, 23, 1, 1, 2, 4, 4, 4, 12, 1, 7, 13, 2, 7, 8, 2, 3, 1, 9, 18, 11, 6, 6, 3, 1, 16, 5, 1, 4, 5, 3, 6, 6, 9, 11, 1, 1, 7, 2, 13, 6, 2, 17, 4, 1, 4, 6, 20, 3, 7, 13, 6, 1, 6, 7, 7, 1, 2, 3, 1, 7, 12, 1, 8, 8, 2, 1, 7, 3, 2, 3, 5, 2, 1, 11, 1, 6, 6, 1, 4, 10, 6, 2, 3, 3, 10, 4, 4, 5, 6, 18, 7, 3, 5, 5, 11, 1, 1, 3, 1, 1, 4, 6, 4, 4, 14, 15, 5, 5, 20, 6, 1, 1, 4, 3, 4, 1, 5, 23, 1, 5, 2, 5, 1, 11, 8, 5, 10, 3, 10, 13, 2, 4, 4, 1, 1, 11, 10, 1, 5, 7, 2, 2, 5, 4, 2, 5, 15, 2, 3, 8, 6, 2, 17, 7, 1, 5, 9, 4, 6, 1, 3, 2, 11, 4, 5, 7, 12, 1, 2, 8, 3, 3, 3, 6, 5, 1, 7, 1, 2, 11, 2, 2, 3, 4, 14, 17, 3, 2, 2, 1, 7, 2, 1, 5, 20, 8, 3, 6, 12, 5, 3, 3, 9, 8, 15, 2, 6, 12, 9, 3, 19, 12, 5, 1, 12, 22, 1, 5, 3, 1, 11, 8, 2, 2, 5, 4, 8, 7, 12, 15, 3, 1, 4, 11, 4, 2, 8, 8, 3, 2, 9, 11, 6, 9, 3, 1, 12, 4, 7, 6, 11, 1, 3, 4, 9, 1, 3, 4, 2, 9, 6, 1, 4, 5, 5, 3, 5, 4, 1, 1, 27, 8, 3, 5, 9, 10, 9, 12, 10, 13, 7, 2, 1, 4, 2, 3, 4, 1, 4, 6, 6, 12, 11, 2, 13, 1, 1, 2, 19, 6, 13, 8, 1, 7, 13, 3, 3, 11, 8, 5, 1, 3, 6, 5, 3, 9, 9, 1, 11, 4, 1, 3, 6, 4, 4, 4, 3, 5, 8, 4, 1, 4, 12, 1, 9, 7, 3, 4, 6, 6, 3, 1, 7, 5, 2, 3, 4, 1, 11, 5, 2, 6, 7, 3, 2, 2, 2, 1, 1, 6, 3, 2, 4, 11, 9, 1, 1, 8, 22, 2, 4, 10, 1, 1, 2, 11, 5, 2, 9, 5, 3, 2, 24, 8, 1, 10, 12, 7, 2, 8, 3, 2, 6, 2, 4, 3, 9, 14, 1, 4, 4, 2, 6, 2, 3, 19, 1, 6, 7, 5, 3, 15, 20, 4, 3, 3, 1, 12, 9, 3, 13, 3, 3, 16, 11, 6, 3, 8, 4, 1, 1, 26, 5, 5, 9, 1, 1, 12, 4, 5, 10, 9, 1, 11, 6, 2, 2, 7, 2, 1, 5, 14, 4, 1, 3, 3, 20, 1, 14, 15, 1, 2, 2, 3, 3, 20, 9, 2, 2, 5, 1, 7, 11, 11, 4, 7, 5, 9, 6, 13, 13, 1, 1, 2, 3, 3, 13, 8, 7, 6, 6, 2, 7, 7, 1, 11, 11, 1, 3, 1, 1, 1, 2, 6, 11, 6, 2, 4, 9, 2, 9, 10, 2, 5, 10, 9, 1, 1, 3, 1, 1, 6, 12, 3, 5, 1, 4, 1, 1, 9, 13, 7, 6, 6, 11, 2, 1, 5, 21, 2, 3, 3, 4, 1, 3, 9, 5, 2, 2, 9, 2, 2, 3, 14, 7, 1, 9, 4, 1, 2, 6, 10, 6, 3, 3, 9, 14, 3, 5, 2, 9, 4, 4, 8, 10, 7, 16, 2, 10, 9, 1, 10, 1, 3, 1, 6, 22, 4, 3, 12, 16, 7, 3, 4, 6, 6, 2, 4, 1, 3, 5, 6, 6, 1, 5, 13, 9, 5, 9, 8, 6, 9, 3, 1, 4, 2, 5, 3, 1, 3, 10, 4, 2, 3, 12, 1, 3, 16, 2, 16, 6, 2, 10, 4, 7, 6, 3, 1, 2, 4, 4, 9, 4, 2, 9, 11, 4, 8, 2, 13, 6, 3, 5, 1, 13, 5, 1, 1, 10, 9, 3, 5, 8, 1, 10, 3, 2, 2, 10, 10, 4, 3, 7, 3, 1, 1, 6, 12, 13, 1, 2, 6, 9, 10, 1, 1, 12, 2, 1, 4, 3, 3, 5, 2, 3, 6, 4, 1, 1, 2, 1, 4, 1, 4, 11, 19, 9, 5, 7, 10, 4, 2, 6, 1, 4, 3, 1, 2, 5, 4, 4, 3, 4, 26, 5, 1, 2, 4, 3, 3, 3, 2, 7, 12, 2, 1, 8, 11, 1, 7, 9, 3, 2, 1, 5, 3, 2, 4, 3, 8, 4, 10, 9, 1, 5, 14, 2, 2, 8, 16, 5, 5, 6, 1, 1, 6, 24, 2, 1, 1, 4, 3, 10, 9, 1, 4, 6, 4, 4, 6, 4, 3, 2, 2, 6, 2, 2, 5, 1, 5, 5, 2, 3, 10, 8, 5, 9, 6, 7, 2, 1, 2, 7, 1, 2, 9, 3, 2, 8, 6, 1, 4, 3, 2, 6, 7, 3, 2, 4, 13, 1, 11, 6, 1, 4, 7, 1, 4, 5, 15, 2, 5, 4, 3, 1, 8, 3, 12, 13, 1, 4, 1, 4, 6, 3, 1, 11, 10, 1, 2, 5, 1, 1, 8, 1, 4, 2, 18, 5, 1, 5, 2, 1, 3, 19, 5, 3, 5, 22, 10, 2, 3, 6, 1, 4, 6, 2, 14, 5, 3, 4, 5, 17, 5, 3, 1, 1, 7, 8, 3, 12, 12, 5, 4, 5, 1, 1, 4, 5, 2, 10, 6, 6, 6, 9, 9, 9, 2, 2, 13, 10, 1, 6, 3, 8, 1, 2, 12, 13, 1, 3, 3, 1, 7, 4, 12, 5, 1, 1, 6, 6, 1, 3, 1, 2, 7, 1, 7, 6, 1, 4, 3, 5, 3, 3, 14, 6, 1, 2, 12, 12, 1, 1, 2, 1, 12, 7, 8, 1, 5, 11, 3, 2, 6, 2, 5, 15, 12, 1, 2, 1, 1, 6, 7, 7, 8, 6, 2, 1, 3, 2, 7, 6, 5, 2, 3, 6, 2, 15, 7, 2, 7, 10, 1, 3, 4, 1, 2, 12, 1, 4, 12, 2, 9, 7, 3, 1, 2, 4, 6, 6, 4, 2, 2, 3, 7, 4, 2, 1, 4, 3, 2, 4, 11, 10, 5, 8, 6, 3, 3, 8, 1, 3, 6, 9, 1, 9, 1, 5, 1, 1, 10, 5, 1, 1, 1, 6, 1, 8, 4, 1, 5, 3, 11, 4, 1, 1, 3, 4, 1, 1, 7, 2, 1, 6, 8, 2, 3, 2, 2, 3, 16, 13, 3, 5, 2, 14, 3, 1, 9, 5, 1, 1, 10, 8, 2, 6, 10, 6, 1, 7, 9, 6, 4, 1, 5, 4, 1, 7, 13, 2, 1, 2, 3, 1, 3, 5, 2, 1, 3, 6, 7, 1, 5, 14, 5, 1, 6, 19, 4, 1, 5, 10, 1, 3, 10, 23, 3, 3, 9, 3, 3, 12, 5, 7, 3, 2, 21, 5, 1, 1, 8, 5, 2, 12, 10, 2, 1, 2, 17, 1, 4, 2, 4, 1, 4, 4, 6, 9, 2, 11, 6, 1, 3, 5, 1, 5, 9, 1, 2, 2, 6, 10, 3, 13, 4, 3, 7, 1, 5, 5, 14, 8, 11, 2, 3, 6, 3, 7, 1, 1, 1, 17, 3, 1, 7, 7, 11, 2, 7, 9, 18, 1, 2, 11, 6, 1, 17, 9, 6, 11, 6, 4, 1, 1, 1, 7, 10, 1, 10, 9, 5, 5, 11, 1, 3, 2, 4, 3, 18, 8, 1, 10, 17, 4, 2, 5, 11, 2, 5, 11, 3, 2, 10, 2, 1, 1, 10, 4, 3, 1, 2, 7, 9, 5, 1, 6, 4, 11, 7, 1, 3, 6, 1, 6, 12, 2, 6, 4, 3, 1, 4, 3, 2, 9, 3, 1, 3, 3, 4, 5, 8, 3, 10, 8, 1, 3, 8, 6, 1, 5, 2, 2, 2, 4, 10, 3, 4, 1, 6, 1, 2, 2, 5, 4, 8, 12, 3, 1, 9, 16, 1, 2, 7, 2, 1, 5, 5, 4, 3, 2, 24, 3, 3, 8, 7, 1, 4, 15, 4, 4, 4, 8, 3, 5, 1, 1, 3, 5, 13, 3, 4, 24, 2, 5, 8, 1, 3, 4, 2, 13, 4, 1, 4, 4, 5, 2, 12, 3, 2, 9, 6, 3, 17, 7, 4, 8, 1, 1, 3, 3, 5, 9, 1, 5, 2, 18, 9, 17, 3, 6, 1, 18, 1, 1, 12, 1, 2, 9, 21, 1, 2, 13, 6, 3, 5, 16, 8, 8, 7, 10, 2, 5, 14, 2, 5, 8, 1, 1, 5, 2, 1, 8, 13, 2, 1, 1, 10, 7, 2, 5, 5, 6, 1, 7, 5, 1, 3, 3, 4, 3, 7, 4, 1, 5, 11, 3, 4, 1, 15, 5, 5, 14, 12, 7, 5, 7, 4, 4, 5, 1, 4, 7, 7, 2, 8, 9, 1, 10, 1, 2, 1, 1, 7, 2, 2, 9, 14, 2, 1, 4, 1, 17, 11, 5, 11, 6, 1, 2, 3, 17, 1, 1, 3, 6, 1, 2, 7, 15, 10, 3, 5, 10, 3, 11, 3, 3, 4, 1, 6, 4, 7, 4, 1, 1, 13, 7, 12, 1, 2, 1, 1, 7, 9, 1, 1, 22, 8, 3, 10, 9, 1, 10, 14, 1, 2, 4, 2, 3, 2, 7, 4, 1, 7, 1, 2, 3, 15, 3, 2, 5, 7, 1, 1, 7, 1, 3, 12, 5, 5, 2, 1, 2, 5, 10, 4, 4, 7, 2, 2, 3, 6, 2, 17, 3, 4, 8, 2, 3, 7, 7, 1, 8, 5, 3, 4, 7, 2, 3, 21, 10, 4, 16, 7, 1, 1, 1, 2, 1, 1, 4, 4, 4, 1, 15, 13, 1, 2, 3, 4, 5, 5, 15, 5, 1, 7, 10, 3, 6, 3, 4, 4, 2, 6, 1, 2, 4, 3, 1, 2, 1, 2, 1, 10, 8, 6, 6, 2, 3, 4, 1, 2, 2, 7, 17, 2, 5, 4, 10, 9, 1, 14, 6, 6, 1, 3, 5, 3, 26, 5, 1, 3, 13, 4, 2, 4, 1, 4, 7, 1, 5, 11, 2, 8, 14, 8, 2, 1, 4, 8, 11, 4, 4, 1, 1, 2, 5, 2, 3, 5, 3, 7, 3, 1, 1, 1, 3, 7, 6, 1, 2, 5, 1, 11, 10, 1, 4, 5, 9, 7, 2, 10, 4, 3, 2, 3, 7, 3, 1, 1, 3, 2, 5, 9, 2, 1, 4, 1, 2, 8, 5, 1, 1, 2, 28, 4, 2, 29, 4, 21, 2, 2, 6, 1, 2, 10, 11, 2, 9, 12, 1, 1, 10, 8, 5, 1, 19, 7, 1, 4, 13, 6, 2, 6, 5, 5, 9, 1, 4, 6, 12, 1, 7, 10, 4, 2, 3, 3, 24, 2, 7, 11, 4, 1, 13, 12, 3, 3, 1, 9, 1, 19, 2, 2, 2, 11, 1, 5, 13, 7, 6, 7, 2, 14, 3, 2, 15, 10, 2, 1, 3, 2, 1, 3, 3, 5, 6, 3, 1, 2, 7, 3, 5, 21, 5, 7, 7, 1, 1, 4, 6, 8, 3, 1, 1, 4, 9, 2, 12, 6, 7, 6, 1, 6, 18, 2, 5, 11, 8, 9, 2, 3, 4, 10, 2, 2, 3, 7, 6, 1, 12, 2, 6, 9, 5, 1, 6, 7, 2, 12, 8, 2, 5, 4, 1, 5, 3, 4, 15, 2], \"y0\": \" \", \"yaxis\": \"y\"}],\n",
              "                        {\"boxmode\": \"group\", \"legend\": {\"tracegroupgap\": 0}, \"template\": {\"data\": {\"bar\": [{\"error_x\": {\"color\": \"#2a3f5f\"}, \"error_y\": {\"color\": \"#2a3f5f\"}, \"marker\": {\"line\": {\"color\": \"#E5ECF6\", \"width\": 0.5}}, \"type\": \"bar\"}], \"barpolar\": [{\"marker\": {\"line\": {\"color\": \"#E5ECF6\", \"width\": 0.5}}, \"type\": \"barpolar\"}], \"carpet\": [{\"aaxis\": {\"endlinecolor\": \"#2a3f5f\", \"gridcolor\": \"white\", \"linecolor\": \"white\", \"minorgridcolor\": \"white\", \"startlinecolor\": \"#2a3f5f\"}, \"baxis\": {\"endlinecolor\": \"#2a3f5f\", \"gridcolor\": \"white\", \"linecolor\": \"white\", \"minorgridcolor\": \"white\", \"startlinecolor\": \"#2a3f5f\"}, \"type\": \"carpet\"}], \"choropleth\": [{\"colorbar\": {\"outlinewidth\": 0, \"ticks\": \"\"}, \"type\": \"choropleth\"}], \"contour\": [{\"colorbar\": {\"outlinewidth\": 0, \"ticks\": \"\"}, \"colorscale\": [[0.0, \"#0d0887\"], [0.1111111111111111, \"#46039f\"], [0.2222222222222222, \"#7201a8\"], [0.3333333333333333, \"#9c179e\"], [0.4444444444444444, \"#bd3786\"], [0.5555555555555556, \"#d8576b\"], [0.6666666666666666, \"#ed7953\"], [0.7777777777777778, \"#fb9f3a\"], [0.8888888888888888, \"#fdca26\"], [1.0, \"#f0f921\"]], \"type\": \"contour\"}], \"contourcarpet\": [{\"colorbar\": {\"outlinewidth\": 0, \"ticks\": \"\"}, \"type\": \"contourcarpet\"}], \"heatmap\": [{\"colorbar\": {\"outlinewidth\": 0, \"ticks\": \"\"}, \"colorscale\": [[0.0, \"#0d0887\"], [0.1111111111111111, \"#46039f\"], [0.2222222222222222, \"#7201a8\"], [0.3333333333333333, \"#9c179e\"], [0.4444444444444444, \"#bd3786\"], [0.5555555555555556, \"#d8576b\"], [0.6666666666666666, \"#ed7953\"], [0.7777777777777778, \"#fb9f3a\"], [0.8888888888888888, \"#fdca26\"], [1.0, \"#f0f921\"]], \"type\": \"heatmap\"}], \"heatmapgl\": [{\"colorbar\": {\"outlinewidth\": 0, \"ticks\": \"\"}, \"colorscale\": [[0.0, \"#0d0887\"], [0.1111111111111111, \"#46039f\"], [0.2222222222222222, \"#7201a8\"], [0.3333333333333333, \"#9c179e\"], [0.4444444444444444, \"#bd3786\"], [0.5555555555555556, \"#d8576b\"], [0.6666666666666666, \"#ed7953\"], [0.7777777777777778, \"#fb9f3a\"], [0.8888888888888888, \"#fdca26\"], [1.0, \"#f0f921\"]], \"type\": \"heatmapgl\"}], \"histogram\": [{\"marker\": {\"colorbar\": {\"outlinewidth\": 0, \"ticks\": \"\"}}, \"type\": \"histogram\"}], \"histogram2d\": [{\"colorbar\": {\"outlinewidth\": 0, \"ticks\": \"\"}, \"colorscale\": [[0.0, \"#0d0887\"], [0.1111111111111111, \"#46039f\"], [0.2222222222222222, \"#7201a8\"], [0.3333333333333333, \"#9c179e\"], [0.4444444444444444, \"#bd3786\"], [0.5555555555555556, \"#d8576b\"], [0.6666666666666666, \"#ed7953\"], [0.7777777777777778, \"#fb9f3a\"], [0.8888888888888888, \"#fdca26\"], [1.0, \"#f0f921\"]], \"type\": \"histogram2d\"}], \"histogram2dcontour\": [{\"colorbar\": {\"outlinewidth\": 0, \"ticks\": \"\"}, \"colorscale\": [[0.0, \"#0d0887\"], [0.1111111111111111, \"#46039f\"], [0.2222222222222222, \"#7201a8\"], [0.3333333333333333, \"#9c179e\"], [0.4444444444444444, \"#bd3786\"], [0.5555555555555556, \"#d8576b\"], [0.6666666666666666, \"#ed7953\"], [0.7777777777777778, \"#fb9f3a\"], [0.8888888888888888, \"#fdca26\"], [1.0, \"#f0f921\"]], \"type\": \"histogram2dcontour\"}], \"mesh3d\": [{\"colorbar\": {\"outlinewidth\": 0, \"ticks\": \"\"}, \"type\": \"mesh3d\"}], \"parcoords\": [{\"line\": {\"colorbar\": {\"outlinewidth\": 0, \"ticks\": \"\"}}, \"type\": \"parcoords\"}], \"pie\": [{\"automargin\": true, \"type\": \"pie\"}], \"scatter\": [{\"marker\": {\"colorbar\": {\"outlinewidth\": 0, \"ticks\": \"\"}}, \"type\": \"scatter\"}], \"scatter3d\": [{\"line\": {\"colorbar\": {\"outlinewidth\": 0, \"ticks\": \"\"}}, \"marker\": {\"colorbar\": {\"outlinewidth\": 0, \"ticks\": \"\"}}, \"type\": \"scatter3d\"}], \"scattercarpet\": [{\"marker\": {\"colorbar\": {\"outlinewidth\": 0, \"ticks\": \"\"}}, \"type\": \"scattercarpet\"}], \"scattergeo\": [{\"marker\": {\"colorbar\": {\"outlinewidth\": 0, \"ticks\": \"\"}}, \"type\": \"scattergeo\"}], \"scattergl\": [{\"marker\": {\"colorbar\": {\"outlinewidth\": 0, \"ticks\": \"\"}}, \"type\": \"scattergl\"}], \"scattermapbox\": [{\"marker\": {\"colorbar\": {\"outlinewidth\": 0, \"ticks\": \"\"}}, \"type\": \"scattermapbox\"}], \"scatterpolar\": [{\"marker\": {\"colorbar\": {\"outlinewidth\": 0, \"ticks\": \"\"}}, \"type\": \"scatterpolar\"}], \"scatterpolargl\": [{\"marker\": {\"colorbar\": {\"outlinewidth\": 0, \"ticks\": \"\"}}, \"type\": \"scatterpolargl\"}], \"scatterternary\": [{\"marker\": {\"colorbar\": {\"outlinewidth\": 0, \"ticks\": \"\"}}, \"type\": \"scatterternary\"}], \"surface\": [{\"colorbar\": {\"outlinewidth\": 0, \"ticks\": \"\"}, \"colorscale\": [[0.0, \"#0d0887\"], [0.1111111111111111, \"#46039f\"], [0.2222222222222222, \"#7201a8\"], [0.3333333333333333, \"#9c179e\"], [0.4444444444444444, \"#bd3786\"], [0.5555555555555556, \"#d8576b\"], [0.6666666666666666, \"#ed7953\"], [0.7777777777777778, \"#fb9f3a\"], [0.8888888888888888, \"#fdca26\"], [1.0, \"#f0f921\"]], \"type\": \"surface\"}], \"table\": [{\"cells\": {\"fill\": {\"color\": \"#EBF0F8\"}, \"line\": {\"color\": \"white\"}}, \"header\": {\"fill\": {\"color\": \"#C8D4E3\"}, \"line\": {\"color\": \"white\"}}, \"type\": \"table\"}]}, \"layout\": {\"annotationdefaults\": {\"arrowcolor\": \"#2a3f5f\", \"arrowhead\": 0, \"arrowwidth\": 1}, \"coloraxis\": {\"colorbar\": {\"outlinewidth\": 0, \"ticks\": \"\"}}, \"colorscale\": {\"diverging\": [[0, \"#8e0152\"], [0.1, \"#c51b7d\"], [0.2, \"#de77ae\"], [0.3, \"#f1b6da\"], [0.4, \"#fde0ef\"], [0.5, \"#f7f7f7\"], [0.6, \"#e6f5d0\"], [0.7, \"#b8e186\"], [0.8, \"#7fbc41\"], [0.9, \"#4d9221\"], [1, \"#276419\"]], \"sequential\": [[0.0, \"#0d0887\"], [0.1111111111111111, \"#46039f\"], [0.2222222222222222, \"#7201a8\"], [0.3333333333333333, \"#9c179e\"], [0.4444444444444444, \"#bd3786\"], [0.5555555555555556, \"#d8576b\"], [0.6666666666666666, \"#ed7953\"], [0.7777777777777778, \"#fb9f3a\"], [0.8888888888888888, \"#fdca26\"], [1.0, \"#f0f921\"]], \"sequentialminus\": [[0.0, \"#0d0887\"], [0.1111111111111111, \"#46039f\"], [0.2222222222222222, \"#7201a8\"], [0.3333333333333333, \"#9c179e\"], [0.4444444444444444, \"#bd3786\"], [0.5555555555555556, \"#d8576b\"], [0.6666666666666666, \"#ed7953\"], [0.7777777777777778, \"#fb9f3a\"], [0.8888888888888888, \"#fdca26\"], [1.0, \"#f0f921\"]]}, \"colorway\": [\"#636efa\", \"#EF553B\", \"#00cc96\", \"#ab63fa\", \"#FFA15A\", \"#19d3f3\", \"#FF6692\", \"#B6E880\", \"#FF97FF\", \"#FECB52\"], \"font\": {\"color\": \"#2a3f5f\"}, \"geo\": {\"bgcolor\": \"white\", \"lakecolor\": \"white\", \"landcolor\": \"#E5ECF6\", \"showlakes\": true, \"showland\": true, \"subunitcolor\": \"white\"}, \"hoverlabel\": {\"align\": \"left\"}, \"hovermode\": \"closest\", \"mapbox\": {\"style\": \"light\"}, \"paper_bgcolor\": \"white\", \"plot_bgcolor\": \"#E5ECF6\", \"polar\": {\"angularaxis\": {\"gridcolor\": \"white\", \"linecolor\": \"white\", \"ticks\": \"\"}, \"bgcolor\": \"#E5ECF6\", \"radialaxis\": {\"gridcolor\": \"white\", \"linecolor\": \"white\", \"ticks\": \"\"}}, \"scene\": {\"xaxis\": {\"backgroundcolor\": \"#E5ECF6\", \"gridcolor\": \"white\", \"gridwidth\": 2, \"linecolor\": \"white\", \"showbackground\": true, \"ticks\": \"\", \"zerolinecolor\": \"white\"}, \"yaxis\": {\"backgroundcolor\": \"#E5ECF6\", \"gridcolor\": \"white\", \"gridwidth\": 2, \"linecolor\": \"white\", \"showbackground\": true, \"ticks\": \"\", \"zerolinecolor\": \"white\"}, \"zaxis\": {\"backgroundcolor\": \"#E5ECF6\", \"gridcolor\": \"white\", \"gridwidth\": 2, \"linecolor\": \"white\", \"showbackground\": true, \"ticks\": \"\", \"zerolinecolor\": \"white\"}}, \"shapedefaults\": {\"line\": {\"color\": \"#2a3f5f\"}}, \"ternary\": {\"aaxis\": {\"gridcolor\": \"white\", \"linecolor\": \"white\", \"ticks\": \"\"}, \"baxis\": {\"gridcolor\": \"white\", \"linecolor\": \"white\", \"ticks\": \"\"}, \"bgcolor\": \"#E5ECF6\", \"caxis\": {\"gridcolor\": \"white\", \"linecolor\": \"white\", \"ticks\": \"\"}}, \"title\": {\"x\": 0.05}, \"xaxis\": {\"automargin\": true, \"gridcolor\": \"white\", \"linecolor\": \"white\", \"ticks\": \"\", \"title\": {\"standoff\": 15}, \"zerolinecolor\": \"white\", \"zerolinewidth\": 2}, \"yaxis\": {\"automargin\": true, \"gridcolor\": \"white\", \"linecolor\": \"white\", \"ticks\": \"\", \"title\": {\"standoff\": 15}, \"zerolinecolor\": \"white\", \"zerolinewidth\": 2}}}, \"title\": {\"text\": \"# of Phrases by Sentiment\"}, \"xaxis\": {\"anchor\": \"y\", \"domain\": [0.0, 1.0], \"title\": {\"text\": \"Sentiment\"}}, \"yaxis\": {\"anchor\": \"x\", \"domain\": [0.0, 1.0], \"title\": {\"text\": \"# of Phrases\"}}},\n",
              "                        {\"responsive\": true}\n",
              "                    ).then(function(){\n",
              "                            \n",
              "var gd = document.getElementById('3f4de1ac-3055-4eac-9a01-0b0e8959d61a');\n",
              "var x = new MutationObserver(function (mutations, observer) {{\n",
              "        var display = window.getComputedStyle(gd).display;\n",
              "        if (!display || display === 'none') {{\n",
              "            console.log([gd, 'removed!']);\n",
              "            Plotly.purge(gd);\n",
              "            observer.disconnect();\n",
              "        }}\n",
              "}});\n",
              "\n",
              "// Listen for the removal of the full notebook cells\n",
              "var notebookContainer = gd.closest('#notebook-container');\n",
              "if (notebookContainer) {{\n",
              "    x.observe(notebookContainer, {childList: true});\n",
              "}}\n",
              "\n",
              "// Listen for the clearing of the current output cell\n",
              "var outputEl = gd.closest('.output');\n",
              "if (outputEl) {{\n",
              "    x.observe(outputEl, {childList: true});\n",
              "}}\n",
              "\n",
              "                        })\n",
              "                };\n",
              "                \n",
              "            </script>\n",
              "        </div>\n",
              "</body>\n",
              "</html>"
            ]
          },
          "metadata": {}
        }
      ]
    },
    {
      "cell_type": "code",
      "source": [
        "imdb_df_hist[\"PhraseId\"].describe()"
      ],
      "metadata": {
        "colab": {
          "base_uri": "https://localhost:8080/"
        },
        "id": "3P_a3gbT7j_P",
        "outputId": "bb41c7b2-6e6f-435e-baef-40e31088753d"
      },
      "execution_count": null,
      "outputs": [
        {
          "output_type": "execute_result",
          "data": {
            "text/plain": [
              "count    8529.000000\n",
              "mean       18.297573\n",
              "std         9.950209\n",
              "min         1.000000\n",
              "25%        11.000000\n",
              "50%        17.000000\n",
              "75%        25.000000\n",
              "max        63.000000\n",
              "Name: PhraseId, dtype: float64"
            ]
          },
          "metadata": {},
          "execution_count": 57
        }
      ]
    },
    {
      "cell_type": "markdown",
      "source": [
        "## Ngrams"
      ],
      "metadata": {
        "id": "0bGxl6_1k6Bd"
      }
    },
    {
      "cell_type": "code",
      "source": [
        "#Take the training dataset, tokenize it, and reduce the tokens to lowercase.\n",
        "# file0 = nltk.corpus.gutenberg.fileids( ) [0]\n",
        "# emmatext = nltk.corpus.gutenberg.raw(file0)\n",
        "testtext = ''.join(df_train[\"Phrase\"])\n",
        "testtokens = nltk.word_tokenize(testtext) \n",
        "testwords = [w.lower( ) for w in testtokens] \n",
        "# show some of the words\n",
        "total_words = len(testtokens)\n",
        "print(total_words)\n",
        "print(testtokens[ :25])"
      ],
      "metadata": {
        "colab": {
          "base_uri": "https://localhost:8080/"
        },
        "id": "CLClX8_zmKec",
        "outputId": "adf29c59-44cd-402e-a80b-cedbe790da7f"
      },
      "execution_count": null,
      "outputs": [
        {
          "output_type": "stream",
          "name": "stdout",
          "text": [
            "981478\n",
            "['A', 'series', 'of', 'escapades', 'demonstrating', 'the', 'adage', 'that', 'what', 'is', 'good', 'for', 'the', 'goose', 'is', 'also', 'good', 'for', 'the', 'gander', ',', 'some', 'of', 'which', 'occasionally']\n"
          ]
        }
      ]
    },
    {
      "cell_type": "markdown",
      "source": [
        "Need to get rid of punctuation and apostrophies"
      ],
      "metadata": {
        "id": "C4eX8NtTonZp"
      }
    },
    {
      "cell_type": "markdown",
      "source": [
        "This is our Bag of words feature"
      ],
      "metadata": {
        "id": "GuGSrEUA0oAU"
      }
    },
    {
      "cell_type": "code",
      "source": [
        "ndist = FreqDist(testwords)\n",
        "\n",
        "# print the top 30 tokens by frequency\n",
        "nitems = ndist.most_common(30)\n",
        "for item in nitems:\n",
        "    print (item[0], '\\t', item[1]/total_words)"
      ],
      "metadata": {
        "colab": {
          "base_uri": "https://localhost:8080/"
        },
        "id": "0XepjpHgk_O8",
        "outputId": "bc0077bd-e13e-475e-fad9-e8cbb5b4f70b"
      },
      "execution_count": null,
      "outputs": [
        {
          "output_type": "stream",
          "name": "stdout",
          "text": [
            ", \t 0.04279464236590122\n",
            "the \t 0.04151901519952561\n",
            "of \t 0.028987914145808667\n",
            "and \t 0.02846625191802567\n",
            "a \t 0.028286930527225265\n",
            "to \t 0.019897542278074495\n",
            "'s \t 0.01599220767047249\n",
            "in \t 0.012034910614399916\n",
            "that \t 0.010320149814871041\n",
            "is \t 0.009058786850036374\n",
            "it \t 0.008362897589146165\n",
            "as \t 0.007317535390502895\n",
            "with \t 0.006610438542687661\n",
            "for \t 0.006450475711121391\n",
            "its \t 0.00602356853643179\n",
            "film \t 0.005148357884741176\n",
            "an \t 0.004837602065456383\n",
            "movie \t 0.004518695273862481\n",
            "this \t 0.004342430497677992\n",
            "on \t 0.00412235424533204\n",
            "be \t 0.004100957943020628\n",
            "but \t 0.004079561640709216\n",
            "n't \t 0.003939976239915719\n",
            "you \t 0.003904315736063366\n",
            "-- \t 0.0034967671206078996\n",
            "by \t 0.0033928422236667558\n",
            "his \t 0.0033388420321189063\n",
            "more \t 0.0032451058505641494\n",
            "or \t 0.0031870301728617453\n",
            "not \t 0.003169709356704888\n"
          ]
        }
      ]
    },
    {
      "cell_type": "markdown",
      "source": [
        "\n",
        "\n",
        "### Filtering"
      ],
      "metadata": {
        "id": "RP5gRyx_m-j2"
      }
    },
    {
      "cell_type": "code",
      "source": [
        "#Now we want to remove non-alphabetical\n",
        "#Regular Expression\n",
        "import re\n",
        "#   lower-case characters [^a-z]+\n",
        "# the beginning ^ and ending $ require the match to begin and end on a word boundary \n",
        "pattern = re.compile('^[^a-z]+$')"
      ],
      "metadata": {
        "id": "zqKcXuKZnBHG"
      },
      "execution_count": null,
      "outputs": []
    },
    {
      "cell_type": "code",
      "source": [
        "#function that takes a word and returns true if it consists only\n",
        "#of non-alphabetic characters  (assumes import re)\n",
        "def alpha_filter(w):\n",
        "  #pattern to match word of non-alphabetical characters\n",
        "  pattern = re.compile('^[^a-z]+$')\n",
        "  if (pattern.match(w)):\n",
        "    return True\n",
        "  else:\n",
        "    return False"
      ],
      "metadata": {
        "id": "u7zkg76sera3"
      },
      "execution_count": null,
      "outputs": []
    },
    {
      "cell_type": "code",
      "source": [
        "#apply the above function to testwords\n",
        "alphatestwords = [w for w in testwords if not alpha_filter(w)]\n",
        "print(alphatestwords[:100])\n",
        "print(len(alphatestwords))\n",
        "\n",
        "#10% of the words gone!"
      ],
      "metadata": {
        "colab": {
          "base_uri": "https://localhost:8080/"
        },
        "id": "foCFV5-6tE0P",
        "outputId": "22ceb0d8-2529-4cb1-9e96-9758851aa149"
      },
      "execution_count": null,
      "outputs": [
        {
          "output_type": "stream",
          "name": "stdout",
          "text": [
            "['a', 'series', 'of', 'escapades', 'demonstrating', 'the', 'adage', 'that', 'what', 'is', 'good', 'for', 'the', 'goose', 'is', 'also', 'good', 'for', 'the', 'gander', 'some', 'of', 'which', 'occasionally', 'amuses', 'but', 'none', 'of', 'which', 'amounts', 'to', 'much', 'of', 'a', 'story', '.a', 'series', 'of', 'escapades', 'demonstrating', 'the', 'adage', 'that', 'what', 'is', 'good', 'for', 'the', 'goosea', 'seriesaseriesof', 'escapades', 'demonstrating', 'the', 'adage', 'that', 'what', 'is', 'good', 'for', 'the', 'gooseofescapades', 'demonstrating', 'the', 'adage', 'that', 'what', 'is', 'good', 'for', 'the', 'gooseescapadesdemonstrating', 'the', 'adage', 'that', 'what', 'is', 'good', 'for', 'the', 'goosedemonstrating', 'the', 'adagedemonstratingthe', 'adagetheadagethat', 'what', 'is', 'good', 'for', 'the', 'goosethatwhat', 'is', 'good', 'for', 'the', 'goosewhatis', 'good', 'for', 'the', 'gooseisgood', 'for', 'the']\n",
            "920174\n"
          ]
        }
      ]
    },
    {
      "cell_type": "code",
      "source": [
        "#okay we still have periods, lets try to remove those before including stopwords\n",
        "#import re\n",
        "#line = 'Q: Do I write ;/.??? No!!!'\n",
        "#re.sub('\\ |\\?|\\.|\\!|\\/|\\;|\\:', '', line)\n",
        "#function that takes a word and returns true if it consists only\n",
        "#of non-alphabetic characters  (assumes import re)\n",
        "def alpha_filter(w):\n",
        "  #pattern to match word of non-alphabetical characters\n",
        "  pattern = re.compile('\\ |\\?|\\.|\\!|\\/|\\;|\\:')\n",
        "  if (pattern.match(w)):\n",
        "    return True\n",
        "  else:\n",
        "    return False"
      ],
      "metadata": {
        "id": "-WdKqcw06-go"
      },
      "execution_count": null,
      "outputs": []
    },
    {
      "cell_type": "code",
      "source": [
        "#apply the above function to testwords\n",
        "alphatestwords = [w for w in alphatestwords if not alpha_filter(w)]\n",
        "print(alphatestwords[:100])\n",
        "print(len(alphatestwords))\n",
        "\n",
        "#10% of the words gone!"
      ],
      "metadata": {
        "id": "w6FAj9s56-Wj",
        "colab": {
          "base_uri": "https://localhost:8080/"
        },
        "outputId": "2ace9b6c-f369-4afb-9c22-a4ac7febea9b"
      },
      "execution_count": null,
      "outputs": [
        {
          "output_type": "stream",
          "name": "stdout",
          "text": [
            "['a', 'series', 'of', 'escapades', 'demonstrating', 'the', 'adage', 'that', 'what', 'is', 'good', 'for', 'the', 'goose', 'is', 'also', 'good', 'for', 'the', 'gander', 'some', 'of', 'which', 'occasionally', 'amuses', 'but', 'none', 'of', 'which', 'amounts', 'to', 'much', 'of', 'a', 'story', 'series', 'of', 'escapades', 'demonstrating', 'the', 'adage', 'that', 'what', 'is', 'good', 'for', 'the', 'goosea', 'seriesaseriesof', 'escapades', 'demonstrating', 'the', 'adage', 'that', 'what', 'is', 'good', 'for', 'the', 'gooseofescapades', 'demonstrating', 'the', 'adage', 'that', 'what', 'is', 'good', 'for', 'the', 'gooseescapadesdemonstrating', 'the', 'adage', 'that', 'what', 'is', 'good', 'for', 'the', 'goosedemonstrating', 'the', 'adagedemonstratingthe', 'adagetheadagethat', 'what', 'is', 'good', 'for', 'the', 'goosethatwhat', 'is', 'good', 'for', 'the', 'goosewhatis', 'good', 'for', 'the', 'gooseisgood', 'for', 'the', 'goosegoodfor']\n",
            "904479\n"
          ]
        }
      ]
    },
    {
      "cell_type": "code",
      "source": [
        "#get a list of stopwords from nltk\n",
        "nltkstopwords = nltk.corpus.stopwords.words('english')\n",
        "print(len(nltkstopwords))\n",
        "print(nltkstopwords)"
      ],
      "metadata": {
        "colab": {
          "base_uri": "https://localhost:8080/"
        },
        "id": "iANDSF6utk9i",
        "outputId": "b5e4261a-67aa-4cc1-f4fd-ed14db081bc7"
      },
      "execution_count": null,
      "outputs": [
        {
          "output_type": "stream",
          "name": "stdout",
          "text": [
            "179\n",
            "['i', 'me', 'my', 'myself', 'we', 'our', 'ours', 'ourselves', 'you', \"you're\", \"you've\", \"you'll\", \"you'd\", 'your', 'yours', 'yourself', 'yourselves', 'he', 'him', 'his', 'himself', 'she', \"she's\", 'her', 'hers', 'herself', 'it', \"it's\", 'its', 'itself', 'they', 'them', 'their', 'theirs', 'themselves', 'what', 'which', 'who', 'whom', 'this', 'that', \"that'll\", 'these', 'those', 'am', 'is', 'are', 'was', 'were', 'be', 'been', 'being', 'have', 'has', 'had', 'having', 'do', 'does', 'did', 'doing', 'a', 'an', 'the', 'and', 'but', 'if', 'or', 'because', 'as', 'until', 'while', 'of', 'at', 'by', 'for', 'with', 'about', 'against', 'between', 'into', 'through', 'during', 'before', 'after', 'above', 'below', 'to', 'from', 'up', 'down', 'in', 'out', 'on', 'off', 'over', 'under', 'again', 'further', 'then', 'once', 'here', 'there', 'when', 'where', 'why', 'how', 'all', 'any', 'both', 'each', 'few', 'more', 'most', 'other', 'some', 'such', 'no', 'nor', 'not', 'only', 'own', 'same', 'so', 'than', 'too', 'very', 's', 't', 'can', 'will', 'just', 'don', \"don't\", 'should', \"should've\", 'now', 'd', 'll', 'm', 'o', 're', 've', 'y', 'ain', 'aren', \"aren't\", 'couldn', \"couldn't\", 'didn', \"didn't\", 'doesn', \"doesn't\", 'hadn', \"hadn't\", 'hasn', \"hasn't\", 'haven', \"haven't\", 'isn', \"isn't\", 'ma', 'mightn', \"mightn't\", 'mustn', \"mustn't\", 'needn', \"needn't\", 'shan', \"shan't\", 'shouldn', \"shouldn't\", 'wasn', \"wasn't\", 'weren', \"weren't\", 'won', \"won't\", 'wouldn', \"wouldn't\"]\n"
          ]
        }
      ]
    },
    {
      "cell_type": "code",
      "source": [
        "stoppedtestwords = [w for w in alphatestwords if not w in nltkstopwords]\n",
        "print(len(stoppedtestwords))\n",
        "\n",
        "#a total of 335,889 characters removed after non-alphabetical and stopwords removed"
      ],
      "metadata": {
        "colab": {
          "base_uri": "https://localhost:8080/"
        },
        "id": "5AWOXsCLt2lL",
        "outputId": "2623bc4c-8606-4aa7-fd03-259b393376e7"
      },
      "execution_count": null,
      "outputs": [
        {
          "output_type": "stream",
          "name": "stdout",
          "text": [
            "568580\n"
          ]
        }
      ]
    },
    {
      "cell_type": "code",
      "source": [
        "#Test list for a better frequency distribution\n",
        "testdist = FreqDist(stoppedtestwords)\n",
        "testitems = testdist.most_common(30)\n",
        "for item in testitems:\n",
        "  print(item)\n",
        "\n",
        "  ##okay so there is still things that need to be removed\n",
        "  #example \"'s\" and \"-lrb-\""
      ],
      "metadata": {
        "colab": {
          "base_uri": "https://localhost:8080/"
        },
        "id": "F33x0JUNuxIt",
        "outputId": "ffff2755-9df3-4593-ae48-3790e45417dd"
      },
      "execution_count": null,
      "outputs": [
        {
          "output_type": "stream",
          "name": "stdout",
          "text": [
            "(\"'s\", 15696)\n",
            "('film', 5053)\n",
            "('movie', 4435)\n",
            "(\"n't\", 3867)\n",
            "('one', 2612)\n",
            "('like', 2398)\n",
            "('story', 1737)\n",
            "('good', 1683)\n",
            "('much', 1566)\n",
            "('-rrb-', 1530)\n",
            "('-lrb-', 1496)\n",
            "('characters', 1344)\n",
            "('little', 1340)\n",
            "('even', 1255)\n",
            "('funny', 1132)\n",
            "('time', 1117)\n",
            "('new', 1112)\n",
            "('way', 1104)\n",
            "('make', 1088)\n",
            "('comedy', 1045)\n",
            "('love', 1004)\n",
            "('bad', 994)\n",
            "('us', 964)\n",
            "('enough', 954)\n",
            "('never', 942)\n",
            "('many', 941)\n",
            "('life', 937)\n",
            "('movies', 916)\n",
            "('best', 897)\n",
            "('something', 895)\n"
          ]
        }
      ]
    },
    {
      "cell_type": "code",
      "source": [
        "morestopwords = ['could','would','might','must','need','sha','wo','y',\"'s\",\"'d\",\"'ll\",\"'t\",\"'m\",\"'re\",\"'ve\", \"n't\", \"-rrb-\", \"-lrb-\", \"like\"]"
      ],
      "metadata": {
        "id": "UyFCIny_sddR"
      },
      "execution_count": null,
      "outputs": []
    },
    {
      "cell_type": "code",
      "source": [
        "stopwords = nltkstopwords + morestopwords\n",
        "print(len(stopwords))\n",
        "print(stopwords)"
      ],
      "metadata": {
        "id": "L6YPnMcWsksX",
        "colab": {
          "base_uri": "https://localhost:8080/"
        },
        "outputId": "78497dbd-ad71-4873-aecf-dba6d236ede3"
      },
      "execution_count": null,
      "outputs": [
        {
          "output_type": "stream",
          "name": "stdout",
          "text": [
            "198\n",
            "['i', 'me', 'my', 'myself', 'we', 'our', 'ours', 'ourselves', 'you', \"you're\", \"you've\", \"you'll\", \"you'd\", 'your', 'yours', 'yourself', 'yourselves', 'he', 'him', 'his', 'himself', 'she', \"she's\", 'her', 'hers', 'herself', 'it', \"it's\", 'its', 'itself', 'they', 'them', 'their', 'theirs', 'themselves', 'what', 'which', 'who', 'whom', 'this', 'that', \"that'll\", 'these', 'those', 'am', 'is', 'are', 'was', 'were', 'be', 'been', 'being', 'have', 'has', 'had', 'having', 'do', 'does', 'did', 'doing', 'a', 'an', 'the', 'and', 'but', 'if', 'or', 'because', 'as', 'until', 'while', 'of', 'at', 'by', 'for', 'with', 'about', 'against', 'between', 'into', 'through', 'during', 'before', 'after', 'above', 'below', 'to', 'from', 'up', 'down', 'in', 'out', 'on', 'off', 'over', 'under', 'again', 'further', 'then', 'once', 'here', 'there', 'when', 'where', 'why', 'how', 'all', 'any', 'both', 'each', 'few', 'more', 'most', 'other', 'some', 'such', 'no', 'nor', 'not', 'only', 'own', 'same', 'so', 'than', 'too', 'very', 's', 't', 'can', 'will', 'just', 'don', \"don't\", 'should', \"should've\", 'now', 'd', 'll', 'm', 'o', 're', 've', 'y', 'ain', 'aren', \"aren't\", 'couldn', \"couldn't\", 'didn', \"didn't\", 'doesn', \"doesn't\", 'hadn', \"hadn't\", 'hasn', \"hasn't\", 'haven', \"haven't\", 'isn', \"isn't\", 'ma', 'mightn', \"mightn't\", 'mustn', \"mustn't\", 'needn', \"needn't\", 'shan', \"shan't\", 'shouldn', \"shouldn't\", 'wasn', \"wasn't\", 'weren', \"weren't\", 'won', \"won't\", 'wouldn', \"wouldn't\", 'could', 'would', 'might', 'must', 'need', 'sha', 'wo', 'y', \"'s\", \"'d\", \"'ll\", \"'t\", \"'m\", \"'re\", \"'ve\", \"n't\", '-rrb-', '-lrb-', 'like']\n"
          ]
        }
      ]
    },
    {
      "cell_type": "code",
      "source": [
        "stoppedtestwords = [w for w in alphatestwords if not w in stopwords]\n",
        "print(len(stoppedtestwords))"
      ],
      "metadata": {
        "id": "jBRvRQAmskiO",
        "colab": {
          "base_uri": "https://localhost:8080/"
        },
        "outputId": "76ebdc85-dd03-47ec-8a88-6101289081c4"
      },
      "execution_count": null,
      "outputs": [
        {
          "output_type": "stream",
          "name": "stdout",
          "text": [
            "538488\n"
          ]
        }
      ]
    },
    {
      "cell_type": "code",
      "source": [
        "#Test list for a better frequency distribution\n",
        "testdist = FreqDist(stoppedtestwords)\n",
        "testitems = testdist.most_common(100)\n",
        "for item in testitems:\n",
        "  print(item)"
      ],
      "metadata": {
        "id": "IjYZVfI2ska5",
        "colab": {
          "base_uri": "https://localhost:8080/"
        },
        "outputId": "1a83e540-e20b-4f9b-cc5d-ea8eb7839824"
      },
      "execution_count": null,
      "outputs": [
        {
          "output_type": "stream",
          "name": "stdout",
          "text": [
            "('film', 5053)\n",
            "('movie', 4435)\n",
            "('one', 2612)\n",
            "('story', 1737)\n",
            "('good', 1683)\n",
            "('much', 1566)\n",
            "('characters', 1344)\n",
            "('little', 1340)\n",
            "('even', 1255)\n",
            "('funny', 1132)\n",
            "('time', 1117)\n",
            "('new', 1112)\n",
            "('way', 1104)\n",
            "('make', 1088)\n",
            "('comedy', 1045)\n",
            "('love', 1004)\n",
            "('bad', 994)\n",
            "('us', 964)\n",
            "('enough', 954)\n",
            "('never', 942)\n",
            "('many', 941)\n",
            "('life', 937)\n",
            "('movies', 916)\n",
            "('best', 897)\n",
            "('something', 895)\n",
            "('two', 829)\n",
            "('well', 805)\n",
            "('action', 797)\n",
            "('director', 796)\n",
            "('work', 791)\n",
            "('character', 777)\n",
            "('made', 771)\n",
            "('see', 767)\n",
            "('people', 762)\n",
            "('really', 756)\n",
            "('makes', 747)\n",
            "('better', 731)\n",
            "('without', 730)\n",
            "('may', 724)\n",
            "('plot', 723)\n",
            "('great', 711)\n",
            "('first', 709)\n",
            "('every', 685)\n",
            "('world', 680)\n",
            "('big', 672)\n",
            "('long', 659)\n",
            "('ever', 654)\n",
            "('sense', 653)\n",
            "('look', 649)\n",
            "('still', 634)\n",
            "('real', 628)\n",
            "('human', 625)\n",
            "('feel', 618)\n",
            "('audience', 618)\n",
            "('hollywood', 615)\n",
            "('get', 606)\n",
            "('kind', 600)\n",
            "('films', 584)\n",
            "('man', 583)\n",
            "('old', 583)\n",
            "('another', 571)\n",
            "('also', 564)\n",
            "('rather', 564)\n",
            "('often', 557)\n",
            "('nothing', 551)\n",
            "('young', 551)\n",
            "('emotional', 544)\n",
            "('far', 541)\n",
            "('american', 536)\n",
            "('drama', 523)\n",
            "('things', 523)\n",
            "('seen', 517)\n",
            "('less', 514)\n",
            "('interesting', 506)\n",
            "('back', 501)\n",
            "('almost', 500)\n",
            "('fun', 498)\n",
            "('acting', 497)\n",
            "('minutes', 496)\n",
            "('lot', 495)\n",
            "('cast', 494)\n",
            "('family', 494)\n",
            "('humor', 486)\n",
            "('original', 469)\n",
            "('full', 468)\n",
            "('romantic', 467)\n",
            "('right', 466)\n",
            "('performances', 462)\n",
            "('quite', 459)\n",
            "('find', 457)\n",
            "('hard', 455)\n",
            "('screen', 452)\n",
            "('watch', 447)\n",
            "('script', 443)\n",
            "('entertaining', 440)\n",
            "('go', 439)\n",
            "('end', 439)\n",
            "('come', 435)\n",
            "('yet', 430)\n",
            "('moments', 423)\n"
          ]
        }
      ]
    },
    {
      "cell_type": "code",
      "source": [
        "stoppedtestwords[:10]"
      ],
      "metadata": {
        "id": "1A5469aR52Py",
        "colab": {
          "base_uri": "https://localhost:8080/"
        },
        "outputId": "cb499a80-5669-4f7b-d354-9c29dc84d7cd"
      },
      "execution_count": 125,
      "outputs": [
        {
          "output_type": "execute_result",
          "data": {
            "text/plain": [
              "['series',\n",
              " 'escapades',\n",
              " 'demonstrating',\n",
              " 'adage',\n",
              " 'good',\n",
              " 'goose',\n",
              " 'also',\n",
              " 'good',\n",
              " 'gander',\n",
              " 'occasionally']"
            ]
          },
          "metadata": {},
          "execution_count": 125
        }
      ]
    },
    {
      "cell_type": "code",
      "source": [
        "# define features (keywords) of a document for a BOW/unigram baseline\n",
        "# each feature is 'contains(keyword)' and is true or false depending\n",
        "# on whether that keyword is in the document\n",
        "def document_features(document, word_features):\n",
        "    document_words = set(document)\n",
        "    features = {}\n",
        "    for word in word_features:\n",
        "        features['V_{}'.format(word)] = (word in document_words)\n",
        "    return features"
      ],
      "metadata": {
        "id": "uUhCHWvI52M4"
      },
      "execution_count": 126,
      "outputs": []
    },
    {
      "cell_type": "code",
      "source": [
        "# get features sets for a document, including keyword features and category feature\n",
        "featuresets = [(document_features(d, stoppedtestwords), c) for (d, c) in documents]"
      ],
      "metadata": {
        "id": "A0pXzjT652KQ",
        "colab": {
          "base_uri": "https://localhost:8080/",
          "height": 184
        },
        "outputId": "bbf3c671-e6b2-43da-f3a6-d2ae90d19d43"
      },
      "execution_count": 127,
      "outputs": [
        {
          "output_type": "error",
          "ename": "NameError",
          "evalue": "ignored",
          "traceback": [
            "\u001b[0;31m---------------------------------------------------------------------------\u001b[0m",
            "\u001b[0;31mNameError\u001b[0m                                 Traceback (most recent call last)",
            "\u001b[0;32m<ipython-input-127-f06dfb95933b>\u001b[0m in \u001b[0;36m<module>\u001b[0;34m()\u001b[0m\n\u001b[1;32m      1\u001b[0m \u001b[0;31m# get features sets for a document, including keyword features and category feature\u001b[0m\u001b[0;34m\u001b[0m\u001b[0;34m\u001b[0m\u001b[0;34m\u001b[0m\u001b[0m\n\u001b[0;32m----> 2\u001b[0;31m \u001b[0mfeaturesets\u001b[0m \u001b[0;34m=\u001b[0m \u001b[0;34m[\u001b[0m\u001b[0;34m(\u001b[0m\u001b[0mdocument_features\u001b[0m\u001b[0;34m(\u001b[0m\u001b[0md\u001b[0m\u001b[0;34m,\u001b[0m \u001b[0mstoppedtestwords\u001b[0m\u001b[0;34m)\u001b[0m\u001b[0;34m,\u001b[0m \u001b[0mc\u001b[0m\u001b[0;34m)\u001b[0m \u001b[0;32mfor\u001b[0m \u001b[0;34m(\u001b[0m\u001b[0md\u001b[0m\u001b[0;34m,\u001b[0m \u001b[0mc\u001b[0m\u001b[0;34m)\u001b[0m \u001b[0;32min\u001b[0m \u001b[0mdocuments\u001b[0m\u001b[0;34m]\u001b[0m\u001b[0;34m\u001b[0m\u001b[0;34m\u001b[0m\u001b[0m\n\u001b[0m",
            "\u001b[0;31mNameError\u001b[0m: name 'documents' is not defined"
          ]
        }
      ]
    },
    {
      "cell_type": "code",
      "source": [
        ""
      ],
      "metadata": {
        "id": "UFgw3aNU52Hh"
      },
      "execution_count": null,
      "outputs": []
    },
    {
      "cell_type": "code",
      "source": [
        ""
      ],
      "metadata": {
        "id": "1SI4RrMd52Eq"
      },
      "execution_count": null,
      "outputs": []
    },
    {
      "cell_type": "code",
      "source": [
        ""
      ],
      "metadata": {
        "id": "wvAGbVkE519X"
      },
      "execution_count": null,
      "outputs": []
    },
    {
      "cell_type": "code",
      "source": [
        ""
      ],
      "metadata": {
        "id": "c39u5sJ0516y"
      },
      "execution_count": null,
      "outputs": []
    },
    {
      "cell_type": "markdown",
      "source": [
        "# Importing .py Files"
      ],
      "metadata": {
        "id": "3soj9YmaNcf4"
      }
    },
    {
      "cell_type": "code",
      "source": [
        ""
      ],
      "metadata": {
        "id": "MVouFzraskRw"
      },
      "execution_count": null,
      "outputs": []
    },
    {
      "cell_type": "code",
      "source": [
        ""
      ],
      "metadata": {
        "id": "RrlCG3GTskGj"
      },
      "execution_count": null,
      "outputs": []
    },
    {
      "cell_type": "code",
      "source": [
        ""
      ],
      "metadata": {
        "id": "ek6ie5wOsj64"
      },
      "execution_count": null,
      "outputs": []
    },
    {
      "cell_type": "code",
      "source": [
        ""
      ],
      "metadata": {
        "id": "rZxNclOgsjyA"
      },
      "execution_count": null,
      "outputs": []
    },
    {
      "cell_type": "code",
      "source": [
        ""
      ],
      "metadata": {
        "id": "4V9dFCOgsjh5"
      },
      "execution_count": null,
      "outputs": []
    },
    {
      "cell_type": "markdown",
      "source": [
        "# NLP"
      ],
      "metadata": {
        "id": "pe0YfXggCqwr"
      }
    },
    {
      "cell_type": "code",
      "source": [
        "py_path = '/content/drive/MyDrive/IST 664 Project - DL/kagglemoviereviews/'\n",
        "\n",
        "import sys  \n",
        "sys.path.insert(0, py_path)"
      ],
      "metadata": {
        "id": "zdOd-fsRNFqK"
      },
      "execution_count": 129,
      "outputs": []
    },
    {
      "cell_type": "code",
      "source": [
        "from classifyKaggle import processkaggle\n",
        "from sentiment_read_subjectivity import readSubjectivity\n",
        "from sentiment_read_subjectivity import read_subjectivity_three_types\n",
        "from sentiment_read_LIWC_pos_neg_words import read_words"
      ],
      "metadata": {
        "id": "hAShXnjPPLho"
      },
      "execution_count": 140,
      "outputs": []
    },
    {
      "cell_type": "code",
      "source": [
        ""
      ],
      "metadata": {
        "id": "MCwzJCU8yFQ2"
      },
      "execution_count": null,
      "outputs": []
    },
    {
      "cell_type": "markdown",
      "source": [
        "## Process Kaggle"
      ],
      "metadata": {
        "id": "T7C7ytFLXA7w"
      }
    },
    {
      "cell_type": "code",
      "source": [
        "phrase_data = processkaggle(data_path, 156060)\n",
        "phrase_data[:3]"
      ],
      "metadata": {
        "id": "Pxfx5RlJKF-t",
        "colab": {
          "base_uri": "https://localhost:8080/"
        },
        "outputId": "7ce65a77-5a8f-40bb-9d4f-386bee57f585"
      },
      "execution_count": 135,
      "outputs": [
        {
          "output_type": "stream",
          "name": "stdout",
          "text": [
            "Read 156060 phrases, using 156060 random phrases\n",
            "['in which Adam Sandler will probably ever appear', '2']\n",
            "['of its fans', '2']\n",
            "['Crispin', '2']\n",
            "[\"you 've never come within a mile of The Longest Yard\", '1']\n",
            "[\"the George Pal version of H.G. Wells ' ` The Time\", '2']\n",
            "['remarkably original', '4']\n",
            "['that asks you to not only suspend your disbelief but your intelligence as well', '1']\n",
            "['a Jerry Bruckheimer', '2']\n",
            "[\"can not guess why the cast and crew did n't sign a pact to burn the negative and the script and pretend the whole thing never existed .\", '0']\n",
            "['his fan base', '2']\n",
            "(['in', 'which', 'Adam', 'Sandler', 'will', 'probably', 'ever', 'appear'], 2)\n",
            "(['of', 'its', 'fans'], 2)\n",
            "(['Crispin'], 2)\n",
            "(['you', \"'ve\", 'never', 'come', 'within', 'a', 'mile', 'of', 'The', 'Longest', 'Yard'], 1)\n",
            "(['the', 'George', 'Pal', 'version', 'of', 'H.G', '.', 'Wells', \"'\", '`', 'The', 'Time'], 2)\n",
            "(['remarkably', 'original'], 4)\n",
            "(['that', 'asks', 'you', 'to', 'not', 'only', 'suspend', 'your', 'disbelief', 'but', 'your', 'intelligence', 'as', 'well'], 1)\n",
            "(['a', 'Jerry', 'Bruckheimer'], 2)\n",
            "(['can', 'not', 'guess', 'why', 'the', 'cast', 'and', 'crew', 'did', \"n't\", 'sign', 'a', 'pact', 'to', 'burn', 'the', 'negative', 'and', 'the', 'script', 'and', 'pretend', 'the', 'whole', 'thing', 'never', 'existed', '.'], 0)\n",
            "(['his', 'fan', 'base'], 2)\n"
          ]
        },
        {
          "output_type": "execute_result",
          "data": {
            "text/plain": [
              "[(['in', 'which', 'Adam', 'Sandler', 'will', 'probably', 'ever', 'appear'], 2),\n",
              " (['of', 'its', 'fans'], 2),\n",
              " (['Crispin'], 2)]"
            ]
          },
          "metadata": {},
          "execution_count": 135
        }
      ]
    },
    {
      "cell_type": "code",
      "source": [
        "read_words(stoppedtestwords)"
      ],
      "metadata": {
        "colab": {
          "base_uri": "https://localhost:8080/",
          "height": 166
        },
        "id": "qtY5dakquHNf",
        "outputId": "058ddc4e-0ce5-4516-d041-f4ad1a96333f"
      },
      "execution_count": 145,
      "outputs": [
        {
          "output_type": "error",
          "ename": "TypeError",
          "evalue": "ignored",
          "traceback": [
            "\u001b[0;31m---------------------------------------------------------------------------\u001b[0m",
            "\u001b[0;31mTypeError\u001b[0m                                 Traceback (most recent call last)",
            "\u001b[0;32m<ipython-input-145-55ee8cef6f06>\u001b[0m in \u001b[0;36m<module>\u001b[0;34m()\u001b[0m\n\u001b[0;32m----> 1\u001b[0;31m \u001b[0mread_words\u001b[0m\u001b[0;34m(\u001b[0m\u001b[0mstoppedtestwords\u001b[0m\u001b[0;34m[\u001b[0m\u001b[0;36m1\u001b[0m\u001b[0;34m]\u001b[0m\u001b[0;34m)\u001b[0m\u001b[0;34m\u001b[0m\u001b[0;34m\u001b[0m\u001b[0m\n\u001b[0m",
            "\u001b[0;31mTypeError\u001b[0m: read_words() takes 0 positional arguments but 1 was given"
          ]
        }
      ]
    },
    {
      "cell_type": "code",
      "source": [
        ""
      ],
      "metadata": {
        "id": "QiDQfAEMzl6H"
      },
      "execution_count": null,
      "outputs": []
    }
  ]
}